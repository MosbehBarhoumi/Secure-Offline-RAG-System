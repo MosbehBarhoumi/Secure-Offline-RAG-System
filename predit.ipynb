{
 "cells": [
  {
   "cell_type": "code",
   "execution_count": 1,
   "id": "3e43e436",
   "metadata": {
    "_cell_guid": "b1076dfc-b9ad-4769-8c92-a6c4dae69d19",
    "_uuid": "8f2839f25d086af736a60e9eeb907d3b93b6e0e5",
    "execution": {
     "iopub.execute_input": "2024-10-24T11:00:00.941318Z",
     "iopub.status.busy": "2024-10-24T11:00:00.940929Z",
     "iopub.status.idle": "2024-10-24T11:00:42.030068Z",
     "shell.execute_reply": "2024-10-24T11:00:42.029151Z"
    },
    "papermill": {
     "duration": 41.096074,
     "end_time": "2024-10-24T11:00:42.032309",
     "exception": false,
     "start_time": "2024-10-24T11:00:00.936235",
     "status": "completed"
    },
    "tags": []
   },
   "outputs": [
    {
     "name": "stdout",
     "output_type": "stream",
     "text": [
      "Collecting faiss-cpu==1.7.3\r\n",
      "  Downloading faiss_cpu-1.7.3-cp310-cp310-manylinux_2_17_x86_64.manylinux2014_x86_64.whl.metadata (1.3 kB)\r\n",
      "Collecting requests==2.31.0\r\n",
      "  Downloading requests-2.31.0-py3-none-any.whl.metadata (4.6 kB)\r\n",
      "Collecting pandas==2.1.1\r\n",
      "  Downloading pandas-2.1.1-cp310-cp310-manylinux_2_17_x86_64.manylinux2014_x86_64.whl.metadata (18 kB)\r\n",
      "Collecting json5==0.9.11\r\n",
      "  Downloading json5-0.9.11-py2.py3-none-any.whl.metadata (10.0 kB)\r\n",
      "Collecting numpy==1.24.4\r\n",
      "  Downloading numpy-1.24.4-cp310-cp310-manylinux_2_17_x86_64.manylinux2014_x86_64.whl.metadata (5.6 kB)\r\n",
      "Collecting huggingface_hub==0.24.7\r\n",
      "  Downloading huggingface_hub-0.24.7-py3-none-any.whl.metadata (13 kB)\r\n",
      "Collecting langchain\r\n",
      "  Downloading langchain-0.3.4-py3-none-any.whl.metadata (7.1 kB)\r\n",
      "Collecting streamlit\r\n",
      "  Downloading streamlit-1.39.0-py2.py3-none-any.whl.metadata (8.5 kB)\r\n",
      "Collecting langchain-community\r\n",
      "  Downloading langchain_community-0.3.3-py3-none-any.whl.metadata (2.8 kB)\r\n",
      "Requirement already satisfied: charset-normalizer<4,>=2 in /opt/conda/lib/python3.10/site-packages (from requests==2.31.0) (3.3.2)\r\n",
      "Requirement already satisfied: idna<4,>=2.5 in /opt/conda/lib/python3.10/site-packages (from requests==2.31.0) (3.7)\r\n",
      "Requirement already satisfied: urllib3<3,>=1.21.1 in /opt/conda/lib/python3.10/site-packages (from requests==2.31.0) (1.26.18)\r\n",
      "Requirement already satisfied: certifi>=2017.4.17 in /opt/conda/lib/python3.10/site-packages (from requests==2.31.0) (2024.8.30)\r\n",
      "Requirement already satisfied: python-dateutil>=2.8.2 in /opt/conda/lib/python3.10/site-packages (from pandas==2.1.1) (2.9.0.post0)\r\n",
      "Requirement already satisfied: pytz>=2020.1 in /opt/conda/lib/python3.10/site-packages (from pandas==2.1.1) (2024.1)\r\n",
      "Requirement already satisfied: tzdata>=2022.1 in /opt/conda/lib/python3.10/site-packages (from pandas==2.1.1) (2024.1)\r\n",
      "Requirement already satisfied: filelock in /opt/conda/lib/python3.10/site-packages (from huggingface_hub==0.24.7) (3.15.1)\r\n",
      "Requirement already satisfied: fsspec>=2023.5.0 in /opt/conda/lib/python3.10/site-packages (from huggingface_hub==0.24.7) (2024.6.1)\r\n",
      "Requirement already satisfied: packaging>=20.9 in /opt/conda/lib/python3.10/site-packages (from huggingface_hub==0.24.7) (21.3)\r\n",
      "Requirement already satisfied: pyyaml>=5.1 in /opt/conda/lib/python3.10/site-packages (from huggingface_hub==0.24.7) (6.0.2)\r\n",
      "Requirement already satisfied: tqdm>=4.42.1 in /opt/conda/lib/python3.10/site-packages (from huggingface_hub==0.24.7) (4.66.4)\r\n",
      "Requirement already satisfied: typing-extensions>=3.7.4.3 in /opt/conda/lib/python3.10/site-packages (from huggingface_hub==0.24.7) (4.12.2)\r\n",
      "Requirement already satisfied: SQLAlchemy<3,>=1.4 in /opt/conda/lib/python3.10/site-packages (from langchain) (2.0.30)\r\n",
      "Requirement already satisfied: aiohttp<4.0.0,>=3.8.3 in /opt/conda/lib/python3.10/site-packages (from langchain) (3.9.5)\r\n",
      "Requirement already satisfied: async-timeout<5.0.0,>=4.0.0 in /opt/conda/lib/python3.10/site-packages (from langchain) (4.0.3)\r\n",
      "Collecting langchain-core<0.4.0,>=0.3.12 (from langchain)\r\n",
      "  Downloading langchain_core-0.3.12-py3-none-any.whl.metadata (6.3 kB)\r\n",
      "Collecting langchain-text-splitters<0.4.0,>=0.3.0 (from langchain)\r\n",
      "  Downloading langchain_text_splitters-0.3.0-py3-none-any.whl.metadata (2.3 kB)\r\n",
      "Collecting langsmith<0.2.0,>=0.1.17 (from langchain)\r\n",
      "  Downloading langsmith-0.1.137-py3-none-any.whl.metadata (13 kB)\r\n",
      "Requirement already satisfied: pydantic<3.0.0,>=2.7.4 in /opt/conda/lib/python3.10/site-packages (from langchain) (2.9.2)\r\n",
      "Requirement already satisfied: tenacity!=8.4.0,<10,>=8.1.0 in /opt/conda/lib/python3.10/site-packages (from langchain) (8.3.0)\r\n",
      "Requirement already satisfied: altair<6,>=4.0 in /opt/conda/lib/python3.10/site-packages (from streamlit) (5.4.1)\r\n",
      "Requirement already satisfied: blinker<2,>=1.0.0 in /opt/conda/lib/python3.10/site-packages (from streamlit) (1.8.2)\r\n",
      "Requirement already satisfied: cachetools<6,>=4.0 in /opt/conda/lib/python3.10/site-packages (from streamlit) (4.2.4)\r\n",
      "Requirement already satisfied: click<9,>=7.0 in /opt/conda/lib/python3.10/site-packages (from streamlit) (8.1.7)\r\n",
      "Requirement already satisfied: pillow<11,>=7.1.0 in /opt/conda/lib/python3.10/site-packages (from streamlit) (10.3.0)\r\n",
      "Requirement already satisfied: protobuf<6,>=3.20 in /opt/conda/lib/python3.10/site-packages (from streamlit) (3.20.3)\r\n",
      "Requirement already satisfied: pyarrow>=7.0 in /opt/conda/lib/python3.10/site-packages (from streamlit) (16.1.0)\r\n",
      "Requirement already satisfied: rich<14,>=10.14.0 in /opt/conda/lib/python3.10/site-packages (from streamlit) (13.7.1)\r\n",
      "Requirement already satisfied: toml<2,>=0.10.1 in /opt/conda/lib/python3.10/site-packages (from streamlit) (0.10.2)\r\n",
      "Requirement already satisfied: gitpython!=3.1.19,<4,>=3.0.7 in /opt/conda/lib/python3.10/site-packages (from streamlit) (3.1.43)\r\n",
      "Collecting pydeck<1,>=0.8.0b4 (from streamlit)\r\n",
      "  Downloading pydeck-0.9.1-py2.py3-none-any.whl.metadata (4.1 kB)\r\n",
      "Requirement already satisfied: tornado<7,>=6.0.3 in /opt/conda/lib/python3.10/site-packages (from streamlit) (6.4.1)\r\n",
      "Requirement already satisfied: watchdog<6,>=2.1.5 in /opt/conda/lib/python3.10/site-packages (from streamlit) (5.0.3)\r\n",
      "Requirement already satisfied: dataclasses-json<0.7,>=0.5.7 in /opt/conda/lib/python3.10/site-packages (from langchain-community) (0.6.7)\r\n",
      "Collecting pydantic-settings<3.0.0,>=2.4.0 (from langchain-community)\r\n",
      "  Downloading pydantic_settings-2.6.0-py3-none-any.whl.metadata (3.5 kB)\r\n",
      "Requirement already satisfied: aiosignal>=1.1.2 in /opt/conda/lib/python3.10/site-packages (from aiohttp<4.0.0,>=3.8.3->langchain) (1.3.1)\r\n",
      "Requirement already satisfied: attrs>=17.3.0 in /opt/conda/lib/python3.10/site-packages (from aiohttp<4.0.0,>=3.8.3->langchain) (23.2.0)\r\n",
      "Requirement already satisfied: frozenlist>=1.1.1 in /opt/conda/lib/python3.10/site-packages (from aiohttp<4.0.0,>=3.8.3->langchain) (1.4.1)\r\n",
      "Requirement already satisfied: multidict<7.0,>=4.5 in /opt/conda/lib/python3.10/site-packages (from aiohttp<4.0.0,>=3.8.3->langchain) (6.0.5)\r\n",
      "Requirement already satisfied: yarl<2.0,>=1.0 in /opt/conda/lib/python3.10/site-packages (from aiohttp<4.0.0,>=3.8.3->langchain) (1.9.4)\r\n",
      "Requirement already satisfied: jinja2 in /opt/conda/lib/python3.10/site-packages (from altair<6,>=4.0->streamlit) (3.1.4)\r\n",
      "Requirement already satisfied: jsonschema>=3.0 in /opt/conda/lib/python3.10/site-packages (from altair<6,>=4.0->streamlit) (4.22.0)\r\n",
      "Requirement already satisfied: narwhals>=1.5.2 in /opt/conda/lib/python3.10/site-packages (from altair<6,>=4.0->streamlit) (1.9.0)\r\n",
      "Requirement already satisfied: marshmallow<4.0.0,>=3.18.0 in /opt/conda/lib/python3.10/site-packages (from dataclasses-json<0.7,>=0.5.7->langchain-community) (3.22.0)\r\n",
      "Requirement already satisfied: typing-inspect<1,>=0.4.0 in /opt/conda/lib/python3.10/site-packages (from dataclasses-json<0.7,>=0.5.7->langchain-community) (0.9.0)\r\n",
      "Requirement already satisfied: gitdb<5,>=4.0.1 in /opt/conda/lib/python3.10/site-packages (from gitpython!=3.1.19,<4,>=3.0.7->streamlit) (4.0.11)\r\n",
      "Requirement already satisfied: jsonpatch<2.0,>=1.33 in /opt/conda/lib/python3.10/site-packages (from langchain-core<0.4.0,>=0.3.12->langchain) (1.33)\r\n",
      "Collecting packaging>=20.9 (from huggingface_hub==0.24.7)\r\n",
      "  Downloading packaging-24.1-py3-none-any.whl.metadata (3.2 kB)\r\n",
      "Requirement already satisfied: httpx<1,>=0.23.0 in /opt/conda/lib/python3.10/site-packages (from langsmith<0.2.0,>=0.1.17->langchain) (0.27.0)\r\n",
      "Requirement already satisfied: orjson<4.0.0,>=3.9.14 in /opt/conda/lib/python3.10/site-packages (from langsmith<0.2.0,>=0.1.17->langchain) (3.10.4)\r\n",
      "Collecting requests-toolbelt<2.0.0,>=1.0.0 (from langsmith<0.2.0,>=0.1.17->langchain)\r\n",
      "  Downloading requests_toolbelt-1.0.0-py2.py3-none-any.whl.metadata (14 kB)\r\n",
      "Requirement already satisfied: annotated-types>=0.6.0 in /opt/conda/lib/python3.10/site-packages (from pydantic<3.0.0,>=2.7.4->langchain) (0.7.0)\r\n",
      "Requirement already satisfied: pydantic-core==2.23.4 in /opt/conda/lib/python3.10/site-packages (from pydantic<3.0.0,>=2.7.4->langchain) (2.23.4)\r\n",
      "Requirement already satisfied: python-dotenv>=0.21.0 in /opt/conda/lib/python3.10/site-packages (from pydantic-settings<3.0.0,>=2.4.0->langchain-community) (1.0.1)\r\n",
      "Requirement already satisfied: six>=1.5 in /opt/conda/lib/python3.10/site-packages (from python-dateutil>=2.8.2->pandas==2.1.1) (1.16.0)\r\n",
      "Requirement already satisfied: markdown-it-py>=2.2.0 in /opt/conda/lib/python3.10/site-packages (from rich<14,>=10.14.0->streamlit) (3.0.0)\r\n",
      "Requirement already satisfied: pygments<3.0.0,>=2.13.0 in /opt/conda/lib/python3.10/site-packages (from rich<14,>=10.14.0->streamlit) (2.18.0)\r\n",
      "Requirement already satisfied: greenlet!=0.4.17 in /opt/conda/lib/python3.10/site-packages (from SQLAlchemy<3,>=1.4->langchain) (3.0.3)\r\n",
      "Requirement already satisfied: smmap<6,>=3.0.1 in /opt/conda/lib/python3.10/site-packages (from gitdb<5,>=4.0.1->gitpython!=3.1.19,<4,>=3.0.7->streamlit) (5.0.1)\r\n",
      "Requirement already satisfied: anyio in /opt/conda/lib/python3.10/site-packages (from httpx<1,>=0.23.0->langsmith<0.2.0,>=0.1.17->langchain) (4.4.0)\r\n",
      "Requirement already satisfied: httpcore==1.* in /opt/conda/lib/python3.10/site-packages (from httpx<1,>=0.23.0->langsmith<0.2.0,>=0.1.17->langchain) (1.0.5)\r\n",
      "Requirement already satisfied: sniffio in /opt/conda/lib/python3.10/site-packages (from httpx<1,>=0.23.0->langsmith<0.2.0,>=0.1.17->langchain) (1.3.1)\r\n",
      "Requirement already satisfied: h11<0.15,>=0.13 in /opt/conda/lib/python3.10/site-packages (from httpcore==1.*->httpx<1,>=0.23.0->langsmith<0.2.0,>=0.1.17->langchain) (0.14.0)\r\n",
      "Requirement already satisfied: MarkupSafe>=2.0 in /opt/conda/lib/python3.10/site-packages (from jinja2->altair<6,>=4.0->streamlit) (2.1.5)\r\n",
      "Requirement already satisfied: jsonpointer>=1.9 in /opt/conda/lib/python3.10/site-packages (from jsonpatch<2.0,>=1.33->langchain-core<0.4.0,>=0.3.12->langchain) (2.4)\r\n",
      "Requirement already satisfied: jsonschema-specifications>=2023.03.6 in /opt/conda/lib/python3.10/site-packages (from jsonschema>=3.0->altair<6,>=4.0->streamlit) (2023.12.1)\r\n",
      "Requirement already satisfied: referencing>=0.28.4 in /opt/conda/lib/python3.10/site-packages (from jsonschema>=3.0->altair<6,>=4.0->streamlit) (0.35.1)\r\n",
      "Requirement already satisfied: rpds-py>=0.7.1 in /opt/conda/lib/python3.10/site-packages (from jsonschema>=3.0->altair<6,>=4.0->streamlit) (0.18.1)\r\n",
      "Requirement already satisfied: mdurl~=0.1 in /opt/conda/lib/python3.10/site-packages (from markdown-it-py>=2.2.0->rich<14,>=10.14.0->streamlit) (0.1.2)\r\n",
      "Requirement already satisfied: mypy-extensions>=0.3.0 in /opt/conda/lib/python3.10/site-packages (from typing-inspect<1,>=0.4.0->dataclasses-json<0.7,>=0.5.7->langchain-community) (1.0.0)\r\n",
      "Requirement already satisfied: exceptiongroup>=1.0.2 in /opt/conda/lib/python3.10/site-packages (from anyio->httpx<1,>=0.23.0->langsmith<0.2.0,>=0.1.17->langchain) (1.2.0)\r\n",
      "Downloading faiss_cpu-1.7.3-cp310-cp310-manylinux_2_17_x86_64.manylinux2014_x86_64.whl (17.0 MB)\r\n",
      "\u001b[2K   \u001b[90m━━━━━━━━━━━━━━━━━━━━━━━━━━━━━━━━━━━━━━━━\u001b[0m \u001b[32m17.0/17.0 MB\u001b[0m \u001b[31m79.5 MB/s\u001b[0m eta \u001b[36m0:00:00\u001b[0m\r\n",
      "\u001b[?25hDownloading requests-2.31.0-py3-none-any.whl (62 kB)\r\n",
      "\u001b[2K   \u001b[90m━━━━━━━━━━━━━━━━━━━━━━━━━━━━━━━━━━━━━━━━\u001b[0m \u001b[32m62.6/62.6 kB\u001b[0m \u001b[31m2.8 MB/s\u001b[0m eta \u001b[36m0:00:00\u001b[0m\r\n",
      "\u001b[?25hDownloading pandas-2.1.1-cp310-cp310-manylinux_2_17_x86_64.manylinux2014_x86_64.whl (12.3 MB)\r\n",
      "\u001b[2K   \u001b[90m━━━━━━━━━━━━━━━━━━━━━━━━━━━━━━━━━━━━━━━━\u001b[0m \u001b[32m12.3/12.3 MB\u001b[0m \u001b[31m91.5 MB/s\u001b[0m eta \u001b[36m0:00:00\u001b[0m\r\n",
      "\u001b[?25hDownloading json5-0.9.11-py2.py3-none-any.whl (19 kB)\r\n",
      "Downloading numpy-1.24.4-cp310-cp310-manylinux_2_17_x86_64.manylinux2014_x86_64.whl (17.3 MB)\r\n",
      "\u001b[2K   \u001b[90m━━━━━━━━━━━━━━━━━━━━━━━━━━━━━━━━━━━━━━━━\u001b[0m \u001b[32m17.3/17.3 MB\u001b[0m \u001b[31m81.5 MB/s\u001b[0m eta \u001b[36m0:00:00\u001b[0m\r\n",
      "\u001b[?25hDownloading huggingface_hub-0.24.7-py3-none-any.whl (417 kB)\r\n",
      "\u001b[2K   \u001b[90m━━━━━━━━━━━━━━━━━━━━━━━━━━━━━━━━━━━━━━━━\u001b[0m \u001b[32m417.5/417.5 kB\u001b[0m \u001b[31m23.0 MB/s\u001b[0m eta \u001b[36m0:00:00\u001b[0m\r\n",
      "\u001b[?25hDownloading langchain-0.3.4-py3-none-any.whl (1.0 MB)\r\n",
      "\u001b[2K   \u001b[90m━━━━━━━━━━━━━━━━━━━━━━━━━━━━━━━━━━━━━━━━\u001b[0m \u001b[32m1.0/1.0 MB\u001b[0m \u001b[31m37.9 MB/s\u001b[0m eta \u001b[36m0:00:00\u001b[0m\r\n",
      "\u001b[?25hDownloading streamlit-1.39.0-py2.py3-none-any.whl (8.7 MB)\r\n",
      "\u001b[2K   \u001b[90m━━━━━━━━━━━━━━━━━━━━━━━━━━━━━━━━━━━━━━━━\u001b[0m \u001b[32m8.7/8.7 MB\u001b[0m \u001b[31m88.0 MB/s\u001b[0m eta \u001b[36m0:00:00\u001b[0m\r\n",
      "\u001b[?25hDownloading langchain_community-0.3.3-py3-none-any.whl (2.4 MB)\r\n",
      "\u001b[2K   \u001b[90m━━━━━━━━━━━━━━━━━━━━━━━━━━━━━━━━━━━━━━━━\u001b[0m \u001b[32m2.4/2.4 MB\u001b[0m \u001b[31m63.1 MB/s\u001b[0m eta \u001b[36m0:00:00\u001b[0m\r\n",
      "\u001b[?25hDownloading langchain_core-0.3.12-py3-none-any.whl (407 kB)\r\n",
      "\u001b[2K   \u001b[90m━━━━━━━━━━━━━━━━━━━━━━━━━━━━━━━━━━━━━━━━\u001b[0m \u001b[32m407.7/407.7 kB\u001b[0m \u001b[31m22.2 MB/s\u001b[0m eta \u001b[36m0:00:00\u001b[0m\r\n",
      "\u001b[?25hDownloading langchain_text_splitters-0.3.0-py3-none-any.whl (25 kB)\r\n",
      "Downloading langsmith-0.1.137-py3-none-any.whl (296 kB)\r\n",
      "\u001b[2K   \u001b[90m━━━━━━━━━━━━━━━━━━━━━━━━━━━━━━━━━━━━━━━━\u001b[0m \u001b[32m296.9/296.9 kB\u001b[0m \u001b[31m16.2 MB/s\u001b[0m eta \u001b[36m0:00:00\u001b[0m\r\n",
      "\u001b[?25hDownloading packaging-24.1-py3-none-any.whl (53 kB)\r\n",
      "\u001b[2K   \u001b[90m━━━━━━━━━━━━━━━━━━━━━━━━━━━━━━━━━━━━━━━━\u001b[0m \u001b[32m54.0/54.0 kB\u001b[0m \u001b[31m2.4 MB/s\u001b[0m eta \u001b[36m0:00:00\u001b[0m\r\n",
      "\u001b[?25hDownloading pydantic_settings-2.6.0-py3-none-any.whl (28 kB)\r\n",
      "Downloading pydeck-0.9.1-py2.py3-none-any.whl (6.9 MB)\r\n",
      "\u001b[2K   \u001b[90m━━━━━━━━━━━━━━━━━━━━━━━━━━━━━━━━━━━━━━━━\u001b[0m \u001b[32m6.9/6.9 MB\u001b[0m \u001b[31m82.9 MB/s\u001b[0m eta \u001b[36m0:00:00\u001b[0m\r\n",
      "\u001b[?25hDownloading requests_toolbelt-1.0.0-py2.py3-none-any.whl (54 kB)\r\n",
      "\u001b[2K   \u001b[90m━━━━━━━━━━━━━━━━━━━━━━━━━━━━━━━━━━━━━━━━\u001b[0m \u001b[32m54.5/54.5 kB\u001b[0m \u001b[31m2.4 MB/s\u001b[0m eta \u001b[36m0:00:00\u001b[0m\r\n",
      "\u001b[?25hInstalling collected packages: json5, faiss-cpu, requests, packaging, numpy, requests-toolbelt, pydeck, pandas, huggingface_hub, pydantic-settings, langsmith, langchain-core, streamlit, langchain-text-splitters, langchain, langchain-community\r\n",
      "  Attempting uninstall: json5\r\n",
      "    Found existing installation: json5 0.9.25\r\n",
      "    Uninstalling json5-0.9.25:\r\n",
      "      Successfully uninstalled json5-0.9.25\r\n",
      "  Attempting uninstall: requests\r\n",
      "    Found existing installation: requests 2.32.3\r\n",
      "    Uninstalling requests-2.32.3:\r\n",
      "      Successfully uninstalled requests-2.32.3\r\n",
      "  Attempting uninstall: packaging\r\n",
      "    Found existing installation: packaging 21.3\r\n",
      "    Uninstalling packaging-21.3:\r\n",
      "      Successfully uninstalled packaging-21.3\r\n",
      "  Attempting uninstall: numpy\r\n",
      "    Found existing installation: numpy 1.26.4\r\n",
      "    Uninstalling numpy-1.26.4:\r\n",
      "      Successfully uninstalled numpy-1.26.4\r\n",
      "  Attempting uninstall: requests-toolbelt\r\n",
      "    Found existing installation: requests-toolbelt 0.10.1\r\n",
      "    Uninstalling requests-toolbelt-0.10.1:\r\n",
      "      Successfully uninstalled requests-toolbelt-0.10.1\r\n",
      "  Attempting uninstall: pandas\r\n",
      "    Found existing installation: pandas 2.2.2\r\n",
      "    Uninstalling pandas-2.2.2:\r\n",
      "      Successfully uninstalled pandas-2.2.2\r\n",
      "  Attempting uninstall: huggingface_hub\r\n",
      "    Found existing installation: huggingface-hub 0.25.1\r\n",
      "    Uninstalling huggingface-hub-0.25.1:\r\n",
      "      Successfully uninstalled huggingface-hub-0.25.1\r\n",
      "\u001b[31mERROR: pip's dependency resolver does not currently take into account all the packages that are installed. This behaviour is the source of the following dependency conflicts.\r\n",
      "cudf 24.8.3 requires cubinlinker, which is not installed.\r\n",
      "cudf 24.8.3 requires cupy-cuda11x>=12.0.0, which is not installed.\r\n",
      "cudf 24.8.3 requires ptxcompiler, which is not installed.\r\n",
      "cuml 24.8.0 requires cupy-cuda11x>=12.0.0, which is not installed.\r\n",
      "dask-cudf 24.8.3 requires cupy-cuda11x>=12.0.0, which is not installed.\r\n",
      "ucxx 0.39.1 requires libucx>=1.15.0, which is not installed.\r\n",
      "apache-beam 2.46.0 requires cloudpickle~=2.2.1, but you have cloudpickle 3.0.0 which is incompatible.\r\n",
      "apache-beam 2.46.0 requires dill<0.3.2,>=0.3.1.1, but you have dill 0.3.8 which is incompatible.\r\n",
      "apache-beam 2.46.0 requires pyarrow<10.0.0,>=3.0.0, but you have pyarrow 16.1.0 which is incompatible.\r\n",
      "bayesian-optimization 1.5.1 requires numpy>=1.25, but you have numpy 1.24.4 which is incompatible.\r\n",
      "beatrix-jupyterlab 2024.66.154055 requires jupyterlab~=3.6.0, but you have jupyterlab 4.2.5 which is incompatible.\r\n",
      "bigframes 0.22.0 requires google-cloud-bigquery[bqstorage,pandas]>=3.10.0, but you have google-cloud-bigquery 2.34.4 which is incompatible.\r\n",
      "bigframes 0.22.0 requires google-cloud-storage>=2.0.0, but you have google-cloud-storage 1.44.0 which is incompatible.\r\n",
      "cesium 0.12.3 requires numpy<3.0,>=2.0, but you have numpy 1.24.4 which is incompatible.\r\n",
      "cudf 24.8.3 requires cuda-python<12.0a0,>=11.7.1, but you have cuda-python 12.6.0 which is incompatible.\r\n",
      "dataproc-jupyter-plugin 0.1.79 requires pydantic~=1.10.0, but you have pydantic 2.9.2 which is incompatible.\r\n",
      "datasets 3.0.1 requires requests>=2.32.2, but you have requests 2.31.0 which is incompatible.\r\n",
      "distributed 2024.7.1 requires dask==2024.7.1, but you have dask 2024.9.1 which is incompatible.\r\n",
      "featuretools 1.31.0 requires numpy>=1.25.0, but you have numpy 1.24.4 which is incompatible.\r\n",
      "gensim 4.3.3 requires scipy<1.14.0,>=1.7.0, but you have scipy 1.14.1 which is incompatible.\r\n",
      "google-cloud-aiplatform 0.6.0a1 requires google-api-core[grpc]<2.0.0dev,>=1.22.2, but you have google-api-core 2.11.1 which is incompatible.\r\n",
      "google-cloud-automl 1.0.1 requires google-api-core[grpc]<2.0.0dev,>=1.14.0, but you have google-api-core 2.11.1 which is incompatible.\r\n",
      "google-cloud-bigquery 2.34.4 requires packaging<22.0dev,>=14.3, but you have packaging 24.1 which is incompatible.\r\n",
      "ibis-framework 7.1.0 requires pyarrow<15,>=2, but you have pyarrow 16.1.0 which is incompatible.\r\n",
      "jupyterlab 4.2.5 requires jupyter-lsp>=2.0.0, but you have jupyter-lsp 1.5.1 which is incompatible.\r\n",
      "jupyterlab-lsp 5.1.0 requires jupyter-lsp>=2.0.0, but you have jupyter-lsp 1.5.1 which is incompatible.\r\n",
      "kfp 2.5.0 requires google-cloud-storage<3,>=2.2.1, but you have google-cloud-storage 1.44.0 which is incompatible.\r\n",
      "kfp 2.5.0 requires requests-toolbelt<1,>=0.8.0, but you have requests-toolbelt 1.0.0 which is incompatible.\r\n",
      "libpysal 4.9.2 requires shapely>=2.0.1, but you have shapely 1.8.5.post1 which is incompatible.\r\n",
      "rapids-dask-dependency 24.8.0a0 requires dask==2024.7.1, but you have dask 2024.9.1 which is incompatible.\r\n",
      "rmm 24.8.2 requires cuda-python<12.0a0,>=11.7.1, but you have cuda-python 12.6.0 which is incompatible.\r\n",
      "woodwork 0.31.0 requires numpy>=1.25.0, but you have numpy 1.24.4 which is incompatible.\r\n",
      "ydata-profiling 4.10.0 requires scipy<1.14,>=1.4.1, but you have scipy 1.14.1 which is incompatible.\u001b[0m\u001b[31m\r\n",
      "\u001b[0mSuccessfully installed faiss-cpu-1.7.3 huggingface_hub-0.24.7 json5-0.9.11 langchain-0.3.4 langchain-community-0.3.3 langchain-core-0.3.12 langchain-text-splitters-0.3.0 langsmith-0.1.137 numpy-1.24.4 packaging-24.1 pandas-2.1.1 pydantic-settings-2.6.0 pydeck-0.9.1 requests-2.31.0 requests-toolbelt-1.0.0 streamlit-1.39.0\r\n"
     ]
    }
   ],
   "source": [
    "!pip install  faiss-cpu==1.7.3 requests==2.31.0 pandas==2.1.1 json5==0.9.11 numpy==1.24.4 huggingface_hub==0.24.7 langchain streamlit langchain-community"
   ]
  },
  {
   "cell_type": "code",
   "execution_count": 2,
   "id": "a80e7084",
   "metadata": {
    "execution": {
     "iopub.execute_input": "2024-10-24T11:00:42.054643Z",
     "iopub.status.busy": "2024-10-24T11:00:42.054321Z",
     "iopub.status.idle": "2024-10-24T11:00:54.411397Z",
     "shell.execute_reply": "2024-10-24T11:00:54.410480Z"
    },
    "papermill": {
     "duration": 12.371126,
     "end_time": "2024-10-24T11:00:54.413723",
     "exception": false,
     "start_time": "2024-10-24T11:00:42.042597",
     "status": "completed"
    },
    "tags": []
   },
   "outputs": [
    {
     "name": "stdout",
     "output_type": "stream",
     "text": [
      "Collecting sentence-transformers\r\n",
      "  Downloading sentence_transformers-3.2.1-py3-none-any.whl.metadata (10 kB)\r\n",
      "Requirement already satisfied: transformers<5.0.0,>=4.41.0 in /opt/conda/lib/python3.10/site-packages (from sentence-transformers) (4.45.1)\r\n",
      "Requirement already satisfied: tqdm in /opt/conda/lib/python3.10/site-packages (from sentence-transformers) (4.66.4)\r\n",
      "Requirement already satisfied: torch>=1.11.0 in /opt/conda/lib/python3.10/site-packages (from sentence-transformers) (2.4.0)\r\n",
      "Requirement already satisfied: scikit-learn in /opt/conda/lib/python3.10/site-packages (from sentence-transformers) (1.2.2)\r\n",
      "Requirement already satisfied: scipy in /opt/conda/lib/python3.10/site-packages (from sentence-transformers) (1.14.1)\r\n",
      "Requirement already satisfied: huggingface-hub>=0.20.0 in /opt/conda/lib/python3.10/site-packages (from sentence-transformers) (0.24.7)\r\n",
      "Requirement already satisfied: Pillow in /opt/conda/lib/python3.10/site-packages (from sentence-transformers) (10.3.0)\r\n",
      "Requirement already satisfied: filelock in /opt/conda/lib/python3.10/site-packages (from huggingface-hub>=0.20.0->sentence-transformers) (3.15.1)\r\n",
      "Requirement already satisfied: fsspec>=2023.5.0 in /opt/conda/lib/python3.10/site-packages (from huggingface-hub>=0.20.0->sentence-transformers) (2024.6.1)\r\n",
      "Requirement already satisfied: packaging>=20.9 in /opt/conda/lib/python3.10/site-packages (from huggingface-hub>=0.20.0->sentence-transformers) (24.1)\r\n",
      "Requirement already satisfied: pyyaml>=5.1 in /opt/conda/lib/python3.10/site-packages (from huggingface-hub>=0.20.0->sentence-transformers) (6.0.2)\r\n",
      "Requirement already satisfied: requests in /opt/conda/lib/python3.10/site-packages (from huggingface-hub>=0.20.0->sentence-transformers) (2.31.0)\r\n",
      "Requirement already satisfied: typing-extensions>=3.7.4.3 in /opt/conda/lib/python3.10/site-packages (from huggingface-hub>=0.20.0->sentence-transformers) (4.12.2)\r\n",
      "Requirement already satisfied: sympy in /opt/conda/lib/python3.10/site-packages (from torch>=1.11.0->sentence-transformers) (1.13.3)\r\n",
      "Requirement already satisfied: networkx in /opt/conda/lib/python3.10/site-packages (from torch>=1.11.0->sentence-transformers) (3.3)\r\n",
      "Requirement already satisfied: jinja2 in /opt/conda/lib/python3.10/site-packages (from torch>=1.11.0->sentence-transformers) (3.1.4)\r\n",
      "Requirement already satisfied: numpy>=1.17 in /opt/conda/lib/python3.10/site-packages (from transformers<5.0.0,>=4.41.0->sentence-transformers) (1.24.4)\r\n",
      "Requirement already satisfied: regex!=2019.12.17 in /opt/conda/lib/python3.10/site-packages (from transformers<5.0.0,>=4.41.0->sentence-transformers) (2024.5.15)\r\n",
      "Requirement already satisfied: safetensors>=0.4.1 in /opt/conda/lib/python3.10/site-packages (from transformers<5.0.0,>=4.41.0->sentence-transformers) (0.4.5)\r\n",
      "Requirement already satisfied: tokenizers<0.21,>=0.20 in /opt/conda/lib/python3.10/site-packages (from transformers<5.0.0,>=4.41.0->sentence-transformers) (0.20.0)\r\n",
      "Requirement already satisfied: joblib>=1.1.1 in /opt/conda/lib/python3.10/site-packages (from scikit-learn->sentence-transformers) (1.4.2)\r\n",
      "Requirement already satisfied: threadpoolctl>=2.0.0 in /opt/conda/lib/python3.10/site-packages (from scikit-learn->sentence-transformers) (3.5.0)\r\n",
      "Requirement already satisfied: MarkupSafe>=2.0 in /opt/conda/lib/python3.10/site-packages (from jinja2->torch>=1.11.0->sentence-transformers) (2.1.5)\r\n",
      "Requirement already satisfied: charset-normalizer<4,>=2 in /opt/conda/lib/python3.10/site-packages (from requests->huggingface-hub>=0.20.0->sentence-transformers) (3.3.2)\r\n",
      "Requirement already satisfied: idna<4,>=2.5 in /opt/conda/lib/python3.10/site-packages (from requests->huggingface-hub>=0.20.0->sentence-transformers) (3.7)\r\n",
      "Requirement already satisfied: urllib3<3,>=1.21.1 in /opt/conda/lib/python3.10/site-packages (from requests->huggingface-hub>=0.20.0->sentence-transformers) (1.26.18)\r\n",
      "Requirement already satisfied: certifi>=2017.4.17 in /opt/conda/lib/python3.10/site-packages (from requests->huggingface-hub>=0.20.0->sentence-transformers) (2024.8.30)\r\n",
      "Requirement already satisfied: mpmath<1.4,>=1.1.0 in /opt/conda/lib/python3.10/site-packages (from sympy->torch>=1.11.0->sentence-transformers) (1.3.0)\r\n",
      "Downloading sentence_transformers-3.2.1-py3-none-any.whl (255 kB)\r\n",
      "\u001b[2K   \u001b[90m━━━━━━━━━━━━━━━━━━━━━━━━━━━━━━━━━━━━━━━━\u001b[0m \u001b[32m255.8/255.8 kB\u001b[0m \u001b[31m3.6 MB/s\u001b[0m eta \u001b[36m0:00:00\u001b[0m\r\n",
      "\u001b[?25hInstalling collected packages: sentence-transformers\r\n",
      "Successfully installed sentence-transformers-3.2.1\r\n"
     ]
    }
   ],
   "source": [
    "!pip install --upgrade sentence-transformers"
   ]
  },
  {
   "cell_type": "code",
   "execution_count": 3,
   "id": "bc017644",
   "metadata": {
    "execution": {
     "iopub.execute_input": "2024-10-24T11:00:54.438505Z",
     "iopub.status.busy": "2024-10-24T11:00:54.438182Z",
     "iopub.status.idle": "2024-10-24T11:01:21.756704Z",
     "shell.execute_reply": "2024-10-24T11:01:21.755778Z"
    },
    "papermill": {
     "duration": 27.3326,
     "end_time": "2024-10-24T11:01:21.758698",
     "exception": false,
     "start_time": "2024-10-24T11:00:54.426098",
     "status": "completed"
    },
    "tags": []
   },
   "outputs": [
    {
     "name": "stdout",
     "output_type": "stream",
     "text": [
      ">>> Installing ollama to /usr/local\r\n",
      ">>> Downloading Linux amd64 bundle\r\n",
      "######################################################################## 100.0%\r\n",
      ">>> Creating ollama user...\r\n",
      ">>> Adding ollama user to video group...\r\n",
      ">>> Adding current user to ollama group...\r\n",
      ">>> Creating ollama systemd service...\r\n",
      ">>> NVIDIA GPU installed.\r\n",
      ">>> The Ollama API is now available at 127.0.0.1:11434.\r\n",
      ">>> Install complete. Run \"ollama\" from the command line.\r\n"
     ]
    }
   ],
   "source": [
    "!curl -fsSL https://ollama.com/install.sh | sh"
   ]
  },
  {
   "cell_type": "code",
   "execution_count": 4,
   "id": "9b543b45",
   "metadata": {
    "execution": {
     "iopub.execute_input": "2024-10-24T11:01:21.821612Z",
     "iopub.status.busy": "2024-10-24T11:01:21.821285Z",
     "iopub.status.idle": "2024-10-24T11:01:21.825601Z",
     "shell.execute_reply": "2024-10-24T11:01:21.824805Z"
    },
    "papermill": {
     "duration": 0.03745,
     "end_time": "2024-10-24T11:01:21.827460",
     "exception": false,
     "start_time": "2024-10-24T11:01:21.790010",
     "status": "completed"
    },
    "tags": []
   },
   "outputs": [],
   "source": [
    "# To support background processes in Kaggle\n",
    "import os\n",
    "get_ipython().system = os.system"
   ]
  },
  {
   "cell_type": "code",
   "execution_count": 5,
   "id": "3c8ed4cd",
   "metadata": {
    "execution": {
     "iopub.execute_input": "2024-10-24T11:01:21.889924Z",
     "iopub.status.busy": "2024-10-24T11:01:21.889648Z",
     "iopub.status.idle": "2024-10-24T11:01:21.899971Z",
     "shell.execute_reply": "2024-10-24T11:01:21.898985Z"
    },
    "papermill": {
     "duration": 0.043282,
     "end_time": "2024-10-24T11:01:21.902366",
     "exception": false,
     "start_time": "2024-10-24T11:01:21.859084",
     "status": "completed"
    },
    "tags": []
   },
   "outputs": [
    {
     "data": {
      "text/plain": [
       "0"
      ]
     },
     "execution_count": 5,
     "metadata": {},
     "output_type": "execute_result"
    }
   ],
   "source": [
    "!ollama serve &"
   ]
  },
  {
   "cell_type": "code",
   "execution_count": 6,
   "id": "117fb5b4",
   "metadata": {
    "execution": {
     "iopub.execute_input": "2024-10-24T11:01:21.987660Z",
     "iopub.status.busy": "2024-10-24T11:01:21.987288Z",
     "iopub.status.idle": "2024-10-24T11:02:03.299629Z",
     "shell.execute_reply": "2024-10-24T11:02:03.298649Z"
    },
    "papermill": {
     "duration": 41.357917,
     "end_time": "2024-10-24T11:02:03.301584",
     "exception": false,
     "start_time": "2024-10-24T11:01:21.943667",
     "status": "completed"
    },
    "tags": []
   },
   "outputs": [
    {
     "name": "stderr",
     "output_type": "stream",
     "text": [
      "time=2024-10-24T11:01:38.213Z level=INFO source=common.go:49 msg=\"Dynamic LLM libraries\" runners=\"[cpu_avx cpu_avx2 cuda_v11 cuda_v12 rocm_v60102 cpu]\"\n",
      "time=2024-10-24T11:01:38.213Z level=INFO source=gpu.go:221 msg=\"looking for compatible GPUs\"\n",
      "time=2024-10-24T11:01:38.701Z level=INFO source=types.go:123 msg=\"inference compute\" id=GPU-4f60ee7a-e2cc-144d-fdfb-86ff6d39084d library=cuda variant=v12 compute=7.5 driver=12.4 name=\"Tesla T4\" total=\"14.7 GiB\" available=\"14.6 GiB\"\n",
      "time=2024-10-24T11:01:38.701Z level=INFO source=types.go:123 msg=\"inference compute\" id=GPU-72703770-490e-dbfd-28ac-eaf457c00f4d library=cuda variant=v12 compute=7.5 driver=12.4 name=\"Tesla T4\" total=\"14.7 GiB\" available=\"14.6 GiB\"\n",
      "\u001b[?25lpulling manifest ⠋ \u001b[?25h\u001b[?25l\u001b[2K\u001b[1Gpulling manifest ⠙ \u001b[?25h"
     ]
    },
    {
     "name": "stdout",
     "output_type": "stream",
     "text": [
      "[GIN] 2024/10/24 - 11:01:38 | 200 |      53.957µs |       127.0.0.1 | HEAD     \"/\"\n"
     ]
    },
    {
     "name": "stderr",
     "output_type": "stream",
     "text": [
      "\u001b[?25l\u001b[2K\u001b[1Gpulling manifest ⠹ \u001b[?25h\u001b[?25l\u001b[2K\u001b[1Gpulling manifest ⠸ \u001b[?25h\u001b[?25l\u001b[2K\u001b[1Gpulling manifest ⠼ \u001b[?25h\u001b[?25l\u001b[2K\u001b[1Gpulling manifest ⠴ \u001b[?25h\u001b[?25l\u001b[2K\u001b[1Gpulling manifest ⠦ \u001b[?25h\u001b[?25l\u001b[2K\u001b[1Gpulling manifest ⠧ \u001b[?25h\u001b[?25l\u001b[2K\u001b[1Gpulling manifest ⠇ \u001b[?25h\u001b[?25l\u001b[2K\u001b[1Gpulling manifest ⠏ \u001b[?25h\u001b[?25l\u001b[2K\u001b[1Gpulling manifest ⠋ \u001b[?25h\u001b[?25l\u001b[2K\u001b[1Gpulling manifest ⠙ \u001b[?25h\u001b[?25l\u001b[2K\u001b[1Gpulling manifest ⠹ \u001b[?25h\u001b[?25l\u001b[2K\u001b[1Gpulling manifest ⠸ \u001b[?25h\u001b[?25l\u001b[2K\u001b[1Gpulling manifest ⠼ \u001b[?25htime=2024-10-24T11:01:40.233Z level=INFO source=download.go:175 msg=\"downloading 5ee4f07cdb9b in 16 120 MB part(s)\"\n",
      "\u001b[?25l\u001b[2K\u001b[1Gpulling manifest \n",
      "pulling 5ee4f07cdb9b...   0% ▕                ▏    0 B/1.9 GB                  \u001b[?25h\u001b[?25l\u001b[2K\u001b[1G\u001b[A\u001b[2K\u001b[1Gpulling manifest \n",
      "pulling 5ee4f07cdb9b...   0% ▕                ▏    0 B/1.9 GB                  \u001b[?25h\u001b[?25l\u001b[2K\u001b[1G\u001b[A\u001b[2K\u001b[1Gpulling manifest \n",
      "pulling 5ee4f07cdb9b...   0% ▕                ▏ 2.3 MB/1.9 GB                  \u001b[?25h\u001b[?25l\u001b[2K\u001b[1G\u001b[A\u001b[2K\u001b[1Gpulling manifest \n",
      "pulling 5ee4f07cdb9b...   4% ▕                ▏  79 MB/1.9 GB                  \u001b[?25h\u001b[?25l\u001b[2K\u001b[1G\u001b[A\u001b[2K\u001b[1Gpulling manifest \n",
      "pulling 5ee4f07cdb9b...   7% ▕█               ▏ 125 MB/1.9 GB                  \u001b[?25h\u001b[?25l\u001b[2K\u001b[1G\u001b[A\u001b[2K\u001b[1Gpulling manifest \n",
      "pulling 5ee4f07cdb9b...  10% ▕█               ▏ 197 MB/1.9 GB                  \u001b[?25h\u001b[?25l\u001b[2K\u001b[1G\u001b[A\u001b[2K\u001b[1Gpulling manifest \n",
      "pulling 5ee4f07cdb9b...  15% ▕██              ▏ 291 MB/1.9 GB                  \u001b[?25h\u001b[?25l\u001b[2K\u001b[1G\u001b[A\u001b[2K\u001b[1Gpulling manifest \n",
      "pulling 5ee4f07cdb9b...  17% ▕██              ▏ 324 MB/1.9 GB                  \u001b[?25h\u001b[?25l\u001b[2K\u001b[1G\u001b[A\u001b[2K\u001b[1Gpulling manifest \n",
      "pulling 5ee4f07cdb9b...  22% ▕███             ▏ 426 MB/1.9 GB                  \u001b[?25h\u001b[?25l\u001b[2K\u001b[1G\u001b[A\u001b[2K\u001b[1Gpulling manifest \n",
      "pulling 5ee4f07cdb9b...  27% ▕████            ▏ 515 MB/1.9 GB                  \u001b[?25h\u001b[?25l\u001b[2K\u001b[1G\u001b[A\u001b[2K\u001b[1Gpulling manifest \n",
      "pulling 5ee4f07cdb9b...  29% ▕████            ▏ 555 MB/1.9 GB                  \u001b[?25h\u001b[?25l\u001b[2K\u001b[1G\u001b[A\u001b[2K\u001b[1Gpulling manifest \n",
      "pulling 5ee4f07cdb9b...  34% ▕█████           ▏ 648 MB/1.9 GB  599 MB/s      2s\u001b[?25h\u001b[?25l\u001b[2K\u001b[1G\u001b[A\u001b[2K\u001b[1Gpulling manifest \n",
      "pulling 5ee4f07cdb9b...  38% ▕██████          ▏ 727 MB/1.9 GB  599 MB/s      2s\u001b[?25h\u001b[?25l\u001b[2K\u001b[1G\u001b[A\u001b[2K\u001b[1Gpulling manifest \n",
      "pulling 5ee4f07cdb9b...  40% ▕██████          ▏ 773 MB/1.9 GB  599 MB/s      1s\u001b[?25h\u001b[?25l\u001b[2K\u001b[1G\u001b[A\u001b[2K\u001b[1Gpulling manifest \n",
      "pulling 5ee4f07cdb9b...  45% ▕███████         ▏ 874 MB/1.9 GB  599 MB/s      1s\u001b[?25h\u001b[?25l\u001b[2K\u001b[1G\u001b[A\u001b[2K\u001b[1Gpulling manifest \n",
      "pulling 5ee4f07cdb9b...  50% ▕████████        ▏ 973 MB/1.9 GB  599 MB/s      1s\u001b[?25h\u001b[?25l\u001b[2K\u001b[1G\u001b[A\u001b[2K\u001b[1Gpulling manifest \n",
      "pulling 5ee4f07cdb9b...  53% ▕████████        ▏ 1.0 GB/1.9 GB  599 MB/s      1s\u001b[?25h\u001b[?25l\u001b[2K\u001b[1G\u001b[A\u001b[2K\u001b[1Gpulling manifest \n",
      "pulling 5ee4f07cdb9b...  58% ▕█████████       ▏ 1.1 GB/1.9 GB  599 MB/s      1s\u001b[?25h\u001b[?25l\u001b[2K\u001b[1G\u001b[A\u001b[2K\u001b[1Gpulling manifest \n",
      "pulling 5ee4f07cdb9b...  63% ▕██████████      ▏ 1.2 GB/1.9 GB  599 MB/s      1s\u001b[?25h\u001b[?25l\u001b[2K\u001b[1G\u001b[A\u001b[2K\u001b[1Gpulling manifest \n",
      "pulling 5ee4f07cdb9b...  66% ▕██████████      ▏ 1.3 GB/1.9 GB  599 MB/s      1s\u001b[?25h\u001b[?25l\u001b[2K\u001b[1G\u001b[A\u001b[2K\u001b[1Gpulling manifest \n",
      "pulling 5ee4f07cdb9b...  72% ▕███████████     ▏ 1.4 GB/1.9 GB  599 MB/s      0s\u001b[?25h\u001b[?25l\u001b[2K\u001b[1G\u001b[A\u001b[2K\u001b[1Gpulling manifest \n",
      "pulling 5ee4f07cdb9b...  77% ▕████████████    ▏ 1.5 GB/1.9 GB  714 MB/s      0s\u001b[?25h\u001b[?25l\u001b[2K\u001b[1G\u001b[A\u001b[2K\u001b[1Gpulling manifest \n",
      "pulling 5ee4f07cdb9b...  80% ▕████████████    ▏ 1.5 GB/1.9 GB  714 MB/s      0s\u001b[?25h\u001b[?25l\u001b[2K\u001b[1G\u001b[A\u001b[2K\u001b[1Gpulling manifest \n",
      "pulling 5ee4f07cdb9b...  85% ▕█████████████   ▏ 1.6 GB/1.9 GB  714 MB/s      0s\u001b[?25h\u001b[?25l\u001b[2K\u001b[1G\u001b[A\u001b[2K\u001b[1Gpulling manifest \n",
      "pulling 5ee4f07cdb9b...  91% ▕██████████████  ▏ 1.7 GB/1.9 GB  714 MB/s      0s\u001b[?25h\u001b[?25l\u001b[2K\u001b[1G\u001b[A\u001b[2K\u001b[1Gpulling manifest \n",
      "pulling 5ee4f07cdb9b...  93% ▕██████████████  ▏ 1.8 GB/1.9 GB  714 MB/s      0s\u001b[?25h\u001b[?25l\u001b[2K\u001b[1G\u001b[A\u001b[2K\u001b[1Gpulling manifest \n",
      "pulling 5ee4f07cdb9b...  96% ▕███████████████ ▏ 1.9 GB/1.9 GB  714 MB/s      0s\u001b[?25h\u001b[?25l\u001b[2K\u001b[1G\u001b[A\u001b[2K\u001b[1Gpulling manifest \n",
      "pulling 5ee4f07cdb9b...  98% ▕███████████████ ▏ 1.9 GB/1.9 GB  714 MB/s      0s\u001b[?25h\u001b[?25l\u001b[2K\u001b[1G\u001b[A\u001b[2K\u001b[1Gpulling manifest \n",
      "pulling 5ee4f07cdb9b...  98% ▕███████████████ ▏ 1.9 GB/1.9 GB  714 MB/s      0s\u001b[?25h\u001b[?25l\u001b[2K\u001b[1G\u001b[A\u001b[2K\u001b[1Gpulling manifest \n",
      "pulling 5ee4f07cdb9b...  99% ▕███████████████ ▏ 1.9 GB/1.9 GB  714 MB/s      0s\u001b[?25h\u001b[?25l\u001b[2K\u001b[1G\u001b[A\u001b[2K\u001b[1Gpulling manifest \n",
      "pulling 5ee4f07cdb9b...  99% ▕███████████████ ▏ 1.9 GB/1.9 GB  714 MB/s      0s\u001b[?25h\u001b[?25l\u001b[2K\u001b[1G\u001b[A\u001b[2K\u001b[1Gpulling manifest \n",
      "pulling 5ee4f07cdb9b... 100% ▕███████████████ ▏ 1.9 GB/1.9 GB  641 MB/s      0s\u001b[?25h\u001b[?25l\u001b[2K\u001b[1G\u001b[A\u001b[2K\u001b[1Gpulling manifest \n",
      "pulling 5ee4f07cdb9b... 100% ▕████████████████▏ 1.9 GB                         \u001b[?25h\u001b[?25l\u001b[2K\u001b[1G\u001b[A\u001b[2K\u001b[1Gpulling manifest \n",
      "pulling 5ee4f07cdb9b... 100% ▕████████████████▏ 1.9 GB                         \u001b[?25h\u001b[?25l\u001b[2K\u001b[1G\u001b[A\u001b[2K\u001b[1Gpulling manifest \n",
      "pulling 5ee4f07cdb9b... 100% ▕████████████████▏ 1.9 GB                         \u001b[?25h\u001b[?25l\u001b[2K\u001b[1G\u001b[A\u001b[2K\u001b[1Gpulling manifest \n",
      "pulling 5ee4f07cdb9b... 100% ▕████████████████▏ 1.9 GB                         \u001b[?25h\u001b[?25l\u001b[2K\u001b[1G\u001b[A\u001b[2K\u001b[1Gpulling manifest \n",
      "pulling 5ee4f07cdb9b... 100% ▕████████████████▏ 1.9 GB                         \u001b[?25h\u001b[?25l\u001b[2K\u001b[1G\u001b[A\u001b[2K\u001b[1Gpulling manifest \n",
      "pulling 5ee4f07cdb9b... 100% ▕████████████████▏ 1.9 GB                         \u001b[?25h\u001b[?25l\u001b[2K\u001b[1G\u001b[A\u001b[2K\u001b[1Gpulling manifest \n",
      "pulling 5ee4f07cdb9b... 100% ▕████████████████▏ 1.9 GB                         \u001b[?25h\u001b[?25l\u001b[2K\u001b[1G\u001b[A\u001b[2K\u001b[1Gpulling manifest \n",
      "pulling 5ee4f07cdb9b... 100% ▕████████████████▏ 1.9 GB                         \u001b[?25h\u001b[?25l\u001b[2K\u001b[1G\u001b[A\u001b[2K\u001b[1Gpulling manifest \n",
      "pulling 5ee4f07cdb9b... 100% ▕████████████████▏ 1.9 GB                         \u001b[?25h\u001b[?25l\u001b[2K\u001b[1G\u001b[A\u001b[2K\u001b[1Gpulling manifest \n",
      "pulling 5ee4f07cdb9b... 100% ▕████████████████▏ 1.9 GB                         \u001b[?25h\u001b[?25l\u001b[2K\u001b[1G\u001b[A\u001b[2K\u001b[1Gpulling manifest \n",
      "pulling 5ee4f07cdb9b... 100% ▕████████████████▏ 1.9 GB                         \u001b[?25h\u001b[?25l\u001b[2K\u001b[1G\u001b[A\u001b[2K\u001b[1Gpulling manifest \n",
      "pulling 5ee4f07cdb9b... 100% ▕████████████████▏ 1.9 GB                         \u001b[?25h\u001b[?25l\u001b[2K\u001b[1G\u001b[A\u001b[2K\u001b[1Gpulling manifest \n",
      "pulling 5ee4f07cdb9b... 100% ▕████████████████▏ 1.9 GB                         \u001b[?25h\u001b[?25l\u001b[2K\u001b[1G\u001b[A\u001b[2K\u001b[1Gpulling manifest \n",
      "pulling 5ee4f07cdb9b... 100% ▕████████████████▏ 1.9 GB                         \u001b[?25h\u001b[?25l\u001b[2K\u001b[1G\u001b[A\u001b[2K\u001b[1Gpulling manifest \n",
      "pulling 5ee4f07cdb9b... 100% ▕████████████████▏ 1.9 GB                         \u001b[?25htime=2024-10-24T11:01:44.948Z level=INFO source=download.go:175 msg=\"downloading 66b9ea09bd5b in 1 68 B part(s)\"\n",
      "\u001b[?25l\u001b[2K\u001b[1G\u001b[A\u001b[2K\u001b[1Gpulling manifest \n",
      "pulling 5ee4f07cdb9b... 100% ▕████████████████▏ 1.9 GB                         \u001b[?25h\u001b[?25l\u001b[2K\u001b[1G\u001b[A\u001b[2K\u001b[1Gpulling manifest \n",
      "pulling 5ee4f07cdb9b... 100% ▕████████████████▏ 1.9 GB                         \n",
      "pulling 66b9ea09bd5b...   0% ▕                ▏    0 B/  68 B                  \u001b[?25h\u001b[?25l\u001b[2K\u001b[1G\u001b[A\u001b[2K\u001b[1G\u001b[A\u001b[2K\u001b[1Gpulling manifest \n",
      "pulling 5ee4f07cdb9b... 100% ▕████████████████▏ 1.9 GB                         \n",
      "pulling 66b9ea09bd5b... 100% ▕████████████████▏   68 B                         \u001b[?25h\u001b[?25l\u001b[2K\u001b[1G\u001b[A\u001b[2K\u001b[1G\u001b[A\u001b[2K\u001b[1Gpulling manifest \n",
      "pulling 5ee4f07cdb9b... 100% ▕████████████████▏ 1.9 GB                         \n",
      "pulling 66b9ea09bd5b... 100% ▕████████████████▏   68 B                         \u001b[?25h\u001b[?25l\u001b[2K\u001b[1G\u001b[A\u001b[2K\u001b[1G\u001b[A\u001b[2K\u001b[1Gpulling manifest \n",
      "pulling 5ee4f07cdb9b... 100% ▕████████████████▏ 1.9 GB                         \n",
      "pulling 66b9ea09bd5b... 100% ▕████████████████▏   68 B                         \u001b[?25h\u001b[?25l\u001b[2K\u001b[1G\u001b[A\u001b[2K\u001b[1G\u001b[A\u001b[2K\u001b[1Gpulling manifest \n",
      "pulling 5ee4f07cdb9b... 100% ▕████████████████▏ 1.9 GB                         \n",
      "pulling 66b9ea09bd5b... 100% ▕████████████████▏   68 B                         \u001b[?25h\u001b[?25l\u001b[2K\u001b[1G\u001b[A\u001b[2K\u001b[1G\u001b[A\u001b[2K\u001b[1Gpulling manifest \n",
      "pulling 5ee4f07cdb9b... 100% ▕████████████████▏ 1.9 GB                         \n",
      "pulling 66b9ea09bd5b... 100% ▕████████████████▏   68 B                         \u001b[?25h\u001b[?25l\u001b[2K\u001b[1G\u001b[A\u001b[2K\u001b[1G\u001b[A\u001b[2K\u001b[1Gpulling manifest \n",
      "pulling 5ee4f07cdb9b... 100% ▕████████████████▏ 1.9 GB                         \n",
      "pulling 66b9ea09bd5b... 100% ▕████████████████▏   68 B                         \u001b[?25h\u001b[?25l\u001b[2K\u001b[1G\u001b[A\u001b[2K\u001b[1G\u001b[A\u001b[2K\u001b[1Gpulling manifest \n",
      "pulling 5ee4f07cdb9b... 100% ▕████████████████▏ 1.9 GB                         \n",
      "pulling 66b9ea09bd5b... 100% ▕████████████████▏   68 B                         \u001b[?25h\u001b[?25l\u001b[2K\u001b[1G\u001b[A\u001b[2K\u001b[1G\u001b[A\u001b[2K\u001b[1Gpulling manifest \n",
      "pulling 5ee4f07cdb9b... 100% ▕████████████████▏ 1.9 GB                         \n",
      "pulling 66b9ea09bd5b... 100% ▕████████████████▏   68 B                         \u001b[?25h\u001b[?25l\u001b[2K\u001b[1G\u001b[A\u001b[2K\u001b[1G\u001b[A\u001b[2K\u001b[1Gpulling manifest \n",
      "pulling 5ee4f07cdb9b... 100% ▕████████████████▏ 1.9 GB                         \n",
      "pulling 66b9ea09bd5b... 100% ▕████████████████▏   68 B                         \u001b[?25h\u001b[?25l\u001b[2K\u001b[1G\u001b[A\u001b[2K\u001b[1G\u001b[A\u001b[2K\u001b[1Gpulling manifest \n",
      "pulling 5ee4f07cdb9b... 100% ▕████████████████▏ 1.9 GB                         \n",
      "pulling 66b9ea09bd5b... 100% ▕████████████████▏   68 B                         \u001b[?25h\u001b[?25l\u001b[2K\u001b[1G\u001b[A\u001b[2K\u001b[1G\u001b[A\u001b[2K\u001b[1Gpulling manifest \n",
      "pulling 5ee4f07cdb9b... 100% ▕████████████████▏ 1.9 GB                         \n",
      "pulling 66b9ea09bd5b... 100% ▕████████████████▏   68 B                         \u001b[?25h\u001b[?25l\u001b[2K\u001b[1G\u001b[A\u001b[2K\u001b[1G\u001b[A\u001b[2K\u001b[1Gpulling manifest \n",
      "pulling 5ee4f07cdb9b... 100% ▕████████████████▏ 1.9 GB                         \n",
      "pulling 66b9ea09bd5b... 100% ▕████████████████▏   68 B                         \u001b[?25h\u001b[?25l\u001b[2K\u001b[1G\u001b[A\u001b[2K\u001b[1G\u001b[A\u001b[2K\u001b[1Gpulling manifest \n",
      "pulling 5ee4f07cdb9b... 100% ▕████████████████▏ 1.9 GB                         \n",
      "pulling 66b9ea09bd5b... 100% ▕████████████████▏   68 B                         \u001b[?25h\u001b[?25l\u001b[2K\u001b[1G\u001b[A\u001b[2K\u001b[1G\u001b[A\u001b[2K\u001b[1Gpulling manifest \n",
      "pulling 5ee4f07cdb9b... 100% ▕████████████████▏ 1.9 GB                         \n",
      "pulling 66b9ea09bd5b... 100% ▕████████████████▏   68 B                         \u001b[?25h\u001b[?25l\u001b[2K\u001b[1G\u001b[A\u001b[2K\u001b[1G\u001b[A\u001b[2K\u001b[1Gpulling manifest \n",
      "pulling 5ee4f07cdb9b... 100% ▕████████████████▏ 1.9 GB                         \n",
      "pulling 66b9ea09bd5b... 100% ▕████████████████▏   68 B                         \u001b[?25htime=2024-10-24T11:01:46.692Z level=INFO source=download.go:175 msg=\"downloading eb4402837c78 in 1 1.5 KB part(s)\"\n",
      "\u001b[?25l\u001b[2K\u001b[1G\u001b[A\u001b[2K\u001b[1G\u001b[A\u001b[2K\u001b[1Gpulling manifest \n",
      "pulling 5ee4f07cdb9b... 100% ▕████████████████▏ 1.9 GB                         \n",
      "pulling 66b9ea09bd5b... 100% ▕████████████████▏   68 B                         \u001b[?25h\u001b[?25l\u001b[2K\u001b[1G\u001b[A\u001b[2K\u001b[1G\u001b[A\u001b[2K\u001b[1Gpulling manifest \n",
      "pulling 5ee4f07cdb9b... 100% ▕████████████████▏ 1.9 GB                         \n",
      "pulling 66b9ea09bd5b... 100% ▕████████████████▏   68 B                         \n",
      "pulling eb4402837c78...   0% ▕                ▏    0 B/1.5 KB                  \u001b[?25h\u001b[?25l\u001b[2K\u001b[1G\u001b[A\u001b[2K\u001b[1G\u001b[A\u001b[2K\u001b[1G\u001b[A\u001b[2K\u001b[1Gpulling manifest \n",
      "pulling 5ee4f07cdb9b... 100% ▕████████████████▏ 1.9 GB                         \n",
      "pulling 66b9ea09bd5b... 100% ▕████████████████▏   68 B                         \n",
      "pulling eb4402837c78... 100% ▕████████████████▏ 1.5 KB                         \u001b[?25h\u001b[?25l\u001b[2K\u001b[1G\u001b[A\u001b[2K\u001b[1G\u001b[A\u001b[2K\u001b[1G\u001b[A\u001b[2K\u001b[1Gpulling manifest \n",
      "pulling 5ee4f07cdb9b... 100% ▕████████████████▏ 1.9 GB                         \n",
      "pulling 66b9ea09bd5b... 100% ▕████████████████▏   68 B                         \n",
      "pulling eb4402837c78... 100% ▕████████████████▏ 1.5 KB                         \u001b[?25h\u001b[?25l\u001b[2K\u001b[1G\u001b[A\u001b[2K\u001b[1G\u001b[A\u001b[2K\u001b[1G\u001b[A\u001b[2K\u001b[1Gpulling manifest \n",
      "pulling 5ee4f07cdb9b... 100% ▕████████████████▏ 1.9 GB                         \n",
      "pulling 66b9ea09bd5b... 100% ▕████████████████▏   68 B                         \n",
      "pulling eb4402837c78... 100% ▕████████████████▏ 1.5 KB                         \u001b[?25h\u001b[?25l\u001b[2K\u001b[1G\u001b[A\u001b[2K\u001b[1G\u001b[A\u001b[2K\u001b[1G\u001b[A\u001b[2K\u001b[1Gpulling manifest \n",
      "pulling 5ee4f07cdb9b... 100% ▕████████████████▏ 1.9 GB                         \n",
      "pulling 66b9ea09bd5b... 100% ▕████████████████▏   68 B                         \n",
      "pulling eb4402837c78... 100% ▕████████████████▏ 1.5 KB                         \u001b[?25h\u001b[?25l\u001b[2K\u001b[1G\u001b[A\u001b[2K\u001b[1G\u001b[A\u001b[2K\u001b[1G\u001b[A\u001b[2K\u001b[1Gpulling manifest \n",
      "pulling 5ee4f07cdb9b... 100% ▕████████████████▏ 1.9 GB                         \n",
      "pulling 66b9ea09bd5b... 100% ▕████████████████▏   68 B                         \n",
      "pulling eb4402837c78... 100% ▕████████████████▏ 1.5 KB                         \u001b[?25h\u001b[?25l\u001b[2K\u001b[1G\u001b[A\u001b[2K\u001b[1G\u001b[A\u001b[2K\u001b[1G\u001b[A\u001b[2K\u001b[1Gpulling manifest \n",
      "pulling 5ee4f07cdb9b... 100% ▕████████████████▏ 1.9 GB                         \n",
      "pulling 66b9ea09bd5b... 100% ▕████████████████▏   68 B                         \n",
      "pulling eb4402837c78... 100% ▕████████████████▏ 1.5 KB                         \u001b[?25h\u001b[?25l\u001b[2K\u001b[1G\u001b[A\u001b[2K\u001b[1G\u001b[A\u001b[2K\u001b[1G\u001b[A\u001b[2K\u001b[1Gpulling manifest \n",
      "pulling 5ee4f07cdb9b... 100% ▕████████████████▏ 1.9 GB                         \n",
      "pulling 66b9ea09bd5b... 100% ▕████████████████▏   68 B                         \n",
      "pulling eb4402837c78... 100% ▕████████████████▏ 1.5 KB                         \u001b[?25h\u001b[?25l\u001b[2K\u001b[1G\u001b[A\u001b[2K\u001b[1G\u001b[A\u001b[2K\u001b[1G\u001b[A\u001b[2K\u001b[1Gpulling manifest \n",
      "pulling 5ee4f07cdb9b... 100% ▕████████████████▏ 1.9 GB                         \n",
      "pulling 66b9ea09bd5b... 100% ▕████████████████▏   68 B                         \n",
      "pulling eb4402837c78... 100% ▕████████████████▏ 1.5 KB                         \u001b[?25h\u001b[?25l\u001b[2K\u001b[1G\u001b[A\u001b[2K\u001b[1G\u001b[A\u001b[2K\u001b[1G\u001b[A\u001b[2K\u001b[1Gpulling manifest \n",
      "pulling 5ee4f07cdb9b... 100% ▕████████████████▏ 1.9 GB                         \n",
      "pulling 66b9ea09bd5b... 100% ▕████████████████▏   68 B                         \n",
      "pulling eb4402837c78... 100% ▕████████████████▏ 1.5 KB                         \u001b[?25h\u001b[?25l\u001b[2K\u001b[1G\u001b[A\u001b[2K\u001b[1G\u001b[A\u001b[2K\u001b[1G\u001b[A\u001b[2K\u001b[1Gpulling manifest \n",
      "pulling 5ee4f07cdb9b... 100% ▕████████████████▏ 1.9 GB                         \n",
      "pulling 66b9ea09bd5b... 100% ▕████████████████▏   68 B                         \n",
      "pulling eb4402837c78... 100% ▕████████████████▏ 1.5 KB                         \u001b[?25h\u001b[?25l\u001b[2K\u001b[1G\u001b[A\u001b[2K\u001b[1G\u001b[A\u001b[2K\u001b[1G\u001b[A\u001b[2K\u001b[1Gpulling manifest \n",
      "pulling 5ee4f07cdb9b... 100% ▕████████████████▏ 1.9 GB                         \n",
      "pulling 66b9ea09bd5b... 100% ▕████████████████▏   68 B                         \n",
      "pulling eb4402837c78... 100% ▕████████████████▏ 1.5 KB                         \u001b[?25h\u001b[?25l\u001b[2K\u001b[1G\u001b[A\u001b[2K\u001b[1G\u001b[A\u001b[2K\u001b[1G\u001b[A\u001b[2K\u001b[1Gpulling manifest \n",
      "pulling 5ee4f07cdb9b... 100% ▕████████████████▏ 1.9 GB                         \n",
      "pulling 66b9ea09bd5b... 100% ▕████████████████▏   68 B                         \n",
      "pulling eb4402837c78... 100% ▕████████████████▏ 1.5 KB                         \u001b[?25h\u001b[?25l\u001b[2K\u001b[1G\u001b[A\u001b[2K\u001b[1G\u001b[A\u001b[2K\u001b[1G\u001b[A\u001b[2K\u001b[1Gpulling manifest \n",
      "pulling 5ee4f07cdb9b... 100% ▕████████████████▏ 1.9 GB                         \n",
      "pulling 66b9ea09bd5b... 100% ▕████████████████▏   68 B                         \n",
      "pulling eb4402837c78... 100% ▕████████████████▏ 1.5 KB                         \u001b[?25h\u001b[?25l\u001b[2K\u001b[1G\u001b[A\u001b[2K\u001b[1G\u001b[A\u001b[2K\u001b[1G\u001b[A\u001b[2K\u001b[1Gpulling manifest \n",
      "pulling 5ee4f07cdb9b... 100% ▕████████████████▏ 1.9 GB                         \n",
      "pulling 66b9ea09bd5b... 100% ▕████████████████▏   68 B                         \n",
      "pulling eb4402837c78... 100% ▕████████████████▏ 1.5 KB                         \u001b[?25h\u001b[?25l\u001b[2K\u001b[1G\u001b[A\u001b[2K\u001b[1G\u001b[A\u001b[2K\u001b[1G\u001b[A\u001b[2K\u001b[1Gpulling manifest \n",
      "pulling 5ee4f07cdb9b... 100% ▕████████████████▏ 1.9 GB                         \n",
      "pulling 66b9ea09bd5b... 100% ▕████████████████▏   68 B                         \n",
      "pulling eb4402837c78... 100% ▕████████████████▏ 1.5 KB                         \u001b[?25h\u001b[?25l\u001b[2K\u001b[1G\u001b[A\u001b[2K\u001b[1G\u001b[A\u001b[2K\u001b[1G\u001b[A\u001b[2K\u001b[1Gpulling manifest \n",
      "pulling 5ee4f07cdb9b... 100% ▕████████████████▏ 1.9 GB                         \n",
      "pulling 66b9ea09bd5b... 100% ▕████████████████▏   68 B                         \n",
      "pulling eb4402837c78... 100% ▕████████████████▏ 1.5 KB                         \u001b[?25h\u001b[?25l\u001b[2K\u001b[1G\u001b[A\u001b[2K\u001b[1G\u001b[A\u001b[2K\u001b[1G\u001b[A\u001b[2K\u001b[1Gpulling manifest \n",
      "pulling 5ee4f07cdb9b... 100% ▕████████████████▏ 1.9 GB                         \n",
      "pulling 66b9ea09bd5b... 100% ▕████████████████▏   68 B                         \n",
      "pulling eb4402837c78... 100% ▕████████████████▏ 1.5 KB                         \u001b[?25h\u001b[?25l\u001b[2K\u001b[1G\u001b[A\u001b[2K\u001b[1G\u001b[A\u001b[2K\u001b[1G\u001b[A\u001b[2K\u001b[1Gpulling manifest \n",
      "pulling 5ee4f07cdb9b... 100% ▕████████████████▏ 1.9 GB                         \n",
      "pulling 66b9ea09bd5b... 100% ▕████████████████▏   68 B                         \n",
      "pulling eb4402837c78... 100% ▕████████████████▏ 1.5 KB                         \u001b[?25h\u001b[?25l\u001b[2K\u001b[1G\u001b[A\u001b[2K\u001b[1G\u001b[A\u001b[2K\u001b[1G\u001b[A\u001b[2K\u001b[1Gpulling manifest \n",
      "pulling 5ee4f07cdb9b... 100% ▕████████████████▏ 1.9 GB                         \n",
      "pulling 66b9ea09bd5b... 100% ▕████████████████▏   68 B                         \n",
      "pulling eb4402837c78... 100% ▕████████████████▏ 1.5 KB                         \u001b[?25h\u001b[?25l\u001b[2K\u001b[1G\u001b[A\u001b[2K\u001b[1G\u001b[A\u001b[2K\u001b[1G\u001b[A\u001b[2K\u001b[1Gpulling manifest \n",
      "pulling 5ee4f07cdb9b... 100% ▕████████████████▏ 1.9 GB                         \n",
      "pulling 66b9ea09bd5b... 100% ▕████████████████▏   68 B                         \n",
      "pulling eb4402837c78... 100% ▕████████████████▏ 1.5 KB                         \u001b[?25h\u001b[?25l\u001b[2K\u001b[1G\u001b[A\u001b[2K\u001b[1G\u001b[A\u001b[2K\u001b[1G\u001b[A\u001b[2K\u001b[1Gpulling manifest \n",
      "pulling 5ee4f07cdb9b... 100% ▕████████████████▏ 1.9 GB                         \n",
      "pulling 66b9ea09bd5b... 100% ▕████████████████▏   68 B                         \n",
      "pulling eb4402837c78... 100% ▕████████████████▏ 1.5 KB                         \u001b[?25h\u001b[?25l\u001b[2K\u001b[1G\u001b[A\u001b[2K\u001b[1G\u001b[A\u001b[2K\u001b[1G\u001b[A\u001b[2K\u001b[1Gpulling manifest \n",
      "pulling 5ee4f07cdb9b... 100% ▕████████████████▏ 1.9 GB                         \n",
      "pulling 66b9ea09bd5b... 100% ▕████████████████▏   68 B                         \n",
      "pulling eb4402837c78... 100% ▕████████████████▏ 1.5 KB                         \u001b[?25h\u001b[?25l\u001b[2K\u001b[1G\u001b[A\u001b[2K\u001b[1G\u001b[A\u001b[2K\u001b[1G\u001b[A\u001b[2K\u001b[1Gpulling manifest \n",
      "pulling 5ee4f07cdb9b... 100% ▕████████████████▏ 1.9 GB                         \n",
      "pulling 66b9ea09bd5b... 100% ▕████████████████▏   68 B                         \n",
      "pulling eb4402837c78... 100% ▕████████████████▏ 1.5 KB                         \u001b[?25h\u001b[?25l\u001b[2K\u001b[1G\u001b[A\u001b[2K\u001b[1G\u001b[A\u001b[2K\u001b[1G\u001b[A\u001b[2K\u001b[1Gpulling manifest \n",
      "pulling 5ee4f07cdb9b... 100% ▕████████████████▏ 1.9 GB                         \n",
      "pulling 66b9ea09bd5b... 100% ▕████████████████▏   68 B                         \n",
      "pulling eb4402837c78... 100% ▕████████████████▏ 1.5 KB                         \u001b[?25h\u001b[?25l\u001b[2K\u001b[1G\u001b[A\u001b[2K\u001b[1G\u001b[A\u001b[2K\u001b[1G\u001b[A\u001b[2K\u001b[1Gpulling manifest \n",
      "pulling 5ee4f07cdb9b... 100% ▕████████████████▏ 1.9 GB                         \n",
      "pulling 66b9ea09bd5b... 100% ▕████████████████▏   68 B                         \n",
      "pulling eb4402837c78... 100% ▕████████████████▏ 1.5 KB                         \u001b[?25h\u001b[?25l\u001b[2K\u001b[1G\u001b[A\u001b[2K\u001b[1G\u001b[A\u001b[2K\u001b[1G\u001b[A\u001b[2K\u001b[1Gpulling manifest \n",
      "pulling 5ee4f07cdb9b... 100% ▕████████████████▏ 1.9 GB                         \n",
      "pulling 66b9ea09bd5b... 100% ▕████████████████▏   68 B                         \n",
      "pulling eb4402837c78... 100% ▕████████████████▏ 1.5 KB                         \u001b[?25h\u001b[?25l\u001b[2K\u001b[1G\u001b[A\u001b[2K\u001b[1G\u001b[A\u001b[2K\u001b[1G\u001b[A\u001b[2K\u001b[1Gpulling manifest \n",
      "pulling 5ee4f07cdb9b... 100% ▕████████████████▏ 1.9 GB                         \n",
      "pulling 66b9ea09bd5b... 100% ▕████████████████▏   68 B                         \n",
      "pulling eb4402837c78... 100% ▕████████████████▏ 1.5 KB                         \u001b[?25h\u001b[?25l\u001b[2K\u001b[1G\u001b[A\u001b[2K\u001b[1G\u001b[A\u001b[2K\u001b[1G\u001b[A\u001b[2K\u001b[1Gpulling manifest \n",
      "pulling 5ee4f07cdb9b... 100% ▕████████████████▏ 1.9 GB                         \n",
      "pulling 66b9ea09bd5b... 100% ▕████████████████▏   68 B                         \n",
      "pulling eb4402837c78... 100% ▕████████████████▏ 1.5 KB                         \u001b[?25h\u001b[?25l\u001b[2K\u001b[1G\u001b[A\u001b[2K\u001b[1G\u001b[A\u001b[2K\u001b[1G\u001b[A\u001b[2K\u001b[1Gpulling manifest \n",
      "pulling 5ee4f07cdb9b... 100% ▕████████████████▏ 1.9 GB                         \n",
      "pulling 66b9ea09bd5b... 100% ▕████████████████▏   68 B                         \n",
      "pulling eb4402837c78... 100% ▕████████████████▏ 1.5 KB                         \u001b[?25h\u001b[?25l\u001b[2K\u001b[1G\u001b[A\u001b[2K\u001b[1G\u001b[A\u001b[2K\u001b[1G\u001b[A\u001b[2K\u001b[1Gpulling manifest \n",
      "pulling 5ee4f07cdb9b... 100% ▕████████████████▏ 1.9 GB                         \n",
      "pulling 66b9ea09bd5b... 100% ▕████████████████▏   68 B                         \n",
      "pulling eb4402837c78... 100% ▕████████████████▏ 1.5 KB                         \u001b[?25h\u001b[?25l\u001b[2K\u001b[1G\u001b[A\u001b[2K\u001b[1G\u001b[A\u001b[2K\u001b[1G\u001b[A\u001b[2K\u001b[1Gpulling manifest \n",
      "pulling 5ee4f07cdb9b... 100% ▕████████████████▏ 1.9 GB                         \n",
      "pulling 66b9ea09bd5b... 100% ▕████████████████▏   68 B                         \n",
      "pulling eb4402837c78... 100% ▕████████████████▏ 1.5 KB                         \u001b[?25h\u001b[?25l\u001b[2K\u001b[1G\u001b[A\u001b[2K\u001b[1G\u001b[A\u001b[2K\u001b[1G\u001b[A\u001b[2K\u001b[1Gpulling manifest \n",
      "pulling 5ee4f07cdb9b... 100% ▕████████████████▏ 1.9 GB                         \n",
      "pulling 66b9ea09bd5b... 100% ▕████████████████▏   68 B                         \n",
      "pulling eb4402837c78... 100% ▕████████████████▏ 1.5 KB                         \u001b[?25h\u001b[?25l\u001b[2K\u001b[1G\u001b[A\u001b[2K\u001b[1G\u001b[A\u001b[2K\u001b[1G\u001b[A\u001b[2K\u001b[1Gpulling manifest \n",
      "pulling 5ee4f07cdb9b... 100% ▕████████████████▏ 1.9 GB                         \n",
      "pulling 66b9ea09bd5b... 100% ▕████████████████▏   68 B                         \n",
      "pulling eb4402837c78... 100% ▕████████████████▏ 1.5 KB                         \u001b[?25h\u001b[?25l\u001b[2K\u001b[1G\u001b[A\u001b[2K\u001b[1G\u001b[A\u001b[2K\u001b[1G\u001b[A\u001b[2K\u001b[1Gpulling manifest \n",
      "pulling 5ee4f07cdb9b... 100% ▕████████████████▏ 1.9 GB                         \n",
      "pulling 66b9ea09bd5b... 100% ▕████████████████▏   68 B                         \n",
      "pulling eb4402837c78... 100% ▕████████████████▏ 1.5 KB                         \u001b[?25h\u001b[?25l\u001b[2K\u001b[1G\u001b[A\u001b[2K\u001b[1G\u001b[A\u001b[2K\u001b[1G\u001b[A\u001b[2K\u001b[1Gpulling manifest \n",
      "pulling 5ee4f07cdb9b... 100% ▕████████████████▏ 1.9 GB                         \n",
      "pulling 66b9ea09bd5b... 100% ▕████████████████▏   68 B                         \n",
      "pulling eb4402837c78... 100% ▕████████████████▏ 1.5 KB                         \u001b[?25h\u001b[?25l\u001b[2K\u001b[1G\u001b[A\u001b[2K\u001b[1G\u001b[A\u001b[2K\u001b[1G\u001b[A\u001b[2K\u001b[1Gpulling manifest \n",
      "pulling 5ee4f07cdb9b... 100% ▕████████████████▏ 1.9 GB                         \n",
      "pulling 66b9ea09bd5b... 100% ▕████████████████▏   68 B                         \n",
      "pulling eb4402837c78... 100% ▕████████████████▏ 1.5 KB                         \u001b[?25h\u001b[?25l\u001b[2K\u001b[1G\u001b[A\u001b[2K\u001b[1G\u001b[A\u001b[2K\u001b[1G\u001b[A\u001b[2K\u001b[1Gpulling manifest \n",
      "pulling 5ee4f07cdb9b... 100% ▕████████████████▏ 1.9 GB                         \n",
      "pulling 66b9ea09bd5b... 100% ▕████████████████▏   68 B                         \n",
      "pulling eb4402837c78... 100% ▕████████████████▏ 1.5 KB                         \u001b[?25h\u001b[?25l\u001b[2K\u001b[1G\u001b[A\u001b[2K\u001b[1G\u001b[A\u001b[2K\u001b[1G\u001b[A\u001b[2K\u001b[1Gpulling manifest \n",
      "pulling 5ee4f07cdb9b... 100% ▕████████████████▏ 1.9 GB                         \n",
      "pulling 66b9ea09bd5b... 100% ▕████████████████▏   68 B                         \n",
      "pulling eb4402837c78... 100% ▕████████████████▏ 1.5 KB                         \u001b[?25h\u001b[?25l\u001b[2K\u001b[1G\u001b[A\u001b[2K\u001b[1G\u001b[A\u001b[2K\u001b[1G\u001b[A\u001b[2K\u001b[1Gpulling manifest \n",
      "pulling 5ee4f07cdb9b... 100% ▕████████████████▏ 1.9 GB                         \n",
      "pulling 66b9ea09bd5b... 100% ▕████████████████▏   68 B                         \n",
      "pulling eb4402837c78... 100% ▕████████████████▏ 1.5 KB                         \u001b[?25h\u001b[?25l\u001b[2K\u001b[1G\u001b[A\u001b[2K\u001b[1G\u001b[A\u001b[2K\u001b[1G\u001b[A\u001b[2K\u001b[1Gpulling manifest \n",
      "pulling 5ee4f07cdb9b... 100% ▕████████████████▏ 1.9 GB                         \n",
      "pulling 66b9ea09bd5b... 100% ▕████████████████▏   68 B                         \n",
      "pulling eb4402837c78... 100% ▕████████████████▏ 1.5 KB                         \u001b[?25h\u001b[?25l\u001b[2K\u001b[1G\u001b[A\u001b[2K\u001b[1G\u001b[A\u001b[2K\u001b[1G\u001b[A\u001b[2K\u001b[1Gpulling manifest \n",
      "pulling 5ee4f07cdb9b... 100% ▕████████████████▏ 1.9 GB                         \n",
      "pulling 66b9ea09bd5b... 100% ▕████████████████▏   68 B                         \n",
      "pulling eb4402837c78... 100% ▕████████████████▏ 1.5 KB                         \u001b[?25h\u001b[?25l\u001b[2K\u001b[1G\u001b[A\u001b[2K\u001b[1G\u001b[A\u001b[2K\u001b[1G\u001b[A\u001b[2K\u001b[1Gpulling manifest \n",
      "pulling 5ee4f07cdb9b... 100% ▕████████████████▏ 1.9 GB                         \n",
      "pulling 66b9ea09bd5b... 100% ▕████████████████▏   68 B                         \n",
      "pulling eb4402837c78... 100% ▕████████████████▏ 1.5 KB                         \u001b[?25h\u001b[?25l\u001b[2K\u001b[1G\u001b[A\u001b[2K\u001b[1G\u001b[A\u001b[2K\u001b[1G\u001b[A\u001b[2K\u001b[1Gpulling manifest \n",
      "pulling 5ee4f07cdb9b... 100% ▕████████████████▏ 1.9 GB                         \n",
      "pulling 66b9ea09bd5b... 100% ▕████████████████▏   68 B                         \n",
      "pulling eb4402837c78... 100% ▕████████████████▏ 1.5 KB                         \u001b[?25h\u001b[?25l\u001b[2K\u001b[1G\u001b[A\u001b[2K\u001b[1G\u001b[A\u001b[2K\u001b[1G\u001b[A\u001b[2K\u001b[1Gpulling manifest \n",
      "pulling 5ee4f07cdb9b... 100% ▕████████████████▏ 1.9 GB                         \n",
      "pulling 66b9ea09bd5b... 100% ▕████████████████▏   68 B                         \n",
      "pulling eb4402837c78... 100% ▕████████████████▏ 1.5 KB                         \u001b[?25h\u001b[?25l\u001b[2K\u001b[1G\u001b[A\u001b[2K\u001b[1G\u001b[A\u001b[2K\u001b[1G\u001b[A\u001b[2K\u001b[1Gpulling manifest \n",
      "pulling 5ee4f07cdb9b... 100% ▕████████████████▏ 1.9 GB                         \n",
      "pulling 66b9ea09bd5b... 100% ▕████████████████▏   68 B                         \n",
      "pulling eb4402837c78... 100% ▕████████████████▏ 1.5 KB                         \u001b[?25h\u001b[?25l\u001b[2K\u001b[1G\u001b[A\u001b[2K\u001b[1G\u001b[A\u001b[2K\u001b[1G\u001b[A\u001b[2K\u001b[1Gpulling manifest \n",
      "pulling 5ee4f07cdb9b... 100% ▕████████████████▏ 1.9 GB                         \n",
      "pulling 66b9ea09bd5b... 100% ▕████████████████▏   68 B                         \n",
      "pulling eb4402837c78... 100% ▕████████████████▏ 1.5 KB                         \u001b[?25h\u001b[?25l\u001b[2K\u001b[1G\u001b[A\u001b[2K\u001b[1G\u001b[A\u001b[2K\u001b[1G\u001b[A\u001b[2K\u001b[1Gpulling manifest \n",
      "pulling 5ee4f07cdb9b... 100% ▕████████████████▏ 1.9 GB                         \n",
      "pulling 66b9ea09bd5b... 100% ▕████████████████▏   68 B                         \n",
      "pulling eb4402837c78... 100% ▕████████████████▏ 1.5 KB                         \u001b[?25h\u001b[?25l\u001b[2K\u001b[1G\u001b[A\u001b[2K\u001b[1G\u001b[A\u001b[2K\u001b[1G\u001b[A\u001b[2K\u001b[1Gpulling manifest \n",
      "pulling 5ee4f07cdb9b... 100% ▕████████████████▏ 1.9 GB                         \n",
      "pulling 66b9ea09bd5b... 100% ▕████████████████▏   68 B                         \n",
      "pulling eb4402837c78... 100% ▕████████████████▏ 1.5 KB                         \u001b[?25h\u001b[?25l\u001b[2K\u001b[1G\u001b[A\u001b[2K\u001b[1G\u001b[A\u001b[2K\u001b[1G\u001b[A\u001b[2K\u001b[1Gpulling manifest \n",
      "pulling 5ee4f07cdb9b... 100% ▕████████████████▏ 1.9 GB                         \n",
      "pulling 66b9ea09bd5b... 100% ▕████████████████▏   68 B                         \n",
      "pulling eb4402837c78... 100% ▕████████████████▏ 1.5 KB                         \u001b[?25h\u001b[?25l\u001b[2K\u001b[1G\u001b[A\u001b[2K\u001b[1G\u001b[A\u001b[2K\u001b[1G\u001b[A\u001b[2K\u001b[1Gpulling manifest \n",
      "pulling 5ee4f07cdb9b... 100% ▕████████████████▏ 1.9 GB                         \n",
      "pulling 66b9ea09bd5b... 100% ▕████████████████▏   68 B                         \n",
      "pulling eb4402837c78... 100% ▕████████████████▏ 1.5 KB                         \u001b[?25h\u001b[?25l\u001b[2K\u001b[1G\u001b[A\u001b[2K\u001b[1G\u001b[A\u001b[2K\u001b[1G\u001b[A\u001b[2K\u001b[1Gpulling manifest \n",
      "pulling 5ee4f07cdb9b... 100% ▕████████████████▏ 1.9 GB                         \n",
      "pulling 66b9ea09bd5b... 100% ▕████████████████▏   68 B                         \n",
      "pulling eb4402837c78... 100% ▕████████████████▏ 1.5 KB                         \u001b[?25h\u001b[?25l\u001b[2K\u001b[1G\u001b[A\u001b[2K\u001b[1G\u001b[A\u001b[2K\u001b[1G\u001b[A\u001b[2K\u001b[1Gpulling manifest \n",
      "pulling 5ee4f07cdb9b... 100% ▕████████████████▏ 1.9 GB                         \n",
      "pulling 66b9ea09bd5b... 100% ▕████████████████▏   68 B                         \n",
      "pulling eb4402837c78... 100% ▕████████████████▏ 1.5 KB                         \u001b[?25h\u001b[?25l\u001b[2K\u001b[1G\u001b[A\u001b[2K\u001b[1G\u001b[A\u001b[2K\u001b[1G\u001b[A\u001b[2K\u001b[1Gpulling manifest \n",
      "pulling 5ee4f07cdb9b... 100% ▕████████████████▏ 1.9 GB                         \n",
      "pulling 66b9ea09bd5b... 100% ▕████████████████▏   68 B                         \n",
      "pulling eb4402837c78... 100% ▕████████████████▏ 1.5 KB                         \u001b[?25h\u001b[?25l\u001b[2K\u001b[1G\u001b[A\u001b[2K\u001b[1G\u001b[A\u001b[2K\u001b[1G\u001b[A\u001b[2K\u001b[1Gpulling manifest \n",
      "pulling 5ee4f07cdb9b... 100% ▕████████████████▏ 1.9 GB                         \n",
      "pulling 66b9ea09bd5b... 100% ▕████████████████▏   68 B                         \n",
      "pulling eb4402837c78... 100% ▕████████████████▏ 1.5 KB                         \u001b[?25h\u001b[?25l\u001b[2K\u001b[1G\u001b[A\u001b[2K\u001b[1G\u001b[A\u001b[2K\u001b[1G\u001b[A\u001b[2K\u001b[1Gpulling manifest \n",
      "pulling 5ee4f07cdb9b... 100% ▕████████████████▏ 1.9 GB                         \n",
      "pulling 66b9ea09bd5b... 100% ▕████████████████▏   68 B                         \n",
      "pulling eb4402837c78... 100% ▕████████████████▏ 1.5 KB                         \u001b[?25h\u001b[?25l\u001b[2K\u001b[1G\u001b[A\u001b[2K\u001b[1G\u001b[A\u001b[2K\u001b[1G\u001b[A\u001b[2K\u001b[1Gpulling manifest \n",
      "pulling 5ee4f07cdb9b... 100% ▕████████████████▏ 1.9 GB                         \n",
      "pulling 66b9ea09bd5b... 100% ▕████████████████▏   68 B                         \n",
      "pulling eb4402837c78... 100% ▕████████████████▏ 1.5 KB                         \u001b[?25h\u001b[?25l\u001b[2K\u001b[1G\u001b[A\u001b[2K\u001b[1G\u001b[A\u001b[2K\u001b[1G\u001b[A\u001b[2K\u001b[1Gpulling manifest \n",
      "pulling 5ee4f07cdb9b... 100% ▕████████████████▏ 1.9 GB                         \n",
      "pulling 66b9ea09bd5b... 100% ▕████████████████▏   68 B                         \n",
      "pulling eb4402837c78... 100% ▕████████████████▏ 1.5 KB                         \u001b[?25h\u001b[?25l\u001b[2K\u001b[1G\u001b[A\u001b[2K\u001b[1G\u001b[A\u001b[2K\u001b[1G\u001b[A\u001b[2K\u001b[1Gpulling manifest \n",
      "pulling 5ee4f07cdb9b... 100% ▕████████████████▏ 1.9 GB                         \n",
      "pulling 66b9ea09bd5b... 100% ▕████████████████▏   68 B                         \n",
      "pulling eb4402837c78... 100% ▕████████████████▏ 1.5 KB                         \u001b[?25h\u001b[?25l\u001b[2K\u001b[1G\u001b[A\u001b[2K\u001b[1G\u001b[A\u001b[2K\u001b[1G\u001b[A\u001b[2K\u001b[1Gpulling manifest \n",
      "pulling 5ee4f07cdb9b... 100% ▕████████████████▏ 1.9 GB                         \n",
      "pulling 66b9ea09bd5b... 100% ▕████████████████▏   68 B                         \n",
      "pulling eb4402837c78... 100% ▕████████████████▏ 1.5 KB                         \u001b[?25h\u001b[?25l\u001b[2K\u001b[1G\u001b[A\u001b[2K\u001b[1G\u001b[A\u001b[2K\u001b[1G\u001b[A\u001b[2K\u001b[1Gpulling manifest \n",
      "pulling 5ee4f07cdb9b... 100% ▕████████████████▏ 1.9 GB                         \n",
      "pulling 66b9ea09bd5b... 100% ▕████████████████▏   68 B                         \n",
      "pulling eb4402837c78... 100% ▕████████████████▏ 1.5 KB                         \u001b[?25h\u001b[?25l\u001b[2K\u001b[1G\u001b[A\u001b[2K\u001b[1G\u001b[A\u001b[2K\u001b[1G\u001b[A\u001b[2K\u001b[1Gpulling manifest \n",
      "pulling 5ee4f07cdb9b... 100% ▕████████████████▏ 1.9 GB                         \n",
      "pulling 66b9ea09bd5b... 100% ▕████████████████▏   68 B                         \n",
      "pulling eb4402837c78... 100% ▕████████████████▏ 1.5 KB                         \u001b[?25h\u001b[?25l\u001b[2K\u001b[1G\u001b[A\u001b[2K\u001b[1G\u001b[A\u001b[2K\u001b[1G\u001b[A\u001b[2K\u001b[1Gpulling manifest \n",
      "pulling 5ee4f07cdb9b... 100% ▕████████████████▏ 1.9 GB                         \n",
      "pulling 66b9ea09bd5b... 100% ▕████████████████▏   68 B                         \n",
      "pulling eb4402837c78... 100% ▕████████████████▏ 1.5 KB                         \u001b[?25h\u001b[?25l\u001b[2K\u001b[1G\u001b[A\u001b[2K\u001b[1G\u001b[A\u001b[2K\u001b[1G\u001b[A\u001b[2K\u001b[1Gpulling manifest \n",
      "pulling 5ee4f07cdb9b... 100% ▕████████████████▏ 1.9 GB                         \n",
      "pulling 66b9ea09bd5b... 100% ▕████████████████▏   68 B                         \n",
      "pulling eb4402837c78... 100% ▕████████████████▏ 1.5 KB                         \u001b[?25h\u001b[?25l\u001b[2K\u001b[1G\u001b[A\u001b[2K\u001b[1G\u001b[A\u001b[2K\u001b[1G\u001b[A\u001b[2K\u001b[1Gpulling manifest \n",
      "pulling 5ee4f07cdb9b... 100% ▕████████████████▏ 1.9 GB                         \n",
      "pulling 66b9ea09bd5b... 100% ▕████████████████▏   68 B                         \n",
      "pulling eb4402837c78... 100% ▕████████████████▏ 1.5 KB                         \u001b[?25h\u001b[?25l\u001b[2K\u001b[1G\u001b[A\u001b[2K\u001b[1G\u001b[A\u001b[2K\u001b[1G\u001b[A\u001b[2K\u001b[1Gpulling manifest \n",
      "pulling 5ee4f07cdb9b... 100% ▕████████████████▏ 1.9 GB                         \n",
      "pulling 66b9ea09bd5b... 100% ▕████████████████▏   68 B                         \n",
      "pulling eb4402837c78... 100% ▕████████████████▏ 1.5 KB                         \u001b[?25h\u001b[?25l\u001b[2K\u001b[1G\u001b[A\u001b[2K\u001b[1G\u001b[A\u001b[2K\u001b[1G\u001b[A\u001b[2K\u001b[1Gpulling manifest \n",
      "pulling 5ee4f07cdb9b... 100% ▕████████████████▏ 1.9 GB                         \n",
      "pulling 66b9ea09bd5b... 100% ▕████████████████▏   68 B                         \n",
      "pulling eb4402837c78... 100% ▕████████████████▏ 1.5 KB                         \u001b[?25h\u001b[?25l\u001b[2K\u001b[1G\u001b[A\u001b[2K\u001b[1G\u001b[A\u001b[2K\u001b[1G\u001b[A\u001b[2K\u001b[1Gpulling manifest \n",
      "pulling 5ee4f07cdb9b... 100% ▕████████████████▏ 1.9 GB                         \n",
      "pulling 66b9ea09bd5b... 100% ▕████████████████▏   68 B                         \n",
      "pulling eb4402837c78... 100% ▕████████████████▏ 1.5 KB                         \u001b[?25h\u001b[?25l\u001b[2K\u001b[1G\u001b[A\u001b[2K\u001b[1G\u001b[A\u001b[2K\u001b[1G\u001b[A\u001b[2K\u001b[1Gpulling manifest \n",
      "pulling 5ee4f07cdb9b... 100% ▕████████████████▏ 1.9 GB                         \n",
      "pulling 66b9ea09bd5b... 100% ▕████████████████▏   68 B                         \n",
      "pulling eb4402837c78... 100% ▕████████████████▏ 1.5 KB                         \u001b[?25h\u001b[?25l\u001b[2K\u001b[1G\u001b[A\u001b[2K\u001b[1G\u001b[A\u001b[2K\u001b[1G\u001b[A\u001b[2K\u001b[1Gpulling manifest \n",
      "pulling 5ee4f07cdb9b... 100% ▕████████████████▏ 1.9 GB                         \n",
      "pulling 66b9ea09bd5b... 100% ▕████████████████▏   68 B                         \n",
      "pulling eb4402837c78... 100% ▕████████████████▏ 1.5 KB                         \u001b[?25h\u001b[?25l\u001b[2K\u001b[1G\u001b[A\u001b[2K\u001b[1G\u001b[A\u001b[2K\u001b[1G\u001b[A\u001b[2K\u001b[1Gpulling manifest \n",
      "pulling 5ee4f07cdb9b... 100% ▕████████████████▏ 1.9 GB                         \n",
      "pulling 66b9ea09bd5b... 100% ▕████████████████▏   68 B                         \n",
      "pulling eb4402837c78... 100% ▕████████████████▏ 1.5 KB                         \u001b[?25h\u001b[?25l\u001b[2K\u001b[1G\u001b[A\u001b[2K\u001b[1G\u001b[A\u001b[2K\u001b[1G\u001b[A\u001b[2K\u001b[1Gpulling manifest \n",
      "pulling 5ee4f07cdb9b... 100% ▕████████████████▏ 1.9 GB                         \n",
      "pulling 66b9ea09bd5b... 100% ▕████████████████▏   68 B                         \n",
      "pulling eb4402837c78... 100% ▕████████████████▏ 1.5 KB                         \u001b[?25h\u001b[?25l\u001b[2K\u001b[1G\u001b[A\u001b[2K\u001b[1G\u001b[A\u001b[2K\u001b[1G\u001b[A\u001b[2K\u001b[1Gpulling manifest \n",
      "pulling 5ee4f07cdb9b... 100% ▕████████████████▏ 1.9 GB                         \n",
      "pulling 66b9ea09bd5b... 100% ▕████████████████▏   68 B                         \n",
      "pulling eb4402837c78... 100% ▕████████████████▏ 1.5 KB                         \u001b[?25h\u001b[?25l\u001b[2K\u001b[1G\u001b[A\u001b[2K\u001b[1G\u001b[A\u001b[2K\u001b[1G\u001b[A\u001b[2K\u001b[1Gpulling manifest \n",
      "pulling 5ee4f07cdb9b... 100% ▕████████████████▏ 1.9 GB                         \n",
      "pulling 66b9ea09bd5b... 100% ▕████████████████▏   68 B                         \n",
      "pulling eb4402837c78... 100% ▕████████████████▏ 1.5 KB                         \u001b[?25h\u001b[?25l\u001b[2K\u001b[1G\u001b[A\u001b[2K\u001b[1G\u001b[A\u001b[2K\u001b[1G\u001b[A\u001b[2K\u001b[1Gpulling manifest \n",
      "pulling 5ee4f07cdb9b... 100% ▕████████████████▏ 1.9 GB                         \n",
      "pulling 66b9ea09bd5b... 100% ▕████████████████▏   68 B                         \n",
      "pulling eb4402837c78... 100% ▕████████████████▏ 1.5 KB                         \u001b[?25h\u001b[?25l\u001b[2K\u001b[1G\u001b[A\u001b[2K\u001b[1G\u001b[A\u001b[2K\u001b[1G\u001b[A\u001b[2K\u001b[1Gpulling manifest \n",
      "pulling 5ee4f07cdb9b... 100% ▕████████████████▏ 1.9 GB                         \n",
      "pulling 66b9ea09bd5b... 100% ▕████████████████▏   68 B                         \n",
      "pulling eb4402837c78... 100% ▕████████████████▏ 1.5 KB                         \u001b[?25h\u001b[?25l\u001b[2K\u001b[1G\u001b[A\u001b[2K\u001b[1G\u001b[A\u001b[2K\u001b[1G\u001b[A\u001b[2K\u001b[1Gpulling manifest \n",
      "pulling 5ee4f07cdb9b... 100% ▕████████████████▏ 1.9 GB                         \n",
      "pulling 66b9ea09bd5b... 100% ▕████████████████▏   68 B                         \n",
      "pulling eb4402837c78... 100% ▕████████████████▏ 1.5 KB                         \u001b[?25h\u001b[?25l\u001b[2K\u001b[1G\u001b[A\u001b[2K\u001b[1G\u001b[A\u001b[2K\u001b[1G\u001b[A\u001b[2K\u001b[1Gpulling manifest \n",
      "pulling 5ee4f07cdb9b... 100% ▕████████████████▏ 1.9 GB                         \n",
      "pulling 66b9ea09bd5b... 100% ▕████████████████▏   68 B                         \n",
      "pulling eb4402837c78... 100% ▕████████████████▏ 1.5 KB                         \u001b[?25h\u001b[?25l\u001b[2K\u001b[1G\u001b[A\u001b[2K\u001b[1G\u001b[A\u001b[2K\u001b[1G\u001b[A\u001b[2K\u001b[1Gpulling manifest \n",
      "pulling 5ee4f07cdb9b... 100% ▕████████████████▏ 1.9 GB                         \n",
      "pulling 66b9ea09bd5b... 100% ▕████████████████▏   68 B                         \n",
      "pulling eb4402837c78... 100% ▕████████████████▏ 1.5 KB                         \u001b[?25htime=2024-10-24T11:01:54.659Z level=INFO source=download.go:175 msg=\"downloading b5c0e5cf74cf in 1 7.4 KB part(s)\"\n",
      "\u001b[?25l\u001b[2K\u001b[1G\u001b[A\u001b[2K\u001b[1G\u001b[A\u001b[2K\u001b[1G\u001b[A\u001b[2K\u001b[1Gpulling manifest \n",
      "pulling 5ee4f07cdb9b... 100% ▕████████████████▏ 1.9 GB                         \n",
      "pulling 66b9ea09bd5b... 100% ▕████████████████▏   68 B                         \n",
      "pulling eb4402837c78... 100% ▕████████████████▏ 1.5 KB                         \u001b[?25h\u001b[?25l\u001b[2K\u001b[1G\u001b[A\u001b[2K\u001b[1G\u001b[A\u001b[2K\u001b[1G\u001b[A\u001b[2K\u001b[1Gpulling manifest \n",
      "pulling 5ee4f07cdb9b... 100% ▕████████████████▏ 1.9 GB                         \n",
      "pulling 66b9ea09bd5b... 100% ▕████████████████▏   68 B                         \n",
      "pulling eb4402837c78... 100% ▕████████████████▏ 1.5 KB                         \n",
      "pulling b5c0e5cf74cf...   0% ▕                ▏    0 B/7.4 KB                  \u001b[?25h\u001b[?25l\u001b[2K\u001b[1G\u001b[A\u001b[2K\u001b[1G\u001b[A\u001b[2K\u001b[1G\u001b[A\u001b[2K\u001b[1G\u001b[A\u001b[2K\u001b[1Gpulling manifest \n",
      "pulling 5ee4f07cdb9b... 100% ▕████████████████▏ 1.9 GB                         \n",
      "pulling 66b9ea09bd5b... 100% ▕████████████████▏   68 B                         \n",
      "pulling eb4402837c78... 100% ▕████████████████▏ 1.5 KB                         \n",
      "pulling b5c0e5cf74cf... 100% ▕████████████████▏ 7.4 KB                         \u001b[?25h\u001b[?25l\u001b[2K\u001b[1G\u001b[A\u001b[2K\u001b[1G\u001b[A\u001b[2K\u001b[1G\u001b[A\u001b[2K\u001b[1G\u001b[A\u001b[2K\u001b[1Gpulling manifest \n",
      "pulling 5ee4f07cdb9b... 100% ▕████████████████▏ 1.9 GB                         \n",
      "pulling 66b9ea09bd5b... 100% ▕████████████████▏   68 B                         \n",
      "pulling eb4402837c78... 100% ▕████████████████▏ 1.5 KB                         \n",
      "pulling b5c0e5cf74cf... 100% ▕████████████████▏ 7.4 KB                         \u001b[?25h\u001b[?25l\u001b[2K\u001b[1G\u001b[A\u001b[2K\u001b[1G\u001b[A\u001b[2K\u001b[1G\u001b[A\u001b[2K\u001b[1G\u001b[A\u001b[2K\u001b[1Gpulling manifest \n",
      "pulling 5ee4f07cdb9b... 100% ▕████████████████▏ 1.9 GB                         \n",
      "pulling 66b9ea09bd5b... 100% ▕████████████████▏   68 B                         \n",
      "pulling eb4402837c78... 100% ▕████████████████▏ 1.5 KB                         \n",
      "pulling b5c0e5cf74cf... 100% ▕████████████████▏ 7.4 KB                         \u001b[?25h\u001b[?25l\u001b[2K\u001b[1G\u001b[A\u001b[2K\u001b[1G\u001b[A\u001b[2K\u001b[1G\u001b[A\u001b[2K\u001b[1G\u001b[A\u001b[2K\u001b[1Gpulling manifest \n",
      "pulling 5ee4f07cdb9b... 100% ▕████████████████▏ 1.9 GB                         \n",
      "pulling 66b9ea09bd5b... 100% ▕████████████████▏   68 B                         \n",
      "pulling eb4402837c78... 100% ▕████████████████▏ 1.5 KB                         \n",
      "pulling b5c0e5cf74cf... 100% ▕████████████████▏ 7.4 KB                         \u001b[?25h\u001b[?25l\u001b[2K\u001b[1G\u001b[A\u001b[2K\u001b[1G\u001b[A\u001b[2K\u001b[1G\u001b[A\u001b[2K\u001b[1G\u001b[A\u001b[2K\u001b[1Gpulling manifest \n",
      "pulling 5ee4f07cdb9b... 100% ▕████████████████▏ 1.9 GB                         \n",
      "pulling 66b9ea09bd5b... 100% ▕████████████████▏   68 B                         \n",
      "pulling eb4402837c78... 100% ▕████████████████▏ 1.5 KB                         \n",
      "pulling b5c0e5cf74cf... 100% ▕████████████████▏ 7.4 KB                         \u001b[?25h\u001b[?25l\u001b[2K\u001b[1G\u001b[A\u001b[2K\u001b[1G\u001b[A\u001b[2K\u001b[1G\u001b[A\u001b[2K\u001b[1G\u001b[A\u001b[2K\u001b[1Gpulling manifest \n",
      "pulling 5ee4f07cdb9b... 100% ▕████████████████▏ 1.9 GB                         \n",
      "pulling 66b9ea09bd5b... 100% ▕████████████████▏   68 B                         \n",
      "pulling eb4402837c78... 100% ▕████████████████▏ 1.5 KB                         \n",
      "pulling b5c0e5cf74cf... 100% ▕████████████████▏ 7.4 KB                         \u001b[?25h\u001b[?25l\u001b[2K\u001b[1G\u001b[A\u001b[2K\u001b[1G\u001b[A\u001b[2K\u001b[1G\u001b[A\u001b[2K\u001b[1G\u001b[A\u001b[2K\u001b[1Gpulling manifest \n",
      "pulling 5ee4f07cdb9b... 100% ▕████████████████▏ 1.9 GB                         \n",
      "pulling 66b9ea09bd5b... 100% ▕████████████████▏   68 B                         \n",
      "pulling eb4402837c78... 100% ▕████████████████▏ 1.5 KB                         \n",
      "pulling b5c0e5cf74cf... 100% ▕████████████████▏ 7.4 KB                         \u001b[?25h\u001b[?25l\u001b[2K\u001b[1G\u001b[A\u001b[2K\u001b[1G\u001b[A\u001b[2K\u001b[1G\u001b[A\u001b[2K\u001b[1G\u001b[A\u001b[2K\u001b[1Gpulling manifest \n",
      "pulling 5ee4f07cdb9b... 100% ▕████████████████▏ 1.9 GB                         \n",
      "pulling 66b9ea09bd5b... 100% ▕████████████████▏   68 B                         \n",
      "pulling eb4402837c78... 100% ▕████████████████▏ 1.5 KB                         \n",
      "pulling b5c0e5cf74cf... 100% ▕████████████████▏ 7.4 KB                         \u001b[?25h\u001b[?25l\u001b[2K\u001b[1G\u001b[A\u001b[2K\u001b[1G\u001b[A\u001b[2K\u001b[1G\u001b[A\u001b[2K\u001b[1G\u001b[A\u001b[2K\u001b[1Gpulling manifest \n",
      "pulling 5ee4f07cdb9b... 100% ▕████████████████▏ 1.9 GB                         \n",
      "pulling 66b9ea09bd5b... 100% ▕████████████████▏   68 B                         \n",
      "pulling eb4402837c78... 100% ▕████████████████▏ 1.5 KB                         \n",
      "pulling b5c0e5cf74cf... 100% ▕████████████████▏ 7.4 KB                         \u001b[?25h\u001b[?25l\u001b[2K\u001b[1G\u001b[A\u001b[2K\u001b[1G\u001b[A\u001b[2K\u001b[1G\u001b[A\u001b[2K\u001b[1G\u001b[A\u001b[2K\u001b[1Gpulling manifest \n",
      "pulling 5ee4f07cdb9b... 100% ▕████████████████▏ 1.9 GB                         \n",
      "pulling 66b9ea09bd5b... 100% ▕████████████████▏   68 B                         \n",
      "pulling eb4402837c78... 100% ▕████████████████▏ 1.5 KB                         \n",
      "pulling b5c0e5cf74cf... 100% ▕████████████████▏ 7.4 KB                         \u001b[?25h\u001b[?25l\u001b[2K\u001b[1G\u001b[A\u001b[2K\u001b[1G\u001b[A\u001b[2K\u001b[1G\u001b[A\u001b[2K\u001b[1G\u001b[A\u001b[2K\u001b[1Gpulling manifest \n",
      "pulling 5ee4f07cdb9b... 100% ▕████████████████▏ 1.9 GB                         \n",
      "pulling 66b9ea09bd5b... 100% ▕████████████████▏   68 B                         \n",
      "pulling eb4402837c78... 100% ▕████████████████▏ 1.5 KB                         \n",
      "pulling b5c0e5cf74cf... 100% ▕████████████████▏ 7.4 KB                         \u001b[?25h\u001b[?25l\u001b[2K\u001b[1G\u001b[A\u001b[2K\u001b[1G\u001b[A\u001b[2K\u001b[1G\u001b[A\u001b[2K\u001b[1G\u001b[A\u001b[2K\u001b[1Gpulling manifest \n",
      "pulling 5ee4f07cdb9b... 100% ▕████████████████▏ 1.9 GB                         \n",
      "pulling 66b9ea09bd5b... 100% ▕████████████████▏   68 B                         \n",
      "pulling eb4402837c78... 100% ▕████████████████▏ 1.5 KB                         \n",
      "pulling b5c0e5cf74cf... 100% ▕████████████████▏ 7.4 KB                         \u001b[?25h\u001b[?25l\u001b[2K\u001b[1G\u001b[A\u001b[2K\u001b[1G\u001b[A\u001b[2K\u001b[1G\u001b[A\u001b[2K\u001b[1G\u001b[A\u001b[2K\u001b[1Gpulling manifest \n",
      "pulling 5ee4f07cdb9b... 100% ▕████████████████▏ 1.9 GB                         \n",
      "pulling 66b9ea09bd5b... 100% ▕████████████████▏   68 B                         \n",
      "pulling eb4402837c78... 100% ▕████████████████▏ 1.5 KB                         \n",
      "pulling b5c0e5cf74cf... 100% ▕████████████████▏ 7.4 KB                         \u001b[?25h\u001b[?25l\u001b[2K\u001b[1G\u001b[A\u001b[2K\u001b[1G\u001b[A\u001b[2K\u001b[1G\u001b[A\u001b[2K\u001b[1G\u001b[A\u001b[2K\u001b[1Gpulling manifest \n",
      "pulling 5ee4f07cdb9b... 100% ▕████████████████▏ 1.9 GB                         \n",
      "pulling 66b9ea09bd5b... 100% ▕████████████████▏   68 B                         \n",
      "pulling eb4402837c78... 100% ▕████████████████▏ 1.5 KB                         \n",
      "pulling b5c0e5cf74cf... 100% ▕████████████████▏ 7.4 KB                         \u001b[?25h\u001b[?25l\u001b[2K\u001b[1G\u001b[A\u001b[2K\u001b[1G\u001b[A\u001b[2K\u001b[1G\u001b[A\u001b[2K\u001b[1G\u001b[A\u001b[2K\u001b[1Gpulling manifest \n",
      "pulling 5ee4f07cdb9b... 100% ▕████████████████▏ 1.9 GB                         \n",
      "pulling 66b9ea09bd5b... 100% ▕████████████████▏   68 B                         \n",
      "pulling eb4402837c78... 100% ▕████████████████▏ 1.5 KB                         \n",
      "pulling b5c0e5cf74cf... 100% ▕████████████████▏ 7.4 KB                         \u001b[?25htime=2024-10-24T11:01:56.308Z level=INFO source=download.go:175 msg=\"downloading 161ddde4c9cd in 1 487 B part(s)\"\n",
      "\u001b[?25l\u001b[2K\u001b[1G\u001b[A\u001b[2K\u001b[1G\u001b[A\u001b[2K\u001b[1G\u001b[A\u001b[2K\u001b[1G\u001b[A\u001b[2K\u001b[1Gpulling manifest \n",
      "pulling 5ee4f07cdb9b... 100% ▕████████████████▏ 1.9 GB                         \n",
      "pulling 66b9ea09bd5b... 100% ▕████████████████▏   68 B                         \n",
      "pulling eb4402837c78... 100% ▕████████████████▏ 1.5 KB                         \n",
      "pulling b5c0e5cf74cf... 100% ▕████████████████▏ 7.4 KB                         \n",
      "pulling 161ddde4c9cd...   0% ▕                ▏    0 B/ 487 B                  \u001b[?25h\u001b[?25l\u001b[2K\u001b[1G\u001b[A\u001b[2K\u001b[1G\u001b[A\u001b[2K\u001b[1G\u001b[A\u001b[2K\u001b[1G\u001b[A\u001b[2K\u001b[1G\u001b[A\u001b[2K\u001b[1Gpulling manifest \n",
      "pulling 5ee4f07cdb9b... 100% ▕████████████████▏ 1.9 GB                         \n",
      "pulling 66b9ea09bd5b... 100% ▕████████████████▏   68 B                         \n",
      "pulling eb4402837c78... 100% ▕████████████████▏ 1.5 KB                         \n",
      "pulling b5c0e5cf74cf... 100% ▕████████████████▏ 7.4 KB                         \n",
      "pulling 161ddde4c9cd... 100% ▕████████████████▏  487 B                         \u001b[?25h\u001b[?25l\u001b[2K\u001b[1G\u001b[A\u001b[2K\u001b[1G\u001b[A\u001b[2K\u001b[1G\u001b[A\u001b[2K\u001b[1G\u001b[A\u001b[2K\u001b[1G\u001b[A\u001b[2K\u001b[1Gpulling manifest \n",
      "pulling 5ee4f07cdb9b... 100% ▕████████████████▏ 1.9 GB                         \n",
      "pulling 66b9ea09bd5b... 100% ▕████████████████▏   68 B                         \n",
      "pulling eb4402837c78... 100% ▕████████████████▏ 1.5 KB                         \n",
      "pulling b5c0e5cf74cf... 100% ▕████████████████▏ 7.4 KB                         \n",
      "pulling 161ddde4c9cd... 100% ▕████████████████▏  487 B                         \u001b[?25h\u001b[?25l\u001b[2K\u001b[1G\u001b[A\u001b[2K\u001b[1G\u001b[A\u001b[2K\u001b[1G\u001b[A\u001b[2K\u001b[1G\u001b[A\u001b[2K\u001b[1G\u001b[A\u001b[2K\u001b[1Gpulling manifest \n",
      "pulling 5ee4f07cdb9b... 100% ▕████████████████▏ 1.9 GB                         \n",
      "pulling 66b9ea09bd5b... 100% ▕████████████████▏   68 B                         \n",
      "pulling eb4402837c78... 100% ▕████████████████▏ 1.5 KB                         \n",
      "pulling b5c0e5cf74cf... 100% ▕████████████████▏ 7.4 KB                         \n",
      "pulling 161ddde4c9cd... 100% ▕████████████████▏  487 B                         \u001b[?25h\u001b[?25l\u001b[2K\u001b[1G\u001b[A\u001b[2K\u001b[1G\u001b[A\u001b[2K\u001b[1G\u001b[A\u001b[2K\u001b[1G\u001b[A\u001b[2K\u001b[1G\u001b[A\u001b[2K\u001b[1Gpulling manifest \n",
      "pulling 5ee4f07cdb9b... 100% ▕████████████████▏ 1.9 GB                         \n",
      "pulling 66b9ea09bd5b... 100% ▕████████████████▏   68 B                         \n",
      "pulling eb4402837c78... 100% ▕████████████████▏ 1.5 KB                         \n",
      "pulling b5c0e5cf74cf... 100% ▕████████████████▏ 7.4 KB                         \n",
      "pulling 161ddde4c9cd... 100% ▕████████████████▏  487 B                         \u001b[?25h\u001b[?25l\u001b[2K\u001b[1G\u001b[A\u001b[2K\u001b[1G\u001b[A\u001b[2K\u001b[1G\u001b[A\u001b[2K\u001b[1G\u001b[A\u001b[2K\u001b[1G\u001b[A\u001b[2K\u001b[1Gpulling manifest \n",
      "pulling 5ee4f07cdb9b... 100% ▕████████████████▏ 1.9 GB                         \n",
      "pulling 66b9ea09bd5b... 100% ▕████████████████▏   68 B                         \n",
      "pulling eb4402837c78... 100% ▕████████████████▏ 1.5 KB                         \n",
      "pulling b5c0e5cf74cf... 100% ▕████████████████▏ 7.4 KB                         \n",
      "pulling 161ddde4c9cd... 100% ▕████████████████▏  487 B                         \u001b[?25h\u001b[?25l\u001b[2K\u001b[1G\u001b[A\u001b[2K\u001b[1G\u001b[A\u001b[2K\u001b[1G\u001b[A\u001b[2K\u001b[1G\u001b[A\u001b[2K\u001b[1G\u001b[A\u001b[2K\u001b[1Gpulling manifest \n",
      "pulling 5ee4f07cdb9b... 100% ▕████████████████▏ 1.9 GB                         \n",
      "pulling 66b9ea09bd5b... 100% ▕████████████████▏   68 B                         \n",
      "pulling eb4402837c78... 100% ▕████████████████▏ 1.5 KB                         \n",
      "pulling b5c0e5cf74cf... 100% ▕████████████████▏ 7.4 KB                         \n",
      "pulling 161ddde4c9cd... 100% ▕████████████████▏  487 B                         \u001b[?25h\u001b[?25l\u001b[2K\u001b[1G\u001b[A\u001b[2K\u001b[1G\u001b[A\u001b[2K\u001b[1G\u001b[A\u001b[2K\u001b[1G\u001b[A\u001b[2K\u001b[1G\u001b[A\u001b[2K\u001b[1Gpulling manifest \n",
      "pulling 5ee4f07cdb9b... 100% ▕████████████████▏ 1.9 GB                         \n",
      "pulling 66b9ea09bd5b... 100% ▕████████████████▏   68 B                         \n",
      "pulling eb4402837c78... 100% ▕████████████████▏ 1.5 KB                         \n",
      "pulling b5c0e5cf74cf... 100% ▕████████████████▏ 7.4 KB                         \n",
      "pulling 161ddde4c9cd... 100% ▕████████████████▏  487 B                         \u001b[?25h\u001b[?25l\u001b[2K\u001b[1G\u001b[A\u001b[2K\u001b[1G\u001b[A\u001b[2K\u001b[1G\u001b[A\u001b[2K\u001b[1G\u001b[A\u001b[2K\u001b[1G\u001b[A\u001b[2K\u001b[1Gpulling manifest \n",
      "pulling 5ee4f07cdb9b... 100% ▕████████████████▏ 1.9 GB                         \n",
      "pulling 66b9ea09bd5b... 100% ▕████████████████▏   68 B                         \n",
      "pulling eb4402837c78... 100% ▕████████████████▏ 1.5 KB                         \n",
      "pulling b5c0e5cf74cf... 100% ▕████████████████▏ 7.4 KB                         \n",
      "pulling 161ddde4c9cd... 100% ▕████████████████▏  487 B                         \u001b[?25h\u001b[?25l\u001b[2K\u001b[1G\u001b[A\u001b[2K\u001b[1G\u001b[A\u001b[2K\u001b[1G\u001b[A\u001b[2K\u001b[1G\u001b[A\u001b[2K\u001b[1G\u001b[A\u001b[2K\u001b[1Gpulling manifest \n",
      "pulling 5ee4f07cdb9b... 100% ▕████████████████▏ 1.9 GB                         \n",
      "pulling 66b9ea09bd5b... 100% ▕████████████████▏   68 B                         \n",
      "pulling eb4402837c78... 100% ▕████████████████▏ 1.5 KB                         \n",
      "pulling b5c0e5cf74cf... 100% ▕████████████████▏ 7.4 KB                         \n",
      "pulling 161ddde4c9cd... 100% ▕████████████████▏  487 B                         \u001b[?25h\u001b[?25l\u001b[2K\u001b[1G\u001b[A\u001b[2K\u001b[1G\u001b[A\u001b[2K\u001b[1G\u001b[A\u001b[2K\u001b[1G\u001b[A\u001b[2K\u001b[1G\u001b[A\u001b[2K\u001b[1Gpulling manifest \n",
      "pulling 5ee4f07cdb9b... 100% ▕████████████████▏ 1.9 GB                         \n",
      "pulling 66b9ea09bd5b... 100% ▕████████████████▏   68 B                         \n",
      "pulling eb4402837c78... 100% ▕████████████████▏ 1.5 KB                         \n",
      "pulling b5c0e5cf74cf... 100% ▕████████████████▏ 7.4 KB                         \n",
      "pulling 161ddde4c9cd... 100% ▕████████████████▏  487 B                         \n",
      "verifying sha256 digest ⠋ \u001b[?25h\u001b[?25l\u001b[2K\u001b[1G\u001b[A\u001b[2K\u001b[1G\u001b[A\u001b[2K\u001b[1G\u001b[A\u001b[2K\u001b[1G\u001b[A\u001b[2K\u001b[1G\u001b[A\u001b[2K\u001b[1G\u001b[A\u001b[2K\u001b[1Gpulling manifest \n",
      "pulling 5ee4f07cdb9b... 100% ▕████████████████▏ 1.9 GB                         \n",
      "pulling 66b9ea09bd5b... 100% ▕████████████████▏   68 B                         \n",
      "pulling eb4402837c78... 100% ▕████████████████▏ 1.5 KB                         \n",
      "pulling b5c0e5cf74cf... 100% ▕████████████████▏ 7.4 KB                         \n",
      "pulling 161ddde4c9cd... 100% ▕████████████████▏  487 B                         \n",
      "verifying sha256 digest ⠙ \u001b[?25h\u001b[?25l\u001b[2K\u001b[1G\u001b[A\u001b[2K\u001b[1G\u001b[A\u001b[2K\u001b[1G\u001b[A\u001b[2K\u001b[1G\u001b[A\u001b[2K\u001b[1G\u001b[A\u001b[2K\u001b[1G\u001b[A\u001b[2K\u001b[1Gpulling manifest \n",
      "pulling 5ee4f07cdb9b... 100% ▕████████████████▏ 1.9 GB                         \n",
      "pulling 66b9ea09bd5b... 100% ▕████████████████▏   68 B                         \n",
      "pulling eb4402837c78... 100% ▕████████████████▏ 1.5 KB                         \n",
      "pulling b5c0e5cf74cf... 100% ▕████████████████▏ 7.4 KB                         \n",
      "pulling 161ddde4c9cd... 100% ▕████████████████▏  487 B                         \n",
      "verifying sha256 digest ⠹ \u001b[?25h\u001b[?25l\u001b[2K\u001b[1G\u001b[A\u001b[2K\u001b[1G\u001b[A\u001b[2K\u001b[1G\u001b[A\u001b[2K\u001b[1G\u001b[A\u001b[2K\u001b[1G\u001b[A\u001b[2K\u001b[1G\u001b[A\u001b[2K\u001b[1Gpulling manifest \n",
      "pulling 5ee4f07cdb9b... 100% ▕████████████████▏ 1.9 GB                         \n",
      "pulling 66b9ea09bd5b... 100% ▕████████████████▏   68 B                         \n",
      "pulling eb4402837c78... 100% ▕████████████████▏ 1.5 KB                         \n",
      "pulling b5c0e5cf74cf... 100% ▕████████████████▏ 7.4 KB                         \n",
      "pulling 161ddde4c9cd... 100% ▕████████████████▏  487 B                         \n",
      "verifying sha256 digest ⠸ \u001b[?25h\u001b[?25l\u001b[2K\u001b[1G\u001b[A\u001b[2K\u001b[1G\u001b[A\u001b[2K\u001b[1G\u001b[A\u001b[2K\u001b[1G\u001b[A\u001b[2K\u001b[1G\u001b[A\u001b[2K\u001b[1G\u001b[A\u001b[2K\u001b[1Gpulling manifest \n",
      "pulling 5ee4f07cdb9b... 100% ▕████████████████▏ 1.9 GB                         \n",
      "pulling 66b9ea09bd5b... 100% ▕████████████████▏   68 B                         \n",
      "pulling eb4402837c78... 100% ▕████████████████▏ 1.5 KB                         \n",
      "pulling b5c0e5cf74cf... 100% ▕████████████████▏ 7.4 KB                         \n",
      "pulling 161ddde4c9cd... 100% ▕████████████████▏  487 B                         \n",
      "verifying sha256 digest ⠼ \u001b[?25h\u001b[?25l\u001b[2K\u001b[1G\u001b[A\u001b[2K\u001b[1G\u001b[A\u001b[2K\u001b[1G\u001b[A\u001b[2K\u001b[1G\u001b[A\u001b[2K\u001b[1G\u001b[A\u001b[2K\u001b[1G\u001b[A\u001b[2K\u001b[1Gpulling manifest \n",
      "pulling 5ee4f07cdb9b... 100% ▕████████████████▏ 1.9 GB                         \n",
      "pulling 66b9ea09bd5b... 100% ▕████████████████▏   68 B                         \n",
      "pulling eb4402837c78... 100% ▕████████████████▏ 1.5 KB                         \n",
      "pulling b5c0e5cf74cf... 100% ▕████████████████▏ 7.4 KB                         \n",
      "pulling 161ddde4c9cd... 100% ▕████████████████▏  487 B                         \n",
      "verifying sha256 digest ⠴ \u001b[?25h\u001b[?25l\u001b[2K\u001b[1G\u001b[A\u001b[2K\u001b[1G\u001b[A\u001b[2K\u001b[1G\u001b[A\u001b[2K\u001b[1G\u001b[A\u001b[2K\u001b[1G\u001b[A\u001b[2K\u001b[1G\u001b[A\u001b[2K\u001b[1Gpulling manifest \n",
      "pulling 5ee4f07cdb9b... 100% ▕████████████████▏ 1.9 GB                         \n",
      "pulling 66b9ea09bd5b... 100% ▕████████████████▏   68 B                         \n",
      "pulling eb4402837c78... 100% ▕████████████████▏ 1.5 KB                         \n",
      "pulling b5c0e5cf74cf... 100% ▕████████████████▏ 7.4 KB                         \n",
      "pulling 161ddde4c9cd... 100% ▕████████████████▏  487 B                         \n",
      "verifying sha256 digest ⠦ \u001b[?25h\u001b[?25l\u001b[2K\u001b[1G\u001b[A\u001b[2K\u001b[1G\u001b[A\u001b[2K\u001b[1G\u001b[A\u001b[2K\u001b[1G\u001b[A\u001b[2K\u001b[1G\u001b[A\u001b[2K\u001b[1G\u001b[A\u001b[2K\u001b[1Gpulling manifest \n",
      "pulling 5ee4f07cdb9b... 100% ▕████████████████▏ 1.9 GB                         \n",
      "pulling 66b9ea09bd5b... 100% ▕████████████████▏   68 B                         \n",
      "pulling eb4402837c78... 100% ▕████████████████▏ 1.5 KB                         \n",
      "pulling b5c0e5cf74cf... 100% ▕████████████████▏ 7.4 KB                         \n",
      "pulling 161ddde4c9cd... 100% ▕████████████████▏  487 B                         \n",
      "verifying sha256 digest ⠧ \u001b[?25h\u001b[?25l\u001b[2K\u001b[1G\u001b[A\u001b[2K\u001b[1G\u001b[A\u001b[2K\u001b[1G\u001b[A\u001b[2K\u001b[1G\u001b[A\u001b[2K\u001b[1G\u001b[A\u001b[2K\u001b[1G\u001b[A\u001b[2K\u001b[1Gpulling manifest \n",
      "pulling 5ee4f07cdb9b... 100% ▕████████████████▏ 1.9 GB                         \n",
      "pulling 66b9ea09bd5b... 100% ▕████████████████▏   68 B                         \n",
      "pulling eb4402837c78... 100% ▕████████████████▏ 1.5 KB                         \n",
      "pulling b5c0e5cf74cf... 100% ▕████████████████▏ 7.4 KB                         \n",
      "pulling 161ddde4c9cd... 100% ▕████████████████▏  487 B                         \n",
      "verifying sha256 digest ⠇ \u001b[?25h\u001b[?25l\u001b[2K\u001b[1G\u001b[A\u001b[2K\u001b[1G\u001b[A\u001b[2K\u001b[1G\u001b[A\u001b[2K\u001b[1G\u001b[A\u001b[2K\u001b[1G\u001b[A\u001b[2K\u001b[1G\u001b[A\u001b[2K\u001b[1Gpulling manifest \n",
      "pulling 5ee4f07cdb9b... 100% ▕████████████████▏ 1.9 GB                         \n",
      "pulling 66b9ea09bd5b... 100% ▕████████████████▏   68 B                         \n",
      "pulling eb4402837c78... 100% ▕████████████████▏ 1.5 KB                         \n",
      "pulling b5c0e5cf74cf... 100% ▕████████████████▏ 7.4 KB                         \n",
      "pulling 161ddde4c9cd... 100% ▕████████████████▏  487 B                         \n",
      "verifying sha256 digest ⠏ \u001b[?25h\u001b[?25l\u001b[2K\u001b[1G\u001b[A\u001b[2K\u001b[1G\u001b[A\u001b[2K\u001b[1G\u001b[A\u001b[2K\u001b[1G\u001b[A\u001b[2K\u001b[1G\u001b[A\u001b[2K\u001b[1G\u001b[A\u001b[2K\u001b[1Gpulling manifest \n",
      "pulling 5ee4f07cdb9b... 100% ▕████████████████▏ 1.9 GB                         \n",
      "pulling 66b9ea09bd5b... 100% ▕████████████████▏   68 B                         \n",
      "pulling eb4402837c78... 100% ▕████████████████▏ 1.5 KB                         \n",
      "pulling b5c0e5cf74cf... 100% ▕████████████████▏ 7.4 KB                         \n",
      "pulling 161ddde4c9cd... 100% ▕████████████████▏  487 B                         \n",
      "verifying sha256 digest ⠋ \u001b[?25h\u001b[?25l\u001b[2K\u001b[1G\u001b[A\u001b[2K\u001b[1G\u001b[A\u001b[2K\u001b[1G\u001b[A\u001b[2K\u001b[1G\u001b[A\u001b[2K\u001b[1G\u001b[A\u001b[2K\u001b[1G\u001b[A\u001b[2K\u001b[1Gpulling manifest \n",
      "pulling 5ee4f07cdb9b... 100% ▕████████████████▏ 1.9 GB                         \n",
      "pulling 66b9ea09bd5b... 100% ▕████████████████▏   68 B                         \n",
      "pulling eb4402837c78... 100% ▕████████████████▏ 1.5 KB                         \n",
      "pulling b5c0e5cf74cf... 100% ▕████████████████▏ 7.4 KB                         \n",
      "pulling 161ddde4c9cd... 100% ▕████████████████▏  487 B                         \n",
      "verifying sha256 digest ⠙ \u001b[?25h\u001b[?25l\u001b[2K\u001b[1G\u001b[A\u001b[2K\u001b[1G\u001b[A\u001b[2K\u001b[1G\u001b[A\u001b[2K\u001b[1G\u001b[A\u001b[2K\u001b[1G\u001b[A\u001b[2K\u001b[1G\u001b[A\u001b[2K\u001b[1Gpulling manifest \n",
      "pulling 5ee4f07cdb9b... 100% ▕████████████████▏ 1.9 GB                         \n",
      "pulling 66b9ea09bd5b... 100% ▕████████████████▏   68 B                         \n",
      "pulling eb4402837c78... 100% ▕████████████████▏ 1.5 KB                         \n",
      "pulling b5c0e5cf74cf... 100% ▕████████████████▏ 7.4 KB                         \n",
      "pulling 161ddde4c9cd... 100% ▕████████████████▏  487 B                         \n",
      "verifying sha256 digest ⠹ \u001b[?25h\u001b[?25l\u001b[2K\u001b[1G\u001b[A\u001b[2K\u001b[1G\u001b[A\u001b[2K\u001b[1G\u001b[A\u001b[2K\u001b[1G\u001b[A\u001b[2K\u001b[1G\u001b[A\u001b[2K\u001b[1G\u001b[A\u001b[2K\u001b[1Gpulling manifest \n",
      "pulling 5ee4f07cdb9b... 100% ▕████████████████▏ 1.9 GB                         \n",
      "pulling 66b9ea09bd5b... 100% ▕████████████████▏   68 B                         \n",
      "pulling eb4402837c78... 100% ▕████████████████▏ 1.5 KB                         \n",
      "pulling b5c0e5cf74cf... 100% ▕████████████████▏ 7.4 KB                         \n",
      "pulling 161ddde4c9cd... 100% ▕████████████████▏  487 B                         \n",
      "verifying sha256 digest ⠸ \u001b[?25h\u001b[?25l\u001b[2K\u001b[1G\u001b[A\u001b[2K\u001b[1G\u001b[A\u001b[2K\u001b[1G\u001b[A\u001b[2K\u001b[1G\u001b[A\u001b[2K\u001b[1G\u001b[A\u001b[2K\u001b[1G\u001b[A\u001b[2K\u001b[1Gpulling manifest \n",
      "pulling 5ee4f07cdb9b... 100% ▕████████████████▏ 1.9 GB                         \n",
      "pulling 66b9ea09bd5b... 100% ▕████████████████▏   68 B                         \n",
      "pulling eb4402837c78... 100% ▕████████████████▏ 1.5 KB                         \n",
      "pulling b5c0e5cf74cf... 100% ▕████████████████▏ 7.4 KB                         \n",
      "pulling 161ddde4c9cd... 100% ▕████████████████▏  487 B                         \n",
      "verifying sha256 digest ⠼ \u001b[?25h\u001b[?25l\u001b[2K\u001b[1G\u001b[A\u001b[2K\u001b[1G\u001b[A\u001b[2K\u001b[1G\u001b[A\u001b[2K\u001b[1G\u001b[A\u001b[2K\u001b[1G\u001b[A\u001b[2K\u001b[1G\u001b[A\u001b[2K\u001b[1Gpulling manifest \n",
      "pulling 5ee4f07cdb9b... 100% ▕████████████████▏ 1.9 GB                         \n",
      "pulling 66b9ea09bd5b... 100% ▕████████████████▏   68 B                         \n",
      "pulling eb4402837c78... 100% ▕████████████████▏ 1.5 KB                         \n",
      "pulling b5c0e5cf74cf... 100% ▕████████████████▏ 7.4 KB                         \n",
      "pulling 161ddde4c9cd... 100% ▕████████████████▏  487 B                         \n",
      "verifying sha256 digest ⠴ \u001b[?25h\u001b[?25l\u001b[2K\u001b[1G\u001b[A\u001b[2K\u001b[1G\u001b[A\u001b[2K\u001b[1G\u001b[A\u001b[2K\u001b[1G\u001b[A\u001b[2K\u001b[1G\u001b[A\u001b[2K\u001b[1G\u001b[A\u001b[2K\u001b[1Gpulling manifest \n",
      "pulling 5ee4f07cdb9b... 100% ▕████████████████▏ 1.9 GB                         \n",
      "pulling 66b9ea09bd5b... 100% ▕████████████████▏   68 B                         \n",
      "pulling eb4402837c78... 100% ▕████████████████▏ 1.5 KB                         \n",
      "pulling b5c0e5cf74cf... 100% ▕████████████████▏ 7.4 KB                         \n",
      "pulling 161ddde4c9cd... 100% ▕████████████████▏  487 B                         \n",
      "verifying sha256 digest ⠦ \u001b[?25h\u001b[?25l\u001b[2K\u001b[1G\u001b[A\u001b[2K\u001b[1G\u001b[A\u001b[2K\u001b[1G\u001b[A\u001b[2K\u001b[1G\u001b[A\u001b[2K\u001b[1G\u001b[A\u001b[2K\u001b[1G\u001b[A\u001b[2K\u001b[1Gpulling manifest \n",
      "pulling 5ee4f07cdb9b... 100% ▕████████████████▏ 1.9 GB                         \n",
      "pulling 66b9ea09bd5b... 100% ▕████████████████▏   68 B                         \n",
      "pulling eb4402837c78... 100% ▕████████████████▏ 1.5 KB                         \n",
      "pulling b5c0e5cf74cf... 100% ▕████████████████▏ 7.4 KB                         \n",
      "pulling 161ddde4c9cd... 100% ▕████████████████▏  487 B                         \n",
      "verifying sha256 digest ⠧ \u001b[?25h\u001b[?25l\u001b[2K\u001b[1G\u001b[A\u001b[2K\u001b[1G\u001b[A\u001b[2K\u001b[1G\u001b[A\u001b[2K\u001b[1G\u001b[A\u001b[2K\u001b[1G\u001b[A\u001b[2K\u001b[1G\u001b[A\u001b[2K\u001b[1Gpulling manifest \n",
      "pulling 5ee4f07cdb9b... 100% ▕████████████████▏ 1.9 GB                         \n",
      "pulling 66b9ea09bd5b... 100% ▕████████████████▏   68 B                         \n",
      "pulling eb4402837c78... 100% ▕████████████████▏ 1.5 KB                         \n",
      "pulling b5c0e5cf74cf... 100% ▕████████████████▏ 7.4 KB                         \n",
      "pulling 161ddde4c9cd... 100% ▕████████████████▏  487 B                         \n",
      "verifying sha256 digest ⠇ \u001b[?25h\u001b[?25l\u001b[2K\u001b[1G\u001b[A\u001b[2K\u001b[1G\u001b[A\u001b[2K\u001b[1G\u001b[A\u001b[2K\u001b[1G\u001b[A\u001b[2K\u001b[1G\u001b[A\u001b[2K\u001b[1G\u001b[A\u001b[2K\u001b[1Gpulling manifest \n",
      "pulling 5ee4f07cdb9b... 100% ▕████████████████▏ 1.9 GB                         \n",
      "pulling 66b9ea09bd5b... 100% ▕████████████████▏   68 B                         \n",
      "pulling eb4402837c78... 100% ▕████████████████▏ 1.5 KB                         \n",
      "pulling b5c0e5cf74cf... 100% ▕████████████████▏ 7.4 KB                         \n",
      "pulling 161ddde4c9cd... 100% ▕████████████████▏  487 B                         \n",
      "verifying sha256 digest ⠏ \u001b[?25h\u001b[?25l\u001b[2K\u001b[1G\u001b[A\u001b[2K\u001b[1G\u001b[A\u001b[2K\u001b[1G\u001b[A\u001b[2K\u001b[1G\u001b[A\u001b[2K\u001b[1G\u001b[A\u001b[2K\u001b[1G\u001b[A\u001b[2K\u001b[1Gpulling manifest \n",
      "pulling 5ee4f07cdb9b... 100% ▕████████████████▏ 1.9 GB                         \n",
      "pulling 66b9ea09bd5b... 100% ▕████████████████▏   68 B                         \n",
      "pulling eb4402837c78... 100% ▕████████████████▏ 1.5 KB                         \n",
      "pulling b5c0e5cf74cf... 100% ▕████████████████▏ 7.4 KB                         \n",
      "pulling 161ddde4c9cd... 100% ▕████████████████▏  487 B                         \n",
      "verifying sha256 digest ⠋ \u001b[?25h\u001b[?25l\u001b[2K\u001b[1G\u001b[A\u001b[2K\u001b[1G\u001b[A\u001b[2K\u001b[1G\u001b[A\u001b[2K\u001b[1G\u001b[A\u001b[2K\u001b[1G\u001b[A\u001b[2K\u001b[1G\u001b[A\u001b[2K\u001b[1Gpulling manifest \n",
      "pulling 5ee4f07cdb9b... 100% ▕████████████████▏ 1.9 GB                         \n",
      "pulling 66b9ea09bd5b... 100% ▕████████████████▏   68 B                         \n",
      "pulling eb4402837c78... 100% ▕████████████████▏ 1.5 KB                         \n",
      "pulling b5c0e5cf74cf... 100% ▕████████████████▏ 7.4 KB                         \n",
      "pulling 161ddde4c9cd... 100% ▕████████████████▏  487 B                         \n",
      "verifying sha256 digest ⠙ \u001b[?25h\u001b[?25l\u001b[2K\u001b[1G\u001b[A\u001b[2K\u001b[1G\u001b[A\u001b[2K\u001b[1G\u001b[A\u001b[2K\u001b[1G\u001b[A\u001b[2K\u001b[1G\u001b[A\u001b[2K\u001b[1G\u001b[A\u001b[2K\u001b[1Gpulling manifest \n",
      "pulling 5ee4f07cdb9b... 100% ▕████████████████▏ 1.9 GB                         \n",
      "pulling 66b9ea09bd5b... 100% ▕████████████████▏   68 B                         \n",
      "pulling eb4402837c78... 100% ▕████████████████▏ 1.5 KB                         \n",
      "pulling b5c0e5cf74cf... 100% ▕████████████████▏ 7.4 KB                         \n",
      "pulling 161ddde4c9cd... 100% ▕████████████████▏  487 B                         \n",
      "verifying sha256 digest ⠹ \u001b[?25h\u001b[?25l\u001b[2K\u001b[1G\u001b[A\u001b[2K\u001b[1G\u001b[A\u001b[2K\u001b[1G\u001b[A\u001b[2K\u001b[1G\u001b[A\u001b[2K\u001b[1G\u001b[A\u001b[2K\u001b[1G\u001b[A\u001b[2K\u001b[1Gpulling manifest \n",
      "pulling 5ee4f07cdb9b... 100% ▕████████████████▏ 1.9 GB                         \n",
      "pulling 66b9ea09bd5b... 100% ▕████████████████▏   68 B                         \n",
      "pulling eb4402837c78... 100% ▕████████████████▏ 1.5 KB                         \n",
      "pulling b5c0e5cf74cf... 100% ▕████████████████▏ 7.4 KB                         \n",
      "pulling 161ddde4c9cd... 100% ▕████████████████▏  487 B                         \n",
      "verifying sha256 digest ⠸ \u001b[?25h\u001b[?25l\u001b[2K\u001b[1G\u001b[A\u001b[2K\u001b[1G\u001b[A\u001b[2K\u001b[1G\u001b[A\u001b[2K\u001b[1G\u001b[A\u001b[2K\u001b[1G\u001b[A\u001b[2K\u001b[1G\u001b[A\u001b[2K\u001b[1Gpulling manifest \n",
      "pulling 5ee4f07cdb9b... 100% ▕████████████████▏ 1.9 GB                         \n",
      "pulling 66b9ea09bd5b... 100% ▕████████████████▏   68 B                         \n",
      "pulling eb4402837c78... 100% ▕████████████████▏ 1.5 KB                         \n",
      "pulling b5c0e5cf74cf... 100% ▕████████████████▏ 7.4 KB                         \n",
      "pulling 161ddde4c9cd... 100% ▕████████████████▏  487 B                         \n",
      "verifying sha256 digest ⠼ \u001b[?25h\u001b[?25l\u001b[2K\u001b[1G\u001b[A\u001b[2K\u001b[1G\u001b[A\u001b[2K\u001b[1G\u001b[A\u001b[2K\u001b[1G\u001b[A\u001b[2K\u001b[1G\u001b[A\u001b[2K\u001b[1G\u001b[A\u001b[2K\u001b[1Gpulling manifest \n",
      "pulling 5ee4f07cdb9b... 100% ▕████████████████▏ 1.9 GB                         \n",
      "pulling 66b9ea09bd5b... 100% ▕████████████████▏   68 B                         \n",
      "pulling eb4402837c78... 100% ▕████████████████▏ 1.5 KB                         \n",
      "pulling b5c0e5cf74cf... 100% ▕████████████████▏ 7.4 KB                         \n",
      "pulling 161ddde4c9cd... 100% ▕████████████████▏  487 B                         \n",
      "verifying sha256 digest ⠴ \u001b[?25h\u001b[?25l\u001b[2K\u001b[1G\u001b[A\u001b[2K\u001b[1G\u001b[A\u001b[2K\u001b[1G\u001b[A\u001b[2K\u001b[1G\u001b[A\u001b[2K\u001b[1G\u001b[A\u001b[2K\u001b[1G\u001b[A\u001b[2K\u001b[1Gpulling manifest \n",
      "pulling 5ee4f07cdb9b... 100% ▕████████████████▏ 1.9 GB                         \n",
      "pulling 66b9ea09bd5b... 100% ▕████████████████▏   68 B                         \n",
      "pulling eb4402837c78... 100% ▕████████████████▏ 1.5 KB                         \n",
      "pulling b5c0e5cf74cf... 100% ▕████████████████▏ 7.4 KB                         \n",
      "pulling 161ddde4c9cd... 100% ▕████████████████▏  487 B                         \n",
      "verifying sha256 digest ⠦ \u001b[?25h\u001b[?25l\u001b[2K\u001b[1G\u001b[A\u001b[2K\u001b[1G\u001b[A\u001b[2K\u001b[1G\u001b[A\u001b[2K\u001b[1G\u001b[A\u001b[2K\u001b[1G\u001b[A\u001b[2K\u001b[1G\u001b[A\u001b[2K\u001b[1Gpulling manifest \n",
      "pulling 5ee4f07cdb9b... 100% ▕████████████████▏ 1.9 GB                         \n",
      "pulling 66b9ea09bd5b... 100% ▕████████████████▏   68 B                         \n",
      "pulling eb4402837c78... 100% ▕████████████████▏ 1.5 KB                         \n",
      "pulling b5c0e5cf74cf... 100% ▕████████████████▏ 7.4 KB                         \n",
      "pulling 161ddde4c9cd... 100% ▕████████████████▏  487 B                         \n",
      "verifying sha256 digest ⠧ \u001b[?25h\u001b[?25l\u001b[2K\u001b[1G\u001b[A\u001b[2K\u001b[1G\u001b[A\u001b[2K\u001b[1G\u001b[A\u001b[2K\u001b[1G\u001b[A\u001b[2K\u001b[1G\u001b[A\u001b[2K\u001b[1G\u001b[A\u001b[2K\u001b[1Gpulling manifest \n",
      "pulling 5ee4f07cdb9b... 100% ▕████████████████▏ 1.9 GB                         \n",
      "pulling 66b9ea09bd5b... 100% ▕████████████████▏   68 B                         \n",
      "pulling eb4402837c78... 100% ▕████████████████▏ 1.5 KB                         \n",
      "pulling b5c0e5cf74cf... 100% ▕████████████████▏ 7.4 KB                         \n",
      "pulling 161ddde4c9cd... 100% ▕████████████████▏  487 B                         \n",
      "verifying sha256 digest ⠇ \u001b[?25h\u001b[?25l\u001b[2K\u001b[1G\u001b[A\u001b[2K\u001b[1G\u001b[A\u001b[2K\u001b[1G\u001b[A\u001b[2K\u001b[1G\u001b[A\u001b[2K\u001b[1G\u001b[A\u001b[2K\u001b[1G\u001b[A\u001b[2K\u001b[1Gpulling manifest \n",
      "pulling 5ee4f07cdb9b... 100% ▕████████████████▏ 1.9 GB                         \n",
      "pulling 66b9ea09bd5b... 100% ▕████████████████▏   68 B                         \n",
      "pulling eb4402837c78... 100% ▕████████████████▏ 1.5 KB                         \n",
      "pulling b5c0e5cf74cf... 100% ▕████████████████▏ 7.4 KB                         \n",
      "pulling 161ddde4c9cd... 100% ▕████████████████▏  487 B                         \n",
      "verifying sha256 digest ⠏ \u001b[?25h\u001b[?25l\u001b[2K\u001b[1G\u001b[A\u001b[2K\u001b[1G\u001b[A\u001b[2K\u001b[1G\u001b[A\u001b[2K\u001b[1G\u001b[A\u001b[2K\u001b[1G\u001b[A\u001b[2K\u001b[1G\u001b[A\u001b[2K\u001b[1Gpulling manifest \n",
      "pulling 5ee4f07cdb9b... 100% ▕████████████████▏ 1.9 GB                         \n",
      "pulling 66b9ea09bd5b... 100% ▕████████████████▏   68 B                         \n",
      "pulling eb4402837c78... 100% ▕████████████████▏ 1.5 KB                         \n",
      "pulling b5c0e5cf74cf... 100% ▕████████████████▏ 7.4 KB                         \n",
      "pulling 161ddde4c9cd... 100% ▕████████████████▏  487 B                         \n",
      "verifying sha256 digest ⠋ \u001b[?25h\u001b[?25l\u001b[2K\u001b[1G\u001b[A\u001b[2K\u001b[1G\u001b[A\u001b[2K\u001b[1G\u001b[A\u001b[2K\u001b[1G\u001b[A\u001b[2K\u001b[1G\u001b[A\u001b[2K\u001b[1G\u001b[A\u001b[2K\u001b[1Gpulling manifest \n",
      "pulling 5ee4f07cdb9b... 100% ▕████████████████▏ 1.9 GB                         \n",
      "pulling 66b9ea09bd5b... 100% ▕████████████████▏   68 B                         \n",
      "pulling eb4402837c78... 100% ▕████████████████▏ 1.5 KB                         \n",
      "pulling b5c0e5cf74cf... 100% ▕████████████████▏ 7.4 KB                         \n",
      "pulling 161ddde4c9cd... 100% ▕████████████████▏  487 B                         \n",
      "verifying sha256 digest ⠙ \u001b[?25h\u001b[?25l\u001b[2K\u001b[1G\u001b[A\u001b[2K\u001b[1G\u001b[A\u001b[2K\u001b[1G\u001b[A\u001b[2K\u001b[1G\u001b[A\u001b[2K\u001b[1G\u001b[A\u001b[2K\u001b[1G\u001b[A\u001b[2K\u001b[1Gpulling manifest \n",
      "pulling 5ee4f07cdb9b... 100% ▕████████████████▏ 1.9 GB                         \n",
      "pulling 66b9ea09bd5b... 100% ▕████████████████▏   68 B                         \n",
      "pulling eb4402837c78... 100% ▕████████████████▏ 1.5 KB                         \n",
      "pulling b5c0e5cf74cf... 100% ▕████████████████▏ 7.4 KB                         \n",
      "pulling 161ddde4c9cd... 100% ▕████████████████▏  487 B                         \n",
      "verifying sha256 digest ⠹ \u001b[?25h\u001b[?25l\u001b[2K\u001b[1G\u001b[A\u001b[2K\u001b[1G\u001b[A\u001b[2K\u001b[1G\u001b[A\u001b[2K\u001b[1G\u001b[A\u001b[2K\u001b[1G\u001b[A\u001b[2K\u001b[1G\u001b[A\u001b[2K\u001b[1Gpulling manifest \n",
      "pulling 5ee4f07cdb9b... 100% ▕████████████████▏ 1.9 GB                         \n",
      "pulling 66b9ea09bd5b... 100% ▕████████████████▏   68 B                         \n",
      "pulling eb4402837c78... 100% ▕████████████████▏ 1.5 KB                         \n",
      "pulling b5c0e5cf74cf... 100% ▕████████████████▏ 7.4 KB                         \n",
      "pulling 161ddde4c9cd... 100% ▕████████████████▏  487 B                         \n",
      "verifying sha256 digest ⠸ \u001b[?25h\u001b[?25l\u001b[2K\u001b[1G\u001b[A\u001b[2K\u001b[1G\u001b[A\u001b[2K\u001b[1G\u001b[A\u001b[2K\u001b[1G\u001b[A\u001b[2K\u001b[1G\u001b[A\u001b[2K\u001b[1G\u001b[A\u001b[2K\u001b[1Gpulling manifest \n",
      "pulling 5ee4f07cdb9b... 100% ▕████████████████▏ 1.9 GB                         \n",
      "pulling 66b9ea09bd5b... 100% ▕████████████████▏   68 B                         \n",
      "pulling eb4402837c78... 100% ▕████████████████▏ 1.5 KB                         \n",
      "pulling b5c0e5cf74cf... 100% ▕████████████████▏ 7.4 KB                         \n",
      "pulling 161ddde4c9cd... 100% ▕████████████████▏  487 B                         \n",
      "verifying sha256 digest ⠼ \u001b[?25h\u001b[?25l\u001b[2K\u001b[1G\u001b[A\u001b[2K\u001b[1G\u001b[A\u001b[2K\u001b[1G\u001b[A\u001b[2K\u001b[1G\u001b[A\u001b[2K\u001b[1G\u001b[A\u001b[2K\u001b[1G\u001b[A\u001b[2K\u001b[1Gpulling manifest \n",
      "pulling 5ee4f07cdb9b... 100% ▕████████████████▏ 1.9 GB                         \n",
      "pulling 66b9ea09bd5b... 100% ▕████████████████▏   68 B                         \n",
      "pulling eb4402837c78... 100% ▕████████████████▏ 1.5 KB                         \n",
      "pulling b5c0e5cf74cf... 100% ▕████████████████▏ 7.4 KB                         \n",
      "pulling 161ddde4c9cd... 100% ▕████████████████▏  487 B                         \n",
      "verifying sha256 digest ⠴ \u001b[?25h\u001b[?25l\u001b[2K\u001b[1G\u001b[A\u001b[2K\u001b[1G\u001b[A\u001b[2K\u001b[1G\u001b[A\u001b[2K\u001b[1G\u001b[A\u001b[2K\u001b[1G\u001b[A\u001b[2K\u001b[1G\u001b[A\u001b[2K\u001b[1Gpulling manifest \n",
      "pulling 5ee4f07cdb9b... 100% ▕████████████████▏ 1.9 GB                         \n",
      "pulling 66b9ea09bd5b... 100% ▕████████████████▏   68 B                         \n",
      "pulling eb4402837c78... 100% ▕████████████████▏ 1.5 KB                         \n",
      "pulling b5c0e5cf74cf... 100% ▕████████████████▏ 7.4 KB                         \n",
      "pulling 161ddde4c9cd... 100% ▕████████████████▏  487 B                         \n",
      "verifying sha256 digest ⠦ \u001b[?25h\u001b[?25l\u001b[2K\u001b[1G\u001b[A\u001b[2K\u001b[1G\u001b[A\u001b[2K\u001b[1G\u001b[A\u001b[2K\u001b[1G\u001b[A\u001b[2K\u001b[1G\u001b[A\u001b[2K\u001b[1G\u001b[A\u001b[2K\u001b[1Gpulling manifest \n",
      "pulling 5ee4f07cdb9b... 100% ▕████████████████▏ 1.9 GB                         \n",
      "pulling 66b9ea09bd5b... 100% ▕████████████████▏   68 B                         \n",
      "pulling eb4402837c78... 100% ▕████████████████▏ 1.5 KB                         \n",
      "pulling b5c0e5cf74cf... 100% ▕████████████████▏ 7.4 KB                         \n",
      "pulling 161ddde4c9cd... 100% ▕████████████████▏  487 B                         \n",
      "verifying sha256 digest ⠧ \u001b[?25h\u001b[?25l\u001b[2K\u001b[1G\u001b[A\u001b[2K\u001b[1G\u001b[A\u001b[2K\u001b[1G\u001b[A\u001b[2K\u001b[1G\u001b[A\u001b[2K\u001b[1G\u001b[A\u001b[2K\u001b[1G\u001b[A\u001b[2K\u001b[1Gpulling manifest \n",
      "pulling 5ee4f07cdb9b... 100% ▕████████████████▏ 1.9 GB                         \n",
      "pulling 66b9ea09bd5b... 100% ▕████████████████▏   68 B                         \n",
      "pulling eb4402837c78... 100% ▕████████████████▏ 1.5 KB                         \n",
      "pulling b5c0e5cf74cf... 100% ▕████████████████▏ 7.4 KB                         \n",
      "pulling 161ddde4c9cd... 100% ▕████████████████▏  487 B                         \n",
      "verifying sha256 digest ⠇ \u001b[?25h\u001b[?25l\u001b[2K\u001b[1G\u001b[A\u001b[2K\u001b[1G\u001b[A\u001b[2K\u001b[1G\u001b[A\u001b[2K\u001b[1G\u001b[A\u001b[2K\u001b[1G\u001b[A\u001b[2K\u001b[1G\u001b[A\u001b[2K\u001b[1Gpulling manifest \n",
      "pulling 5ee4f07cdb9b... 100% ▕████████████████▏ 1.9 GB                         \n",
      "pulling 66b9ea09bd5b... 100% ▕████████████████▏   68 B                         \n",
      "pulling eb4402837c78... 100% ▕████████████████▏ 1.5 KB                         \n",
      "pulling b5c0e5cf74cf... 100% ▕████████████████▏ 7.4 KB                         \n",
      "pulling 161ddde4c9cd... 100% ▕████████████████▏  487 B                         \n",
      "verifying sha256 digest ⠏ \u001b[?25h\u001b[?25l\u001b[2K\u001b[1G\u001b[A\u001b[2K\u001b[1G\u001b[A\u001b[2K\u001b[1G\u001b[A\u001b[2K\u001b[1G\u001b[A\u001b[2K\u001b[1G\u001b[A\u001b[2K\u001b[1G\u001b[A\u001b[2K\u001b[1Gpulling manifest \n",
      "pulling 5ee4f07cdb9b... 100% ▕████████████████▏ 1.9 GB                         \n",
      "pulling 66b9ea09bd5b... 100% ▕████████████████▏   68 B                         \n",
      "pulling eb4402837c78... 100% ▕████████████████▏ 1.5 KB                         \n",
      "pulling b5c0e5cf74cf... 100% ▕████████████████▏ 7.4 KB                         \n",
      "pulling 161ddde4c9cd... 100% ▕████████████████▏  487 B                         \n",
      "verifying sha256 digest ⠋ \u001b[?25h\u001b[?25l\u001b[2K\u001b[1G\u001b[A\u001b[2K\u001b[1G\u001b[A\u001b[2K\u001b[1G\u001b[A\u001b[2K\u001b[1G\u001b[A\u001b[2K\u001b[1G\u001b[A\u001b[2K\u001b[1G\u001b[A\u001b[2K\u001b[1Gpulling manifest \n",
      "pulling 5ee4f07cdb9b... 100% ▕████████████████▏ 1.9 GB                         \n",
      "pulling 66b9ea09bd5b... 100% ▕████████████████▏   68 B                         \n",
      "pulling eb4402837c78... 100% ▕████████████████▏ 1.5 KB                         \n",
      "pulling b5c0e5cf74cf... 100% ▕████████████████▏ 7.4 KB                         \n",
      "pulling 161ddde4c9cd... 100% ▕████████████████▏  487 B                         \n",
      "verifying sha256 digest ⠙ \u001b[?25h\u001b[?25l\u001b[2K\u001b[1G\u001b[A\u001b[2K\u001b[1G\u001b[A\u001b[2K\u001b[1G\u001b[A\u001b[2K\u001b[1G\u001b[A\u001b[2K\u001b[1G\u001b[A\u001b[2K\u001b[1G\u001b[A\u001b[2K\u001b[1Gpulling manifest \n",
      "pulling 5ee4f07cdb9b... 100% ▕████████████████▏ 1.9 GB                         \n",
      "pulling 66b9ea09bd5b... 100% ▕████████████████▏   68 B                         \n",
      "pulling eb4402837c78... 100% ▕████████████████▏ 1.5 KB                         \n",
      "pulling b5c0e5cf74cf... 100% ▕████████████████▏ 7.4 KB                         \n",
      "pulling 161ddde4c9cd... 100% ▕████████████████▏  487 B                         \n",
      "verifying sha256 digest ⠹ \u001b[?25h\u001b[?25l\u001b[2K\u001b[1G\u001b[A\u001b[2K\u001b[1G\u001b[A\u001b[2K\u001b[1G\u001b[A\u001b[2K\u001b[1G\u001b[A\u001b[2K\u001b[1G\u001b[A\u001b[2K\u001b[1G\u001b[A\u001b[2K\u001b[1Gpulling manifest \n",
      "pulling 5ee4f07cdb9b... 100% ▕████████████████▏ 1.9 GB                         \n",
      "pulling 66b9ea09bd5b... 100% ▕████████████████▏   68 B                         \n",
      "pulling eb4402837c78... 100% ▕████████████████▏ 1.5 KB                         \n",
      "pulling b5c0e5cf74cf... 100% ▕████████████████▏ 7.4 KB                         \n",
      "pulling 161ddde4c9cd... 100% ▕████████████████▏  487 B                         \n",
      "verifying sha256 digest ⠸ \u001b[?25h\u001b[?25l\u001b[2K\u001b[1G\u001b[A\u001b[2K\u001b[1G\u001b[A\u001b[2K\u001b[1G\u001b[A\u001b[2K\u001b[1G\u001b[A\u001b[2K\u001b[1G\u001b[A\u001b[2K\u001b[1G\u001b[A\u001b[2K\u001b[1Gpulling manifest \n",
      "pulling 5ee4f07cdb9b... 100% ▕████████████████▏ 1.9 GB                         \n",
      "pulling 66b9ea09bd5b... 100% ▕████████████████▏   68 B                         \n",
      "pulling eb4402837c78... 100% ▕████████████████▏ 1.5 KB                         \n",
      "pulling b5c0e5cf74cf... 100% ▕████████████████▏ 7.4 KB                         \n",
      "pulling 161ddde4c9cd... 100% ▕████████████████▏  487 B                         \n",
      "verifying sha256 digest ⠼ \u001b[?25h\u001b[?25l\u001b[2K\u001b[1G\u001b[A\u001b[2K\u001b[1G\u001b[A\u001b[2K\u001b[1G\u001b[A\u001b[2K\u001b[1G\u001b[A\u001b[2K\u001b[1G\u001b[A\u001b[2K\u001b[1G\u001b[A\u001b[2K\u001b[1Gpulling manifest \n",
      "pulling 5ee4f07cdb9b... 100% ▕████████████████▏ 1.9 GB                         \n",
      "pulling 66b9ea09bd5b... 100% ▕████████████████▏   68 B                         \n",
      "pulling eb4402837c78... 100% ▕████████████████▏ 1.5 KB                         \n",
      "pulling b5c0e5cf74cf... 100% ▕████████████████▏ 7.4 KB                         \n",
      "pulling 161ddde4c9cd... 100% ▕████████████████▏  487 B                         \n",
      "verifying sha256 digest ⠴ \u001b[?25h\u001b[?25l\u001b[2K\u001b[1G\u001b[A\u001b[2K\u001b[1G\u001b[A\u001b[2K\u001b[1G\u001b[A\u001b[2K\u001b[1G\u001b[A\u001b[2K\u001b[1G\u001b[A\u001b[2K\u001b[1G\u001b[A\u001b[2K\u001b[1Gpulling manifest \n",
      "pulling 5ee4f07cdb9b... 100% ▕████████████████▏ 1.9 GB                         \n",
      "pulling 66b9ea09bd5b... 100% ▕████████████████▏   68 B                         \n",
      "pulling eb4402837c78... 100% ▕████████████████▏ 1.5 KB                         \n",
      "pulling b5c0e5cf74cf... 100% ▕████████████████▏ 7.4 KB                         \n",
      "pulling 161ddde4c9cd... 100% ▕████████████████▏  487 B                         \n",
      "verifying sha256 digest ⠦ \u001b[?25h\u001b[?25l\u001b[2K\u001b[1G\u001b[A\u001b[2K\u001b[1G\u001b[A\u001b[2K\u001b[1G\u001b[A\u001b[2K\u001b[1G\u001b[A\u001b[2K\u001b[1G\u001b[A\u001b[2K\u001b[1G\u001b[A\u001b[2K\u001b[1Gpulling manifest \n",
      "pulling 5ee4f07cdb9b... 100% ▕████████████████▏ 1.9 GB                         \n",
      "pulling 66b9ea09bd5b... 100% ▕████████████████▏   68 B                         \n",
      "pulling eb4402837c78... 100% ▕████████████████▏ 1.5 KB                         \n",
      "pulling b5c0e5cf74cf... 100% ▕████████████████▏ 7.4 KB                         \n",
      "pulling 161ddde4c9cd... 100% ▕████████████████▏  487 B                         \n",
      "verifying sha256 digest ⠧ \u001b[?25h\u001b[?25l\u001b[2K\u001b[1G\u001b[A\u001b[2K\u001b[1G\u001b[A\u001b[2K\u001b[1G\u001b[A\u001b[2K\u001b[1G\u001b[A\u001b[2K\u001b[1G\u001b[A\u001b[2K\u001b[1G\u001b[A\u001b[2K\u001b[1Gpulling manifest \n",
      "pulling 5ee4f07cdb9b... 100% ▕████████████████▏ 1.9 GB                         \n",
      "pulling 66b9ea09bd5b... 100% ▕████████████████▏   68 B                         \n",
      "pulling eb4402837c78... 100% ▕████████████████▏ 1.5 KB                         \n",
      "pulling b5c0e5cf74cf... 100% ▕████████████████▏ 7.4 KB                         \n",
      "pulling 161ddde4c9cd... 100% ▕████████████████▏  487 B                         \n",
      "verifying sha256 digest ⠇ \u001b[?25h\u001b[?25l\u001b[2K\u001b[1G\u001b[A\u001b[2K\u001b[1G\u001b[A\u001b[2K\u001b[1G\u001b[A\u001b[2K\u001b[1G\u001b[A\u001b[2K\u001b[1G\u001b[A\u001b[2K\u001b[1G\u001b[A\u001b[2K\u001b[1Gpulling manifest \n",
      "pulling 5ee4f07cdb9b... 100% ▕████████████████▏ 1.9 GB                         \n",
      "pulling 66b9ea09bd5b... 100% ▕████████████████▏   68 B                         \n",
      "pulling eb4402837c78... 100% ▕████████████████▏ 1.5 KB                         \n",
      "pulling b5c0e5cf74cf... 100% ▕████████████████▏ 7.4 KB                         \n",
      "pulling 161ddde4c9cd... 100% ▕████████████████▏  487 B                         \n",
      "verifying sha256 digest ⠏ \u001b[?25h\u001b[?25l\u001b[2K\u001b[1G\u001b[A\u001b[2K\u001b[1G\u001b[A\u001b[2K\u001b[1G\u001b[A\u001b[2K\u001b[1G\u001b[A\u001b[2K\u001b[1G\u001b[A\u001b[2K\u001b[1G\u001b[A\u001b[2K\u001b[1Gpulling manifest \n",
      "pulling 5ee4f07cdb9b... 100% ▕████████████████▏ 1.9 GB                         \n",
      "pulling 66b9ea09bd5b... 100% ▕████████████████▏   68 B                         \n",
      "pulling eb4402837c78... 100% ▕████████████████▏ 1.5 KB                         \n",
      "pulling b5c0e5cf74cf... 100% ▕████████████████▏ 7.4 KB                         \n",
      "pulling 161ddde4c9cd... 100% ▕████████████████▏  487 B                         \n",
      "verifying sha256 digest ⠋ \u001b[?25h\u001b[?25l\u001b[2K\u001b[1G\u001b[A\u001b[2K\u001b[1G\u001b[A\u001b[2K\u001b[1G\u001b[A\u001b[2K\u001b[1G\u001b[A\u001b[2K\u001b[1G\u001b[A\u001b[2K\u001b[1G\u001b[A\u001b[2K\u001b[1Gpulling manifest \n",
      "pulling 5ee4f07cdb9b... 100% ▕████████████████▏ 1.9 GB                         \n",
      "pulling 66b9ea09bd5b... 100% ▕████████████████▏   68 B                         \n",
      "pulling eb4402837c78... 100% ▕████████████████▏ 1.5 KB                         \n",
      "pulling b5c0e5cf74cf... 100% ▕████████████████▏ 7.4 KB                         \n",
      "pulling 161ddde4c9cd... 100% ▕████████████████▏  487 B                         \n",
      "verifying sha256 digest ⠙ \u001b[?25h\u001b[?25l\u001b[2K\u001b[1G\u001b[A\u001b[2K\u001b[1G\u001b[A\u001b[2K\u001b[1G\u001b[A\u001b[2K\u001b[1G\u001b[A\u001b[2K\u001b[1G\u001b[A\u001b[2K\u001b[1G\u001b[A\u001b[2K\u001b[1Gpulling manifest \n",
      "pulling 5ee4f07cdb9b... 100% ▕████████████████▏ 1.9 GB                         \n",
      "pulling 66b9ea09bd5b... 100% ▕████████████████▏   68 B                         \n",
      "pulling eb4402837c78... 100% ▕████████████████▏ 1.5 KB                         \n",
      "pulling b5c0e5cf74cf... 100% ▕████████████████▏ 7.4 KB                         \n",
      "pulling 161ddde4c9cd... 100% ▕████████████████▏  487 B                         \n",
      "verifying sha256 digest ⠹ \u001b[?25h\u001b[?25l\u001b[2K\u001b[1G\u001b[A\u001b[2K\u001b[1G\u001b[A\u001b[2K\u001b[1G\u001b[A\u001b[2K\u001b[1G\u001b[A\u001b[2K\u001b[1G\u001b[A\u001b[2K\u001b[1G\u001b[A\u001b[2K\u001b[1Gpulling manifest \n",
      "pulling 5ee4f07cdb9b... 100% ▕████████████████▏ 1.9 GB                         \n",
      "pulling 66b9ea09bd5b... 100% ▕████████████████▏   68 B                         \n",
      "pulling eb4402837c78... 100% ▕████████████████▏ 1.5 KB                         \n",
      "pulling b5c0e5cf74cf... 100% ▕████████████████▏ 7.4 KB                         \n",
      "pulling 161ddde4c9cd... 100% ▕████████████████▏  487 B                         \n",
      "verifying sha256 digest ⠸ \u001b[?25h\u001b[?25l\u001b[2K\u001b[1G\u001b[A\u001b[2K\u001b[1G\u001b[A\u001b[2K\u001b[1G\u001b[A\u001b[2K\u001b[1G\u001b[A\u001b[2K\u001b[1G\u001b[A\u001b[2K\u001b[1G\u001b[A\u001b[2K\u001b[1Gpulling manifest \n",
      "pulling 5ee4f07cdb9b... 100% ▕████████████████▏ 1.9 GB                         \n",
      "pulling 66b9ea09bd5b... 100% ▕████████████████▏   68 B                         \n",
      "pulling eb4402837c78... 100% ▕████████████████▏ 1.5 KB                         \n",
      "pulling b5c0e5cf74cf... 100% ▕████████████████▏ 7.4 KB                         \n",
      "pulling 161ddde4c9cd... 100% ▕████████████████▏  487 B                         \n",
      "verifying sha256 digest ⠼ \u001b[?25h\u001b[?25l\u001b[2K\u001b[1G\u001b[A\u001b[2K\u001b[1G\u001b[A\u001b[2K\u001b[1G\u001b[A\u001b[2K\u001b[1G\u001b[A\u001b[2K\u001b[1G\u001b[A\u001b[2K\u001b[1G\u001b[A\u001b[2K\u001b[1Gpulling manifest \n",
      "pulling 5ee4f07cdb9b... 100% ▕████████████████▏ 1.9 GB                         \n",
      "pulling 66b9ea09bd5b... 100% ▕████████████████▏   68 B                         \n",
      "pulling eb4402837c78... 100% ▕████████████████▏ 1.5 KB                         \n",
      "pulling b5c0e5cf74cf... 100% ▕████████████████▏ 7.4 KB                         \n",
      "pulling 161ddde4c9cd... 100% ▕████████████████▏  487 B                         \n",
      "verifying sha256 digest ⠴ \u001b[?25h\u001b[?25l\u001b[2K\u001b[1G\u001b[A\u001b[2K\u001b[1G\u001b[A\u001b[2K\u001b[1G\u001b[A\u001b[2K\u001b[1G\u001b[A\u001b[2K\u001b[1G\u001b[A\u001b[2K\u001b[1G\u001b[A\u001b[2K\u001b[1Gpulling manifest \n",
      "pulling 5ee4f07cdb9b... 100% ▕████████████████▏ 1.9 GB                         \n",
      "pulling 66b9ea09bd5b... 100% ▕████████████████▏   68 B                         \n",
      "pulling eb4402837c78... 100% ▕████████████████▏ 1.5 KB                         \n",
      "pulling b5c0e5cf74cf... 100% ▕████████████████▏ 7.4 KB                         \n",
      "pulling 161ddde4c9cd... 100% ▕████████████████▏  487 B                         \n",
      "verifying sha256 digest ⠦ \u001b[?25h"
     ]
    },
    {
     "name": "stdout",
     "output_type": "stream",
     "text": [
      "[GIN] 2024/10/24 - 11:02:03 | 200 | 24.590327078s |       127.0.0.1 | POST     \"/api/pull\"\n"
     ]
    },
    {
     "name": "stderr",
     "output_type": "stream",
     "text": [
      "\u001b[?25l\u001b[2K\u001b[1G\u001b[A\u001b[2K\u001b[1G\u001b[A\u001b[2K\u001b[1G\u001b[A\u001b[2K\u001b[1G\u001b[A\u001b[2K\u001b[1G\u001b[A\u001b[2K\u001b[1G\u001b[A\u001b[2K\u001b[1Gpulling manifest \n",
      "pulling 5ee4f07cdb9b... 100% ▕████████████████▏ 1.9 GB                         \n",
      "pulling 66b9ea09bd5b... 100% ▕████████████████▏   68 B                         \n",
      "pulling eb4402837c78... 100% ▕████████████████▏ 1.5 KB                         \n",
      "pulling b5c0e5cf74cf... 100% ▕████████████████▏ 7.4 KB                         \n",
      "pulling 161ddde4c9cd... 100% ▕████████████████▏  487 B                         \n",
      "verifying sha256 digest ⠧ \u001b[?25h\u001b[?25l\u001b[2K\u001b[1G\u001b[A\u001b[2K\u001b[1G\u001b[A\u001b[2K\u001b[1G\u001b[A\u001b[2K\u001b[1G\u001b[A\u001b[2K\u001b[1G\u001b[A\u001b[2K\u001b[1G\u001b[A\u001b[2K\u001b[1Gpulling manifest \n",
      "pulling 5ee4f07cdb9b... 100% ▕████████████████▏ 1.9 GB                         \n",
      "pulling 66b9ea09bd5b... 100% ▕████████████████▏   68 B                         \n",
      "pulling eb4402837c78... 100% ▕████████████████▏ 1.5 KB                         \n",
      "pulling b5c0e5cf74cf... 100% ▕████████████████▏ 7.4 KB                         \n",
      "pulling 161ddde4c9cd... 100% ▕████████████████▏  487 B                         \n",
      "verifying sha256 digest ⠇ \u001b[?25h\u001b[?25l\u001b[2K\u001b[1G\u001b[A\u001b[2K\u001b[1G\u001b[A\u001b[2K\u001b[1G\u001b[A\u001b[2K\u001b[1G\u001b[A\u001b[2K\u001b[1G\u001b[A\u001b[2K\u001b[1G\u001b[A\u001b[2K\u001b[1Gpulling manifest \n",
      "pulling 5ee4f07cdb9b... 100% ▕████████████████▏ 1.9 GB                         \n",
      "pulling 66b9ea09bd5b... 100% ▕████████████████▏   68 B                         \n",
      "pulling eb4402837c78... 100% ▕████████████████▏ 1.5 KB                         \n",
      "pulling b5c0e5cf74cf... 100% ▕████████████████▏ 7.4 KB                         \n",
      "pulling 161ddde4c9cd... 100% ▕████████████████▏  487 B                         \n",
      "verifying sha256 digest \n",
      "writing manifest \n",
      "success \u001b[?25h\n"
     ]
    },
    {
     "data": {
      "text/plain": [
       "0"
      ]
     },
     "execution_count": 6,
     "metadata": {},
     "output_type": "execute_result"
    }
   ],
   "source": [
    "!ollama pull qwen2.5:3b"
   ]
  },
  {
   "cell_type": "code",
   "execution_count": 7,
   "id": "450894d4",
   "metadata": {
    "execution": {
     "iopub.execute_input": "2024-10-24T11:02:03.380601Z",
     "iopub.status.busy": "2024-10-24T11:02:03.380280Z",
     "iopub.status.idle": "2024-10-24T11:02:17.032394Z",
     "shell.execute_reply": "2024-10-24T11:02:17.031346Z"
    },
    "papermill": {
     "duration": 13.694048,
     "end_time": "2024-10-24T11:02:17.034800",
     "exception": false,
     "start_time": "2024-10-24T11:02:03.340752",
     "status": "completed"
    },
    "tags": []
   },
   "outputs": [
    {
     "name": "stdout",
     "output_type": "stream",
     "text": [
      "Collecting einops\n",
      "  Downloading einops-0.8.0-py3-none-any.whl.metadata (12 kB)\n",
      "Downloading einops-0.8.0-py3-none-any.whl (43 kB)\n",
      "\u001b[2K   \u001b[90m━━━━━━━━━━━━━━━━━━━━━━━━━━━━━━━━━━━━━━━━\u001b[0m \u001b[32m43.2/43.2 kB\u001b[0m \u001b[31m1.5 MB/s\u001b[0m eta \u001b[36m0:00:00\u001b[0m\n",
      "\u001b[?25hInstalling collected packages: einops\n",
      "Successfully installed einops-0.8.0\n"
     ]
    },
    {
     "data": {
      "text/plain": [
       "0"
      ]
     },
     "execution_count": 7,
     "metadata": {},
     "output_type": "execute_result"
    }
   ],
   "source": [
    "!pip install einops"
   ]
  },
  {
   "cell_type": "code",
   "execution_count": 8,
   "id": "f183e56b",
   "metadata": {
    "execution": {
     "iopub.execute_input": "2024-10-24T11:02:17.122242Z",
     "iopub.status.busy": "2024-10-24T11:02:17.121867Z",
     "iopub.status.idle": "2024-10-24T12:48:42.548821Z",
     "shell.execute_reply": "2024-10-24T12:48:42.547601Z"
    },
    "papermill": {
     "duration": 6385.472498,
     "end_time": "2024-10-24T12:48:42.551498",
     "exception": false,
     "start_time": "2024-10-24T11:02:17.079000",
     "status": "completed"
    },
    "tags": []
   },
   "outputs": [
    {
     "name": "stderr",
     "output_type": "stream",
     "text": [
      "/opt/conda/lib/python3.10/site-packages/sentence_transformers/cross_encoder/CrossEncoder.py:13: TqdmExperimentalWarning: Using `tqdm.autonotebook.tqdm` in notebook mode. Use `tqdm.tqdm` instead to force console mode (e.g. in jupyter console)\n",
      "  from tqdm.autonotebook import tqdm, trange\n"
     ]
    },
    {
     "name": "stdout",
     "output_type": "stream",
     "text": [
      "Loading and processing training data...\n",
      "Training data loaded. Shape: (2418, 2)\n",
      "Initializing vector store with nomic embeddings...\n"
     ]
    },
    {
     "name": "stderr",
     "output_type": "stream",
     "text": [
      "/tmp/ipykernel_23/3602565918.py:46: LangChainDeprecationWarning: The class `HuggingFaceEmbeddings` was deprecated in LangChain 0.2.2 and will be removed in 1.0. An updated version of the class exists in the :class:`~langchain-huggingface package and should be used instead. To use it run `pip install -U :class:`~langchain-huggingface` and import as `from :class:`~langchain_huggingface import HuggingFaceEmbeddings``.\n",
      "  embeddings = HuggingFaceEmbeddings(\n"
     ]
    },
    {
     "data": {
      "application/vnd.jupyter.widget-view+json": {
       "model_id": "39a5ca11d0934535ac2ae83fceb9e1a1",
       "version_major": 2,
       "version_minor": 0
      },
      "text/plain": [
       "modules.json:   0%|          | 0.00/255 [00:00<?, ?B/s]"
      ]
     },
     "metadata": {},
     "output_type": "display_data"
    },
    {
     "data": {
      "application/vnd.jupyter.widget-view+json": {
       "model_id": "ee9e9f160a4c41e7bf5b2a3fcb881109",
       "version_major": 2,
       "version_minor": 0
      },
      "text/plain": [
       "config_sentence_transformers.json:   0%|          | 0.00/140 [00:00<?, ?B/s]"
      ]
     },
     "metadata": {},
     "output_type": "display_data"
    },
    {
     "data": {
      "application/vnd.jupyter.widget-view+json": {
       "model_id": "207d57df09eb4ab28e816e20502aa8be",
       "version_major": 2,
       "version_minor": 0
      },
      "text/plain": [
       "README.md:   0%|          | 0.00/71.2k [00:00<?, ?B/s]"
      ]
     },
     "metadata": {},
     "output_type": "display_data"
    },
    {
     "data": {
      "application/vnd.jupyter.widget-view+json": {
       "model_id": "7d54683868aa4089818b016c75adfb6e",
       "version_major": 2,
       "version_minor": 0
      },
      "text/plain": [
       "sentence_bert_config.json:   0%|          | 0.00/120 [00:00<?, ?B/s]"
      ]
     },
     "metadata": {},
     "output_type": "display_data"
    },
    {
     "data": {
      "application/vnd.jupyter.widget-view+json": {
       "model_id": "1beb5f7c19274cf883b3d0e5e37fb83c",
       "version_major": 2,
       "version_minor": 0
      },
      "text/plain": [
       "config.json:   0%|          | 0.00/2.06k [00:00<?, ?B/s]"
      ]
     },
     "metadata": {},
     "output_type": "display_data"
    },
    {
     "data": {
      "application/vnd.jupyter.widget-view+json": {
       "model_id": "acb4296358d44dc18f602ca610316390",
       "version_major": 2,
       "version_minor": 0
      },
      "text/plain": [
       "configuration_hf_nomic_bert.py:   0%|          | 0.00/1.96k [00:00<?, ?B/s]"
      ]
     },
     "metadata": {},
     "output_type": "display_data"
    },
    {
     "name": "stderr",
     "output_type": "stream",
     "text": [
      "A new version of the following files was downloaded from https://huggingface.co/nomic-ai/nomic-bert-2048:\n",
      "- configuration_hf_nomic_bert.py\n",
      ". Make sure to double-check they do not contain any added malicious code. To avoid downloading new versions of the code file, you can pin a revision.\n"
     ]
    },
    {
     "data": {
      "application/vnd.jupyter.widget-view+json": {
       "model_id": "0a105401b9164a489e1c06d531766fa1",
       "version_major": 2,
       "version_minor": 0
      },
      "text/plain": [
       "modeling_hf_nomic_bert.py:   0%|          | 0.00/85.7k [00:00<?, ?B/s]"
      ]
     },
     "metadata": {},
     "output_type": "display_data"
    },
    {
     "name": "stderr",
     "output_type": "stream",
     "text": [
      "A new version of the following files was downloaded from https://huggingface.co/nomic-ai/nomic-bert-2048:\n",
      "- modeling_hf_nomic_bert.py\n",
      ". Make sure to double-check they do not contain any added malicious code. To avoid downloading new versions of the code file, you can pin a revision.\n"
     ]
    },
    {
     "data": {
      "application/vnd.jupyter.widget-view+json": {
       "model_id": "7ddab901041146eab25de164e9c254a9",
       "version_major": 2,
       "version_minor": 0
      },
      "text/plain": [
       "model.safetensors:   0%|          | 0.00/547M [00:00<?, ?B/s]"
      ]
     },
     "metadata": {},
     "output_type": "display_data"
    },
    {
     "data": {
      "application/vnd.jupyter.widget-view+json": {
       "model_id": "7cbdfe9249e24a6e97caab9a9936de58",
       "version_major": 2,
       "version_minor": 0
      },
      "text/plain": [
       "tokenizer_config.json:   0%|          | 0.00/1.19k [00:00<?, ?B/s]"
      ]
     },
     "metadata": {},
     "output_type": "display_data"
    },
    {
     "data": {
      "application/vnd.jupyter.widget-view+json": {
       "model_id": "76cc1a0417224ba38ad31f3fc36a992c",
       "version_major": 2,
       "version_minor": 0
      },
      "text/plain": [
       "vocab.txt:   0%|          | 0.00/232k [00:00<?, ?B/s]"
      ]
     },
     "metadata": {},
     "output_type": "display_data"
    },
    {
     "data": {
      "application/vnd.jupyter.widget-view+json": {
       "model_id": "4c615f0a46c9408d8714cefa01beb118",
       "version_major": 2,
       "version_minor": 0
      },
      "text/plain": [
       "tokenizer.json:   0%|          | 0.00/711k [00:00<?, ?B/s]"
      ]
     },
     "metadata": {},
     "output_type": "display_data"
    },
    {
     "data": {
      "application/vnd.jupyter.widget-view+json": {
       "model_id": "2918624a7b1640e29ad382582e0e7fd6",
       "version_major": 2,
       "version_minor": 0
      },
      "text/plain": [
       "special_tokens_map.json:   0%|          | 0.00/695 [00:00<?, ?B/s]"
      ]
     },
     "metadata": {},
     "output_type": "display_data"
    },
    {
     "data": {
      "application/vnd.jupyter.widget-view+json": {
       "model_id": "65326dcaba684312ad382721a9941b0c",
       "version_major": 2,
       "version_minor": 0
      },
      "text/plain": [
       "1_Pooling/config.json:   0%|          | 0.00/286 [00:00<?, ?B/s]"
      ]
     },
     "metadata": {},
     "output_type": "display_data"
    },
    {
     "name": "stderr",
     "output_type": "stream",
     "text": [
      "/tmp/ipykernel_23/3602565918.py:63: LangChainDeprecationWarning: The class `Ollama` was deprecated in LangChain 0.3.1 and will be removed in 1.0.0. An updated version of the class exists in the :class:`~langchain-ollama package and should be used instead. To use it run `pip install -U :class:`~langchain-ollama` and import as `from :class:`~langchain_ollama import OllamaLLM``.\n",
      "  return Ollama(model=\"qwen2.5:3b\")\n",
      "/tmp/ipykernel_23/3602565918.py:81: LangChainDeprecationWarning: Please see the migration guide at: https://python.langchain.com/docs/versions/migrating_memory/\n",
      "  memory = ConversationBufferMemory(\n"
     ]
    },
    {
     "name": "stdout",
     "output_type": "stream",
     "text": [
      "Initialization complete.\n",
      "Loading test data...\n",
      "Test data loaded. Shape: (1039, 2)\n",
      "Generating predictions...\n"
     ]
    },
    {
     "name": "stderr",
     "output_type": "stream",
     "text": [
      "Generating responses:   0%|          | 0/1039 [00:00<?, ?it/s]/tmp/ipykernel_23/3602565918.py:133: LangChainDeprecationWarning: The method `Chain.__call__` was deprecated in langchain 0.1.0 and will be removed in 1.0. Use :meth:`~invoke` instead.\n",
      "  result = chain({\"question\": full_query})\n",
      "/tmp/ipykernel_23/3602565918.py:73: LangChainDeprecationWarning: The method `BaseRetriever.get_relevant_documents` was deprecated in langchain-core 0.1.46 and will be removed in 1.0. Use :meth:`~invoke` instead.\n",
      "  return self.base_retriever.get_relevant_documents(prefixed_query)\n",
      "time=2024-10-24T11:03:18.252Z level=INFO source=sched.go:714 msg=\"new model will fit in available VRAM in single GPU, loading\" model=/root/.ollama/models/blobs/sha256-5ee4f07cdb9beadbbb293e85803c569b01bd37ed059d2715faa7bb405f31caa6 gpu=GPU-72703770-490e-dbfd-28ac-eaf457c00f4d parallel=4 available=15720382464 required=\"2.9 GiB\"\n",
      "time=2024-10-24T11:03:18.449Z level=INFO source=server.go:105 msg=\"system memory\" total=\"31.4 GiB\" free=\"29.2 GiB\" free_swap=\"0 B\"\n",
      "time=2024-10-24T11:03:18.450Z level=INFO source=memory.go:326 msg=\"offload to cuda\" layers.requested=-1 layers.model=37 layers.offload=37 layers.split=\"\" memory.available=\"[14.6 GiB]\" memory.gpu_overhead=\"0 B\" memory.required.full=\"2.9 GiB\" memory.required.partial=\"2.9 GiB\" memory.required.kv=\"288.0 MiB\" memory.required.allocations=\"[2.9 GiB]\" memory.weights.total=\"1.8 GiB\" memory.weights.repeating=\"1.6 GiB\" memory.weights.nonrepeating=\"243.4 MiB\" memory.graph.full=\"300.8 MiB\" memory.graph.partial=\"544.2 MiB\"\n",
      "time=2024-10-24T11:03:18.451Z level=INFO source=server.go:388 msg=\"starting llama server\" cmd=\"/tmp/ollama3502493269/runners/cuda_v12/ollama_llama_server --model /root/.ollama/models/blobs/sha256-5ee4f07cdb9beadbbb293e85803c569b01bd37ed059d2715faa7bb405f31caa6 --ctx-size 8192 --batch-size 512 --embedding --n-gpu-layers 37 --threads 2 --parallel 4 --port 42119\"\n",
      "time=2024-10-24T11:03:18.451Z level=INFO source=sched.go:449 msg=\"loaded runners\" count=1\n",
      "time=2024-10-24T11:03:18.451Z level=INFO source=server.go:587 msg=\"waiting for llama runner to start responding\"\n",
      "time=2024-10-24T11:03:18.452Z level=INFO source=server.go:621 msg=\"waiting for server to become available\" status=\"llm server error\"\n"
     ]
    },
    {
     "name": "stdout",
     "output_type": "stream",
     "text": [
      "INFO [main] starting c++ runner | tid=\"138523311972352\" timestamp=1729767798\n",
      "INFO [main] build info | build=10 commit=\"3a8c75e\" tid=\"138523311972352\" timestamp=1729767798\n",
      "INFO [main] system info | n_threads=2 n_threads_batch=2 system_info=\"AVX = 1 | AVX_VNNI = 0 | AVX2 = 0 | AVX512 = 0 | AVX512_VBMI = 0 | AVX512_VNNI = 0 | AVX512_BF16 = 0 | FMA = 0 | NEON = 0 | SVE = 0 | ARM_FMA = 0 | F16C = 0 | FP16_VA = 0 | RISCV_VECT = 0 | WASM_SIMD = 0 | BLAS = 1 | SSE3 = 1 | SSSE3 = 1 | VSX = 0 | MATMUL_INT8 = 0 | LLAMAFILE = 1 | \" tid=\"138523311972352\" timestamp=1729767798 total_threads=4\n",
      "INFO [main] HTTP server listening | hostname=\"127.0.0.1\" n_threads_http=\"6\" port=\"42119\" tid=\"138523311972352\" timestamp=1729767798\n"
     ]
    },
    {
     "name": "stderr",
     "output_type": "stream",
     "text": [
      "llama_model_loader: loaded meta data with 35 key-value pairs and 434 tensors from /root/.ollama/models/blobs/sha256-5ee4f07cdb9beadbbb293e85803c569b01bd37ed059d2715faa7bb405f31caa6 (version GGUF V3 (latest))\n",
      "llama_model_loader: Dumping metadata keys/values. Note: KV overrides do not apply in this output.\n",
      "llama_model_loader: - kv   0:                       general.architecture str              = qwen2\n",
      "llama_model_loader: - kv   1:                               general.type str              = model\n",
      "llama_model_loader: - kv   2:                               general.name str              = Qwen2.5 3B Instruct\n",
      "llama_model_loader: - kv   3:                           general.finetune str              = Instruct\n",
      "llama_model_loader: - kv   4:                           general.basename str              = Qwen2.5\n",
      "llama_model_loader: - kv   5:                         general.size_label str              = 3B\n",
      "llama_model_loader: - kv   6:                            general.license str              = other\n",
      "llama_model_loader: - kv   7:                       general.license.name str              = qwen-research\n",
      "llama_model_loader: - kv   8:                       general.license.link str              = https://huggingface.co/Qwen/Qwen2.5-3...\n",
      "llama_model_loader: - kv   9:                   general.base_model.count u32              = 1\n",
      "llama_model_loader: - kv  10:                  general.base_model.0.name str              = Qwen2.5 3B\n",
      "llama_model_loader: - kv  11:          general.base_model.0.organization str              = Qwen\n",
      "llama_model_loader: - kv  12:              general.base_model.0.repo_url str              = https://huggingface.co/Qwen/Qwen2.5-3B\n",
      "llama_model_loader: - kv  13:                               general.tags arr[str,2]       = [\"chat\", \"text-generation\"]\n",
      "llama_model_loader: - kv  14:                          general.languages arr[str,1]       = [\"en\"]\n",
      "llama_model_loader: - kv  15:                          qwen2.block_count u32              = 36\n",
      "llama_model_loader: - kv  16:                       qwen2.context_length u32              = 32768\n",
      "llama_model_loader: - kv  17:                     qwen2.embedding_length u32              = 2048\n",
      "llama_model_loader: - kv  18:                  qwen2.feed_forward_length u32              = 11008\n",
      "llama_model_loader: - kv  19:                 qwen2.attention.head_count u32              = 16\n",
      "llama_model_loader: - kv  20:              qwen2.attention.head_count_kv u32              = 2\n",
      "llama_model_loader: - kv  21:                       qwen2.rope.freq_base f32              = 1000000.000000\n",
      "llama_model_loader: - kv  22:     qwen2.attention.layer_norm_rms_epsilon f32              = 0.000001\n",
      "llama_model_loader: - kv  23:                          general.file_type u32              = 15\n",
      "llama_model_loader: - kv  24:                       tokenizer.ggml.model str              = gpt2\n",
      "llama_model_loader: - kv  25:                         tokenizer.ggml.pre str              = qwen2\n",
      "llama_model_loader: - kv  26:                      tokenizer.ggml.tokens arr[str,151936]  = [\"!\", \"\\\"\", \"#\", \"$\", \"%\", \"&\", \"'\", ...\n",
      "llama_model_loader: - kv  27:                  tokenizer.ggml.token_type arr[i32,151936]  = [1, 1, 1, 1, 1, 1, 1, 1, 1, 1, 1, 1, ...\n",
      "time=2024-10-24T11:03:18.703Z level=INFO source=server.go:621 msg=\"waiting for server to become available\" status=\"llm server loading model\"\n",
      "llama_model_loader: - kv  28:                      tokenizer.ggml.merges arr[str,151387]  = [\"Ġ Ġ\", \"ĠĠ ĠĠ\", \"i n\", \"Ġ t\",...\n",
      "llama_model_loader: - kv  29:                tokenizer.ggml.eos_token_id u32              = 151645\n",
      "llama_model_loader: - kv  30:            tokenizer.ggml.padding_token_id u32              = 151643\n",
      "llama_model_loader: - kv  31:                tokenizer.ggml.bos_token_id u32              = 151643\n",
      "llama_model_loader: - kv  32:               tokenizer.ggml.add_bos_token bool             = false\n",
      "llama_model_loader: - kv  33:                    tokenizer.chat_template str              = {%- if tools %}\\n    {{- '<|im_start|>...\n",
      "llama_model_loader: - kv  34:               general.quantization_version u32              = 2\n",
      "llama_model_loader: - type  f32:  181 tensors\n",
      "llama_model_loader: - type q4_K:  216 tensors\n",
      "llama_model_loader: - type q6_K:   37 tensors\n",
      "llm_load_vocab: special tokens cache size = 22\n",
      "llm_load_vocab: token to piece cache size = 0.9310 MB\n",
      "llm_load_print_meta: format           = GGUF V3 (latest)\n",
      "llm_load_print_meta: arch             = qwen2\n",
      "llm_load_print_meta: vocab type       = BPE\n",
      "llm_load_print_meta: n_vocab          = 151936\n",
      "llm_load_print_meta: n_merges         = 151387\n",
      "llm_load_print_meta: vocab_only       = 0\n",
      "llm_load_print_meta: n_ctx_train      = 32768\n",
      "llm_load_print_meta: n_embd           = 2048\n",
      "llm_load_print_meta: n_layer          = 36\n",
      "llm_load_print_meta: n_head           = 16\n",
      "llm_load_print_meta: n_head_kv        = 2\n",
      "llm_load_print_meta: n_rot            = 128\n",
      "llm_load_print_meta: n_swa            = 0\n",
      "llm_load_print_meta: n_embd_head_k    = 128\n",
      "llm_load_print_meta: n_embd_head_v    = 128\n",
      "llm_load_print_meta: n_gqa            = 8\n",
      "llm_load_print_meta: n_embd_k_gqa     = 256\n",
      "llm_load_print_meta: n_embd_v_gqa     = 256\n",
      "llm_load_print_meta: f_norm_eps       = 0.0e+00\n",
      "llm_load_print_meta: f_norm_rms_eps   = 1.0e-06\n",
      "llm_load_print_meta: f_clamp_kqv      = 0.0e+00\n",
      "llm_load_print_meta: f_max_alibi_bias = 0.0e+00\n",
      "llm_load_print_meta: f_logit_scale    = 0.0e+00\n",
      "llm_load_print_meta: n_ff             = 11008\n",
      "llm_load_print_meta: n_expert         = 0\n",
      "llm_load_print_meta: n_expert_used    = 0\n",
      "llm_load_print_meta: causal attn      = 1\n",
      "llm_load_print_meta: pooling type     = 0\n",
      "llm_load_print_meta: rope type        = 2\n",
      "llm_load_print_meta: rope scaling     = linear\n",
      "llm_load_print_meta: freq_base_train  = 1000000.0\n",
      "llm_load_print_meta: freq_scale_train = 1\n",
      "llm_load_print_meta: n_ctx_orig_yarn  = 32768\n",
      "llm_load_print_meta: rope_finetuned   = unknown\n",
      "llm_load_print_meta: ssm_d_conv       = 0\n",
      "llm_load_print_meta: ssm_d_inner      = 0\n",
      "llm_load_print_meta: ssm_d_state      = 0\n",
      "llm_load_print_meta: ssm_dt_rank      = 0\n",
      "llm_load_print_meta: ssm_dt_b_c_rms   = 0\n",
      "llm_load_print_meta: model type       = ?B\n",
      "llm_load_print_meta: model ftype      = Q4_K - Medium\n",
      "llm_load_print_meta: model params     = 3.09 B\n",
      "llm_load_print_meta: model size       = 1.79 GiB (4.99 BPW) \n",
      "llm_load_print_meta: general.name     = Qwen2.5 3B Instruct\n",
      "llm_load_print_meta: BOS token        = 151643 '<|endoftext|>'\n",
      "llm_load_print_meta: EOS token        = 151645 '<|im_end|>'\n",
      "llm_load_print_meta: PAD token        = 151643 '<|endoftext|>'\n",
      "llm_load_print_meta: LF token         = 148848 'ÄĬ'\n",
      "llm_load_print_meta: EOT token        = 151645 '<|im_end|>'\n",
      "llm_load_print_meta: EOG token        = 151643 '<|endoftext|>'\n",
      "llm_load_print_meta: EOG token        = 151645 '<|im_end|>'\n",
      "llm_load_print_meta: max token length = 256\n",
      "ggml_cuda_init: GGML_CUDA_FORCE_MMQ:    no\n",
      "ggml_cuda_init: GGML_CUDA_FORCE_CUBLAS: no\n",
      "ggml_cuda_init: found 1 CUDA devices:\n",
      "  Device 0: Tesla T4, compute capability 7.5, VMM: yes\n",
      "llm_load_tensors: ggml ctx size =    0.38 MiB\n",
      "llm_load_tensors: offloading 36 repeating layers to GPU\n",
      "llm_load_tensors: offloading non-repeating layers to GPU\n",
      "llm_load_tensors: offloaded 37/37 layers to GPU\n",
      "llm_load_tensors:        CPU buffer size =   243.43 MiB\n",
      "llm_load_tensors:      CUDA0 buffer size =  1834.83 MiB\n",
      "llama_new_context_with_model: n_ctx      = 8192\n",
      "llama_new_context_with_model: n_batch    = 512\n",
      "llama_new_context_with_model: n_ubatch   = 512\n",
      "llama_new_context_with_model: flash_attn = 0\n",
      "llama_new_context_with_model: freq_base  = 1000000.0\n",
      "llama_new_context_with_model: freq_scale = 1\n",
      "llama_kv_cache_init:      CUDA0 KV buffer size =   288.00 MiB\n",
      "llama_new_context_with_model: KV self size  =  288.00 MiB, K (f16):  144.00 MiB, V (f16):  144.00 MiB\n",
      "llama_new_context_with_model:  CUDA_Host  output buffer size =     2.35 MiB\n",
      "llama_new_context_with_model:      CUDA0 compute buffer size =   300.75 MiB\n",
      "llama_new_context_with_model:  CUDA_Host compute buffer size =    20.01 MiB\n",
      "llama_new_context_with_model: graph nodes  = 1266\n",
      "llama_new_context_with_model: graph splits = 2\n"
     ]
    },
    {
     "name": "stdout",
     "output_type": "stream",
     "text": [
      "INFO [main] model loaded | tid=\"138523311972352\" timestamp=1729767800\n"
     ]
    },
    {
     "name": "stderr",
     "output_type": "stream",
     "text": [
      "time=2024-10-24T11:03:20.211Z level=INFO source=server.go:626 msg=\"llama runner started in 1.76 seconds\"\n"
     ]
    },
    {
     "name": "stdout",
     "output_type": "stream",
     "text": [
      "[GIN] 2024/10/24 - 11:03:21 | 200 |  3.138616931s |       127.0.0.1 | POST     \"/api/generate\"\n"
     ]
    },
    {
     "name": "stderr",
     "output_type": "stream",
     "text": [
      "/tmp/ipykernel_23/3602565918.py:138: LangChainDeprecationWarning: The method `BaseLLM.__call__` was deprecated in langchain-core 0.1.7 and will be removed in 1.0. Use :meth:`~invoke` instead.\n",
      "  return llm(full_query)\n",
      "Generating responses:   0%|          | 1/1039 [00:04<1:16:51,  4.44s/it]"
     ]
    },
    {
     "name": "stdout",
     "output_type": "stream",
     "text": [
      "[GIN] 2024/10/24 - 11:03:22 | 200 |  1.143801627s |       127.0.0.1 | POST     \"/api/generate\"\n",
      "[GIN] 2024/10/24 - 11:03:22 | 200 |  583.149182ms |       127.0.0.1 | POST     \"/api/generate\"\n"
     ]
    },
    {
     "name": "stderr",
     "output_type": "stream",
     "text": [
      "Generating responses:   0%|          | 2/1039 [00:05<46:38,  2.70s/it]  "
     ]
    },
    {
     "name": "stdout",
     "output_type": "stream",
     "text": [
      "[GIN] 2024/10/24 - 11:03:23 | 200 |   823.61959ms |       127.0.0.1 | POST     \"/api/generate\"\n",
      "[GIN] 2024/10/24 - 11:03:24 | 200 |  768.695761ms |       127.0.0.1 | POST     \"/api/generate\"\n"
     ]
    },
    {
     "name": "stderr",
     "output_type": "stream",
     "text": [
      "Generating responses:   0%|          | 3/1039 [00:07<36:36,  2.12s/it]"
     ]
    },
    {
     "name": "stdout",
     "output_type": "stream",
     "text": [
      "[GIN] 2024/10/24 - 11:03:25 | 200 |  588.651602ms |       127.0.0.1 | POST     \"/api/generate\"\n",
      "[GIN] 2024/10/24 - 11:03:26 | 200 |  916.967828ms |       127.0.0.1 | POST     \"/api/generate\"\n",
      "[GIN] 2024/10/24 - 11:03:27 | 200 |  1.080186552s |       127.0.0.1 | POST     \"/api/generate\"\n"
     ]
    },
    {
     "name": "stderr",
     "output_type": "stream",
     "text": [
      "Generating responses:   0%|          | 4/1039 [00:10<43:04,  2.50s/it]"
     ]
    },
    {
     "name": "stdout",
     "output_type": "stream",
     "text": [
      "[GIN] 2024/10/24 - 11:03:28 | 200 |  999.798915ms |       127.0.0.1 | POST     \"/api/generate\"\n",
      "[GIN] 2024/10/24 - 11:03:29 | 200 |  974.439496ms |       127.0.0.1 | POST     \"/api/generate\"\n",
      "[GIN] 2024/10/24 - 11:03:30 | 200 |   718.09709ms |       127.0.0.1 | POST     \"/api/generate\"\n"
     ]
    },
    {
     "name": "stderr",
     "output_type": "stream",
     "text": [
      "Generating responses:   0%|          | 5/1039 [00:12<41:40,  2.42s/it]"
     ]
    },
    {
     "name": "stdout",
     "output_type": "stream",
     "text": [
      "[GIN] 2024/10/24 - 11:03:30 | 200 |  499.821991ms |       127.0.0.1 | POST     \"/api/generate\"\n",
      "[GIN] 2024/10/24 - 11:03:31 | 200 |  1.246659769s |       127.0.0.1 | POST     \"/api/generate\"\n"
     ]
    },
    {
     "name": "stderr",
     "output_type": "stream",
     "text": [
      "Generating responses:   1%|          | 6/1039 [00:15<44:36,  2.59s/it]"
     ]
    },
    {
     "name": "stdout",
     "output_type": "stream",
     "text": [
      "[GIN] 2024/10/24 - 11:03:33 | 200 |  1.601849958s |       127.0.0.1 | POST     \"/api/generate\"\n",
      "[GIN] 2024/10/24 - 11:03:34 | 200 |  1.409079259s |       127.0.0.1 | POST     \"/api/generate\"\n"
     ]
    },
    {
     "name": "stderr",
     "output_type": "stream",
     "text": [
      "Generating responses:   1%|          | 7/1039 [00:18<43:19,  2.52s/it]"
     ]
    },
    {
     "name": "stdout",
     "output_type": "stream",
     "text": [
      "[GIN] 2024/10/24 - 11:03:35 | 200 |  885.503291ms |       127.0.0.1 | POST     \"/api/generate\"\n",
      "INFO [update_slots] input truncated | n_ctx=2048 n_erase=1040 n_keep=4 n_left=2044 n_shift=1022 tid=\"138523311972352\" timestamp=1729767815\n",
      "[GIN] 2024/10/24 - 11:03:36 | 200 |    1.1252875s |       127.0.0.1 | POST     \"/api/generate\"\n"
     ]
    },
    {
     "name": "stderr",
     "output_type": "stream",
     "text": [
      "Generating responses:   1%|          | 8/1039 [00:20<41:36,  2.42s/it]"
     ]
    },
    {
     "name": "stdout",
     "output_type": "stream",
     "text": [
      "[GIN] 2024/10/24 - 11:03:38 | 200 |  1.014054832s |       127.0.0.1 | POST     \"/api/generate\"\n",
      "INFO [update_slots] input truncated | n_ctx=2048 n_erase=1299 n_keep=4 n_left=2044 n_shift=1022 tid=\"138523311972352\" timestamp=1729767818\n",
      "[GIN] 2024/10/24 - 11:03:39 | 200 |  1.164422673s |       127.0.0.1 | POST     \"/api/generate\"\n"
     ]
    },
    {
     "name": "stderr",
     "output_type": "stream",
     "text": [
      "Generating responses:   1%|          | 9/1039 [00:22<41:16,  2.40s/it]"
     ]
    },
    {
     "name": "stdout",
     "output_type": "stream",
     "text": [
      "[GIN] 2024/10/24 - 11:03:40 | 200 |  1.133027829s |       127.0.0.1 | POST     \"/api/generate\"\n",
      "INFO [update_slots] input truncated | n_ctx=2048 n_erase=1563 n_keep=4 n_left=2044 n_shift=1022 tid=\"138523311972352\" timestamp=1729767820\n",
      "[GIN] 2024/10/24 - 11:03:41 | 200 |  1.020057584s |       127.0.0.1 | POST     \"/api/generate\"\n"
     ]
    },
    {
     "name": "stderr",
     "output_type": "stream",
     "text": [
      "Generating responses:   1%|          | 10/1039 [00:24<39:47,  2.32s/it]"
     ]
    },
    {
     "name": "stdout",
     "output_type": "stream",
     "text": [
      "[GIN] 2024/10/24 - 11:03:42 | 200 |  1.034275814s |       127.0.0.1 | POST     \"/api/generate\"\n",
      "INFO [update_slots] input truncated | n_ctx=2048 n_erase=1826 n_keep=4 n_left=2044 n_shift=1022 tid=\"138523311972352\" timestamp=1729767822\n",
      "[GIN] 2024/10/24 - 11:03:43 | 200 |  1.297826575s |       127.0.0.1 | POST     \"/api/generate\"\n"
     ]
    },
    {
     "name": "stderr",
     "output_type": "stream",
     "text": [
      "Generating responses:   1%|          | 11/1039 [00:27<43:42,  2.55s/it]"
     ]
    },
    {
     "name": "stdout",
     "output_type": "stream",
     "text": [
      "[GIN] 2024/10/24 - 11:03:45 | 200 |  1.695987016s |       127.0.0.1 | POST     \"/api/generate\"\n",
      "INFO [update_slots] input truncated | n_ctx=2048 n_erase=2125 n_keep=4 n_left=2044 n_shift=1022 tid=\"138523311972352\" timestamp=1729767825\n",
      "[GIN] 2024/10/24 - 11:03:46 | 200 |  1.088068623s |       127.0.0.1 | POST     \"/api/generate\"\n"
     ]
    },
    {
     "name": "stderr",
     "output_type": "stream",
     "text": [
      "Generating responses:   1%|          | 12/1039 [00:30<42:07,  2.46s/it]"
     ]
    },
    {
     "name": "stdout",
     "output_type": "stream",
     "text": [
      "[GIN] 2024/10/24 - 11:03:47 | 200 |  1.092534418s |       127.0.0.1 | POST     \"/api/generate\"\n",
      "INFO [update_slots] input truncated | n_ctx=2048 n_erase=2390 n_keep=4 n_left=2044 n_shift=1022 tid=\"138523311972352\" timestamp=1729767828\n",
      "[GIN] 2024/10/24 - 11:03:49 | 200 |  1.163950904s |       127.0.0.1 | POST     \"/api/generate\"\n"
     ]
    },
    {
     "name": "stderr",
     "output_type": "stream",
     "text": [
      "Generating responses:   1%|▏         | 13/1039 [00:31<39:19,  2.30s/it]"
     ]
    },
    {
     "name": "stdout",
     "output_type": "stream",
     "text": [
      "[GIN] 2024/10/24 - 11:03:49 | 200 |  683.110265ms |       127.0.0.1 | POST     \"/api/generate\"\n",
      "INFO [update_slots] input truncated | n_ctx=2048 n_erase=2624 n_keep=4 n_left=2044 n_shift=1022 tid=\"138523311972352\" timestamp=1729767829\n",
      "[GIN] 2024/10/24 - 11:03:51 | 200 |  1.259646404s |       127.0.0.1 | POST     \"/api/generate\"\n"
     ]
    },
    {
     "name": "stderr",
     "output_type": "stream",
     "text": [
      "Generating responses:   1%|▏         | 14/1039 [00:34<39:14,  2.30s/it]"
     ]
    },
    {
     "name": "stdout",
     "output_type": "stream",
     "text": [
      "[GIN] 2024/10/24 - 11:03:52 | 200 |  954.340515ms |       127.0.0.1 | POST     \"/api/generate\"\n",
      "INFO [update_slots] input truncated | n_ctx=2048 n_erase=2881 n_keep=4 n_left=2044 n_shift=1022 tid=\"138523311972352\" timestamp=1729767832\n",
      "[GIN] 2024/10/24 - 11:03:53 | 200 |  1.118848886s |       127.0.0.1 | POST     \"/api/generate\"\n"
     ]
    },
    {
     "name": "stderr",
     "output_type": "stream",
     "text": [
      "Generating responses:   1%|▏         | 15/1039 [00:37<41:53,  2.45s/it]"
     ]
    },
    {
     "name": "stdout",
     "output_type": "stream",
     "text": [
      "[GIN] 2024/10/24 - 11:03:54 | 200 |  1.623676383s |       127.0.0.1 | POST     \"/api/generate\"\n",
      "INFO [update_slots] input truncated | n_ctx=2048 n_erase=3177 n_keep=4 n_left=2044 n_shift=1022 tid=\"138523311972352\" timestamp=1729767835\n",
      "[GIN] 2024/10/24 - 11:04:01 | 200 |   6.25599003s |       127.0.0.1 | POST     \"/api/generate\"\n",
      "[GIN] 2024/10/24 - 11:04:02 | 200 |  1.027698425s |       127.0.0.1 | POST     \"/api/generate\"\n"
     ]
    },
    {
     "name": "stderr",
     "output_type": "stream",
     "text": [
      "Generating responses:   2%|▏         | 16/1039 [00:45<1:11:03,  4.17s/it]"
     ]
    },
    {
     "name": "stdout",
     "output_type": "stream",
     "text": [
      "[GIN] 2024/10/24 - 11:04:03 | 200 |  716.763233ms |       127.0.0.1 | POST     \"/api/generate\"\n",
      "INFO [update_slots] input truncated | n_ctx=2048 n_erase=3424 n_keep=4 n_left=2044 n_shift=1022 tid=\"138523311972352\" timestamp=1729767843\n",
      "[GIN] 2024/10/24 - 11:04:04 | 200 |  1.219115334s |       127.0.0.1 | POST     \"/api/generate\"\n"
     ]
    },
    {
     "name": "stderr",
     "output_type": "stream",
     "text": [
      "Generating responses:   2%|▏         | 17/1039 [00:48<1:04:00,  3.76s/it]"
     ]
    },
    {
     "name": "stdout",
     "output_type": "stream",
     "text": [
      "[GIN] 2024/10/24 - 11:04:05 | 200 |  1.508663309s |       127.0.0.1 | POST     \"/api/generate\"\n",
      "INFO [update_slots] input truncated | n_ctx=2048 n_erase=3711 n_keep=4 n_left=2044 n_shift=1022 tid=\"138523311972352\" timestamp=1729767846\n",
      "[GIN] 2024/10/24 - 11:04:07 | 200 |  1.228597524s |       127.0.0.1 | POST     \"/api/generate\"\n"
     ]
    },
    {
     "name": "stderr",
     "output_type": "stream",
     "text": [
      "Generating responses:   2%|▏         | 18/1039 [00:50<55:02,  3.23s/it]  "
     ]
    },
    {
     "name": "stdout",
     "output_type": "stream",
     "text": [
      "[GIN] 2024/10/24 - 11:04:07 | 200 |  717.342196ms |       127.0.0.1 | POST     \"/api/generate\"\n",
      "INFO [update_slots] input truncated | n_ctx=2048 n_erase=3951 n_keep=4 n_left=2044 n_shift=1022 tid=\"138523311972352\" timestamp=1729767848\n",
      "[GIN] 2024/10/24 - 11:04:09 | 200 |  1.166523189s |       127.0.0.1 | POST     \"/api/generate\"\n"
     ]
    },
    {
     "name": "stderr",
     "output_type": "stream",
     "text": [
      "Generating responses:   2%|▏         | 19/1039 [00:52<48:31,  2.85s/it]"
     ]
    },
    {
     "name": "stdout",
     "output_type": "stream",
     "text": [
      "[GIN] 2024/10/24 - 11:04:09 | 200 |  728.826093ms |       127.0.0.1 | POST     \"/api/generate\"\n",
      "INFO [update_slots] input truncated | n_ctx=2048 n_erase=4196 n_keep=4 n_left=2044 n_shift=1022 tid=\"138523311972352\" timestamp=1729767850\n",
      "[GIN] 2024/10/24 - 11:04:11 | 200 |   1.32668022s |       127.0.0.1 | POST     \"/api/generate\"\n"
     ]
    },
    {
     "name": "stderr",
     "output_type": "stream",
     "text": [
      "Generating responses:   2%|▏         | 20/1039 [00:54<45:11,  2.66s/it]"
     ]
    },
    {
     "name": "stdout",
     "output_type": "stream",
     "text": [
      "[GIN] 2024/10/24 - 11:04:12 | 200 |   806.55109ms |       127.0.0.1 | POST     \"/api/generate\"\n",
      "INFO [update_slots] input truncated | n_ctx=2048 n_erase=4444 n_keep=4 n_left=2044 n_shift=1022 tid=\"138523311972352\" timestamp=1729767852\n",
      "[GIN] 2024/10/24 - 11:04:13 | 200 |  1.261362405s |       127.0.0.1 | POST     \"/api/generate\"\n"
     ]
    },
    {
     "name": "stderr",
     "output_type": "stream",
     "text": [
      "Generating responses:   2%|▏         | 21/1039 [00:56<44:57,  2.65s/it]"
     ]
    },
    {
     "name": "stdout",
     "output_type": "stream",
     "text": [
      "[GIN] 2024/10/24 - 11:04:14 | 200 |  1.266987113s |       127.0.0.1 | POST     \"/api/generate\"\n",
      "INFO [update_slots] input truncated | n_ctx=2048 n_erase=4719 n_keep=4 n_left=2044 n_shift=1022 tid=\"138523311972352\" timestamp=1729767854\n",
      "[GIN] 2024/10/24 - 11:04:16 | 200 |   1.35632538s |       127.0.0.1 | POST     \"/api/generate\"\n"
     ]
    },
    {
     "name": "stderr",
     "output_type": "stream",
     "text": [
      "Generating responses:   2%|▏         | 22/1039 [00:59<45:08,  2.66s/it]"
     ]
    },
    {
     "name": "stdout",
     "output_type": "stream",
     "text": [
      "[GIN] 2024/10/24 - 11:04:17 | 200 |  1.262949197s |       127.0.0.1 | POST     \"/api/generate\"\n",
      "INFO [update_slots] input truncated | n_ctx=2048 n_erase=4990 n_keep=4 n_left=2044 n_shift=1022 tid=\"138523311972352\" timestamp=1729767857\n",
      "[GIN] 2024/10/24 - 11:04:18 | 200 |  1.189318474s |       127.0.0.1 | POST     \"/api/generate\"\n"
     ]
    },
    {
     "name": "stderr",
     "output_type": "stream",
     "text": [
      "Generating responses:   2%|▏         | 23/1039 [01:01<43:20,  2.56s/it]"
     ]
    },
    {
     "name": "stdout",
     "output_type": "stream",
     "text": [
      "[GIN] 2024/10/24 - 11:04:19 | 200 |    1.0546579s |       127.0.0.1 | POST     \"/api/generate\"\n",
      "INFO [update_slots] input truncated | n_ctx=2048 n_erase=5249 n_keep=4 n_left=2044 n_shift=1022 tid=\"138523311972352\" timestamp=1729767859\n",
      "[GIN] 2024/10/24 - 11:04:20 | 200 |   1.11394285s |       127.0.0.1 | POST     \"/api/generate\"\n"
     ]
    },
    {
     "name": "stderr",
     "output_type": "stream",
     "text": [
      "Generating responses:   2%|▏         | 24/1039 [01:04<42:27,  2.51s/it]"
     ]
    },
    {
     "name": "stdout",
     "output_type": "stream",
     "text": [
      "[GIN] 2024/10/24 - 11:04:22 | 200 |  1.201383691s |       127.0.0.1 | POST     \"/api/generate\"\n",
      "INFO [update_slots] input truncated | n_ctx=2048 n_erase=5518 n_keep=4 n_left=2044 n_shift=1022 tid=\"138523311972352\" timestamp=1729767862\n",
      "[GIN] 2024/10/24 - 11:04:23 | 200 |  1.175412618s |       127.0.0.1 | POST     \"/api/generate\"\n"
     ]
    },
    {
     "name": "stderr",
     "output_type": "stream",
     "text": [
      "Generating responses:   2%|▏         | 25/1039 [01:06<39:23,  2.33s/it]"
     ]
    },
    {
     "name": "stdout",
     "output_type": "stream",
     "text": [
      "[GIN] 2024/10/24 - 11:04:24 | 200 |  663.390736ms |       127.0.0.1 | POST     \"/api/generate\"\n",
      "INFO [update_slots] input truncated | n_ctx=2048 n_erase=5756 n_keep=4 n_left=2044 n_shift=1022 tid=\"138523311972352\" timestamp=1729767864\n",
      "[GIN] 2024/10/24 - 11:04:25 | 200 |  1.207366897s |       127.0.0.1 | POST     \"/api/generate\"\n"
     ]
    },
    {
     "name": "stderr",
     "output_type": "stream",
     "text": [
      "Generating responses:   3%|▎         | 26/1039 [01:08<40:40,  2.41s/it]"
     ]
    },
    {
     "name": "stdout",
     "output_type": "stream",
     "text": [
      "[GIN] 2024/10/24 - 11:04:26 | 200 |  1.307678303s |       127.0.0.1 | POST     \"/api/generate\"\n",
      "INFO [update_slots] input truncated | n_ctx=2048 n_erase=6030 n_keep=4 n_left=2044 n_shift=1022 tid=\"138523311972352\" timestamp=1729767866\n",
      "[GIN] 2024/10/24 - 11:04:27 | 200 |  1.183139016s |       127.0.0.1 | POST     \"/api/generate\"\n",
      "[GIN] 2024/10/24 - 11:04:28 | 200 |  818.713616ms |       127.0.0.1 | POST     \"/api/generate\"\n"
     ]
    },
    {
     "name": "stderr",
     "output_type": "stream",
     "text": [
      "Generating responses:   3%|▎         | 27/1039 [01:11<41:19,  2.45s/it]"
     ]
    },
    {
     "name": "stdout",
     "output_type": "stream",
     "text": [
      "[GIN] 2024/10/24 - 11:04:29 | 200 |   465.68529ms |       127.0.0.1 | POST     \"/api/generate\"\n",
      "INFO [update_slots] input truncated | n_ctx=2048 n_erase=6281 n_keep=4 n_left=2044 n_shift=1022 tid=\"138523311972352\" timestamp=1729767869\n",
      "[GIN] 2024/10/24 - 11:04:30 | 200 |  1.336232264s |       127.0.0.1 | POST     \"/api/generate\"\n",
      "[GIN] 2024/10/24 - 11:04:31 | 200 |  992.569319ms |       127.0.0.1 | POST     \"/api/generate\"\n"
     ]
    },
    {
     "name": "stderr",
     "output_type": "stream",
     "text": [
      "Generating responses:   3%|▎         | 28/1039 [01:14<45:42,  2.71s/it]"
     ]
    },
    {
     "name": "stdout",
     "output_type": "stream",
     "text": [
      "[GIN] 2024/10/24 - 11:04:32 | 200 |  916.864816ms |       127.0.0.1 | POST     \"/api/generate\"\n",
      "INFO [update_slots] input truncated | n_ctx=2048 n_erase=6533 n_keep=4 n_left=2044 n_shift=1022 tid=\"138523311972352\" timestamp=1729767872\n",
      "[GIN] 2024/10/24 - 11:04:33 | 200 |  1.339536203s |       127.0.0.1 | POST     \"/api/generate\"\n"
     ]
    },
    {
     "name": "stderr",
     "output_type": "stream",
     "text": [
      "Generating responses:   3%|▎         | 29/1039 [01:16<43:10,  2.57s/it]"
     ]
    },
    {
     "name": "stdout",
     "output_type": "stream",
     "text": [
      "[GIN] 2024/10/24 - 11:04:34 | 200 |  804.121896ms |       127.0.0.1 | POST     \"/api/generate\"\n",
      "INFO [update_slots] input truncated | n_ctx=2048 n_erase=6775 n_keep=4 n_left=2044 n_shift=1022 tid=\"138523311972352\" timestamp=1729767874\n",
      "[GIN] 2024/10/24 - 11:04:35 | 200 |  1.224399963s |       127.0.0.1 | POST     \"/api/generate\"\n"
     ]
    },
    {
     "name": "stderr",
     "output_type": "stream",
     "text": [
      "Generating responses:   3%|▎         | 30/1039 [01:18<40:18,  2.40s/it]"
     ]
    },
    {
     "name": "stdout",
     "output_type": "stream",
     "text": [
      "[GIN] 2024/10/24 - 11:04:36 | 200 |  708.026995ms |       127.0.0.1 | POST     \"/api/generate\"\n",
      "INFO [update_slots] input truncated | n_ctx=2048 n_erase=7011 n_keep=4 n_left=2044 n_shift=1022 tid=\"138523311972352\" timestamp=1729767876\n",
      "[GIN] 2024/10/24 - 11:04:37 | 200 |  1.133733288s |       127.0.0.1 | POST     \"/api/generate\"\n"
     ]
    },
    {
     "name": "stderr",
     "output_type": "stream",
     "text": [
      "Generating responses:   3%|▎         | 31/1039 [01:21<43:03,  2.56s/it]"
     ]
    },
    {
     "name": "stdout",
     "output_type": "stream",
     "text": [
      "[GIN] 2024/10/24 - 11:04:39 | 200 |  1.741121333s |       127.0.0.1 | POST     \"/api/generate\"\n",
      "INFO [update_slots] input truncated | n_ctx=2048 n_erase=7313 n_keep=4 n_left=2044 n_shift=1022 tid=\"138523311972352\" timestamp=1729767879\n",
      "[GIN] 2024/10/24 - 11:04:41 | 200 |  1.713168726s |       127.0.0.1 | POST     \"/api/generate\"\n"
     ]
    },
    {
     "name": "stderr",
     "output_type": "stream",
     "text": [
      "Generating responses:   3%|▎         | 32/1039 [01:24<44:28,  2.65s/it]"
     ]
    },
    {
     "name": "stdout",
     "output_type": "stream",
     "text": [
      "[GIN] 2024/10/24 - 11:04:42 | 200 |  1.061457501s |       127.0.0.1 | POST     \"/api/generate\"\n",
      "INFO [update_slots] input truncated | n_ctx=2048 n_erase=7569 n_keep=4 n_left=2044 n_shift=1022 tid=\"138523311972352\" timestamp=1729767882\n",
      "[GIN] 2024/10/24 - 11:04:43 | 200 |    1.3666513s |       127.0.0.1 | POST     \"/api/generate\"\n"
     ]
    },
    {
     "name": "stderr",
     "output_type": "stream",
     "text": [
      "Generating responses:   3%|▎         | 33/1039 [01:26<42:07,  2.51s/it]"
     ]
    },
    {
     "name": "stdout",
     "output_type": "stream",
     "text": [
      "[GIN] 2024/10/24 - 11:04:44 | 200 |  749.001732ms |       127.0.0.1 | POST     \"/api/generate\"\n",
      "INFO [update_slots] input truncated | n_ctx=2048 n_erase=7808 n_keep=4 n_left=2044 n_shift=1022 tid=\"138523311972352\" timestamp=1729767884\n",
      "[GIN] 2024/10/24 - 11:04:46 | 200 |  1.387347059s |       127.0.0.1 | POST     \"/api/generate\"\n",
      "[GIN] 2024/10/24 - 11:04:47 | 200 |  940.916834ms |       127.0.0.1 | POST     \"/api/generate\"\n"
     ]
    },
    {
     "name": "stderr",
     "output_type": "stream",
     "text": [
      "Generating responses:   3%|▎         | 34/1039 [01:29<44:59,  2.69s/it]"
     ]
    },
    {
     "name": "stdout",
     "output_type": "stream",
     "text": [
      "[GIN] 2024/10/24 - 11:04:47 | 200 |  680.886367ms |       127.0.0.1 | POST     \"/api/generate\"\n",
      "INFO [update_slots] input truncated | n_ctx=2048 n_erase=8063 n_keep=4 n_left=2044 n_shift=1022 tid=\"138523311972352\" timestamp=1729767887\n",
      "[GIN] 2024/10/24 - 11:04:49 | 200 |  1.342503104s |       127.0.0.1 | POST     \"/api/generate\"\n"
     ]
    },
    {
     "name": "stderr",
     "output_type": "stream",
     "text": [
      "Generating responses:   3%|▎         | 35/1039 [01:32<44:36,  2.67s/it]"
     ]
    },
    {
     "name": "stdout",
     "output_type": "stream",
     "text": [
      "[GIN] 2024/10/24 - 11:04:50 | 200 |   1.20590094s |       127.0.0.1 | POST     \"/api/generate\"\n",
      "INFO [update_slots] input truncated | n_ctx=2048 n_erase=8334 n_keep=4 n_left=2044 n_shift=1022 tid=\"138523311972352\" timestamp=1729767890\n",
      "[GIN] 2024/10/24 - 11:04:51 | 200 |  1.543772584s |       127.0.0.1 | POST     \"/api/generate\"\n"
     ]
    },
    {
     "name": "stderr",
     "output_type": "stream",
     "text": [
      "Generating responses:   3%|▎         | 36/1039 [01:35<46:01,  2.75s/it]"
     ]
    },
    {
     "name": "stdout",
     "output_type": "stream",
     "text": [
      "[GIN] 2024/10/24 - 11:04:53 | 200 |   1.33099871s |       127.0.0.1 | POST     \"/api/generate\"\n",
      "INFO [update_slots] input truncated | n_ctx=2048 n_erase=8613 n_keep=4 n_left=2044 n_shift=1022 tid=\"138523311972352\" timestamp=1729767893\n",
      "[GIN] 2024/10/24 - 11:04:54 | 200 |  1.340664944s |       127.0.0.1 | POST     \"/api/generate\"\n"
     ]
    },
    {
     "name": "stderr",
     "output_type": "stream",
     "text": [
      "Generating responses:   4%|▎         | 37/1039 [01:37<43:17,  2.59s/it]"
     ]
    },
    {
     "name": "stdout",
     "output_type": "stream",
     "text": [
      "[GIN] 2024/10/24 - 11:04:55 | 200 |  805.399914ms |       127.0.0.1 | POST     \"/api/generate\"\n",
      "INFO [update_slots] input truncated | n_ctx=2048 n_erase=8851 n_keep=4 n_left=2044 n_shift=1022 tid=\"138523311972352\" timestamp=1729767895\n",
      "[GIN] 2024/10/24 - 11:04:56 | 200 |  1.083905718s |       127.0.0.1 | POST     \"/api/generate\"\n"
     ]
    },
    {
     "name": "stderr",
     "output_type": "stream",
     "text": [
      "Generating responses:   4%|▎         | 38/1039 [01:40<41:42,  2.50s/it]"
     ]
    },
    {
     "name": "stdout",
     "output_type": "stream",
     "text": [
      "[GIN] 2024/10/24 - 11:04:57 | 200 |  1.119895448s |       127.0.0.1 | POST     \"/api/generate\"\n",
      "INFO [update_slots] input truncated | n_ctx=2048 n_erase=9108 n_keep=4 n_left=2044 n_shift=1022 tid=\"138523311972352\" timestamp=1729767898\n",
      "[GIN] 2024/10/24 - 11:04:59 | 200 |  1.262430996s |       127.0.0.1 | POST     \"/api/generate\"\n"
     ]
    },
    {
     "name": "stderr",
     "output_type": "stream",
     "text": [
      "Generating responses:   4%|▍         | 39/1039 [01:42<39:30,  2.37s/it]"
     ]
    },
    {
     "name": "stdout",
     "output_type": "stream",
     "text": [
      "[GIN] 2024/10/24 - 11:04:59 | 200 |  733.018409ms |       127.0.0.1 | POST     \"/api/generate\"\n",
      "INFO [update_slots] input truncated | n_ctx=2048 n_erase=9350 n_keep=4 n_left=2044 n_shift=1022 tid=\"138523311972352\" timestamp=1729767900\n",
      "[GIN] 2024/10/24 - 11:05:01 | 200 |  1.376914588s |       127.0.0.1 | POST     \"/api/generate\"\n"
     ]
    },
    {
     "name": "stderr",
     "output_type": "stream",
     "text": [
      "Generating responses:   4%|▍         | 40/1039 [01:44<38:41,  2.32s/it]"
     ]
    },
    {
     "name": "stdout",
     "output_type": "stream",
     "text": [
      "[GIN] 2024/10/24 - 11:05:02 | 200 |  760.280388ms |       127.0.0.1 | POST     \"/api/generate\"\n",
      "INFO [update_slots] input truncated | n_ctx=2048 n_erase=9592 n_keep=4 n_left=2044 n_shift=1022 tid=\"138523311972352\" timestamp=1729767902\n",
      "[GIN] 2024/10/24 - 11:05:03 | 200 |  1.342116787s |       127.0.0.1 | POST     \"/api/generate\"\n"
     ]
    },
    {
     "name": "stderr",
     "output_type": "stream",
     "text": [
      "Generating responses:   4%|▍         | 41/1039 [01:47<43:12,  2.60s/it]"
     ]
    },
    {
     "name": "stdout",
     "output_type": "stream",
     "text": [
      "[GIN] 2024/10/24 - 11:05:05 | 200 |  1.814929893s |       127.0.0.1 | POST     \"/api/generate\"\n",
      "INFO [update_slots] input truncated | n_ctx=2048 n_erase=9899 n_keep=4 n_left=2044 n_shift=1022 tid=\"138523311972352\" timestamp=1729767905\n",
      "[GIN] 2024/10/24 - 11:05:06 | 200 |  1.505648686s |       127.0.0.1 | POST     \"/api/generate\"\n",
      "[GIN] 2024/10/24 - 11:05:08 | 200 |  1.157170814s |       127.0.0.1 | POST     \"/api/generate\"\n"
     ]
    },
    {
     "name": "stderr",
     "output_type": "stream",
     "text": [
      "Generating responses:   4%|▍         | 42/1039 [01:52<53:36,  3.23s/it]"
     ]
    },
    {
     "name": "stdout",
     "output_type": "stream",
     "text": [
      "[GIN] 2024/10/24 - 11:05:10 | 200 |   1.94571485s |       127.0.0.1 | POST     \"/api/generate\"\n",
      "INFO [update_slots] input truncated | n_ctx=2048 n_erase=10164 n_keep=4 n_left=2044 n_shift=1022 tid=\"138523311972352\" timestamp=1729767910\n",
      "[GIN] 2024/10/24 - 11:05:11 | 200 |  1.374046213s |       127.0.0.1 | POST     \"/api/generate\"\n"
     ]
    },
    {
     "name": "stderr",
     "output_type": "stream",
     "text": [
      "Generating responses:   4%|▍         | 43/1039 [01:54<50:31,  3.04s/it]"
     ]
    },
    {
     "name": "stdout",
     "output_type": "stream",
     "text": [
      "[GIN] 2024/10/24 - 11:05:12 | 200 |  1.167180748s |       127.0.0.1 | POST     \"/api/generate\"\n",
      "INFO [update_slots] input truncated | n_ctx=2048 n_erase=10424 n_keep=4 n_left=2044 n_shift=1022 tid=\"138523311972352\" timestamp=1729767912\n",
      "[GIN] 2024/10/24 - 11:05:14 | 200 |  1.660110897s |       127.0.0.1 | POST     \"/api/generate\"\n",
      "[GIN] 2024/10/24 - 11:05:15 | 200 |  1.209453685s |       127.0.0.1 | POST     \"/api/generate\"\n"
     ]
    },
    {
     "name": "stderr",
     "output_type": "stream",
     "text": [
      "Generating responses:   4%|▍         | 44/1039 [01:58<54:09,  3.27s/it]"
     ]
    },
    {
     "name": "stdout",
     "output_type": "stream",
     "text": [
      "[GIN] 2024/10/24 - 11:05:16 | 200 |  832.798801ms |       127.0.0.1 | POST     \"/api/generate\"\n",
      "INFO [update_slots] input truncated | n_ctx=2048 n_erase=10694 n_keep=4 n_left=2044 n_shift=1022 tid=\"138523311972352\" timestamp=1729767916\n",
      "[GIN] 2024/10/24 - 11:05:18 | 200 |  1.534631856s |       127.0.0.1 | POST     \"/api/generate\"\n"
     ]
    },
    {
     "name": "stderr",
     "output_type": "stream",
     "text": [
      "Generating responses:   4%|▍         | 45/1039 [02:01<50:03,  3.02s/it]"
     ]
    },
    {
     "name": "stdout",
     "output_type": "stream",
     "text": [
      "[GIN] 2024/10/24 - 11:05:18 | 200 |  842.144524ms |       127.0.0.1 | POST     \"/api/generate\"\n",
      "INFO [update_slots] input truncated | n_ctx=2048 n_erase=10938 n_keep=4 n_left=2044 n_shift=1022 tid=\"138523311972352\" timestamp=1729767919\n",
      "[GIN] 2024/10/24 - 11:05:20 | 200 |  1.551333239s |       127.0.0.1 | POST     \"/api/generate\"\n",
      "[GIN] 2024/10/24 - 11:05:21 | 200 |  979.544924ms |       127.0.0.1 | POST     \"/api/generate\"\n"
     ]
    },
    {
     "name": "stderr",
     "output_type": "stream",
     "text": [
      "Generating responses:   4%|▍         | 46/1039 [02:05<57:50,  3.50s/it]"
     ]
    },
    {
     "name": "stdout",
     "output_type": "stream",
     "text": [
      "[GIN] 2024/10/24 - 11:05:23 | 200 |  1.985892924s |       127.0.0.1 | POST     \"/api/generate\"\n",
      "INFO [update_slots] input truncated | n_ctx=2048 n_erase=11188 n_keep=4 n_left=2044 n_shift=1022 tid=\"138523311972352\" timestamp=1729767923\n",
      "[GIN] 2024/10/24 - 11:05:24 | 200 |  1.406880586s |       127.0.0.1 | POST     \"/api/generate\"\n"
     ]
    },
    {
     "name": "stderr",
     "output_type": "stream",
     "text": [
      "Generating responses:   5%|▍         | 47/1039 [02:07<51:39,  3.12s/it]"
     ]
    },
    {
     "name": "stdout",
     "output_type": "stream",
     "text": [
      "[GIN] 2024/10/24 - 11:05:25 | 200 |  778.541184ms |       127.0.0.1 | POST     \"/api/generate\"\n",
      "INFO [update_slots] input truncated | n_ctx=2048 n_erase=11434 n_keep=4 n_left=2044 n_shift=1022 tid=\"138523311972352\" timestamp=1729767926\n",
      "[GIN] 2024/10/24 - 11:05:27 | 200 |  1.444535546s |       127.0.0.1 | POST     \"/api/generate\"\n"
     ]
    },
    {
     "name": "stderr",
     "output_type": "stream",
     "text": [
      "Generating responses:   5%|▍         | 48/1039 [02:10<49:10,  2.98s/it]"
     ]
    },
    {
     "name": "stdout",
     "output_type": "stream",
     "text": [
      "[GIN] 2024/10/24 - 11:05:28 | 200 |  1.110678934s |       127.0.0.1 | POST     \"/api/generate\"\n",
      "INFO [update_slots] input truncated | n_ctx=2048 n_erase=11698 n_keep=4 n_left=2044 n_shift=1022 tid=\"138523311972352\" timestamp=1729767928\n",
      "[GIN] 2024/10/24 - 11:05:29 | 200 |  1.557672664s |       127.0.0.1 | POST     \"/api/generate\"\n"
     ]
    },
    {
     "name": "stderr",
     "output_type": "stream",
     "text": [
      "Generating responses:   5%|▍         | 49/1039 [02:14<52:40,  3.19s/it]"
     ]
    },
    {
     "name": "stdout",
     "output_type": "stream",
     "text": [
      "[GIN] 2024/10/24 - 11:05:32 | 200 |  2.058729981s |       127.0.0.1 | POST     \"/api/generate\"\n",
      "INFO [update_slots] input truncated | n_ctx=2048 n_erase=12017 n_keep=4 n_left=2044 n_shift=1022 tid=\"138523311972352\" timestamp=1729767932\n",
      "[GIN] 2024/10/24 - 11:05:33 | 200 |  1.363480406s |       127.0.0.1 | POST     \"/api/generate\"\n"
     ]
    },
    {
     "name": "stderr",
     "output_type": "stream",
     "text": [
      "Generating responses:   5%|▍         | 50/1039 [02:17<52:49,  3.20s/it]"
     ]
    },
    {
     "name": "stdout",
     "output_type": "stream",
     "text": [
      "[GIN] 2024/10/24 - 11:05:35 | 200 |  1.789803258s |       127.0.0.1 | POST     \"/api/generate\"\n",
      "INFO [update_slots] input truncated | n_ctx=2048 n_erase=12318 n_keep=4 n_left=2044 n_shift=1022 tid=\"138523311972352\" timestamp=1729767935\n",
      "[GIN] 2024/10/24 - 11:05:36 | 200 |   1.41199433s |       127.0.0.1 | POST     \"/api/generate\"\n"
     ]
    },
    {
     "name": "stderr",
     "output_type": "stream",
     "text": [
      "Generating responses:   5%|▍         | 51/1039 [02:20<50:38,  3.08s/it]"
     ]
    },
    {
     "name": "stdout",
     "output_type": "stream",
     "text": [
      "[GIN] 2024/10/24 - 11:05:38 | 200 |   1.28195896s |       127.0.0.1 | POST     \"/api/generate\"\n",
      "INFO [update_slots] input truncated | n_ctx=2048 n_erase=12593 n_keep=4 n_left=2044 n_shift=1022 tid=\"138523311972352\" timestamp=1729767938\n",
      "[GIN] 2024/10/24 - 11:05:39 | 200 |  1.342362707s |       127.0.0.1 | POST     \"/api/generate\"\n"
     ]
    },
    {
     "name": "stderr",
     "output_type": "stream",
     "text": [
      "Generating responses:   5%|▌         | 52/1039 [02:22<46:55,  2.85s/it]"
     ]
    },
    {
     "name": "stdout",
     "output_type": "stream",
     "text": [
      "[GIN] 2024/10/24 - 11:05:40 | 200 |  911.849321ms |       127.0.0.1 | POST     \"/api/generate\"\n",
      "INFO [update_slots] input truncated | n_ctx=2048 n_erase=12847 n_keep=4 n_left=2044 n_shift=1022 tid=\"138523311972352\" timestamp=1729767940\n",
      "[GIN] 2024/10/24 - 11:05:42 | 200 |  1.550486386s |       127.0.0.1 | POST     \"/api/generate\"\n",
      "[GIN] 2024/10/24 - 11:05:42 | 200 |  774.825872ms |       127.0.0.1 | POST     \"/api/generate\"\n"
     ]
    },
    {
     "name": "stderr",
     "output_type": "stream",
     "text": [
      "Generating responses:   5%|▌         | 53/1039 [02:26<54:18,  3.30s/it]"
     ]
    },
    {
     "name": "stdout",
     "output_type": "stream",
     "text": [
      "[GIN] 2024/10/24 - 11:05:44 | 200 |  1.948923379s |       127.0.0.1 | POST     \"/api/generate\"\n",
      "INFO [update_slots] input truncated | n_ctx=2048 n_erase=13088 n_keep=4 n_left=2044 n_shift=1022 tid=\"138523311972352\" timestamp=1729767945\n",
      "[GIN] 2024/10/24 - 11:05:46 | 200 |  1.266404761s |       127.0.0.1 | POST     \"/api/generate\"\n"
     ]
    },
    {
     "name": "stderr",
     "output_type": "stream",
     "text": [
      "Generating responses:   5%|▌         | 54/1039 [02:29<47:56,  2.92s/it]"
     ]
    },
    {
     "name": "stdout",
     "output_type": "stream",
     "text": [
      "[GIN] 2024/10/24 - 11:05:46 | 200 |  683.878928ms |       127.0.0.1 | POST     \"/api/generate\"\n",
      "INFO [update_slots] input truncated | n_ctx=2048 n_erase=13319 n_keep=4 n_left=2044 n_shift=1022 tid=\"138523311972352\" timestamp=1729767947\n",
      "[GIN] 2024/10/24 - 11:05:48 | 200 |  1.742017777s |       127.0.0.1 | POST     \"/api/generate\"\n"
     ]
    },
    {
     "name": "stderr",
     "output_type": "stream",
     "text": [
      "Generating responses:   5%|▌         | 55/1039 [02:31<47:04,  2.87s/it]"
     ]
    },
    {
     "name": "stdout",
     "output_type": "stream",
     "text": [
      "[GIN] 2024/10/24 - 11:05:49 | 200 |  922.580204ms |       127.0.0.1 | POST     \"/api/generate\"\n",
      "INFO [update_slots] input truncated | n_ctx=2048 n_erase=13569 n_keep=4 n_left=2044 n_shift=1022 tid=\"138523311972352\" timestamp=1729767949\n",
      "[GIN] 2024/10/24 - 11:05:51 | 200 |  1.598099346s |       127.0.0.1 | POST     \"/api/generate\"\n"
     ]
    },
    {
     "name": "stderr",
     "output_type": "stream",
     "text": [
      "Generating responses:   5%|▌         | 56/1039 [02:35<49:39,  3.03s/it]"
     ]
    },
    {
     "name": "stdout",
     "output_type": "stream",
     "text": [
      "[GIN] 2024/10/24 - 11:05:53 | 200 |  1.729453452s |       127.0.0.1 | POST     \"/api/generate\"\n",
      "INFO [update_slots] input truncated | n_ctx=2048 n_erase=13863 n_keep=4 n_left=2044 n_shift=1022 tid=\"138523311972352\" timestamp=1729767953\n",
      "[GIN] 2024/10/24 - 11:05:55 | 200 |  2.247605112s |       127.0.0.1 | POST     \"/api/generate\"\n",
      "[GIN] 2024/10/24 - 11:05:56 | 200 |  965.089262ms |       127.0.0.1 | POST     \"/api/generate\"\n"
     ]
    },
    {
     "name": "stderr",
     "output_type": "stream",
     "text": [
      "Generating responses:   5%|▌         | 57/1039 [02:39<57:16,  3.50s/it]"
     ]
    },
    {
     "name": "stdout",
     "output_type": "stream",
     "text": [
      "[GIN] 2024/10/24 - 11:05:57 | 200 |  1.283995477s |       127.0.0.1 | POST     \"/api/generate\"\n",
      "INFO [update_slots] input truncated | n_ctx=2048 n_erase=14111 n_keep=4 n_left=2044 n_shift=1022 tid=\"138523311972352\" timestamp=1729767957\n",
      "[GIN] 2024/10/24 - 11:05:59 | 200 |  1.645459864s |       127.0.0.1 | POST     \"/api/generate\"\n",
      "[GIN] 2024/10/24 - 11:06:00 | 200 |  787.093437ms |       127.0.0.1 | POST     \"/api/generate\"\n"
     ]
    },
    {
     "name": "stderr",
     "output_type": "stream",
     "text": [
      "Generating responses:   6%|▌         | 58/1039 [02:43<58:14,  3.56s/it]"
     ]
    },
    {
     "name": "stdout",
     "output_type": "stream",
     "text": [
      "[GIN] 2024/10/24 - 11:06:01 | 200 |  1.192866835s |       127.0.0.1 | POST     \"/api/generate\"\n",
      "INFO [update_slots] input truncated | n_ctx=2048 n_erase=14347 n_keep=4 n_left=2044 n_shift=1022 tid=\"138523311972352\" timestamp=1729767961\n",
      "[GIN] 2024/10/24 - 11:06:02 | 200 |   1.38577164s |       127.0.0.1 | POST     \"/api/generate\"\n",
      "[GIN] 2024/10/24 - 11:06:03 | 200 |  977.291516ms |       127.0.0.1 | POST     \"/api/generate\"\n"
     ]
    },
    {
     "name": "stderr",
     "output_type": "stream",
     "text": [
      "Generating responses:   6%|▌         | 59/1039 [02:46<57:05,  3.50s/it]"
     ]
    },
    {
     "name": "stdout",
     "output_type": "stream",
     "text": [
      "[GIN] 2024/10/24 - 11:06:04 | 200 |  892.730365ms |       127.0.0.1 | POST     \"/api/generate\"\n",
      "INFO [update_slots] input truncated | n_ctx=2048 n_erase=14601 n_keep=4 n_left=2044 n_shift=1022 tid=\"138523311972352\" timestamp=1729767964\n",
      "[GIN] 2024/10/24 - 11:06:06 | 200 |  1.417637078s |       127.0.0.1 | POST     \"/api/generate\"\n"
     ]
    },
    {
     "name": "stderr",
     "output_type": "stream",
     "text": [
      "Generating responses:   6%|▌         | 60/1039 [02:49<52:50,  3.24s/it]"
     ]
    },
    {
     "name": "stdout",
     "output_type": "stream",
     "text": [
      "[GIN] 2024/10/24 - 11:06:07 | 200 |  1.137681105s |       127.0.0.1 | POST     \"/api/generate\"\n",
      "INFO [update_slots] input truncated | n_ctx=2048 n_erase=14858 n_keep=4 n_left=2044 n_shift=1022 tid=\"138523311972352\" timestamp=1729767967\n",
      "[GIN] 2024/10/24 - 11:06:08 | 200 |  1.653560947s |       127.0.0.1 | POST     \"/api/generate\"\n"
     ]
    },
    {
     "name": "stderr",
     "output_type": "stream",
     "text": [
      "Generating responses:   6%|▌         | 61/1039 [02:52<51:12,  3.14s/it]"
     ]
    },
    {
     "name": "stdout",
     "output_type": "stream",
     "text": [
      "[GIN] 2024/10/24 - 11:06:10 | 200 |  1.181568793s |       127.0.0.1 | POST     \"/api/generate\"\n",
      "INFO [update_slots] input truncated | n_ctx=2048 n_erase=15116 n_keep=4 n_left=2044 n_shift=1022 tid=\"138523311972352\" timestamp=1729767970\n",
      "[GIN] 2024/10/24 - 11:06:11 | 200 |  1.629965302s |       127.0.0.1 | POST     \"/api/generate\"\n"
     ]
    },
    {
     "name": "stderr",
     "output_type": "stream",
     "text": [
      "Generating responses:   6%|▌         | 62/1039 [02:54<48:25,  2.97s/it]"
     ]
    },
    {
     "name": "stdout",
     "output_type": "stream",
     "text": [
      "[GIN] 2024/10/24 - 11:06:12 | 200 |  869.798861ms |       127.0.0.1 | POST     \"/api/generate\"\n",
      "INFO [update_slots] input truncated | n_ctx=2048 n_erase=15355 n_keep=4 n_left=2044 n_shift=1022 tid=\"138523311972352\" timestamp=1729767973\n",
      "[GIN] 2024/10/24 - 11:06:14 | 200 |  1.989034297s |       127.0.0.1 | POST     \"/api/generate\"\n",
      "[GIN] 2024/10/24 - 11:06:16 | 200 |  1.178927952s |       127.0.0.1 | POST     \"/api/generate\"\n"
     ]
    },
    {
     "name": "stderr",
     "output_type": "stream",
     "text": [
      "Generating responses:   6%|▌         | 63/1039 [02:58<53:34,  3.29s/it]"
     ]
    },
    {
     "name": "stdout",
     "output_type": "stream",
     "text": [
      "[GIN] 2024/10/24 - 11:06:16 | 200 |  784.960431ms |       127.0.0.1 | POST     \"/api/generate\"\n",
      "INFO [update_slots] input truncated | n_ctx=2048 n_erase=15618 n_keep=4 n_left=2044 n_shift=1022 tid=\"138523311972352\" timestamp=1729767977\n",
      "[GIN] 2024/10/24 - 11:06:18 | 200 |  1.614545364s |       127.0.0.1 | POST     \"/api/generate\"\n",
      "[GIN] 2024/10/24 - 11:06:19 | 200 |  915.869732ms |       127.0.0.1 | POST     \"/api/generate\"\n"
     ]
    },
    {
     "name": "stderr",
     "output_type": "stream",
     "text": [
      "Generating responses:   6%|▌         | 64/1039 [03:02<55:11,  3.40s/it]"
     ]
    },
    {
     "name": "stdout",
     "output_type": "stream",
     "text": [
      "[GIN] 2024/10/24 - 11:06:20 | 200 |  1.026074735s |       127.0.0.1 | POST     \"/api/generate\"\n",
      "INFO [update_slots] input truncated | n_ctx=2048 n_erase=15865 n_keep=4 n_left=2044 n_shift=1022 tid=\"138523311972352\" timestamp=1729767980\n",
      "[GIN] 2024/10/24 - 11:06:21 | 200 |  1.471634385s |       127.0.0.1 | POST     \"/api/generate\"\n"
     ]
    },
    {
     "name": "stderr",
     "output_type": "stream",
     "text": [
      "Generating responses:   6%|▋         | 65/1039 [03:05<53:12,  3.28s/it]"
     ]
    },
    {
     "name": "stdout",
     "output_type": "stream",
     "text": [
      "[GIN] 2024/10/24 - 11:06:23 | 200 |  1.447527462s |       127.0.0.1 | POST     \"/api/generate\"\n",
      "INFO [update_slots] input truncated | n_ctx=2048 n_erase=16147 n_keep=4 n_left=2044 n_shift=1022 tid=\"138523311972352\" timestamp=1729767983\n",
      "[GIN] 2024/10/24 - 11:06:25 | 200 |  1.809853769s |       127.0.0.1 | POST     \"/api/generate\"\n",
      "[GIN] 2024/10/24 - 11:06:26 | 200 |  1.621685955s |       127.0.0.1 | POST     \"/api/generate\"\n"
     ]
    },
    {
     "name": "stderr",
     "output_type": "stream",
     "text": [
      "Generating responses:   6%|▋         | 66/1039 [03:10<1:00:21,  3.72s/it]"
     ]
    },
    {
     "name": "stdout",
     "output_type": "stream",
     "text": [
      "[GIN] 2024/10/24 - 11:06:28 | 200 |  1.238671049s |       127.0.0.1 | POST     \"/api/generate\"\n",
      "INFO [update_slots] input truncated | n_ctx=2048 n_erase=16433 n_keep=4 n_left=2044 n_shift=1022 tid=\"138523311972352\" timestamp=1729767988\n",
      "[GIN] 2024/10/24 - 11:06:29 | 200 |  1.324783763s |       127.0.0.1 | POST     \"/api/generate\"\n"
     ]
    },
    {
     "name": "stderr",
     "output_type": "stream",
     "text": [
      "Generating responses:   6%|▋         | 67/1039 [03:12<52:01,  3.21s/it]  "
     ]
    },
    {
     "name": "stdout",
     "output_type": "stream",
     "text": [
      "[GIN] 2024/10/24 - 11:06:30 | 200 |  611.953502ms |       127.0.0.1 | POST     \"/api/generate\"\n",
      "INFO [update_slots] input truncated | n_ctx=2048 n_erase=16660 n_keep=4 n_left=2044 n_shift=1022 tid=\"138523311972352\" timestamp=1729767990\n",
      "[GIN] 2024/10/24 - 11:06:31 | 200 |  1.604682175s |       127.0.0.1 | POST     \"/api/generate\"\n"
     ]
    },
    {
     "name": "stderr",
     "output_type": "stream",
     "text": [
      "Generating responses:   7%|▋         | 68/1039 [03:14<49:00,  3.03s/it]"
     ]
    },
    {
     "name": "stdout",
     "output_type": "stream",
     "text": [
      "[GIN] 2024/10/24 - 11:06:32 | 200 |  912.955786ms |       127.0.0.1 | POST     \"/api/generate\"\n",
      "INFO [update_slots] input truncated | n_ctx=2048 n_erase=16907 n_keep=4 n_left=2044 n_shift=1022 tid=\"138523311972352\" timestamp=1729767993\n",
      "[GIN] 2024/10/24 - 11:06:34 | 200 |  1.755257845s |       127.0.0.1 | POST     \"/api/generate\"\n"
     ]
    },
    {
     "name": "stderr",
     "output_type": "stream",
     "text": [
      "Generating responses:   7%|▋         | 69/1039 [03:17<48:03,  2.97s/it]"
     ]
    },
    {
     "name": "stdout",
     "output_type": "stream",
     "text": [
      "[GIN] 2024/10/24 - 11:06:35 | 200 |   1.00456532s |       127.0.0.1 | POST     \"/api/generate\"\n",
      "INFO [update_slots] input truncated | n_ctx=2048 n_erase=17159 n_keep=4 n_left=2044 n_shift=1022 tid=\"138523311972352\" timestamp=1729767995\n",
      "[GIN] 2024/10/24 - 11:06:37 | 200 |  1.905688386s |       127.0.0.1 | POST     \"/api/generate\"\n"
     ]
    },
    {
     "name": "stderr",
     "output_type": "stream",
     "text": [
      "Generating responses:   7%|▋         | 70/1039 [03:20<47:41,  2.95s/it]"
     ]
    },
    {
     "name": "stdout",
     "output_type": "stream",
     "text": [
      "[GIN] 2024/10/24 - 11:06:38 | 200 |  921.709812ms |       127.0.0.1 | POST     \"/api/generate\"\n",
      "INFO [update_slots] input truncated | n_ctx=2048 n_erase=17401 n_keep=4 n_left=2044 n_shift=1022 tid=\"138523311972352\" timestamp=1729767998\n",
      "[GIN] 2024/10/24 - 11:06:39 | 200 |   1.36100887s |       127.0.0.1 | POST     \"/api/generate\"\n"
     ]
    },
    {
     "name": "stderr",
     "output_type": "stream",
     "text": [
      "Generating responses:   7%|▋         | 71/1039 [03:24<49:29,  3.07s/it]"
     ]
    },
    {
     "name": "stdout",
     "output_type": "stream",
     "text": [
      "[GIN] 2024/10/24 - 11:06:41 | 200 |  1.892127833s |       127.0.0.1 | POST     \"/api/generate\"\n",
      "INFO [update_slots] input truncated | n_ctx=2048 n_erase=17701 n_keep=4 n_left=2044 n_shift=1022 tid=\"138523311972352\" timestamp=1729768002\n",
      "[GIN] 2024/10/24 - 11:06:43 | 200 |  1.344708669s |       127.0.0.1 | POST     \"/api/generate\"\n"
     ]
    },
    {
     "name": "stderr",
     "output_type": "stream",
     "text": [
      "Generating responses:   7%|▋         | 72/1039 [03:27<49:37,  3.08s/it]"
     ]
    },
    {
     "name": "stdout",
     "output_type": "stream",
     "text": [
      "[GIN] 2024/10/24 - 11:06:45 | 200 |  1.678320261s |       127.0.0.1 | POST     \"/api/generate\"\n",
      "INFO [update_slots] input truncated | n_ctx=2048 n_erase=17999 n_keep=4 n_left=2044 n_shift=1022 tid=\"138523311972352\" timestamp=1729768005\n",
      "[GIN] 2024/10/24 - 11:06:46 | 200 |  1.334984987s |       127.0.0.1 | POST     \"/api/generate\"\n"
     ]
    },
    {
     "name": "stderr",
     "output_type": "stream",
     "text": [
      "Generating responses:   7%|▋         | 73/1039 [03:29<45:38,  2.84s/it]"
     ]
    },
    {
     "name": "stdout",
     "output_type": "stream",
     "text": [
      "[GIN] 2024/10/24 - 11:06:47 | 200 |  851.369363ms |       127.0.0.1 | POST     \"/api/generate\"\n",
      "INFO [update_slots] input truncated | n_ctx=2048 n_erase=18247 n_keep=4 n_left=2044 n_shift=1022 tid=\"138523311972352\" timestamp=1729768007\n",
      "[GIN] 2024/10/24 - 11:06:48 | 200 |  1.565742714s |       127.0.0.1 | POST     \"/api/generate\"\n"
     ]
    },
    {
     "name": "stderr",
     "output_type": "stream",
     "text": [
      "Generating responses:   7%|▋         | 74/1039 [03:32<44:48,  2.79s/it]"
     ]
    },
    {
     "name": "stdout",
     "output_type": "stream",
     "text": [
      "[GIN] 2024/10/24 - 11:06:49 | 200 |  1.021087904s |       127.0.0.1 | POST     \"/api/generate\"\n",
      "INFO [update_slots] input truncated | n_ctx=2048 n_erase=18523 n_keep=4 n_left=2044 n_shift=1022 tid=\"138523311972352\" timestamp=1729768010\n",
      "[GIN] 2024/10/24 - 11:06:51 | 200 |  1.701638848s |       127.0.0.1 | POST     \"/api/generate\"\n"
     ]
    },
    {
     "name": "stderr",
     "output_type": "stream",
     "text": [
      "Generating responses:   7%|▋         | 75/1039 [03:34<44:40,  2.78s/it]"
     ]
    },
    {
     "name": "stdout",
     "output_type": "stream",
     "text": [
      "[GIN] 2024/10/24 - 11:06:52 | 200 |  962.739996ms |       127.0.0.1 | POST     \"/api/generate\"\n",
      "INFO [update_slots] input truncated | n_ctx=2048 n_erase=18774 n_keep=4 n_left=2044 n_shift=1022 tid=\"138523311972352\" timestamp=1729768013\n",
      "[GIN] 2024/10/24 - 11:06:54 | 200 |  1.641825616s |       127.0.0.1 | POST     \"/api/generate\"\n"
     ]
    },
    {
     "name": "stderr",
     "output_type": "stream",
     "text": [
      "Generating responses:   7%|▋         | 76/1039 [03:37<45:26,  2.83s/it]"
     ]
    },
    {
     "name": "stdout",
     "output_type": "stream",
     "text": [
      "[GIN] 2024/10/24 - 11:06:55 | 200 |  1.221589206s |       127.0.0.1 | POST     \"/api/generate\"\n",
      "INFO [update_slots] input truncated | n_ctx=2048 n_erase=19038 n_keep=4 n_left=2044 n_shift=1022 tid=\"138523311972352\" timestamp=1729768015\n",
      "[GIN] 2024/10/24 - 11:06:57 | 200 |  1.523154998s |       127.0.0.1 | POST     \"/api/generate\"\n"
     ]
    },
    {
     "name": "stderr",
     "output_type": "stream",
     "text": [
      "Generating responses:   7%|▋         | 77/1039 [03:40<43:05,  2.69s/it]"
     ]
    },
    {
     "name": "stdout",
     "output_type": "stream",
     "text": [
      "[GIN] 2024/10/24 - 11:06:58 | 200 |  744.314604ms |       127.0.0.1 | POST     \"/api/generate\"\n",
      "INFO [update_slots] input truncated | n_ctx=2048 n_erase=19273 n_keep=4 n_left=2044 n_shift=1022 tid=\"138523311972352\" timestamp=1729768018\n",
      "[GIN] 2024/10/24 - 11:06:59 | 200 |  1.510366946s |       127.0.0.1 | POST     \"/api/generate\"\n"
     ]
    },
    {
     "name": "stderr",
     "output_type": "stream",
     "text": [
      "Generating responses:   8%|▊         | 78/1039 [03:43<45:54,  2.87s/it]"
     ]
    },
    {
     "name": "stdout",
     "output_type": "stream",
     "text": [
      "[GIN] 2024/10/24 - 11:07:01 | 200 |  1.684105154s |       127.0.0.1 | POST     \"/api/generate\"\n",
      "INFO [update_slots] input truncated | n_ctx=2048 n_erase=19575 n_keep=4 n_left=2044 n_shift=1022 tid=\"138523311972352\" timestamp=1729768021\n",
      "[GIN] 2024/10/24 - 11:07:03 | 200 |  1.804121547s |       127.0.0.1 | POST     \"/api/generate\"\n"
     ]
    },
    {
     "name": "stderr",
     "output_type": "stream",
     "text": [
      "Generating responses:   8%|▊         | 79/1039 [03:46<45:59,  2.87s/it]"
     ]
    },
    {
     "name": "stdout",
     "output_type": "stream",
     "text": [
      "[GIN] 2024/10/24 - 11:07:04 | 200 |  1.001132197s |       127.0.0.1 | POST     \"/api/generate\"\n",
      "INFO [update_slots] input truncated | n_ctx=2048 n_erase=19828 n_keep=4 n_left=2044 n_shift=1022 tid=\"138523311972352\" timestamp=1729768024\n",
      "[GIN] 2024/10/24 - 11:07:05 | 200 |  1.575891859s |       127.0.0.1 | POST     \"/api/generate\"\n"
     ]
    },
    {
     "name": "stderr",
     "output_type": "stream",
     "text": [
      "Generating responses:   8%|▊         | 80/1039 [03:49<46:56,  2.94s/it]"
     ]
    },
    {
     "name": "stdout",
     "output_type": "stream",
     "text": [
      "[GIN] 2024/10/24 - 11:07:07 | 200 |  1.425118883s |       127.0.0.1 | POST     \"/api/generate\"\n",
      "INFO [update_slots] input truncated | n_ctx=2048 n_erase=20109 n_keep=4 n_left=2044 n_shift=1022 tid=\"138523311972352\" timestamp=1729768027\n",
      "[GIN] 2024/10/24 - 11:07:08 | 200 |  1.612723768s |       127.0.0.1 | POST     \"/api/generate\"\n",
      "[GIN] 2024/10/24 - 11:07:09 | 200 |  779.120585ms |       127.0.0.1 | POST     \"/api/generate\"\n"
     ]
    },
    {
     "name": "stderr",
     "output_type": "stream",
     "text": [
      "Generating responses:   8%|▊         | 81/1039 [03:52<48:23,  3.03s/it]"
     ]
    },
    {
     "name": "stdout",
     "output_type": "stream",
     "text": [
      "[GIN] 2024/10/24 - 11:07:10 | 200 |  768.870345ms |       127.0.0.1 | POST     \"/api/generate\"\n",
      "INFO [update_slots] input truncated | n_ctx=2048 n_erase=20359 n_keep=4 n_left=2044 n_shift=1022 tid=\"138523311972352\" timestamp=1729768030\n",
      "[GIN] 2024/10/24 - 11:07:12 | 200 |   1.44714312s |       127.0.0.1 | POST     \"/api/generate\"\n"
     ]
    },
    {
     "name": "stderr",
     "output_type": "stream",
     "text": [
      "Generating responses:   8%|▊         | 82/1039 [03:56<49:53,  3.13s/it]"
     ]
    },
    {
     "name": "stdout",
     "output_type": "stream",
     "text": [
      "[GIN] 2024/10/24 - 11:07:13 | 200 |   1.81756718s |       127.0.0.1 | POST     \"/api/generate\"\n",
      "INFO [update_slots] input truncated | n_ctx=2048 n_erase=20663 n_keep=4 n_left=2044 n_shift=1022 tid=\"138523311972352\" timestamp=1729768034\n",
      "[GIN] 2024/10/24 - 11:07:15 | 200 |  1.525873743s |       127.0.0.1 | POST     \"/api/generate\"\n"
     ]
    },
    {
     "name": "stderr",
     "output_type": "stream",
     "text": [
      "Generating responses:   8%|▊         | 83/1039 [03:59<50:20,  3.16s/it]"
     ]
    },
    {
     "name": "stdout",
     "output_type": "stream",
     "text": [
      "[GIN] 2024/10/24 - 11:07:17 | 200 |  1.618002802s |       127.0.0.1 | POST     \"/api/generate\"\n",
      "INFO [update_slots] input truncated | n_ctx=2048 n_erase=20954 n_keep=4 n_left=2044 n_shift=1022 tid=\"138523311972352\" timestamp=1729768037\n",
      "[GIN] 2024/10/24 - 11:07:18 | 200 |  1.473877168s |       127.0.0.1 | POST     \"/api/generate\"\n"
     ]
    },
    {
     "name": "stderr",
     "output_type": "stream",
     "text": [
      "Generating responses:   8%|▊         | 84/1039 [04:02<48:19,  3.04s/it]"
     ]
    },
    {
     "name": "stdout",
     "output_type": "stream",
     "text": [
      "[GIN] 2024/10/24 - 11:07:19 | 200 |  1.186500275s |       127.0.0.1 | POST     \"/api/generate\"\n",
      "INFO [update_slots] input truncated | n_ctx=2048 n_erase=21215 n_keep=4 n_left=2044 n_shift=1022 tid=\"138523311972352\" timestamp=1729768040\n",
      "[GIN] 2024/10/24 - 11:07:21 | 200 |  1.602372589s |       127.0.0.1 | POST     \"/api/generate\"\n",
      "[GIN] 2024/10/24 - 11:07:22 | 200 |  745.440676ms |       127.0.0.1 | POST     \"/api/generate\"\n"
     ]
    },
    {
     "name": "stderr",
     "output_type": "stream",
     "text": [
      "Generating responses:   8%|▊         | 85/1039 [04:05<52:02,  3.27s/it]"
     ]
    },
    {
     "name": "stdout",
     "output_type": "stream",
     "text": [
      "[GIN] 2024/10/24 - 11:07:23 | 200 |  1.381967428s |       127.0.0.1 | POST     \"/api/generate\"\n",
      "INFO [update_slots] input truncated | n_ctx=2048 n_erase=21453 n_keep=4 n_left=2044 n_shift=1022 tid=\"138523311972352\" timestamp=1729768044\n",
      "[GIN] 2024/10/24 - 11:07:25 | 200 |  1.507141672s |       127.0.0.1 | POST     \"/api/generate\"\n"
     ]
    },
    {
     "name": "stderr",
     "output_type": "stream",
     "text": [
      "Generating responses:   8%|▊         | 86/1039 [04:08<47:44,  3.01s/it]"
     ]
    },
    {
     "name": "stdout",
     "output_type": "stream",
     "text": [
      "[GIN] 2024/10/24 - 11:07:26 | 200 |  779.626568ms |       127.0.0.1 | POST     \"/api/generate\"\n",
      "INFO [update_slots] input truncated | n_ctx=2048 n_erase=21690 n_keep=4 n_left=2044 n_shift=1022 tid=\"138523311972352\" timestamp=1729768046\n",
      "[GIN] 2024/10/24 - 11:07:27 | 200 |  1.474276137s |       127.0.0.1 | POST     \"/api/generate\"\n",
      "[GIN] 2024/10/24 - 11:07:28 | 200 |  616.834416ms |       127.0.0.1 | POST     \"/api/generate\"\n"
     ]
    },
    {
     "name": "stderr",
     "output_type": "stream",
     "text": [
      "Generating responses:   8%|▊         | 87/1039 [04:11<49:31,  3.12s/it]"
     ]
    },
    {
     "name": "stdout",
     "output_type": "stream",
     "text": [
      "[GIN] 2024/10/24 - 11:07:29 | 200 |  1.207113259s |       127.0.0.1 | POST     \"/api/generate\"\n",
      "INFO [update_slots] input truncated | n_ctx=2048 n_erase=21927 n_keep=4 n_left=2044 n_shift=1022 tid=\"138523311972352\" timestamp=1729768049\n",
      "[GIN] 2024/10/24 - 11:07:31 | 200 |  1.703744092s |       127.0.0.1 | POST     \"/api/generate\"\n"
     ]
    },
    {
     "name": "stderr",
     "output_type": "stream",
     "text": [
      "Generating responses:   8%|▊         | 88/1039 [04:14<48:06,  3.03s/it]"
     ]
    },
    {
     "name": "stdout",
     "output_type": "stream",
     "text": [
      "[GIN] 2024/10/24 - 11:07:32 | 200 |  1.040187951s |       127.0.0.1 | POST     \"/api/generate\"\n",
      "INFO [update_slots] input truncated | n_ctx=2048 n_erase=22178 n_keep=4 n_left=2044 n_shift=1022 tid=\"138523311972352\" timestamp=1729768052\n",
      "[GIN] 2024/10/24 - 11:07:33 | 200 |  1.480782687s |       127.0.0.1 | POST     \"/api/generate\"\n",
      "[GIN] 2024/10/24 - 11:07:34 | 200 |  815.963901ms |       127.0.0.1 | POST     \"/api/generate\"\n"
     ]
    },
    {
     "name": "stderr",
     "output_type": "stream",
     "text": [
      "Generating responses:   9%|▊         | 89/1039 [04:17<49:35,  3.13s/it]"
     ]
    },
    {
     "name": "stdout",
     "output_type": "stream",
     "text": [
      "[GIN] 2024/10/24 - 11:07:35 | 200 |  968.877472ms |       127.0.0.1 | POST     \"/api/generate\"\n",
      "INFO [update_slots] input truncated | n_ctx=2048 n_erase=22424 n_keep=4 n_left=2044 n_shift=1022 tid=\"138523311972352\" timestamp=1729768056\n",
      "[GIN] 2024/10/24 - 11:07:37 | 200 |  1.464858263s |       127.0.0.1 | POST     \"/api/generate\"\n"
     ]
    },
    {
     "name": "stderr",
     "output_type": "stream",
     "text": [
      "Generating responses:   9%|▊         | 90/1039 [04:20<45:10,  2.86s/it]"
     ]
    },
    {
     "name": "stdout",
     "output_type": "stream",
     "text": [
      "[GIN] 2024/10/24 - 11:07:37 | 200 |  657.598433ms |       127.0.0.1 | POST     \"/api/generate\"\n",
      "INFO [update_slots] input truncated | n_ctx=2048 n_erase=22660 n_keep=4 n_left=2044 n_shift=1022 tid=\"138523311972352\" timestamp=1729768058\n",
      "[GIN] 2024/10/24 - 11:07:39 | 200 |  1.889834713s |       127.0.0.1 | POST     \"/api/generate\"\n"
     ]
    },
    {
     "name": "stderr",
     "output_type": "stream",
     "text": [
      "Generating responses:   9%|▉         | 91/1039 [04:23<48:15,  3.05s/it]"
     ]
    },
    {
     "name": "stdout",
     "output_type": "stream",
     "text": [
      "[GIN] 2024/10/24 - 11:07:41 | 200 |  1.534973967s |       127.0.0.1 | POST     \"/api/generate\"\n",
      "INFO [update_slots] input truncated | n_ctx=2048 n_erase=22953 n_keep=4 n_left=2044 n_shift=1022 tid=\"138523311972352\" timestamp=1729768061\n",
      "[GIN] 2024/10/24 - 11:07:43 | 200 |  1.593792968s |       127.0.0.1 | POST     \"/api/generate\"\n"
     ]
    },
    {
     "name": "stderr",
     "output_type": "stream",
     "text": [
      "Generating responses:   9%|▉         | 92/1039 [04:26<48:27,  3.07s/it]"
     ]
    },
    {
     "name": "stdout",
     "output_type": "stream",
     "text": [
      "[GIN] 2024/10/24 - 11:07:44 | 200 |  1.422485644s |       127.0.0.1 | POST     \"/api/generate\"\n",
      "INFO [update_slots] input truncated | n_ctx=2048 n_erase=23232 n_keep=4 n_left=2044 n_shift=1022 tid=\"138523311972352\" timestamp=1729768064\n",
      "[GIN] 2024/10/24 - 11:07:46 | 200 |  1.752268461s |       127.0.0.1 | POST     \"/api/generate\"\n"
     ]
    },
    {
     "name": "stderr",
     "output_type": "stream",
     "text": [
      "Generating responses:   9%|▉         | 93/1039 [04:29<48:54,  3.10s/it]"
     ]
    },
    {
     "name": "stdout",
     "output_type": "stream",
     "text": [
      "[GIN] 2024/10/24 - 11:07:47 | 200 |  1.330525336s |       127.0.0.1 | POST     \"/api/generate\"\n",
      "INFO [update_slots] input truncated | n_ctx=2048 n_erase=23508 n_keep=4 n_left=2044 n_shift=1022 tid=\"138523311972352\" timestamp=1729768068\n",
      "[GIN] 2024/10/24 - 11:07:49 | 200 |  1.439542319s |       127.0.0.1 | POST     \"/api/generate\"\n",
      "[GIN] 2024/10/24 - 11:07:49 | 200 |  586.724292ms |       127.0.0.1 | POST     \"/api/generate\"\n"
     ]
    },
    {
     "name": "stderr",
     "output_type": "stream",
     "text": [
      "Generating responses:   9%|▉         | 94/1039 [04:33<50:48,  3.23s/it]"
     ]
    },
    {
     "name": "stdout",
     "output_type": "stream",
     "text": [
      "[GIN] 2024/10/24 - 11:07:51 | 200 |  1.393022481s |       127.0.0.1 | POST     \"/api/generate\"\n",
      "INFO [update_slots] input truncated | n_ctx=2048 n_erase=23736 n_keep=4 n_left=2044 n_shift=1022 tid=\"138523311972352\" timestamp=1729768071\n",
      "[GIN] 2024/10/24 - 11:07:52 | 200 |  1.583937341s |       127.0.0.1 | POST     \"/api/generate\"\n"
     ]
    },
    {
     "name": "stderr",
     "output_type": "stream",
     "text": [
      "Generating responses:   9%|▉         | 95/1039 [04:35<46:48,  2.97s/it]"
     ]
    },
    {
     "name": "stdout",
     "output_type": "stream",
     "text": [
      "[GIN] 2024/10/24 - 11:07:53 | 200 |   712.32654ms |       127.0.0.1 | POST     \"/api/generate\"\n",
      "INFO [update_slots] input truncated | n_ctx=2048 n_erase=23972 n_keep=4 n_left=2044 n_shift=1022 tid=\"138523311972352\" timestamp=1729768073\n",
      "[GIN] 2024/10/24 - 11:07:55 | 200 |  1.823528575s |       127.0.0.1 | POST     \"/api/generate\"\n"
     ]
    },
    {
     "name": "stderr",
     "output_type": "stream",
     "text": [
      "Generating responses:   9%|▉         | 96/1039 [04:38<47:25,  3.02s/it]"
     ]
    },
    {
     "name": "stdout",
     "output_type": "stream",
     "text": [
      "[GIN] 2024/10/24 - 11:07:56 | 200 |  1.199802185s |       127.0.0.1 | POST     \"/api/generate\"\n",
      "INFO [update_slots] input truncated | n_ctx=2048 n_erase=24229 n_keep=4 n_left=2044 n_shift=1022 tid=\"138523311972352\" timestamp=1729768077\n",
      "[GIN] 2024/10/24 - 11:07:58 | 200 |  1.602943322s |       127.0.0.1 | POST     \"/api/generate\"\n"
     ]
    },
    {
     "name": "stderr",
     "output_type": "stream",
     "text": [
      "Generating responses:   9%|▉         | 97/1039 [04:41<46:40,  2.97s/it]"
     ]
    },
    {
     "name": "stdout",
     "output_type": "stream",
     "text": [
      "[GIN] 2024/10/24 - 11:07:59 | 200 |  1.171576932s |       127.0.0.1 | POST     \"/api/generate\"\n",
      "INFO [update_slots] input truncated | n_ctx=2048 n_erase=24493 n_keep=4 n_left=2044 n_shift=1022 tid=\"138523311972352\" timestamp=1729768079\n",
      "[GIN] 2024/10/24 - 11:08:01 | 200 |  1.736867721s |       127.0.0.1 | POST     \"/api/generate\"\n"
     ]
    },
    {
     "name": "stderr",
     "output_type": "stream",
     "text": [
      "Generating responses:   9%|▉         | 98/1039 [04:44<45:04,  2.87s/it]"
     ]
    },
    {
     "name": "stdout",
     "output_type": "stream",
     "text": [
      "[GIN] 2024/10/24 - 11:08:02 | 200 |  813.768991ms |       127.0.0.1 | POST     \"/api/generate\"\n",
      "INFO [update_slots] input truncated | n_ctx=2048 n_erase=24742 n_keep=4 n_left=2044 n_shift=1022 tid=\"138523311972352\" timestamp=1729768082\n",
      "[GIN] 2024/10/24 - 11:08:03 | 200 |  1.654190685s |       127.0.0.1 | POST     \"/api/generate\"\n"
     ]
    },
    {
     "name": "stderr",
     "output_type": "stream",
     "text": [
      "Generating responses:  10%|▉         | 99/1039 [04:47<48:13,  3.08s/it]"
     ]
    },
    {
     "name": "stdout",
     "output_type": "stream",
     "text": [
      "[GIN] 2024/10/24 - 11:08:05 | 200 |   1.80900293s |       127.0.0.1 | POST     \"/api/generate\"\n",
      "INFO [update_slots] input truncated | n_ctx=2048 n_erase=25044 n_keep=4 n_left=2044 n_shift=1022 tid=\"138523311972352\" timestamp=1729768086\n",
      "[GIN] 2024/10/24 - 11:08:07 | 200 |  1.586102523s |       127.0.0.1 | POST     \"/api/generate\"\n"
     ]
    },
    {
     "name": "stderr",
     "output_type": "stream",
     "text": [
      "Generating responses:  10%|▉         | 100/1039 [04:50<44:34,  2.85s/it]"
     ]
    },
    {
     "name": "stdout",
     "output_type": "stream",
     "text": [
      "[GIN] 2024/10/24 - 11:08:08 | 200 |  630.006314ms |       127.0.0.1 | POST     \"/api/generate\"\n",
      "INFO [update_slots] input truncated | n_ctx=2048 n_erase=25276 n_keep=4 n_left=2044 n_shift=1022 tid=\"138523311972352\" timestamp=1729768088\n",
      "[GIN] 2024/10/24 - 11:08:09 | 200 |  1.769950622s |       127.0.0.1 | POST     \"/api/generate\"\n"
     ]
    },
    {
     "name": "stderr",
     "output_type": "stream",
     "text": [
      "Generating responses:  10%|▉         | 101/1039 [04:53<45:23,  2.90s/it]"
     ]
    },
    {
     "name": "stdout",
     "output_type": "stream",
     "text": [
      "[GIN] 2024/10/24 - 11:08:11 | 200 |   1.16964162s |       127.0.0.1 | POST     \"/api/generate\"\n",
      "INFO [update_slots] input truncated | n_ctx=2048 n_erase=25540 n_keep=4 n_left=2044 n_shift=1022 tid=\"138523311972352\" timestamp=1729768091\n",
      "[GIN] 2024/10/24 - 11:08:12 | 200 |  1.784124721s |       127.0.0.1 | POST     \"/api/generate\"\n"
     ]
    },
    {
     "name": "stderr",
     "output_type": "stream",
     "text": [
      "Generating responses:  10%|▉         | 102/1039 [04:57<49:33,  3.17s/it]"
     ]
    },
    {
     "name": "stdout",
     "output_type": "stream",
     "text": [
      "[GIN] 2024/10/24 - 11:08:14 | 200 |  1.926261573s |       127.0.0.1 | POST     \"/api/generate\"\n",
      "INFO [update_slots] input truncated | n_ctx=2048 n_erase=25848 n_keep=4 n_left=2044 n_shift=1022 tid=\"138523311972352\" timestamp=1729768095\n",
      "[GIN] 2024/10/24 - 11:08:16 | 200 |  1.490669441s |       127.0.0.1 | POST     \"/api/generate\"\n"
     ]
    },
    {
     "name": "stderr",
     "output_type": "stream",
     "text": [
      "Generating responses:  10%|▉         | 103/1039 [04:59<46:57,  3.01s/it]"
     ]
    },
    {
     "name": "stdout",
     "output_type": "stream",
     "text": [
      "[GIN] 2024/10/24 - 11:08:17 | 200 |  1.046262181s |       127.0.0.1 | POST     \"/api/generate\"\n",
      "INFO [update_slots] input truncated | n_ctx=2048 n_erase=26104 n_keep=4 n_left=2044 n_shift=1022 tid=\"138523311972352\" timestamp=1729768097\n",
      "[GIN] 2024/10/24 - 11:08:19 | 200 |  1.717288704s |       127.0.0.1 | POST     \"/api/generate\"\n"
     ]
    },
    {
     "name": "stderr",
     "output_type": "stream",
     "text": [
      "Generating responses:  10%|█         | 104/1039 [05:03<50:15,  3.23s/it]"
     ]
    },
    {
     "name": "stdout",
     "output_type": "stream",
     "text": [
      "[GIN] 2024/10/24 - 11:08:21 | 200 |  1.916339085s |       127.0.0.1 | POST     \"/api/generate\"\n",
      "INFO [update_slots] input truncated | n_ctx=2048 n_erase=26414 n_keep=4 n_left=2044 n_shift=1022 tid=\"138523311972352\" timestamp=1729768101\n",
      "[GIN] 2024/10/24 - 11:08:22 | 200 |    1.6609826s |       127.0.0.1 | POST     \"/api/generate\"\n"
     ]
    },
    {
     "name": "stderr",
     "output_type": "stream",
     "text": [
      "Generating responses:  10%|█         | 105/1039 [05:05<46:47,  3.01s/it]"
     ]
    },
    {
     "name": "stdout",
     "output_type": "stream",
     "text": [
      "[GIN] 2024/10/24 - 11:08:23 | 200 |  734.666428ms |       127.0.0.1 | POST     \"/api/generate\"\n",
      "INFO [update_slots] input truncated | n_ctx=2048 n_erase=26655 n_keep=4 n_left=2044 n_shift=1022 tid=\"138523311972352\" timestamp=1729768104\n",
      "[GIN] 2024/10/24 - 11:08:25 | 200 |  1.869909371s |       127.0.0.1 | POST     \"/api/generate\"\n",
      "[GIN] 2024/10/24 - 11:08:26 | 200 |  999.077462ms |       127.0.0.1 | POST     \"/api/generate\"\n"
     ]
    },
    {
     "name": "stderr",
     "output_type": "stream",
     "text": [
      "Generating responses:  10%|█         | 106/1039 [05:10<52:19,  3.37s/it]"
     ]
    },
    {
     "name": "stdout",
     "output_type": "stream",
     "text": [
      "[GIN] 2024/10/24 - 11:08:27 | 200 |  1.239922727s |       127.0.0.1 | POST     \"/api/generate\"\n",
      "INFO [update_slots] input truncated | n_ctx=2048 n_erase=26912 n_keep=4 n_left=2044 n_shift=1022 tid=\"138523311972352\" timestamp=1729768108\n",
      "[GIN] 2024/10/24 - 11:08:29 | 200 |  1.563090002s |       127.0.0.1 | POST     \"/api/generate\"\n"
     ]
    },
    {
     "name": "stderr",
     "output_type": "stream",
     "text": [
      "Generating responses:  10%|█         | 107/1039 [05:13<50:36,  3.26s/it]"
     ]
    },
    {
     "name": "stdout",
     "output_type": "stream",
     "text": [
      "[GIN] 2024/10/24 - 11:08:30 | 200 |  1.351863223s |       127.0.0.1 | POST     \"/api/generate\"\n",
      "INFO [update_slots] input truncated | n_ctx=2048 n_erase=27184 n_keep=4 n_left=2044 n_shift=1022 tid=\"138523311972352\" timestamp=1729768111\n",
      "[GIN] 2024/10/24 - 11:08:32 | 200 |   1.73665477s |       127.0.0.1 | POST     \"/api/generate\"\n",
      "[GIN] 2024/10/24 - 11:08:33 | 200 |  820.650542ms |       127.0.0.1 | POST     \"/api/generate\"\n"
     ]
    },
    {
     "name": "stderr",
     "output_type": "stream",
     "text": [
      "Generating responses:  10%|█         | 108/1039 [05:17<53:58,  3.48s/it]"
     ]
    },
    {
     "name": "stdout",
     "output_type": "stream",
     "text": [
      "[GIN] 2024/10/24 - 11:08:34 | 200 |  1.337286967s |       127.0.0.1 | POST     \"/api/generate\"\n",
      "INFO [update_slots] input truncated | n_ctx=2048 n_erase=27431 n_keep=4 n_left=2044 n_shift=1022 tid=\"138523311972352\" timestamp=1729768115\n",
      "[GIN] 2024/10/24 - 11:08:36 | 200 |  1.857150296s |       127.0.0.1 | POST     \"/api/generate\"\n"
     ]
    },
    {
     "name": "stderr",
     "output_type": "stream",
     "text": [
      "Generating responses:  10%|█         | 109/1039 [05:20<54:36,  3.52s/it]"
     ]
    },
    {
     "name": "stdout",
     "output_type": "stream",
     "text": [
      "[GIN] 2024/10/24 - 11:08:38 | 200 |  1.678525242s |       127.0.0.1 | POST     \"/api/generate\"\n",
      "INFO [update_slots] input truncated | n_ctx=2048 n_erase=27725 n_keep=4 n_left=2044 n_shift=1022 tid=\"138523311972352\" timestamp=1729768118\n",
      "[GIN] 2024/10/24 - 11:08:40 | 200 |  1.684090133s |       127.0.0.1 | POST     \"/api/generate\"\n"
     ]
    },
    {
     "name": "stderr",
     "output_type": "stream",
     "text": [
      "Generating responses:  11%|█         | 110/1039 [05:23<50:54,  3.29s/it]"
     ]
    },
    {
     "name": "stdout",
     "output_type": "stream",
     "text": [
      "[GIN] 2024/10/24 - 11:08:41 | 200 |  959.735492ms |       127.0.0.1 | POST     \"/api/generate\"\n",
      "INFO [update_slots] input truncated | n_ctx=2048 n_erase=27981 n_keep=4 n_left=2044 n_shift=1022 tid=\"138523311972352\" timestamp=1729768121\n",
      "[GIN] 2024/10/24 - 11:08:42 | 200 |  1.598249239s |       127.0.0.1 | POST     \"/api/generate\"\n"
     ]
    },
    {
     "name": "stderr",
     "output_type": "stream",
     "text": [
      "Generating responses:  11%|█         | 111/1039 [05:26<49:34,  3.21s/it]"
     ]
    },
    {
     "name": "stdout",
     "output_type": "stream",
     "text": [
      "[GIN] 2024/10/24 - 11:08:44 | 200 |  1.315078976s |       127.0.0.1 | POST     \"/api/generate\"\n",
      "INFO [update_slots] input truncated | n_ctx=2048 n_erase=28249 n_keep=4 n_left=2044 n_shift=1022 tid=\"138523311972352\" timestamp=1729768124\n",
      "[GIN] 2024/10/24 - 11:08:45 | 200 |  1.531231935s |       127.0.0.1 | POST     \"/api/generate\"\n"
     ]
    },
    {
     "name": "stderr",
     "output_type": "stream",
     "text": [
      "Generating responses:  11%|█         | 112/1039 [05:29<50:10,  3.25s/it]"
     ]
    },
    {
     "name": "stdout",
     "output_type": "stream",
     "text": [
      "[GIN] 2024/10/24 - 11:08:47 | 200 |  1.721609078s |       127.0.0.1 | POST     \"/api/generate\"\n",
      "INFO [update_slots] input truncated | n_ctx=2048 n_erase=28537 n_keep=4 n_left=2044 n_shift=1022 tid=\"138523311972352\" timestamp=1729768128\n",
      "[GIN] 2024/10/24 - 11:08:49 | 200 |  1.598532421s |       127.0.0.1 | POST     \"/api/generate\"\n",
      "[GIN] 2024/10/24 - 11:08:50 | 200 |   1.07837389s |       127.0.0.1 | POST     \"/api/generate\"\n"
     ]
    },
    {
     "name": "stderr",
     "output_type": "stream",
     "text": [
      "Generating responses:  11%|█         | 113/1039 [05:33<52:01,  3.37s/it]"
     ]
    },
    {
     "name": "stdout",
     "output_type": "stream",
     "text": [
      "[GIN] 2024/10/24 - 11:08:51 | 200 |  879.859172ms |       127.0.0.1 | POST     \"/api/generate\"\n",
      "INFO [update_slots] input truncated | n_ctx=2048 n_erase=28799 n_keep=4 n_left=2044 n_shift=1022 tid=\"138523311972352\" timestamp=1729768131\n",
      "[GIN] 2024/10/24 - 11:08:53 | 200 |  1.817970338s |       127.0.0.1 | POST     \"/api/generate\"\n"
     ]
    },
    {
     "name": "stderr",
     "output_type": "stream",
     "text": [
      "Generating responses:  11%|█         | 114/1039 [05:36<49:14,  3.19s/it]"
     ]
    },
    {
     "name": "stdout",
     "output_type": "stream",
     "text": [
      "[GIN] 2024/10/24 - 11:08:54 | 200 |  868.066634ms |       127.0.0.1 | POST     \"/api/generate\"\n",
      "INFO [update_slots] input truncated | n_ctx=2048 n_erase=29043 n_keep=4 n_left=2044 n_shift=1022 tid=\"138523311972352\" timestamp=1729768134\n",
      "[GIN] 2024/10/24 - 11:08:55 | 200 |   1.73899175s |       127.0.0.1 | POST     \"/api/generate\"\n"
     ]
    },
    {
     "name": "stderr",
     "output_type": "stream",
     "text": [
      "Generating responses:  11%|█         | 115/1039 [05:39<46:59,  3.05s/it]"
     ]
    },
    {
     "name": "stdout",
     "output_type": "stream",
     "text": [
      "[GIN] 2024/10/24 - 11:08:56 | 200 |  879.651477ms |       127.0.0.1 | POST     \"/api/generate\"\n",
      "INFO [update_slots] input truncated | n_ctx=2048 n_erase=29289 n_keep=4 n_left=2044 n_shift=1022 tid=\"138523311972352\" timestamp=1729768137\n",
      "[GIN] 2024/10/24 - 11:08:58 | 200 |  1.852371119s |       127.0.0.1 | POST     \"/api/generate\"\n"
     ]
    },
    {
     "name": "stderr",
     "output_type": "stream",
     "text": [
      "Generating responses:  11%|█         | 116/1039 [05:41<46:29,  3.02s/it]"
     ]
    },
    {
     "name": "stdout",
     "output_type": "stream",
     "text": [
      "[GIN] 2024/10/24 - 11:08:59 | 200 |  996.649825ms |       127.0.0.1 | POST     \"/api/generate\"\n",
      "INFO [update_slots] input truncated | n_ctx=2048 n_erase=29534 n_keep=4 n_left=2044 n_shift=1022 tid=\"138523311972352\" timestamp=1729768140\n",
      "[GIN] 2024/10/24 - 11:09:01 | 200 |  1.798767875s |       127.0.0.1 | POST     \"/api/generate\"\n",
      "[GIN] 2024/10/24 - 11:09:02 | 200 |  881.627504ms |       127.0.0.1 | POST     \"/api/generate\"\n"
     ]
    },
    {
     "name": "stderr",
     "output_type": "stream",
     "text": [
      "Generating responses:  11%|█▏        | 117/1039 [05:45<50:15,  3.27s/it]"
     ]
    },
    {
     "name": "stdout",
     "output_type": "stream",
     "text": [
      "[GIN] 2024/10/24 - 11:09:03 | 200 |   1.06980346s |       127.0.0.1 | POST     \"/api/generate\"\n",
      "INFO [update_slots] input truncated | n_ctx=2048 n_erase=29774 n_keep=4 n_left=2044 n_shift=1022 tid=\"138523311972352\" timestamp=1729768144\n",
      "[GIN] 2024/10/24 - 11:09:05 | 200 |  1.958301143s |       127.0.0.1 | POST     \"/api/generate\"\n"
     ]
    },
    {
     "name": "stderr",
     "output_type": "stream",
     "text": [
      "Generating responses:  11%|█▏        | 118/1039 [05:48<49:43,  3.24s/it]"
     ]
    },
    {
     "name": "stdout",
     "output_type": "stream",
     "text": [
      "[GIN] 2024/10/24 - 11:09:06 | 200 |  1.108810745s |       127.0.0.1 | POST     \"/api/generate\"\n",
      "INFO [update_slots] input truncated | n_ctx=2048 n_erase=30030 n_keep=4 n_left=2044 n_shift=1022 tid=\"138523311972352\" timestamp=1729768147\n",
      "[GIN] 2024/10/24 - 11:09:08 | 200 |  1.825591682s |       127.0.0.1 | POST     \"/api/generate\"\n"
     ]
    },
    {
     "name": "stderr",
     "output_type": "stream",
     "text": [
      "Generating responses:  11%|█▏        | 119/1039 [05:52<48:55,  3.19s/it]"
     ]
    },
    {
     "name": "stdout",
     "output_type": "stream",
     "text": [
      "[GIN] 2024/10/24 - 11:09:09 | 200 |  1.152150172s |       127.0.0.1 | POST     \"/api/generate\"\n",
      "INFO [update_slots] input truncated | n_ctx=2048 n_erase=30291 n_keep=4 n_left=2044 n_shift=1022 tid=\"138523311972352\" timestamp=1729768150\n",
      "[GIN] 2024/10/24 - 11:09:11 | 200 |  1.857022629s |       127.0.0.1 | POST     \"/api/generate\"\n"
     ]
    },
    {
     "name": "stderr",
     "output_type": "stream",
     "text": [
      "Generating responses:  12%|█▏        | 120/1039 [05:54<47:10,  3.08s/it]"
     ]
    },
    {
     "name": "stdout",
     "output_type": "stream",
     "text": [
      "[GIN] 2024/10/24 - 11:09:12 | 200 |   862.29469ms |       127.0.0.1 | POST     \"/api/generate\"\n",
      "INFO [update_slots] input truncated | n_ctx=2048 n_erase=30536 n_keep=4 n_left=2044 n_shift=1022 tid=\"138523311972352\" timestamp=1729768153\n",
      "[GIN] 2024/10/24 - 11:09:14 | 200 |  1.968159106s |       127.0.0.1 | POST     \"/api/generate\"\n"
     ]
    },
    {
     "name": "stderr",
     "output_type": "stream",
     "text": [
      "Generating responses:  12%|█▏        | 121/1039 [05:58<48:34,  3.17s/it]"
     ]
    },
    {
     "name": "stdout",
     "output_type": "stream",
     "text": [
      "[GIN] 2024/10/24 - 11:09:16 | 200 |   1.32982919s |       127.0.0.1 | POST     \"/api/generate\"\n",
      "INFO [update_slots] input truncated | n_ctx=2048 n_erase=30807 n_keep=4 n_left=2044 n_shift=1022 tid=\"138523311972352\" timestamp=1729768156\n",
      "[GIN] 2024/10/24 - 11:09:17 | 200 |  1.847059484s |       127.0.0.1 | POST     \"/api/generate\"\n"
     ]
    },
    {
     "name": "stderr",
     "output_type": "stream",
     "text": [
      "Generating responses:  12%|█▏        | 122/1039 [06:01<48:48,  3.19s/it]"
     ]
    },
    {
     "name": "stdout",
     "output_type": "stream",
     "text": [
      "[GIN] 2024/10/24 - 11:09:19 | 200 |  1.289155795s |       127.0.0.1 | POST     \"/api/generate\"\n",
      "INFO [update_slots] input truncated | n_ctx=2048 n_erase=31080 n_keep=4 n_left=2044 n_shift=1022 tid=\"138523311972352\" timestamp=1729768159\n",
      "[GIN] 2024/10/24 - 11:09:21 | 200 |  1.905771198s |       127.0.0.1 | POST     \"/api/generate\"\n"
     ]
    },
    {
     "name": "stderr",
     "output_type": "stream",
     "text": [
      "Generating responses:  12%|█▏        | 123/1039 [06:04<49:29,  3.24s/it]"
     ]
    },
    {
     "name": "stdout",
     "output_type": "stream",
     "text": [
      "[GIN] 2024/10/24 - 11:09:22 | 200 |   1.34676137s |       127.0.0.1 | POST     \"/api/generate\"\n",
      "INFO [update_slots] input truncated | n_ctx=2048 n_erase=31355 n_keep=4 n_left=2044 n_shift=1022 tid=\"138523311972352\" timestamp=1729768163\n",
      "[GIN] 2024/10/24 - 11:09:24 | 200 |  2.021059587s |       127.0.0.1 | POST     \"/api/generate\"\n",
      "[GIN] 2024/10/24 - 11:09:25 | 200 |  929.008278ms |       127.0.0.1 | POST     \"/api/generate\"\n"
     ]
    },
    {
     "name": "stderr",
     "output_type": "stream",
     "text": [
      "Generating responses:  12%|█▏        | 124/1039 [06:08<53:23,  3.50s/it]"
     ]
    },
    {
     "name": "stdout",
     "output_type": "stream",
     "text": [
      "[GIN] 2024/10/24 - 11:09:26 | 200 |  1.050984019s |       127.0.0.1 | POST     \"/api/generate\"\n",
      "INFO [update_slots] input truncated | n_ctx=2048 n_erase=31603 n_keep=4 n_left=2044 n_shift=1022 tid=\"138523311972352\" timestamp=1729768167\n",
      "[GIN] 2024/10/24 - 11:09:28 | 200 |  1.720249762s |       127.0.0.1 | POST     \"/api/generate\"\n",
      "[GIN] 2024/10/24 - 11:09:29 | 200 |   973.59479ms |       127.0.0.1 | POST     \"/api/generate\"\n"
     ]
    },
    {
     "name": "stderr",
     "output_type": "stream",
     "text": [
      "Generating responses:  12%|█▏        | 125/1039 [06:12<55:09,  3.62s/it]"
     ]
    },
    {
     "name": "stdout",
     "output_type": "stream",
     "text": [
      "[GIN] 2024/10/24 - 11:09:30 | 200 |  1.098692718s |       127.0.0.1 | POST     \"/api/generate\"\n",
      "INFO [update_slots] input truncated | n_ctx=2048 n_erase=31858 n_keep=4 n_left=2044 n_shift=1022 tid=\"138523311972352\" timestamp=1729768171\n",
      "[GIN] 2024/10/24 - 11:09:32 | 200 |  1.580131115s |       127.0.0.1 | POST     \"/api/generate\"\n",
      "[GIN] 2024/10/24 - 11:09:32 | 200 |  545.431933ms |       127.0.0.1 | POST     \"/api/generate\"\n"
     ]
    },
    {
     "name": "stderr",
     "output_type": "stream",
     "text": [
      "Generating responses:  12%|█▏        | 126/1039 [06:15<51:25,  3.38s/it]"
     ]
    },
    {
     "name": "stdout",
     "output_type": "stream",
     "text": [
      "[GIN] 2024/10/24 - 11:09:33 | 200 |  581.825179ms |       127.0.0.1 | POST     \"/api/generate\"\n",
      "INFO [update_slots] input truncated | n_ctx=2048 n_erase=32087 n_keep=4 n_left=2044 n_shift=1022 tid=\"138523311972352\" timestamp=1729768173\n",
      "[GIN] 2024/10/24 - 11:09:35 | 200 |  1.963954579s |       127.0.0.1 | POST     \"/api/generate\"\n",
      "[GIN] 2024/10/24 - 11:09:36 | 200 |  973.015119ms |       127.0.0.1 | POST     \"/api/generate\"\n"
     ]
    },
    {
     "name": "stderr",
     "output_type": "stream",
     "text": [
      "Generating responses:  12%|█▏        | 127/1039 [06:19<54:44,  3.60s/it]"
     ]
    },
    {
     "name": "stdout",
     "output_type": "stream",
     "text": [
      "[GIN] 2024/10/24 - 11:09:37 | 200 |  1.072877287s |       127.0.0.1 | POST     \"/api/generate\"\n",
      "INFO [update_slots] input truncated | n_ctx=2048 n_erase=32342 n_keep=4 n_left=2044 n_shift=1022 tid=\"138523311972352\" timestamp=1729768178\n",
      "[GIN] 2024/10/24 - 11:09:39 | 200 |  2.053031553s |       127.0.0.1 | POST     \"/api/generate\"\n"
     ]
    },
    {
     "name": "stderr",
     "output_type": "stream",
     "text": [
      "Generating responses:  12%|█▏        | 128/1039 [06:23<56:25,  3.72s/it]"
     ]
    },
    {
     "name": "stdout",
     "output_type": "stream",
     "text": [
      "[GIN] 2024/10/24 - 11:09:41 | 200 |  1.829306131s |       127.0.0.1 | POST     \"/api/generate\"\n",
      "INFO [update_slots] input truncated | n_ctx=2048 n_erase=32641 n_keep=4 n_left=2044 n_shift=1022 tid=\"138523311972352\" timestamp=1729768182\n",
      "[GIN] 2024/10/24 - 11:09:43 | 200 |  1.826925172s |       127.0.0.1 | POST     \"/api/generate\"\n"
     ]
    },
    {
     "name": "stderr",
     "output_type": "stream",
     "text": [
      "Generating responses:  12%|█▏        | 129/1039 [06:26<53:10,  3.51s/it]"
     ]
    },
    {
     "name": "stdout",
     "output_type": "stream",
     "text": [
      "[GIN] 2024/10/24 - 11:09:44 | 200 |  1.092329812s |       127.0.0.1 | POST     \"/api/generate\"\n",
      "INFO [update_slots] input truncated | n_ctx=2048 n_erase=32902 n_keep=4 n_left=2044 n_shift=1022 tid=\"138523311972352\" timestamp=1729768185\n",
      "[GIN] 2024/10/24 - 11:09:46 | 200 |  1.782208875s |       127.0.0.1 | POST     \"/api/generate\"\n"
     ]
    },
    {
     "name": "stderr",
     "output_type": "stream",
     "text": [
      "Generating responses:  13%|█▎        | 130/1039 [06:29<51:23,  3.39s/it]"
     ]
    },
    {
     "name": "stdout",
     "output_type": "stream",
     "text": [
      "[GIN] 2024/10/24 - 11:09:47 | 200 |  1.245668083s |       127.0.0.1 | POST     \"/api/generate\"\n",
      "INFO [update_slots] input truncated | n_ctx=2048 n_erase=33168 n_keep=4 n_left=2044 n_shift=1022 tid=\"138523311972352\" timestamp=1729768188\n",
      "[GIN] 2024/10/24 - 11:09:49 | 200 |  2.034008874s |       127.0.0.1 | POST     \"/api/generate\"\n",
      "[GIN] 2024/10/24 - 11:09:51 | 200 |  1.108189846s |       127.0.0.1 | POST     \"/api/generate\"\n"
     ]
    },
    {
     "name": "stderr",
     "output_type": "stream",
     "text": [
      "Generating responses:  13%|█▎        | 131/1039 [06:34<54:50,  3.62s/it]"
     ]
    },
    {
     "name": "stdout",
     "output_type": "stream",
     "text": [
      "[GIN] 2024/10/24 - 11:09:51 | 200 |   918.06994ms |       127.0.0.1 | POST     \"/api/generate\"\n",
      "INFO [update_slots] input truncated | n_ctx=2048 n_erase=33432 n_keep=4 n_left=2044 n_shift=1022 tid=\"138523311972352\" timestamp=1729768192\n",
      "[GIN] 2024/10/24 - 11:09:53 | 200 |   1.89708882s |       127.0.0.1 | POST     \"/api/generate\"\n",
      "[GIN] 2024/10/24 - 11:09:55 | 200 |  1.219325456s |       127.0.0.1 | POST     \"/api/generate\"\n"
     ]
    },
    {
     "name": "stderr",
     "output_type": "stream",
     "text": [
      "Generating responses:  13%|█▎        | 132/1039 [06:38<56:12,  3.72s/it]"
     ]
    },
    {
     "name": "stdout",
     "output_type": "stream",
     "text": [
      "[GIN] 2024/10/24 - 11:09:55 | 200 |  718.738281ms |       127.0.0.1 | POST     \"/api/generate\"\n",
      "INFO [update_slots] input truncated | n_ctx=2048 n_erase=33700 n_keep=4 n_left=2044 n_shift=1022 tid=\"138523311972352\" timestamp=1729768196\n",
      "[GIN] 2024/10/24 - 11:09:57 | 200 |  1.975430492s |       127.0.0.1 | POST     \"/api/generate\"\n"
     ]
    },
    {
     "name": "stderr",
     "output_type": "stream",
     "text": [
      "Generating responses:  13%|█▎        | 133/1039 [06:41<54:38,  3.62s/it]"
     ]
    },
    {
     "name": "stdout",
     "output_type": "stream",
     "text": [
      "[GIN] 2024/10/24 - 11:09:59 | 200 |  1.312175459s |       127.0.0.1 | POST     \"/api/generate\"\n",
      "INFO [update_slots] input truncated | n_ctx=2048 n_erase=33973 n_keep=4 n_left=2044 n_shift=1022 tid=\"138523311972352\" timestamp=1729768199\n",
      "[GIN] 2024/10/24 - 11:10:01 | 200 |  2.088211774s |       127.0.0.1 | POST     \"/api/generate\"\n",
      "[GIN] 2024/10/24 - 11:10:02 | 200 |  995.096576ms |       127.0.0.1 | POST     \"/api/generate\"\n"
     ]
    },
    {
     "name": "stderr",
     "output_type": "stream",
     "text": [
      "Generating responses:  13%|█▎        | 134/1039 [06:45<57:57,  3.84s/it]"
     ]
    },
    {
     "name": "stdout",
     "output_type": "stream",
     "text": [
      "[GIN] 2024/10/24 - 11:10:03 | 200 |  1.154710749s |       127.0.0.1 | POST     \"/api/generate\"\n",
      "INFO [update_slots] input truncated | n_ctx=2048 n_erase=34230 n_keep=4 n_left=2044 n_shift=1022 tid=\"138523311972352\" timestamp=1729768204\n",
      "[GIN] 2024/10/24 - 11:10:05 | 200 |  1.788412217s |       127.0.0.1 | POST     \"/api/generate\"\n"
     ]
    },
    {
     "name": "stderr",
     "output_type": "stream",
     "text": [
      "Generating responses:  13%|█▎        | 135/1039 [06:49<56:18,  3.74s/it]"
     ]
    },
    {
     "name": "stdout",
     "output_type": "stream",
     "text": [
      "[GIN] 2024/10/24 - 11:10:07 | 200 |  1.596880386s |       127.0.0.1 | POST     \"/api/generate\"\n",
      "INFO [update_slots] input truncated | n_ctx=2048 n_erase=34525 n_keep=4 n_left=2044 n_shift=1022 tid=\"138523311972352\" timestamp=1729768207\n",
      "[GIN] 2024/10/24 - 11:10:09 | 200 |  1.886583814s |       127.0.0.1 | POST     \"/api/generate\"\n",
      "[GIN] 2024/10/24 - 11:10:10 | 200 |  1.039343541s |       127.0.0.1 | POST     \"/api/generate\"\n"
     ]
    },
    {
     "name": "stderr",
     "output_type": "stream",
     "text": [
      "Generating responses:  13%|█▎        | 136/1039 [06:53<1:00:07,  4.00s/it]"
     ]
    },
    {
     "name": "stdout",
     "output_type": "stream",
     "text": [
      "[GIN] 2024/10/24 - 11:10:11 | 200 |  1.563975131s |       127.0.0.1 | POST     \"/api/generate\"\n",
      "INFO [update_slots] input truncated | n_ctx=2048 n_erase=34788 n_keep=4 n_left=2044 n_shift=1022 tid=\"138523311972352\" timestamp=1729768212\n",
      "[GIN] 2024/10/24 - 11:10:13 | 200 |  1.905796547s |       127.0.0.1 | POST     \"/api/generate\"\n"
     ]
    },
    {
     "name": "stderr",
     "output_type": "stream",
     "text": [
      "Generating responses:  13%|█▎        | 137/1039 [06:57<57:24,  3.82s/it]  "
     ]
    },
    {
     "name": "stdout",
     "output_type": "stream",
     "text": [
      "[GIN] 2024/10/24 - 11:10:15 | 200 |  1.392251985s |       127.0.0.1 | POST     \"/api/generate\"\n",
      "INFO [update_slots] input truncated | n_ctx=2048 n_erase=35072 n_keep=4 n_left=2044 n_shift=1022 tid=\"138523311972352\" timestamp=1729768215\n",
      "[GIN] 2024/10/24 - 11:10:17 | 200 |   1.91329078s |       127.0.0.1 | POST     \"/api/generate\"\n"
     ]
    },
    {
     "name": "stderr",
     "output_type": "stream",
     "text": [
      "Generating responses:  13%|█▎        | 138/1039 [07:01<58:29,  3.89s/it]"
     ]
    },
    {
     "name": "stdout",
     "output_type": "stream",
     "text": [
      "[GIN] 2024/10/24 - 11:10:19 | 200 |  2.048668505s |       127.0.0.1 | POST     \"/api/generate\"\n",
      "INFO [update_slots] input truncated | n_ctx=2048 n_erase=35386 n_keep=4 n_left=2044 n_shift=1022 tid=\"138523311972352\" timestamp=1729768219\n",
      "[GIN] 2024/10/24 - 11:10:21 | 200 |   1.82659963s |       127.0.0.1 | POST     \"/api/generate\"\n",
      "[GIN] 2024/10/24 - 11:10:21 | 200 |   795.35465ms |       127.0.0.1 | POST     \"/api/generate\"\n"
     ]
    },
    {
     "name": "stderr",
     "output_type": "stream",
     "text": [
      "Generating responses:  13%|█▎        | 139/1039 [07:04<56:46,  3.79s/it]"
     ]
    },
    {
     "name": "stdout",
     "output_type": "stream",
     "text": [
      "[GIN] 2024/10/24 - 11:10:22 | 200 |  800.831812ms |       127.0.0.1 | POST     \"/api/generate\"\n",
      "INFO [update_slots] input truncated | n_ctx=2048 n_erase=35627 n_keep=4 n_left=2044 n_shift=1022 tid=\"138523311972352\" timestamp=1729768223\n",
      "[GIN] 2024/10/24 - 11:10:24 | 200 |  1.806481821s |       127.0.0.1 | POST     \"/api/generate\"\n",
      "[GIN] 2024/10/24 - 11:10:25 | 200 |  650.894778ms |       127.0.0.1 | POST     \"/api/generate\"\n"
     ]
    },
    {
     "name": "stderr",
     "output_type": "stream",
     "text": [
      "Generating responses:  13%|█▎        | 140/1039 [07:08<56:11,  3.75s/it]"
     ]
    },
    {
     "name": "stdout",
     "output_type": "stream",
     "text": [
      "[GIN] 2024/10/24 - 11:10:26 | 200 |  1.103072425s |       127.0.0.1 | POST     \"/api/generate\"\n",
      "INFO [update_slots] input truncated | n_ctx=2048 n_erase=35858 n_keep=4 n_left=2044 n_shift=1022 tid=\"138523311972352\" timestamp=1729768226\n",
      "[GIN] 2024/10/24 - 11:10:28 | 200 |  1.711241983s |       127.0.0.1 | POST     \"/api/generate\"\n"
     ]
    },
    {
     "name": "stderr",
     "output_type": "stream",
     "text": [
      "Generating responses:  14%|█▎        | 141/1039 [07:11<53:13,  3.56s/it]"
     ]
    },
    {
     "name": "stdout",
     "output_type": "stream",
     "text": [
      "[GIN] 2024/10/24 - 11:10:29 | 200 |  1.282846281s |       127.0.0.1 | POST     \"/api/generate\"\n",
      "INFO [update_slots] input truncated | n_ctx=2048 n_erase=36124 n_keep=4 n_left=2044 n_shift=1022 tid=\"138523311972352\" timestamp=1729768230\n",
      "[GIN] 2024/10/24 - 11:10:31 | 200 |   1.81545424s |       127.0.0.1 | POST     \"/api/generate\"\n"
     ]
    },
    {
     "name": "stderr",
     "output_type": "stream",
     "text": [
      "Generating responses:  14%|█▎        | 142/1039 [07:14<49:38,  3.32s/it]"
     ]
    },
    {
     "name": "stdout",
     "output_type": "stream",
     "text": [
      "[GIN] 2024/10/24 - 11:10:32 | 200 |   845.23783ms |       127.0.0.1 | POST     \"/api/generate\"\n",
      "INFO [update_slots] input truncated | n_ctx=2048 n_erase=36359 n_keep=4 n_left=2044 n_shift=1022 tid=\"138523311972352\" timestamp=1729768232\n",
      "[GIN] 2024/10/24 - 11:10:34 | 200 |  2.243501318s |       127.0.0.1 | POST     \"/api/generate\"\n"
     ]
    },
    {
     "name": "stderr",
     "output_type": "stream",
     "text": [
      "Generating responses:  14%|█▍        | 143/1039 [07:19<56:58,  3.82s/it]"
     ]
    },
    {
     "name": "stdout",
     "output_type": "stream",
     "text": [
      "[GIN] 2024/10/24 - 11:10:37 | 200 |    2.6149988s |       127.0.0.1 | POST     \"/api/generate\"\n",
      "INFO [update_slots] input truncated | n_ctx=2048 n_erase=36704 n_keep=4 n_left=2044 n_shift=1022 tid=\"138523311972352\" timestamp=1729768237\n",
      "[GIN] 2024/10/24 - 11:10:38 | 200 |  1.639260707s |       127.0.0.1 | POST     \"/api/generate\"\n",
      "[GIN] 2024/10/24 - 11:10:39 | 200 |  520.116534ms |       127.0.0.1 | POST     \"/api/generate\"\n"
     ]
    },
    {
     "name": "stderr",
     "output_type": "stream",
     "text": [
      "Generating responses:  14%|█▍        | 144/1039 [07:22<53:44,  3.60s/it]"
     ]
    },
    {
     "name": "stdout",
     "output_type": "stream",
     "text": [
      "[GIN] 2024/10/24 - 11:10:40 | 200 |  834.374384ms |       127.0.0.1 | POST     \"/api/generate\"\n",
      "INFO [update_slots] input truncated | n_ctx=2048 n_erase=36928 n_keep=4 n_left=2044 n_shift=1022 tid=\"138523311972352\" timestamp=1729768240\n",
      "[GIN] 2024/10/24 - 11:10:42 | 200 |  1.712686027s |       127.0.0.1 | POST     \"/api/generate\"\n"
     ]
    },
    {
     "name": "stderr",
     "output_type": "stream",
     "text": [
      "Generating responses:  14%|█▍        | 145/1039 [07:25<52:19,  3.51s/it]"
     ]
    },
    {
     "name": "stdout",
     "output_type": "stream",
     "text": [
      "[GIN] 2024/10/24 - 11:10:43 | 200 |  1.480913183s |       127.0.0.1 | POST     \"/api/generate\"\n",
      "INFO [update_slots] input truncated | n_ctx=2048 n_erase=37206 n_keep=4 n_left=2044 n_shift=1022 tid=\"138523311972352\" timestamp=1729768244\n",
      "[GIN] 2024/10/24 - 11:10:45 | 200 |  1.626097513s |       127.0.0.1 | POST     \"/api/generate\"\n",
      "[GIN] 2024/10/24 - 11:10:45 | 200 |  497.730984ms |       127.0.0.1 | POST     \"/api/generate\"\n"
     ]
    },
    {
     "name": "stderr",
     "output_type": "stream",
     "text": [
      "Generating responses:  14%|█▍        | 146/1039 [07:28<50:30,  3.39s/it]"
     ]
    },
    {
     "name": "stdout",
     "output_type": "stream",
     "text": [
      "[GIN] 2024/10/24 - 11:10:46 | 200 |  879.848745ms |       127.0.0.1 | POST     \"/api/generate\"\n",
      "INFO [update_slots] input truncated | n_ctx=2048 n_erase=37436 n_keep=4 n_left=2044 n_shift=1022 tid=\"138523311972352\" timestamp=1729768247\n",
      "[GIN] 2024/10/24 - 11:10:48 | 200 |  1.786932685s |       127.0.0.1 | POST     \"/api/generate\"\n"
     ]
    },
    {
     "name": "stderr",
     "output_type": "stream",
     "text": [
      "Generating responses:  14%|█▍        | 147/1039 [07:32<49:53,  3.36s/it]"
     ]
    },
    {
     "name": "stdout",
     "output_type": "stream",
     "text": [
      "[GIN] 2024/10/24 - 11:10:50 | 200 |  1.368923121s |       127.0.0.1 | POST     \"/api/generate\"\n",
      "INFO [update_slots] input truncated | n_ctx=2048 n_erase=37707 n_keep=4 n_left=2044 n_shift=1022 tid=\"138523311972352\" timestamp=1729768250\n",
      "[GIN] 2024/10/24 - 11:10:51 | 200 |  1.869516422s |       127.0.0.1 | POST     \"/api/generate\"\n"
     ]
    },
    {
     "name": "stderr",
     "output_type": "stream",
     "text": [
      "Generating responses:  14%|█▍        | 148/1039 [07:34<47:05,  3.17s/it]"
     ]
    },
    {
     "name": "stdout",
     "output_type": "stream",
     "text": [
      "[GIN] 2024/10/24 - 11:10:52 | 200 |  756.453623ms |       127.0.0.1 | POST     \"/api/generate\"\n",
      "INFO [update_slots] input truncated | n_ctx=2048 n_erase=37941 n_keep=4 n_left=2044 n_shift=1022 tid=\"138523311972352\" timestamp=1729768253\n",
      "[GIN] 2024/10/24 - 11:10:54 | 200 |  1.925963384s |       127.0.0.1 | POST     \"/api/generate\"\n"
     ]
    },
    {
     "name": "stderr",
     "output_type": "stream",
     "text": [
      "Generating responses:  14%|█▍        | 149/1039 [07:37<45:38,  3.08s/it]"
     ]
    },
    {
     "name": "stdout",
     "output_type": "stream",
     "text": [
      "[GIN] 2024/10/24 - 11:10:55 | 200 |   818.69648ms |       127.0.0.1 | POST     \"/api/generate\"\n",
      "INFO [update_slots] input truncated | n_ctx=2048 n_erase=38179 n_keep=4 n_left=2044 n_shift=1022 tid=\"138523311972352\" timestamp=1729768256\n",
      "[GIN] 2024/10/24 - 11:10:57 | 200 |  1.822549775s |       127.0.0.1 | POST     \"/api/generate\"\n"
     ]
    },
    {
     "name": "stderr",
     "output_type": "stream",
     "text": [
      "Generating responses:  14%|█▍        | 150/1039 [07:40<44:27,  3.00s/it]"
     ]
    },
    {
     "name": "stdout",
     "output_type": "stream",
     "text": [
      "[GIN] 2024/10/24 - 11:10:58 | 200 |  893.959648ms |       127.0.0.1 | POST     \"/api/generate\"\n",
      "INFO [update_slots] input truncated | n_ctx=2048 n_erase=38429 n_keep=4 n_left=2044 n_shift=1022 tid=\"138523311972352\" timestamp=1729768258\n",
      "[GIN] 2024/10/24 - 11:11:00 | 200 |  1.922726407s |       127.0.0.1 | POST     \"/api/generate\"\n"
     ]
    },
    {
     "name": "stderr",
     "output_type": "stream",
     "text": [
      "Generating responses:  15%|█▍        | 151/1039 [07:44<46:57,  3.17s/it]"
     ]
    },
    {
     "name": "stdout",
     "output_type": "stream",
     "text": [
      "[GIN] 2024/10/24 - 11:11:02 | 200 |  1.533945633s |       127.0.0.1 | POST     \"/api/generate\"\n",
      "INFO [update_slots] input truncated | n_ctx=2048 n_erase=38709 n_keep=4 n_left=2044 n_shift=1022 tid=\"138523311972352\" timestamp=1729768262\n",
      "[GIN] 2024/10/24 - 11:11:04 | 200 |  2.065994253s |       127.0.0.1 | POST     \"/api/generate\"\n"
     ]
    },
    {
     "name": "stderr",
     "output_type": "stream",
     "text": [
      "Generating responses:  15%|█▍        | 152/1039 [07:47<45:51,  3.10s/it]"
     ]
    },
    {
     "name": "stdout",
     "output_type": "stream",
     "text": [
      "[GIN] 2024/10/24 - 11:11:04 | 200 |  753.851383ms |       127.0.0.1 | POST     \"/api/generate\"\n",
      "INFO [update_slots] input truncated | n_ctx=2048 n_erase=38946 n_keep=4 n_left=2044 n_shift=1022 tid=\"138523311972352\" timestamp=1729768265\n",
      "[GIN] 2024/10/24 - 11:11:07 | 200 |   2.05983595s |       127.0.0.1 | POST     \"/api/generate\"\n"
     ]
    },
    {
     "name": "stderr",
     "output_type": "stream",
     "text": [
      "Generating responses:  15%|█▍        | 153/1039 [07:50<45:24,  3.08s/it]"
     ]
    },
    {
     "name": "stdout",
     "output_type": "stream",
     "text": [
      "[GIN] 2024/10/24 - 11:11:07 | 200 |   837.85516ms |       127.0.0.1 | POST     \"/api/generate\"\n",
      "INFO [update_slots] input truncated | n_ctx=2048 n_erase=39191 n_keep=4 n_left=2044 n_shift=1022 tid=\"138523311972352\" timestamp=1729768268\n",
      "[GIN] 2024/10/24 - 11:11:09 | 200 |  1.869818252s |       127.0.0.1 | POST     \"/api/generate\"\n"
     ]
    },
    {
     "name": "stderr",
     "output_type": "stream",
     "text": [
      "Generating responses:  15%|█▍        | 154/1039 [07:53<46:38,  3.16s/it]"
     ]
    },
    {
     "name": "stdout",
     "output_type": "stream",
     "text": [
      "[GIN] 2024/10/24 - 11:11:11 | 200 |  1.383222716s |       127.0.0.1 | POST     \"/api/generate\"\n",
      "INFO [update_slots] input truncated | n_ctx=2048 n_erase=39467 n_keep=4 n_left=2044 n_shift=1022 tid=\"138523311972352\" timestamp=1729768271\n",
      "[GIN] 2024/10/24 - 11:11:13 | 200 |  1.923078468s |       127.0.0.1 | POST     \"/api/generate\"\n"
     ]
    },
    {
     "name": "stderr",
     "output_type": "stream",
     "text": [
      "Generating responses:  15%|█▍        | 155/1039 [07:56<46:12,  3.14s/it]"
     ]
    },
    {
     "name": "stdout",
     "output_type": "stream",
     "text": [
      "[GIN] 2024/10/24 - 11:11:14 | 200 |  1.035445093s |       127.0.0.1 | POST     \"/api/generate\"\n",
      "INFO [update_slots] input truncated | n_ctx=2048 n_erase=39721 n_keep=4 n_left=2044 n_shift=1022 tid=\"138523311972352\" timestamp=1729768274\n",
      "[GIN] 2024/10/24 - 11:11:16 | 200 |  1.847979445s |       127.0.0.1 | POST     \"/api/generate\"\n"
     ]
    },
    {
     "name": "stderr",
     "output_type": "stream",
     "text": [
      "Generating responses:  15%|█▌        | 156/1039 [07:59<45:42,  3.11s/it]"
     ]
    },
    {
     "name": "stdout",
     "output_type": "stream",
     "text": [
      "[GIN] 2024/10/24 - 11:11:17 | 200 |  1.075960824s |       127.0.0.1 | POST     \"/api/generate\"\n",
      "INFO [update_slots] input truncated | n_ctx=2048 n_erase=39974 n_keep=4 n_left=2044 n_shift=1022 tid=\"138523311972352\" timestamp=1729768277\n",
      "[GIN] 2024/10/24 - 11:11:19 | 200 |   1.91173857s |       127.0.0.1 | POST     \"/api/generate\"\n"
     ]
    },
    {
     "name": "stderr",
     "output_type": "stream",
     "text": [
      "Generating responses:  15%|█▌        | 157/1039 [08:02<44:47,  3.05s/it]"
     ]
    },
    {
     "name": "stdout",
     "output_type": "stream",
     "text": [
      "[GIN] 2024/10/24 - 11:11:20 | 200 |   880.82052ms |       127.0.0.1 | POST     \"/api/generate\"\n",
      "INFO [update_slots] input truncated | n_ctx=2048 n_erase=40226 n_keep=4 n_left=2044 n_shift=1022 tid=\"138523311972352\" timestamp=1729768280\n",
      "[GIN] 2024/10/24 - 11:11:22 | 200 |  1.799786946s |       127.0.0.1 | POST     \"/api/generate\"\n"
     ]
    },
    {
     "name": "stderr",
     "output_type": "stream",
     "text": [
      "Generating responses:  15%|█▌        | 158/1039 [08:05<45:04,  3.07s/it]"
     ]
    },
    {
     "name": "stdout",
     "output_type": "stream",
     "text": [
      "[GIN] 2024/10/24 - 11:11:23 | 200 |  1.208279027s |       127.0.0.1 | POST     \"/api/generate\"\n",
      "INFO [update_slots] input truncated | n_ctx=2048 n_erase=40488 n_keep=4 n_left=2044 n_shift=1022 tid=\"138523311972352\" timestamp=1729768284\n",
      "[GIN] 2024/10/24 - 11:11:25 | 200 |   1.87753013s |       127.0.0.1 | POST     \"/api/generate\"\n"
     ]
    },
    {
     "name": "stderr",
     "output_type": "stream",
     "text": [
      "Generating responses:  15%|█▌        | 159/1039 [08:08<45:56,  3.13s/it]"
     ]
    },
    {
     "name": "stdout",
     "output_type": "stream",
     "text": [
      "[GIN] 2024/10/24 - 11:11:26 | 200 |  1.279307643s |       127.0.0.1 | POST     \"/api/generate\"\n",
      "INFO [update_slots] input truncated | n_ctx=2048 n_erase=40757 n_keep=4 n_left=2044 n_shift=1022 tid=\"138523311972352\" timestamp=1729768287\n",
      "[GIN] 2024/10/24 - 11:11:28 | 200 |   2.05826033s |       127.0.0.1 | POST     \"/api/generate\"\n"
     ]
    },
    {
     "name": "stderr",
     "output_type": "stream",
     "text": [
      "Generating responses:  15%|█▌        | 160/1039 [08:11<45:28,  3.10s/it]"
     ]
    },
    {
     "name": "stdout",
     "output_type": "stream",
     "text": [
      "[GIN] 2024/10/24 - 11:11:29 | 200 |  863.939206ms |       127.0.0.1 | POST     \"/api/generate\"\n",
      "INFO [update_slots] input truncated | n_ctx=2048 n_erase=41002 n_keep=4 n_left=2044 n_shift=1022 tid=\"138523311972352\" timestamp=1729768290\n",
      "[GIN] 2024/10/24 - 11:11:31 | 200 |  1.900397399s |       127.0.0.1 | POST     \"/api/generate\"\n",
      "[GIN] 2024/10/24 - 11:11:32 | 200 |  560.897796ms |       127.0.0.1 | POST     \"/api/generate\"\n"
     ]
    },
    {
     "name": "stderr",
     "output_type": "stream",
     "text": [
      "Generating responses:  15%|█▌        | 161/1039 [08:15<46:34,  3.18s/it]"
     ]
    },
    {
     "name": "stdout",
     "output_type": "stream",
     "text": [
      "[GIN] 2024/10/24 - 11:11:33 | 200 |   781.33462ms |       127.0.0.1 | POST     \"/api/generate\"\n",
      "INFO [update_slots] input truncated | n_ctx=2048 n_erase=41249 n_keep=4 n_left=2044 n_shift=1022 tid=\"138523311972352\" timestamp=1729768293\n",
      "[GIN] 2024/10/24 - 11:11:35 | 200 |  2.104577101s |       127.0.0.1 | POST     \"/api/generate\"\n"
     ]
    },
    {
     "name": "stderr",
     "output_type": "stream",
     "text": [
      "Generating responses:  16%|█▌        | 162/1039 [08:19<48:43,  3.33s/it]"
     ]
    },
    {
     "name": "stdout",
     "output_type": "stream",
     "text": [
      "[GIN] 2024/10/24 - 11:11:36 | 200 |  1.454024466s |       127.0.0.1 | POST     \"/api/generate\"\n",
      "INFO [update_slots] input truncated | n_ctx=2048 n_erase=41545 n_keep=4 n_left=2044 n_shift=1022 tid=\"138523311972352\" timestamp=1729768297\n",
      "[GIN] 2024/10/24 - 11:11:38 | 200 |   2.11147977s |       127.0.0.1 | POST     \"/api/generate\"\n"
     ]
    },
    {
     "name": "stderr",
     "output_type": "stream",
     "text": [
      "Generating responses:  16%|█▌        | 163/1039 [08:22<50:34,  3.46s/it]"
     ]
    },
    {
     "name": "stdout",
     "output_type": "stream",
     "text": [
      "[GIN] 2024/10/24 - 11:11:40 | 200 |  1.533473644s |       127.0.0.1 | POST     \"/api/generate\"\n",
      "INFO [update_slots] input truncated | n_ctx=2048 n_erase=41828 n_keep=4 n_left=2044 n_shift=1022 tid=\"138523311972352\" timestamp=1729768301\n",
      "[GIN] 2024/10/24 - 11:11:42 | 200 |  2.046755385s |       127.0.0.1 | POST     \"/api/generate\"\n"
     ]
    },
    {
     "name": "stderr",
     "output_type": "stream",
     "text": [
      "Generating responses:  16%|█▌        | 164/1039 [08:26<50:42,  3.48s/it]"
     ]
    },
    {
     "name": "stdout",
     "output_type": "stream",
     "text": [
      "[GIN] 2024/10/24 - 11:11:44 | 200 |  1.335077935s |       127.0.0.1 | POST     \"/api/generate\"\n",
      "INFO [update_slots] input truncated | n_ctx=2048 n_erase=42103 n_keep=4 n_left=2044 n_shift=1022 tid=\"138523311972352\" timestamp=1729768304\n",
      "[GIN] 2024/10/24 - 11:11:46 | 200 |  1.989205379s |       127.0.0.1 | POST     \"/api/generate\"\n"
     ]
    },
    {
     "name": "stderr",
     "output_type": "stream",
     "text": [
      "Generating responses:  16%|█▌        | 165/1039 [08:29<51:11,  3.51s/it]"
     ]
    },
    {
     "name": "stdout",
     "output_type": "stream",
     "text": [
      "[GIN] 2024/10/24 - 11:11:47 | 200 |  1.490252592s |       127.0.0.1 | POST     \"/api/generate\"\n",
      "INFO [update_slots] input truncated | n_ctx=2048 n_erase=42388 n_keep=4 n_left=2044 n_shift=1022 tid=\"138523311972352\" timestamp=1729768308\n",
      "[GIN] 2024/10/24 - 11:11:49 | 200 |  2.181993838s |       127.0.0.1 | POST     \"/api/generate\"\n"
     ]
    },
    {
     "name": "stderr",
     "output_type": "stream",
     "text": [
      "Generating responses:  16%|█▌        | 166/1039 [08:33<53:00,  3.64s/it]"
     ]
    },
    {
     "name": "stdout",
     "output_type": "stream",
     "text": [
      "[GIN] 2024/10/24 - 11:11:51 | 200 |    1.6393184s |       127.0.0.1 | POST     \"/api/generate\"\n",
      "INFO [update_slots] input truncated | n_ctx=2048 n_erase=42686 n_keep=4 n_left=2044 n_shift=1022 tid=\"138523311972352\" timestamp=1729768312\n",
      "[GIN] 2024/10/24 - 11:11:53 | 200 |  1.953580144s |       127.0.0.1 | POST     \"/api/generate\"\n"
     ]
    },
    {
     "name": "stderr",
     "output_type": "stream",
     "text": [
      "Generating responses:  16%|█▌        | 167/1039 [08:36<49:13,  3.39s/it]"
     ]
    },
    {
     "name": "stdout",
     "output_type": "stream",
     "text": [
      "[GIN] 2024/10/24 - 11:11:54 | 200 |  711.439772ms |       127.0.0.1 | POST     \"/api/generate\"\n",
      "INFO [update_slots] input truncated | n_ctx=2048 n_erase=42920 n_keep=4 n_left=2044 n_shift=1022 tid=\"138523311972352\" timestamp=1729768315\n",
      "[GIN] 2024/10/24 - 11:11:56 | 200 |  1.915251246s |       127.0.0.1 | POST     \"/api/generate\"\n"
     ]
    },
    {
     "name": "stderr",
     "output_type": "stream",
     "text": [
      "Generating responses:  16%|█▌        | 168/1039 [08:39<48:01,  3.31s/it]"
     ]
    },
    {
     "name": "stdout",
     "output_type": "stream",
     "text": [
      "[GIN] 2024/10/24 - 11:11:57 | 200 |  1.086637963s |       127.0.0.1 | POST     \"/api/generate\"\n",
      "INFO [update_slots] input truncated | n_ctx=2048 n_erase=43171 n_keep=4 n_left=2044 n_shift=1022 tid=\"138523311972352\" timestamp=1729768318\n",
      "[GIN] 2024/10/24 - 11:11:59 | 200 |   2.34671933s |       127.0.0.1 | POST     \"/api/generate\"\n"
     ]
    },
    {
     "name": "stderr",
     "output_type": "stream",
     "text": [
      "Generating responses:  16%|█▋        | 169/1039 [08:44<52:13,  3.60s/it]"
     ]
    },
    {
     "name": "stdout",
     "output_type": "stream",
     "text": [
      "[GIN] 2024/10/24 - 11:12:01 | 200 |   1.81330968s |       127.0.0.1 | POST     \"/api/generate\"\n",
      "INFO [update_slots] input truncated | n_ctx=2048 n_erase=43472 n_keep=4 n_left=2044 n_shift=1022 tid=\"138523311972352\" timestamp=1729768322\n",
      "[GIN] 2024/10/24 - 11:12:04 | 200 |  2.220722266s |       127.0.0.1 | POST     \"/api/generate\"\n"
     ]
    },
    {
     "name": "stderr",
     "output_type": "stream",
     "text": [
      "Generating responses:  16%|█▋        | 170/1039 [08:48<54:57,  3.79s/it]"
     ]
    },
    {
     "name": "stdout",
     "output_type": "stream",
     "text": [
      "[GIN] 2024/10/24 - 11:12:06 | 200 |  1.898119833s |       127.0.0.1 | POST     \"/api/generate\"\n",
      "INFO [update_slots] input truncated | n_ctx=2048 n_erase=43780 n_keep=4 n_left=2044 n_shift=1022 tid=\"138523311972352\" timestamp=1729768326\n",
      "[GIN] 2024/10/24 - 11:12:08 | 200 |  2.046969078s |       127.0.0.1 | POST     \"/api/generate\"\n"
     ]
    },
    {
     "name": "stderr",
     "output_type": "stream",
     "text": [
      "Generating responses:  16%|█▋        | 171/1039 [08:51<51:17,  3.55s/it]"
     ]
    },
    {
     "name": "stdout",
     "output_type": "stream",
     "text": [
      "[GIN] 2024/10/24 - 11:12:09 | 200 |  786.186449ms |       127.0.0.1 | POST     \"/api/generate\"\n",
      "INFO [update_slots] input truncated | n_ctx=2048 n_erase=44019 n_keep=4 n_left=2044 n_shift=1022 tid=\"138523311972352\" timestamp=1729768329\n",
      "[GIN] 2024/10/24 - 11:12:10 | 200 |  1.882110088s |       127.0.0.1 | POST     \"/api/generate\"\n"
     ]
    },
    {
     "name": "stderr",
     "output_type": "stream",
     "text": [
      "Generating responses:  17%|█▋        | 172/1039 [08:54<48:07,  3.33s/it]"
     ]
    },
    {
     "name": "stdout",
     "output_type": "stream",
     "text": [
      "[GIN] 2024/10/24 - 11:12:11 | 200 |  819.405405ms |       127.0.0.1 | POST     \"/api/generate\"\n",
      "INFO [update_slots] input truncated | n_ctx=2048 n_erase=44258 n_keep=4 n_left=2044 n_shift=1022 tid=\"138523311972352\" timestamp=1729768332\n",
      "[GIN] 2024/10/24 - 11:12:13 | 200 |  2.028423232s |       127.0.0.1 | POST     \"/api/generate\"\n"
     ]
    },
    {
     "name": "stderr",
     "output_type": "stream",
     "text": [
      "Generating responses:  17%|█▋        | 173/1039 [08:56<45:57,  3.18s/it]"
     ]
    },
    {
     "name": "stdout",
     "output_type": "stream",
     "text": [
      "[GIN] 2024/10/24 - 11:12:14 | 200 |  694.824051ms |       127.0.0.1 | POST     \"/api/generate\"\n",
      "INFO [update_slots] input truncated | n_ctx=2048 n_erase=44503 n_keep=4 n_left=2044 n_shift=1022 tid=\"138523311972352\" timestamp=1729768335\n",
      "[GIN] 2024/10/24 - 11:12:17 | 200 |  2.985052662s |       127.0.0.1 | POST     \"/api/generate\"\n"
     ]
    },
    {
     "name": "stderr",
     "output_type": "stream",
     "text": [
      "Generating responses:  17%|█▋        | 174/1039 [09:01<50:26,  3.50s/it]"
     ]
    },
    {
     "name": "stdout",
     "output_type": "stream",
     "text": [
      "[GIN] 2024/10/24 - 11:12:18 | 200 |   1.10661544s |       127.0.0.1 | POST     \"/api/generate\"\n",
      "INFO [update_slots] input truncated | n_ctx=2048 n_erase=44759 n_keep=4 n_left=2044 n_shift=1022 tid=\"138523311972352\" timestamp=1729768339\n",
      "[GIN] 2024/10/24 - 11:12:21 | 200 |  2.166055215s |       127.0.0.1 | POST     \"/api/generate\"\n"
     ]
    },
    {
     "name": "stderr",
     "output_type": "stream",
     "text": [
      "Generating responses:  17%|█▋        | 175/1039 [09:05<55:22,  3.85s/it]"
     ]
    },
    {
     "name": "stdout",
     "output_type": "stream",
     "text": [
      "[GIN] 2024/10/24 - 11:12:23 | 200 |  2.363019279s |       127.0.0.1 | POST     \"/api/generate\"\n",
      "INFO [update_slots] input truncated | n_ctx=2048 n_erase=45093 n_keep=4 n_left=2044 n_shift=1022 tid=\"138523311972352\" timestamp=1729768344\n",
      "[GIN] 2024/10/24 - 11:12:25 | 200 |  1.879815193s |       127.0.0.1 | POST     \"/api/generate\"\n",
      "[GIN] 2024/10/24 - 11:12:26 | 200 |  1.070033194s |       127.0.0.1 | POST     \"/api/generate\"\n"
     ]
    },
    {
     "name": "stderr",
     "output_type": "stream",
     "text": [
      "Generating responses:  17%|█▋        | 176/1039 [09:09<56:21,  3.92s/it]"
     ]
    },
    {
     "name": "stdout",
     "output_type": "stream",
     "text": [
      "[GIN] 2024/10/24 - 11:12:27 | 200 |  1.004870468s |       127.0.0.1 | POST     \"/api/generate\"\n",
      "INFO [update_slots] input truncated | n_ctx=2048 n_erase=45365 n_keep=4 n_left=2044 n_shift=1022 tid=\"138523311972352\" timestamp=1729768348\n",
      "[GIN] 2024/10/24 - 11:12:30 | 200 |  2.399449703s |       127.0.0.1 | POST     \"/api/generate\"\n"
     ]
    },
    {
     "name": "stderr",
     "output_type": "stream",
     "text": [
      "Generating responses:  17%|█▋        | 177/1039 [09:13<54:59,  3.83s/it]"
     ]
    },
    {
     "name": "stdout",
     "output_type": "stream",
     "text": [
      "[GIN] 2024/10/24 - 11:12:31 | 200 |  1.086561851s |       127.0.0.1 | POST     \"/api/generate\"\n",
      "INFO [update_slots] input truncated | n_ctx=2048 n_erase=45616 n_keep=4 n_left=2044 n_shift=1022 tid=\"138523311972352\" timestamp=1729768351\n",
      "[GIN] 2024/10/24 - 11:12:33 | 200 |  1.843516096s |       127.0.0.1 | POST     \"/api/generate\"\n"
     ]
    },
    {
     "name": "stderr",
     "output_type": "stream",
     "text": [
      "Generating responses:  17%|█▋        | 178/1039 [09:16<50:40,  3.53s/it]"
     ]
    },
    {
     "name": "stdout",
     "output_type": "stream",
     "text": [
      "[GIN] 2024/10/24 - 11:12:34 | 200 |  866.769935ms |       127.0.0.1 | POST     \"/api/generate\"\n",
      "INFO [update_slots] input truncated | n_ctx=2048 n_erase=45858 n_keep=4 n_left=2044 n_shift=1022 tid=\"138523311972352\" timestamp=1729768354\n",
      "[GIN] 2024/10/24 - 11:12:36 | 200 |  2.275355536s |       127.0.0.1 | POST     \"/api/generate\"\n"
     ]
    },
    {
     "name": "stderr",
     "output_type": "stream",
     "text": [
      "Generating responses:  17%|█▋        | 179/1039 [09:19<49:55,  3.48s/it]"
     ]
    },
    {
     "name": "stdout",
     "output_type": "stream",
     "text": [
      "[GIN] 2024/10/24 - 11:12:37 | 200 |  965.137664ms |       127.0.0.1 | POST     \"/api/generate\"\n",
      "INFO [update_slots] input truncated | n_ctx=2048 n_erase=46106 n_keep=4 n_left=2044 n_shift=1022 tid=\"138523311972352\" timestamp=1729768358\n",
      "[GIN] 2024/10/24 - 11:12:39 | 200 |  2.236109388s |       127.0.0.1 | POST     \"/api/generate\"\n",
      "[GIN] 2024/10/24 - 11:12:41 | 200 |   1.14013719s |       127.0.0.1 | POST     \"/api/generate\"\n"
     ]
    },
    {
     "name": "stderr",
     "output_type": "stream",
     "text": [
      "Generating responses:  17%|█▋        | 180/1039 [09:24<56:18,  3.93s/it]"
     ]
    },
    {
     "name": "stdout",
     "output_type": "stream",
     "text": [
      "[GIN] 2024/10/24 - 11:12:42 | 200 |   1.47104465s |       127.0.0.1 | POST     \"/api/generate\"\n",
      "INFO [update_slots] input truncated | n_ctx=2048 n_erase=46371 n_keep=4 n_left=2044 n_shift=1022 tid=\"138523311972352\" timestamp=1729768363\n",
      "[GIN] 2024/10/24 - 11:12:44 | 200 |  2.224471239s |       127.0.0.1 | POST     \"/api/generate\"\n",
      "[GIN] 2024/10/24 - 11:12:45 | 200 |  758.848563ms |       127.0.0.1 | POST     \"/api/generate\"\n"
     ]
    },
    {
     "name": "stderr",
     "output_type": "stream",
     "text": [
      "Generating responses:  17%|█▋        | 181/1039 [09:28<57:35,  4.03s/it]"
     ]
    },
    {
     "name": "stdout",
     "output_type": "stream",
     "text": [
      "[GIN] 2024/10/24 - 11:12:46 | 200 |  1.132955933s |       127.0.0.1 | POST     \"/api/generate\"\n",
      "INFO [update_slots] input truncated | n_ctx=2048 n_erase=46626 n_keep=4 n_left=2044 n_shift=1022 tid=\"138523311972352\" timestamp=1729768367\n",
      "[GIN] 2024/10/24 - 11:12:48 | 200 |    2.0678961s |       127.0.0.1 | POST     \"/api/generate\"\n"
     ]
    },
    {
     "name": "stderr",
     "output_type": "stream",
     "text": [
      "Generating responses:  18%|█▊        | 182/1039 [09:32<54:24,  3.81s/it]"
     ]
    },
    {
     "name": "stdout",
     "output_type": "stream",
     "text": [
      "[GIN] 2024/10/24 - 11:12:50 | 200 |  1.102394496s |       127.0.0.1 | POST     \"/api/generate\"\n",
      "INFO [update_slots] input truncated | n_ctx=2048 n_erase=46884 n_keep=4 n_left=2044 n_shift=1022 tid=\"138523311972352\" timestamp=1729768370\n",
      "[GIN] 2024/10/24 - 11:12:52 | 200 |  2.135391223s |       127.0.0.1 | POST     \"/api/generate\"\n"
     ]
    },
    {
     "name": "stderr",
     "output_type": "stream",
     "text": [
      "Generating responses:  18%|█▊        | 183/1039 [09:35<51:12,  3.59s/it]"
     ]
    },
    {
     "name": "stdout",
     "output_type": "stream",
     "text": [
      "[GIN] 2024/10/24 - 11:12:53 | 200 |   805.59242ms |       127.0.0.1 | POST     \"/api/generate\"\n",
      "INFO [update_slots] input truncated | n_ctx=2048 n_erase=47128 n_keep=4 n_left=2044 n_shift=1022 tid=\"138523311972352\" timestamp=1729768373\n",
      "[GIN] 2024/10/24 - 11:12:55 | 200 |  1.974925952s |       127.0.0.1 | POST     \"/api/generate\"\n"
     ]
    },
    {
     "name": "stderr",
     "output_type": "stream",
     "text": [
      "Generating responses:  18%|█▊        | 184/1039 [09:38<50:30,  3.54s/it]"
     ]
    },
    {
     "name": "stdout",
     "output_type": "stream",
     "text": [
      "[GIN] 2024/10/24 - 11:12:56 | 200 |  1.330198034s |       127.0.0.1 | POST     \"/api/generate\"\n",
      "INFO [update_slots] input truncated | n_ctx=2048 n_erase=47408 n_keep=4 n_left=2044 n_shift=1022 tid=\"138523311972352\" timestamp=1729768377\n",
      "[GIN] 2024/10/24 - 11:12:58 | 200 |  2.043347397s |       127.0.0.1 | POST     \"/api/generate\"\n"
     ]
    },
    {
     "name": "stderr",
     "output_type": "stream",
     "text": [
      "Generating responses:  18%|█▊        | 185/1039 [09:42<49:10,  3.45s/it]"
     ]
    },
    {
     "name": "stdout",
     "output_type": "stream",
     "text": [
      "[GIN] 2024/10/24 - 11:12:59 | 200 |  1.072002448s |       127.0.0.1 | POST     \"/api/generate\"\n",
      "INFO [update_slots] input truncated | n_ctx=2048 n_erase=47665 n_keep=4 n_left=2044 n_shift=1022 tid=\"138523311972352\" timestamp=1729768380\n",
      "[GIN] 2024/10/24 - 11:13:02 | 200 |  2.264032001s |       127.0.0.1 | POST     \"/api/generate\"\n"
     ]
    },
    {
     "name": "stderr",
     "output_type": "stream",
     "text": [
      "Generating responses:  18%|█▊        | 186/1039 [09:45<48:18,  3.40s/it]"
     ]
    },
    {
     "name": "stdout",
     "output_type": "stream",
     "text": [
      "[GIN] 2024/10/24 - 11:13:03 | 200 |  868.622391ms |       127.0.0.1 | POST     \"/api/generate\"\n",
      "INFO [update_slots] input truncated | n_ctx=2048 n_erase=47904 n_keep=4 n_left=2044 n_shift=1022 tid=\"138523311972352\" timestamp=1729768383\n",
      "[GIN] 2024/10/24 - 11:13:05 | 200 |  2.067659909s |       127.0.0.1 | POST     \"/api/generate\"\n",
      "[GIN] 2024/10/24 - 11:13:05 | 200 |  606.640627ms |       127.0.0.1 | POST     \"/api/generate\"\n"
     ]
    },
    {
     "name": "stderr",
     "output_type": "stream",
     "text": [
      "Generating responses:  18%|█▊        | 187/1039 [09:48<48:51,  3.44s/it]"
     ]
    },
    {
     "name": "stdout",
     "output_type": "stream",
     "text": [
      "[GIN] 2024/10/24 - 11:13:06 | 200 |  726.957115ms |       127.0.0.1 | POST     \"/api/generate\"\n",
      "INFO [update_slots] input truncated | n_ctx=2048 n_erase=48135 n_keep=4 n_left=2044 n_shift=1022 tid=\"138523311972352\" timestamp=1729768387\n",
      "[GIN] 2024/10/24 - 11:13:08 | 200 |  1.957754948s |       127.0.0.1 | POST     \"/api/generate\"\n"
     ]
    },
    {
     "name": "stderr",
     "output_type": "stream",
     "text": [
      "Generating responses:  18%|█▊        | 188/1039 [09:52<49:18,  3.48s/it]"
     ]
    },
    {
     "name": "stdout",
     "output_type": "stream",
     "text": [
      "[GIN] 2024/10/24 - 11:13:10 | 200 |  1.472846817s |       127.0.0.1 | POST     \"/api/generate\"\n",
      "INFO [update_slots] input truncated | n_ctx=2048 n_erase=48413 n_keep=4 n_left=2044 n_shift=1022 tid=\"138523311972352\" timestamp=1729768390\n",
      "[GIN] 2024/10/24 - 11:13:12 | 200 |  2.045683548s |       127.0.0.1 | POST     \"/api/generate\"\n"
     ]
    },
    {
     "name": "stderr",
     "output_type": "stream",
     "text": [
      "Generating responses:  18%|█▊        | 189/1039 [09:55<48:12,  3.40s/it]"
     ]
    },
    {
     "name": "stdout",
     "output_type": "stream",
     "text": [
      "[GIN] 2024/10/24 - 11:13:13 | 200 |  1.051810923s |       127.0.0.1 | POST     \"/api/generate\"\n",
      "INFO [update_slots] input truncated | n_ctx=2048 n_erase=48665 n_keep=4 n_left=2044 n_shift=1022 tid=\"138523311972352\" timestamp=1729768394\n",
      "[GIN] 2024/10/24 - 11:13:15 | 200 |  1.896374266s |       127.0.0.1 | POST     \"/api/generate\"\n"
     ]
    },
    {
     "name": "stderr",
     "output_type": "stream",
     "text": [
      "Generating responses:  18%|█▊        | 190/1039 [09:58<45:15,  3.20s/it]"
     ]
    },
    {
     "name": "stdout",
     "output_type": "stream",
     "text": [
      "[GIN] 2024/10/24 - 11:13:16 | 200 |  689.435041ms |       127.0.0.1 | POST     \"/api/generate\"\n",
      "INFO [update_slots] input truncated | n_ctx=2048 n_erase=48896 n_keep=4 n_left=2044 n_shift=1022 tid=\"138523311972352\" timestamp=1729768396\n",
      "[GIN] 2024/10/24 - 11:13:18 | 200 |  2.316987332s |       127.0.0.1 | POST     \"/api/generate\"\n"
     ]
    },
    {
     "name": "stderr",
     "output_type": "stream",
     "text": [
      "Generating responses:  18%|█▊        | 191/1039 [10:01<45:47,  3.24s/it]"
     ]
    },
    {
     "name": "stdout",
     "output_type": "stream",
     "text": [
      "[GIN] 2024/10/24 - 11:13:19 | 200 |   882.10709ms |       127.0.0.1 | POST     \"/api/generate\"\n",
      "INFO [update_slots] input truncated | n_ctx=2048 n_erase=49135 n_keep=4 n_left=2044 n_shift=1022 tid=\"138523311972352\" timestamp=1729768400\n",
      "[GIN] 2024/10/24 - 11:13:21 | 200 |  2.013293638s |       127.0.0.1 | POST     \"/api/generate\"\n"
     ]
    },
    {
     "name": "stderr",
     "output_type": "stream",
     "text": [
      "Generating responses:  18%|█▊        | 192/1039 [10:04<45:48,  3.25s/it]"
     ]
    },
    {
     "name": "stdout",
     "output_type": "stream",
     "text": [
      "[GIN] 2024/10/24 - 11:13:22 | 200 |   1.10850883s |       127.0.0.1 | POST     \"/api/generate\"\n",
      "INFO [update_slots] input truncated | n_ctx=2048 n_erase=49396 n_keep=4 n_left=2044 n_shift=1022 tid=\"138523311972352\" timestamp=1729768403\n",
      "[GIN] 2024/10/24 - 11:13:24 | 200 |  2.216986458s |       127.0.0.1 | POST     \"/api/generate\"\n"
     ]
    },
    {
     "name": "stderr",
     "output_type": "stream",
     "text": [
      "Generating responses:  19%|█▊        | 193/1039 [10:08<48:04,  3.41s/it]"
     ]
    },
    {
     "name": "stdout",
     "output_type": "stream",
     "text": [
      "[GIN] 2024/10/24 - 11:13:26 | 200 |  1.441880436s |       127.0.0.1 | POST     \"/api/generate\"\n",
      "INFO [update_slots] input truncated | n_ctx=2048 n_erase=49678 n_keep=4 n_left=2044 n_shift=1022 tid=\"138523311972352\" timestamp=1729768407\n",
      "[GIN] 2024/10/24 - 11:13:28 | 200 |   2.16704092s |       127.0.0.1 | POST     \"/api/generate\"\n",
      "[GIN] 2024/10/24 - 11:13:29 | 200 |  810.328655ms |       127.0.0.1 | POST     \"/api/generate\"\n"
     ]
    },
    {
     "name": "stderr",
     "output_type": "stream",
     "text": [
      "Generating responses:  19%|█▊        | 194/1039 [10:13<51:52,  3.68s/it]"
     ]
    },
    {
     "name": "stdout",
     "output_type": "stream",
     "text": [
      "[GIN] 2024/10/24 - 11:13:30 | 200 |  1.202031999s |       127.0.0.1 | POST     \"/api/generate\"\n",
      "INFO [update_slots] input truncated | n_ctx=2048 n_erase=49925 n_keep=4 n_left=2044 n_shift=1022 tid=\"138523311972352\" timestamp=1729768411\n",
      "[GIN] 2024/10/24 - 11:13:33 | 200 |  2.190882624s |       127.0.0.1 | POST     \"/api/generate\"\n",
      "[GIN] 2024/10/24 - 11:13:34 | 200 |  958.797795ms |       127.0.0.1 | POST     \"/api/generate\"\n"
     ]
    },
    {
     "name": "stderr",
     "output_type": "stream",
     "text": [
      "Generating responses:  19%|█▉        | 195/1039 [10:17<53:40,  3.82s/it]"
     ]
    },
    {
     "name": "stdout",
     "output_type": "stream",
     "text": [
      "[GIN] 2024/10/24 - 11:13:35 | 200 |  835.011877ms |       127.0.0.1 | POST     \"/api/generate\"\n",
      "INFO [update_slots] input truncated | n_ctx=2048 n_erase=50178 n_keep=4 n_left=2044 n_shift=1022 tid=\"138523311972352\" timestamp=1729768415\n",
      "[GIN] 2024/10/24 - 11:13:37 | 200 |  2.211506932s |       127.0.0.1 | POST     \"/api/generate\"\n"
     ]
    },
    {
     "name": "stderr",
     "output_type": "stream",
     "text": [
      "Generating responses:  19%|█▉        | 196/1039 [10:20<52:13,  3.72s/it]"
     ]
    },
    {
     "name": "stdout",
     "output_type": "stream",
     "text": [
      "[GIN] 2024/10/24 - 11:13:38 | 200 |  1.134552394s |       127.0.0.1 | POST     \"/api/generate\"\n",
      "INFO [update_slots] input truncated | n_ctx=2048 n_erase=50437 n_keep=4 n_left=2044 n_shift=1022 tid=\"138523311972352\" timestamp=1729768419\n",
      "[GIN] 2024/10/24 - 11:13:40 | 200 |  1.939561908s |       127.0.0.1 | POST     \"/api/generate\"\n"
     ]
    },
    {
     "name": "stderr",
     "output_type": "stream",
     "text": [
      "Generating responses:  19%|█▉        | 197/1039 [10:23<49:10,  3.50s/it]"
     ]
    },
    {
     "name": "stdout",
     "output_type": "stream",
     "text": [
      "[GIN] 2024/10/24 - 11:13:41 | 200 |  934.740844ms |       127.0.0.1 | POST     \"/api/generate\"\n",
      "INFO [update_slots] input truncated | n_ctx=2048 n_erase=50686 n_keep=4 n_left=2044 n_shift=1022 tid=\"138523311972352\" timestamp=1729768422\n",
      "[GIN] 2024/10/24 - 11:13:43 | 200 |  2.124871474s |       127.0.0.1 | POST     \"/api/generate\"\n"
     ]
    },
    {
     "name": "stderr",
     "output_type": "stream",
     "text": [
      "Generating responses:  19%|█▉        | 198/1039 [10:27<51:16,  3.66s/it]"
     ]
    },
    {
     "name": "stdout",
     "output_type": "stream",
     "text": [
      "[GIN] 2024/10/24 - 11:13:45 | 200 |  1.746692299s |       127.0.0.1 | POST     \"/api/generate\"\n",
      "INFO [update_slots] input truncated | n_ctx=2048 n_erase=50980 n_keep=4 n_left=2044 n_shift=1022 tid=\"138523311972352\" timestamp=1729768426\n",
      "[GIN] 2024/10/24 - 11:13:47 | 200 |  2.264456267s |       127.0.0.1 | POST     \"/api/generate\"\n"
     ]
    },
    {
     "name": "stderr",
     "output_type": "stream",
     "text": [
      "Generating responses:  19%|█▉        | 199/1039 [10:31<50:38,  3.62s/it]"
     ]
    },
    {
     "name": "stdout",
     "output_type": "stream",
     "text": [
      "[GIN] 2024/10/24 - 11:13:49 | 200 |  1.115751004s |       127.0.0.1 | POST     \"/api/generate\"\n",
      "INFO [update_slots] input truncated | n_ctx=2048 n_erase=51239 n_keep=4 n_left=2044 n_shift=1022 tid=\"138523311972352\" timestamp=1729768429\n",
      "[GIN] 2024/10/24 - 11:13:51 | 200 |   2.61184326s |       127.0.0.1 | POST     \"/api/generate\"\n"
     ]
    },
    {
     "name": "stderr",
     "output_type": "stream",
     "text": [
      "Generating responses:  19%|█▉        | 200/1039 [10:35<53:48,  3.85s/it]"
     ]
    },
    {
     "name": "stdout",
     "output_type": "stream",
     "text": [
      "[GIN] 2024/10/24 - 11:13:53 | 200 |  1.627032194s |       127.0.0.1 | POST     \"/api/generate\"\n",
      "INFO [update_slots] input truncated | n_ctx=2048 n_erase=51540 n_keep=4 n_left=2044 n_shift=1022 tid=\"138523311972352\" timestamp=1729768434\n",
      "[GIN] 2024/10/24 - 11:13:55 | 200 |  2.238017939s |       127.0.0.1 | POST     \"/api/generate\"\n"
     ]
    },
    {
     "name": "stderr",
     "output_type": "stream",
     "text": [
      "Generating responses:  19%|█▉        | 201/1039 [10:38<51:12,  3.67s/it]"
     ]
    },
    {
     "name": "stdout",
     "output_type": "stream",
     "text": [
      "[GIN] 2024/10/24 - 11:13:56 | 200 |  866.230217ms |       127.0.0.1 | POST     \"/api/generate\"\n",
      "INFO [update_slots] input truncated | n_ctx=2048 n_erase=51779 n_keep=4 n_left=2044 n_shift=1022 tid=\"138523311972352\" timestamp=1729768437\n",
      "[GIN] 2024/10/24 - 11:13:58 | 200 |  2.103366645s |       127.0.0.1 | POST     \"/api/generate\"\n"
     ]
    },
    {
     "name": "stderr",
     "output_type": "stream",
     "text": [
      "Generating responses:  19%|█▉        | 202/1039 [10:42<50:12,  3.60s/it]"
     ]
    },
    {
     "name": "stdout",
     "output_type": "stream",
     "text": [
      "[GIN] 2024/10/24 - 11:14:00 | 200 |  1.189702987s |       127.0.0.1 | POST     \"/api/generate\"\n",
      "INFO [update_slots] input truncated | n_ctx=2048 n_erase=52046 n_keep=4 n_left=2044 n_shift=1022 tid=\"138523311972352\" timestamp=1729768440\n",
      "[GIN] 2024/10/24 - 11:14:02 | 200 |  2.209073225s |       127.0.0.1 | POST     \"/api/generate\"\n"
     ]
    },
    {
     "name": "stderr",
     "output_type": "stream",
     "text": [
      "Generating responses:  20%|█▉        | 203/1039 [10:45<47:45,  3.43s/it]"
     ]
    },
    {
     "name": "stdout",
     "output_type": "stream",
     "text": [
      "[GIN] 2024/10/24 - 11:14:03 | 200 |  671.368992ms |       127.0.0.1 | POST     \"/api/generate\"\n",
      "INFO [update_slots] input truncated | n_ctx=2048 n_erase=52287 n_keep=4 n_left=2044 n_shift=1022 tid=\"138523311972352\" timestamp=1729768443\n",
      "[GIN] 2024/10/24 - 11:14:05 | 200 |  2.649120845s |       127.0.0.1 | POST     \"/api/generate\"\n"
     ]
    },
    {
     "name": "stderr",
     "output_type": "stream",
     "text": [
      "Generating responses:  20%|█▉        | 204/1039 [10:50<54:37,  3.93s/it]"
     ]
    },
    {
     "name": "stdout",
     "output_type": "stream",
     "text": [
      "[GIN] 2024/10/24 - 11:14:08 | 200 |  2.289775401s |       127.0.0.1 | POST     \"/api/generate\"\n",
      "INFO [update_slots] input truncated | n_ctx=2048 n_erase=52618 n_keep=4 n_left=2044 n_shift=1022 tid=\"138523311972352\" timestamp=1729768448\n",
      "[GIN] 2024/10/24 - 11:14:10 | 200 |  2.303853899s |       127.0.0.1 | POST     \"/api/generate\"\n"
     ]
    },
    {
     "name": "stderr",
     "output_type": "stream",
     "text": [
      "Generating responses:  20%|█▉        | 205/1039 [10:54<55:19,  3.98s/it]"
     ]
    },
    {
     "name": "stdout",
     "output_type": "stream",
     "text": [
      "[GIN] 2024/10/24 - 11:14:12 | 200 |  1.660787741s |       127.0.0.1 | POST     \"/api/generate\"\n",
      "INFO [update_slots] input truncated | n_ctx=2048 n_erase=52919 n_keep=4 n_left=2044 n_shift=1022 tid=\"138523311972352\" timestamp=1729768452\n",
      "[GIN] 2024/10/24 - 11:14:14 | 200 |  2.637256864s |       127.0.0.1 | POST     \"/api/generate\"\n"
     ]
    },
    {
     "name": "stderr",
     "output_type": "stream",
     "text": [
      "Generating responses:  20%|█▉        | 206/1039 [10:58<55:10,  3.97s/it]"
     ]
    },
    {
     "name": "stdout",
     "output_type": "stream",
     "text": [
      "[GIN] 2024/10/24 - 11:14:16 | 200 |  1.167620078s |       127.0.0.1 | POST     \"/api/generate\"\n",
      "INFO [update_slots] input truncated | n_ctx=2048 n_erase=53180 n_keep=4 n_left=2044 n_shift=1022 tid=\"138523311972352\" timestamp=1729768456\n",
      "[GIN] 2024/10/24 - 11:14:18 | 200 |  2.085809019s |       127.0.0.1 | POST     \"/api/generate\"\n"
     ]
    },
    {
     "name": "stderr",
     "output_type": "stream",
     "text": [
      "Generating responses:  20%|█▉        | 207/1039 [11:01<51:19,  3.70s/it]"
     ]
    },
    {
     "name": "stdout",
     "output_type": "stream",
     "text": [
      "[GIN] 2024/10/24 - 11:14:19 | 200 |  840.410992ms |       127.0.0.1 | POST     \"/api/generate\"\n",
      "INFO [update_slots] input truncated | n_ctx=2048 n_erase=53419 n_keep=4 n_left=2044 n_shift=1022 tid=\"138523311972352\" timestamp=1729768460\n",
      "[GIN] 2024/10/24 - 11:14:21 | 200 |   2.35215357s |       127.0.0.1 | POST     \"/api/generate\"\n"
     ]
    },
    {
     "name": "stderr",
     "output_type": "stream",
     "text": [
      "Generating responses:  20%|██        | 208/1039 [11:05<50:49,  3.67s/it]"
     ]
    },
    {
     "name": "stdout",
     "output_type": "stream",
     "text": [
      "[GIN] 2024/10/24 - 11:14:22 | 200 |   1.09618114s |       127.0.0.1 | POST     \"/api/generate\"\n",
      "INFO [update_slots] input truncated | n_ctx=2048 n_erase=53676 n_keep=4 n_left=2044 n_shift=1022 tid=\"138523311972352\" timestamp=1729768463\n",
      "[GIN] 2024/10/24 - 11:14:25 | 200 |  2.237131481s |       127.0.0.1 | POST     \"/api/generate\"\n"
     ]
    },
    {
     "name": "stderr",
     "output_type": "stream",
     "text": [
      "Generating responses:  20%|██        | 209/1039 [11:08<48:46,  3.53s/it]"
     ]
    },
    {
     "name": "stdout",
     "output_type": "stream",
     "text": [
      "[GIN] 2024/10/24 - 11:14:26 | 200 |  807.773523ms |       127.0.0.1 | POST     \"/api/generate\"\n",
      "INFO [update_slots] input truncated | n_ctx=2048 n_erase=53914 n_keep=4 n_left=2044 n_shift=1022 tid=\"138523311972352\" timestamp=1729768466\n",
      "[GIN] 2024/10/24 - 11:14:28 | 200 |  2.327928662s |       127.0.0.1 | POST     \"/api/generate\"\n"
     ]
    },
    {
     "name": "stderr",
     "output_type": "stream",
     "text": [
      "Generating responses:  20%|██        | 210/1039 [11:12<52:41,  3.81s/it]"
     ]
    },
    {
     "name": "stdout",
     "output_type": "stream",
     "text": [
      "[GIN] 2024/10/24 - 11:14:30 | 200 |  2.008121343s |       127.0.0.1 | POST     \"/api/generate\"\n",
      "INFO [update_slots] input truncated | n_ctx=2048 n_erase=54224 n_keep=4 n_left=2044 n_shift=1022 tid=\"138523311972352\" timestamp=1729768471\n",
      "[GIN] 2024/10/24 - 11:14:32 | 200 |  2.169634388s |       127.0.0.1 | POST     \"/api/generate\"\n",
      "[GIN] 2024/10/24 - 11:14:33 | 200 |  778.904046ms |       127.0.0.1 | POST     \"/api/generate\"\n"
     ]
    },
    {
     "name": "stderr",
     "output_type": "stream",
     "text": [
      "Generating responses:  20%|██        | 211/1039 [11:16<52:57,  3.84s/it]"
     ]
    },
    {
     "name": "stdout",
     "output_type": "stream",
     "text": [
      "[GIN] 2024/10/24 - 11:14:34 | 200 |  802.209521ms |       127.0.0.1 | POST     \"/api/generate\"\n",
      "INFO [update_slots] input truncated | n_ctx=2048 n_erase=54464 n_keep=4 n_left=2044 n_shift=1022 tid=\"138523311972352\" timestamp=1729768475\n",
      "[GIN] 2024/10/24 - 11:14:36 | 200 |  2.304844815s |       127.0.0.1 | POST     \"/api/generate\"\n"
     ]
    },
    {
     "name": "stderr",
     "output_type": "stream",
     "text": [
      "Generating responses:  20%|██        | 212/1039 [11:20<50:47,  3.68s/it]"
     ]
    },
    {
     "name": "stdout",
     "output_type": "stream",
     "text": [
      "[GIN] 2024/10/24 - 11:14:37 | 200 |  877.456519ms |       127.0.0.1 | POST     \"/api/generate\"\n",
      "INFO [update_slots] input truncated | n_ctx=2048 n_erase=54707 n_keep=4 n_left=2044 n_shift=1022 tid=\"138523311972352\" timestamp=1729768478\n",
      "[GIN] 2024/10/24 - 11:14:40 | 200 |  2.324130961s |       127.0.0.1 | POST     \"/api/generate\"\n"
     ]
    },
    {
     "name": "stderr",
     "output_type": "stream",
     "text": [
      "Generating responses:  21%|██        | 213/1039 [11:23<50:26,  3.66s/it]"
     ]
    },
    {
     "name": "stdout",
     "output_type": "stream",
     "text": [
      "[GIN] 2024/10/24 - 11:14:41 | 200 |  1.139480055s |       127.0.0.1 | POST     \"/api/generate\"\n",
      "INFO [update_slots] input truncated | n_ctx=2048 n_erase=54965 n_keep=4 n_left=2044 n_shift=1022 tid=\"138523311972352\" timestamp=1729768482\n",
      "[GIN] 2024/10/24 - 11:14:43 | 200 |  2.133187714s |       127.0.0.1 | POST     \"/api/generate\"\n",
      "[GIN] 2024/10/24 - 11:14:44 | 200 |  869.719605ms |       127.0.0.1 | POST     \"/api/generate\"\n"
     ]
    },
    {
     "name": "stderr",
     "output_type": "stream",
     "text": [
      "Generating responses:  21%|██        | 214/1039 [11:27<51:35,  3.75s/it]"
     ]
    },
    {
     "name": "stdout",
     "output_type": "stream",
     "text": [
      "[GIN] 2024/10/24 - 11:14:45 | 200 |  803.142269ms |       127.0.0.1 | POST     \"/api/generate\"\n",
      "INFO [update_slots] input truncated | n_ctx=2048 n_erase=55212 n_keep=4 n_left=2044 n_shift=1022 tid=\"138523311972352\" timestamp=1729768486\n",
      "[GIN] 2024/10/24 - 11:14:47 | 200 |  2.456459722s |       127.0.0.1 | POST     \"/api/generate\"\n",
      "[GIN] 2024/10/24 - 11:14:49 | 200 |  1.132143695s |       127.0.0.1 | POST     \"/api/generate\"\n"
     ]
    },
    {
     "name": "stderr",
     "output_type": "stream",
     "text": [
      "Generating responses:  21%|██        | 215/1039 [11:32<56:12,  4.09s/it]"
     ]
    },
    {
     "name": "stdout",
     "output_type": "stream",
     "text": [
      "[GIN] 2024/10/24 - 11:14:50 | 200 |  1.146225685s |       127.0.0.1 | POST     \"/api/generate\"\n",
      "INFO [update_slots] input truncated | n_ctx=2048 n_erase=55476 n_keep=4 n_left=2044 n_shift=1022 tid=\"138523311972352\" timestamp=1729768490\n",
      "[GIN] 2024/10/24 - 11:14:52 | 200 |  2.375612825s |       127.0.0.1 | POST     \"/api/generate\"\n"
     ]
    },
    {
     "name": "stderr",
     "output_type": "stream",
     "text": [
      "Generating responses:  21%|██        | 216/1039 [11:36<57:12,  4.17s/it]"
     ]
    },
    {
     "name": "stdout",
     "output_type": "stream",
     "text": [
      "[GIN] 2024/10/24 - 11:14:54 | 200 |  1.826890384s |       127.0.0.1 | POST     \"/api/generate\"\n",
      "INFO [update_slots] input truncated | n_ctx=2048 n_erase=55769 n_keep=4 n_left=2044 n_shift=1022 tid=\"138523311972352\" timestamp=1729768495\n",
      "[GIN] 2024/10/24 - 11:14:56 | 200 |  2.149124247s |       127.0.0.1 | POST     \"/api/generate\"\n"
     ]
    },
    {
     "name": "stderr",
     "output_type": "stream",
     "text": [
      "Generating responses:  21%|██        | 217/1039 [11:39<52:38,  3.84s/it]"
     ]
    },
    {
     "name": "stdout",
     "output_type": "stream",
     "text": [
      "[GIN] 2024/10/24 - 11:14:57 | 200 |  777.123879ms |       127.0.0.1 | POST     \"/api/generate\"\n",
      "INFO [update_slots] input truncated | n_ctx=2048 n_erase=56002 n_keep=4 n_left=2044 n_shift=1022 tid=\"138523311972352\" timestamp=1729768498\n",
      "[GIN] 2024/10/24 - 11:15:00 | 200 |   2.27964836s |       127.0.0.1 | POST     \"/api/generate\"\n"
     ]
    },
    {
     "name": "stderr",
     "output_type": "stream",
     "text": [
      "Generating responses:  21%|██        | 218/1039 [11:43<53:08,  3.88s/it]"
     ]
    },
    {
     "name": "stdout",
     "output_type": "stream",
     "text": [
      "[GIN] 2024/10/24 - 11:15:01 | 200 |  1.550895739s |       127.0.0.1 | POST     \"/api/generate\"\n",
      "INFO [update_slots] input truncated | n_ctx=2048 n_erase=56283 n_keep=4 n_left=2044 n_shift=1022 tid=\"138523311972352\" timestamp=1729768502\n",
      "[GIN] 2024/10/24 - 11:15:03 | 200 |   2.19172349s |       127.0.0.1 | POST     \"/api/generate\"\n"
     ]
    },
    {
     "name": "stderr",
     "output_type": "stream",
     "text": [
      "Generating responses:  21%|██        | 219/1039 [11:47<52:17,  3.83s/it]"
     ]
    },
    {
     "name": "stdout",
     "output_type": "stream",
     "text": [
      "[GIN] 2024/10/24 - 11:15:05 | 200 |  1.346981441s |       127.0.0.1 | POST     \"/api/generate\"\n",
      "INFO [update_slots] input truncated | n_ctx=2048 n_erase=56553 n_keep=4 n_left=2044 n_shift=1022 tid=\"138523311972352\" timestamp=1729768506\n",
      "[GIN] 2024/10/24 - 11:15:07 | 200 |  2.278191789s |       127.0.0.1 | POST     \"/api/generate\"\n"
     ]
    },
    {
     "name": "stderr",
     "output_type": "stream",
     "text": [
      "Generating responses:  21%|██        | 220/1039 [11:51<51:58,  3.81s/it]"
     ]
    },
    {
     "name": "stdout",
     "output_type": "stream",
     "text": [
      "[GIN] 2024/10/24 - 11:15:09 | 200 |  1.330780154s |       127.0.0.1 | POST     \"/api/generate\"\n",
      "INFO [update_slots] input truncated | n_ctx=2048 n_erase=56836 n_keep=4 n_left=2044 n_shift=1022 tid=\"138523311972352\" timestamp=1729768509\n",
      "[GIN] 2024/10/24 - 11:15:11 | 200 |  2.541216145s |       127.0.0.1 | POST     \"/api/generate\"\n"
     ]
    },
    {
     "name": "stderr",
     "output_type": "stream",
     "text": [
      "Generating responses:  21%|██▏       | 221/1039 [11:55<53:14,  3.91s/it]"
     ]
    },
    {
     "name": "stdout",
     "output_type": "stream",
     "text": [
      "[GIN] 2024/10/24 - 11:15:13 | 200 |  1.433553717s |       127.0.0.1 | POST     \"/api/generate\"\n",
      "INFO [update_slots] input truncated | n_ctx=2048 n_erase=57107 n_keep=4 n_left=2044 n_shift=1022 tid=\"138523311972352\" timestamp=1729768514\n",
      "[GIN] 2024/10/24 - 11:15:15 | 200 |  2.307480005s |       127.0.0.1 | POST     \"/api/generate\"\n"
     ]
    },
    {
     "name": "stderr",
     "output_type": "stream",
     "text": [
      "Generating responses:  21%|██▏       | 222/1039 [11:59<52:53,  3.88s/it]"
     ]
    },
    {
     "name": "stdout",
     "output_type": "stream",
     "text": [
      "[GIN] 2024/10/24 - 11:15:17 | 200 |  1.375212778s |       127.0.0.1 | POST     \"/api/generate\"\n",
      "INFO [update_slots] input truncated | n_ctx=2048 n_erase=57377 n_keep=4 n_left=2044 n_shift=1022 tid=\"138523311972352\" timestamp=1729768517\n",
      "[GIN] 2024/10/24 - 11:15:19 | 200 |  2.278929579s |       127.0.0.1 | POST     \"/api/generate\"\n",
      "[GIN] 2024/10/24 - 11:15:20 | 200 |  802.106437ms |       127.0.0.1 | POST     \"/api/generate\"\n"
     ]
    },
    {
     "name": "stderr",
     "output_type": "stream",
     "text": [
      "Generating responses:  21%|██▏       | 223/1039 [12:03<54:09,  3.98s/it]"
     ]
    },
    {
     "name": "stdout",
     "output_type": "stream",
     "text": [
      "[GIN] 2024/10/24 - 11:15:21 | 200 |  967.880319ms |       127.0.0.1 | POST     \"/api/generate\"\n",
      "INFO [update_slots] input truncated | n_ctx=2048 n_erase=57621 n_keep=4 n_left=2044 n_shift=1022 tid=\"138523311972352\" timestamp=1729768522\n",
      "[GIN] 2024/10/24 - 11:15:23 | 200 |  2.379489385s |       127.0.0.1 | POST     \"/api/generate\"\n"
     ]
    },
    {
     "name": "stderr",
     "output_type": "stream",
     "text": [
      "Generating responses:  22%|██▏       | 224/1039 [12:07<55:20,  4.07s/it]"
     ]
    },
    {
     "name": "stdout",
     "output_type": "stream",
     "text": [
      "[GIN] 2024/10/24 - 11:15:25 | 200 |  1.747878566s |       127.0.0.1 | POST     \"/api/generate\"\n",
      "INFO [update_slots] input truncated | n_ctx=2048 n_erase=57910 n_keep=4 n_left=2044 n_shift=1022 tid=\"138523311972352\" timestamp=1729768526\n",
      "[GIN] 2024/10/24 - 11:15:27 | 200 |  2.290858636s |       127.0.0.1 | POST     \"/api/generate\"\n"
     ]
    },
    {
     "name": "stderr",
     "output_type": "stream",
     "text": [
      "Generating responses:  22%|██▏       | 225/1039 [12:11<53:36,  3.95s/it]"
     ]
    },
    {
     "name": "stdout",
     "output_type": "stream",
     "text": [
      "[GIN] 2024/10/24 - 11:15:29 | 200 |  1.213715374s |       127.0.0.1 | POST     \"/api/generate\"\n",
      "INFO [update_slots] input truncated | n_ctx=2048 n_erase=58170 n_keep=4 n_left=2044 n_shift=1022 tid=\"138523311972352\" timestamp=1729768530\n",
      "[GIN] 2024/10/24 - 11:15:31 | 200 |  2.393535907s |       127.0.0.1 | POST     \"/api/generate\"\n"
     ]
    },
    {
     "name": "stderr",
     "output_type": "stream",
     "text": [
      "Generating responses:  22%|██▏       | 226/1039 [12:14<50:53,  3.76s/it]"
     ]
    },
    {
     "name": "stdout",
     "output_type": "stream",
     "text": [
      "[GIN] 2024/10/24 - 11:15:32 | 200 |  738.686581ms |       127.0.0.1 | POST     \"/api/generate\"\n",
      "INFO [update_slots] input truncated | n_ctx=2048 n_erase=58406 n_keep=4 n_left=2044 n_shift=1022 tid=\"138523311972352\" timestamp=1729768533\n",
      "[GIN] 2024/10/24 - 11:15:34 | 200 |  2.351286028s |       127.0.0.1 | POST     \"/api/generate\"\n"
     ]
    },
    {
     "name": "stderr",
     "output_type": "stream",
     "text": [
      "Generating responses:  22%|██▏       | 227/1039 [12:18<49:09,  3.63s/it]"
     ]
    },
    {
     "name": "stdout",
     "output_type": "stream",
     "text": [
      "[GIN] 2024/10/24 - 11:15:35 | 200 |  834.621987ms |       127.0.0.1 | POST     \"/api/generate\"\n",
      "INFO [update_slots] input truncated | n_ctx=2048 n_erase=58646 n_keep=4 n_left=2044 n_shift=1022 tid=\"138523311972352\" timestamp=1729768536\n",
      "[GIN] 2024/10/24 - 11:15:38 | 200 |     2.313834s |       127.0.0.1 | POST     \"/api/generate\"\n",
      "[GIN] 2024/10/24 - 11:15:39 | 200 |  876.752549ms |       127.0.0.1 | POST     \"/api/generate\"\n"
     ]
    },
    {
     "name": "stderr",
     "output_type": "stream",
     "text": [
      "Generating responses:  22%|██▏       | 228/1039 [12:22<52:44,  3.90s/it]"
     ]
    },
    {
     "name": "stdout",
     "output_type": "stream",
     "text": [
      "[GIN] 2024/10/24 - 11:15:40 | 200 |  1.174334299s |       127.0.0.1 | POST     \"/api/generate\"\n",
      "INFO [update_slots] input truncated | n_ctx=2048 n_erase=58888 n_keep=4 n_left=2044 n_shift=1022 tid=\"138523311972352\" timestamp=1729768541\n",
      "[GIN] 2024/10/24 - 11:15:42 | 200 |  2.401699519s |       127.0.0.1 | POST     \"/api/generate\"\n"
     ]
    },
    {
     "name": "stderr",
     "output_type": "stream",
     "text": [
      "Generating responses:  22%|██▏       | 229/1039 [12:26<52:58,  3.92s/it]"
     ]
    },
    {
     "name": "stdout",
     "output_type": "stream",
     "text": [
      "[GIN] 2024/10/24 - 11:15:44 | 200 |  1.407685621s |       127.0.0.1 | POST     \"/api/generate\"\n",
      "INFO [update_slots] input truncated | n_ctx=2048 n_erase=59160 n_keep=4 n_left=2044 n_shift=1022 tid=\"138523311972352\" timestamp=1729768545\n",
      "[GIN] 2024/10/24 - 11:15:46 | 200 |  2.434577411s |       127.0.0.1 | POST     \"/api/generate\"\n",
      "[GIN] 2024/10/24 - 11:15:47 | 200 |  911.716705ms |       127.0.0.1 | POST     \"/api/generate\"\n"
     ]
    },
    {
     "name": "stderr",
     "output_type": "stream",
     "text": [
      "Generating responses:  22%|██▏       | 230/1039 [12:31<55:11,  4.09s/it]"
     ]
    },
    {
     "name": "stdout",
     "output_type": "stream",
     "text": [
      "[GIN] 2024/10/24 - 11:15:48 | 200 |  974.927594ms |       127.0.0.1 | POST     \"/api/generate\"\n",
      "INFO [update_slots] input truncated | n_ctx=2048 n_erase=59411 n_keep=4 n_left=2044 n_shift=1022 tid=\"138523311972352\" timestamp=1729768549\n",
      "[GIN] 2024/10/24 - 11:15:51 | 200 |  2.491348649s |       127.0.0.1 | POST     \"/api/generate\"\n"
     ]
    },
    {
     "name": "stderr",
     "output_type": "stream",
     "text": [
      "Generating responses:  22%|██▏       | 231/1039 [12:34<53:11,  3.95s/it]"
     ]
    },
    {
     "name": "stdout",
     "output_type": "stream",
     "text": [
      "[GIN] 2024/10/24 - 11:15:52 | 200 |   957.87497ms |       127.0.0.1 | POST     \"/api/generate\"\n",
      "INFO [update_slots] input truncated | n_ctx=2048 n_erase=59660 n_keep=4 n_left=2044 n_shift=1022 tid=\"138523311972352\" timestamp=1729768553\n",
      "[GIN] 2024/10/24 - 11:15:55 | 200 |  2.489329669s |       127.0.0.1 | POST     \"/api/generate\"\n",
      "[GIN] 2024/10/24 - 11:15:56 | 200 |  851.702161ms |       127.0.0.1 | POST     \"/api/generate\"\n"
     ]
    },
    {
     "name": "stderr",
     "output_type": "stream",
     "text": [
      "Generating responses:  22%|██▏       | 232/1039 [12:39<54:55,  4.08s/it]"
     ]
    },
    {
     "name": "stdout",
     "output_type": "stream",
     "text": [
      "[GIN] 2024/10/24 - 11:15:56 | 200 |  887.901758ms |       127.0.0.1 | POST     \"/api/generate\"\n",
      "INFO [update_slots] input truncated | n_ctx=2048 n_erase=59902 n_keep=4 n_left=2044 n_shift=1022 tid=\"138523311972352\" timestamp=1729768557\n",
      "[GIN] 2024/10/24 - 11:15:59 | 200 |  2.280152844s |       127.0.0.1 | POST     \"/api/generate\"\n",
      "[GIN] 2024/10/24 - 11:16:00 | 200 |  856.836118ms |       127.0.0.1 | POST     \"/api/generate\"\n"
     ]
    },
    {
     "name": "stderr",
     "output_type": "stream",
     "text": [
      "Generating responses:  22%|██▏       | 233/1039 [12:43<56:16,  4.19s/it]"
     ]
    },
    {
     "name": "stdout",
     "output_type": "stream",
     "text": [
      "[GIN] 2024/10/24 - 11:16:01 | 200 |  1.126690859s |       127.0.0.1 | POST     \"/api/generate\"\n",
      "INFO [update_slots] input truncated | n_ctx=2048 n_erase=60149 n_keep=4 n_left=2044 n_shift=1022 tid=\"138523311972352\" timestamp=1729768562\n",
      "[GIN] 2024/10/24 - 11:16:03 | 200 |  2.544200061s |       127.0.0.1 | POST     \"/api/generate\"\n"
     ]
    },
    {
     "name": "stderr",
     "output_type": "stream",
     "text": [
      "Generating responses:  23%|██▎       | 234/1039 [12:47<53:58,  4.02s/it]"
     ]
    },
    {
     "name": "stdout",
     "output_type": "stream",
     "text": [
      "[GIN] 2024/10/24 - 11:16:05 | 200 |  919.566674ms |       127.0.0.1 | POST     \"/api/generate\"\n",
      "INFO [update_slots] input truncated | n_ctx=2048 n_erase=60396 n_keep=4 n_left=2044 n_shift=1022 tid=\"138523311972352\" timestamp=1729768565\n",
      "[GIN] 2024/10/24 - 11:16:07 | 200 |  2.430220067s |       127.0.0.1 | POST     \"/api/generate\"\n"
     ]
    },
    {
     "name": "stderr",
     "output_type": "stream",
     "text": [
      "Generating responses:  23%|██▎       | 235/1039 [12:51<54:49,  4.09s/it]"
     ]
    },
    {
     "name": "stdout",
     "output_type": "stream",
     "text": [
      "[GIN] 2024/10/24 - 11:16:09 | 200 |   1.65674715s |       127.0.0.1 | POST     \"/api/generate\"\n",
      "INFO [update_slots] input truncated | n_ctx=2048 n_erase=60679 n_keep=4 n_left=2044 n_shift=1022 tid=\"138523311972352\" timestamp=1729768570\n",
      "[GIN] 2024/10/24 - 11:16:11 | 200 |  2.325934898s |       127.0.0.1 | POST     \"/api/generate\"\n"
     ]
    },
    {
     "name": "stderr",
     "output_type": "stream",
     "text": [
      "Generating responses:  23%|██▎       | 236/1039 [12:54<52:19,  3.91s/it]"
     ]
    },
    {
     "name": "stdout",
     "output_type": "stream",
     "text": [
      "[GIN] 2024/10/24 - 11:16:12 | 200 |  990.523042ms |       127.0.0.1 | POST     \"/api/generate\"\n",
      "INFO [update_slots] input truncated | n_ctx=2048 n_erase=60929 n_keep=4 n_left=2044 n_shift=1022 tid=\"138523311972352\" timestamp=1729768573\n",
      "[GIN] 2024/10/24 - 11:16:15 | 200 |  2.422324327s |       127.0.0.1 | POST     \"/api/generate\"\n",
      "[GIN] 2024/10/24 - 11:16:16 | 200 |  843.544513ms |       127.0.0.1 | POST     \"/api/generate\"\n"
     ]
    },
    {
     "name": "stderr",
     "output_type": "stream",
     "text": [
      "Generating responses:  23%|██▎       | 237/1039 [12:59<54:48,  4.10s/it]"
     ]
    },
    {
     "name": "stdout",
     "output_type": "stream",
     "text": [
      "[GIN] 2024/10/24 - 11:16:17 | 200 |  1.107776434s |       127.0.0.1 | POST     \"/api/generate\"\n",
      "INFO [update_slots] input truncated | n_ctx=2048 n_erase=61179 n_keep=4 n_left=2044 n_shift=1022 tid=\"138523311972352\" timestamp=1729768578\n",
      "[GIN] 2024/10/24 - 11:16:20 | 200 |  2.730327165s |       127.0.0.1 | POST     \"/api/generate\"\n"
     ]
    },
    {
     "name": "stderr",
     "output_type": "stream",
     "text": [
      "Generating responses:  23%|██▎       | 238/1039 [13:03<54:42,  4.10s/it]"
     ]
    },
    {
     "name": "stdout",
     "output_type": "stream",
     "text": [
      "[GIN] 2024/10/24 - 11:16:21 | 200 |  1.185481913s |       127.0.0.1 | POST     \"/api/generate\"\n",
      "INFO [update_slots] input truncated | n_ctx=2048 n_erase=61438 n_keep=4 n_left=2044 n_shift=1022 tid=\"138523311972352\" timestamp=1729768582\n",
      "[GIN] 2024/10/24 - 11:16:24 | 200 |  2.836626052s |       127.0.0.1 | POST     \"/api/generate\"\n"
     ]
    },
    {
     "name": "stderr",
     "output_type": "stream",
     "text": [
      "Generating responses:  23%|██▎       | 239/1039 [13:08<58:08,  4.36s/it]"
     ]
    },
    {
     "name": "stdout",
     "output_type": "stream",
     "text": [
      "[GIN] 2024/10/24 - 11:16:26 | 200 |  1.963264653s |       127.0.0.1 | POST     \"/api/generate\"\n",
      "INFO [update_slots] input truncated | n_ctx=2048 n_erase=61745 n_keep=4 n_left=2044 n_shift=1022 tid=\"138523311972352\" timestamp=1729768587\n",
      "[GIN] 2024/10/24 - 11:16:29 | 200 |  2.973392712s |       127.0.0.1 | POST     \"/api/generate\"\n",
      "[GIN] 2024/10/24 - 11:16:31 | 200 |  1.635104115s |       127.0.0.1 | POST     \"/api/generate\"\n"
     ]
    },
    {
     "name": "stderr",
     "output_type": "stream",
     "text": [
      "Generating responses:  23%|██▎       | 240/1039 [13:14<1:04:13,  4.82s/it]"
     ]
    },
    {
     "name": "stdout",
     "output_type": "stream",
     "text": [
      "[GIN] 2024/10/24 - 11:16:32 | 200 |  1.108777548s |       127.0.0.1 | POST     \"/api/generate\"\n",
      "INFO [update_slots] input truncated | n_ctx=2048 n_erase=62032 n_keep=4 n_left=2044 n_shift=1022 tid=\"138523311972352\" timestamp=1729768593\n",
      "[GIN] 2024/10/24 - 11:16:34 | 200 |  2.394162488s |       127.0.0.1 | POST     \"/api/generate\"\n"
     ]
    },
    {
     "name": "stderr",
     "output_type": "stream",
     "text": [
      "Generating responses:  23%|██▎       | 241/1039 [13:17<57:47,  4.35s/it]  "
     ]
    },
    {
     "name": "stdout",
     "output_type": "stream",
     "text": [
      "[GIN] 2024/10/24 - 11:16:35 | 200 |  674.075047ms |       127.0.0.1 | POST     \"/api/generate\"\n",
      "INFO [update_slots] input truncated | n_ctx=2048 n_erase=62270 n_keep=4 n_left=2044 n_shift=1022 tid=\"138523311972352\" timestamp=1729768596\n",
      "[GIN] 2024/10/24 - 11:16:37 | 200 |  2.300064882s |       127.0.0.1 | POST     \"/api/generate\"\n"
     ]
    },
    {
     "name": "stderr",
     "output_type": "stream",
     "text": [
      "Generating responses:  23%|██▎       | 242/1039 [13:20<52:56,  3.99s/it]"
     ]
    },
    {
     "name": "stdout",
     "output_type": "stream",
     "text": [
      "[GIN] 2024/10/24 - 11:16:38 | 200 |  675.597778ms |       127.0.0.1 | POST     \"/api/generate\"\n",
      "INFO [update_slots] input truncated | n_ctx=2048 n_erase=62505 n_keep=4 n_left=2044 n_shift=1022 tid=\"138523311972352\" timestamp=1729768599\n",
      "[GIN] 2024/10/24 - 11:16:41 | 200 |  2.379785321s |       127.0.0.1 | POST     \"/api/generate\"\n"
     ]
    },
    {
     "name": "stderr",
     "output_type": "stream",
     "text": [
      "Generating responses:  23%|██▎       | 243/1039 [13:25<53:50,  4.06s/it]"
     ]
    },
    {
     "name": "stdout",
     "output_type": "stream",
     "text": [
      "[GIN] 2024/10/24 - 11:16:42 | 200 |  1.675470128s |       127.0.0.1 | POST     \"/api/generate\"\n",
      "INFO [update_slots] input truncated | n_ctx=2048 n_erase=62792 n_keep=4 n_left=2044 n_shift=1022 tid=\"138523311972352\" timestamp=1729768603\n",
      "[GIN] 2024/10/24 - 11:16:45 | 200 |  2.369352257s |       127.0.0.1 | POST     \"/api/generate\"\n"
     ]
    },
    {
     "name": "stderr",
     "output_type": "stream",
     "text": [
      "Generating responses:  23%|██▎       | 244/1039 [13:28<52:49,  3.99s/it]"
     ]
    },
    {
     "name": "stdout",
     "output_type": "stream",
     "text": [
      "[GIN] 2024/10/24 - 11:16:46 | 200 |  1.273854046s |       127.0.0.1 | POST     \"/api/generate\"\n",
      "INFO [update_slots] input truncated | n_ctx=2048 n_erase=63057 n_keep=4 n_left=2044 n_shift=1022 tid=\"138523311972352\" timestamp=1729768607\n",
      "[GIN] 2024/10/24 - 11:16:49 | 200 |  2.904508318s |       127.0.0.1 | POST     \"/api/generate\"\n"
     ]
    },
    {
     "name": "stderr",
     "output_type": "stream",
     "text": [
      "Generating responses:  24%|██▎       | 245/1039 [13:33<54:51,  4.15s/it]"
     ]
    },
    {
     "name": "stdout",
     "output_type": "stream",
     "text": [
      "[GIN] 2024/10/24 - 11:16:51 | 200 |  1.401574167s |       127.0.0.1 | POST     \"/api/generate\"\n",
      "INFO [update_slots] input truncated | n_ctx=2048 n_erase=63332 n_keep=4 n_left=2044 n_shift=1022 tid=\"138523311972352\" timestamp=1729768611\n",
      "[GIN] 2024/10/24 - 11:16:53 | 200 |  2.421668717s |       127.0.0.1 | POST     \"/api/generate\"\n"
     ]
    },
    {
     "name": "stderr",
     "output_type": "stream",
     "text": [
      "Generating responses:  24%|██▎       | 246/1039 [13:36<51:34,  3.90s/it]"
     ]
    },
    {
     "name": "stdout",
     "output_type": "stream",
     "text": [
      "[GIN] 2024/10/24 - 11:16:54 | 200 |  731.890014ms |       127.0.0.1 | POST     \"/api/generate\"\n",
      "INFO [update_slots] input truncated | n_ctx=2048 n_erase=63569 n_keep=4 n_left=2044 n_shift=1022 tid=\"138523311972352\" timestamp=1729768615\n",
      "[GIN] 2024/10/24 - 11:16:56 | 200 |  2.363178538s |       127.0.0.1 | POST     \"/api/generate\"\n"
     ]
    },
    {
     "name": "stderr",
     "output_type": "stream",
     "text": [
      "Generating responses:  24%|██▍       | 247/1039 [13:40<50:21,  3.82s/it]"
     ]
    },
    {
     "name": "stdout",
     "output_type": "stream",
     "text": [
      "[GIN] 2024/10/24 - 11:16:58 | 200 |  1.077685319s |       127.0.0.1 | POST     \"/api/generate\"\n",
      "INFO [update_slots] input truncated | n_ctx=2048 n_erase=63828 n_keep=4 n_left=2044 n_shift=1022 tid=\"138523311972352\" timestamp=1729768618\n",
      "[GIN] 2024/10/24 - 11:17:00 | 200 |  2.423541557s |       127.0.0.1 | POST     \"/api/generate\"\n"
     ]
    },
    {
     "name": "stderr",
     "output_type": "stream",
     "text": [
      "Generating responses:  24%|██▍       | 248/1039 [13:43<49:08,  3.73s/it]"
     ]
    },
    {
     "name": "stdout",
     "output_type": "stream",
     "text": [
      "[GIN] 2024/10/24 - 11:17:01 | 200 |  922.800323ms |       127.0.0.1 | POST     \"/api/generate\"\n",
      "INFO [update_slots] input truncated | n_ctx=2048 n_erase=64079 n_keep=4 n_left=2044 n_shift=1022 tid=\"138523311972352\" timestamp=1729768622\n",
      "[GIN] 2024/10/24 - 11:17:04 | 200 |  2.443288996s |       127.0.0.1 | POST     \"/api/generate\"\n"
     ]
    },
    {
     "name": "stderr",
     "output_type": "stream",
     "text": [
      "Generating responses:  24%|██▍       | 249/1039 [13:48<50:46,  3.86s/it]"
     ]
    },
    {
     "name": "stdout",
     "output_type": "stream",
     "text": [
      "[GIN] 2024/10/24 - 11:17:05 | 200 |  1.537040289s |       127.0.0.1 | POST     \"/api/generate\"\n",
      "INFO [update_slots] input truncated | n_ctx=2048 n_erase=64363 n_keep=4 n_left=2044 n_shift=1022 tid=\"138523311972352\" timestamp=1729768626\n",
      "[GIN] 2024/10/24 - 11:17:08 | 200 |  2.404638312s |       127.0.0.1 | POST     \"/api/generate\"\n"
     ]
    },
    {
     "name": "stderr",
     "output_type": "stream",
     "text": [
      "Generating responses:  24%|██▍       | 250/1039 [13:51<48:18,  3.67s/it]"
     ]
    },
    {
     "name": "stdout",
     "output_type": "stream",
     "text": [
      "[GIN] 2024/10/24 - 11:17:09 | 200 |   668.92636ms |       127.0.0.1 | POST     \"/api/generate\"\n",
      "INFO [update_slots] input truncated | n_ctx=2048 n_erase=64594 n_keep=4 n_left=2044 n_shift=1022 tid=\"138523311972352\" timestamp=1729768629\n",
      "[GIN] 2024/10/24 - 11:17:11 | 200 |  2.577101483s |       127.0.0.1 | POST     \"/api/generate\"\n"
     ]
    },
    {
     "name": "stderr",
     "output_type": "stream",
     "text": [
      "Generating responses:  24%|██▍       | 251/1039 [13:54<47:06,  3.59s/it]"
     ]
    },
    {
     "name": "stdout",
     "output_type": "stream",
     "text": [
      "[GIN] 2024/10/24 - 11:17:12 | 200 |  624.109371ms |       127.0.0.1 | POST     \"/api/generate\"\n",
      "INFO [update_slots] input truncated | n_ctx=2048 n_erase=64828 n_keep=4 n_left=2044 n_shift=1022 tid=\"138523311972352\" timestamp=1729768633\n",
      "[GIN] 2024/10/24 - 11:17:15 | 200 |  2.751969222s |       127.0.0.1 | POST     \"/api/generate\"\n"
     ]
    },
    {
     "name": "stderr",
     "output_type": "stream",
     "text": [
      "Generating responses:  24%|██▍       | 252/1039 [13:59<52:41,  4.02s/it]"
     ]
    },
    {
     "name": "stdout",
     "output_type": "stream",
     "text": [
      "[GIN] 2024/10/24 - 11:17:17 | 200 |  2.085593111s |       127.0.0.1 | POST     \"/api/generate\"\n",
      "INFO [update_slots] input truncated | n_ctx=2048 n_erase=65161 n_keep=4 n_left=2044 n_shift=1022 tid=\"138523311972352\" timestamp=1729768638\n",
      "[GIN] 2024/10/24 - 11:17:20 | 200 |  2.728201196s |       127.0.0.1 | POST     \"/api/generate\"\n"
     ]
    },
    {
     "name": "stderr",
     "output_type": "stream",
     "text": [
      "Generating responses:  24%|██▍       | 253/1039 [14:04<54:03,  4.13s/it]"
     ]
    },
    {
     "name": "stdout",
     "output_type": "stream",
     "text": [
      "[GIN] 2024/10/24 - 11:17:21 | 200 |  1.470408155s |       127.0.0.1 | POST     \"/api/generate\"\n",
      "INFO [update_slots] input truncated | n_ctx=2048 n_erase=65450 n_keep=4 n_left=2044 n_shift=1022 tid=\"138523311972352\" timestamp=1729768642\n",
      "[GIN] 2024/10/24 - 11:17:24 | 200 |  2.789910253s |       127.0.0.1 | POST     \"/api/generate\"\n"
     ]
    },
    {
     "name": "stderr",
     "output_type": "stream",
     "text": [
      "Generating responses:  24%|██▍       | 254/1039 [14:08<55:29,  4.24s/it]"
     ]
    },
    {
     "name": "stdout",
     "output_type": "stream",
     "text": [
      "[GIN] 2024/10/24 - 11:17:26 | 200 |  1.536577549s |       127.0.0.1 | POST     \"/api/generate\"\n",
      "INFO [update_slots] input truncated | n_ctx=2048 n_erase=65729 n_keep=4 n_left=2044 n_shift=1022 tid=\"138523311972352\" timestamp=1729768647\n",
      "[GIN] 2024/10/24 - 11:17:28 | 200 |  2.352242538s |       127.0.0.1 | POST     \"/api/generate\"\n"
     ]
    },
    {
     "name": "stderr",
     "output_type": "stream",
     "text": [
      "Generating responses:  25%|██▍       | 255/1039 [14:11<51:14,  3.92s/it]"
     ]
    },
    {
     "name": "stdout",
     "output_type": "stream",
     "text": [
      "[GIN] 2024/10/24 - 11:17:29 | 200 |  638.174584ms |       127.0.0.1 | POST     \"/api/generate\"\n",
      "INFO [update_slots] input truncated | n_ctx=2048 n_erase=65962 n_keep=4 n_left=2044 n_shift=1022 tid=\"138523311972352\" timestamp=1729768650\n",
      "[GIN] 2024/10/24 - 11:17:32 | 200 |  2.730592507s |       127.0.0.1 | POST     \"/api/generate\"\n"
     ]
    },
    {
     "name": "stderr",
     "output_type": "stream",
     "text": [
      "Generating responses:  25%|██▍       | 256/1039 [14:16<56:08,  4.30s/it]"
     ]
    },
    {
     "name": "stdout",
     "output_type": "stream",
     "text": [
      "[GIN] 2024/10/24 - 11:17:34 | 200 |  2.265476311s |       127.0.0.1 | POST     \"/api/generate\"\n",
      "INFO [update_slots] input truncated | n_ctx=2048 n_erase=66292 n_keep=4 n_left=2044 n_shift=1022 tid=\"138523311972352\" timestamp=1729768655\n",
      "[GIN] 2024/10/24 - 11:17:37 | 200 |   2.53738463s |       127.0.0.1 | POST     \"/api/generate\"\n"
     ]
    },
    {
     "name": "stderr",
     "output_type": "stream",
     "text": [
      "Generating responses:  25%|██▍       | 257/1039 [14:21<56:58,  4.37s/it]"
     ]
    },
    {
     "name": "stdout",
     "output_type": "stream",
     "text": [
      "[GIN] 2024/10/24 - 11:17:39 | 200 |  1.801263428s |       127.0.0.1 | POST     \"/api/generate\"\n",
      "INFO [update_slots] input truncated | n_ctx=2048 n_erase=66589 n_keep=4 n_left=2044 n_shift=1022 tid=\"138523311972352\" timestamp=1729768660\n",
      "[GIN] 2024/10/24 - 11:17:41 | 200 |  2.583987193s |       127.0.0.1 | POST     \"/api/generate\"\n"
     ]
    },
    {
     "name": "stderr",
     "output_type": "stream",
     "text": [
      "Generating responses:  25%|██▍       | 258/1039 [14:25<54:00,  4.15s/it]"
     ]
    },
    {
     "name": "stdout",
     "output_type": "stream",
     "text": [
      "[GIN] 2024/10/24 - 11:17:42 | 200 |  846.945075ms |       127.0.0.1 | POST     \"/api/generate\"\n",
      "INFO [update_slots] input truncated | n_ctx=2048 n_erase=66830 n_keep=4 n_left=2044 n_shift=1022 tid=\"138523311972352\" timestamp=1729768663\n",
      "[GIN] 2024/10/24 - 11:17:45 | 200 |  2.681119984s |       127.0.0.1 | POST     \"/api/generate\"\n"
     ]
    },
    {
     "name": "stderr",
     "output_type": "stream",
     "text": [
      "Generating responses:  25%|██▍       | 259/1039 [14:29<56:12,  4.32s/it]"
     ]
    },
    {
     "name": "stdout",
     "output_type": "stream",
     "text": [
      "[GIN] 2024/10/24 - 11:17:47 | 200 |  1.844828455s |       127.0.0.1 | POST     \"/api/generate\"\n",
      "INFO [update_slots] input truncated | n_ctx=2048 n_erase=67130 n_keep=4 n_left=2044 n_shift=1022 tid=\"138523311972352\" timestamp=1729768668\n",
      "[GIN] 2024/10/24 - 11:17:50 | 200 |  2.536055041s |       127.0.0.1 | POST     \"/api/generate\"\n",
      "[GIN] 2024/10/24 - 11:17:51 | 200 |  686.749414ms |       127.0.0.1 | POST     \"/api/generate\"\n"
     ]
    },
    {
     "name": "stderr",
     "output_type": "stream",
     "text": [
      "Generating responses:  25%|██▌       | 260/1039 [14:34<55:46,  4.30s/it]"
     ]
    },
    {
     "name": "stdout",
     "output_type": "stream",
     "text": [
      "[GIN] 2024/10/24 - 11:17:51 | 200 |  812.011813ms |       127.0.0.1 | POST     \"/api/generate\"\n",
      "INFO [update_slots] input truncated | n_ctx=2048 n_erase=67376 n_keep=4 n_left=2044 n_shift=1022 tid=\"138523311972352\" timestamp=1729768672\n",
      "[GIN] 2024/10/24 - 11:17:54 | 200 |  2.869213378s |       127.0.0.1 | POST     \"/api/generate\"\n"
     ]
    },
    {
     "name": "stderr",
     "output_type": "stream",
     "text": [
      "Generating responses:  25%|██▌       | 261/1039 [14:38<56:44,  4.38s/it]"
     ]
    },
    {
     "name": "stdout",
     "output_type": "stream",
     "text": [
      "[GIN] 2024/10/24 - 11:17:56 | 200 |  1.497513898s |       127.0.0.1 | POST     \"/api/generate\"\n",
      "INFO [update_slots] input truncated | n_ctx=2048 n_erase=67659 n_keep=4 n_left=2044 n_shift=1022 tid=\"138523311972352\" timestamp=1729768677\n",
      "[GIN] 2024/10/24 - 11:17:59 | 200 |  2.566312537s |       127.0.0.1 | POST     \"/api/generate\"\n"
     ]
    },
    {
     "name": "stderr",
     "output_type": "stream",
     "text": [
      "Generating responses:  25%|██▌       | 262/1039 [14:42<53:14,  4.11s/it]"
     ]
    },
    {
     "name": "stdout",
     "output_type": "stream",
     "text": [
      "[GIN] 2024/10/24 - 11:17:59 | 200 |  728.585191ms |       127.0.0.1 | POST     \"/api/generate\"\n",
      "INFO [update_slots] input truncated | n_ctx=2048 n_erase=67896 n_keep=4 n_left=2044 n_shift=1022 tid=\"138523311972352\" timestamp=1729768680\n",
      "[GIN] 2024/10/24 - 11:18:02 | 200 |   2.57991503s |       127.0.0.1 | POST     \"/api/generate\"\n"
     ]
    },
    {
     "name": "stderr",
     "output_type": "stream",
     "text": [
      "Generating responses:  25%|██▌       | 263/1039 [14:46<52:54,  4.09s/it]"
     ]
    },
    {
     "name": "stdout",
     "output_type": "stream",
     "text": [
      "[GIN] 2024/10/24 - 11:18:03 | 200 |  1.278017045s |       127.0.0.1 | POST     \"/api/generate\"\n",
      "INFO [update_slots] input truncated | n_ctx=2048 n_erase=68166 n_keep=4 n_left=2044 n_shift=1022 tid=\"138523311972352\" timestamp=1729768684\n",
      "[GIN] 2024/10/24 - 11:18:06 | 200 |  2.602646904s |       127.0.0.1 | POST     \"/api/generate\"\n"
     ]
    },
    {
     "name": "stderr",
     "output_type": "stream",
     "text": [
      "Generating responses:  25%|██▌       | 264/1039 [14:50<53:16,  4.12s/it]"
     ]
    },
    {
     "name": "stdout",
     "output_type": "stream",
     "text": [
      "[GIN] 2024/10/24 - 11:18:08 | 200 |  1.404179872s |       127.0.0.1 | POST     \"/api/generate\"\n",
      "INFO [update_slots] input truncated | n_ctx=2048 n_erase=68444 n_keep=4 n_left=2044 n_shift=1022 tid=\"138523311972352\" timestamp=1729768688\n",
      "[GIN] 2024/10/24 - 11:18:10 | 200 |   2.72121358s |       127.0.0.1 | POST     \"/api/generate\"\n"
     ]
    },
    {
     "name": "stderr",
     "output_type": "stream",
     "text": [
      "Generating responses:  26%|██▌       | 265/1039 [14:54<51:49,  4.02s/it]"
     ]
    },
    {
     "name": "stdout",
     "output_type": "stream",
     "text": [
      "[GIN] 2024/10/24 - 11:18:11 | 200 |  849.723296ms |       127.0.0.1 | POST     \"/api/generate\"\n",
      "INFO [update_slots] input truncated | n_ctx=2048 n_erase=68691 n_keep=4 n_left=2044 n_shift=1022 tid=\"138523311972352\" timestamp=1729768692\n",
      "[GIN] 2024/10/24 - 11:18:14 | 200 |  2.813084165s |       127.0.0.1 | POST     \"/api/generate\"\n"
     ]
    },
    {
     "name": "stderr",
     "output_type": "stream",
     "text": [
      "Generating responses:  26%|██▌       | 266/1039 [14:57<51:00,  3.96s/it]"
     ]
    },
    {
     "name": "stdout",
     "output_type": "stream",
     "text": [
      "[GIN] 2024/10/24 - 11:18:15 | 200 |  811.941497ms |       127.0.0.1 | POST     \"/api/generate\"\n",
      "INFO [update_slots] input truncated | n_ctx=2048 n_erase=68934 n_keep=4 n_left=2044 n_shift=1022 tid=\"138523311972352\" timestamp=1729768696\n",
      "[GIN] 2024/10/24 - 11:18:18 | 200 |  2.643319486s |       127.0.0.1 | POST     \"/api/generate\"\n"
     ]
    },
    {
     "name": "stderr",
     "output_type": "stream",
     "text": [
      "Generating responses:  26%|██▌       | 267/1039 [15:01<50:37,  3.94s/it]"
     ]
    },
    {
     "name": "stdout",
     "output_type": "stream",
     "text": [
      "[GIN] 2024/10/24 - 11:18:19 | 200 |   1.03548978s |       127.0.0.1 | POST     \"/api/generate\"\n",
      "INFO [update_slots] input truncated | n_ctx=2048 n_erase=69186 n_keep=4 n_left=2044 n_shift=1022 tid=\"138523311972352\" timestamp=1729768700\n",
      "[GIN] 2024/10/24 - 11:18:22 | 200 |  2.717375077s |       127.0.0.1 | POST     \"/api/generate\"\n"
     ]
    },
    {
     "name": "stderr",
     "output_type": "stream",
     "text": [
      "Generating responses:  26%|██▌       | 268/1039 [15:05<49:56,  3.89s/it]"
     ]
    },
    {
     "name": "stdout",
     "output_type": "stream",
     "text": [
      "[GIN] 2024/10/24 - 11:18:23 | 200 |  856.663603ms |       127.0.0.1 | POST     \"/api/generate\"\n",
      "INFO [update_slots] input truncated | n_ctx=2048 n_erase=69425 n_keep=4 n_left=2044 n_shift=1022 tid=\"138523311972352\" timestamp=1729768704\n",
      "[GIN] 2024/10/24 - 11:18:26 | 200 |  2.880467419s |       127.0.0.1 | POST     \"/api/generate\"\n"
     ]
    },
    {
     "name": "stderr",
     "output_type": "stream",
     "text": [
      "Generating responses:  26%|██▌       | 269/1039 [15:09<50:50,  3.96s/it]"
     ]
    },
    {
     "name": "stdout",
     "output_type": "stream",
     "text": [
      "[GIN] 2024/10/24 - 11:18:27 | 200 |  1.060138617s |       127.0.0.1 | POST     \"/api/generate\"\n",
      "INFO [update_slots] input truncated | n_ctx=2048 n_erase=69678 n_keep=4 n_left=2044 n_shift=1022 tid=\"138523311972352\" timestamp=1729768708\n",
      "[GIN] 2024/10/24 - 11:18:30 | 200 |  2.619783503s |       127.0.0.1 | POST     \"/api/generate\"\n",
      "[GIN] 2024/10/24 - 11:18:31 | 200 |  641.892951ms |       127.0.0.1 | POST     \"/api/generate\"\n"
     ]
    },
    {
     "name": "stderr",
     "output_type": "stream",
     "text": [
      "Generating responses:  26%|██▌       | 270/1039 [15:14<53:15,  4.16s/it]"
     ]
    },
    {
     "name": "stdout",
     "output_type": "stream",
     "text": [
      "[GIN] 2024/10/24 - 11:18:32 | 200 |  1.141106314s |       127.0.0.1 | POST     \"/api/generate\"\n",
      "INFO [update_slots] input truncated | n_ctx=2048 n_erase=69913 n_keep=4 n_left=2044 n_shift=1022 tid=\"138523311972352\" timestamp=1729768713\n",
      "[GIN] 2024/10/24 - 11:18:34 | 200 |  2.645596787s |       127.0.0.1 | POST     \"/api/generate\"\n"
     ]
    },
    {
     "name": "stderr",
     "output_type": "stream",
     "text": [
      "Generating responses:  26%|██▌       | 271/1039 [15:17<51:08,  4.00s/it]"
     ]
    },
    {
     "name": "stdout",
     "output_type": "stream",
     "text": [
      "[GIN] 2024/10/24 - 11:18:35 | 200 |  783.094283ms |       127.0.0.1 | POST     \"/api/generate\"\n",
      "INFO [update_slots] input truncated | n_ctx=2048 n_erase=70153 n_keep=4 n_left=2044 n_shift=1022 tid=\"138523311972352\" timestamp=1729768716\n",
      "[GIN] 2024/10/24 - 11:18:38 | 200 |  2.548367544s |       127.0.0.1 | POST     \"/api/generate\"\n"
     ]
    },
    {
     "name": "stderr",
     "output_type": "stream",
     "text": [
      "Generating responses:  26%|██▌       | 272/1039 [15:21<49:04,  3.84s/it]"
     ]
    },
    {
     "name": "stdout",
     "output_type": "stream",
     "text": [
      "[GIN] 2024/10/24 - 11:18:39 | 200 |  716.063474ms |       127.0.0.1 | POST     \"/api/generate\"\n",
      "INFO [update_slots] input truncated | n_ctx=2048 n_erase=70387 n_keep=4 n_left=2044 n_shift=1022 tid=\"138523311972352\" timestamp=1729768720\n",
      "[GIN] 2024/10/24 - 11:18:41 | 200 |  2.647093027s |       127.0.0.1 | POST     \"/api/generate\"\n",
      "[GIN] 2024/10/24 - 11:18:43 | 200 |  932.556297ms |       127.0.0.1 | POST     \"/api/generate\"\n"
     ]
    },
    {
     "name": "stderr",
     "output_type": "stream",
     "text": [
      "Generating responses:  26%|██▋       | 273/1039 [15:26<52:48,  4.14s/it]"
     ]
    },
    {
     "name": "stdout",
     "output_type": "stream",
     "text": [
      "[GIN] 2024/10/24 - 11:18:44 | 200 |  1.038332265s |       127.0.0.1 | POST     \"/api/generate\"\n",
      "INFO [update_slots] input truncated | n_ctx=2048 n_erase=70639 n_keep=4 n_left=2044 n_shift=1022 tid=\"138523311972352\" timestamp=1729768725\n",
      "[GIN] 2024/10/24 - 11:18:46 | 200 |  2.824755423s |       127.0.0.1 | POST     \"/api/generate\"\n"
     ]
    },
    {
     "name": "stderr",
     "output_type": "stream",
     "text": [
      "Generating responses:  26%|██▋       | 274/1039 [15:30<52:36,  4.13s/it]"
     ]
    },
    {
     "name": "stdout",
     "output_type": "stream",
     "text": [
      "[GIN] 2024/10/24 - 11:18:48 | 200 |  1.057205847s |       127.0.0.1 | POST     \"/api/generate\"\n",
      "INFO [update_slots] input truncated | n_ctx=2048 n_erase=70893 n_keep=4 n_left=2044 n_shift=1022 tid=\"138523311972352\" timestamp=1729768729\n",
      "[GIN] 2024/10/24 - 11:18:51 | 200 |  2.917388161s |       127.0.0.1 | POST     \"/api/generate\"\n"
     ]
    },
    {
     "name": "stderr",
     "output_type": "stream",
     "text": [
      "Generating responses:  26%|██▋       | 275/1039 [15:34<53:30,  4.20s/it]"
     ]
    },
    {
     "name": "stdout",
     "output_type": "stream",
     "text": [
      "[GIN] 2024/10/24 - 11:18:52 | 200 |  1.251255667s |       127.0.0.1 | POST     \"/api/generate\"\n",
      "INFO [update_slots] input truncated | n_ctx=2048 n_erase=71163 n_keep=4 n_left=2044 n_shift=1022 tid=\"138523311972352\" timestamp=1729768733\n",
      "[GIN] 2024/10/24 - 11:18:55 | 200 |  2.667188399s |       127.0.0.1 | POST     \"/api/generate\"\n"
     ]
    },
    {
     "name": "stderr",
     "output_type": "stream",
     "text": [
      "Generating responses:  27%|██▋       | 276/1039 [15:38<51:38,  4.06s/it]"
     ]
    },
    {
     "name": "stdout",
     "output_type": "stream",
     "text": [
      "[GIN] 2024/10/24 - 11:18:56 | 200 |  845.480811ms |       127.0.0.1 | POST     \"/api/generate\"\n",
      "INFO [update_slots] input truncated | n_ctx=2048 n_erase=71403 n_keep=4 n_left=2044 n_shift=1022 tid=\"138523311972352\" timestamp=1729768737\n",
      "[GIN] 2024/10/24 - 11:18:59 | 200 |  2.780281458s |       127.0.0.1 | POST     \"/api/generate\"\n"
     ]
    },
    {
     "name": "stderr",
     "output_type": "stream",
     "text": [
      "Generating responses:  27%|██▋       | 277/1039 [15:42<51:22,  4.04s/it]"
     ]
    },
    {
     "name": "stdout",
     "output_type": "stream",
     "text": [
      "[GIN] 2024/10/24 - 11:19:00 | 200 |  977.589456ms |       127.0.0.1 | POST     \"/api/generate\"\n",
      "INFO [update_slots] input truncated | n_ctx=2048 n_erase=71655 n_keep=4 n_left=2044 n_shift=1022 tid=\"138523311972352\" timestamp=1729768741\n",
      "[GIN] 2024/10/24 - 11:19:03 | 200 |  2.763435336s |       127.0.0.1 | POST     \"/api/generate\"\n"
     ]
    },
    {
     "name": "stderr",
     "output_type": "stream",
     "text": [
      "Generating responses:  27%|██▋       | 278/1039 [15:46<52:19,  4.13s/it]"
     ]
    },
    {
     "name": "stdout",
     "output_type": "stream",
     "text": [
      "[GIN] 2024/10/24 - 11:19:04 | 200 |  1.334787086s |       127.0.0.1 | POST     \"/api/generate\"\n",
      "INFO [update_slots] input truncated | n_ctx=2048 n_erase=71929 n_keep=4 n_left=2044 n_shift=1022 tid=\"138523311972352\" timestamp=1729768745\n",
      "[GIN] 2024/10/24 - 11:19:07 | 200 |  2.682585646s |       127.0.0.1 | POST     \"/api/generate\"\n"
     ]
    },
    {
     "name": "stderr",
     "output_type": "stream",
     "text": [
      "Generating responses:  27%|██▋       | 279/1039 [15:50<51:33,  4.07s/it]"
     ]
    },
    {
     "name": "stdout",
     "output_type": "stream",
     "text": [
      "[GIN] 2024/10/24 - 11:19:08 | 200 |  1.042484413s |       127.0.0.1 | POST     \"/api/generate\"\n",
      "INFO [update_slots] input truncated | n_ctx=2048 n_erase=72187 n_keep=4 n_left=2044 n_shift=1022 tid=\"138523311972352\" timestamp=1729768749\n",
      "[GIN] 2024/10/24 - 11:19:11 | 200 |  2.875477111s |       127.0.0.1 | POST     \"/api/generate\"\n"
     ]
    },
    {
     "name": "stderr",
     "output_type": "stream",
     "text": [
      "Generating responses:  27%|██▋       | 280/1039 [15:55<52:54,  4.18s/it]"
     ]
    },
    {
     "name": "stdout",
     "output_type": "stream",
     "text": [
      "[GIN] 2024/10/24 - 11:19:13 | 200 |  1.354065157s |       127.0.0.1 | POST     \"/api/generate\"\n",
      "INFO [update_slots] input truncated | n_ctx=2048 n_erase=72469 n_keep=4 n_left=2044 n_shift=1022 tid=\"138523311972352\" timestamp=1729768753\n",
      "[GIN] 2024/10/24 - 11:19:15 | 200 |  2.746312386s |       127.0.0.1 | POST     \"/api/generate\"\n"
     ]
    },
    {
     "name": "stderr",
     "output_type": "stream",
     "text": [
      "Generating responses:  27%|██▋       | 281/1039 [15:58<50:57,  4.03s/it]"
     ]
    },
    {
     "name": "stdout",
     "output_type": "stream",
     "text": [
      "[GIN] 2024/10/24 - 11:19:16 | 200 |  724.776919ms |       127.0.0.1 | POST     \"/api/generate\"\n",
      "INFO [update_slots] input truncated | n_ctx=2048 n_erase=72705 n_keep=4 n_left=2044 n_shift=1022 tid=\"138523311972352\" timestamp=1729768757\n",
      "[GIN] 2024/10/24 - 11:19:19 | 200 |  2.636404163s |       127.0.0.1 | POST     \"/api/generate\"\n"
     ]
    },
    {
     "name": "stderr",
     "output_type": "stream",
     "text": [
      "Generating responses:  27%|██▋       | 282/1039 [16:02<50:11,  3.98s/it]"
     ]
    },
    {
     "name": "stdout",
     "output_type": "stream",
     "text": [
      "[GIN] 2024/10/24 - 11:19:20 | 200 |  989.182436ms |       127.0.0.1 | POST     \"/api/generate\"\n",
      "INFO [update_slots] input truncated | n_ctx=2048 n_erase=72968 n_keep=4 n_left=2044 n_shift=1022 tid=\"138523311972352\" timestamp=1729768761\n",
      "[GIN] 2024/10/24 - 11:19:23 | 200 |  2.751797665s |       127.0.0.1 | POST     \"/api/generate\"\n"
     ]
    },
    {
     "name": "stderr",
     "output_type": "stream",
     "text": [
      "Generating responses:  27%|██▋       | 283/1039 [16:06<49:11,  3.90s/it]"
     ]
    },
    {
     "name": "stdout",
     "output_type": "stream",
     "text": [
      "[GIN] 2024/10/24 - 11:19:24 | 200 |  770.148169ms |       127.0.0.1 | POST     \"/api/generate\"\n",
      "INFO [update_slots] input truncated | n_ctx=2048 n_erase=73208 n_keep=4 n_left=2044 n_shift=1022 tid=\"138523311972352\" timestamp=1729768765\n",
      "[GIN] 2024/10/24 - 11:19:26 | 200 |  2.638230506s |       127.0.0.1 | POST     \"/api/generate\"\n"
     ]
    },
    {
     "name": "stderr",
     "output_type": "stream",
     "text": [
      "Generating responses:  27%|██▋       | 284/1039 [16:10<48:34,  3.86s/it]"
     ]
    },
    {
     "name": "stdout",
     "output_type": "stream",
     "text": [
      "[GIN] 2024/10/24 - 11:19:28 | 200 |  906.501991ms |       127.0.0.1 | POST     \"/api/generate\"\n",
      "INFO [update_slots] input truncated | n_ctx=2048 n_erase=73458 n_keep=4 n_left=2044 n_shift=1022 tid=\"138523311972352\" timestamp=1729768768\n",
      "[GIN] 2024/10/24 - 11:19:30 | 200 |  2.818506203s |       127.0.0.1 | POST     \"/api/generate\"\n"
     ]
    },
    {
     "name": "stderr",
     "output_type": "stream",
     "text": [
      "Generating responses:  27%|██▋       | 285/1039 [16:14<48:56,  3.89s/it]"
     ]
    },
    {
     "name": "stdout",
     "output_type": "stream",
     "text": [
      "[GIN] 2024/10/24 - 11:19:32 | 200 |  917.929732ms |       127.0.0.1 | POST     \"/api/generate\"\n",
      "INFO [update_slots] input truncated | n_ctx=2048 n_erase=73710 n_keep=4 n_left=2044 n_shift=1022 tid=\"138523311972352\" timestamp=1729768772\n",
      "[GIN] 2024/10/24 - 11:19:35 | 200 |  3.200366038s |       127.0.0.1 | POST     \"/api/generate\"\n"
     ]
    },
    {
     "name": "stderr",
     "output_type": "stream",
     "text": [
      "Generating responses:  28%|██▊       | 286/1039 [16:19<53:32,  4.27s/it]"
     ]
    },
    {
     "name": "stdout",
     "output_type": "stream",
     "text": [
      "[GIN] 2024/10/24 - 11:19:37 | 200 |  1.719388323s |       127.0.0.1 | POST     \"/api/generate\"\n",
      "INFO [update_slots] input truncated | n_ctx=2048 n_erase=74003 n_keep=4 n_left=2044 n_shift=1022 tid=\"138523311972352\" timestamp=1729768778\n",
      "[GIN] 2024/10/24 - 11:19:40 | 200 |  2.864187626s |       127.0.0.1 | POST     \"/api/generate\"\n"
     ]
    },
    {
     "name": "stderr",
     "output_type": "stream",
     "text": [
      "Generating responses:  28%|██▊       | 287/1039 [16:23<54:32,  4.35s/it]"
     ]
    },
    {
     "name": "stdout",
     "output_type": "stream",
     "text": [
      "[GIN] 2024/10/24 - 11:19:41 | 200 |  1.470020393s |       127.0.0.1 | POST     \"/api/generate\"\n",
      "INFO [update_slots] input truncated | n_ctx=2048 n_erase=74285 n_keep=4 n_left=2044 n_shift=1022 tid=\"138523311972352\" timestamp=1729768782\n",
      "[GIN] 2024/10/24 - 11:19:44 | 200 |   2.72861917s |       127.0.0.1 | POST     \"/api/generate\"\n"
     ]
    },
    {
     "name": "stderr",
     "output_type": "stream",
     "text": [
      "Generating responses:  28%|██▊       | 288/1039 [16:28<53:58,  4.31s/it]"
     ]
    },
    {
     "name": "stdout",
     "output_type": "stream",
     "text": [
      "[GIN] 2024/10/24 - 11:19:45 | 200 |  1.275401822s |       127.0.0.1 | POST     \"/api/generate\"\n",
      "INFO [update_slots] input truncated | n_ctx=2048 n_erase=74555 n_keep=4 n_left=2044 n_shift=1022 tid=\"138523311972352\" timestamp=1729768786\n",
      "[GIN] 2024/10/24 - 11:19:48 | 200 |  2.790491393s |       127.0.0.1 | POST     \"/api/generate\"\n"
     ]
    },
    {
     "name": "stderr",
     "output_type": "stream",
     "text": [
      "Generating responses:  28%|██▊       | 289/1039 [16:32<53:18,  4.26s/it]"
     ]
    },
    {
     "name": "stdout",
     "output_type": "stream",
     "text": [
      "[GIN] 2024/10/24 - 11:19:50 | 200 |  1.142674861s |       127.0.0.1 | POST     \"/api/generate\"\n",
      "INFO [update_slots] input truncated | n_ctx=2048 n_erase=74837 n_keep=4 n_left=2044 n_shift=1022 tid=\"138523311972352\" timestamp=1729768790\n",
      "[GIN] 2024/10/24 - 11:19:52 | 200 |  2.686159782s |       127.0.0.1 | POST     \"/api/generate\"\n"
     ]
    },
    {
     "name": "stderr",
     "output_type": "stream",
     "text": [
      "Generating responses:  28%|██▊       | 290/1039 [16:36<51:32,  4.13s/it]"
     ]
    },
    {
     "name": "stdout",
     "output_type": "stream",
     "text": [
      "[GIN] 2024/10/24 - 11:19:53 | 200 |  904.013351ms |       127.0.0.1 | POST     \"/api/generate\"\n",
      "INFO [update_slots] input truncated | n_ctx=2048 n_erase=75087 n_keep=4 n_left=2044 n_shift=1022 tid=\"138523311972352\" timestamp=1729768794\n",
      "[GIN] 2024/10/24 - 11:19:56 | 200 |  3.090348063s |       127.0.0.1 | POST     \"/api/generate\"\n"
     ]
    },
    {
     "name": "stderr",
     "output_type": "stream",
     "text": [
      "Generating responses:  28%|██▊       | 291/1039 [16:40<53:51,  4.32s/it]"
     ]
    },
    {
     "name": "stdout",
     "output_type": "stream",
     "text": [
      "[GIN] 2024/10/24 - 11:19:58 | 200 |  1.457134203s |       127.0.0.1 | POST     \"/api/generate\"\n",
      "INFO [update_slots] input truncated | n_ctx=2048 n_erase=75365 n_keep=4 n_left=2044 n_shift=1022 tid=\"138523311972352\" timestamp=1729768799\n",
      "[GIN] 2024/10/24 - 11:20:01 | 200 |  2.792068521s |       127.0.0.1 | POST     \"/api/generate\"\n"
     ]
    },
    {
     "name": "stderr",
     "output_type": "stream",
     "text": [
      "Generating responses:  28%|██▊       | 292/1039 [16:45<53:28,  4.29s/it]"
     ]
    },
    {
     "name": "stdout",
     "output_type": "stream",
     "text": [
      "[GIN] 2024/10/24 - 11:20:02 | 200 |  1.225001956s |       127.0.0.1 | POST     \"/api/generate\"\n",
      "INFO [update_slots] input truncated | n_ctx=2048 n_erase=75628 n_keep=4 n_left=2044 n_shift=1022 tid=\"138523311972352\" timestamp=1729768803\n",
      "[GIN] 2024/10/24 - 11:20:05 | 200 |    2.6170729s |       127.0.0.1 | POST     \"/api/generate\"\n"
     ]
    },
    {
     "name": "stderr",
     "output_type": "stream",
     "text": [
      "Generating responses:  28%|██▊       | 293/1039 [16:49<52:16,  4.21s/it]"
     ]
    },
    {
     "name": "stdout",
     "output_type": "stream",
     "text": [
      "[GIN] 2024/10/24 - 11:20:06 | 200 |    1.1565655s |       127.0.0.1 | POST     \"/api/generate\"\n",
      "INFO [update_slots] input truncated | n_ctx=2048 n_erase=75893 n_keep=4 n_left=2044 n_shift=1022 tid=\"138523311972352\" timestamp=1729768807\n",
      "[GIN] 2024/10/24 - 11:20:09 | 200 |   2.84923769s |       127.0.0.1 | POST     \"/api/generate\"\n"
     ]
    },
    {
     "name": "stderr",
     "output_type": "stream",
     "text": [
      "Generating responses:  28%|██▊       | 294/1039 [16:54<55:10,  4.44s/it]"
     ]
    },
    {
     "name": "stdout",
     "output_type": "stream",
     "text": [
      "[GIN] 2024/10/24 - 11:20:11 | 200 |  1.933427041s |       127.0.0.1 | POST     \"/api/generate\"\n",
      "INFO [update_slots] input truncated | n_ctx=2048 n_erase=76197 n_keep=4 n_left=2044 n_shift=1022 tid=\"138523311972352\" timestamp=1729768812\n",
      "[GIN] 2024/10/24 - 11:20:14 | 200 |  2.708985636s |       127.0.0.1 | POST     \"/api/generate\"\n"
     ]
    },
    {
     "name": "stderr",
     "output_type": "stream",
     "text": [
      "Generating responses:  28%|██▊       | 295/1039 [16:57<52:23,  4.22s/it]"
     ]
    },
    {
     "name": "stdout",
     "output_type": "stream",
     "text": [
      "[GIN] 2024/10/24 - 11:20:15 | 200 |  784.627522ms |       127.0.0.1 | POST     \"/api/generate\"\n",
      "INFO [update_slots] input truncated | n_ctx=2048 n_erase=76434 n_keep=4 n_left=2044 n_shift=1022 tid=\"138523311972352\" timestamp=1729768816\n",
      "[GIN] 2024/10/24 - 11:20:18 | 200 |   2.63629896s |       127.0.0.1 | POST     \"/api/generate\"\n"
     ]
    },
    {
     "name": "stderr",
     "output_type": "stream",
     "text": [
      "Generating responses:  28%|██▊       | 296/1039 [17:01<50:45,  4.10s/it]"
     ]
    },
    {
     "name": "stdout",
     "output_type": "stream",
     "text": [
      "[GIN] 2024/10/24 - 11:20:19 | 200 |  946.216448ms |       127.0.0.1 | POST     \"/api/generate\"\n",
      "INFO [update_slots] input truncated | n_ctx=2048 n_erase=76687 n_keep=4 n_left=2044 n_shift=1022 tid=\"138523311972352\" timestamp=1729768820\n",
      "[GIN] 2024/10/24 - 11:20:22 | 200 |  2.816463206s |       127.0.0.1 | POST     \"/api/generate\"\n"
     ]
    },
    {
     "name": "stderr",
     "output_type": "stream",
     "text": [
      "Generating responses:  29%|██▊       | 297/1039 [17:06<52:13,  4.22s/it]"
     ]
    },
    {
     "name": "stdout",
     "output_type": "stream",
     "text": [
      "[GIN] 2024/10/24 - 11:20:23 | 200 |  1.475510264s |       127.0.0.1 | POST     \"/api/generate\"\n",
      "INFO [update_slots] input truncated | n_ctx=2048 n_erase=76961 n_keep=4 n_left=2044 n_shift=1022 tid=\"138523311972352\" timestamp=1729768824\n",
      "[GIN] 2024/10/24 - 11:20:26 | 200 |  2.737227661s |       127.0.0.1 | POST     \"/api/generate\"\n"
     ]
    },
    {
     "name": "stderr",
     "output_type": "stream",
     "text": [
      "Generating responses:  29%|██▊       | 298/1039 [17:10<53:36,  4.34s/it]"
     ]
    },
    {
     "name": "stdout",
     "output_type": "stream",
     "text": [
      "[GIN] 2024/10/24 - 11:20:28 | 200 |   1.65205179s |       127.0.0.1 | POST     \"/api/generate\"\n",
      "INFO [update_slots] input truncated | n_ctx=2048 n_erase=77251 n_keep=4 n_left=2044 n_shift=1022 tid=\"138523311972352\" timestamp=1729768829\n",
      "[GIN] 2024/10/24 - 11:20:31 | 200 |  2.738598934s |       127.0.0.1 | POST     \"/api/generate\"\n"
     ]
    },
    {
     "name": "stderr",
     "output_type": "stream",
     "text": [
      "Generating responses:  29%|██▉       | 299/1039 [17:14<53:13,  4.32s/it]"
     ]
    },
    {
     "name": "stdout",
     "output_type": "stream",
     "text": [
      "[GIN] 2024/10/24 - 11:20:32 | 200 |  1.301863778s |       127.0.0.1 | POST     \"/api/generate\"\n",
      "INFO [update_slots] input truncated | n_ctx=2048 n_erase=77523 n_keep=4 n_left=2044 n_shift=1022 tid=\"138523311972352\" timestamp=1729768833\n",
      "[GIN] 2024/10/24 - 11:20:35 | 200 |  2.788497003s |       127.0.0.1 | POST     \"/api/generate\"\n"
     ]
    },
    {
     "name": "stderr",
     "output_type": "stream",
     "text": [
      "Generating responses:  29%|██▉       | 300/1039 [17:19<53:27,  4.34s/it]"
     ]
    },
    {
     "name": "stdout",
     "output_type": "stream",
     "text": [
      "[GIN] 2024/10/24 - 11:20:37 | 200 |  1.386792877s |       127.0.0.1 | POST     \"/api/generate\"\n",
      "INFO [update_slots] input truncated | n_ctx=2048 n_erase=77799 n_keep=4 n_left=2044 n_shift=1022 tid=\"138523311972352\" timestamp=1729768838\n",
      "[GIN] 2024/10/24 - 11:20:40 | 200 |  2.983201107s |       127.0.0.1 | POST     \"/api/generate\"\n"
     ]
    },
    {
     "name": "stderr",
     "output_type": "stream",
     "text": [
      "Generating responses:  29%|██▉       | 301/1039 [17:24<54:57,  4.47s/it]"
     ]
    },
    {
     "name": "stdout",
     "output_type": "stream",
     "text": [
      "[GIN] 2024/10/24 - 11:20:41 | 200 |  1.541987233s |       127.0.0.1 | POST     \"/api/generate\"\n",
      "INFO [update_slots] input truncated | n_ctx=2048 n_erase=78081 n_keep=4 n_left=2044 n_shift=1022 tid=\"138523311972352\" timestamp=1729768842\n",
      "[GIN] 2024/10/24 - 11:20:44 | 200 |  2.884525657s |       127.0.0.1 | POST     \"/api/generate\"\n"
     ]
    },
    {
     "name": "stderr",
     "output_type": "stream",
     "text": [
      "Generating responses:  29%|██▉       | 302/1039 [17:28<52:59,  4.31s/it]"
     ]
    },
    {
     "name": "stdout",
     "output_type": "stream",
     "text": [
      "[GIN] 2024/10/24 - 11:20:45 | 200 |  824.183483ms |       127.0.0.1 | POST     \"/api/generate\"\n",
      "INFO [update_slots] input truncated | n_ctx=2048 n_erase=78320 n_keep=4 n_left=2044 n_shift=1022 tid=\"138523311972352\" timestamp=1729768846\n",
      "[GIN] 2024/10/24 - 11:20:48 | 200 |  2.773030004s |       127.0.0.1 | POST     \"/api/generate\"\n"
     ]
    },
    {
     "name": "stderr",
     "output_type": "stream",
     "text": [
      "Generating responses:  29%|██▉       | 303/1039 [17:31<51:01,  4.16s/it]"
     ]
    },
    {
     "name": "stdout",
     "output_type": "stream",
     "text": [
      "[GIN] 2024/10/24 - 11:20:49 | 200 |   798.73885ms |       127.0.0.1 | POST     \"/api/generate\"\n",
      "INFO [update_slots] input truncated | n_ctx=2048 n_erase=78570 n_keep=4 n_left=2044 n_shift=1022 tid=\"138523311972352\" timestamp=1729768850\n",
      "[GIN] 2024/10/24 - 11:20:52 | 200 |  2.793258293s |       127.0.0.1 | POST     \"/api/generate\"\n",
      "[GIN] 2024/10/24 - 11:20:53 | 200 |  939.627724ms |       127.0.0.1 | POST     \"/api/generate\"\n"
     ]
    },
    {
     "name": "stderr",
     "output_type": "stream",
     "text": [
      "Generating responses:  29%|██▉       | 304/1039 [17:37<55:35,  4.54s/it]"
     ]
    },
    {
     "name": "stdout",
     "output_type": "stream",
     "text": [
      "[GIN] 2024/10/24 - 11:20:55 | 200 |  1.454761461s |       127.0.0.1 | POST     \"/api/generate\"\n",
      "INFO [update_slots] input truncated | n_ctx=2048 n_erase=78827 n_keep=4 n_left=2044 n_shift=1022 tid=\"138523311972352\" timestamp=1729768856\n",
      "[GIN] 2024/10/24 - 11:20:58 | 200 |  3.143415202s |       127.0.0.1 | POST     \"/api/generate\"\n"
     ]
    },
    {
     "name": "stderr",
     "output_type": "stream",
     "text": [
      "Generating responses:  29%|██▉       | 305/1039 [17:42<58:22,  4.77s/it]"
     ]
    },
    {
     "name": "stdout",
     "output_type": "stream",
     "text": [
      "[GIN] 2024/10/24 - 11:21:00 | 200 |  1.930163506s |       127.0.0.1 | POST     \"/api/generate\"\n",
      "INFO [update_slots] input truncated | n_ctx=2048 n_erase=79135 n_keep=4 n_left=2044 n_shift=1022 tid=\"138523311972352\" timestamp=1729768861\n",
      "[GIN] 2024/10/24 - 11:21:03 | 200 |  3.036508557s |       127.0.0.1 | POST     \"/api/generate\"\n"
     ]
    },
    {
     "name": "stderr",
     "output_type": "stream",
     "text": [
      "Generating responses:  29%|██▉       | 306/1039 [17:46<56:00,  4.58s/it]"
     ]
    },
    {
     "name": "stdout",
     "output_type": "stream",
     "text": [
      "[GIN] 2024/10/24 - 11:21:04 | 200 |  875.944542ms |       127.0.0.1 | POST     \"/api/generate\"\n",
      "INFO [update_slots] input truncated | n_ctx=2048 n_erase=79379 n_keep=4 n_left=2044 n_shift=1022 tid=\"138523311972352\" timestamp=1729768865\n",
      "[GIN] 2024/10/24 - 11:21:07 | 200 |  2.686714361s |       127.0.0.1 | POST     \"/api/generate\"\n",
      "[GIN] 2024/10/24 - 11:21:08 | 200 |  700.698496ms |       127.0.0.1 | POST     \"/api/generate\"\n"
     ]
    },
    {
     "name": "stderr",
     "output_type": "stream",
     "text": [
      "Generating responses:  30%|██▉       | 307/1039 [17:51<56:27,  4.63s/it]"
     ]
    },
    {
     "name": "stdout",
     "output_type": "stream",
     "text": [
      "[GIN] 2024/10/24 - 11:21:09 | 200 |  1.111836016s |       127.0.0.1 | POST     \"/api/generate\"\n",
      "INFO [update_slots] input truncated | n_ctx=2048 n_erase=79622 n_keep=4 n_left=2044 n_shift=1022 tid=\"138523311972352\" timestamp=1729768870\n",
      "[GIN] 2024/10/24 - 11:21:12 | 200 |  3.322224787s |       127.0.0.1 | POST     \"/api/generate\"\n"
     ]
    },
    {
     "name": "stderr",
     "output_type": "stream",
     "text": [
      "Generating responses:  30%|██▉       | 308/1039 [17:56<58:34,  4.81s/it]"
     ]
    },
    {
     "name": "stdout",
     "output_type": "stream",
     "text": [
      "[GIN] 2024/10/24 - 11:21:14 | 200 |  1.660000207s |       127.0.0.1 | POST     \"/api/generate\"\n",
      "INFO [update_slots] input truncated | n_ctx=2048 n_erase=79910 n_keep=4 n_left=2044 n_shift=1022 tid=\"138523311972352\" timestamp=1729768875\n",
      "[GIN] 2024/10/24 - 11:21:17 | 200 |  2.820320262s |       127.0.0.1 | POST     \"/api/generate\"\n"
     ]
    },
    {
     "name": "stderr",
     "output_type": "stream",
     "text": [
      "Generating responses:  30%|██▉       | 309/1039 [18:01<58:19,  4.79s/it]"
     ]
    },
    {
     "name": "stdout",
     "output_type": "stream",
     "text": [
      "[GIN] 2024/10/24 - 11:21:19 | 200 |  1.707330512s |       127.0.0.1 | POST     \"/api/generate\"\n",
      "INFO [update_slots] input truncated | n_ctx=2048 n_erase=80203 n_keep=4 n_left=2044 n_shift=1022 tid=\"138523311972352\" timestamp=1729768880\n",
      "[GIN] 2024/10/24 - 11:21:22 | 200 |  3.206414177s |       127.0.0.1 | POST     \"/api/generate\"\n"
     ]
    },
    {
     "name": "stderr",
     "output_type": "stream",
     "text": [
      "Generating responses:  30%|██▉       | 310/1039 [18:05<57:14,  4.71s/it]"
     ]
    },
    {
     "name": "stdout",
     "output_type": "stream",
     "text": [
      "[GIN] 2024/10/24 - 11:21:23 | 200 |  1.082682527s |       127.0.0.1 | POST     \"/api/generate\"\n",
      "INFO [update_slots] input truncated | n_ctx=2048 n_erase=80456 n_keep=4 n_left=2044 n_shift=1022 tid=\"138523311972352\" timestamp=1729768884\n",
      "[GIN] 2024/10/24 - 11:21:26 | 200 |   3.12866661s |       127.0.0.1 | POST     \"/api/generate\"\n"
     ]
    },
    {
     "name": "stderr",
     "output_type": "stream",
     "text": [
      "Generating responses:  30%|██▉       | 311/1039 [18:10<57:47,  4.76s/it]"
     ]
    },
    {
     "name": "stdout",
     "output_type": "stream",
     "text": [
      "[GIN] 2024/10/24 - 11:21:28 | 200 |  1.521035814s |       127.0.0.1 | POST     \"/api/generate\"\n",
      "INFO [update_slots] input truncated | n_ctx=2048 n_erase=80737 n_keep=4 n_left=2044 n_shift=1022 tid=\"138523311972352\" timestamp=1729768889\n",
      "[GIN] 2024/10/24 - 11:21:31 | 200 |  2.833802143s |       127.0.0.1 | POST     \"/api/generate\"\n",
      "[GIN] 2024/10/24 - 11:21:32 | 200 |  841.840842ms |       127.0.0.1 | POST     \"/api/generate\"\n"
     ]
    },
    {
     "name": "stderr",
     "output_type": "stream",
     "text": [
      "Generating responses:  30%|███       | 312/1039 [18:15<57:33,  4.75s/it]"
     ]
    },
    {
     "name": "stdout",
     "output_type": "stream",
     "text": [
      "[GIN] 2024/10/24 - 11:21:33 | 200 |  809.553315ms |       127.0.0.1 | POST     \"/api/generate\"\n",
      "INFO [update_slots] input truncated | n_ctx=2048 n_erase=80978 n_keep=4 n_left=2044 n_shift=1022 tid=\"138523311972352\" timestamp=1729768894\n",
      "[GIN] 2024/10/24 - 11:21:36 | 200 |  2.874123142s |       127.0.0.1 | POST     \"/api/generate\"\n"
     ]
    },
    {
     "name": "stderr",
     "output_type": "stream",
     "text": [
      "Generating responses:  30%|███       | 313/1039 [18:19<55:33,  4.59s/it]"
     ]
    },
    {
     "name": "stdout",
     "output_type": "stream",
     "text": [
      "[GIN] 2024/10/24 - 11:21:37 | 200 |  1.112529542s |       127.0.0.1 | POST     \"/api/generate\"\n",
      "INFO [update_slots] input truncated | n_ctx=2048 n_erase=81238 n_keep=4 n_left=2044 n_shift=1022 tid=\"138523311972352\" timestamp=1729768898\n",
      "[GIN] 2024/10/24 - 11:21:40 | 200 |  3.065241478s |       127.0.0.1 | POST     \"/api/generate\"\n"
     ]
    },
    {
     "name": "stderr",
     "output_type": "stream",
     "text": [
      "Generating responses:  30%|███       | 314/1039 [18:24<55:47,  4.62s/it]"
     ]
    },
    {
     "name": "stdout",
     "output_type": "stream",
     "text": [
      "[GIN] 2024/10/24 - 11:21:42 | 200 |   1.36971478s |       127.0.0.1 | POST     \"/api/generate\"\n",
      "INFO [update_slots] input truncated | n_ctx=2048 n_erase=81516 n_keep=4 n_left=2044 n_shift=1022 tid=\"138523311972352\" timestamp=1729768903\n",
      "[GIN] 2024/10/24 - 11:21:45 | 200 |  2.904820429s |       127.0.0.1 | POST     \"/api/generate\"\n"
     ]
    },
    {
     "name": "stderr",
     "output_type": "stream",
     "text": [
      "Generating responses:  30%|███       | 315/1039 [18:28<55:05,  4.57s/it]"
     ]
    },
    {
     "name": "stdout",
     "output_type": "stream",
     "text": [
      "[GIN] 2024/10/24 - 11:21:46 | 200 |  1.293419796s |       127.0.0.1 | POST     \"/api/generate\"\n",
      "INFO [update_slots] input truncated | n_ctx=2048 n_erase=81784 n_keep=4 n_left=2044 n_shift=1022 tid=\"138523311972352\" timestamp=1729768907\n",
      "[GIN] 2024/10/24 - 11:21:49 | 200 |  2.843127013s |       127.0.0.1 | POST     \"/api/generate\"\n"
     ]
    },
    {
     "name": "stderr",
     "output_type": "stream",
     "text": [
      "Generating responses:  30%|███       | 316/1039 [18:32<52:15,  4.34s/it]"
     ]
    },
    {
     "name": "stdout",
     "output_type": "stream",
     "text": [
      "[GIN] 2024/10/24 - 11:21:50 | 200 |  692.669251ms |       127.0.0.1 | POST     \"/api/generate\"\n",
      "INFO [update_slots] input truncated | n_ctx=2048 n_erase=82013 n_keep=4 n_left=2044 n_shift=1022 tid=\"138523311972352\" timestamp=1729768911\n",
      "[GIN] 2024/10/24 - 11:21:53 | 200 |   2.49809297s |       127.0.0.1 | POST     \"/api/generate\"\n",
      "[GIN] 2024/10/24 - 11:21:53 | 200 |  347.767204ms |       127.0.0.1 | POST     \"/api/generate\"\n"
     ]
    },
    {
     "name": "stderr",
     "output_type": "stream",
     "text": [
      "Generating responses:  31%|███       | 317/1039 [18:36<50:10,  4.17s/it]"
     ]
    },
    {
     "name": "stdout",
     "output_type": "stream",
     "text": [
      "[GIN] 2024/10/24 - 11:21:54 | 200 |  680.466071ms |       127.0.0.1 | POST     \"/api/generate\"\n",
      "INFO [update_slots] input truncated | n_ctx=2048 n_erase=82235 n_keep=4 n_left=2044 n_shift=1022 tid=\"138523311972352\" timestamp=1729768915\n",
      "[GIN] 2024/10/24 - 11:21:57 | 200 |   3.05956498s |       127.0.0.1 | POST     \"/api/generate\"\n"
     ]
    },
    {
     "name": "stderr",
     "output_type": "stream",
     "text": [
      "Generating responses:  31%|███       | 318/1039 [18:41<51:46,  4.31s/it]"
     ]
    },
    {
     "name": "stdout",
     "output_type": "stream",
     "text": [
      "[GIN] 2024/10/24 - 11:21:59 | 200 |  1.329553999s |       127.0.0.1 | POST     \"/api/generate\"\n",
      "INFO [update_slots] input truncated | n_ctx=2048 n_erase=82504 n_keep=4 n_left=2044 n_shift=1022 tid=\"138523311972352\" timestamp=1729768920\n",
      "[GIN] 2024/10/24 - 11:22:02 | 200 |  3.070914889s |       127.0.0.1 | POST     \"/api/generate\"\n"
     ]
    },
    {
     "name": "stderr",
     "output_type": "stream",
     "text": [
      "Generating responses:  31%|███       | 319/1039 [18:45<51:48,  4.32s/it]"
     ]
    },
    {
     "name": "stdout",
     "output_type": "stream",
     "text": [
      "[GIN] 2024/10/24 - 11:22:03 | 200 |  1.013145793s |       127.0.0.1 | POST     \"/api/generate\"\n",
      "INFO [update_slots] input truncated | n_ctx=2048 n_erase=82770 n_keep=4 n_left=2044 n_shift=1022 tid=\"138523311972352\" timestamp=1729768924\n",
      "[GIN] 2024/10/24 - 11:22:06 | 200 |   3.16438667s |       127.0.0.1 | POST     \"/api/generate\"\n",
      "[GIN] 2024/10/24 - 11:22:07 | 200 |  943.162039ms |       127.0.0.1 | POST     \"/api/generate\"\n"
     ]
    },
    {
     "name": "stderr",
     "output_type": "stream",
     "text": [
      "Generating responses:  31%|███       | 320/1039 [18:51<57:50,  4.83s/it]"
     ]
    },
    {
     "name": "stdout",
     "output_type": "stream",
     "text": [
      "[GIN] 2024/10/24 - 11:22:09 | 200 |  1.648615713s |       127.0.0.1 | POST     \"/api/generate\"\n",
      "INFO [update_slots] input truncated | n_ctx=2048 n_erase=83020 n_keep=4 n_left=2044 n_shift=1022 tid=\"138523311972352\" timestamp=1729768930\n",
      "[GIN] 2024/10/24 - 11:22:12 | 200 |  2.866001014s |       127.0.0.1 | POST     \"/api/generate\"\n"
     ]
    },
    {
     "name": "stderr",
     "output_type": "stream",
     "text": [
      "Generating responses:  31%|███       | 321/1039 [18:55<56:10,  4.69s/it]"
     ]
    },
    {
     "name": "stdout",
     "output_type": "stream",
     "text": [
      "[GIN] 2024/10/24 - 11:22:13 | 200 |  1.268281839s |       127.0.0.1 | POST     \"/api/generate\"\n",
      "INFO [update_slots] input truncated | n_ctx=2048 n_erase=83290 n_keep=4 n_left=2044 n_shift=1022 tid=\"138523311972352\" timestamp=1729768934\n",
      "[GIN] 2024/10/24 - 11:22:16 | 200 |  2.844821875s |       127.0.0.1 | POST     \"/api/generate\"\n"
     ]
    },
    {
     "name": "stderr",
     "output_type": "stream",
     "text": [
      "Generating responses:  31%|███       | 322/1039 [19:00<55:19,  4.63s/it]"
     ]
    },
    {
     "name": "stdout",
     "output_type": "stream",
     "text": [
      "[GIN] 2024/10/24 - 11:22:18 | 200 |  1.380230066s |       127.0.0.1 | POST     \"/api/generate\"\n",
      "INFO [update_slots] input truncated | n_ctx=2048 n_erase=83571 n_keep=4 n_left=2044 n_shift=1022 tid=\"138523311972352\" timestamp=1729768939\n",
      "[GIN] 2024/10/24 - 11:22:21 | 200 |  2.815488551s |       127.0.0.1 | POST     \"/api/generate\"\n"
     ]
    },
    {
     "name": "stderr",
     "output_type": "stream",
     "text": [
      "Generating responses:  31%|███       | 323/1039 [19:04<53:34,  4.49s/it]"
     ]
    },
    {
     "name": "stdout",
     "output_type": "stream",
     "text": [
      "[GIN] 2024/10/24 - 11:22:22 | 200 |  1.096588517s |       127.0.0.1 | POST     \"/api/generate\"\n",
      "INFO [update_slots] input truncated | n_ctx=2048 n_erase=83827 n_keep=4 n_left=2044 n_shift=1022 tid=\"138523311972352\" timestamp=1729768943\n",
      "[GIN] 2024/10/24 - 11:22:25 | 200 |  2.934750891s |       127.0.0.1 | POST     \"/api/generate\"\n"
     ]
    },
    {
     "name": "stderr",
     "output_type": "stream",
     "text": [
      "Generating responses:  31%|███       | 324/1039 [19:08<52:46,  4.43s/it]"
     ]
    },
    {
     "name": "stdout",
     "output_type": "stream",
     "text": [
      "[GIN] 2024/10/24 - 11:22:26 | 200 |  1.100394907s |       127.0.0.1 | POST     \"/api/generate\"\n",
      "INFO [update_slots] input truncated | n_ctx=2048 n_erase=84084 n_keep=4 n_left=2044 n_shift=1022 tid=\"138523311972352\" timestamp=1729768947\n",
      "[GIN] 2024/10/24 - 11:22:29 | 200 |  3.035041863s |       127.0.0.1 | POST     \"/api/generate\"\n"
     ]
    },
    {
     "name": "stderr",
     "output_type": "stream",
     "text": [
      "Generating responses:  31%|███▏      | 325/1039 [19:13<54:29,  4.58s/it]"
     ]
    },
    {
     "name": "stdout",
     "output_type": "stream",
     "text": [
      "[GIN] 2024/10/24 - 11:22:31 | 200 |  1.633997252s |       127.0.0.1 | POST     \"/api/generate\"\n",
      "INFO [update_slots] input truncated | n_ctx=2048 n_erase=84372 n_keep=4 n_left=2044 n_shift=1022 tid=\"138523311972352\" timestamp=1729768952\n",
      "[GIN] 2024/10/24 - 11:22:34 | 200 |  2.927461936s |       127.0.0.1 | POST     \"/api/generate\"\n"
     ]
    },
    {
     "name": "stderr",
     "output_type": "stream",
     "text": [
      "Generating responses:  31%|███▏      | 326/1039 [19:17<51:54,  4.37s/it]"
     ]
    },
    {
     "name": "stdout",
     "output_type": "stream",
     "text": [
      "[GIN] 2024/10/24 - 11:22:35 | 200 |  690.717027ms |       127.0.0.1 | POST     \"/api/generate\"\n",
      "INFO [update_slots] input truncated | n_ctx=2048 n_erase=84614 n_keep=4 n_left=2044 n_shift=1022 tid=\"138523311972352\" timestamp=1729768956\n",
      "[GIN] 2024/10/24 - 11:22:38 | 200 |  2.765448176s |       127.0.0.1 | POST     \"/api/generate\"\n"
     ]
    },
    {
     "name": "stderr",
     "output_type": "stream",
     "text": [
      "Generating responses:  31%|███▏      | 327/1039 [19:21<49:12,  4.15s/it]"
     ]
    },
    {
     "name": "stdout",
     "output_type": "stream",
     "text": [
      "[GIN] 2024/10/24 - 11:22:39 | 200 |  615.936837ms |       127.0.0.1 | POST     \"/api/generate\"\n",
      "INFO [update_slots] input truncated | n_ctx=2048 n_erase=84849 n_keep=4 n_left=2044 n_shift=1022 tid=\"138523311972352\" timestamp=1729768960\n",
      "[GIN] 2024/10/24 - 11:22:42 | 200 |  3.517911689s |       127.0.0.1 | POST     \"/api/generate\"\n"
     ]
    },
    {
     "name": "stderr",
     "output_type": "stream",
     "text": [
      "Generating responses:  32%|███▏      | 328/1039 [19:26<51:46,  4.37s/it]"
     ]
    },
    {
     "name": "stdout",
     "output_type": "stream",
     "text": [
      "[GIN] 2024/10/24 - 11:22:43 | 200 |  1.095101488s |       127.0.0.1 | POST     \"/api/generate\"\n",
      "INFO [update_slots] input truncated | n_ctx=2048 n_erase=85106 n_keep=4 n_left=2044 n_shift=1022 tid=\"138523311972352\" timestamp=1729768964\n",
      "[GIN] 2024/10/24 - 11:22:47 | 200 |  2.995417222s |       127.0.0.1 | POST     \"/api/generate\"\n"
     ]
    },
    {
     "name": "stderr",
     "output_type": "stream",
     "text": [
      "Generating responses:  32%|███▏      | 329/1039 [19:30<51:18,  4.34s/it]"
     ]
    },
    {
     "name": "stdout",
     "output_type": "stream",
     "text": [
      "[GIN] 2024/10/24 - 11:22:48 | 200 |  1.008948548s |       127.0.0.1 | POST     \"/api/generate\"\n",
      "INFO [update_slots] input truncated | n_ctx=2048 n_erase=85360 n_keep=4 n_left=2044 n_shift=1022 tid=\"138523311972352\" timestamp=1729768969\n",
      "[GIN] 2024/10/24 - 11:22:51 | 200 |  3.123470408s |       127.0.0.1 | POST     \"/api/generate\"\n"
     ]
    },
    {
     "name": "stderr",
     "output_type": "stream",
     "text": [
      "Generating responses:  32%|███▏      | 330/1039 [19:35<52:55,  4.48s/it]"
     ]
    },
    {
     "name": "stdout",
     "output_type": "stream",
     "text": [
      "[GIN] 2024/10/24 - 11:22:53 | 200 |  1.433478534s |       127.0.0.1 | POST     \"/api/generate\"\n",
      "INFO [update_slots] input truncated | n_ctx=2048 n_erase=85640 n_keep=4 n_left=2044 n_shift=1022 tid=\"138523311972352\" timestamp=1729768974\n",
      "[GIN] 2024/10/24 - 11:22:56 | 200 |  3.155888455s |       127.0.0.1 | POST     \"/api/generate\"\n",
      "[GIN] 2024/10/24 - 11:22:57 | 200 |  703.947174ms |       127.0.0.1 | POST     \"/api/generate\"\n"
     ]
    },
    {
     "name": "stderr",
     "output_type": "stream",
     "text": [
      "Generating responses:  32%|███▏      | 331/1039 [19:40<55:48,  4.73s/it]"
     ]
    },
    {
     "name": "stdout",
     "output_type": "stream",
     "text": [
      "[GIN] 2024/10/24 - 11:22:58 | 200 |  1.187420182s |       127.0.0.1 | POST     \"/api/generate\"\n",
      "INFO [update_slots] input truncated | n_ctx=2048 n_erase=85879 n_keep=4 n_left=2044 n_shift=1022 tid=\"138523311972352\" timestamp=1729768979\n",
      "[GIN] 2024/10/24 - 11:23:01 | 200 |  2.607517498s |       127.0.0.1 | POST     \"/api/generate\"\n",
      "[GIN] 2024/10/24 - 11:23:02 | 200 |  821.067839ms |       127.0.0.1 | POST     \"/api/generate\"\n"
     ]
    },
    {
     "name": "stderr",
     "output_type": "stream",
     "text": [
      "Generating responses:  32%|███▏      | 332/1039 [19:45<55:10,  4.68s/it]"
     ]
    },
    {
     "name": "stdout",
     "output_type": "stream",
     "text": [
      "[GIN] 2024/10/24 - 11:23:02 | 200 |  872.853769ms |       127.0.0.1 | POST     \"/api/generate\"\n",
      "INFO [update_slots] input truncated | n_ctx=2048 n_erase=86128 n_keep=4 n_left=2044 n_shift=1022 tid=\"138523311972352\" timestamp=1729768983\n",
      "[GIN] 2024/10/24 - 11:23:06 | 200 |  3.036796738s |       127.0.0.1 | POST     \"/api/generate\"\n"
     ]
    },
    {
     "name": "stderr",
     "output_type": "stream",
     "text": [
      "Generating responses:  32%|███▏      | 333/1039 [19:49<53:20,  4.53s/it]"
     ]
    },
    {
     "name": "stdout",
     "output_type": "stream",
     "text": [
      "[GIN] 2024/10/24 - 11:23:07 | 200 |  891.389677ms |       127.0.0.1 | POST     \"/api/generate\"\n",
      "INFO [update_slots] input truncated | n_ctx=2048 n_erase=86376 n_keep=4 n_left=2044 n_shift=1022 tid=\"138523311972352\" timestamp=1729768988\n",
      "[GIN] 2024/10/24 - 11:23:10 | 200 |  3.046859092s |       127.0.0.1 | POST     \"/api/generate\"\n",
      "[GIN] 2024/10/24 - 11:23:12 | 200 |  1.704077511s |       127.0.0.1 | POST     \"/api/generate\"\n"
     ]
    },
    {
     "name": "stderr",
     "output_type": "stream",
     "text": [
      "Generating responses:  32%|███▏      | 334/1039 [19:55<59:03,  5.03s/it]"
     ]
    },
    {
     "name": "stdout",
     "output_type": "stream",
     "text": [
      "[GIN] 2024/10/24 - 11:23:13 | 200 |  1.160465819s |       127.0.0.1 | POST     \"/api/generate\"\n",
      "INFO [update_slots] input truncated | n_ctx=2048 n_erase=86670 n_keep=4 n_left=2044 n_shift=1022 tid=\"138523311972352\" timestamp=1729768994\n",
      "[GIN] 2024/10/24 - 11:23:16 | 200 |  2.902572211s |       127.0.0.1 | POST     \"/api/generate\"\n"
     ]
    },
    {
     "name": "stderr",
     "output_type": "stream",
     "text": [
      "Generating responses:  32%|███▏      | 335/1039 [19:59<56:33,  4.82s/it]"
     ]
    },
    {
     "name": "stdout",
     "output_type": "stream",
     "text": [
      "[GIN] 2024/10/24 - 11:23:17 | 200 |   1.18282837s |       127.0.0.1 | POST     \"/api/generate\"\n",
      "INFO [update_slots] input truncated | n_ctx=2048 n_erase=86930 n_keep=4 n_left=2044 n_shift=1022 tid=\"138523311972352\" timestamp=1729768998\n",
      "[GIN] 2024/10/24 - 11:23:20 | 200 |  3.021271178s |       127.0.0.1 | POST     \"/api/generate\"\n",
      "[GIN] 2024/10/24 - 11:23:22 | 200 |  1.280046689s |       127.0.0.1 | POST     \"/api/generate\"\n"
     ]
    },
    {
     "name": "stderr",
     "output_type": "stream",
     "text": [
      "Generating responses:  32%|███▏      | 336/1039 [20:05<59:44,  5.10s/it]"
     ]
    },
    {
     "name": "stdout",
     "output_type": "stream",
     "text": [
      "[GIN] 2024/10/24 - 11:23:23 | 200 |  1.166434858s |       127.0.0.1 | POST     \"/api/generate\"\n",
      "INFO [update_slots] input truncated | n_ctx=2048 n_erase=87197 n_keep=4 n_left=2044 n_shift=1022 tid=\"138523311972352\" timestamp=1729769004\n",
      "[GIN] 2024/10/24 - 11:23:26 | 200 |  2.981042637s |       127.0.0.1 | POST     \"/api/generate\"\n"
     ]
    },
    {
     "name": "stderr",
     "output_type": "stream",
     "text": [
      "Generating responses:  32%|███▏      | 337/1039 [20:10<58:40,  5.02s/it]"
     ]
    },
    {
     "name": "stdout",
     "output_type": "stream",
     "text": [
      "[GIN] 2024/10/24 - 11:23:28 | 200 |  1.574144347s |       127.0.0.1 | POST     \"/api/generate\"\n",
      "INFO [update_slots] input truncated | n_ctx=2048 n_erase=87479 n_keep=4 n_left=2044 n_shift=1022 tid=\"138523311972352\" timestamp=1729769009\n",
      "[GIN] 2024/10/24 - 11:23:31 | 200 |  3.109566065s |       127.0.0.1 | POST     \"/api/generate\"\n",
      "[GIN] 2024/10/24 - 11:23:33 | 200 |  1.528538425s |       127.0.0.1 | POST     \"/api/generate\"\n"
     ]
    },
    {
     "name": "stderr",
     "output_type": "stream",
     "text": [
      "Generating responses:  33%|███▎      | 338/1039 [20:16<1:02:57,  5.39s/it]"
     ]
    },
    {
     "name": "stdout",
     "output_type": "stream",
     "text": [
      "[GIN] 2024/10/24 - 11:23:34 | 200 |  1.355267596s |       127.0.0.1 | POST     \"/api/generate\"\n",
      "INFO [update_slots] input truncated | n_ctx=2048 n_erase=87760 n_keep=4 n_left=2044 n_shift=1022 tid=\"138523311972352\" timestamp=1729769015\n",
      "[GIN] 2024/10/24 - 11:23:37 | 200 |   2.98696771s |       127.0.0.1 | POST     \"/api/generate\"\n"
     ]
    },
    {
     "name": "stderr",
     "output_type": "stream",
     "text": [
      "Generating responses:  33%|███▎      | 339/1039 [20:21<59:18,  5.08s/it]  "
     ]
    },
    {
     "name": "stdout",
     "output_type": "stream",
     "text": [
      "[GIN] 2024/10/24 - 11:23:38 | 200 |  1.119054679s |       127.0.0.1 | POST     \"/api/generate\"\n",
      "INFO [update_slots] input truncated | n_ctx=2048 n_erase=88029 n_keep=4 n_left=2044 n_shift=1022 tid=\"138523311972352\" timestamp=1729769019\n",
      "[GIN] 2024/10/24 - 11:23:42 | 200 |  3.242616345s |       127.0.0.1 | POST     \"/api/generate\"\n"
     ]
    },
    {
     "name": "stderr",
     "output_type": "stream",
     "text": [
      "Generating responses:  33%|███▎      | 340/1039 [20:25<56:36,  4.86s/it]"
     ]
    },
    {
     "name": "stdout",
     "output_type": "stream",
     "text": [
      "[GIN] 2024/10/24 - 11:23:43 | 200 |  824.862722ms |       127.0.0.1 | POST     \"/api/generate\"\n",
      "INFO [update_slots] input truncated | n_ctx=2048 n_erase=88272 n_keep=4 n_left=2044 n_shift=1022 tid=\"138523311972352\" timestamp=1729769024\n",
      "[GIN] 2024/10/24 - 11:23:46 | 200 |   3.01905341s |       127.0.0.1 | POST     \"/api/generate\"\n"
     ]
    },
    {
     "name": "stderr",
     "output_type": "stream",
     "text": [
      "Generating responses:  33%|███▎      | 341/1039 [20:30<56:05,  4.82s/it]"
     ]
    },
    {
     "name": "stdout",
     "output_type": "stream",
     "text": [
      "[GIN] 2024/10/24 - 11:23:47 | 200 |  1.447533738s |       127.0.0.1 | POST     \"/api/generate\"\n",
      "INFO [update_slots] input truncated | n_ctx=2048 n_erase=88558 n_keep=4 n_left=2044 n_shift=1022 tid=\"138523311972352\" timestamp=1729769028\n",
      "[GIN] 2024/10/24 - 11:23:50 | 200 |   2.95180848s |       127.0.0.1 | POST     \"/api/generate\"\n"
     ]
    },
    {
     "name": "stderr",
     "output_type": "stream",
     "text": [
      "Generating responses:  33%|███▎      | 342/1039 [20:34<55:33,  4.78s/it]"
     ]
    },
    {
     "name": "stdout",
     "output_type": "stream",
     "text": [
      "[GIN] 2024/10/24 - 11:23:52 | 200 |  1.462599647s |       127.0.0.1 | POST     \"/api/generate\"\n",
      "INFO [update_slots] input truncated | n_ctx=2048 n_erase=88839 n_keep=4 n_left=2044 n_shift=1022 tid=\"138523311972352\" timestamp=1729769033\n",
      "[GIN] 2024/10/24 - 11:23:55 | 200 |  2.919740195s |       127.0.0.1 | POST     \"/api/generate\"\n"
     ]
    },
    {
     "name": "stderr",
     "output_type": "stream",
     "text": [
      "Generating responses:  33%|███▎      | 343/1039 [20:39<54:24,  4.69s/it]"
     ]
    },
    {
     "name": "stdout",
     "output_type": "stream",
     "text": [
      "[GIN] 2024/10/24 - 11:23:57 | 200 |  1.283952276s |       127.0.0.1 | POST     \"/api/generate\"\n",
      "INFO [update_slots] input truncated | n_ctx=2048 n_erase=89113 n_keep=4 n_left=2044 n_shift=1022 tid=\"138523311972352\" timestamp=1729769038\n",
      "[GIN] 2024/10/24 - 11:24:00 | 200 |  2.955834005s |       127.0.0.1 | POST     \"/api/generate\"\n"
     ]
    },
    {
     "name": "stderr",
     "output_type": "stream",
     "text": [
      "Generating responses:  33%|███▎      | 344/1039 [20:43<51:16,  4.43s/it]"
     ]
    },
    {
     "name": "stdout",
     "output_type": "stream",
     "text": [
      "[GIN] 2024/10/24 - 11:24:00 | 200 |  579.755798ms |       127.0.0.1 | POST     \"/api/generate\"\n",
      "INFO [update_slots] input truncated | n_ctx=2048 n_erase=89338 n_keep=4 n_left=2044 n_shift=1022 tid=\"138523311972352\" timestamp=1729769041\n",
      "[GIN] 2024/10/24 - 11:24:03 | 200 |  2.819389082s |       127.0.0.1 | POST     \"/api/generate\"\n"
     ]
    },
    {
     "name": "stderr",
     "output_type": "stream",
     "text": [
      "Generating responses:  33%|███▎      | 345/1039 [20:47<50:46,  4.39s/it]"
     ]
    },
    {
     "name": "stdout",
     "output_type": "stream",
     "text": [
      "[GIN] 2024/10/24 - 11:24:05 | 200 |  1.208091338s |       127.0.0.1 | POST     \"/api/generate\"\n",
      "INFO [update_slots] input truncated | n_ctx=2048 n_erase=89604 n_keep=4 n_left=2044 n_shift=1022 tid=\"138523311972352\" timestamp=1729769046\n",
      "[GIN] 2024/10/24 - 11:24:08 | 200 |  3.083129554s |       127.0.0.1 | POST     \"/api/generate\"\n"
     ]
    },
    {
     "name": "stderr",
     "output_type": "stream",
     "text": [
      "Generating responses:  33%|███▎      | 346/1039 [20:51<50:01,  4.33s/it]"
     ]
    },
    {
     "name": "stdout",
     "output_type": "stream",
     "text": [
      "[GIN] 2024/10/24 - 11:24:09 | 200 |  838.554376ms |       127.0.0.1 | POST     \"/api/generate\"\n",
      "INFO [update_slots] input truncated | n_ctx=2048 n_erase=89850 n_keep=4 n_left=2044 n_shift=1022 tid=\"138523311972352\" timestamp=1729769050\n",
      "[GIN] 2024/10/24 - 11:24:12 | 200 |  2.962556745s |       127.0.0.1 | POST     \"/api/generate\"\n"
     ]
    },
    {
     "name": "stderr",
     "output_type": "stream",
     "text": [
      "Generating responses:  33%|███▎      | 347/1039 [20:56<50:55,  4.42s/it]"
     ]
    },
    {
     "name": "stdout",
     "output_type": "stream",
     "text": [
      "[GIN] 2024/10/24 - 11:24:14 | 200 |  1.363686304s |       127.0.0.1 | POST     \"/api/generate\"\n",
      "INFO [update_slots] input truncated | n_ctx=2048 n_erase=90121 n_keep=4 n_left=2044 n_shift=1022 tid=\"138523311972352\" timestamp=1729769055\n",
      "[GIN] 2024/10/24 - 11:24:17 | 200 |  2.992137139s |       127.0.0.1 | POST     \"/api/generate\"\n"
     ]
    },
    {
     "name": "stderr",
     "output_type": "stream",
     "text": [
      "Generating responses:  33%|███▎      | 348/1039 [21:00<49:23,  4.29s/it]"
     ]
    },
    {
     "name": "stdout",
     "output_type": "stream",
     "text": [
      "[GIN] 2024/10/24 - 11:24:18 | 200 |  714.910014ms |       127.0.0.1 | POST     \"/api/generate\"\n",
      "INFO [update_slots] input truncated | n_ctx=2048 n_erase=90352 n_keep=4 n_left=2044 n_shift=1022 tid=\"138523311972352\" timestamp=1729769059\n",
      "[GIN] 2024/10/24 - 11:24:20 | 200 |  2.974852497s |       127.0.0.1 | POST     \"/api/generate\"\n"
     ]
    },
    {
     "name": "stderr",
     "output_type": "stream",
     "text": [
      "Generating responses:  34%|███▎      | 349/1039 [21:04<49:03,  4.27s/it]"
     ]
    },
    {
     "name": "stdout",
     "output_type": "stream",
     "text": [
      "[GIN] 2024/10/24 - 11:24:22 | 200 |    957.1565ms |       127.0.0.1 | POST     \"/api/generate\"\n",
      "INFO [update_slots] input truncated | n_ctx=2048 n_erase=90605 n_keep=4 n_left=2044 n_shift=1022 tid=\"138523311972352\" timestamp=1729769063\n",
      "[GIN] 2024/10/24 - 11:24:25 | 200 |  3.072089721s |       127.0.0.1 | POST     \"/api/generate\"\n"
     ]
    },
    {
     "name": "stderr",
     "output_type": "stream",
     "text": [
      "Generating responses:  34%|███▎      | 350/1039 [21:09<52:54,  4.61s/it]"
     ]
    },
    {
     "name": "stdout",
     "output_type": "stream",
     "text": [
      "[GIN] 2024/10/24 - 11:24:27 | 200 |   2.04524694s |       127.0.0.1 | POST     \"/api/generate\"\n",
      "INFO [update_slots] input truncated | n_ctx=2048 n_erase=90915 n_keep=4 n_left=2044 n_shift=1022 tid=\"138523311972352\" timestamp=1729769068\n",
      "[GIN] 2024/10/24 - 11:24:30 | 200 |  3.214726013s |       127.0.0.1 | POST     \"/api/generate\"\n",
      "[GIN] 2024/10/24 - 11:24:32 | 200 |  998.053713ms |       127.0.0.1 | POST     \"/api/generate\"\n"
     ]
    },
    {
     "name": "stderr",
     "output_type": "stream",
     "text": [
      "Generating responses:  34%|███▍      | 351/1039 [21:15<55:58,  4.88s/it]"
     ]
    },
    {
     "name": "stdout",
     "output_type": "stream",
     "text": [
      "[GIN] 2024/10/24 - 11:24:33 | 200 |  1.018777119s |       127.0.0.1 | POST     \"/api/generate\"\n",
      "INFO [update_slots] input truncated | n_ctx=2048 n_erase=91171 n_keep=4 n_left=2044 n_shift=1022 tid=\"138523311972352\" timestamp=1729769074\n",
      "[GIN] 2024/10/24 - 11:24:36 | 200 |  3.093154598s |       127.0.0.1 | POST     \"/api/generate\"\n"
     ]
    },
    {
     "name": "stderr",
     "output_type": "stream",
     "text": [
      "Generating responses:  34%|███▍      | 352/1039 [21:19<54:05,  4.72s/it]"
     ]
    },
    {
     "name": "stdout",
     "output_type": "stream",
     "text": [
      "[GIN] 2024/10/24 - 11:24:37 | 200 |  976.698733ms |       127.0.0.1 | POST     \"/api/generate\"\n",
      "INFO [update_slots] input truncated | n_ctx=2048 n_erase=91432 n_keep=4 n_left=2044 n_shift=1022 tid=\"138523311972352\" timestamp=1729769078\n",
      "[GIN] 2024/10/24 - 11:24:40 | 200 |  3.129646808s |       127.0.0.1 | POST     \"/api/generate\"\n"
     ]
    },
    {
     "name": "stderr",
     "output_type": "stream",
     "text": [
      "Generating responses:  34%|███▍      | 353/1039 [21:24<54:24,  4.76s/it]"
     ]
    },
    {
     "name": "stdout",
     "output_type": "stream",
     "text": [
      "[GIN] 2024/10/24 - 11:24:42 | 200 |  1.417423297s |       127.0.0.1 | POST     \"/api/generate\"\n",
      "INFO [update_slots] input truncated | n_ctx=2048 n_erase=91706 n_keep=4 n_left=2044 n_shift=1022 tid=\"138523311972352\" timestamp=1729769083\n",
      "[GIN] 2024/10/24 - 11:24:45 | 200 |  3.047552871s |       127.0.0.1 | POST     \"/api/generate\"\n"
     ]
    },
    {
     "name": "stderr",
     "output_type": "stream",
     "text": [
      "Generating responses:  34%|███▍      | 354/1039 [21:28<53:09,  4.66s/it]"
     ]
    },
    {
     "name": "stdout",
     "output_type": "stream",
     "text": [
      "[GIN] 2024/10/24 - 11:24:46 | 200 |  1.079142083s |       127.0.0.1 | POST     \"/api/generate\"\n",
      "INFO [update_slots] input truncated | n_ctx=2048 n_erase=91967 n_keep=4 n_left=2044 n_shift=1022 tid=\"138523311972352\" timestamp=1729769087\n",
      "[GIN] 2024/10/24 - 11:24:50 | 200 |  3.239973601s |       127.0.0.1 | POST     \"/api/generate\"\n"
     ]
    },
    {
     "name": "stderr",
     "output_type": "stream",
     "text": [
      "Generating responses:  34%|███▍      | 355/1039 [21:33<52:12,  4.58s/it]"
     ]
    },
    {
     "name": "stdout",
     "output_type": "stream",
     "text": [
      "[GIN] 2024/10/24 - 11:24:51 | 200 |  869.044414ms |       127.0.0.1 | POST     \"/api/generate\"\n",
      "INFO [update_slots] input truncated | n_ctx=2048 n_erase=92213 n_keep=4 n_left=2044 n_shift=1022 tid=\"138523311972352\" timestamp=1729769092\n",
      "[GIN] 2024/10/24 - 11:24:54 | 200 |  3.034159339s |       127.0.0.1 | POST     \"/api/generate\"\n"
     ]
    },
    {
     "name": "stderr",
     "output_type": "stream",
     "text": [
      "Generating responses:  34%|███▍      | 356/1039 [21:37<49:55,  4.39s/it]"
     ]
    },
    {
     "name": "stdout",
     "output_type": "stream",
     "text": [
      "[GIN] 2024/10/24 - 11:24:55 | 200 |  608.329973ms |       127.0.0.1 | POST     \"/api/generate\"\n",
      "INFO [update_slots] input truncated | n_ctx=2048 n_erase=92452 n_keep=4 n_left=2044 n_shift=1022 tid=\"138523311972352\" timestamp=1729769096\n",
      "[GIN] 2024/10/24 - 11:24:58 | 200 |  3.137196476s |       127.0.0.1 | POST     \"/api/generate\"\n"
     ]
    },
    {
     "name": "stderr",
     "output_type": "stream",
     "text": [
      "Generating responses:  34%|███▍      | 357/1039 [21:42<51:19,  4.52s/it]"
     ]
    },
    {
     "name": "stdout",
     "output_type": "stream",
     "text": [
      "[GIN] 2024/10/24 - 11:24:59 | 200 |  1.383272979s |       127.0.0.1 | POST     \"/api/generate\"\n",
      "INFO [update_slots] input truncated | n_ctx=2048 n_erase=92725 n_keep=4 n_left=2044 n_shift=1022 tid=\"138523311972352\" timestamp=1729769100\n",
      "[GIN] 2024/10/24 - 11:25:03 | 200 |  3.106354474s |       127.0.0.1 | POST     \"/api/generate\"\n"
     ]
    },
    {
     "name": "stderr",
     "output_type": "stream",
     "text": [
      "Generating responses:  34%|███▍      | 358/1039 [21:46<52:15,  4.60s/it]"
     ]
    },
    {
     "name": "stdout",
     "output_type": "stream",
     "text": [
      "[GIN] 2024/10/24 - 11:25:04 | 200 |  1.414664331s |       127.0.0.1 | POST     \"/api/generate\"\n",
      "INFO [update_slots] input truncated | n_ctx=2048 n_erase=93013 n_keep=4 n_left=2044 n_shift=1022 tid=\"138523311972352\" timestamp=1729769105\n",
      "[GIN] 2024/10/24 - 11:25:08 | 200 |  3.435957477s |       127.0.0.1 | POST     \"/api/generate\"\n"
     ]
    },
    {
     "name": "stderr",
     "output_type": "stream",
     "text": [
      "Generating responses:  35%|███▍      | 359/1039 [21:52<54:49,  4.84s/it]"
     ]
    },
    {
     "name": "stdout",
     "output_type": "stream",
     "text": [
      "[GIN] 2024/10/24 - 11:25:10 | 200 |  1.663269938s |       127.0.0.1 | POST     \"/api/generate\"\n",
      "INFO [update_slots] input truncated | n_ctx=2048 n_erase=93298 n_keep=4 n_left=2044 n_shift=1022 tid=\"138523311972352\" timestamp=1729769111\n",
      "[GIN] 2024/10/24 - 11:25:13 | 200 |  3.284133084s |       127.0.0.1 | POST     \"/api/generate\"\n"
     ]
    },
    {
     "name": "stderr",
     "output_type": "stream",
     "text": [
      "Generating responses:  35%|███▍      | 360/1039 [21:57<54:49,  4.84s/it]"
     ]
    },
    {
     "name": "stdout",
     "output_type": "stream",
     "text": [
      "[GIN] 2024/10/24 - 11:25:14 | 200 |  1.282532989s |       127.0.0.1 | POST     \"/api/generate\"\n",
      "INFO [update_slots] input truncated | n_ctx=2048 n_erase=93565 n_keep=4 n_left=2044 n_shift=1022 tid=\"138523311972352\" timestamp=1729769116\n",
      "[GIN] 2024/10/24 - 11:25:18 | 200 |  3.078362916s |       127.0.0.1 | POST     \"/api/generate\"\n"
     ]
    },
    {
     "name": "stderr",
     "output_type": "stream",
     "text": [
      "Generating responses:  35%|███▍      | 361/1039 [22:01<54:17,  4.80s/it]"
     ]
    },
    {
     "name": "stdout",
     "output_type": "stream",
     "text": [
      "[GIN] 2024/10/24 - 11:25:19 | 200 |  1.331186166s |       127.0.0.1 | POST     \"/api/generate\"\n",
      "INFO [update_slots] input truncated | n_ctx=2048 n_erase=93836 n_keep=4 n_left=2044 n_shift=1022 tid=\"138523311972352\" timestamp=1729769120\n",
      "[GIN] 2024/10/24 - 11:25:22 | 200 |  2.970578901s |       127.0.0.1 | POST     \"/api/generate\"\n"
     ]
    },
    {
     "name": "stderr",
     "output_type": "stream",
     "text": [
      "Generating responses:  35%|███▍      | 362/1039 [22:06<54:53,  4.86s/it]"
     ]
    },
    {
     "name": "stdout",
     "output_type": "stream",
     "text": [
      "[GIN] 2024/10/24 - 11:25:24 | 200 |  1.724647042s |       127.0.0.1 | POST     \"/api/generate\"\n",
      "INFO [update_slots] input truncated | n_ctx=2048 n_erase=94137 n_keep=4 n_left=2044 n_shift=1022 tid=\"138523311972352\" timestamp=1729769125\n",
      "[GIN] 2024/10/24 - 11:25:28 | 200 |  3.404737566s |       127.0.0.1 | POST     \"/api/generate\"\n"
     ]
    },
    {
     "name": "stderr",
     "output_type": "stream",
     "text": [
      "Generating responses:  35%|███▍      | 363/1039 [22:12<58:49,  5.22s/it]"
     ]
    },
    {
     "name": "stdout",
     "output_type": "stream",
     "text": [
      "[GIN] 2024/10/24 - 11:25:30 | 200 |  2.355469506s |       127.0.0.1 | POST     \"/api/generate\"\n",
      "INFO [update_slots] input truncated | n_ctx=2048 n_erase=94471 n_keep=4 n_left=2044 n_shift=1022 tid=\"138523311972352\" timestamp=1729769131\n",
      "[GIN] 2024/10/24 - 11:25:33 | 200 |  3.080096765s |       127.0.0.1 | POST     \"/api/generate\"\n"
     ]
    },
    {
     "name": "stderr",
     "output_type": "stream",
     "text": [
      "Generating responses:  35%|███▌      | 364/1039 [22:17<55:23,  4.92s/it]"
     ]
    },
    {
     "name": "stdout",
     "output_type": "stream",
     "text": [
      "[GIN] 2024/10/24 - 11:25:34 | 200 |  846.788713ms |       127.0.0.1 | POST     \"/api/generate\"\n",
      "INFO [update_slots] input truncated | n_ctx=2048 n_erase=94717 n_keep=4 n_left=2044 n_shift=1022 tid=\"138523311972352\" timestamp=1729769136\n",
      "[GIN] 2024/10/24 - 11:25:38 | 200 |   3.27932268s |       127.0.0.1 | POST     \"/api/generate\"\n"
     ]
    },
    {
     "name": "stderr",
     "output_type": "stream",
     "text": [
      "Generating responses:  35%|███▌      | 365/1039 [22:21<53:47,  4.79s/it]"
     ]
    },
    {
     "name": "stdout",
     "output_type": "stream",
     "text": [
      "[GIN] 2024/10/24 - 11:25:39 | 200 |  905.029423ms |       127.0.0.1 | POST     \"/api/generate\"\n",
      "INFO [update_slots] input truncated | n_ctx=2048 n_erase=94965 n_keep=4 n_left=2044 n_shift=1022 tid=\"138523311972352\" timestamp=1729769140\n",
      "[GIN] 2024/10/24 - 11:25:42 | 200 |  3.262574222s |       127.0.0.1 | POST     \"/api/generate\"\n"
     ]
    },
    {
     "name": "stderr",
     "output_type": "stream",
     "text": [
      "Generating responses:  35%|███▌      | 366/1039 [22:27<55:59,  4.99s/it]"
     ]
    },
    {
     "name": "stdout",
     "output_type": "stream",
     "text": [
      "[GIN] 2024/10/24 - 11:25:44 | 200 |  1.878590361s |       127.0.0.1 | POST     \"/api/generate\"\n",
      "INFO [update_slots] input truncated | n_ctx=2048 n_erase=95267 n_keep=4 n_left=2044 n_shift=1022 tid=\"138523311972352\" timestamp=1729769146\n",
      "[GIN] 2024/10/24 - 11:25:48 | 200 |   3.46892166s |       127.0.0.1 | POST     \"/api/generate\"\n",
      "[GIN] 2024/10/24 - 11:25:49 | 200 |  1.083733351s |       127.0.0.1 | POST     \"/api/generate\"\n"
     ]
    },
    {
     "name": "stderr",
     "output_type": "stream",
     "text": [
      "Generating responses:  35%|███▌      | 367/1039 [22:33<59:33,  5.32s/it]"
     ]
    },
    {
     "name": "stdout",
     "output_type": "stream",
     "text": [
      "[GIN] 2024/10/24 - 11:25:50 | 200 |   1.22536657s |       127.0.0.1 | POST     \"/api/generate\"\n",
      "INFO [update_slots] input truncated | n_ctx=2048 n_erase=95521 n_keep=4 n_left=2044 n_shift=1022 tid=\"138523311972352\" timestamp=1729769152\n",
      "[GIN] 2024/10/24 - 11:25:54 | 200 |  3.105818708s |       127.0.0.1 | POST     \"/api/generate\"\n",
      "[GIN] 2024/10/24 - 11:25:55 | 200 |  704.698422ms |       127.0.0.1 | POST     \"/api/generate\"\n"
     ]
    },
    {
     "name": "stderr",
     "output_type": "stream",
     "text": [
      "Generating responses:  35%|███▌      | 368/1039 [22:38<58:20,  5.22s/it]"
     ]
    },
    {
     "name": "stdout",
     "output_type": "stream",
     "text": [
      "[GIN] 2024/10/24 - 11:25:55 | 200 |  856.017949ms |       127.0.0.1 | POST     \"/api/generate\"\n",
      "INFO [update_slots] input truncated | n_ctx=2048 n_erase=95762 n_keep=4 n_left=2044 n_shift=1022 tid=\"138523311972352\" timestamp=1729769157\n",
      "[GIN] 2024/10/24 - 11:25:59 | 200 |  3.542910168s |       127.0.0.1 | POST     \"/api/generate\"\n"
     ]
    },
    {
     "name": "stderr",
     "output_type": "stream",
     "text": [
      "Generating responses:  36%|███▌      | 369/1039 [22:43<58:16,  5.22s/it]"
     ]
    },
    {
     "name": "stdout",
     "output_type": "stream",
     "text": [
      "[GIN] 2024/10/24 - 11:26:01 | 200 |  1.356415998s |       127.0.0.1 | POST     \"/api/generate\"\n",
      "INFO [update_slots] input truncated | n_ctx=2048 n_erase=96034 n_keep=4 n_left=2044 n_shift=1022 tid=\"138523311972352\" timestamp=1729769162\n",
      "[GIN] 2024/10/24 - 11:26:04 | 200 |  3.154632029s |       127.0.0.1 | POST     \"/api/generate\"\n"
     ]
    },
    {
     "name": "stderr",
     "output_type": "stream",
     "text": [
      "Generating responses:  36%|███▌      | 370/1039 [22:47<54:47,  4.91s/it]"
     ]
    },
    {
     "name": "stdout",
     "output_type": "stream",
     "text": [
      "[GIN] 2024/10/24 - 11:26:05 | 200 |  753.778631ms |       127.0.0.1 | POST     \"/api/generate\"\n",
      "INFO [update_slots] input truncated | n_ctx=2048 n_erase=96274 n_keep=4 n_left=2044 n_shift=1022 tid=\"138523311972352\" timestamp=1729769166\n",
      "[GIN] 2024/10/24 - 11:26:08 | 200 |  3.343604619s |       127.0.0.1 | POST     \"/api/generate\"\n"
     ]
    },
    {
     "name": "stderr",
     "output_type": "stream",
     "text": [
      "Generating responses:  36%|███▌      | 371/1039 [22:52<53:17,  4.79s/it]"
     ]
    },
    {
     "name": "stdout",
     "output_type": "stream",
     "text": [
      "[GIN] 2024/10/24 - 11:26:09 | 200 |  832.858116ms |       127.0.0.1 | POST     \"/api/generate\"\n",
      "INFO [update_slots] input truncated | n_ctx=2048 n_erase=96519 n_keep=4 n_left=2044 n_shift=1022 tid=\"138523311972352\" timestamp=1729769170\n",
      "[GIN] 2024/10/24 - 11:26:13 | 200 |  3.277690346s |       127.0.0.1 | POST     \"/api/generate\"\n"
     ]
    },
    {
     "name": "stderr",
     "output_type": "stream",
     "text": [
      "Generating responses:  36%|███▌      | 372/1039 [22:57<56:33,  5.09s/it]"
     ]
    },
    {
     "name": "stdout",
     "output_type": "stream",
     "text": [
      "[GIN] 2024/10/24 - 11:26:15 | 200 |   2.21519379s |       127.0.0.1 | POST     \"/api/generate\"\n",
      "INFO [update_slots] input truncated | n_ctx=2048 n_erase=96848 n_keep=4 n_left=2044 n_shift=1022 tid=\"138523311972352\" timestamp=1729769176\n",
      "[GIN] 2024/10/24 - 11:26:18 | 200 |  3.249008139s |       127.0.0.1 | POST     \"/api/generate\"\n"
     ]
    },
    {
     "name": "stderr",
     "output_type": "stream",
     "text": [
      "Generating responses:  36%|███▌      | 373/1039 [23:02<54:19,  4.89s/it]"
     ]
    },
    {
     "name": "stdout",
     "output_type": "stream",
     "text": [
      "[GIN] 2024/10/24 - 11:26:20 | 200 |  884.430592ms |       127.0.0.1 | POST     \"/api/generate\"\n",
      "INFO [update_slots] input truncated | n_ctx=2048 n_erase=97099 n_keep=4 n_left=2044 n_shift=1022 tid=\"138523311972352\" timestamp=1729769181\n",
      "[GIN] 2024/10/24 - 11:26:23 | 200 |  3.268899434s |       127.0.0.1 | POST     \"/api/generate\"\n"
     ]
    },
    {
     "name": "stderr",
     "output_type": "stream",
     "text": [
      "Generating responses:  36%|███▌      | 374/1039 [23:06<53:39,  4.84s/it]"
     ]
    },
    {
     "name": "stdout",
     "output_type": "stream",
     "text": [
      "[GIN] 2024/10/24 - 11:26:24 | 200 |  1.140507229s |       127.0.0.1 | POST     \"/api/generate\"\n",
      "INFO [update_slots] input truncated | n_ctx=2048 n_erase=97362 n_keep=4 n_left=2044 n_shift=1022 tid=\"138523311972352\" timestamp=1729769185\n",
      "[GIN] 2024/10/24 - 11:26:27 | 200 |  3.024630777s |       127.0.0.1 | POST     \"/api/generate\"\n"
     ]
    },
    {
     "name": "stderr",
     "output_type": "stream",
     "text": [
      "Generating responses:  36%|███▌      | 375/1039 [23:11<52:48,  4.77s/it]"
     ]
    },
    {
     "name": "stdout",
     "output_type": "stream",
     "text": [
      "[GIN] 2024/10/24 - 11:26:29 | 200 |  1.281944105s |       127.0.0.1 | POST     \"/api/generate\"\n",
      "INFO [update_slots] input truncated | n_ctx=2048 n_erase=97627 n_keep=4 n_left=2044 n_shift=1022 tid=\"138523311972352\" timestamp=1729769190\n",
      "[GIN] 2024/10/24 - 11:26:32 | 200 |  3.224323404s |       127.0.0.1 | POST     \"/api/generate\"\n"
     ]
    },
    {
     "name": "stderr",
     "output_type": "stream",
     "text": [
      "Generating responses:  36%|███▌      | 376/1039 [23:16<54:19,  4.92s/it]"
     ]
    },
    {
     "name": "stdout",
     "output_type": "stream",
     "text": [
      "[GIN] 2024/10/24 - 11:26:34 | 200 |  1.721718151s |       127.0.0.1 | POST     \"/api/generate\"\n",
      "INFO [update_slots] input truncated | n_ctx=2048 n_erase=97921 n_keep=4 n_left=2044 n_shift=1022 tid=\"138523311972352\" timestamp=1729769195\n",
      "[GIN] 2024/10/24 - 11:26:37 | 200 |  3.202150636s |       127.0.0.1 | POST     \"/api/generate\"\n"
     ]
    },
    {
     "name": "stderr",
     "output_type": "stream",
     "text": [
      "Generating responses:  36%|███▋      | 377/1039 [23:21<53:22,  4.84s/it]"
     ]
    },
    {
     "name": "stdout",
     "output_type": "stream",
     "text": [
      "[GIN] 2024/10/24 - 11:26:39 | 200 |  1.139476132s |       127.0.0.1 | POST     \"/api/generate\"\n",
      "INFO [update_slots] input truncated | n_ctx=2048 n_erase=98179 n_keep=4 n_left=2044 n_shift=1022 tid=\"138523311972352\" timestamp=1729769200\n",
      "[GIN] 2024/10/24 - 11:26:42 | 200 |  3.147528167s |       127.0.0.1 | POST     \"/api/generate\"\n"
     ]
    },
    {
     "name": "stderr",
     "output_type": "stream",
     "text": [
      "Generating responses:  36%|███▋      | 378/1039 [23:26<54:26,  4.94s/it]"
     ]
    },
    {
     "name": "stdout",
     "output_type": "stream",
     "text": [
      "[GIN] 2024/10/24 - 11:26:44 | 200 |  1.714548869s |       127.0.0.1 | POST     \"/api/generate\"\n",
      "INFO [update_slots] input truncated | n_ctx=2048 n_erase=98474 n_keep=4 n_left=2044 n_shift=1022 tid=\"138523311972352\" timestamp=1729769205\n",
      "[GIN] 2024/10/24 - 11:26:47 | 200 |  3.204479252s |       127.0.0.1 | POST     \"/api/generate\"\n"
     ]
    },
    {
     "name": "stderr",
     "output_type": "stream",
     "text": [
      "Generating responses:  36%|███▋      | 379/1039 [23:31<53:31,  4.87s/it]"
     ]
    },
    {
     "name": "stdout",
     "output_type": "stream",
     "text": [
      "[GIN] 2024/10/24 - 11:26:49 | 200 |  1.163812105s |       127.0.0.1 | POST     \"/api/generate\"\n",
      "INFO [update_slots] input truncated | n_ctx=2048 n_erase=98735 n_keep=4 n_left=2044 n_shift=1022 tid=\"138523311972352\" timestamp=1729769210\n",
      "[GIN] 2024/10/24 - 11:26:52 | 200 |  3.052604264s |       127.0.0.1 | POST     \"/api/generate\"\n"
     ]
    },
    {
     "name": "stderr",
     "output_type": "stream",
     "text": [
      "Generating responses:  37%|███▋      | 380/1039 [23:35<50:34,  4.60s/it]"
     ]
    },
    {
     "name": "stdout",
     "output_type": "stream",
     "text": [
      "[GIN] 2024/10/24 - 11:26:53 | 200 |  633.582879ms |       127.0.0.1 | POST     \"/api/generate\"\n",
      "INFO [update_slots] input truncated | n_ctx=2048 n_erase=98964 n_keep=4 n_left=2044 n_shift=1022 tid=\"138523311972352\" timestamp=1729769214\n",
      "[GIN] 2024/10/24 - 11:26:56 | 200 |  3.144469742s |       127.0.0.1 | POST     \"/api/generate\"\n"
     ]
    },
    {
     "name": "stderr",
     "output_type": "stream",
     "text": [
      "Generating responses:  37%|███▋      | 381/1039 [23:39<50:28,  4.60s/it]"
     ]
    },
    {
     "name": "stdout",
     "output_type": "stream",
     "text": [
      "[GIN] 2024/10/24 - 11:26:57 | 200 |  1.119163264s |       127.0.0.1 | POST     \"/api/generate\"\n",
      "INFO [update_slots] input truncated | n_ctx=2048 n_erase=99222 n_keep=4 n_left=2044 n_shift=1022 tid=\"138523311972352\" timestamp=1729769218\n",
      "[GIN] 2024/10/24 - 11:27:01 | 200 |  3.559681965s |       127.0.0.1 | POST     \"/api/generate\"\n",
      "[GIN] 2024/10/24 - 11:27:02 | 200 |  1.279341077s |       127.0.0.1 | POST     \"/api/generate\"\n"
     ]
    },
    {
     "name": "stderr",
     "output_type": "stream",
     "text": [
      "Generating responses:  37%|███▋      | 382/1039 [23:46<56:14,  5.14s/it]"
     ]
    },
    {
     "name": "stdout",
     "output_type": "stream",
     "text": [
      "[GIN] 2024/10/24 - 11:27:04 | 200 |  1.216167951s |       127.0.0.1 | POST     \"/api/generate\"\n",
      "INFO [update_slots] input truncated | n_ctx=2048 n_erase=99496 n_keep=4 n_left=2044 n_shift=1022 tid=\"138523311972352\" timestamp=1729769225\n",
      "[GIN] 2024/10/24 - 11:27:07 | 200 |   3.77469343s |       127.0.0.1 | POST     \"/api/generate\"\n",
      "[GIN] 2024/10/24 - 11:27:09 | 200 |   1.20172309s |       127.0.0.1 | POST     \"/api/generate\"\n"
     ]
    },
    {
     "name": "stderr",
     "output_type": "stream",
     "text": [
      "Generating responses:  37%|███▋      | 383/1039 [23:52<1:00:42,  5.55s/it]"
     ]
    },
    {
     "name": "stdout",
     "output_type": "stream",
     "text": [
      "[GIN] 2024/10/24 - 11:27:10 | 200 |  1.213138954s |       127.0.0.1 | POST     \"/api/generate\"\n",
      "INFO [update_slots] input truncated | n_ctx=2048 n_erase=99762 n_keep=4 n_left=2044 n_shift=1022 tid=\"138523311972352\" timestamp=1729769231\n",
      "[GIN] 2024/10/24 - 11:27:14 | 200 |  3.358713472s |       127.0.0.1 | POST     \"/api/generate\"\n",
      "[GIN] 2024/10/24 - 11:27:15 | 200 |  1.107843178s |       127.0.0.1 | POST     \"/api/generate\"\n"
     ]
    },
    {
     "name": "stderr",
     "output_type": "stream",
     "text": [
      "Generating responses:  37%|███▋      | 384/1039 [23:59<1:02:33,  5.73s/it]"
     ]
    },
    {
     "name": "stdout",
     "output_type": "stream",
     "text": [
      "[GIN] 2024/10/24 - 11:27:16 | 200 |  1.348401882s |       127.0.0.1 | POST     \"/api/generate\"\n",
      "INFO [update_slots] input truncated | n_ctx=2048 n_erase=100019 n_keep=4 n_left=2044 n_shift=1022 tid=\"138523311972352\" timestamp=1729769238\n",
      "[GIN] 2024/10/24 - 11:27:20 | 200 |  3.175757217s |       127.0.0.1 | POST     \"/api/generate\"\n"
     ]
    },
    {
     "name": "stderr",
     "output_type": "stream",
     "text": [
      "Generating responses:  37%|███▋      | 385/1039 [24:03<57:18,  5.26s/it]  "
     ]
    },
    {
     "name": "stdout",
     "output_type": "stream",
     "text": [
      "[GIN] 2024/10/24 - 11:27:21 | 200 |  648.617757ms |       127.0.0.1 | POST     \"/api/generate\"\n",
      "INFO [update_slots] input truncated | n_ctx=2048 n_erase=100246 n_keep=4 n_left=2044 n_shift=1022 tid=\"138523311972352\" timestamp=1729769242\n",
      "[GIN] 2024/10/24 - 11:27:24 | 200 |  3.147469503s |       127.0.0.1 | POST     \"/api/generate\"\n"
     ]
    },
    {
     "name": "stderr",
     "output_type": "stream",
     "text": [
      "Generating responses:  37%|███▋      | 386/1039 [24:07<54:30,  5.01s/it]"
     ]
    },
    {
     "name": "stdout",
     "output_type": "stream",
     "text": [
      "[GIN] 2024/10/24 - 11:27:25 | 200 |  953.714677ms |       127.0.0.1 | POST     \"/api/generate\"\n",
      "INFO [update_slots] input truncated | n_ctx=2048 n_erase=100501 n_keep=4 n_left=2044 n_shift=1022 tid=\"138523311972352\" timestamp=1729769246\n",
      "[GIN] 2024/10/24 - 11:27:29 | 200 |   3.54219256s |       127.0.0.1 | POST     \"/api/generate\"\n",
      "[GIN] 2024/10/24 - 11:27:30 | 200 |  867.428055ms |       127.0.0.1 | POST     \"/api/generate\"\n"
     ]
    },
    {
     "name": "stderr",
     "output_type": "stream",
     "text": [
      "Generating responses:  37%|███▋      | 387/1039 [24:13<58:00,  5.34s/it]"
     ]
    },
    {
     "name": "stdout",
     "output_type": "stream",
     "text": [
      "[GIN] 2024/10/24 - 11:27:31 | 200 |  1.366299361s |       127.0.0.1 | POST     \"/api/generate\"\n",
      "INFO [update_slots] input truncated | n_ctx=2048 n_erase=100745 n_keep=4 n_left=2044 n_shift=1022 tid=\"138523311972352\" timestamp=1729769252\n",
      "[GIN] 2024/10/24 - 11:27:34 | 200 |  3.170452067s |       127.0.0.1 | POST     \"/api/generate\"\n"
     ]
    },
    {
     "name": "stderr",
     "output_type": "stream",
     "text": [
      "Generating responses:  37%|███▋      | 388/1039 [24:18<54:56,  5.06s/it]"
     ]
    },
    {
     "name": "stdout",
     "output_type": "stream",
     "text": [
      "[GIN] 2024/10/24 - 11:27:35 | 200 |  929.024379ms |       127.0.0.1 | POST     \"/api/generate\"\n",
      "INFO [update_slots] input truncated | n_ctx=2048 n_erase=100996 n_keep=4 n_left=2044 n_shift=1022 tid=\"138523311972352\" timestamp=1729769257\n",
      "[GIN] 2024/10/24 - 11:27:39 | 200 |  3.820853829s |       127.0.0.1 | POST     \"/api/generate\"\n"
     ]
    },
    {
     "name": "stderr",
     "output_type": "stream",
     "text": [
      "Generating responses:  37%|███▋      | 389/1039 [24:23<56:10,  5.19s/it]"
     ]
    },
    {
     "name": "stdout",
     "output_type": "stream",
     "text": [
      "[GIN] 2024/10/24 - 11:27:41 | 200 |  1.312905609s |       127.0.0.1 | POST     \"/api/generate\"\n",
      "INFO [update_slots] input truncated | n_ctx=2048 n_erase=101268 n_keep=4 n_left=2044 n_shift=1022 tid=\"138523311972352\" timestamp=1729769262\n",
      "[GIN] 2024/10/24 - 11:27:44 | 200 |  3.321359744s |       127.0.0.1 | POST     \"/api/generate\"\n"
     ]
    },
    {
     "name": "stderr",
     "output_type": "stream",
     "text": [
      "Generating responses:  38%|███▊      | 390/1039 [24:28<53:37,  4.96s/it]"
     ]
    },
    {
     "name": "stdout",
     "output_type": "stream",
     "text": [
      "[GIN] 2024/10/24 - 11:27:45 | 200 |  768.139363ms |       127.0.0.1 | POST     \"/api/generate\"\n",
      "INFO [update_slots] input truncated | n_ctx=2048 n_erase=101508 n_keep=4 n_left=2044 n_shift=1022 tid=\"138523311972352\" timestamp=1729769267\n",
      "[GIN] 2024/10/24 - 11:27:49 | 200 |  3.235320027s |       127.0.0.1 | POST     \"/api/generate\"\n"
     ]
    },
    {
     "name": "stderr",
     "output_type": "stream",
     "text": [
      "Generating responses:  38%|███▊      | 391/1039 [24:32<51:59,  4.81s/it]"
     ]
    },
    {
     "name": "stdout",
     "output_type": "stream",
     "text": [
      "[GIN] 2024/10/24 - 11:27:50 | 200 |    921.5225ms |       127.0.0.1 | POST     \"/api/generate\"\n",
      "INFO [update_slots] input truncated | n_ctx=2048 n_erase=101755 n_keep=4 n_left=2044 n_shift=1022 tid=\"138523311972352\" timestamp=1729769271\n",
      "[GIN] 2024/10/24 - 11:27:53 | 200 |  3.408554853s |       127.0.0.1 | POST     \"/api/generate\"\n"
     ]
    },
    {
     "name": "stderr",
     "output_type": "stream",
     "text": [
      "Generating responses:  38%|███▊      | 392/1039 [24:37<52:23,  4.86s/it]"
     ]
    },
    {
     "name": "stdout",
     "output_type": "stream",
     "text": [
      "[GIN] 2024/10/24 - 11:27:55 | 200 |  1.212954395s |       127.0.0.1 | POST     \"/api/generate\"\n",
      "INFO [update_slots] input truncated | n_ctx=2048 n_erase=102017 n_keep=4 n_left=2044 n_shift=1022 tid=\"138523311972352\" timestamp=1729769276\n",
      "[GIN] 2024/10/24 - 11:27:58 | 200 |  3.607702408s |       127.0.0.1 | POST     \"/api/generate\"\n"
     ]
    },
    {
     "name": "stderr",
     "output_type": "stream",
     "text": [
      "Generating responses:  38%|███▊      | 393/1039 [24:42<51:48,  4.81s/it]"
     ]
    },
    {
     "name": "stdout",
     "output_type": "stream",
     "text": [
      "[GIN] 2024/10/24 - 11:28:00 | 200 |  750.019144ms |       127.0.0.1 | POST     \"/api/generate\"\n",
      "INFO [update_slots] input truncated | n_ctx=2048 n_erase=102251 n_keep=4 n_left=2044 n_shift=1022 tid=\"138523311972352\" timestamp=1729769281\n",
      "[GIN] 2024/10/24 - 11:28:03 | 200 |  3.478518874s |       127.0.0.1 | POST     \"/api/generate\"\n"
     ]
    },
    {
     "name": "stderr",
     "output_type": "stream",
     "text": [
      "Generating responses:  38%|███▊      | 394/1039 [24:46<51:15,  4.77s/it]"
     ]
    },
    {
     "name": "stdout",
     "output_type": "stream",
     "text": [
      "[GIN] 2024/10/24 - 11:28:04 | 200 |  840.964718ms |       127.0.0.1 | POST     \"/api/generate\"\n",
      "INFO [update_slots] input truncated | n_ctx=2048 n_erase=102491 n_keep=4 n_left=2044 n_shift=1022 tid=\"138523311972352\" timestamp=1729769285\n",
      "[GIN] 2024/10/24 - 11:28:07 | 200 |  3.199456896s |       127.0.0.1 | POST     \"/api/generate\"\n"
     ]
    },
    {
     "name": "stderr",
     "output_type": "stream",
     "text": [
      "Generating responses:  38%|███▊      | 395/1039 [24:51<50:46,  4.73s/it]"
     ]
    },
    {
     "name": "stdout",
     "output_type": "stream",
     "text": [
      "[GIN] 2024/10/24 - 11:28:09 | 200 |  1.093094277s |       127.0.0.1 | POST     \"/api/generate\"\n",
      "INFO [update_slots] input truncated | n_ctx=2048 n_erase=102760 n_keep=4 n_left=2044 n_shift=1022 tid=\"138523311972352\" timestamp=1729769290\n",
      "[GIN] 2024/10/24 - 11:28:13 | 200 |  3.663359615s |       127.0.0.1 | POST     \"/api/generate\"\n"
     ]
    },
    {
     "name": "stderr",
     "output_type": "stream",
     "text": [
      "Generating responses:  38%|███▊      | 396/1039 [24:56<51:41,  4.82s/it]"
     ]
    },
    {
     "name": "stdout",
     "output_type": "stream",
     "text": [
      "[GIN] 2024/10/24 - 11:28:14 | 200 |   1.03402564s |       127.0.0.1 | POST     \"/api/generate\"\n",
      "INFO [update_slots] input truncated | n_ctx=2048 n_erase=103021 n_keep=4 n_left=2044 n_shift=1022 tid=\"138523311972352\" timestamp=1729769295\n",
      "[GIN] 2024/10/24 - 11:28:17 | 200 |   3.36825228s |       127.0.0.1 | POST     \"/api/generate\"\n"
     ]
    },
    {
     "name": "stderr",
     "output_type": "stream",
     "text": [
      "Generating responses:  38%|███▊      | 397/1039 [25:01<50:59,  4.77s/it]"
     ]
    },
    {
     "name": "stdout",
     "output_type": "stream",
     "text": [
      "[GIN] 2024/10/24 - 11:28:19 | 200 |  918.130931ms |       127.0.0.1 | POST     \"/api/generate\"\n",
      "INFO [update_slots] input truncated | n_ctx=2048 n_erase=103266 n_keep=4 n_left=2044 n_shift=1022 tid=\"138523311972352\" timestamp=1729769300\n",
      "[GIN] 2024/10/24 - 11:28:22 | 200 |  3.278729703s |       127.0.0.1 | POST     \"/api/generate\"\n"
     ]
    },
    {
     "name": "stderr",
     "output_type": "stream",
     "text": [
      "Generating responses:  38%|███▊      | 398/1039 [25:05<50:25,  4.72s/it]"
     ]
    },
    {
     "name": "stdout",
     "output_type": "stream",
     "text": [
      "[GIN] 2024/10/24 - 11:28:23 | 200 |  997.525811ms |       127.0.0.1 | POST     \"/api/generate\"\n",
      "INFO [update_slots] input truncated | n_ctx=2048 n_erase=103523 n_keep=4 n_left=2044 n_shift=1022 tid=\"138523311972352\" timestamp=1729769304\n",
      "[GIN] 2024/10/24 - 11:28:27 | 200 |  3.471080544s |       127.0.0.1 | POST     \"/api/generate\"\n"
     ]
    },
    {
     "name": "stderr",
     "output_type": "stream",
     "text": [
      "Generating responses:  38%|███▊      | 399/1039 [25:10<51:14,  4.80s/it]"
     ]
    },
    {
     "name": "stdout",
     "output_type": "stream",
     "text": [
      "[GIN] 2024/10/24 - 11:28:28 | 200 |   1.17974493s |       127.0.0.1 | POST     \"/api/generate\"\n",
      "INFO [update_slots] input truncated | n_ctx=2048 n_erase=103784 n_keep=4 n_left=2044 n_shift=1022 tid=\"138523311972352\" timestamp=1729769309\n",
      "[GIN] 2024/10/24 - 11:28:32 | 200 |  3.404030089s |       127.0.0.1 | POST     \"/api/generate\"\n"
     ]
    },
    {
     "name": "stderr",
     "output_type": "stream",
     "text": [
      "Generating responses:  38%|███▊      | 400/1039 [25:15<51:07,  4.80s/it]"
     ]
    },
    {
     "name": "stdout",
     "output_type": "stream",
     "text": [
      "[GIN] 2024/10/24 - 11:28:33 | 200 |    1.0409023s |       127.0.0.1 | POST     \"/api/generate\"\n",
      "INFO [update_slots] input truncated | n_ctx=2048 n_erase=104045 n_keep=4 n_left=2044 n_shift=1022 tid=\"138523311972352\" timestamp=1729769314\n",
      "[GIN] 2024/10/24 - 11:28:36 | 200 |   3.27798673s |       127.0.0.1 | POST     \"/api/generate\"\n"
     ]
    },
    {
     "name": "stderr",
     "output_type": "stream",
     "text": [
      "Generating responses:  39%|███▊      | 401/1039 [25:19<49:28,  4.65s/it]"
     ]
    },
    {
     "name": "stdout",
     "output_type": "stream",
     "text": [
      "[GIN] 2024/10/24 - 11:28:37 | 200 |  684.373685ms |       127.0.0.1 | POST     \"/api/generate\"\n",
      "INFO [update_slots] input truncated | n_ctx=2048 n_erase=104288 n_keep=4 n_left=2044 n_shift=1022 tid=\"138523311972352\" timestamp=1729769318\n",
      "[GIN] 2024/10/24 - 11:28:41 | 200 |  3.394400846s |       127.0.0.1 | POST     \"/api/generate\"\n",
      "[GIN] 2024/10/24 - 11:28:42 | 200 |   708.59937ms |       127.0.0.1 | POST     \"/api/generate\"\n"
     ]
    },
    {
     "name": "stderr",
     "output_type": "stream",
     "text": [
      "Generating responses:  39%|███▊      | 402/1039 [25:25<53:06,  5.00s/it]"
     ]
    },
    {
     "name": "stdout",
     "output_type": "stream",
     "text": [
      "[GIN] 2024/10/24 - 11:28:43 | 200 |  1.364873079s |       127.0.0.1 | POST     \"/api/generate\"\n",
      "INFO [update_slots] input truncated | n_ctx=2048 n_erase=104525 n_keep=4 n_left=2044 n_shift=1022 tid=\"138523311972352\" timestamp=1729769324\n",
      "[GIN] 2024/10/24 - 11:28:46 | 200 |  3.332655145s |       127.0.0.1 | POST     \"/api/generate\"\n"
     ]
    },
    {
     "name": "stderr",
     "output_type": "stream",
     "text": [
      "Generating responses:  39%|███▉      | 403/1039 [25:30<53:47,  5.07s/it]"
     ]
    },
    {
     "name": "stdout",
     "output_type": "stream",
     "text": [
      "[GIN] 2024/10/24 - 11:28:48 | 200 |  1.553864045s |       127.0.0.1 | POST     \"/api/generate\"\n",
      "INFO [update_slots] input truncated | n_ctx=2048 n_erase=104804 n_keep=4 n_left=2044 n_shift=1022 tid=\"138523311972352\" timestamp=1729769330\n",
      "[GIN] 2024/10/24 - 11:28:52 | 200 |  3.432067694s |       127.0.0.1 | POST     \"/api/generate\"\n"
     ]
    },
    {
     "name": "stderr",
     "output_type": "stream",
     "text": [
      "Generating responses:  39%|███▉      | 404/1039 [25:35<53:34,  5.06s/it]"
     ]
    },
    {
     "name": "stdout",
     "output_type": "stream",
     "text": [
      "[GIN] 2024/10/24 - 11:28:53 | 200 |  1.259302811s |       127.0.0.1 | POST     \"/api/generate\"\n",
      "INFO [update_slots] input truncated | n_ctx=2048 n_erase=105079 n_keep=4 n_left=2044 n_shift=1022 tid=\"138523311972352\" timestamp=1729769334\n",
      "[GIN] 2024/10/24 - 11:28:57 | 200 |  3.504498271s |       127.0.0.1 | POST     \"/api/generate\"\n"
     ]
    },
    {
     "name": "stderr",
     "output_type": "stream",
     "text": [
      "Generating responses:  39%|███▉      | 405/1039 [25:41<55:27,  5.25s/it]"
     ]
    },
    {
     "name": "stdout",
     "output_type": "stream",
     "text": [
      "[GIN] 2024/10/24 - 11:28:59 | 200 |  1.830011934s |       127.0.0.1 | POST     \"/api/generate\"\n",
      "INFO [update_slots] input truncated | n_ctx=2048 n_erase=105377 n_keep=4 n_left=2044 n_shift=1022 tid=\"138523311972352\" timestamp=1729769340\n",
      "[GIN] 2024/10/24 - 11:29:02 | 200 |  3.459633824s |       127.0.0.1 | POST     \"/api/generate\"\n"
     ]
    },
    {
     "name": "stderr",
     "output_type": "stream",
     "text": [
      "Generating responses:  39%|███▉      | 406/1039 [25:46<54:36,  5.18s/it]"
     ]
    },
    {
     "name": "stdout",
     "output_type": "stream",
     "text": [
      "[GIN] 2024/10/24 - 11:29:04 | 200 |  1.193153707s |       127.0.0.1 | POST     \"/api/generate\"\n",
      "INFO [update_slots] input truncated | n_ctx=2048 n_erase=105639 n_keep=4 n_left=2044 n_shift=1022 tid=\"138523311972352\" timestamp=1729769345\n",
      "[GIN] 2024/10/24 - 11:29:07 | 200 |    3.1780806s |       127.0.0.1 | POST     \"/api/generate\"\n"
     ]
    },
    {
     "name": "stderr",
     "output_type": "stream",
     "text": [
      "Generating responses:  39%|███▉      | 407/1039 [25:51<52:29,  4.98s/it]"
     ]
    },
    {
     "name": "stdout",
     "output_type": "stream",
     "text": [
      "[GIN] 2024/10/24 - 11:29:09 | 200 |  1.006365122s |       127.0.0.1 | POST     \"/api/generate\"\n",
      "INFO [update_slots] input truncated | n_ctx=2048 n_erase=105897 n_keep=4 n_left=2044 n_shift=1022 tid=\"138523311972352\" timestamp=1729769350\n",
      "[GIN] 2024/10/24 - 11:29:12 | 200 |  3.482870507s |       127.0.0.1 | POST     \"/api/generate\"\n"
     ]
    },
    {
     "name": "stderr",
     "output_type": "stream",
     "text": [
      "Generating responses:  39%|███▉      | 408/1039 [25:56<51:52,  4.93s/it]"
     ]
    },
    {
     "name": "stdout",
     "output_type": "stream",
     "text": [
      "[GIN] 2024/10/24 - 11:29:13 | 200 |  975.769765ms |       127.0.0.1 | POST     \"/api/generate\"\n",
      "INFO [update_slots] input truncated | n_ctx=2048 n_erase=106149 n_keep=4 n_left=2044 n_shift=1022 tid=\"138523311972352\" timestamp=1729769355\n",
      "[GIN] 2024/10/24 - 11:29:17 | 200 |  3.257068085s |       127.0.0.1 | POST     \"/api/generate\"\n"
     ]
    },
    {
     "name": "stderr",
     "output_type": "stream",
     "text": [
      "Generating responses:  39%|███▉      | 409/1039 [26:00<51:05,  4.87s/it]"
     ]
    },
    {
     "name": "stdout",
     "output_type": "stream",
     "text": [
      "[GIN] 2024/10/24 - 11:29:18 | 200 |  1.101171997s |       127.0.0.1 | POST     \"/api/generate\"\n",
      "INFO [update_slots] input truncated | n_ctx=2048 n_erase=106405 n_keep=4 n_left=2044 n_shift=1022 tid=\"138523311972352\" timestamp=1729769359\n",
      "[GIN] 2024/10/24 - 11:29:22 | 200 |   3.53538679s |       127.0.0.1 | POST     \"/api/generate\"\n",
      "[GIN] 2024/10/24 - 11:29:23 | 200 |  838.062194ms |       127.0.0.1 | POST     \"/api/generate\"\n"
     ]
    },
    {
     "name": "stderr",
     "output_type": "stream",
     "text": [
      "Generating responses:  39%|███▉      | 410/1039 [26:06<54:08,  5.17s/it]"
     ]
    },
    {
     "name": "stdout",
     "output_type": "stream",
     "text": [
      "[GIN] 2024/10/24 - 11:29:24 | 200 |  1.122939035s |       127.0.0.1 | POST     \"/api/generate\"\n",
      "INFO [update_slots] input truncated | n_ctx=2048 n_erase=106644 n_keep=4 n_left=2044 n_shift=1022 tid=\"138523311972352\" timestamp=1729769365\n",
      "[GIN] 2024/10/24 - 11:29:27 | 200 |  3.377845761s |       127.0.0.1 | POST     \"/api/generate\"\n"
     ]
    },
    {
     "name": "stderr",
     "output_type": "stream",
     "text": [
      "Generating responses:  40%|███▉      | 411/1039 [26:12<56:11,  5.37s/it]"
     ]
    },
    {
     "name": "stdout",
     "output_type": "stream",
     "text": [
      "[GIN] 2024/10/24 - 11:29:30 | 200 |  2.101814084s |       127.0.0.1 | POST     \"/api/generate\"\n",
      "INFO [update_slots] input truncated | n_ctx=2048 n_erase=106967 n_keep=4 n_left=2044 n_shift=1022 tid=\"138523311972352\" timestamp=1729769371\n",
      "[GIN] 2024/10/24 - 11:29:33 | 200 |  3.555425561s |       127.0.0.1 | POST     \"/api/generate\"\n"
     ]
    },
    {
     "name": "stderr",
     "output_type": "stream",
     "text": [
      "Generating responses:  40%|███▉      | 412/1039 [26:17<55:40,  5.33s/it]"
     ]
    },
    {
     "name": "stdout",
     "output_type": "stream",
     "text": [
      "[GIN] 2024/10/24 - 11:29:35 | 200 |  1.314178581s |       127.0.0.1 | POST     \"/api/generate\"\n",
      "INFO [update_slots] input truncated | n_ctx=2048 n_erase=107235 n_keep=4 n_left=2044 n_shift=1022 tid=\"138523311972352\" timestamp=1729769376\n",
      "[GIN] 2024/10/24 - 11:29:38 | 200 |  3.265876939s |       127.0.0.1 | POST     \"/api/generate\"\n"
     ]
    },
    {
     "name": "stderr",
     "output_type": "stream",
     "text": [
      "Generating responses:  40%|███▉      | 413/1039 [26:22<54:30,  5.22s/it]"
     ]
    },
    {
     "name": "stdout",
     "output_type": "stream",
     "text": [
      "[GIN] 2024/10/24 - 11:29:40 | 200 |  1.356915823s |       127.0.0.1 | POST     \"/api/generate\"\n",
      "INFO [update_slots] input truncated | n_ctx=2048 n_erase=107508 n_keep=4 n_left=2044 n_shift=1022 tid=\"138523311972352\" timestamp=1729769381\n",
      "[GIN] 2024/10/24 - 11:29:43 | 200 |  3.442223885s |       127.0.0.1 | POST     \"/api/generate\"\n"
     ]
    },
    {
     "name": "stderr",
     "output_type": "stream",
     "text": [
      "Generating responses:  40%|███▉      | 414/1039 [26:28<56:20,  5.41s/it]"
     ]
    },
    {
     "name": "stdout",
     "output_type": "stream",
     "text": [
      "[GIN] 2024/10/24 - 11:29:46 | 200 |  2.034693003s |       127.0.0.1 | POST     \"/api/generate\"\n",
      "INFO [update_slots] input truncated | n_ctx=2048 n_erase=107820 n_keep=4 n_left=2044 n_shift=1022 tid=\"138523311972352\" timestamp=1729769387\n",
      "[GIN] 2024/10/24 - 11:29:49 | 200 |  3.259209334s |       127.0.0.1 | POST     \"/api/generate\"\n",
      "[GIN] 2024/10/24 - 11:29:51 | 200 |  1.086079285s |       127.0.0.1 | POST     \"/api/generate\"\n"
     ]
    },
    {
     "name": "stderr",
     "output_type": "stream",
     "text": [
      "Generating responses:  40%|███▉      | 415/1039 [26:34<57:11,  5.50s/it]"
     ]
    },
    {
     "name": "stdout",
     "output_type": "stream",
     "text": [
      "[GIN] 2024/10/24 - 11:29:52 | 200 |  972.910953ms |       127.0.0.1 | POST     \"/api/generate\"\n",
      "INFO [update_slots] input truncated | n_ctx=2048 n_erase=108076 n_keep=4 n_left=2044 n_shift=1022 tid=\"138523311972352\" timestamp=1729769393\n",
      "[GIN] 2024/10/24 - 11:29:55 | 200 |  3.320585681s |       127.0.0.1 | POST     \"/api/generate\"\n",
      "[GIN] 2024/10/24 - 11:29:56 | 200 |  839.799032ms |       127.0.0.1 | POST     \"/api/generate\"\n"
     ]
    },
    {
     "name": "stderr",
     "output_type": "stream",
     "text": [
      "Generating responses:  40%|████      | 416/1039 [26:39<57:20,  5.52s/it]"
     ]
    },
    {
     "name": "stdout",
     "output_type": "stream",
     "text": [
      "[GIN] 2024/10/24 - 11:29:57 | 200 |  1.060829313s |       127.0.0.1 | POST     \"/api/generate\"\n",
      "INFO [update_slots] input truncated | n_ctx=2048 n_erase=108320 n_keep=4 n_left=2044 n_shift=1022 tid=\"138523311972352\" timestamp=1729769398\n",
      "[GIN] 2024/10/24 - 11:30:00 | 200 |  3.282449049s |       127.0.0.1 | POST     \"/api/generate\"\n"
     ]
    },
    {
     "name": "stderr",
     "output_type": "stream",
     "text": [
      "Generating responses:  40%|████      | 417/1039 [26:43<53:13,  5.13s/it]"
     ]
    },
    {
     "name": "stdout",
     "output_type": "stream",
     "text": [
      "[GIN] 2024/10/24 - 11:30:01 | 200 |  579.143912ms |       127.0.0.1 | POST     \"/api/generate\"\n",
      "INFO [update_slots] input truncated | n_ctx=2048 n_erase=108555 n_keep=4 n_left=2044 n_shift=1022 tid=\"138523311972352\" timestamp=1729769403\n",
      "[GIN] 2024/10/24 - 11:30:05 | 200 |  3.767606097s |       127.0.0.1 | POST     \"/api/generate\"\n"
     ]
    },
    {
     "name": "stderr",
     "output_type": "stream",
     "text": [
      "Generating responses:  40%|████      | 418/1039 [26:49<54:42,  5.29s/it]"
     ]
    },
    {
     "name": "stdout",
     "output_type": "stream",
     "text": [
      "[GIN] 2024/10/24 - 11:30:07 | 200 |  1.512479921s |       127.0.0.1 | POST     \"/api/generate\"\n",
      "INFO [update_slots] input truncated | n_ctx=2048 n_erase=108836 n_keep=4 n_left=2044 n_shift=1022 tid=\"138523311972352\" timestamp=1729769408\n",
      "[GIN] 2024/10/24 - 11:30:10 | 200 |  3.431048657s |       127.0.0.1 | POST     \"/api/generate\"\n"
     ]
    },
    {
     "name": "stderr",
     "output_type": "stream",
     "text": [
      "Generating responses:  40%|████      | 419/1039 [26:54<54:35,  5.28s/it]"
     ]
    },
    {
     "name": "stdout",
     "output_type": "stream",
     "text": [
      "[GIN] 2024/10/24 - 11:30:12 | 200 |  1.469175419s |       127.0.0.1 | POST     \"/api/generate\"\n",
      "INFO [update_slots] input truncated | n_ctx=2048 n_erase=109117 n_keep=4 n_left=2044 n_shift=1022 tid=\"138523311972352\" timestamp=1729769413\n",
      "[GIN] 2024/10/24 - 11:30:16 | 200 |  3.587287094s |       127.0.0.1 | POST     \"/api/generate\"\n"
     ]
    },
    {
     "name": "stderr",
     "output_type": "stream",
     "text": [
      "Generating responses:  40%|████      | 420/1039 [26:59<53:09,  5.15s/it]"
     ]
    },
    {
     "name": "stdout",
     "output_type": "stream",
     "text": [
      "[GIN] 2024/10/24 - 11:30:17 | 200 |  892.308541ms |       127.0.0.1 | POST     \"/api/generate\"\n",
      "INFO [update_slots] input truncated | n_ctx=2048 n_erase=109364 n_keep=4 n_left=2044 n_shift=1022 tid=\"138523311972352\" timestamp=1729769418\n",
      "[GIN] 2024/10/24 - 11:30:21 | 200 |  3.649675816s |       127.0.0.1 | POST     \"/api/generate\"\n"
     ]
    },
    {
     "name": "stderr",
     "output_type": "stream",
     "text": [
      "Generating responses:  41%|████      | 421/1039 [27:04<52:15,  5.07s/it]"
     ]
    },
    {
     "name": "stdout",
     "output_type": "stream",
     "text": [
      "[GIN] 2024/10/24 - 11:30:22 | 200 |  858.593025ms |       127.0.0.1 | POST     \"/api/generate\"\n",
      "INFO [update_slots] input truncated | n_ctx=2048 n_erase=109612 n_keep=4 n_left=2044 n_shift=1022 tid=\"138523311972352\" timestamp=1729769423\n",
      "[GIN] 2024/10/24 - 11:30:26 | 200 |  3.564089714s |       127.0.0.1 | POST     \"/api/generate\"\n"
     ]
    },
    {
     "name": "stderr",
     "output_type": "stream",
     "text": [
      "Generating responses:  41%|████      | 422/1039 [27:09<51:30,  5.01s/it]"
     ]
    },
    {
     "name": "stdout",
     "output_type": "stream",
     "text": [
      "[GIN] 2024/10/24 - 11:30:27 | 200 |  904.385548ms |       127.0.0.1 | POST     \"/api/generate\"\n",
      "INFO [update_slots] input truncated | n_ctx=2048 n_erase=109847 n_keep=4 n_left=2044 n_shift=1022 tid=\"138523311972352\" timestamp=1729769428\n",
      "[GIN] 2024/10/24 - 11:30:30 | 200 |  3.201120919s |       127.0.0.1 | POST     \"/api/generate\"\n",
      "[GIN] 2024/10/24 - 11:30:31 | 200 |  357.993194ms |       127.0.0.1 | POST     \"/api/generate\"\n"
     ]
    },
    {
     "name": "stderr",
     "output_type": "stream",
     "text": [
      "Generating responses:  41%|████      | 423/1039 [27:13<49:40,  4.84s/it]"
     ]
    },
    {
     "name": "stdout",
     "output_type": "stream",
     "text": [
      "[GIN] 2024/10/24 - 11:30:31 | 200 |  490.617534ms |       127.0.0.1 | POST     \"/api/generate\"\n",
      "INFO [update_slots] input truncated | n_ctx=2048 n_erase=110061 n_keep=4 n_left=2044 n_shift=1022 tid=\"138523311972352\" timestamp=1729769433\n",
      "[GIN] 2024/10/24 - 11:30:35 | 200 |  3.544321704s |       127.0.0.1 | POST     \"/api/generate\"\n"
     ]
    },
    {
     "name": "stderr",
     "output_type": "stream",
     "text": [
      "Generating responses:  41%|████      | 424/1039 [27:18<49:25,  4.82s/it]"
     ]
    },
    {
     "name": "stdout",
     "output_type": "stream",
     "text": [
      "[GIN] 2024/10/24 - 11:30:36 | 200 |  864.646466ms |       127.0.0.1 | POST     \"/api/generate\"\n",
      "INFO [update_slots] input truncated | n_ctx=2048 n_erase=110307 n_keep=4 n_left=2044 n_shift=1022 tid=\"138523311972352\" timestamp=1729769437\n",
      "[GIN] 2024/10/24 - 11:30:40 | 200 |   3.64856763s |       127.0.0.1 | POST     \"/api/generate\"\n"
     ]
    },
    {
     "name": "stderr",
     "output_type": "stream",
     "text": [
      "Generating responses:  41%|████      | 425/1039 [27:23<49:43,  4.86s/it]"
     ]
    },
    {
     "name": "stdout",
     "output_type": "stream",
     "text": [
      "[GIN] 2024/10/24 - 11:30:41 | 200 |  911.009284ms |       127.0.0.1 | POST     \"/api/generate\"\n",
      "INFO [update_slots] input truncated | n_ctx=2048 n_erase=110557 n_keep=4 n_left=2044 n_shift=1022 tid=\"138523311972352\" timestamp=1729769442\n",
      "[GIN] 2024/10/24 - 11:30:45 | 200 |  3.706414296s |       127.0.0.1 | POST     \"/api/generate\"\n"
     ]
    },
    {
     "name": "stderr",
     "output_type": "stream",
     "text": [
      "Generating responses:  41%|████      | 426/1039 [27:28<49:36,  4.86s/it]"
     ]
    },
    {
     "name": "stdout",
     "output_type": "stream",
     "text": [
      "[GIN] 2024/10/24 - 11:30:46 | 200 |  747.979035ms |       127.0.0.1 | POST     \"/api/generate\"\n",
      "INFO [update_slots] input truncated | n_ctx=2048 n_erase=110801 n_keep=4 n_left=2044 n_shift=1022 tid=\"138523311972352\" timestamp=1729769447\n",
      "[GIN] 2024/10/24 - 11:30:50 | 200 |  3.922314536s |       127.0.0.1 | POST     \"/api/generate\"\n"
     ]
    },
    {
     "name": "stderr",
     "output_type": "stream",
     "text": [
      "Generating responses:  41%|████      | 427/1039 [27:34<51:59,  5.10s/it]"
     ]
    },
    {
     "name": "stdout",
     "output_type": "stream",
     "text": [
      "[GIN] 2024/10/24 - 11:30:52 | 200 |  1.346284512s |       127.0.0.1 | POST     \"/api/generate\"\n",
      "INFO [update_slots] input truncated | n_ctx=2048 n_erase=111070 n_keep=4 n_left=2044 n_shift=1022 tid=\"138523311972352\" timestamp=1729769453\n",
      "[GIN] 2024/10/24 - 11:30:55 | 200 |  3.537387583s |       127.0.0.1 | POST     \"/api/generate\"\n"
     ]
    },
    {
     "name": "stderr",
     "output_type": "stream",
     "text": [
      "Generating responses:  41%|████      | 428/1039 [27:39<51:39,  5.07s/it]"
     ]
    },
    {
     "name": "stdout",
     "output_type": "stream",
     "text": [
      "[GIN] 2024/10/24 - 11:30:57 | 200 |  1.093933315s |       127.0.0.1 | POST     \"/api/generate\"\n",
      "INFO [update_slots] input truncated | n_ctx=2048 n_erase=111329 n_keep=4 n_left=2044 n_shift=1022 tid=\"138523311972352\" timestamp=1729769458\n",
      "[GIN] 2024/10/24 - 11:31:00 | 200 |  3.593465315s |       127.0.0.1 | POST     \"/api/generate\"\n"
     ]
    },
    {
     "name": "stderr",
     "output_type": "stream",
     "text": [
      "Generating responses:  41%|████▏     | 429/1039 [27:44<52:49,  5.20s/it]"
     ]
    },
    {
     "name": "stdout",
     "output_type": "stream",
     "text": [
      "[GIN] 2024/10/24 - 11:31:02 | 200 |  1.497702769s |       127.0.0.1 | POST     \"/api/generate\"\n",
      "INFO [update_slots] input truncated | n_ctx=2048 n_erase=111602 n_keep=4 n_left=2044 n_shift=1022 tid=\"138523311972352\" timestamp=1729769463\n",
      "[GIN] 2024/10/24 - 11:31:06 | 200 |  3.607175429s |       127.0.0.1 | POST     \"/api/generate\"\n"
     ]
    },
    {
     "name": "stderr",
     "output_type": "stream",
     "text": [
      "Generating responses:  41%|████▏     | 430/1039 [27:49<51:58,  5.12s/it]"
     ]
    },
    {
     "name": "stdout",
     "output_type": "stream",
     "text": [
      "[GIN] 2024/10/24 - 11:31:07 | 200 |  942.345794ms |       127.0.0.1 | POST     \"/api/generate\"\n",
      "INFO [update_slots] input truncated | n_ctx=2048 n_erase=111850 n_keep=4 n_left=2044 n_shift=1022 tid=\"138523311972352\" timestamp=1729769468\n",
      "[GIN] 2024/10/24 - 11:31:10 | 200 |  3.450505252s |       127.0.0.1 | POST     \"/api/generate\"\n"
     ]
    },
    {
     "name": "stderr",
     "output_type": "stream",
     "text": [
      "Generating responses:  41%|████▏     | 431/1039 [27:54<49:46,  4.91s/it]"
     ]
    },
    {
     "name": "stdout",
     "output_type": "stream",
     "text": [
      "[GIN] 2024/10/24 - 11:31:11 | 200 |  576.725732ms |       127.0.0.1 | POST     \"/api/generate\"\n",
      "INFO [update_slots] input truncated | n_ctx=2048 n_erase=112081 n_keep=4 n_left=2044 n_shift=1022 tid=\"138523311972352\" timestamp=1729769473\n",
      "[GIN] 2024/10/24 - 11:31:15 | 200 |  3.642464485s |       127.0.0.1 | POST     \"/api/generate\"\n"
     ]
    },
    {
     "name": "stderr",
     "output_type": "stream",
     "text": [
      "Generating responses:  42%|████▏     | 432/1039 [27:59<51:42,  5.11s/it]"
     ]
    },
    {
     "name": "stdout",
     "output_type": "stream",
     "text": [
      "[GIN] 2024/10/24 - 11:31:17 | 200 |  1.534102108s |       127.0.0.1 | POST     \"/api/generate\"\n",
      "INFO [update_slots] input truncated | n_ctx=2048 n_erase=112362 n_keep=4 n_left=2044 n_shift=1022 tid=\"138523311972352\" timestamp=1729769478\n",
      "[GIN] 2024/10/24 - 11:31:20 | 200 |  3.396226651s |       127.0.0.1 | POST     \"/api/generate\"\n"
     ]
    },
    {
     "name": "stderr",
     "output_type": "stream",
     "text": [
      "Generating responses:  42%|████▏     | 433/1039 [28:04<51:15,  5.07s/it]"
     ]
    },
    {
     "name": "stdout",
     "output_type": "stream",
     "text": [
      "[GIN] 2024/10/24 - 11:31:22 | 200 |  1.222265969s |       127.0.0.1 | POST     \"/api/generate\"\n",
      "INFO [update_slots] input truncated | n_ctx=2048 n_erase=112632 n_keep=4 n_left=2044 n_shift=1022 tid=\"138523311972352\" timestamp=1729769483\n",
      "[GIN] 2024/10/24 - 11:31:26 | 200 |  3.567059667s |       127.0.0.1 | POST     \"/api/generate\"\n"
     ]
    },
    {
     "name": "stderr",
     "output_type": "stream",
     "text": [
      "Generating responses:  42%|████▏     | 434/1039 [28:10<52:40,  5.22s/it]"
     ]
    },
    {
     "name": "stdout",
     "output_type": "stream",
     "text": [
      "[GIN] 2024/10/24 - 11:31:28 | 200 |  1.608056205s |       127.0.0.1 | POST     \"/api/generate\"\n",
      "INFO [update_slots] input truncated | n_ctx=2048 n_erase=112913 n_keep=4 n_left=2044 n_shift=1022 tid=\"138523311972352\" timestamp=1729769489\n",
      "[GIN] 2024/10/24 - 11:31:31 | 200 |  3.481601115s |       127.0.0.1 | POST     \"/api/generate\"\n"
     ]
    },
    {
     "name": "stderr",
     "output_type": "stream",
     "text": [
      "Generating responses:  42%|████▏     | 435/1039 [28:15<52:51,  5.25s/it]"
     ]
    },
    {
     "name": "stdout",
     "output_type": "stream",
     "text": [
      "[GIN] 2024/10/24 - 11:31:33 | 200 |  1.453551205s |       127.0.0.1 | POST     \"/api/generate\"\n",
      "INFO [update_slots] input truncated | n_ctx=2048 n_erase=113186 n_keep=4 n_left=2044 n_shift=1022 tid=\"138523311972352\" timestamp=1729769494\n",
      "[GIN] 2024/10/24 - 11:31:36 | 200 |  3.373247566s |       127.0.0.1 | POST     \"/api/generate\"\n"
     ]
    },
    {
     "name": "stderr",
     "output_type": "stream",
     "text": [
      "Generating responses:  42%|████▏     | 436/1039 [28:20<51:17,  5.10s/it]"
     ]
    },
    {
     "name": "stdout",
     "output_type": "stream",
     "text": [
      "[GIN] 2024/10/24 - 11:31:38 | 200 |   1.00650797s |       127.0.0.1 | POST     \"/api/generate\"\n",
      "INFO [update_slots] input truncated | n_ctx=2048 n_erase=113461 n_keep=4 n_left=2044 n_shift=1022 tid=\"138523311972352\" timestamp=1729769499\n",
      "[GIN] 2024/10/24 - 11:31:41 | 200 |  3.511109939s |       127.0.0.1 | POST     \"/api/generate\"\n"
     ]
    },
    {
     "name": "stderr",
     "output_type": "stream",
     "text": [
      "Generating responses:  42%|████▏     | 437/1039 [28:25<50:14,  5.01s/it]"
     ]
    },
    {
     "name": "stdout",
     "output_type": "stream",
     "text": [
      "[GIN] 2024/10/24 - 11:31:42 | 200 |   880.54538ms |       127.0.0.1 | POST     \"/api/generate\"\n",
      "INFO [update_slots] input truncated | n_ctx=2048 n_erase=113702 n_keep=4 n_left=2044 n_shift=1022 tid=\"138523311972352\" timestamp=1729769504\n",
      "[GIN] 2024/10/24 - 11:31:46 | 200 |  3.722892806s |       127.0.0.1 | POST     \"/api/generate\"\n"
     ]
    },
    {
     "name": "stderr",
     "output_type": "stream",
     "text": [
      "Generating responses:  42%|████▏     | 438/1039 [28:29<49:34,  4.95s/it]"
     ]
    },
    {
     "name": "stdout",
     "output_type": "stream",
     "text": [
      "[GIN] 2024/10/24 - 11:31:47 | 200 |  704.197532ms |       127.0.0.1 | POST     \"/api/generate\"\n",
      "INFO [update_slots] input truncated | n_ctx=2048 n_erase=113934 n_keep=4 n_left=2044 n_shift=1022 tid=\"138523311972352\" timestamp=1729769508\n",
      "[GIN] 2024/10/24 - 11:31:51 | 200 |  3.362378979s |       127.0.0.1 | POST     \"/api/generate\"\n"
     ]
    },
    {
     "name": "stderr",
     "output_type": "stream",
     "text": [
      "Generating responses:  42%|████▏     | 439/1039 [28:34<48:30,  4.85s/it]"
     ]
    },
    {
     "name": "stdout",
     "output_type": "stream",
     "text": [
      "[GIN] 2024/10/24 - 11:31:52 | 200 |   869.55652ms |       127.0.0.1 | POST     \"/api/generate\"\n",
      "INFO [update_slots] input truncated | n_ctx=2048 n_erase=114179 n_keep=4 n_left=2044 n_shift=1022 tid=\"138523311972352\" timestamp=1729769513\n",
      "[GIN] 2024/10/24 - 11:31:55 | 200 |  3.572134069s |       127.0.0.1 | POST     \"/api/generate\"\n"
     ]
    },
    {
     "name": "stderr",
     "output_type": "stream",
     "text": [
      "Generating responses:  42%|████▏     | 440/1039 [28:40<51:54,  5.20s/it]"
     ]
    },
    {
     "name": "stdout",
     "output_type": "stream",
     "text": [
      "[GIN] 2024/10/24 - 11:31:58 | 200 |  2.054703723s |       127.0.0.1 | POST     \"/api/generate\"\n",
      "INFO [update_slots] input truncated | n_ctx=2048 n_erase=114492 n_keep=4 n_left=2044 n_shift=1022 tid=\"138523311972352\" timestamp=1729769519\n",
      "[GIN] 2024/10/24 - 11:32:01 | 200 |  3.380589475s |       127.0.0.1 | POST     \"/api/generate\"\n"
     ]
    },
    {
     "name": "stderr",
     "output_type": "stream",
     "text": [
      "Generating responses:  42%|████▏     | 441/1039 [28:45<50:22,  5.05s/it]"
     ]
    },
    {
     "name": "stdout",
     "output_type": "stream",
     "text": [
      "[GIN] 2024/10/24 - 11:32:03 | 200 |  937.188779ms |       127.0.0.1 | POST     \"/api/generate\"\n",
      "INFO [update_slots] input truncated | n_ctx=2048 n_erase=114741 n_keep=4 n_left=2044 n_shift=1022 tid=\"138523311972352\" timestamp=1729769524\n",
      "[GIN] 2024/10/24 - 11:32:06 | 200 |   3.49027277s |       127.0.0.1 | POST     \"/api/generate\"\n"
     ]
    },
    {
     "name": "stderr",
     "output_type": "stream",
     "text": [
      "Generating responses:  43%|████▎     | 442/1039 [28:50<49:31,  4.98s/it]"
     ]
    },
    {
     "name": "stdout",
     "output_type": "stream",
     "text": [
      "[GIN] 2024/10/24 - 11:32:07 | 200 |  915.826299ms |       127.0.0.1 | POST     \"/api/generate\"\n",
      "INFO [update_slots] input truncated | n_ctx=2048 n_erase=115001 n_keep=4 n_left=2044 n_shift=1022 tid=\"138523311972352\" timestamp=1729769529\n",
      "[GIN] 2024/10/24 - 11:32:11 | 200 |  3.815193268s |       127.0.0.1 | POST     \"/api/generate\"\n",
      "[GIN] 2024/10/24 - 11:32:14 | 200 |  2.771038412s |       127.0.0.1 | POST     \"/api/generate\"\n"
     ]
    },
    {
     "name": "stderr",
     "output_type": "stream",
     "text": [
      "Generating responses:  43%|████▎     | 443/1039 [28:58<59:44,  6.01s/it]"
     ]
    },
    {
     "name": "stdout",
     "output_type": "stream",
     "text": [
      "[GIN] 2024/10/24 - 11:32:16 | 200 |  1.436248707s |       127.0.0.1 | POST     \"/api/generate\"\n",
      "INFO [update_slots] input truncated | n_ctx=2048 n_erase=115352 n_keep=4 n_left=2044 n_shift=1022 tid=\"138523311972352\" timestamp=1729769537\n",
      "[GIN] 2024/10/24 - 11:32:19 | 200 |  3.564210041s |       127.0.0.1 | POST     \"/api/generate\"\n"
     ]
    },
    {
     "name": "stderr",
     "output_type": "stream",
     "text": [
      "Generating responses:  43%|████▎     | 444/1039 [29:03<56:30,  5.70s/it]"
     ]
    },
    {
     "name": "stdout",
     "output_type": "stream",
     "text": [
      "[GIN] 2024/10/24 - 11:32:21 | 200 |  997.302711ms |       127.0.0.1 | POST     \"/api/generate\"\n",
      "INFO [update_slots] input truncated | n_ctx=2048 n_erase=115605 n_keep=4 n_left=2044 n_shift=1022 tid=\"138523311972352\" timestamp=1729769542\n",
      "[GIN] 2024/10/24 - 11:32:24 | 200 |  3.385931107s |       127.0.0.1 | POST     \"/api/generate\"\n"
     ]
    },
    {
     "name": "stderr",
     "output_type": "stream",
     "text": [
      "Generating responses:  43%|████▎     | 445/1039 [29:08<53:59,  5.45s/it]"
     ]
    },
    {
     "name": "stdout",
     "output_type": "stream",
     "text": [
      "[GIN] 2024/10/24 - 11:32:26 | 200 |  1.093926933s |       127.0.0.1 | POST     \"/api/generate\"\n",
      "INFO [update_slots] input truncated | n_ctx=2048 n_erase=115861 n_keep=4 n_left=2044 n_shift=1022 tid=\"138523311972352\" timestamp=1729769547\n",
      "[GIN] 2024/10/24 - 11:32:29 | 200 |  3.584892698s |       127.0.0.1 | POST     \"/api/generate\"\n",
      "[GIN] 2024/10/24 - 11:32:30 | 200 |   753.00896ms |       127.0.0.1 | POST     \"/api/generate\"\n"
     ]
    },
    {
     "name": "stderr",
     "output_type": "stream",
     "text": [
      "Generating responses:  43%|████▎     | 446/1039 [29:14<54:46,  5.54s/it]"
     ]
    },
    {
     "name": "stdout",
     "output_type": "stream",
     "text": [
      "[GIN] 2024/10/24 - 11:32:31 | 200 |  996.341499ms |       127.0.0.1 | POST     \"/api/generate\"\n",
      "INFO [update_slots] input truncated | n_ctx=2048 n_erase=116105 n_keep=4 n_left=2044 n_shift=1022 tid=\"138523311972352\" timestamp=1729769553\n",
      "[GIN] 2024/10/24 - 11:32:35 | 200 |   3.82396998s |       127.0.0.1 | POST     \"/api/generate\"\n"
     ]
    },
    {
     "name": "stderr",
     "output_type": "stream",
     "text": [
      "Generating responses:  43%|████▎     | 447/1039 [29:19<53:52,  5.46s/it]"
     ]
    },
    {
     "name": "stdout",
     "output_type": "stream",
     "text": [
      "[GIN] 2024/10/24 - 11:32:37 | 200 |  1.045690566s |       127.0.0.1 | POST     \"/api/generate\"\n",
      "INFO [update_slots] input truncated | n_ctx=2048 n_erase=116359 n_keep=4 n_left=2044 n_shift=1022 tid=\"138523311972352\" timestamp=1729769558\n",
      "[GIN] 2024/10/24 - 11:32:40 | 200 |  3.474531185s |       127.0.0.1 | POST     \"/api/generate\"\n"
     ]
    },
    {
     "name": "stderr",
     "output_type": "stream",
     "text": [
      "Generating responses:  43%|████▎     | 448/1039 [29:23<51:01,  5.18s/it]"
     ]
    },
    {
     "name": "stdout",
     "output_type": "stream",
     "text": [
      "[GIN] 2024/10/24 - 11:32:41 | 200 |  655.784016ms |       127.0.0.1 | POST     \"/api/generate\"\n",
      "INFO [update_slots] input truncated | n_ctx=2048 n_erase=116599 n_keep=4 n_left=2044 n_shift=1022 tid=\"138523311972352\" timestamp=1729769562\n",
      "[GIN] 2024/10/24 - 11:32:45 | 200 |  3.706646048s |       127.0.0.1 | POST     \"/api/generate\"\n"
     ]
    },
    {
     "name": "stderr",
     "output_type": "stream",
     "text": [
      "Generating responses:  43%|████▎     | 449/1039 [29:28<50:31,  5.14s/it]"
     ]
    },
    {
     "name": "stdout",
     "output_type": "stream",
     "text": [
      "[GIN] 2024/10/24 - 11:32:46 | 200 |  935.757716ms |       127.0.0.1 | POST     \"/api/generate\"\n",
      "INFO [update_slots] input truncated | n_ctx=2048 n_erase=116852 n_keep=4 n_left=2044 n_shift=1022 tid=\"138523311972352\" timestamp=1729769567\n",
      "[GIN] 2024/10/24 - 11:32:50 | 200 |  3.514654639s |       127.0.0.1 | POST     \"/api/generate\"\n"
     ]
    },
    {
     "name": "stderr",
     "output_type": "stream",
     "text": [
      "Generating responses:  43%|████▎     | 450/1039 [29:34<52:13,  5.32s/it]"
     ]
    },
    {
     "name": "stdout",
     "output_type": "stream",
     "text": [
      "[GIN] 2024/10/24 - 11:32:52 | 200 |  1.812784332s |       127.0.0.1 | POST     \"/api/generate\"\n",
      "INFO [update_slots] input truncated | n_ctx=2048 n_erase=117149 n_keep=4 n_left=2044 n_shift=1022 tid=\"138523311972352\" timestamp=1729769573\n",
      "[GIN] 2024/10/24 - 11:32:55 | 200 |  3.352794761s |       127.0.0.1 | POST     \"/api/generate\"\n",
      "[GIN] 2024/10/24 - 11:32:56 | 200 |  711.297148ms |       127.0.0.1 | POST     \"/api/generate\"\n"
     ]
    },
    {
     "name": "stderr",
     "output_type": "stream",
     "text": [
      "Generating responses:  43%|████▎     | 451/1039 [29:39<51:57,  5.30s/it]"
     ]
    },
    {
     "name": "stdout",
     "output_type": "stream",
     "text": [
      "[GIN] 2024/10/24 - 11:32:57 | 200 |  786.802608ms |       127.0.0.1 | POST     \"/api/generate\"\n",
      "INFO [update_slots] input truncated | n_ctx=2048 n_erase=117378 n_keep=4 n_left=2044 n_shift=1022 tid=\"138523311972352\" timestamp=1729769578\n",
      "[GIN] 2024/10/24 - 11:33:01 | 200 |  3.323583417s |       127.0.0.1 | POST     \"/api/generate\"\n"
     ]
    },
    {
     "name": "stderr",
     "output_type": "stream",
     "text": [
      "Generating responses:  44%|████▎     | 452/1039 [29:44<51:10,  5.23s/it]"
     ]
    },
    {
     "name": "stdout",
     "output_type": "stream",
     "text": [
      "[GIN] 2024/10/24 - 11:33:02 | 200 |  1.342012675s |       127.0.0.1 | POST     \"/api/generate\"\n",
      "INFO [update_slots] input truncated | n_ctx=2048 n_erase=117653 n_keep=4 n_left=2044 n_shift=1022 tid=\"138523311972352\" timestamp=1729769584\n",
      "[GIN] 2024/10/24 - 11:33:06 | 200 |  3.517210349s |       127.0.0.1 | POST     \"/api/generate\"\n"
     ]
    },
    {
     "name": "stderr",
     "output_type": "stream",
     "text": [
      "Generating responses:  44%|████▎     | 453/1039 [29:49<49:33,  5.07s/it]"
     ]
    },
    {
     "name": "stdout",
     "output_type": "stream",
     "text": [
      "[GIN] 2024/10/24 - 11:33:07 | 200 |  792.998105ms |       127.0.0.1 | POST     \"/api/generate\"\n",
      "INFO [update_slots] input truncated | n_ctx=2048 n_erase=117904 n_keep=4 n_left=2044 n_shift=1022 tid=\"138523311972352\" timestamp=1729769588\n",
      "[GIN] 2024/10/24 - 11:33:11 | 200 |  3.643339953s |       127.0.0.1 | POST     \"/api/generate\"\n"
     ]
    },
    {
     "name": "stderr",
     "output_type": "stream",
     "text": [
      "Generating responses:  44%|████▎     | 454/1039 [29:55<51:12,  5.25s/it]"
     ]
    },
    {
     "name": "stdout",
     "output_type": "stream",
     "text": [
      "[GIN] 2024/10/24 - 11:33:13 | 200 |   1.61186654s |       127.0.0.1 | POST     \"/api/generate\"\n",
      "INFO [update_slots] input truncated | n_ctx=2048 n_erase=118189 n_keep=4 n_left=2044 n_shift=1022 tid=\"138523311972352\" timestamp=1729769594\n",
      "[GIN] 2024/10/24 - 11:33:16 | 200 |   3.56924321s |       127.0.0.1 | POST     \"/api/generate\"\n"
     ]
    },
    {
     "name": "stderr",
     "output_type": "stream",
     "text": [
      "Generating responses:  44%|████▍     | 455/1039 [30:00<52:08,  5.36s/it]"
     ]
    },
    {
     "name": "stdout",
     "output_type": "stream",
     "text": [
      "[GIN] 2024/10/24 - 11:33:18 | 200 |  1.617290399s |       127.0.0.1 | POST     \"/api/generate\"\n",
      "INFO [update_slots] input truncated | n_ctx=2048 n_erase=118470 n_keep=4 n_left=2044 n_shift=1022 tid=\"138523311972352\" timestamp=1729769600\n",
      "[GIN] 2024/10/24 - 11:33:22 | 200 |  3.430235554s |       127.0.0.1 | POST     \"/api/generate\"\n"
     ]
    },
    {
     "name": "stderr",
     "output_type": "stream",
     "text": [
      "Generating responses:  44%|████▍     | 456/1039 [30:05<49:51,  5.13s/it]"
     ]
    },
    {
     "name": "stdout",
     "output_type": "stream",
     "text": [
      "[GIN] 2024/10/24 - 11:33:23 | 200 |  768.479246ms |       127.0.0.1 | POST     \"/api/generate\"\n",
      "INFO [update_slots] input truncated | n_ctx=2048 n_erase=118719 n_keep=4 n_left=2044 n_shift=1022 tid=\"138523311972352\" timestamp=1729769604\n",
      "[GIN] 2024/10/24 - 11:33:27 | 200 |  3.655954952s |       127.0.0.1 | POST     \"/api/generate\"\n",
      "[GIN] 2024/10/24 - 11:33:28 | 200 |  979.628053ms |       127.0.0.1 | POST     \"/api/generate\"\n"
     ]
    },
    {
     "name": "stderr",
     "output_type": "stream",
     "text": [
      "Generating responses:  44%|████▍     | 457/1039 [30:11<53:39,  5.53s/it]"
     ]
    },
    {
     "name": "stdout",
     "output_type": "stream",
     "text": [
      "[GIN] 2024/10/24 - 11:33:29 | 200 |  1.419938636s |       127.0.0.1 | POST     \"/api/generate\"\n",
      "INFO [update_slots] input truncated | n_ctx=2048 n_erase=118976 n_keep=4 n_left=2044 n_shift=1022 tid=\"138523311972352\" timestamp=1729769611\n",
      "[GIN] 2024/10/24 - 11:33:33 | 200 |  3.673175356s |       127.0.0.1 | POST     \"/api/generate\"\n"
     ]
    },
    {
     "name": "stderr",
     "output_type": "stream",
     "text": [
      "Generating responses:  44%|████▍     | 458/1039 [30:17<53:55,  5.57s/it]"
     ]
    },
    {
     "name": "stdout",
     "output_type": "stream",
     "text": [
      "[GIN] 2024/10/24 - 11:33:35 | 200 |   1.56954659s |       127.0.0.1 | POST     \"/api/generate\"\n",
      "INFO [update_slots] input truncated | n_ctx=2048 n_erase=119262 n_keep=4 n_left=2044 n_shift=1022 tid=\"138523311972352\" timestamp=1729769616\n",
      "[GIN] 2024/10/24 - 11:33:39 | 200 |  3.566821765s |       127.0.0.1 | POST     \"/api/generate\"\n"
     ]
    },
    {
     "name": "stderr",
     "output_type": "stream",
     "text": [
      "Generating responses:  44%|████▍     | 459/1039 [30:22<52:55,  5.47s/it]"
     ]
    },
    {
     "name": "stdout",
     "output_type": "stream",
     "text": [
      "[GIN] 2024/10/24 - 11:33:40 | 200 |  1.277958835s |       127.0.0.1 | POST     \"/api/generate\"\n",
      "INFO [update_slots] input truncated | n_ctx=2048 n_erase=119534 n_keep=4 n_left=2044 n_shift=1022 tid=\"138523311972352\" timestamp=1729769622\n",
      "[GIN] 2024/10/24 - 11:33:44 | 200 |  3.807431664s |       127.0.0.1 | POST     \"/api/generate\"\n"
     ]
    },
    {
     "name": "stderr",
     "output_type": "stream",
     "text": [
      "Generating responses:  44%|████▍     | 460/1039 [30:30<57:39,  5.98s/it]"
     ]
    },
    {
     "name": "stdout",
     "output_type": "stream",
     "text": [
      "[GIN] 2024/10/24 - 11:33:47 | 200 |  2.898395236s |       127.0.0.1 | POST     \"/api/generate\"\n",
      "INFO [update_slots] input truncated | n_ctx=2048 n_erase=119884 n_keep=4 n_left=2044 n_shift=1022 tid=\"138523311972352\" timestamp=1729769629\n",
      "[GIN] 2024/10/24 - 11:33:51 | 200 |  3.613672502s |       127.0.0.1 | POST     \"/api/generate\"\n",
      "[GIN] 2024/10/24 - 11:33:52 | 200 |  948.080668ms |       127.0.0.1 | POST     \"/api/generate\"\n"
     ]
    },
    {
     "name": "stderr",
     "output_type": "stream",
     "text": [
      "Generating responses:  44%|████▍     | 461/1039 [30:36<58:06,  6.03s/it]"
     ]
    },
    {
     "name": "stdout",
     "output_type": "stream",
     "text": [
      "[GIN] 2024/10/24 - 11:33:54 | 200 |  1.148502571s |       127.0.0.1 | POST     \"/api/generate\"\n",
      "INFO [update_slots] input truncated | n_ctx=2048 n_erase=120127 n_keep=4 n_left=2044 n_shift=1022 tid=\"138523311972352\" timestamp=1729769635\n",
      "[GIN] 2024/10/24 - 11:33:57 | 200 |  3.877430004s |       127.0.0.1 | POST     \"/api/generate\"\n",
      "[GIN] 2024/10/24 - 11:33:59 | 200 |  1.051006976s |       127.0.0.1 | POST     \"/api/generate\"\n"
     ]
    },
    {
     "name": "stderr",
     "output_type": "stream",
     "text": [
      "Generating responses:  44%|████▍     | 462/1039 [30:42<58:15,  6.06s/it]"
     ]
    },
    {
     "name": "stdout",
     "output_type": "stream",
     "text": [
      "[GIN] 2024/10/24 - 11:34:00 | 200 |  754.856239ms |       127.0.0.1 | POST     \"/api/generate\"\n",
      "INFO [update_slots] input truncated | n_ctx=2048 n_erase=120382 n_keep=4 n_left=2044 n_shift=1022 tid=\"138523311972352\" timestamp=1729769641\n",
      "[GIN] 2024/10/24 - 11:34:03 | 200 |  3.661668068s |       127.0.0.1 | POST     \"/api/generate\"\n"
     ]
    },
    {
     "name": "stderr",
     "output_type": "stream",
     "text": [
      "Generating responses:  45%|████▍     | 463/1039 [30:47<56:04,  5.84s/it]"
     ]
    },
    {
     "name": "stdout",
     "output_type": "stream",
     "text": [
      "[GIN] 2024/10/24 - 11:34:05 | 200 |  1.240310874s |       127.0.0.1 | POST     \"/api/generate\"\n",
      "INFO [update_slots] input truncated | n_ctx=2048 n_erase=120642 n_keep=4 n_left=2044 n_shift=1022 tid=\"138523311972352\" timestamp=1729769646\n",
      "[GIN] 2024/10/24 - 11:34:09 | 200 |  4.016072426s |       127.0.0.1 | POST     \"/api/generate\"\n"
     ]
    },
    {
     "name": "stderr",
     "output_type": "stream",
     "text": [
      "Generating responses:  45%|████▍     | 464/1039 [30:53<56:04,  5.85s/it]"
     ]
    },
    {
     "name": "stdout",
     "output_type": "stream",
     "text": [
      "[GIN] 2024/10/24 - 11:34:11 | 200 |  1.394772426s |       127.0.0.1 | POST     \"/api/generate\"\n",
      "INFO [update_slots] input truncated | n_ctx=2048 n_erase=120914 n_keep=4 n_left=2044 n_shift=1022 tid=\"138523311972352\" timestamp=1729769652\n",
      "[GIN] 2024/10/24 - 11:34:15 | 200 |  3.650871001s |       127.0.0.1 | POST     \"/api/generate\"\n",
      "[GIN] 2024/10/24 - 11:34:16 | 200 |  1.158715544s |       127.0.0.1 | POST     \"/api/generate\"\n"
     ]
    },
    {
     "name": "stderr",
     "output_type": "stream",
     "text": [
      "Generating responses:  45%|████▍     | 465/1039 [30:59<57:26,  6.00s/it]"
     ]
    },
    {
     "name": "stdout",
     "output_type": "stream",
     "text": [
      "[GIN] 2024/10/24 - 11:34:17 | 200 |   1.11140381s |       127.0.0.1 | POST     \"/api/generate\"\n",
      "INFO [update_slots] input truncated | n_ctx=2048 n_erase=121178 n_keep=4 n_left=2044 n_shift=1022 tid=\"138523311972352\" timestamp=1729769659\n",
      "[GIN] 2024/10/24 - 11:34:22 | 200 |  4.438736517s |       127.0.0.1 | POST     \"/api/generate\"\n"
     ]
    },
    {
     "name": "stderr",
     "output_type": "stream",
     "text": [
      "Generating responses:  45%|████▍     | 466/1039 [31:06<58:49,  6.16s/it]"
     ]
    },
    {
     "name": "stdout",
     "output_type": "stream",
     "text": [
      "[GIN] 2024/10/24 - 11:34:24 | 200 |  1.631427265s |       127.0.0.1 | POST     \"/api/generate\"\n",
      "INFO [update_slots] input truncated | n_ctx=2048 n_erase=121463 n_keep=4 n_left=2044 n_shift=1022 tid=\"138523311972352\" timestamp=1729769665\n",
      "[GIN] 2024/10/24 - 11:34:28 | 200 |  3.842293206s |       127.0.0.1 | POST     \"/api/generate\"\n"
     ]
    },
    {
     "name": "stderr",
     "output_type": "stream",
     "text": [
      "Generating responses:  45%|████▍     | 467/1039 [31:11<56:41,  5.95s/it]"
     ]
    },
    {
     "name": "stdout",
     "output_type": "stream",
     "text": [
      "[GIN] 2024/10/24 - 11:34:29 | 200 |  1.156507893s |       127.0.0.1 | POST     \"/api/generate\"\n",
      "INFO [update_slots] input truncated | n_ctx=2048 n_erase=121721 n_keep=4 n_left=2044 n_shift=1022 tid=\"138523311972352\" timestamp=1729769671\n",
      "[GIN] 2024/10/24 - 11:34:33 | 200 |  3.838102529s |       127.0.0.1 | POST     \"/api/generate\"\n"
     ]
    },
    {
     "name": "stderr",
     "output_type": "stream",
     "text": [
      "Generating responses:  45%|████▌     | 468/1039 [31:17<54:25,  5.72s/it]"
     ]
    },
    {
     "name": "stdout",
     "output_type": "stream",
     "text": [
      "[GIN] 2024/10/24 - 11:34:34 | 200 |   894.46059ms |       127.0.0.1 | POST     \"/api/generate\"\n",
      "INFO [update_slots] input truncated | n_ctx=2048 n_erase=121963 n_keep=4 n_left=2044 n_shift=1022 tid=\"138523311972352\" timestamp=1729769676\n",
      "[GIN] 2024/10/24 - 11:34:38 | 200 |  3.424948957s |       127.0.0.1 | POST     \"/api/generate\"\n"
     ]
    },
    {
     "name": "stderr",
     "output_type": "stream",
     "text": [
      "Generating responses:  45%|████▌     | 469/1039 [31:21<51:00,  5.37s/it]"
     ]
    },
    {
     "name": "stdout",
     "output_type": "stream",
     "text": [
      "[GIN] 2024/10/24 - 11:34:39 | 200 |  691.330723ms |       127.0.0.1 | POST     \"/api/generate\"\n",
      "INFO [update_slots] input truncated | n_ctx=2048 n_erase=122195 n_keep=4 n_left=2044 n_shift=1022 tid=\"138523311972352\" timestamp=1729769680\n",
      "[GIN] 2024/10/24 - 11:34:43 | 200 |  3.691022497s |       127.0.0.1 | POST     \"/api/generate\"\n"
     ]
    },
    {
     "name": "stderr",
     "output_type": "stream",
     "text": [
      "Generating responses:  45%|████▌     | 470/1039 [31:27<53:01,  5.59s/it]"
     ]
    },
    {
     "name": "stdout",
     "output_type": "stream",
     "text": [
      "[GIN] 2024/10/24 - 11:34:45 | 200 |  1.972733571s |       127.0.0.1 | POST     \"/api/generate\"\n",
      "INFO [update_slots] input truncated | n_ctx=2048 n_erase=122494 n_keep=4 n_left=2044 n_shift=1022 tid=\"138523311972352\" timestamp=1729769686\n",
      "[GIN] 2024/10/24 - 11:34:49 | 200 |  3.844715742s |       127.0.0.1 | POST     \"/api/generate\"\n"
     ]
    },
    {
     "name": "stderr",
     "output_type": "stream",
     "text": [
      "Generating responses:  45%|████▌     | 471/1039 [31:33<53:15,  5.63s/it]"
     ]
    },
    {
     "name": "stdout",
     "output_type": "stream",
     "text": [
      "[GIN] 2024/10/24 - 11:34:51 | 200 |  1.310827553s |       127.0.0.1 | POST     \"/api/generate\"\n",
      "INFO [update_slots] input truncated | n_ctx=2048 n_erase=122764 n_keep=4 n_left=2044 n_shift=1022 tid=\"138523311972352\" timestamp=1729769692\n",
      "[GIN] 2024/10/24 - 11:34:54 | 200 |  3.681525246s |       127.0.0.1 | POST     \"/api/generate\"\n"
     ]
    },
    {
     "name": "stderr",
     "output_type": "stream",
     "text": [
      "Generating responses:  45%|████▌     | 472/1039 [31:38<51:18,  5.43s/it]"
     ]
    },
    {
     "name": "stdout",
     "output_type": "stream",
     "text": [
      "[GIN] 2024/10/24 - 11:34:56 | 200 |  848.837004ms |       127.0.0.1 | POST     \"/api/generate\"\n",
      "INFO [update_slots] input truncated | n_ctx=2048 n_erase=123005 n_keep=4 n_left=2044 n_shift=1022 tid=\"138523311972352\" timestamp=1729769697\n",
      "[GIN] 2024/10/24 - 11:35:00 | 200 |  3.782268938s |       127.0.0.1 | POST     \"/api/generate\"\n"
     ]
    },
    {
     "name": "stderr",
     "output_type": "stream",
     "text": [
      "Generating responses:  46%|████▌     | 473/1039 [31:44<51:51,  5.50s/it]"
     ]
    },
    {
     "name": "stdout",
     "output_type": "stream",
     "text": [
      "[GIN] 2024/10/24 - 11:35:01 | 200 |  1.437078288s |       127.0.0.1 | POST     \"/api/generate\"\n",
      "INFO [update_slots] input truncated | n_ctx=2048 n_erase=123281 n_keep=4 n_left=2044 n_shift=1022 tid=\"138523311972352\" timestamp=1729769703\n",
      "[GIN] 2024/10/24 - 11:35:05 | 200 |  3.790496638s |       127.0.0.1 | POST     \"/api/generate\"\n"
     ]
    },
    {
     "name": "stderr",
     "output_type": "stream",
     "text": [
      "Generating responses:  46%|████▌     | 474/1039 [31:50<53:28,  5.68s/it]"
     ]
    },
    {
     "name": "stdout",
     "output_type": "stream",
     "text": [
      "[GIN] 2024/10/24 - 11:35:07 | 200 |  1.856339461s |       127.0.0.1 | POST     \"/api/generate\"\n",
      "INFO [update_slots] input truncated | n_ctx=2048 n_erase=123572 n_keep=4 n_left=2044 n_shift=1022 tid=\"138523311972352\" timestamp=1729769709\n",
      "[GIN] 2024/10/24 - 11:35:11 | 200 |  3.731416511s |       127.0.0.1 | POST     \"/api/generate\"\n",
      "[GIN] 2024/10/24 - 11:35:13 | 200 |  815.315103ms |       127.0.0.1 | POST     \"/api/generate\"\n"
     ]
    },
    {
     "name": "stderr",
     "output_type": "stream",
     "text": [
      "Generating responses:  46%|████▌     | 475/1039 [31:56<54:08,  5.76s/it]"
     ]
    },
    {
     "name": "stdout",
     "output_type": "stream",
     "text": [
      "[GIN] 2024/10/24 - 11:35:13 | 200 |  939.615337ms |       127.0.0.1 | POST     \"/api/generate\"\n",
      "INFO [update_slots] input truncated | n_ctx=2048 n_erase=123810 n_keep=4 n_left=2044 n_shift=1022 tid=\"138523311972352\" timestamp=1729769715\n",
      "[GIN] 2024/10/24 - 11:35:17 | 200 |  3.947957546s |       127.0.0.1 | POST     \"/api/generate\"\n"
     ]
    },
    {
     "name": "stderr",
     "output_type": "stream",
     "text": [
      "Generating responses:  46%|████▌     | 476/1039 [32:01<53:56,  5.75s/it]"
     ]
    },
    {
     "name": "stdout",
     "output_type": "stream",
     "text": [
      "[GIN] 2024/10/24 - 11:35:19 | 200 |   1.31659685s |       127.0.0.1 | POST     \"/api/generate\"\n",
      "INFO [update_slots] input truncated | n_ctx=2048 n_erase=124074 n_keep=4 n_left=2044 n_shift=1022 tid=\"138523311972352\" timestamp=1729769721\n",
      "[GIN] 2024/10/24 - 11:35:23 | 200 |  4.014500949s |       127.0.0.1 | POST     \"/api/generate\"\n"
     ]
    },
    {
     "name": "stderr",
     "output_type": "stream",
     "text": [
      "Generating responses:  46%|████▌     | 477/1039 [32:09<58:25,  6.24s/it]"
     ]
    },
    {
     "name": "stdout",
     "output_type": "stream",
     "text": [
      "[GIN] 2024/10/24 - 11:35:27 | 200 |  2.890824405s |       127.0.0.1 | POST     \"/api/generate\"\n",
      "INFO [update_slots] input truncated | n_ctx=2048 n_erase=124431 n_keep=4 n_left=2044 n_shift=1022 tid=\"138523311972352\" timestamp=1729769728\n",
      "[GIN] 2024/10/24 - 11:35:30 | 200 |  3.713259854s |       127.0.0.1 | POST     \"/api/generate\"\n"
     ]
    },
    {
     "name": "stderr",
     "output_type": "stream",
     "text": [
      "Generating responses:  46%|████▌     | 478/1039 [32:14<56:58,  6.09s/it]"
     ]
    },
    {
     "name": "stdout",
     "output_type": "stream",
     "text": [
      "[GIN] 2024/10/24 - 11:35:32 | 200 |  1.580030914s |       127.0.0.1 | POST     \"/api/generate\"\n",
      "INFO [update_slots] input truncated | n_ctx=2048 n_erase=124711 n_keep=4 n_left=2044 n_shift=1022 tid=\"138523311972352\" timestamp=1729769734\n",
      "[GIN] 2024/10/24 - 11:35:36 | 200 |  3.946659441s |       127.0.0.1 | POST     \"/api/generate\"\n"
     ]
    },
    {
     "name": "stderr",
     "output_type": "stream",
     "text": [
      "Generating responses:  46%|████▌     | 479/1039 [32:20<55:45,  5.97s/it]"
     ]
    },
    {
     "name": "stdout",
     "output_type": "stream",
     "text": [
      "[GIN] 2024/10/24 - 11:35:38 | 200 |  1.282272034s |       127.0.0.1 | POST     \"/api/generate\"\n",
      "INFO [update_slots] input truncated | n_ctx=2048 n_erase=124977 n_keep=4 n_left=2044 n_shift=1022 tid=\"138523311972352\" timestamp=1729769739\n",
      "[GIN] 2024/10/24 - 11:35:42 | 200 |  3.953053239s |       127.0.0.1 | POST     \"/api/generate\"\n"
     ]
    },
    {
     "name": "stderr",
     "output_type": "stream",
     "text": [
      "Generating responses:  46%|████▌     | 480/1039 [32:26<53:59,  5.80s/it]"
     ]
    },
    {
     "name": "stdout",
     "output_type": "stream",
     "text": [
      "[GIN] 2024/10/24 - 11:35:43 | 200 |  956.772167ms |       127.0.0.1 | POST     \"/api/generate\"\n",
      "INFO [update_slots] input truncated | n_ctx=2048 n_erase=125218 n_keep=4 n_left=2044 n_shift=1022 tid=\"138523311972352\" timestamp=1729769745\n",
      "[GIN] 2024/10/24 - 11:35:47 | 200 |  3.794705246s |       127.0.0.1 | POST     \"/api/generate\"\n"
     ]
    },
    {
     "name": "stderr",
     "output_type": "stream",
     "text": [
      "Generating responses:  46%|████▋     | 481/1039 [32:31<52:17,  5.62s/it]"
     ]
    },
    {
     "name": "stdout",
     "output_type": "stream",
     "text": [
      "[GIN] 2024/10/24 - 11:35:49 | 200 |  944.696352ms |       127.0.0.1 | POST     \"/api/generate\"\n",
      "INFO [update_slots] input truncated | n_ctx=2048 n_erase=125462 n_keep=4 n_left=2044 n_shift=1022 tid=\"138523311972352\" timestamp=1729769750\n",
      "[GIN] 2024/10/24 - 11:35:53 | 200 |  4.300073314s |       127.0.0.1 | POST     \"/api/generate\"\n",
      "[GIN] 2024/10/24 - 11:35:55 | 200 |   1.26036499s |       127.0.0.1 | POST     \"/api/generate\"\n"
     ]
    },
    {
     "name": "stderr",
     "output_type": "stream",
     "text": [
      "Generating responses:  46%|████▋     | 482/1039 [32:38<57:31,  6.20s/it]"
     ]
    },
    {
     "name": "stdout",
     "output_type": "stream",
     "text": [
      "[GIN] 2024/10/24 - 11:35:56 | 200 |   1.48370841s |       127.0.0.1 | POST     \"/api/generate\"\n",
      "INFO [update_slots] input truncated | n_ctx=2048 n_erase=125721 n_keep=4 n_left=2044 n_shift=1022 tid=\"138523311972352\" timestamp=1729769758\n",
      "[GIN] 2024/10/24 - 11:36:00 | 200 |  3.880778262s |       127.0.0.1 | POST     \"/api/generate\"\n"
     ]
    },
    {
     "name": "stderr",
     "output_type": "stream",
     "text": [
      "Generating responses:  46%|████▋     | 483/1039 [32:44<56:36,  6.11s/it]"
     ]
    },
    {
     "name": "stdout",
     "output_type": "stream",
     "text": [
      "[GIN] 2024/10/24 - 11:36:02 | 200 |  1.554155303s |       127.0.0.1 | POST     \"/api/generate\"\n",
      "INFO [update_slots] input truncated | n_ctx=2048 n_erase=126000 n_keep=4 n_left=2044 n_shift=1022 tid=\"138523311972352\" timestamp=1729769763\n",
      "[GIN] 2024/10/24 - 11:36:06 | 200 |  3.789643073s |       127.0.0.1 | POST     \"/api/generate\"\n"
     ]
    },
    {
     "name": "stderr",
     "output_type": "stream",
     "text": [
      "Generating responses:  47%|████▋     | 484/1039 [32:50<55:31,  6.00s/it]"
     ]
    },
    {
     "name": "stdout",
     "output_type": "stream",
     "text": [
      "[GIN] 2024/10/24 - 11:36:08 | 200 |  1.497378823s |       127.0.0.1 | POST     \"/api/generate\"\n",
      "INFO [update_slots] input truncated | n_ctx=2048 n_erase=126267 n_keep=4 n_left=2044 n_shift=1022 tid=\"138523311972352\" timestamp=1729769769\n",
      "[GIN] 2024/10/24 - 11:36:11 | 200 |  3.647227572s |       127.0.0.1 | POST     \"/api/generate\"\n"
     ]
    },
    {
     "name": "stderr",
     "output_type": "stream",
     "text": [
      "Generating responses:  47%|████▋     | 485/1039 [32:55<52:43,  5.71s/it]"
     ]
    },
    {
     "name": "stdout",
     "output_type": "stream",
     "text": [
      "[GIN] 2024/10/24 - 11:36:13 | 200 |  909.423651ms |       127.0.0.1 | POST     \"/api/generate\"\n",
      "INFO [update_slots] input truncated | n_ctx=2048 n_erase=126507 n_keep=4 n_left=2044 n_shift=1022 tid=\"138523311972352\" timestamp=1729769774\n",
      "[GIN] 2024/10/24 - 11:36:17 | 200 |  3.810578546s |       127.0.0.1 | POST     \"/api/generate\"\n"
     ]
    },
    {
     "name": "stderr",
     "output_type": "stream",
     "text": [
      "Generating responses:  47%|████▋     | 486/1039 [33:01<52:24,  5.69s/it]"
     ]
    },
    {
     "name": "stdout",
     "output_type": "stream",
     "text": [
      "[GIN] 2024/10/24 - 11:36:18 | 200 |  1.343809885s |       127.0.0.1 | POST     \"/api/generate\"\n",
      "INFO [update_slots] input truncated | n_ctx=2048 n_erase=126773 n_keep=4 n_left=2044 n_shift=1022 tid=\"138523311972352\" timestamp=1729769780\n",
      "[GIN] 2024/10/24 - 11:36:22 | 200 |  3.700784717s |       127.0.0.1 | POST     \"/api/generate\"\n"
     ]
    },
    {
     "name": "stderr",
     "output_type": "stream",
     "text": [
      "Generating responses:  47%|████▋     | 487/1039 [33:06<50:58,  5.54s/it]"
     ]
    },
    {
     "name": "stdout",
     "output_type": "stream",
     "text": [
      "[GIN] 2024/10/24 - 11:36:24 | 200 |  1.032563763s |       127.0.0.1 | POST     \"/api/generate\"\n",
      "INFO [update_slots] input truncated | n_ctx=2048 n_erase=127031 n_keep=4 n_left=2044 n_shift=1022 tid=\"138523311972352\" timestamp=1729769785\n",
      "[GIN] 2024/10/24 - 11:36:28 | 200 |  3.978416619s |       127.0.0.1 | POST     \"/api/generate\"\n"
     ]
    },
    {
     "name": "stderr",
     "output_type": "stream",
     "text": [
      "Generating responses:  47%|████▋     | 488/1039 [33:12<52:22,  5.70s/it]"
     ]
    },
    {
     "name": "stdout",
     "output_type": "stream",
     "text": [
      "[GIN] 2024/10/24 - 11:36:30 | 200 |  1.628197361s |       127.0.0.1 | POST     \"/api/generate\"\n",
      "INFO [update_slots] input truncated | n_ctx=2048 n_erase=127318 n_keep=4 n_left=2044 n_shift=1022 tid=\"138523311972352\" timestamp=1729769791\n",
      "[GIN] 2024/10/24 - 11:36:34 | 200 |  3.873131001s |       127.0.0.1 | POST     \"/api/generate\"\n"
     ]
    },
    {
     "name": "stderr",
     "output_type": "stream",
     "text": [
      "Generating responses:  47%|████▋     | 489/1039 [33:17<51:25,  5.61s/it]"
     ]
    },
    {
     "name": "stdout",
     "output_type": "stream",
     "text": [
      "[GIN] 2024/10/24 - 11:36:35 | 200 |  1.048294862s |       127.0.0.1 | POST     \"/api/generate\"\n",
      "INFO [update_slots] input truncated | n_ctx=2048 n_erase=127572 n_keep=4 n_left=2044 n_shift=1022 tid=\"138523311972352\" timestamp=1729769797\n",
      "[GIN] 2024/10/24 - 11:36:39 | 200 |  3.953536463s |       127.0.0.1 | POST     \"/api/generate\"\n"
     ]
    },
    {
     "name": "stderr",
     "output_type": "stream",
     "text": [
      "Generating responses:  47%|████▋     | 490/1039 [33:23<50:59,  5.57s/it]"
     ]
    },
    {
     "name": "stdout",
     "output_type": "stream",
     "text": [
      "[GIN] 2024/10/24 - 11:36:41 | 200 |  1.035610968s |       127.0.0.1 | POST     \"/api/generate\"\n",
      "INFO [update_slots] input truncated | n_ctx=2048 n_erase=127823 n_keep=4 n_left=2044 n_shift=1022 tid=\"138523311972352\" timestamp=1729769802\n",
      "[GIN] 2024/10/24 - 11:36:45 | 200 |  3.879885764s |       127.0.0.1 | POST     \"/api/generate\"\n",
      "[GIN] 2024/10/24 - 11:36:46 | 200 |  1.135819958s |       127.0.0.1 | POST     \"/api/generate\"\n"
     ]
    },
    {
     "name": "stderr",
     "output_type": "stream",
     "text": [
      "Generating responses:  47%|████▋     | 491/1039 [33:29<53:57,  5.91s/it]"
     ]
    },
    {
     "name": "stdout",
     "output_type": "stream",
     "text": [
      "[GIN] 2024/10/24 - 11:36:47 | 200 |  1.185914851s |       127.0.0.1 | POST     \"/api/generate\"\n",
      "INFO [update_slots] input truncated | n_ctx=2048 n_erase=128079 n_keep=4 n_left=2044 n_shift=1022 tid=\"138523311972352\" timestamp=1729769809\n",
      "[GIN] 2024/10/24 - 11:36:51 | 200 |   3.64532213s |       127.0.0.1 | POST     \"/api/generate\"\n"
     ]
    },
    {
     "name": "stderr",
     "output_type": "stream",
     "text": [
      "Generating responses:  47%|████▋     | 492/1039 [33:35<51:38,  5.66s/it]"
     ]
    },
    {
     "name": "stdout",
     "output_type": "stream",
     "text": [
      "[GIN] 2024/10/24 - 11:36:52 | 200 |  968.796633ms |       127.0.0.1 | POST     \"/api/generate\"\n",
      "INFO [update_slots] input truncated | n_ctx=2048 n_erase=128325 n_keep=4 n_left=2044 n_shift=1022 tid=\"138523311972352\" timestamp=1729769814\n",
      "[GIN] 2024/10/24 - 11:36:56 | 200 |  3.847013213s |       127.0.0.1 | POST     \"/api/generate\"\n"
     ]
    },
    {
     "name": "stderr",
     "output_type": "stream",
     "text": [
      "Generating responses:  47%|████▋     | 493/1039 [33:40<50:44,  5.58s/it]"
     ]
    },
    {
     "name": "stdout",
     "output_type": "stream",
     "text": [
      "[GIN] 2024/10/24 - 11:36:58 | 200 |  1.035198302s |       127.0.0.1 | POST     \"/api/generate\"\n",
      "INFO [update_slots] input truncated | n_ctx=2048 n_erase=128575 n_keep=4 n_left=2044 n_shift=1022 tid=\"138523311972352\" timestamp=1729769819\n",
      "[GIN] 2024/10/24 - 11:37:02 | 200 |  4.035088153s |       127.0.0.1 | POST     \"/api/generate\"\n"
     ]
    },
    {
     "name": "stderr",
     "output_type": "stream",
     "text": [
      "Generating responses:  48%|████▊     | 494/1039 [33:46<53:03,  5.84s/it]"
     ]
    },
    {
     "name": "stdout",
     "output_type": "stream",
     "text": [
      "[GIN] 2024/10/24 - 11:37:04 | 200 |  1.939110267s |       127.0.0.1 | POST     \"/api/generate\"\n",
      "INFO [update_slots] input truncated | n_ctx=2048 n_erase=128882 n_keep=4 n_left=2044 n_shift=1022 tid=\"138523311972352\" timestamp=1729769826\n",
      "[GIN] 2024/10/24 - 11:37:08 | 200 |  3.663444717s |       127.0.0.1 | POST     \"/api/generate\"\n"
     ]
    },
    {
     "name": "stderr",
     "output_type": "stream",
     "text": [
      "Generating responses:  48%|████▊     | 495/1039 [33:52<52:20,  5.77s/it]"
     ]
    },
    {
     "name": "stdout",
     "output_type": "stream",
     "text": [
      "[GIN] 2024/10/24 - 11:37:10 | 200 |  1.473088369s |       127.0.0.1 | POST     \"/api/generate\"\n",
      "INFO [update_slots] input truncated | n_ctx=2048 n_erase=129157 n_keep=4 n_left=2044 n_shift=1022 tid=\"138523311972352\" timestamp=1729769831\n",
      "[GIN] 2024/10/24 - 11:37:14 | 200 |  3.804017123s |       127.0.0.1 | POST     \"/api/generate\"\n"
     ]
    },
    {
     "name": "stderr",
     "output_type": "stream",
     "text": [
      "Generating responses:  48%|████▊     | 496/1039 [33:58<51:32,  5.70s/it]"
     ]
    },
    {
     "name": "stdout",
     "output_type": "stream",
     "text": [
      "[GIN] 2024/10/24 - 11:37:15 | 200 |  1.227844578s |       127.0.0.1 | POST     \"/api/generate\"\n",
      "INFO [update_slots] input truncated | n_ctx=2048 n_erase=129422 n_keep=4 n_left=2044 n_shift=1022 tid=\"138523311972352\" timestamp=1729769837\n",
      "[GIN] 2024/10/24 - 11:37:19 | 200 |  3.681662353s |       127.0.0.1 | POST     \"/api/generate\"\n"
     ]
    },
    {
     "name": "stderr",
     "output_type": "stream",
     "text": [
      "Generating responses:  48%|████▊     | 497/1039 [34:03<51:45,  5.73s/it]"
     ]
    },
    {
     "name": "stdout",
     "output_type": "stream",
     "text": [
      "[GIN] 2024/10/24 - 11:37:21 | 200 |  1.614922666s |       127.0.0.1 | POST     \"/api/generate\"\n",
      "INFO [update_slots] input truncated | n_ctx=2048 n_erase=129710 n_keep=4 n_left=2044 n_shift=1022 tid=\"138523311972352\" timestamp=1729769843\n",
      "[GIN] 2024/10/24 - 11:37:25 | 200 |  4.137397778s |       127.0.0.1 | POST     \"/api/generate\"\n"
     ]
    },
    {
     "name": "stderr",
     "output_type": "stream",
     "text": [
      "Generating responses:  48%|████▊     | 498/1039 [34:10<53:01,  5.88s/it]"
     ]
    },
    {
     "name": "stdout",
     "output_type": "stream",
     "text": [
      "[GIN] 2024/10/24 - 11:37:27 | 200 |  1.602788097s |       127.0.0.1 | POST     \"/api/generate\"\n",
      "INFO [update_slots] input truncated | n_ctx=2048 n_erase=129990 n_keep=4 n_left=2044 n_shift=1022 tid=\"138523311972352\" timestamp=1729769849\n",
      "[GIN] 2024/10/24 - 11:37:31 | 200 |  3.835047028s |       127.0.0.1 | POST     \"/api/generate\"\n",
      "[GIN] 2024/10/24 - 11:37:33 | 200 |  895.327994ms |       127.0.0.1 | POST     \"/api/generate\"\n"
     ]
    },
    {
     "name": "stderr",
     "output_type": "stream",
     "text": [
      "Generating responses:  48%|████▊     | 499/1039 [34:16<53:17,  5.92s/it]"
     ]
    },
    {
     "name": "stdout",
     "output_type": "stream",
     "text": [
      "[GIN] 2024/10/24 - 11:37:33 | 200 |  792.895576ms |       127.0.0.1 | POST     \"/api/generate\"\n",
      "INFO [update_slots] input truncated | n_ctx=2048 n_erase=130237 n_keep=4 n_left=2044 n_shift=1022 tid=\"138523311972352\" timestamp=1729769855\n",
      "[GIN] 2024/10/24 - 11:37:37 | 200 |  4.013080791s |       127.0.0.1 | POST     \"/api/generate\"\n"
     ]
    },
    {
     "name": "stderr",
     "output_type": "stream",
     "text": [
      "Generating responses:  48%|████▊     | 500/1039 [34:22<53:17,  5.93s/it]"
     ]
    },
    {
     "name": "stdout",
     "output_type": "stream",
     "text": [
      "[GIN] 2024/10/24 - 11:37:39 | 200 |  1.444122193s |       127.0.0.1 | POST     \"/api/generate\"\n",
      "INFO [update_slots] input truncated | n_ctx=2048 n_erase=130508 n_keep=4 n_left=2044 n_shift=1022 tid=\"138523311972352\" timestamp=1729769861\n",
      "[GIN] 2024/10/24 - 11:37:43 | 200 |  3.920009249s |       127.0.0.1 | POST     \"/api/generate\"\n"
     ]
    },
    {
     "name": "stderr",
     "output_type": "stream",
     "text": [
      "Generating responses:  48%|████▊     | 501/1039 [34:28<55:28,  6.19s/it]"
     ]
    },
    {
     "name": "stdout",
     "output_type": "stream",
     "text": [
      "[GIN] 2024/10/24 - 11:37:46 | 200 |  2.361712373s |       127.0.0.1 | POST     \"/api/generate\"\n",
      "INFO [update_slots] input truncated | n_ctx=2048 n_erase=130838 n_keep=4 n_left=2044 n_shift=1022 tid=\"138523311972352\" timestamp=1729769868\n",
      "[GIN] 2024/10/24 - 11:37:50 | 200 |  4.184440514s |       127.0.0.1 | POST     \"/api/generate\"\n",
      "[GIN] 2024/10/24 - 11:37:52 | 200 |  1.052317548s |       127.0.0.1 | POST     \"/api/generate\"\n"
     ]
    },
    {
     "name": "stderr",
     "output_type": "stream",
     "text": [
      "Generating responses:  48%|████▊     | 502/1039 [34:35<57:15,  6.40s/it]"
     ]
    },
    {
     "name": "stdout",
     "output_type": "stream",
     "text": [
      "[GIN] 2024/10/24 - 11:37:53 | 200 |   1.14347518s |       127.0.0.1 | POST     \"/api/generate\"\n",
      "INFO [update_slots] input truncated | n_ctx=2048 n_erase=131101 n_keep=4 n_left=2044 n_shift=1022 tid=\"138523311972352\" timestamp=1729769875\n",
      "[GIN] 2024/10/24 - 11:37:57 | 200 |  3.992489094s |       127.0.0.1 | POST     \"/api/generate\"\n"
     ]
    },
    {
     "name": "stderr",
     "output_type": "stream",
     "text": [
      "Generating responses:  48%|████▊     | 503/1039 [34:41<55:00,  6.16s/it]"
     ]
    },
    {
     "name": "stdout",
     "output_type": "stream",
     "text": [
      "[GIN] 2024/10/24 - 11:37:59 | 200 |  1.102590009s |       127.0.0.1 | POST     \"/api/generate\"\n",
      "INFO [update_slots] input truncated | n_ctx=2048 n_erase=131354 n_keep=4 n_left=2044 n_shift=1022 tid=\"138523311972352\" timestamp=1729769880\n",
      "[GIN] 2024/10/24 - 11:38:03 | 200 |  3.986621762s |       127.0.0.1 | POST     \"/api/generate\"\n"
     ]
    },
    {
     "name": "stderr",
     "output_type": "stream",
     "text": [
      "Generating responses:  49%|████▊     | 504/1039 [34:47<54:32,  6.12s/it]"
     ]
    },
    {
     "name": "stdout",
     "output_type": "stream",
     "text": [
      "[GIN] 2024/10/24 - 11:38:05 | 200 |  1.532278703s |       127.0.0.1 | POST     \"/api/generate\"\n",
      "INFO [update_slots] input truncated | n_ctx=2048 n_erase=131644 n_keep=4 n_left=2044 n_shift=1022 tid=\"138523311972352\" timestamp=1729769886\n",
      "[GIN] 2024/10/24 - 11:38:09 | 200 |  4.407135493s |       127.0.0.1 | POST     \"/api/generate\"\n",
      "[GIN] 2024/10/24 - 11:38:11 | 200 |  1.376828379s |       127.0.0.1 | POST     \"/api/generate\"\n"
     ]
    },
    {
     "name": "stderr",
     "output_type": "stream",
     "text": [
      "Generating responses:  49%|████▊     | 505/1039 [34:54<57:43,  6.49s/it]"
     ]
    },
    {
     "name": "stdout",
     "output_type": "stream",
     "text": [
      "[GIN] 2024/10/24 - 11:38:12 | 200 |   1.03265788s |       127.0.0.1 | POST     \"/api/generate\"\n",
      "INFO [update_slots] input truncated | n_ctx=2048 n_erase=131914 n_keep=4 n_left=2044 n_shift=1022 tid=\"138523311972352\" timestamp=1729769893\n",
      "[GIN] 2024/10/24 - 11:38:16 | 200 |  4.091115831s |       127.0.0.1 | POST     \"/api/generate\"\n"
     ]
    },
    {
     "name": "stderr",
     "output_type": "stream",
     "text": [
      "Generating responses:  49%|████▊     | 506/1039 [35:00<55:21,  6.23s/it]"
     ]
    },
    {
     "name": "stdout",
     "output_type": "stream",
     "text": [
      "[GIN] 2024/10/24 - 11:38:18 | 200 |  1.042952134s |       127.0.0.1 | POST     \"/api/generate\"\n",
      "INFO [update_slots] input truncated | n_ctx=2048 n_erase=132165 n_keep=4 n_left=2044 n_shift=1022 tid=\"138523311972352\" timestamp=1729769899\n",
      "[GIN] 2024/10/24 - 11:38:22 | 200 |  3.934591379s |       127.0.0.1 | POST     \"/api/generate\"\n",
      "[GIN] 2024/10/24 - 11:38:23 | 200 |  928.123574ms |       127.0.0.1 | POST     \"/api/generate\"\n"
     ]
    },
    {
     "name": "stderr",
     "output_type": "stream",
     "text": [
      "Generating responses:  49%|████▉     | 507/1039 [35:06<55:40,  6.28s/it]"
     ]
    },
    {
     "name": "stdout",
     "output_type": "stream",
     "text": [
      "[GIN] 2024/10/24 - 11:38:24 | 200 |  1.032749034s |       127.0.0.1 | POST     \"/api/generate\"\n",
      "INFO [update_slots] input truncated | n_ctx=2048 n_erase=132412 n_keep=4 n_left=2044 n_shift=1022 tid=\"138523311972352\" timestamp=1729769905\n",
      "[GIN] 2024/10/24 - 11:38:28 | 200 |  3.841250336s |       127.0.0.1 | POST     \"/api/generate\"\n",
      "[GIN] 2024/10/24 - 11:38:31 | 200 |  2.234575719s |       127.0.0.1 | POST     \"/api/generate\"\n"
     ]
    },
    {
     "name": "stderr",
     "output_type": "stream",
     "text": [
      "Generating responses:  49%|████▉     | 508/1039 [35:14<59:22,  6.71s/it]"
     ]
    },
    {
     "name": "stdout",
     "output_type": "stream",
     "text": [
      "[GIN] 2024/10/24 - 11:38:32 | 200 |  1.124523094s |       127.0.0.1 | POST     \"/api/generate\"\n",
      "INFO [update_slots] input truncated | n_ctx=2048 n_erase=132728 n_keep=4 n_left=2044 n_shift=1022 tid=\"138523311972352\" timestamp=1729769913\n",
      "[GIN] 2024/10/24 - 11:38:36 | 200 |  4.057853603s |       127.0.0.1 | POST     \"/api/generate\"\n"
     ]
    },
    {
     "name": "stderr",
     "output_type": "stream",
     "text": [
      "Generating responses:  49%|████▉     | 509/1039 [35:19<55:54,  6.33s/it]"
     ]
    },
    {
     "name": "stdout",
     "output_type": "stream",
     "text": [
      "[GIN] 2024/10/24 - 11:38:37 | 200 |  872.099405ms |       127.0.0.1 | POST     \"/api/generate\"\n",
      "INFO [update_slots] input truncated | n_ctx=2048 n_erase=132974 n_keep=4 n_left=2044 n_shift=1022 tid=\"138523311972352\" timestamp=1729769919\n",
      "[GIN] 2024/10/24 - 11:38:41 | 200 |  4.023397623s |       127.0.0.1 | POST     \"/api/generate\"\n"
     ]
    },
    {
     "name": "stderr",
     "output_type": "stream",
     "text": [
      "Generating responses:  49%|████▉     | 510/1039 [35:26<56:01,  6.35s/it]"
     ]
    },
    {
     "name": "stdout",
     "output_type": "stream",
     "text": [
      "[GIN] 2024/10/24 - 11:38:44 | 200 |  1.864191862s |       127.0.0.1 | POST     \"/api/generate\"\n",
      "INFO [update_slots] input truncated | n_ctx=2048 n_erase=133270 n_keep=4 n_left=2044 n_shift=1022 tid=\"138523311972352\" timestamp=1729769925\n",
      "[GIN] 2024/10/24 - 11:38:47 | 200 |  3.863213765s |       127.0.0.1 | POST     \"/api/generate\"\n"
     ]
    },
    {
     "name": "stderr",
     "output_type": "stream",
     "text": [
      "Generating responses:  49%|████▉     | 511/1039 [35:31<52:23,  5.95s/it]"
     ]
    },
    {
     "name": "stdout",
     "output_type": "stream",
     "text": [
      "[GIN] 2024/10/24 - 11:38:49 | 200 |  629.362031ms |       127.0.0.1 | POST     \"/api/generate\"\n",
      "INFO [update_slots] input truncated | n_ctx=2048 n_erase=133495 n_keep=4 n_left=2044 n_shift=1022 tid=\"138523311972352\" timestamp=1729769930\n",
      "[GIN] 2024/10/24 - 11:38:53 | 200 |  3.867477223s |       127.0.0.1 | POST     \"/api/generate\"\n"
     ]
    },
    {
     "name": "stderr",
     "output_type": "stream",
     "text": [
      "Generating responses:  49%|████▉     | 512/1039 [35:36<50:49,  5.79s/it]"
     ]
    },
    {
     "name": "stdout",
     "output_type": "stream",
     "text": [
      "[GIN] 2024/10/24 - 11:38:54 | 200 |  1.006312762s |       127.0.0.1 | POST     \"/api/generate\"\n",
      "INFO [update_slots] input truncated | n_ctx=2048 n_erase=133754 n_keep=4 n_left=2044 n_shift=1022 tid=\"138523311972352\" timestamp=1729769936\n",
      "[GIN] 2024/10/24 - 11:38:58 | 200 |  4.111479866s |       127.0.0.1 | POST     \"/api/generate\"\n"
     ]
    },
    {
     "name": "stderr",
     "output_type": "stream",
     "text": [
      "Generating responses:  49%|████▉     | 513/1039 [35:42<50:45,  5.79s/it]"
     ]
    },
    {
     "name": "stdout",
     "output_type": "stream",
     "text": [
      "[GIN] 2024/10/24 - 11:39:00 | 200 |  1.167654231s |       127.0.0.1 | POST     \"/api/generate\"\n",
      "INFO [update_slots] input truncated | n_ctx=2048 n_erase=134014 n_keep=4 n_left=2044 n_shift=1022 tid=\"138523311972352\" timestamp=1729769941\n",
      "[GIN] 2024/10/24 - 11:39:04 | 200 |  3.990023832s |       127.0.0.1 | POST     \"/api/generate\"\n"
     ]
    },
    {
     "name": "stderr",
     "output_type": "stream",
     "text": [
      "Generating responses:  49%|████▉     | 514/1039 [35:48<51:12,  5.85s/it]"
     ]
    },
    {
     "name": "stdout",
     "output_type": "stream",
     "text": [
      "[GIN] 2024/10/24 - 11:39:06 | 200 |  1.493955513s |       127.0.0.1 | POST     \"/api/generate\"\n",
      "INFO [update_slots] input truncated | n_ctx=2048 n_erase=134290 n_keep=4 n_left=2044 n_shift=1022 tid=\"138523311972352\" timestamp=1729769947\n",
      "[GIN] 2024/10/24 - 11:39:10 | 200 |  3.886085336s |       127.0.0.1 | POST     \"/api/generate\"\n"
     ]
    },
    {
     "name": "stderr",
     "output_type": "stream",
     "text": [
      "Generating responses:  50%|████▉     | 515/1039 [35:54<51:09,  5.86s/it]"
     ]
    },
    {
     "name": "stdout",
     "output_type": "stream",
     "text": [
      "[GIN] 2024/10/24 - 11:39:12 | 200 |  1.484594378s |       127.0.0.1 | POST     \"/api/generate\"\n",
      "INFO [update_slots] input truncated | n_ctx=2048 n_erase=134569 n_keep=4 n_left=2044 n_shift=1022 tid=\"138523311972352\" timestamp=1729769953\n",
      "[GIN] 2024/10/24 - 11:39:16 | 200 |  4.156286079s |       127.0.0.1 | POST     \"/api/generate\"\n"
     ]
    },
    {
     "name": "stderr",
     "output_type": "stream",
     "text": [
      "Generating responses:  50%|████▉     | 516/1039 [36:01<54:29,  6.25s/it]"
     ]
    },
    {
     "name": "stdout",
     "output_type": "stream",
     "text": [
      "[GIN] 2024/10/24 - 11:39:19 | 200 |  2.510349389s |       127.0.0.1 | POST     \"/api/generate\"\n",
      "INFO [update_slots] input truncated | n_ctx=2048 n_erase=134909 n_keep=4 n_left=2044 n_shift=1022 tid=\"138523311972352\" timestamp=1729769960\n",
      "[GIN] 2024/10/24 - 11:39:23 | 200 |  3.914874708s |       127.0.0.1 | POST     \"/api/generate\"\n"
     ]
    },
    {
     "name": "stderr",
     "output_type": "stream",
     "text": [
      "Generating responses:  50%|████▉     | 517/1039 [36:06<51:29,  5.92s/it]"
     ]
    },
    {
     "name": "stdout",
     "output_type": "stream",
     "text": [
      "[GIN] 2024/10/24 - 11:39:24 | 200 |  710.965635ms |       127.0.0.1 | POST     \"/api/generate\"\n",
      "INFO [update_slots] input truncated | n_ctx=2048 n_erase=135141 n_keep=4 n_left=2044 n_shift=1022 tid=\"138523311972352\" timestamp=1729769965\n",
      "[GIN] 2024/10/24 - 11:39:28 | 200 |  3.907695633s |       127.0.0.1 | POST     \"/api/generate\"\n"
     ]
    },
    {
     "name": "stderr",
     "output_type": "stream",
     "text": [
      "Generating responses:  50%|████▉     | 518/1039 [36:12<51:07,  5.89s/it]"
     ]
    },
    {
     "name": "stdout",
     "output_type": "stream",
     "text": [
      "[GIN] 2024/10/24 - 11:39:30 | 200 |  1.390872294s |       127.0.0.1 | POST     \"/api/generate\"\n",
      "INFO [update_slots] input truncated | n_ctx=2048 n_erase=135409 n_keep=4 n_left=2044 n_shift=1022 tid=\"138523311972352\" timestamp=1729769971\n",
      "[GIN] 2024/10/24 - 11:39:34 | 200 |  3.850663303s |       127.0.0.1 | POST     \"/api/generate\"\n"
     ]
    },
    {
     "name": "stderr",
     "output_type": "stream",
     "text": [
      "Generating responses:  50%|████▉     | 519/1039 [36:17<49:59,  5.77s/it]"
     ]
    },
    {
     "name": "stdout",
     "output_type": "stream",
     "text": [
      "[GIN] 2024/10/24 - 11:39:35 | 200 |  1.077603273s |       127.0.0.1 | POST     \"/api/generate\"\n",
      "INFO [update_slots] input truncated | n_ctx=2048 n_erase=135659 n_keep=4 n_left=2044 n_shift=1022 tid=\"138523311972352\" timestamp=1729769977\n",
      "[GIN] 2024/10/24 - 11:39:39 | 200 |  3.965850681s |       127.0.0.1 | POST     \"/api/generate\"\n"
     ]
    },
    {
     "name": "stderr",
     "output_type": "stream",
     "text": [
      "Generating responses:  50%|█████     | 520/1039 [36:23<48:47,  5.64s/it]"
     ]
    },
    {
     "name": "stdout",
     "output_type": "stream",
     "text": [
      "[GIN] 2024/10/24 - 11:39:41 | 200 |  832.064722ms |       127.0.0.1 | POST     \"/api/generate\"\n",
      "INFO [update_slots] input truncated | n_ctx=2048 n_erase=135902 n_keep=4 n_left=2044 n_shift=1022 tid=\"138523311972352\" timestamp=1729769982\n",
      "[GIN] 2024/10/24 - 11:39:45 | 200 |  4.068406238s |       127.0.0.1 | POST     \"/api/generate\"\n"
     ]
    },
    {
     "name": "stderr",
     "output_type": "stream",
     "text": [
      "Generating responses:  50%|█████     | 521/1039 [36:28<48:14,  5.59s/it]"
     ]
    },
    {
     "name": "stdout",
     "output_type": "stream",
     "text": [
      "[GIN] 2024/10/24 - 11:39:46 | 200 |  876.495582ms |       127.0.0.1 | POST     \"/api/generate\"\n",
      "INFO [update_slots] input truncated | n_ctx=2048 n_erase=136144 n_keep=4 n_left=2044 n_shift=1022 tid=\"138523311972352\" timestamp=1729769988\n",
      "[GIN] 2024/10/24 - 11:39:50 | 200 |  3.887880995s |       127.0.0.1 | POST     \"/api/generate\"\n",
      "[GIN] 2024/10/24 - 11:39:52 | 200 |  984.748335ms |       127.0.0.1 | POST     \"/api/generate\"\n"
     ]
    },
    {
     "name": "stderr",
     "output_type": "stream",
     "text": [
      "Generating responses:  50%|█████     | 522/1039 [36:35<51:35,  5.99s/it]"
     ]
    },
    {
     "name": "stdout",
     "output_type": "stream",
     "text": [
      "[GIN] 2024/10/24 - 11:39:53 | 200 |  1.524512967s |       127.0.0.1 | POST     \"/api/generate\"\n",
      "INFO [update_slots] input truncated | n_ctx=2048 n_erase=136397 n_keep=4 n_left=2044 n_shift=1022 tid=\"138523311972352\" timestamp=1729769995\n",
      "[GIN] 2024/10/24 - 11:39:57 | 200 |  4.151715161s |       127.0.0.1 | POST     \"/api/generate\"\n",
      "[GIN] 2024/10/24 - 11:39:59 | 200 |  1.561181397s |       127.0.0.1 | POST     \"/api/generate\"\n"
     ]
    },
    {
     "name": "stderr",
     "output_type": "stream",
     "text": [
      "Generating responses:  50%|█████     | 523/1039 [36:43<55:51,  6.49s/it]"
     ]
    },
    {
     "name": "stdout",
     "output_type": "stream",
     "text": [
      "[GIN] 2024/10/24 - 11:40:01 | 200 |  1.420043093s |       127.0.0.1 | POST     \"/api/generate\"\n",
      "INFO [update_slots] input truncated | n_ctx=2048 n_erase=136680 n_keep=4 n_left=2044 n_shift=1022 tid=\"138523311972352\" timestamp=1729770002\n",
      "[GIN] 2024/10/24 - 11:40:05 | 200 |  4.119958707s |       127.0.0.1 | POST     \"/api/generate\"\n"
     ]
    },
    {
     "name": "stderr",
     "output_type": "stream",
     "text": [
      "Generating responses:  50%|█████     | 524/1039 [36:49<54:49,  6.39s/it]"
     ]
    },
    {
     "name": "stdout",
     "output_type": "stream",
     "text": [
      "[GIN] 2024/10/24 - 11:40:07 | 200 |  1.490222538s |       127.0.0.1 | POST     \"/api/generate\"\n",
      "INFO [update_slots] input truncated | n_ctx=2048 n_erase=136959 n_keep=4 n_left=2044 n_shift=1022 tid=\"138523311972352\" timestamp=1729770008\n",
      "[GIN] 2024/10/24 - 11:40:11 | 200 |  4.068248273s |       127.0.0.1 | POST     \"/api/generate\"\n"
     ]
    },
    {
     "name": "stderr",
     "output_type": "stream",
     "text": [
      "Generating responses:  51%|█████     | 525/1039 [36:55<53:06,  6.20s/it]"
     ]
    },
    {
     "name": "stdout",
     "output_type": "stream",
     "text": [
      "[GIN] 2024/10/24 - 11:40:13 | 200 |  1.165244439s |       127.0.0.1 | POST     \"/api/generate\"\n",
      "INFO [update_slots] input truncated | n_ctx=2048 n_erase=137217 n_keep=4 n_left=2044 n_shift=1022 tid=\"138523311972352\" timestamp=1729770014\n",
      "[GIN] 2024/10/24 - 11:40:17 | 200 |   4.19311313s |       127.0.0.1 | POST     \"/api/generate\"\n"
     ]
    },
    {
     "name": "stderr",
     "output_type": "stream",
     "text": [
      "Generating responses:  51%|█████     | 526/1039 [37:01<51:52,  6.07s/it]"
     ]
    },
    {
     "name": "stdout",
     "output_type": "stream",
     "text": [
      "[GIN] 2024/10/24 - 11:40:18 | 200 |  1.039199384s |       127.0.0.1 | POST     \"/api/generate\"\n",
      "INFO [update_slots] input truncated | n_ctx=2048 n_erase=137466 n_keep=4 n_left=2044 n_shift=1022 tid=\"138523311972352\" timestamp=1729770020\n",
      "[GIN] 2024/10/24 - 11:40:23 | 200 |  4.130833883s |       127.0.0.1 | POST     \"/api/generate\"\n",
      "[GIN] 2024/10/24 - 11:40:24 | 200 |  581.265638ms |       127.0.0.1 | POST     \"/api/generate\"\n"
     ]
    },
    {
     "name": "stderr",
     "output_type": "stream",
     "text": [
      "Generating responses:  51%|█████     | 527/1039 [37:06<51:19,  6.01s/it]"
     ]
    },
    {
     "name": "stdout",
     "output_type": "stream",
     "text": [
      "[GIN] 2024/10/24 - 11:40:24 | 200 |  629.537938ms |       127.0.0.1 | POST     \"/api/generate\"\n",
      "INFO [update_slots] input truncated | n_ctx=2048 n_erase=137693 n_keep=4 n_left=2044 n_shift=1022 tid=\"138523311972352\" timestamp=1729770026\n",
      "[GIN] 2024/10/24 - 11:40:28 | 200 |  4.050526683s |       127.0.0.1 | POST     \"/api/generate\"\n"
     ]
    },
    {
     "name": "stderr",
     "output_type": "stream",
     "text": [
      "Generating responses:  51%|█████     | 528/1039 [37:12<50:26,  5.92s/it]"
     ]
    },
    {
     "name": "stdout",
     "output_type": "stream",
     "text": [
      "[GIN] 2024/10/24 - 11:40:30 | 200 |   1.11538856s |       127.0.0.1 | POST     \"/api/generate\"\n",
      "INFO [update_slots] input truncated | n_ctx=2048 n_erase=137945 n_keep=4 n_left=2044 n_shift=1022 tid=\"138523311972352\" timestamp=1729770031\n",
      "[GIN] 2024/10/24 - 11:40:34 | 200 |   4.22393411s |       127.0.0.1 | POST     \"/api/generate\"\n",
      "[GIN] 2024/10/24 - 11:40:36 | 200 |  899.436335ms |       127.0.0.1 | POST     \"/api/generate\"\n"
     ]
    },
    {
     "name": "stderr",
     "output_type": "stream",
     "text": [
      "Generating responses:  51%|█████     | 529/1039 [37:19<51:51,  6.10s/it]"
     ]
    },
    {
     "name": "stdout",
     "output_type": "stream",
     "text": [
      "[GIN] 2024/10/24 - 11:40:36 | 200 |  852.439321ms |       127.0.0.1 | POST     \"/api/generate\"\n",
      "INFO [update_slots] input truncated | n_ctx=2048 n_erase=138191 n_keep=4 n_left=2044 n_shift=1022 tid=\"138523311972352\" timestamp=1729770038\n",
      "[GIN] 2024/10/24 - 11:40:41 | 200 |  4.065282183s |       127.0.0.1 | POST     \"/api/generate\"\n"
     ]
    },
    {
     "name": "stderr",
     "output_type": "stream",
     "text": [
      "Generating responses:  51%|█████     | 530/1039 [37:24<50:39,  5.97s/it]"
     ]
    },
    {
     "name": "stdout",
     "output_type": "stream",
     "text": [
      "[GIN] 2024/10/24 - 11:40:42 | 200 |  1.060897363s |       127.0.0.1 | POST     \"/api/generate\"\n",
      "INFO [update_slots] input truncated | n_ctx=2048 n_erase=138451 n_keep=4 n_left=2044 n_shift=1022 tid=\"138523311972352\" timestamp=1729770044\n",
      "[GIN] 2024/10/24 - 11:40:46 | 200 |  4.187178628s |       127.0.0.1 | POST     \"/api/generate\"\n"
     ]
    },
    {
     "name": "stderr",
     "output_type": "stream",
     "text": [
      "Generating responses:  51%|█████     | 531/1039 [37:31<51:18,  6.06s/it]"
     ]
    },
    {
     "name": "stdout",
     "output_type": "stream",
     "text": [
      "[GIN] 2024/10/24 - 11:40:48 | 200 |  1.534968519s |       127.0.0.1 | POST     \"/api/generate\"\n",
      "INFO [update_slots] input truncated | n_ctx=2048 n_erase=138736 n_keep=4 n_left=2044 n_shift=1022 tid=\"138523311972352\" timestamp=1729770050\n",
      "[GIN] 2024/10/24 - 11:40:52 | 200 |  4.026962276s |       127.0.0.1 | POST     \"/api/generate\"\n"
     ]
    },
    {
     "name": "stderr",
     "output_type": "stream",
     "text": [
      "Generating responses:  51%|█████     | 532/1039 [37:36<50:20,  5.96s/it]"
     ]
    },
    {
     "name": "stdout",
     "output_type": "stream",
     "text": [
      "[GIN] 2024/10/24 - 11:40:54 | 200 |    1.1484415s |       127.0.0.1 | POST     \"/api/generate\"\n",
      "INFO [update_slots] input truncated | n_ctx=2048 n_erase=138989 n_keep=4 n_left=2044 n_shift=1022 tid=\"138523311972352\" timestamp=1729770056\n",
      "[GIN] 2024/10/24 - 11:40:58 | 200 |  3.974410587s |       127.0.0.1 | POST     \"/api/generate\"\n"
     ]
    },
    {
     "name": "stderr",
     "output_type": "stream",
     "text": [
      "Generating responses:  51%|█████▏    | 533/1039 [37:42<50:14,  5.96s/it]"
     ]
    },
    {
     "name": "stdout",
     "output_type": "stream",
     "text": [
      "[GIN] 2024/10/24 - 11:41:00 | 200 |  1.437535852s |       127.0.0.1 | POST     \"/api/generate\"\n",
      "INFO [update_slots] input truncated | n_ctx=2048 n_erase=139258 n_keep=4 n_left=2044 n_shift=1022 tid=\"138523311972352\" timestamp=1729770062\n",
      "[GIN] 2024/10/24 - 11:41:04 | 200 |   4.16608705s |       127.0.0.1 | POST     \"/api/generate\"\n"
     ]
    },
    {
     "name": "stderr",
     "output_type": "stream",
     "text": [
      "Generating responses:  51%|█████▏    | 534/1039 [37:48<50:11,  5.96s/it]"
     ]
    },
    {
     "name": "stdout",
     "output_type": "stream",
     "text": [
      "[GIN] 2024/10/24 - 11:41:06 | 200 |  1.274843379s |       127.0.0.1 | POST     \"/api/generate\"\n",
      "INFO [update_slots] input truncated | n_ctx=2048 n_erase=139524 n_keep=4 n_left=2044 n_shift=1022 tid=\"138523311972352\" timestamp=1729770068\n",
      "[GIN] 2024/10/24 - 11:41:10 | 200 |  4.288853734s |       127.0.0.1 | POST     \"/api/generate\"\n"
     ]
    },
    {
     "name": "stderr",
     "output_type": "stream",
     "text": [
      "Generating responses:  51%|█████▏    | 535/1039 [37:54<49:42,  5.92s/it]"
     ]
    },
    {
     "name": "stdout",
     "output_type": "stream",
     "text": [
      "[GIN] 2024/10/24 - 11:41:12 | 200 |  972.392944ms |       127.0.0.1 | POST     \"/api/generate\"\n",
      "INFO [update_slots] input truncated | n_ctx=2048 n_erase=139766 n_keep=4 n_left=2044 n_shift=1022 tid=\"138523311972352\" timestamp=1729770073\n",
      "[GIN] 2024/10/24 - 11:41:16 | 200 |   4.06501615s |       127.0.0.1 | POST     \"/api/generate\"\n"
     ]
    },
    {
     "name": "stderr",
     "output_type": "stream",
     "text": [
      "Generating responses:  52%|█████▏    | 536/1039 [38:00<49:36,  5.92s/it]"
     ]
    },
    {
     "name": "stdout",
     "output_type": "stream",
     "text": [
      "[GIN] 2024/10/24 - 11:41:18 | 200 |  1.305259866s |       127.0.0.1 | POST     \"/api/generate\"\n",
      "INFO [update_slots] input truncated | n_ctx=2048 n_erase=140028 n_keep=4 n_left=2044 n_shift=1022 tid=\"138523311972352\" timestamp=1729770079\n",
      "[GIN] 2024/10/24 - 11:41:22 | 200 |  3.993728051s |       127.0.0.1 | POST     \"/api/generate\"\n",
      "[GIN] 2024/10/24 - 11:41:24 | 200 |  1.340231704s |       127.0.0.1 | POST     \"/api/generate\"\n"
     ]
    },
    {
     "name": "stderr",
     "output_type": "stream",
     "text": [
      "Generating responses:  52%|█████▏    | 537/1039 [38:07<51:16,  6.13s/it]"
     ]
    },
    {
     "name": "stdout",
     "output_type": "stream",
     "text": [
      "[GIN] 2024/10/24 - 11:41:24 | 200 |  729.694233ms |       127.0.0.1 | POST     \"/api/generate\"\n",
      "INFO [update_slots] input truncated | n_ctx=2048 n_erase=140295 n_keep=4 n_left=2044 n_shift=1022 tid=\"138523311972352\" timestamp=1729770086\n",
      "[GIN] 2024/10/24 - 11:41:28 | 200 |  3.922473932s |       127.0.0.1 | POST     \"/api/generate\"\n",
      "[GIN] 2024/10/24 - 11:41:30 | 200 |  639.277093ms |       127.0.0.1 | POST     \"/api/generate\"\n"
     ]
    },
    {
     "name": "stderr",
     "output_type": "stream",
     "text": [
      "Generating responses:  52%|█████▏    | 538/1039 [38:12<50:09,  6.01s/it]"
     ]
    },
    {
     "name": "stdout",
     "output_type": "stream",
     "text": [
      "[GIN] 2024/10/24 - 11:41:30 | 200 |   607.90714ms |       127.0.0.1 | POST     \"/api/generate\"\n",
      "INFO [update_slots] input truncated | n_ctx=2048 n_erase=140535 n_keep=4 n_left=2044 n_shift=1022 tid=\"138523311972352\" timestamp=1729770092\n",
      "[GIN] 2024/10/24 - 11:41:34 | 200 |  4.149441315s |       127.0.0.1 | POST     \"/api/generate\"\n"
     ]
    },
    {
     "name": "stderr",
     "output_type": "stream",
     "text": [
      "Generating responses:  52%|█████▏    | 539/1039 [38:19<51:10,  6.14s/it]"
     ]
    },
    {
     "name": "stdout",
     "output_type": "stream",
     "text": [
      "[GIN] 2024/10/24 - 11:41:37 | 200 |  1.755082986s |       127.0.0.1 | POST     \"/api/generate\"\n",
      "INFO [update_slots] input truncated | n_ctx=2048 n_erase=140834 n_keep=4 n_left=2044 n_shift=1022 tid=\"138523311972352\" timestamp=1729770098\n",
      "[GIN] 2024/10/24 - 11:41:41 | 200 |  3.951707189s |       127.0.0.1 | POST     \"/api/generate\"\n"
     ]
    },
    {
     "name": "stderr",
     "output_type": "stream",
     "text": [
      "Generating responses:  52%|█████▏    | 540/1039 [38:24<48:50,  5.87s/it]"
     ]
    },
    {
     "name": "stdout",
     "output_type": "stream",
     "text": [
      "[GIN] 2024/10/24 - 11:41:42 | 200 |  698.799644ms |       127.0.0.1 | POST     \"/api/generate\"\n",
      "INFO [update_slots] input truncated | n_ctx=2048 n_erase=141065 n_keep=4 n_left=2044 n_shift=1022 tid=\"138523311972352\" timestamp=1729770103\n",
      "[GIN] 2024/10/24 - 11:41:46 | 200 |  3.927345901s |       127.0.0.1 | POST     \"/api/generate\"\n"
     ]
    },
    {
     "name": "stderr",
     "output_type": "stream",
     "text": [
      "Generating responses:  52%|█████▏    | 541/1039 [38:31<51:17,  6.18s/it]"
     ]
    },
    {
     "name": "stdout",
     "output_type": "stream",
     "text": [
      "[GIN] 2024/10/24 - 11:41:49 | 200 |  2.393205972s |       127.0.0.1 | POST     \"/api/generate\"\n",
      "INFO [update_slots] input truncated | n_ctx=2048 n_erase=141399 n_keep=4 n_left=2044 n_shift=1022 tid=\"138523311972352\" timestamp=1729770110\n",
      "[GIN] 2024/10/24 - 11:41:53 | 200 |  4.269980326s |       127.0.0.1 | POST     \"/api/generate\"\n"
     ]
    },
    {
     "name": "stderr",
     "output_type": "stream",
     "text": [
      "Generating responses:  52%|█████▏    | 542/1039 [38:37<52:08,  6.29s/it]"
     ]
    },
    {
     "name": "stdout",
     "output_type": "stream",
     "text": [
      "[GIN] 2024/10/24 - 11:41:55 | 200 |  1.725579475s |       127.0.0.1 | POST     \"/api/generate\"\n",
      "INFO [update_slots] input truncated | n_ctx=2048 n_erase=141683 n_keep=4 n_left=2044 n_shift=1022 tid=\"138523311972352\" timestamp=1729770117\n",
      "[GIN] 2024/10/24 - 11:41:59 | 200 |  4.004828739s |       127.0.0.1 | POST     \"/api/generate\"\n"
     ]
    },
    {
     "name": "stderr",
     "output_type": "stream",
     "text": [
      "Generating responses:  52%|█████▏    | 543/1039 [38:43<51:21,  6.21s/it]"
     ]
    },
    {
     "name": "stdout",
     "output_type": "stream",
     "text": [
      "[GIN] 2024/10/24 - 11:42:01 | 200 |   1.45095493s |       127.0.0.1 | POST     \"/api/generate\"\n",
      "INFO [update_slots] input truncated | n_ctx=2048 n_erase=141964 n_keep=4 n_left=2044 n_shift=1022 tid=\"138523311972352\" timestamp=1729770123\n",
      "[GIN] 2024/10/24 - 11:42:06 | 200 |  4.312736751s |       127.0.0.1 | POST     \"/api/generate\"\n"
     ]
    },
    {
     "name": "stderr",
     "output_type": "stream",
     "text": [
      "Generating responses:  52%|█████▏    | 544/1039 [38:50<51:10,  6.20s/it]"
     ]
    },
    {
     "name": "stdout",
     "output_type": "stream",
     "text": [
      "[GIN] 2024/10/24 - 11:42:08 | 200 |  1.287039289s |       127.0.0.1 | POST     \"/api/generate\"\n",
      "INFO [update_slots] input truncated | n_ctx=2048 n_erase=142231 n_keep=4 n_left=2044 n_shift=1022 tid=\"138523311972352\" timestamp=1729770129\n",
      "[GIN] 2024/10/24 - 11:42:12 | 200 |  4.141352783s |       127.0.0.1 | POST     \"/api/generate\"\n"
     ]
    },
    {
     "name": "stderr",
     "output_type": "stream",
     "text": [
      "Generating responses:  52%|█████▏    | 545/1039 [38:56<50:18,  6.11s/it]"
     ]
    },
    {
     "name": "stdout",
     "output_type": "stream",
     "text": [
      "[GIN] 2024/10/24 - 11:42:13 | 200 |  1.174580527s |       127.0.0.1 | POST     \"/api/generate\"\n",
      "INFO [update_slots] input truncated | n_ctx=2048 n_erase=142487 n_keep=4 n_left=2044 n_shift=1022 tid=\"138523311972352\" timestamp=1729770135\n",
      "[GIN] 2024/10/24 - 11:42:18 | 200 |  4.193359135s |       127.0.0.1 | POST     \"/api/generate\"\n"
     ]
    },
    {
     "name": "stderr",
     "output_type": "stream",
     "text": [
      "Generating responses:  53%|█████▎    | 546/1039 [39:01<49:35,  6.03s/it]"
     ]
    },
    {
     "name": "stdout",
     "output_type": "stream",
     "text": [
      "[GIN] 2024/10/24 - 11:42:19 | 200 |   1.08334612s |       127.0.0.1 | POST     \"/api/generate\"\n",
      "INFO [update_slots] input truncated | n_ctx=2048 n_erase=142737 n_keep=4 n_left=2044 n_shift=1022 tid=\"138523311972352\" timestamp=1729770141\n",
      "[GIN] 2024/10/24 - 11:42:24 | 200 |  4.283214739s |       127.0.0.1 | POST     \"/api/generate\"\n"
     ]
    },
    {
     "name": "stderr",
     "output_type": "stream",
     "text": [
      "Generating responses:  53%|█████▎    | 547/1039 [39:08<51:13,  6.25s/it]"
     ]
    },
    {
     "name": "stdout",
     "output_type": "stream",
     "text": [
      "[GIN] 2024/10/24 - 11:42:26 | 200 |  1.888611142s |       127.0.0.1 | POST     \"/api/generate\"\n",
      "INFO [update_slots] input truncated | n_ctx=2048 n_erase=143032 n_keep=4 n_left=2044 n_shift=1022 tid=\"138523311972352\" timestamp=1729770148\n",
      "[GIN] 2024/10/24 - 11:42:30 | 200 |  4.226811128s |       127.0.0.1 | POST     \"/api/generate\"\n"
     ]
    },
    {
     "name": "stderr",
     "output_type": "stream",
     "text": [
      "Generating responses:  53%|█████▎    | 548/1039 [39:15<51:33,  6.30s/it]"
     ]
    },
    {
     "name": "stdout",
     "output_type": "stream",
     "text": [
      "[GIN] 2024/10/24 - 11:42:32 | 200 |  1.623510255s |       127.0.0.1 | POST     \"/api/generate\"\n",
      "INFO [update_slots] input truncated | n_ctx=2048 n_erase=143313 n_keep=4 n_left=2044 n_shift=1022 tid=\"138523311972352\" timestamp=1729770154\n",
      "[GIN] 2024/10/24 - 11:42:36 | 200 |  4.042831414s |       127.0.0.1 | POST     \"/api/generate\"\n"
     ]
    },
    {
     "name": "stderr",
     "output_type": "stream",
     "text": [
      "Generating responses:  53%|█████▎    | 549/1039 [39:20<50:06,  6.14s/it]"
     ]
    },
    {
     "name": "stdout",
     "output_type": "stream",
     "text": [
      "[GIN] 2024/10/24 - 11:42:38 | 200 |  1.142942616s |       127.0.0.1 | POST     \"/api/generate\"\n",
      "INFO [update_slots] input truncated | n_ctx=2048 n_erase=143573 n_keep=4 n_left=2044 n_shift=1022 tid=\"138523311972352\" timestamp=1729770160\n",
      "[GIN] 2024/10/24 - 11:42:42 | 200 |  3.982058977s |       127.0.0.1 | POST     \"/api/generate\"\n"
     ]
    },
    {
     "name": "stderr",
     "output_type": "stream",
     "text": [
      "Generating responses:  53%|█████▎    | 550/1039 [39:26<48:00,  5.89s/it]"
     ]
    },
    {
     "name": "stdout",
     "output_type": "stream",
     "text": [
      "[GIN] 2024/10/24 - 11:42:43 | 200 |  755.439066ms |       127.0.0.1 | POST     \"/api/generate\"\n",
      "INFO [update_slots] input truncated | n_ctx=2048 n_erase=143809 n_keep=4 n_left=2044 n_shift=1022 tid=\"138523311972352\" timestamp=1729770165\n",
      "[GIN] 2024/10/24 - 11:42:48 | 200 |  4.218539358s |       127.0.0.1 | POST     \"/api/generate\"\n"
     ]
    },
    {
     "name": "stderr",
     "output_type": "stream",
     "text": [
      "Generating responses:  53%|█████▎    | 551/1039 [39:31<47:38,  5.86s/it]"
     ]
    },
    {
     "name": "stdout",
     "output_type": "stream",
     "text": [
      "[GIN] 2024/10/24 - 11:42:49 | 200 |  985.114768ms |       127.0.0.1 | POST     \"/api/generate\"\n",
      "INFO [update_slots] input truncated | n_ctx=2048 n_erase=144053 n_keep=4 n_left=2044 n_shift=1022 tid=\"138523311972352\" timestamp=1729770171\n",
      "[GIN] 2024/10/24 - 11:42:53 | 200 |  4.145637119s |       127.0.0.1 | POST     \"/api/generate\"\n",
      "[GIN] 2024/10/24 - 11:42:55 | 200 |  768.884025ms |       127.0.0.1 | POST     \"/api/generate\"\n"
     ]
    },
    {
     "name": "stderr",
     "output_type": "stream",
     "text": [
      "Generating responses:  53%|█████▎    | 552/1039 [39:38<49:05,  6.05s/it]"
     ]
    },
    {
     "name": "stdout",
     "output_type": "stream",
     "text": [
      "[GIN] 2024/10/24 - 11:42:56 | 200 |  1.000719951s |       127.0.0.1 | POST     \"/api/generate\"\n",
      "INFO [update_slots] input truncated | n_ctx=2048 n_erase=144292 n_keep=4 n_left=2044 n_shift=1022 tid=\"138523311972352\" timestamp=1729770177\n",
      "[GIN] 2024/10/24 - 11:43:00 | 200 |  4.658496347s |       127.0.0.1 | POST     \"/api/generate\"\n",
      "[GIN] 2024/10/24 - 11:43:02 | 200 |  781.206791ms |       127.0.0.1 | POST     \"/api/generate\"\n"
     ]
    },
    {
     "name": "stderr",
     "output_type": "stream",
     "text": [
      "Generating responses:  53%|█████▎    | 553/1039 [39:45<51:53,  6.41s/it]"
     ]
    },
    {
     "name": "stdout",
     "output_type": "stream",
     "text": [
      "[GIN] 2024/10/24 - 11:43:03 | 200 |  1.210940295s |       127.0.0.1 | POST     \"/api/generate\"\n",
      "INFO [update_slots] input truncated | n_ctx=2048 n_erase=144526 n_keep=4 n_left=2044 n_shift=1022 tid=\"138523311972352\" timestamp=1729770185\n",
      "[GIN] 2024/10/24 - 11:43:07 | 200 |  4.037042069s |       127.0.0.1 | POST     \"/api/generate\"\n"
     ]
    },
    {
     "name": "stderr",
     "output_type": "stream",
     "text": [
      "Generating responses:  53%|█████▎    | 554/1039 [39:51<49:19,  6.10s/it]"
     ]
    },
    {
     "name": "stdout",
     "output_type": "stream",
     "text": [
      "[GIN] 2024/10/24 - 11:43:08 | 200 |  776.913751ms |       127.0.0.1 | POST     \"/api/generate\"\n",
      "INFO [update_slots] input truncated | n_ctx=2048 n_erase=144769 n_keep=4 n_left=2044 n_shift=1022 tid=\"138523311972352\" timestamp=1729770190\n",
      "[GIN] 2024/10/24 - 11:43:13 | 200 |   4.40651332s |       127.0.0.1 | POST     \"/api/generate\"\n"
     ]
    },
    {
     "name": "stderr",
     "output_type": "stream",
     "text": [
      "Generating responses:  53%|█████▎    | 555/1039 [39:57<49:51,  6.18s/it]"
     ]
    },
    {
     "name": "stdout",
     "output_type": "stream",
     "text": [
      "[GIN] 2024/10/24 - 11:43:15 | 200 |  1.374498196s |       127.0.0.1 | POST     \"/api/generate\"\n",
      "INFO [update_slots] input truncated | n_ctx=2048 n_erase=145051 n_keep=4 n_left=2044 n_shift=1022 tid=\"138523311972352\" timestamp=1729770196\n",
      "[GIN] 2024/10/24 - 11:43:19 | 200 |  4.456145655s |       127.0.0.1 | POST     \"/api/generate\"\n"
     ]
    },
    {
     "name": "stderr",
     "output_type": "stream",
     "text": [
      "Generating responses:  54%|█████▎    | 556/1039 [40:03<49:25,  6.14s/it]"
     ]
    },
    {
     "name": "stdout",
     "output_type": "stream",
     "text": [
      "[GIN] 2024/10/24 - 11:43:21 | 200 |  999.688316ms |       127.0.0.1 | POST     \"/api/generate\"\n",
      "INFO [update_slots] input truncated | n_ctx=2048 n_erase=145296 n_keep=4 n_left=2044 n_shift=1022 tid=\"138523311972352\" timestamp=1729770202\n",
      "[GIN] 2024/10/24 - 11:43:25 | 200 |  4.185783311s |       127.0.0.1 | POST     \"/api/generate\"\n"
     ]
    },
    {
     "name": "stderr",
     "output_type": "stream",
     "text": [
      "Generating responses:  54%|█████▎    | 557/1039 [40:09<49:32,  6.17s/it]"
     ]
    },
    {
     "name": "stdout",
     "output_type": "stream",
     "text": [
      "[GIN] 2024/10/24 - 11:43:27 | 200 |  1.457069835s |       127.0.0.1 | POST     \"/api/generate\"\n",
      "INFO [update_slots] input truncated | n_ctx=2048 n_erase=145572 n_keep=4 n_left=2044 n_shift=1022 tid=\"138523311972352\" timestamp=1729770209\n",
      "[GIN] 2024/10/24 - 11:43:31 | 200 |   4.31673231s |       127.0.0.1 | POST     \"/api/generate\"\n"
     ]
    },
    {
     "name": "stderr",
     "output_type": "stream",
     "text": [
      "Generating responses:  54%|█████▎    | 558/1039 [40:15<48:40,  6.07s/it]"
     ]
    },
    {
     "name": "stdout",
     "output_type": "stream",
     "text": [
      "[GIN] 2024/10/24 - 11:43:33 | 200 |  928.682571ms |       127.0.0.1 | POST     \"/api/generate\"\n",
      "INFO [update_slots] input truncated | n_ctx=2048 n_erase=145815 n_keep=4 n_left=2044 n_shift=1022 tid=\"138523311972352\" timestamp=1729770214\n",
      "[GIN] 2024/10/24 - 11:43:37 | 200 |  4.440073291s |       127.0.0.1 | POST     \"/api/generate\"\n",
      "[GIN] 2024/10/24 - 11:43:39 | 200 |  1.094838989s |       127.0.0.1 | POST     \"/api/generate\"\n"
     ]
    },
    {
     "name": "stderr",
     "output_type": "stream",
     "text": [
      "Generating responses:  54%|█████▍    | 559/1039 [40:23<52:54,  6.61s/it]"
     ]
    },
    {
     "name": "stdout",
     "output_type": "stream",
     "text": [
      "[GIN] 2024/10/24 - 11:43:41 | 200 |  1.727759966s |       127.0.0.1 | POST     \"/api/generate\"\n",
      "INFO [update_slots] input truncated | n_ctx=2048 n_erase=146068 n_keep=4 n_left=2044 n_shift=1022 tid=\"138523311972352\" timestamp=1729770222\n",
      "[GIN] 2024/10/24 - 11:43:45 | 200 |  4.385973186s |       127.0.0.1 | POST     \"/api/generate\"\n",
      "[GIN] 2024/10/24 - 11:43:47 | 200 |  1.403365737s |       127.0.0.1 | POST     \"/api/generate\"\n"
     ]
    },
    {
     "name": "stderr",
     "output_type": "stream",
     "text": [
      "Generating responses:  54%|█████▍    | 560/1039 [40:31<55:17,  6.93s/it]"
     ]
    },
    {
     "name": "stdout",
     "output_type": "stream",
     "text": [
      "[GIN] 2024/10/24 - 11:43:48 | 200 |  1.264538182s |       127.0.0.1 | POST     \"/api/generate\"\n",
      "INFO [update_slots] input truncated | n_ctx=2048 n_erase=146338 n_keep=4 n_left=2044 n_shift=1022 tid=\"138523311972352\" timestamp=1729770230\n",
      "[GIN] 2024/10/24 - 11:43:53 | 200 |   4.34144753s |       127.0.0.1 | POST     \"/api/generate\"\n",
      "[GIN] 2024/10/24 - 11:43:54 | 200 |  851.760707ms |       127.0.0.1 | POST     \"/api/generate\"\n"
     ]
    },
    {
     "name": "stderr",
     "output_type": "stream",
     "text": [
      "Generating responses:  54%|█████▍    | 561/1039 [40:38<55:39,  6.99s/it]"
     ]
    },
    {
     "name": "stdout",
     "output_type": "stream",
     "text": [
      "[GIN] 2024/10/24 - 11:43:56 | 200 |  1.341767727s |       127.0.0.1 | POST     \"/api/generate\"\n",
      "INFO [update_slots] input truncated | n_ctx=2048 n_erase=146581 n_keep=4 n_left=2044 n_shift=1022 tid=\"138523311972352\" timestamp=1729770237\n",
      "[GIN] 2024/10/24 - 11:44:00 | 200 |  4.374032446s |       127.0.0.1 | POST     \"/api/generate\"\n"
     ]
    },
    {
     "name": "stderr",
     "output_type": "stream",
     "text": [
      "Generating responses:  54%|█████▍    | 562/1039 [40:44<53:42,  6.76s/it]"
     ]
    },
    {
     "name": "stdout",
     "output_type": "stream",
     "text": [
      "[GIN] 2024/10/24 - 11:44:02 | 200 |  1.229793353s |       127.0.0.1 | POST     \"/api/generate\"\n",
      "INFO [update_slots] input truncated | n_ctx=2048 n_erase=146843 n_keep=4 n_left=2044 n_shift=1022 tid=\"138523311972352\" timestamp=1729770243\n",
      "[GIN] 2024/10/24 - 11:44:06 | 200 |  4.286229184s |       127.0.0.1 | POST     \"/api/generate\"\n"
     ]
    },
    {
     "name": "stderr",
     "output_type": "stream",
     "text": [
      "Generating responses:  54%|█████▍    | 563/1039 [40:50<51:48,  6.53s/it]"
     ]
    },
    {
     "name": "stdout",
     "output_type": "stream",
     "text": [
      "[GIN] 2024/10/24 - 11:44:08 | 200 |  1.120847039s |       127.0.0.1 | POST     \"/api/generate\"\n",
      "INFO [update_slots] input truncated | n_ctx=2048 n_erase=147097 n_keep=4 n_left=2044 n_shift=1022 tid=\"138523311972352\" timestamp=1729770249\n",
      "[GIN] 2024/10/24 - 11:44:12 | 200 |  4.127441083s |       127.0.0.1 | POST     \"/api/generate\"\n"
     ]
    },
    {
     "name": "stderr",
     "output_type": "stream",
     "text": [
      "Generating responses:  54%|█████▍    | 564/1039 [40:55<49:11,  6.21s/it]"
     ]
    },
    {
     "name": "stdout",
     "output_type": "stream",
     "text": [
      "[GIN] 2024/10/24 - 11:44:13 | 200 |  759.164961ms |       127.0.0.1 | POST     \"/api/generate\"\n",
      "INFO [update_slots] input truncated | n_ctx=2048 n_erase=147340 n_keep=4 n_left=2044 n_shift=1022 tid=\"138523311972352\" timestamp=1729770255\n",
      "[GIN] 2024/10/24 - 11:44:18 | 200 |  4.288535685s |       127.0.0.1 | POST     \"/api/generate\"\n"
     ]
    },
    {
     "name": "stderr",
     "output_type": "stream",
     "text": [
      "Generating responses:  54%|█████▍    | 565/1039 [41:01<48:18,  6.11s/it]"
     ]
    },
    {
     "name": "stdout",
     "output_type": "stream",
     "text": [
      "[GIN] 2024/10/24 - 11:44:19 | 200 |  993.788628ms |       127.0.0.1 | POST     \"/api/generate\"\n",
      "INFO [update_slots] input truncated | n_ctx=2048 n_erase=147590 n_keep=4 n_left=2044 n_shift=1022 tid=\"138523311972352\" timestamp=1729770261\n",
      "[GIN] 2024/10/24 - 11:44:24 | 200 |  4.355306771s |       127.0.0.1 | POST     \"/api/generate\"\n"
     ]
    },
    {
     "name": "stderr",
     "output_type": "stream",
     "text": [
      "Generating responses:  54%|█████▍    | 566/1039 [41:07<47:36,  6.04s/it]"
     ]
    },
    {
     "name": "stdout",
     "output_type": "stream",
     "text": [
      "[GIN] 2024/10/24 - 11:44:25 | 200 |  907.787377ms |       127.0.0.1 | POST     \"/api/generate\"\n",
      "INFO [update_slots] input truncated | n_ctx=2048 n_erase=147839 n_keep=4 n_left=2044 n_shift=1022 tid=\"138523311972352\" timestamp=1729770267\n",
      "[GIN] 2024/10/24 - 11:44:29 | 200 |  4.349791511s |       127.0.0.1 | POST     \"/api/generate\"\n"
     ]
    },
    {
     "name": "stderr",
     "output_type": "stream",
     "text": [
      "Generating responses:  55%|█████▍    | 567/1039 [41:14<48:16,  6.14s/it]"
     ]
    },
    {
     "name": "stdout",
     "output_type": "stream",
     "text": [
      "[GIN] 2024/10/24 - 11:44:31 | 200 |  1.403506093s |       127.0.0.1 | POST     \"/api/generate\"\n",
      "INFO [update_slots] input truncated | n_ctx=2048 n_erase=148110 n_keep=4 n_left=2044 n_shift=1022 tid=\"138523311972352\" timestamp=1729770273\n",
      "[GIN] 2024/10/24 - 11:44:36 | 200 |  4.265606151s |       127.0.0.1 | POST     \"/api/generate\"\n"
     ]
    },
    {
     "name": "stderr",
     "output_type": "stream",
     "text": [
      "Generating responses:  55%|█████▍    | 568/1039 [41:19<47:09,  6.01s/it]"
     ]
    },
    {
     "name": "stdout",
     "output_type": "stream",
     "text": [
      "[GIN] 2024/10/24 - 11:44:37 | 200 |    837.7225ms |       127.0.0.1 | POST     \"/api/generate\"\n",
      "INFO [update_slots] input truncated | n_ctx=2048 n_erase=148352 n_keep=4 n_left=2044 n_shift=1022 tid=\"138523311972352\" timestamp=1729770279\n",
      "[GIN] 2024/10/24 - 11:44:41 | 200 |  4.383714488s |       127.0.0.1 | POST     \"/api/generate\"\n"
     ]
    },
    {
     "name": "stderr",
     "output_type": "stream",
     "text": [
      "Generating responses:  55%|█████▍    | 569/1039 [41:26<47:53,  6.11s/it]"
     ]
    },
    {
     "name": "stdout",
     "output_type": "stream",
     "text": [
      "[GIN] 2024/10/24 - 11:44:43 | 200 |  1.352649205s |       127.0.0.1 | POST     \"/api/generate\"\n",
      "INFO [update_slots] input truncated | n_ctx=2048 n_erase=148626 n_keep=4 n_left=2044 n_shift=1022 tid=\"138523311972352\" timestamp=1729770285\n",
      "[GIN] 2024/10/24 - 11:44:48 | 200 |  4.215459365s |       127.0.0.1 | POST     \"/api/generate\"\n"
     ]
    },
    {
     "name": "stderr",
     "output_type": "stream",
     "text": [
      "Generating responses:  55%|█████▍    | 570/1039 [41:32<47:21,  6.06s/it]"
     ]
    },
    {
     "name": "stdout",
     "output_type": "stream",
     "text": [
      "[GIN] 2024/10/24 - 11:44:49 | 200 |  1.102586974s |       127.0.0.1 | POST     \"/api/generate\"\n",
      "INFO [update_slots] input truncated | n_ctx=2048 n_erase=148881 n_keep=4 n_left=2044 n_shift=1022 tid=\"138523311972352\" timestamp=1729770291\n",
      "[GIN] 2024/10/24 - 11:44:54 | 200 |  4.431893146s |       127.0.0.1 | POST     \"/api/generate\"\n"
     ]
    },
    {
     "name": "stderr",
     "output_type": "stream",
     "text": [
      "Generating responses:  55%|█████▍    | 571/1039 [41:37<46:42,  5.99s/it]"
     ]
    },
    {
     "name": "stdout",
     "output_type": "stream",
     "text": [
      "[GIN] 2024/10/24 - 11:44:55 | 200 |  780.046515ms |       127.0.0.1 | POST     \"/api/generate\"\n",
      "INFO [update_slots] input truncated | n_ctx=2048 n_erase=149127 n_keep=4 n_left=2044 n_shift=1022 tid=\"138523311972352\" timestamp=1729770297\n",
      "[GIN] 2024/10/24 - 11:45:00 | 200 |  4.304053424s |       127.0.0.1 | POST     \"/api/generate\"\n"
     ]
    },
    {
     "name": "stderr",
     "output_type": "stream",
     "text": [
      "Generating responses:  55%|█████▌    | 572/1039 [41:43<46:10,  5.93s/it]"
     ]
    },
    {
     "name": "stdout",
     "output_type": "stream",
     "text": [
      "[GIN] 2024/10/24 - 11:45:01 | 200 |  882.716911ms |       127.0.0.1 | POST     \"/api/generate\"\n",
      "INFO [update_slots] input truncated | n_ctx=2048 n_erase=149366 n_keep=4 n_left=2044 n_shift=1022 tid=\"138523311972352\" timestamp=1729770303\n",
      "[GIN] 2024/10/24 - 11:45:05 | 200 |  4.191088623s |       127.0.0.1 | POST     \"/api/generate\"\n"
     ]
    },
    {
     "name": "stderr",
     "output_type": "stream",
     "text": [
      "Generating responses:  55%|█████▌    | 573/1039 [41:49<45:28,  5.86s/it]"
     ]
    },
    {
     "name": "stdout",
     "output_type": "stream",
     "text": [
      "[GIN] 2024/10/24 - 11:45:07 | 200 |  856.748306ms |       127.0.0.1 | POST     \"/api/generate\"\n",
      "INFO [update_slots] input truncated | n_ctx=2048 n_erase=149606 n_keep=4 n_left=2044 n_shift=1022 tid=\"138523311972352\" timestamp=1729770308\n",
      "[GIN] 2024/10/24 - 11:45:11 | 200 |  4.478954641s |       127.0.0.1 | POST     \"/api/generate\"\n"
     ]
    },
    {
     "name": "stderr",
     "output_type": "stream",
     "text": [
      "Generating responses:  55%|█████▌    | 574/1039 [41:55<46:11,  5.96s/it]"
     ]
    },
    {
     "name": "stdout",
     "output_type": "stream",
     "text": [
      "[GIN] 2024/10/24 - 11:45:13 | 200 |  1.106907653s |       127.0.0.1 | POST     \"/api/generate\"\n",
      "INFO [update_slots] input truncated | n_ctx=2048 n_erase=149856 n_keep=4 n_left=2044 n_shift=1022 tid=\"138523311972352\" timestamp=1729770315\n",
      "[GIN] 2024/10/24 - 11:45:17 | 200 |  4.416325545s |       127.0.0.1 | POST     \"/api/generate\"\n"
     ]
    },
    {
     "name": "stderr",
     "output_type": "stream",
     "text": [
      "Generating responses:  55%|█████▌    | 575/1039 [42:01<46:13,  5.98s/it]"
     ]
    },
    {
     "name": "stdout",
     "output_type": "stream",
     "text": [
      "[GIN] 2024/10/24 - 11:45:19 | 200 |  968.915746ms |       127.0.0.1 | POST     \"/api/generate\"\n",
      "INFO [update_slots] input truncated | n_ctx=2048 n_erase=150102 n_keep=4 n_left=2044 n_shift=1022 tid=\"138523311972352\" timestamp=1729770321\n",
      "[GIN] 2024/10/24 - 11:45:24 | 200 |  5.000044805s |       127.0.0.1 | POST     \"/api/generate\"\n"
     ]
    },
    {
     "name": "stderr",
     "output_type": "stream",
     "text": [
      "Generating responses:  55%|█████▌    | 576/1039 [42:08<48:14,  6.25s/it]"
     ]
    },
    {
     "name": "stdout",
     "output_type": "stream",
     "text": [
      "[GIN] 2024/10/24 - 11:45:26 | 200 |  1.249784406s |       127.0.0.1 | POST     \"/api/generate\"\n",
      "INFO [update_slots] input truncated | n_ctx=2048 n_erase=150368 n_keep=4 n_left=2044 n_shift=1022 tid=\"138523311972352\" timestamp=1729770327\n",
      "[GIN] 2024/10/24 - 11:45:30 | 200 |  4.484821213s |       127.0.0.1 | POST     \"/api/generate\"\n"
     ]
    },
    {
     "name": "stderr",
     "output_type": "stream",
     "text": [
      "Generating responses:  56%|█████▌    | 577/1039 [42:14<48:17,  6.27s/it]"
     ]
    },
    {
     "name": "stdout",
     "output_type": "stream",
     "text": [
      "[GIN] 2024/10/24 - 11:45:32 | 200 |  1.197612961s |       127.0.0.1 | POST     \"/api/generate\"\n",
      "INFO [update_slots] input truncated | n_ctx=2048 n_erase=150623 n_keep=4 n_left=2044 n_shift=1022 tid=\"138523311972352\" timestamp=1729770334\n",
      "[GIN] 2024/10/24 - 11:45:36 | 200 |  4.146495575s |       127.0.0.1 | POST     \"/api/generate\"\n"
     ]
    },
    {
     "name": "stderr",
     "output_type": "stream",
     "text": [
      "Generating responses:  56%|█████▌    | 578/1039 [42:21<50:06,  6.52s/it]"
     ]
    },
    {
     "name": "stdout",
     "output_type": "stream",
     "text": [
      "[GIN] 2024/10/24 - 11:45:39 | 200 |  2.326847253s |       127.0.0.1 | POST     \"/api/generate\"\n",
      "INFO [update_slots] input truncated | n_ctx=2048 n_erase=150943 n_keep=4 n_left=2044 n_shift=1022 tid=\"138523311972352\" timestamp=1729770341\n",
      "[GIN] 2024/10/24 - 11:45:44 | 200 |  4.749759101s |       127.0.0.1 | POST     \"/api/generate\"\n"
     ]
    },
    {
     "name": "stderr",
     "output_type": "stream",
     "text": [
      "Generating responses:  56%|█████▌    | 579/1039 [42:28<51:09,  6.67s/it]"
     ]
    },
    {
     "name": "stdout",
     "output_type": "stream",
     "text": [
      "[GIN] 2024/10/24 - 11:45:46 | 200 |  1.636399953s |       127.0.0.1 | POST     \"/api/generate\"\n",
      "INFO [update_slots] input truncated | n_ctx=2048 n_erase=151236 n_keep=4 n_left=2044 n_shift=1022 tid=\"138523311972352\" timestamp=1729770348\n",
      "[GIN] 2024/10/24 - 11:45:51 | 200 |  5.117332628s |       127.0.0.1 | POST     \"/api/generate\"\n",
      "[GIN] 2024/10/24 - 11:45:53 | 200 |  1.371664747s |       127.0.0.1 | POST     \"/api/generate\"\n"
     ]
    },
    {
     "name": "stderr",
     "output_type": "stream",
     "text": [
      "Generating responses:  56%|█████▌    | 580/1039 [42:37<55:23,  7.24s/it]"
     ]
    },
    {
     "name": "stdout",
     "output_type": "stream",
     "text": [
      "[GIN] 2024/10/24 - 11:45:55 | 200 |  1.436691154s |       127.0.0.1 | POST     \"/api/generate\"\n",
      "INFO [update_slots] input truncated | n_ctx=2048 n_erase=151505 n_keep=4 n_left=2044 n_shift=1022 tid=\"138523311972352\" timestamp=1729770356\n",
      "[GIN] 2024/10/24 - 11:45:59 | 200 |  4.685930905s |       127.0.0.1 | POST     \"/api/generate\"\n",
      "[GIN] 2024/10/24 - 11:46:01 | 200 |   1.06779509s |       127.0.0.1 | POST     \"/api/generate\"\n"
     ]
    },
    {
     "name": "stderr",
     "output_type": "stream",
     "text": [
      "Generating responses:  56%|█████▌    | 581/1039 [42:46<58:17,  7.64s/it]"
     ]
    },
    {
     "name": "stdout",
     "output_type": "stream",
     "text": [
      "[GIN] 2024/10/24 - 11:46:03 | 200 |  2.157512182s |       127.0.0.1 | POST     \"/api/generate\"\n",
      "INFO [update_slots] input truncated | n_ctx=2048 n_erase=151754 n_keep=4 n_left=2044 n_shift=1022 tid=\"138523311972352\" timestamp=1729770365\n",
      "[GIN] 2024/10/24 - 11:46:08 | 200 |  4.289628112s |       127.0.0.1 | POST     \"/api/generate\"\n",
      "[GIN] 2024/10/24 - 11:46:09 | 200 |  892.319922ms |       127.0.0.1 | POST     \"/api/generate\"\n"
     ]
    },
    {
     "name": "stderr",
     "output_type": "stream",
     "text": [
      "Generating responses:  56%|█████▌    | 582/1039 [42:52<55:58,  7.35s/it]"
     ]
    },
    {
     "name": "stdout",
     "output_type": "stream",
     "text": [
      "[GIN] 2024/10/24 - 11:46:10 | 200 |  845.881452ms |       127.0.0.1 | POST     \"/api/generate\"\n",
      "INFO [update_slots] input truncated | n_ctx=2048 n_erase=152003 n_keep=4 n_left=2044 n_shift=1022 tid=\"138523311972352\" timestamp=1729770372\n",
      "[GIN] 2024/10/24 - 11:46:20 | 200 |  9.935765398s |       127.0.0.1 | POST     \"/api/generate\"\n",
      "[GIN] 2024/10/24 - 11:46:22 | 200 |  1.209106699s |       127.0.0.1 | POST     \"/api/generate\"\n"
     ]
    },
    {
     "name": "stderr",
     "output_type": "stream",
     "text": [
      "Generating responses:  56%|█████▌    | 583/1039 [43:06<1:09:52,  9.19s/it]"
     ]
    },
    {
     "name": "stdout",
     "output_type": "stream",
     "text": [
      "[GIN] 2024/10/24 - 11:46:24 | 200 |  1.631412616s |       127.0.0.1 | POST     \"/api/generate\"\n",
      "INFO [update_slots] input truncated | n_ctx=2048 n_erase=152252 n_keep=4 n_left=2044 n_shift=1022 tid=\"138523311972352\" timestamp=1729770385\n",
      "[GIN] 2024/10/24 - 11:46:28 | 200 |  4.584918685s |       127.0.0.1 | POST     \"/api/generate\"\n",
      "[GIN] 2024/10/24 - 11:46:30 | 200 |  978.589607ms |       127.0.0.1 | POST     \"/api/generate\"\n"
     ]
    },
    {
     "name": "stderr",
     "output_type": "stream",
     "text": [
      "Generating responses:  56%|█████▌    | 584/1039 [43:14<1:07:00,  8.84s/it]"
     ]
    },
    {
     "name": "stdout",
     "output_type": "stream",
     "text": [
      "[GIN] 2024/10/24 - 11:46:32 | 200 |  1.800179227s |       127.0.0.1 | POST     \"/api/generate\"\n",
      "INFO [update_slots] input truncated | n_ctx=2048 n_erase=152508 n_keep=4 n_left=2044 n_shift=1022 tid=\"138523311972352\" timestamp=1729770393\n",
      "[GIN] 2024/10/24 - 11:46:36 | 200 |  4.544455625s |       127.0.0.1 | POST     \"/api/generate\"\n"
     ]
    },
    {
     "name": "stderr",
     "output_type": "stream",
     "text": [
      "Generating responses:  56%|█████▋    | 585/1039 [43:20<1:01:49,  8.17s/it]"
     ]
    },
    {
     "name": "stdout",
     "output_type": "stream",
     "text": [
      "[GIN] 2024/10/24 - 11:46:38 | 200 |  1.438475817s |       127.0.0.1 | POST     \"/api/generate\"\n",
      "INFO [update_slots] input truncated | n_ctx=2048 n_erase=152788 n_keep=4 n_left=2044 n_shift=1022 tid=\"138523311972352\" timestamp=1729770400\n",
      "[GIN] 2024/10/24 - 11:46:43 | 200 |  4.504388329s |       127.0.0.1 | POST     \"/api/generate\"\n"
     ]
    },
    {
     "name": "stderr",
     "output_type": "stream",
     "text": [
      "Generating responses:  56%|█████▋    | 586/1039 [43:27<57:26,  7.61s/it]  "
     ]
    },
    {
     "name": "stdout",
     "output_type": "stream",
     "text": [
      "[GIN] 2024/10/24 - 11:46:44 | 200 |  1.148661108s |       127.0.0.1 | POST     \"/api/generate\"\n",
      "INFO [update_slots] input truncated | n_ctx=2048 n_erase=153041 n_keep=4 n_left=2044 n_shift=1022 tid=\"138523311972352\" timestamp=1729770406\n",
      "[GIN] 2024/10/24 - 11:46:49 | 200 |  4.424561475s |       127.0.0.1 | POST     \"/api/generate\"\n"
     ]
    },
    {
     "name": "stderr",
     "output_type": "stream",
     "text": [
      "Generating responses:  56%|█████▋    | 587/1039 [43:33<54:26,  7.23s/it]"
     ]
    },
    {
     "name": "stdout",
     "output_type": "stream",
     "text": [
      "[GIN] 2024/10/24 - 11:46:51 | 200 |  1.219269213s |       127.0.0.1 | POST     \"/api/generate\"\n",
      "INFO [update_slots] input truncated | n_ctx=2048 n_erase=153300 n_keep=4 n_left=2044 n_shift=1022 tid=\"138523311972352\" timestamp=1729770412\n",
      "[GIN] 2024/10/24 - 11:46:55 | 200 |  4.421952286s |       127.0.0.1 | POST     \"/api/generate\"\n"
     ]
    },
    {
     "name": "stderr",
     "output_type": "stream",
     "text": [
      "Generating responses:  57%|█████▋    | 588/1039 [43:40<53:13,  7.08s/it]"
     ]
    },
    {
     "name": "stdout",
     "output_type": "stream",
     "text": [
      "[GIN] 2024/10/24 - 11:46:58 | 200 |  1.681951754s |       127.0.0.1 | POST     \"/api/generate\"\n",
      "INFO [update_slots] input truncated | n_ctx=2048 n_erase=153586 n_keep=4 n_left=2044 n_shift=1022 tid=\"138523311972352\" timestamp=1729770419\n",
      "[GIN] 2024/10/24 - 11:47:02 | 200 |  4.733153121s |       127.0.0.1 | POST     \"/api/generate\"\n",
      "[GIN] 2024/10/24 - 11:47:04 | 200 |  826.689241ms |       127.0.0.1 | POST     \"/api/generate\"\n"
     ]
    },
    {
     "name": "stderr",
     "output_type": "stream",
     "text": [
      "Generating responses:  57%|█████▋    | 589/1039 [43:47<54:21,  7.25s/it]"
     ]
    },
    {
     "name": "stdout",
     "output_type": "stream",
     "text": [
      "[GIN] 2024/10/24 - 11:47:05 | 200 |  1.425439489s |       127.0.0.1 | POST     \"/api/generate\"\n",
      "INFO [update_slots] input truncated | n_ctx=2048 n_erase=153823 n_keep=4 n_left=2044 n_shift=1022 tid=\"138523311972352\" timestamp=1729770427\n",
      "[GIN] 2024/10/24 - 11:47:09 | 200 |  4.303343197s |       127.0.0.1 | POST     \"/api/generate\"\n"
     ]
    },
    {
     "name": "stderr",
     "output_type": "stream",
     "text": [
      "Generating responses:  57%|█████▋    | 590/1039 [43:54<52:28,  7.01s/it]"
     ]
    },
    {
     "name": "stdout",
     "output_type": "stream",
     "text": [
      "[GIN] 2024/10/24 - 11:47:12 | 200 |  1.505194961s |       127.0.0.1 | POST     \"/api/generate\"\n",
      "INFO [update_slots] input truncated | n_ctx=2048 n_erase=154097 n_keep=4 n_left=2044 n_shift=1022 tid=\"138523311972352\" timestamp=1729770433\n",
      "[GIN] 2024/10/24 - 11:47:16 | 200 |  4.472140551s |       127.0.0.1 | POST     \"/api/generate\"\n"
     ]
    },
    {
     "name": "stderr",
     "output_type": "stream",
     "text": [
      "Generating responses:  57%|█████▋    | 591/1039 [44:00<51:02,  6.84s/it]"
     ]
    },
    {
     "name": "stdout",
     "output_type": "stream",
     "text": [
      "[GIN] 2024/10/24 - 11:47:18 | 200 |  1.297246735s |       127.0.0.1 | POST     \"/api/generate\"\n",
      "INFO [update_slots] input truncated | n_ctx=2048 n_erase=154360 n_keep=4 n_left=2044 n_shift=1022 tid=\"138523311972352\" timestamp=1729770440\n",
      "[GIN] 2024/10/24 - 11:47:23 | 200 |  4.454736664s |       127.0.0.1 | POST     \"/api/generate\"\n"
     ]
    },
    {
     "name": "stderr",
     "output_type": "stream",
     "text": [
      "Generating responses:  57%|█████▋    | 592/1039 [44:06<49:25,  6.63s/it]"
     ]
    },
    {
     "name": "stdout",
     "output_type": "stream",
     "text": [
      "[GIN] 2024/10/24 - 11:47:24 | 200 |  1.054318187s |       127.0.0.1 | POST     \"/api/generate\"\n",
      "INFO [update_slots] input truncated | n_ctx=2048 n_erase=154622 n_keep=4 n_left=2044 n_shift=1022 tid=\"138523311972352\" timestamp=1729770446\n",
      "[GIN] 2024/10/24 - 11:47:28 | 200 |   4.23969109s |       127.0.0.1 | POST     \"/api/generate\"\n"
     ]
    },
    {
     "name": "stderr",
     "output_type": "stream",
     "text": [
      "Generating responses:  57%|█████▋    | 593/1039 [44:12<46:52,  6.31s/it]"
     ]
    },
    {
     "name": "stdout",
     "output_type": "stream",
     "text": [
      "[GIN] 2024/10/24 - 11:47:30 | 200 |  650.721638ms |       127.0.0.1 | POST     \"/api/generate\"\n",
      "INFO [update_slots] input truncated | n_ctx=2048 n_erase=154856 n_keep=4 n_left=2044 n_shift=1022 tid=\"138523311972352\" timestamp=1729770451\n",
      "[GIN] 2024/10/24 - 11:47:34 | 200 |  4.562301795s |       127.0.0.1 | POST     \"/api/generate\"\n"
     ]
    },
    {
     "name": "stderr",
     "output_type": "stream",
     "text": [
      "Generating responses:  57%|█████▋    | 594/1039 [44:18<46:26,  6.26s/it]"
     ]
    },
    {
     "name": "stdout",
     "output_type": "stream",
     "text": [
      "[GIN] 2024/10/24 - 11:47:36 | 200 |   943.30704ms |       127.0.0.1 | POST     \"/api/generate\"\n",
      "INFO [update_slots] input truncated | n_ctx=2048 n_erase=155103 n_keep=4 n_left=2044 n_shift=1022 tid=\"138523311972352\" timestamp=1729770458\n",
      "[GIN] 2024/10/24 - 11:47:40 | 200 |  4.485897864s |       127.0.0.1 | POST     \"/api/generate\"\n"
     ]
    },
    {
     "name": "stderr",
     "output_type": "stream",
     "text": [
      "Generating responses:  57%|█████▋    | 595/1039 [44:24<46:36,  6.30s/it]"
     ]
    },
    {
     "name": "stdout",
     "output_type": "stream",
     "text": [
      "[GIN] 2024/10/24 - 11:47:42 | 200 |  1.236094301s |       127.0.0.1 | POST     \"/api/generate\"\n",
      "INFO [update_slots] input truncated | n_ctx=2048 n_erase=155364 n_keep=4 n_left=2044 n_shift=1022 tid=\"138523311972352\" timestamp=1729770464\n",
      "[GIN] 2024/10/24 - 11:47:47 | 200 |  4.235295285s |       127.0.0.1 | POST     \"/api/generate\"\n"
     ]
    },
    {
     "name": "stderr",
     "output_type": "stream",
     "text": [
      "Generating responses:  57%|█████▋    | 596/1039 [44:30<45:42,  6.19s/it]"
     ]
    },
    {
     "name": "stdout",
     "output_type": "stream",
     "text": [
      "[GIN] 2024/10/24 - 11:47:48 | 200 |  1.061290868s |       127.0.0.1 | POST     \"/api/generate\"\n",
      "INFO [update_slots] input truncated | n_ctx=2048 n_erase=155619 n_keep=4 n_left=2044 n_shift=1022 tid=\"138523311972352\" timestamp=1729770470\n",
      "[GIN] 2024/10/24 - 11:47:53 | 200 |  4.335331403s |       127.0.0.1 | POST     \"/api/generate\"\n"
     ]
    },
    {
     "name": "stderr",
     "output_type": "stream",
     "text": [
      "Generating responses:  57%|█████▋    | 597/1039 [44:37<45:54,  6.23s/it]"
     ]
    },
    {
     "name": "stdout",
     "output_type": "stream",
     "text": [
      "[GIN] 2024/10/24 - 11:47:55 | 200 |   1.30539101s |       127.0.0.1 | POST     \"/api/generate\"\n",
      "INFO [update_slots] input truncated | n_ctx=2048 n_erase=155888 n_keep=4 n_left=2044 n_shift=1022 tid=\"138523311972352\" timestamp=1729770476\n",
      "[GIN] 2024/10/24 - 11:47:59 | 200 |   4.30104298s |       127.0.0.1 | POST     \"/api/generate\"\n"
     ]
    },
    {
     "name": "stderr",
     "output_type": "stream",
     "text": [
      "Generating responses:  58%|█████▊    | 598/1039 [44:42<44:42,  6.08s/it]"
     ]
    },
    {
     "name": "stdout",
     "output_type": "stream",
     "text": [
      "[GIN] 2024/10/24 - 11:48:00 | 200 |  736.341104ms |       127.0.0.1 | POST     \"/api/generate\"\n",
      "INFO [update_slots] input truncated | n_ctx=2048 n_erase=156120 n_keep=4 n_left=2044 n_shift=1022 tid=\"138523311972352\" timestamp=1729770482\n",
      "[GIN] 2024/10/24 - 11:48:05 | 200 |  4.618237682s |       127.0.0.1 | POST     \"/api/generate\"\n"
     ]
    },
    {
     "name": "stderr",
     "output_type": "stream",
     "text": [
      "Generating responses:  58%|█████▊    | 599/1039 [44:49<46:01,  6.28s/it]"
     ]
    },
    {
     "name": "stdout",
     "output_type": "stream",
     "text": [
      "[GIN] 2024/10/24 - 11:48:07 | 200 |  1.428271886s |       127.0.0.1 | POST     \"/api/generate\"\n",
      "INFO [update_slots] input truncated | n_ctx=2048 n_erase=156398 n_keep=4 n_left=2044 n_shift=1022 tid=\"138523311972352\" timestamp=1729770489\n",
      "[GIN] 2024/10/24 - 11:48:17 | 200 |  9.799806794s |       127.0.0.1 | POST     \"/api/generate\"\n",
      "[GIN] 2024/10/24 - 11:48:19 | 200 |  1.437494188s |       127.0.0.1 | POST     \"/api/generate\"\n"
     ]
    },
    {
     "name": "stderr",
     "output_type": "stream",
     "text": [
      "Generating responses:  58%|█████▊    | 600/1039 [45:02<1:00:30,  8.27s/it]"
     ]
    },
    {
     "name": "stdout",
     "output_type": "stream",
     "text": [
      "[GIN] 2024/10/24 - 11:48:20 | 200 |   959.76071ms |       127.0.0.1 | POST     \"/api/generate\"\n",
      "INFO [update_slots] input truncated | n_ctx=2048 n_erase=156672 n_keep=4 n_left=2044 n_shift=1022 tid=\"138523311972352\" timestamp=1729770502\n",
      "[GIN] 2024/10/24 - 11:48:25 | 200 |  5.307518403s |       127.0.0.1 | POST     \"/api/generate\"\n"
     ]
    },
    {
     "name": "stderr",
     "output_type": "stream",
     "text": [
      "Generating responses:  58%|█████▊    | 601/1039 [45:10<58:35,  8.03s/it]  "
     ]
    },
    {
     "name": "stdout",
     "output_type": "stream",
     "text": [
      "[GIN] 2024/10/24 - 11:48:27 | 200 |  1.475917916s |       127.0.0.1 | POST     \"/api/generate\"\n",
      "INFO [update_slots] input truncated | n_ctx=2048 n_erase=156960 n_keep=4 n_left=2044 n_shift=1022 tid=\"138523311972352\" timestamp=1729770509\n",
      "[GIN] 2024/10/24 - 11:48:32 | 200 |  4.621327711s |       127.0.0.1 | POST     \"/api/generate\"\n"
     ]
    },
    {
     "name": "stderr",
     "output_type": "stream",
     "text": [
      "Generating responses:  58%|█████▊    | 602/1039 [45:16<55:51,  7.67s/it]"
     ]
    },
    {
     "name": "stdout",
     "output_type": "stream",
     "text": [
      "[GIN] 2024/10/24 - 11:48:34 | 200 |  1.536578729s |       127.0.0.1 | POST     \"/api/generate\"\n",
      "INFO [update_slots] input truncated | n_ctx=2048 n_erase=157245 n_keep=4 n_left=2044 n_shift=1022 tid=\"138523311972352\" timestamp=1729770516\n",
      "[GIN] 2024/10/24 - 11:48:39 | 200 |  4.367388062s |       127.0.0.1 | POST     \"/api/generate\"\n"
     ]
    },
    {
     "name": "stderr",
     "output_type": "stream",
     "text": [
      "Generating responses:  58%|█████▊    | 603/1039 [45:22<51:42,  7.12s/it]"
     ]
    },
    {
     "name": "stdout",
     "output_type": "stream",
     "text": [
      "[GIN] 2024/10/24 - 11:48:40 | 200 |  767.826913ms |       127.0.0.1 | POST     \"/api/generate\"\n",
      "INFO [update_slots] input truncated | n_ctx=2048 n_erase=157476 n_keep=4 n_left=2044 n_shift=1022 tid=\"138523311972352\" timestamp=1729770522\n",
      "[GIN] 2024/10/24 - 11:48:44 | 200 |   4.30952897s |       127.0.0.1 | POST     \"/api/generate\"\n"
     ]
    },
    {
     "name": "stderr",
     "output_type": "stream",
     "text": [
      "Generating responses:  58%|█████▊    | 604/1039 [45:28<48:39,  6.71s/it]"
     ]
    },
    {
     "name": "stdout",
     "output_type": "stream",
     "text": [
      "[GIN] 2024/10/24 - 11:48:46 | 200 |  770.624274ms |       127.0.0.1 | POST     \"/api/generate\"\n",
      "INFO [update_slots] input truncated | n_ctx=2048 n_erase=157708 n_keep=4 n_left=2044 n_shift=1022 tid=\"138523311972352\" timestamp=1729770528\n",
      "[GIN] 2024/10/24 - 11:48:50 | 200 |  4.504228097s |       127.0.0.1 | POST     \"/api/generate\"\n"
     ]
    },
    {
     "name": "stderr",
     "output_type": "stream",
     "text": [
      "Generating responses:  58%|█████▊    | 605/1039 [45:34<47:12,  6.53s/it]"
     ]
    },
    {
     "name": "stdout",
     "output_type": "stream",
     "text": [
      "[GIN] 2024/10/24 - 11:48:52 | 200 |   905.36438ms |       127.0.0.1 | POST     \"/api/generate\"\n",
      "INFO [update_slots] input truncated | n_ctx=2048 n_erase=157947 n_keep=4 n_left=2044 n_shift=1022 tid=\"138523311972352\" timestamp=1729770534\n",
      "[GIN] 2024/10/24 - 11:48:56 | 200 |  4.366957991s |       127.0.0.1 | POST     \"/api/generate\"\n"
     ]
    },
    {
     "name": "stderr",
     "output_type": "stream",
     "text": [
      "Generating responses:  58%|█████▊    | 606/1039 [45:40<46:32,  6.45s/it]"
     ]
    },
    {
     "name": "stdout",
     "output_type": "stream",
     "text": [
      "[GIN] 2024/10/24 - 11:48:58 | 200 |  1.227638821s |       127.0.0.1 | POST     \"/api/generate\"\n",
      "INFO [update_slots] input truncated | n_ctx=2048 n_erase=158207 n_keep=4 n_left=2044 n_shift=1022 tid=\"138523311972352\" timestamp=1729770540\n",
      "[GIN] 2024/10/24 - 11:49:03 | 200 |  4.638652062s |       127.0.0.1 | POST     \"/api/generate\"\n"
     ]
    },
    {
     "name": "stderr",
     "output_type": "stream",
     "text": [
      "Generating responses:  58%|█████▊    | 607/1039 [45:47<46:33,  6.47s/it]"
     ]
    },
    {
     "name": "stdout",
     "output_type": "stream",
     "text": [
      "[GIN] 2024/10/24 - 11:49:05 | 200 |  1.184586582s |       127.0.0.1 | POST     \"/api/generate\"\n",
      "INFO [update_slots] input truncated | n_ctx=2048 n_erase=158465 n_keep=4 n_left=2044 n_shift=1022 tid=\"138523311972352\" timestamp=1729770547\n",
      "[GIN] 2024/10/24 - 11:49:10 | 200 |  4.870390802s |       127.0.0.1 | POST     \"/api/generate\"\n"
     ]
    },
    {
     "name": "stderr",
     "output_type": "stream",
     "text": [
      "Generating responses:  59%|█████▊    | 608/1039 [45:54<48:20,  6.73s/it]"
     ]
    },
    {
     "name": "stdout",
     "output_type": "stream",
     "text": [
      "[GIN] 2024/10/24 - 11:49:12 | 200 |  1.770608175s |       127.0.0.1 | POST     \"/api/generate\"\n",
      "INFO [update_slots] input truncated | n_ctx=2048 n_erase=158748 n_keep=4 n_left=2044 n_shift=1022 tid=\"138523311972352\" timestamp=1729770554\n",
      "[GIN] 2024/10/24 - 11:49:17 | 200 |  4.781518495s |       127.0.0.1 | POST     \"/api/generate\"\n",
      "[GIN] 2024/10/24 - 11:49:18 | 200 |  908.038159ms |       127.0.0.1 | POST     \"/api/generate\"\n"
     ]
    },
    {
     "name": "stderr",
     "output_type": "stream",
     "text": [
      "Generating responses:  59%|█████▊    | 609/1039 [46:02<49:53,  6.96s/it]"
     ]
    },
    {
     "name": "stdout",
     "output_type": "stream",
     "text": [
      "[GIN] 2024/10/24 - 11:49:20 | 200 |  1.123745024s |       127.0.0.1 | POST     \"/api/generate\"\n",
      "INFO [update_slots] input truncated | n_ctx=2048 n_erase=158988 n_keep=4 n_left=2044 n_shift=1022 tid=\"138523311972352\" timestamp=1729770561\n",
      "[GIN] 2024/10/24 - 11:49:24 | 200 |  4.791004344s |       127.0.0.1 | POST     \"/api/generate\"\n"
     ]
    },
    {
     "name": "stderr",
     "output_type": "stream",
     "text": [
      "Generating responses:  59%|█████▊    | 610/1039 [46:08<48:29,  6.78s/it]"
     ]
    },
    {
     "name": "stdout",
     "output_type": "stream",
     "text": [
      "[GIN] 2024/10/24 - 11:49:26 | 200 |  920.937857ms |       127.0.0.1 | POST     \"/api/generate\"\n",
      "INFO [update_slots] input truncated | n_ctx=2048 n_erase=159231 n_keep=4 n_left=2044 n_shift=1022 tid=\"138523311972352\" timestamp=1729770568\n",
      "[GIN] 2024/10/24 - 11:49:30 | 200 |  4.411687139s |       127.0.0.1 | POST     \"/api/generate\"\n"
     ]
    },
    {
     "name": "stderr",
     "output_type": "stream",
     "text": [
      "Generating responses:  59%|█████▉    | 611/1039 [46:15<48:35,  6.81s/it]"
     ]
    },
    {
     "name": "stdout",
     "output_type": "stream",
     "text": [
      "[GIN] 2024/10/24 - 11:49:33 | 200 |  1.804174717s |       127.0.0.1 | POST     \"/api/generate\"\n",
      "INFO [update_slots] input truncated | n_ctx=2048 n_erase=159522 n_keep=4 n_left=2044 n_shift=1022 tid=\"138523311972352\" timestamp=1729770574\n",
      "[GIN] 2024/10/24 - 11:49:37 | 200 |  4.289471082s |       127.0.0.1 | POST     \"/api/generate\"\n",
      "[GIN] 2024/10/24 - 11:49:38 | 200 |  663.364815ms |       127.0.0.1 | POST     \"/api/generate\"\n"
     ]
    },
    {
     "name": "stderr",
     "output_type": "stream",
     "text": [
      "Generating responses:  59%|█████▉    | 612/1039 [46:21<47:12,  6.63s/it]"
     ]
    },
    {
     "name": "stdout",
     "output_type": "stream",
     "text": [
      "[GIN] 2024/10/24 - 11:49:39 | 200 |  575.518244ms |       127.0.0.1 | POST     \"/api/generate\"\n",
      "INFO [update_slots] input truncated | n_ctx=2048 n_erase=159751 n_keep=4 n_left=2044 n_shift=1022 tid=\"138523311972352\" timestamp=1729770581\n",
      "[GIN] 2024/10/24 - 11:49:44 | 200 |  4.633304389s |       127.0.0.1 | POST     \"/api/generate\"\n"
     ]
    },
    {
     "name": "stderr",
     "output_type": "stream",
     "text": [
      "Generating responses:  59%|█████▉    | 613/1039 [46:28<46:33,  6.56s/it]"
     ]
    },
    {
     "name": "stdout",
     "output_type": "stream",
     "text": [
      "[GIN] 2024/10/24 - 11:49:45 | 200 |   1.05540243s |       127.0.0.1 | POST     \"/api/generate\"\n",
      "INFO [update_slots] input truncated | n_ctx=2048 n_erase=160002 n_keep=4 n_left=2044 n_shift=1022 tid=\"138523311972352\" timestamp=1729770587\n",
      "[GIN] 2024/10/24 - 11:49:50 | 200 |  4.661525446s |       127.0.0.1 | POST     \"/api/generate\"\n"
     ]
    },
    {
     "name": "stderr",
     "output_type": "stream",
     "text": [
      "Generating responses:  59%|█████▉    | 614/1039 [46:35<48:04,  6.79s/it]"
     ]
    },
    {
     "name": "stdout",
     "output_type": "stream",
     "text": [
      "[GIN] 2024/10/24 - 11:49:53 | 200 |  1.966563677s |       127.0.0.1 | POST     \"/api/generate\"\n",
      "INFO [update_slots] input truncated | n_ctx=2048 n_erase=160306 n_keep=4 n_left=2044 n_shift=1022 tid=\"138523311972352\" timestamp=1729770595\n",
      "[GIN] 2024/10/24 - 11:50:02 | 200 |  9.409865361s |       127.0.0.1 | POST     \"/api/generate\"\n",
      "[GIN] 2024/10/24 - 11:50:04 | 200 |  1.083472264s |       127.0.0.1 | POST     \"/api/generate\"\n"
     ]
    },
    {
     "name": "stderr",
     "output_type": "stream",
     "text": [
      "Generating responses:  59%|█████▉    | 615/1039 [46:48<1:00:29,  8.56s/it]"
     ]
    },
    {
     "name": "stdout",
     "output_type": "stream",
     "text": [
      "[GIN] 2024/10/24 - 11:50:05 | 200 |  1.450583448s |       127.0.0.1 | POST     \"/api/generate\"\n",
      "INFO [update_slots] input truncated | n_ctx=2048 n_erase=160550 n_keep=4 n_left=2044 n_shift=1022 tid=\"138523311972352\" timestamp=1729770607\n",
      "[GIN] 2024/10/24 - 11:50:10 | 200 |  4.624772632s |       127.0.0.1 | POST     \"/api/generate\"\n"
     ]
    },
    {
     "name": "stderr",
     "output_type": "stream",
     "text": [
      "Generating responses:  59%|█████▉    | 616/1039 [46:54<56:54,  8.07s/it]  "
     ]
    },
    {
     "name": "stdout",
     "output_type": "stream",
     "text": [
      "[GIN] 2024/10/24 - 11:50:12 | 200 |  1.616258732s |       127.0.0.1 | POST     \"/api/generate\"\n",
      "INFO [update_slots] input truncated | n_ctx=2048 n_erase=160832 n_keep=4 n_left=2044 n_shift=1022 tid=\"138523311972352\" timestamp=1729770614\n",
      "[GIN] 2024/10/24 - 11:50:17 | 200 |  4.929095435s |       127.0.0.1 | POST     \"/api/generate\"\n"
     ]
    },
    {
     "name": "stderr",
     "output_type": "stream",
     "text": [
      "Generating responses:  59%|█████▉    | 617/1039 [47:02<54:39,  7.77s/it]"
     ]
    },
    {
     "name": "stdout",
     "output_type": "stream",
     "text": [
      "[GIN] 2024/10/24 - 11:50:19 | 200 |  1.423705428s |       127.0.0.1 | POST     \"/api/generate\"\n",
      "INFO [update_slots] input truncated | n_ctx=2048 n_erase=161104 n_keep=4 n_left=2044 n_shift=1022 tid=\"138523311972352\" timestamp=1729770621\n",
      "[GIN] 2024/10/24 - 11:50:24 | 200 |  4.630759972s |       127.0.0.1 | POST     \"/api/generate\"\n"
     ]
    },
    {
     "name": "stderr",
     "output_type": "stream",
     "text": [
      "Generating responses:  59%|█████▉    | 618/1039 [47:08<52:24,  7.47s/it]"
     ]
    },
    {
     "name": "stdout",
     "output_type": "stream",
     "text": [
      "[GIN] 2024/10/24 - 11:50:26 | 200 |  1.417661191s |       127.0.0.1 | POST     \"/api/generate\"\n",
      "INFO [update_slots] input truncated | n_ctx=2048 n_erase=161377 n_keep=4 n_left=2044 n_shift=1022 tid=\"138523311972352\" timestamp=1729770628\n",
      "[GIN] 2024/10/24 - 11:50:31 | 200 |  4.678227093s |       127.0.0.1 | POST     \"/api/generate\"\n"
     ]
    },
    {
     "name": "stderr",
     "output_type": "stream",
     "text": [
      "Generating responses:  60%|█████▉    | 619/1039 [47:15<51:03,  7.30s/it]"
     ]
    },
    {
     "name": "stdout",
     "output_type": "stream",
     "text": [
      "[GIN] 2024/10/24 - 11:50:33 | 200 |  1.497453605s |       127.0.0.1 | POST     \"/api/generate\"\n",
      "INFO [update_slots] input truncated | n_ctx=2048 n_erase=161654 n_keep=4 n_left=2044 n_shift=1022 tid=\"138523311972352\" timestamp=1729770635\n",
      "[GIN] 2024/10/24 - 11:50:38 | 200 |  4.805772674s |       127.0.0.1 | POST     \"/api/generate\"\n"
     ]
    },
    {
     "name": "stderr",
     "output_type": "stream",
     "text": [
      "Generating responses:  60%|█████▉    | 620/1039 [47:23<51:12,  7.33s/it]"
     ]
    },
    {
     "name": "stdout",
     "output_type": "stream",
     "text": [
      "[GIN] 2024/10/24 - 11:50:40 | 200 |  1.901104847s |       127.0.0.1 | POST     \"/api/generate\"\n",
      "INFO [update_slots] input truncated | n_ctx=2048 n_erase=161966 n_keep=4 n_left=2044 n_shift=1022 tid=\"138523311972352\" timestamp=1729770642\n",
      "[GIN] 2024/10/24 - 11:50:45 | 200 |  4.776035311s |       127.0.0.1 | POST     \"/api/generate\"\n",
      "[GIN] 2024/10/24 - 11:50:47 | 200 |  1.433710193s |       127.0.0.1 | POST     \"/api/generate\"\n"
     ]
    },
    {
     "name": "stderr",
     "output_type": "stream",
     "text": [
      "Generating responses:  60%|█████▉    | 621/1039 [47:31<53:16,  7.65s/it]"
     ]
    },
    {
     "name": "stdout",
     "output_type": "stream",
     "text": [
      "[GIN] 2024/10/24 - 11:50:49 | 200 |  1.447404577s |       127.0.0.1 | POST     \"/api/generate\"\n",
      "INFO [update_slots] input truncated | n_ctx=2048 n_erase=162239 n_keep=4 n_left=2044 n_shift=1022 tid=\"138523311972352\" timestamp=1729770651\n",
      "[GIN] 2024/10/24 - 11:50:53 | 200 |  4.400549775s |       127.0.0.1 | POST     \"/api/generate\"\n"
     ]
    },
    {
     "name": "stderr",
     "output_type": "stream",
     "text": [
      "Generating responses:  60%|█████▉    | 622/1039 [47:37<50:32,  7.27s/it]"
     ]
    },
    {
     "name": "stdout",
     "output_type": "stream",
     "text": [
      "[GIN] 2024/10/24 - 11:50:55 | 200 |  1.251831798s |       127.0.0.1 | POST     \"/api/generate\"\n",
      "INFO [update_slots] input truncated | n_ctx=2048 n_erase=162503 n_keep=4 n_left=2044 n_shift=1022 tid=\"138523311972352\" timestamp=1729770657\n",
      "[GIN] 2024/10/24 - 11:51:00 | 200 |  4.578325299s |       127.0.0.1 | POST     \"/api/generate\"\n"
     ]
    },
    {
     "name": "stderr",
     "output_type": "stream",
     "text": [
      "Generating responses:  60%|█████▉    | 623/1039 [47:44<48:44,  7.03s/it]"
     ]
    },
    {
     "name": "stdout",
     "output_type": "stream",
     "text": [
      "[GIN] 2024/10/24 - 11:51:02 | 200 |  1.168531331s |       127.0.0.1 | POST     \"/api/generate\"\n",
      "INFO [update_slots] input truncated | n_ctx=2048 n_erase=162766 n_keep=4 n_left=2044 n_shift=1022 tid=\"138523311972352\" timestamp=1729770663\n",
      "[GIN] 2024/10/24 - 11:51:06 | 200 |  4.664577382s |       127.0.0.1 | POST     \"/api/generate\"\n"
     ]
    },
    {
     "name": "stderr",
     "output_type": "stream",
     "text": [
      "Generating responses:  60%|██████    | 624/1039 [47:50<47:10,  6.82s/it]"
     ]
    },
    {
     "name": "stdout",
     "output_type": "stream",
     "text": [
      "[GIN] 2024/10/24 - 11:51:08 | 200 |  965.514213ms |       127.0.0.1 | POST     \"/api/generate\"\n",
      "INFO [update_slots] input truncated | n_ctx=2048 n_erase=163007 n_keep=4 n_left=2044 n_shift=1022 tid=\"138523311972352\" timestamp=1729770670\n",
      "[GIN] 2024/10/24 - 11:51:13 | 200 |  4.529734456s |       127.0.0.1 | POST     \"/api/generate\"\n",
      "[GIN] 2024/10/24 - 11:51:14 | 200 |  859.637132ms |       127.0.0.1 | POST     \"/api/generate\"\n"
     ]
    },
    {
     "name": "stderr",
     "output_type": "stream",
     "text": [
      "Generating responses:  60%|██████    | 625/1039 [47:57<47:24,  6.87s/it]"
     ]
    },
    {
     "name": "stdout",
     "output_type": "stream",
     "text": [
      "[GIN] 2024/10/24 - 11:51:15 | 200 |  875.575826ms |       127.0.0.1 | POST     \"/api/generate\"\n",
      "INFO [update_slots] input truncated | n_ctx=2048 n_erase=163246 n_keep=4 n_left=2044 n_shift=1022 tid=\"138523311972352\" timestamp=1729770677\n",
      "[GIN] 2024/10/24 - 11:51:20 | 200 |  4.497220291s |       127.0.0.1 | POST     \"/api/generate\"\n",
      "[GIN] 2024/10/24 - 11:51:21 | 200 |  1.077521909s |       127.0.0.1 | POST     \"/api/generate\"\n"
     ]
    },
    {
     "name": "stderr",
     "output_type": "stream",
     "text": [
      "Generating responses:  60%|██████    | 626/1039 [48:04<48:08,  6.99s/it]"
     ]
    },
    {
     "name": "stdout",
     "output_type": "stream",
     "text": [
      "[GIN] 2024/10/24 - 11:51:22 | 200 |  1.014823844s |       127.0.0.1 | POST     \"/api/generate\"\n",
      "INFO [update_slots] input truncated | n_ctx=2048 n_erase=163497 n_keep=4 n_left=2044 n_shift=1022 tid=\"138523311972352\" timestamp=1729770684\n",
      "[GIN] 2024/10/24 - 11:51:27 | 200 |  4.434447318s |       127.0.0.1 | POST     \"/api/generate\"\n"
     ]
    },
    {
     "name": "stderr",
     "output_type": "stream",
     "text": [
      "Generating responses:  60%|██████    | 627/1039 [48:10<45:48,  6.67s/it]"
     ]
    },
    {
     "name": "stdout",
     "output_type": "stream",
     "text": [
      "[GIN] 2024/10/24 - 11:51:28 | 200 |  766.054479ms |       127.0.0.1 | POST     \"/api/generate\"\n",
      "INFO [update_slots] input truncated | n_ctx=2048 n_erase=163729 n_keep=4 n_left=2044 n_shift=1022 tid=\"138523311972352\" timestamp=1729770690\n",
      "[GIN] 2024/10/24 - 11:51:33 | 200 |  4.756454308s |       127.0.0.1 | POST     \"/api/generate\"\n"
     ]
    },
    {
     "name": "stderr",
     "output_type": "stream",
     "text": [
      "Generating responses:  60%|██████    | 628/1039 [48:17<46:14,  6.75s/it]"
     ]
    },
    {
     "name": "stdout",
     "output_type": "stream",
     "text": [
      "[GIN] 2024/10/24 - 11:51:35 | 200 |  1.431608371s |       127.0.0.1 | POST     \"/api/generate\"\n",
      "INFO [update_slots] input truncated | n_ctx=2048 n_erase=164006 n_keep=4 n_left=2044 n_shift=1022 tid=\"138523311972352\" timestamp=1729770697\n",
      "[GIN] 2024/10/24 - 11:51:40 | 200 |  4.582934391s |       127.0.0.1 | POST     \"/api/generate\"\n",
      "[GIN] 2024/10/24 - 11:51:41 | 200 |  784.119604ms |       127.0.0.1 | POST     \"/api/generate\"\n"
     ]
    },
    {
     "name": "stderr",
     "output_type": "stream",
     "text": [
      "Generating responses:  61%|██████    | 629/1039 [48:25<46:59,  6.88s/it]"
     ]
    },
    {
     "name": "stdout",
     "output_type": "stream",
     "text": [
      "[GIN] 2024/10/24 - 11:51:42 | 200 |  1.092823797s |       127.0.0.1 | POST     \"/api/generate\"\n",
      "INFO [update_slots] input truncated | n_ctx=2048 n_erase=164245 n_keep=4 n_left=2044 n_shift=1022 tid=\"138523311972352\" timestamp=1729770704\n",
      "[GIN] 2024/10/24 - 11:51:47 | 200 |  4.697650592s |       127.0.0.1 | POST     \"/api/generate\"\n"
     ]
    },
    {
     "name": "stderr",
     "output_type": "stream",
     "text": [
      "Generating responses:  61%|██████    | 630/1039 [48:32<48:25,  7.10s/it]"
     ]
    },
    {
     "name": "stdout",
     "output_type": "stream",
     "text": [
      "[GIN] 2024/10/24 - 11:51:50 | 200 |  2.213715222s |       127.0.0.1 | POST     \"/api/generate\"\n",
      "INFO [update_slots] input truncated | n_ctx=2048 n_erase=164558 n_keep=4 n_left=2044 n_shift=1022 tid=\"138523311972352\" timestamp=1729770712\n",
      "[GIN] 2024/10/24 - 11:51:55 | 200 |  4.586700437s |       127.0.0.1 | POST     \"/api/generate\"\n"
     ]
    },
    {
     "name": "stderr",
     "output_type": "stream",
     "text": [
      "Generating responses:  61%|██████    | 631/1039 [48:39<47:01,  6.91s/it]"
     ]
    },
    {
     "name": "stdout",
     "output_type": "stream",
     "text": [
      "[GIN] 2024/10/24 - 11:51:56 | 200 |  1.164740737s |       127.0.0.1 | POST     \"/api/generate\"\n",
      "INFO [update_slots] input truncated | n_ctx=2048 n_erase=164824 n_keep=4 n_left=2044 n_shift=1022 tid=\"138523311972352\" timestamp=1729770718\n",
      "[GIN] 2024/10/24 - 11:52:01 | 200 |    4.4545675s |       127.0.0.1 | POST     \"/api/generate\"\n"
     ]
    },
    {
     "name": "stderr",
     "output_type": "stream",
     "text": [
      "Generating responses:  61%|██████    | 632/1039 [48:45<46:14,  6.82s/it]"
     ]
    },
    {
     "name": "stdout",
     "output_type": "stream",
     "text": [
      "[GIN] 2024/10/24 - 11:52:03 | 200 |  1.416101219s |       127.0.0.1 | POST     \"/api/generate\"\n",
      "INFO [update_slots] input truncated | n_ctx=2048 n_erase=165096 n_keep=4 n_left=2044 n_shift=1022 tid=\"138523311972352\" timestamp=1729770725\n",
      "[GIN] 2024/10/24 - 11:52:08 | 200 |  4.552701784s |       127.0.0.1 | POST     \"/api/generate\"\n"
     ]
    },
    {
     "name": "stderr",
     "output_type": "stream",
     "text": [
      "Generating responses:  61%|██████    | 633/1039 [48:52<46:28,  6.87s/it]"
     ]
    },
    {
     "name": "stdout",
     "output_type": "stream",
     "text": [
      "[GIN] 2024/10/24 - 11:52:10 | 200 |  1.706711687s |       127.0.0.1 | POST     \"/api/generate\"\n",
      "INFO [update_slots] input truncated | n_ctx=2048 n_erase=165384 n_keep=4 n_left=2044 n_shift=1022 tid=\"138523311972352\" timestamp=1729770732\n",
      "[GIN] 2024/10/24 - 11:52:15 | 200 |  4.618896586s |       127.0.0.1 | POST     \"/api/generate\"\n",
      "[GIN] 2024/10/24 - 11:52:17 | 200 |  1.221570687s |       127.0.0.1 | POST     \"/api/generate\"\n"
     ]
    },
    {
     "name": "stderr",
     "output_type": "stream",
     "text": [
      "Generating responses:  61%|██████    | 634/1039 [49:00<48:44,  7.22s/it]"
     ]
    },
    {
     "name": "stdout",
     "output_type": "stream",
     "text": [
      "[GIN] 2024/10/24 - 11:52:18 | 200 |  1.412462615s |       127.0.0.1 | POST     \"/api/generate\"\n",
      "INFO [update_slots] input truncated | n_ctx=2048 n_erase=165641 n_keep=4 n_left=2044 n_shift=1022 tid=\"138523311972352\" timestamp=1729770740\n",
      "[GIN] 2024/10/24 - 11:52:23 | 200 |   4.56930376s |       127.0.0.1 | POST     \"/api/generate\"\n",
      "[GIN] 2024/10/24 - 11:52:24 | 200 |  746.897206ms |       127.0.0.1 | POST     \"/api/generate\"\n"
     ]
    },
    {
     "name": "stderr",
     "output_type": "stream",
     "text": [
      "Generating responses:  61%|██████    | 635/1039 [49:07<48:14,  7.17s/it]"
     ]
    },
    {
     "name": "stdout",
     "output_type": "stream",
     "text": [
      "[GIN] 2024/10/24 - 11:52:25 | 200 |  992.683763ms |       127.0.0.1 | POST     \"/api/generate\"\n",
      "INFO [update_slots] input truncated | n_ctx=2048 n_erase=165870 n_keep=4 n_left=2044 n_shift=1022 tid=\"138523311972352\" timestamp=1729770747\n",
      "[GIN] 2024/10/24 - 11:52:30 | 200 |  4.550575767s |       127.0.0.1 | POST     \"/api/generate\"\n"
     ]
    },
    {
     "name": "stderr",
     "output_type": "stream",
     "text": [
      "Generating responses:  61%|██████    | 636/1039 [49:14<46:27,  6.92s/it]"
     ]
    },
    {
     "name": "stdout",
     "output_type": "stream",
     "text": [
      "[GIN] 2024/10/24 - 11:52:31 | 200 |  1.062573151s |       127.0.0.1 | POST     \"/api/generate\"\n",
      "INFO [update_slots] input truncated | n_ctx=2048 n_erase=166116 n_keep=4 n_left=2044 n_shift=1022 tid=\"138523311972352\" timestamp=1729770753\n",
      "[GIN] 2024/10/24 - 11:52:36 | 200 |  4.734240685s |       127.0.0.1 | POST     \"/api/generate\"\n"
     ]
    },
    {
     "name": "stderr",
     "output_type": "stream",
     "text": [
      "Generating responses:  61%|██████▏   | 637/1039 [49:20<45:45,  6.83s/it]"
     ]
    },
    {
     "name": "stdout",
     "output_type": "stream",
     "text": [
      "[GIN] 2024/10/24 - 11:52:38 | 200 |  1.174396245s |       127.0.0.1 | POST     \"/api/generate\"\n",
      "INFO [update_slots] input truncated | n_ctx=2048 n_erase=166382 n_keep=4 n_left=2044 n_shift=1022 tid=\"138523311972352\" timestamp=1729770760\n",
      "[GIN] 2024/10/24 - 11:52:43 | 200 |  4.834293027s |       127.0.0.1 | POST     \"/api/generate\"\n"
     ]
    },
    {
     "name": "stderr",
     "output_type": "stream",
     "text": [
      "Generating responses:  61%|██████▏   | 638/1039 [49:27<45:57,  6.88s/it]"
     ]
    },
    {
     "name": "stdout",
     "output_type": "stream",
     "text": [
      "[GIN] 2024/10/24 - 11:52:45 | 200 |  1.403497731s |       127.0.0.1 | POST     \"/api/generate\"\n",
      "INFO [update_slots] input truncated | n_ctx=2048 n_erase=166650 n_keep=4 n_left=2044 n_shift=1022 tid=\"138523311972352\" timestamp=1729770767\n",
      "[GIN] 2024/10/24 - 11:52:50 | 200 |  4.690543062s |       127.0.0.1 | POST     \"/api/generate\"\n"
     ]
    },
    {
     "name": "stderr",
     "output_type": "stream",
     "text": [
      "Generating responses:  62%|██████▏   | 639/1039 [49:33<44:15,  6.64s/it]"
     ]
    },
    {
     "name": "stdout",
     "output_type": "stream",
     "text": [
      "[GIN] 2024/10/24 - 11:52:51 | 200 |  654.008375ms |       127.0.0.1 | POST     \"/api/generate\"\n",
      "INFO [update_slots] input truncated | n_ctx=2048 n_erase=166879 n_keep=4 n_left=2044 n_shift=1022 tid=\"138523311972352\" timestamp=1729770773\n",
      "[GIN] 2024/10/24 - 11:52:56 | 200 |  4.740559843s |       127.0.0.1 | POST     \"/api/generate\"\n"
     ]
    },
    {
     "name": "stderr",
     "output_type": "stream",
     "text": [
      "Generating responses:  62%|██████▏   | 640/1039 [49:40<44:21,  6.67s/it]"
     ]
    },
    {
     "name": "stdout",
     "output_type": "stream",
     "text": [
      "[GIN] 2024/10/24 - 11:52:58 | 200 |  1.279938058s |       127.0.0.1 | POST     \"/api/generate\"\n",
      "INFO [update_slots] input truncated | n_ctx=2048 n_erase=167151 n_keep=4 n_left=2044 n_shift=1022 tid=\"138523311972352\" timestamp=1729770780\n",
      "[GIN] 2024/10/24 - 11:53:03 | 200 |  4.913851336s |       127.0.0.1 | POST     \"/api/generate\"\n"
     ]
    },
    {
     "name": "stderr",
     "output_type": "stream",
     "text": [
      "Generating responses:  62%|██████▏   | 641/1039 [49:47<44:56,  6.78s/it]"
     ]
    },
    {
     "name": "stdout",
     "output_type": "stream",
     "text": [
      "[GIN] 2024/10/24 - 11:53:05 | 200 |  1.349438725s |       127.0.0.1 | POST     \"/api/generate\"\n",
      "INFO [update_slots] input truncated | n_ctx=2048 n_erase=167418 n_keep=4 n_left=2044 n_shift=1022 tid=\"138523311972352\" timestamp=1729770787\n",
      "[GIN] 2024/10/24 - 11:53:10 | 200 |   4.83543063s |       127.0.0.1 | POST     \"/api/generate\"\n"
     ]
    },
    {
     "name": "stderr",
     "output_type": "stream",
     "text": [
      "Generating responses:  62%|██████▏   | 642/1039 [49:54<45:20,  6.85s/it]"
     ]
    },
    {
     "name": "stdout",
     "output_type": "stream",
     "text": [
      "[GIN] 2024/10/24 - 11:53:12 | 200 |  1.463669582s |       127.0.0.1 | POST     \"/api/generate\"\n",
      "INFO [update_slots] input truncated | n_ctx=2048 n_erase=167694 n_keep=4 n_left=2044 n_shift=1022 tid=\"138523311972352\" timestamp=1729770794\n",
      "[GIN] 2024/10/24 - 11:53:17 | 200 |  4.808947864s |       127.0.0.1 | POST     \"/api/generate\"\n"
     ]
    },
    {
     "name": "stderr",
     "output_type": "stream",
     "text": [
      "Generating responses:  62%|██████▏   | 643/1039 [50:01<45:01,  6.82s/it]"
     ]
    },
    {
     "name": "stdout",
     "output_type": "stream",
     "text": [
      "[GIN] 2024/10/24 - 11:53:19 | 200 |  1.178909079s |       127.0.0.1 | POST     \"/api/generate\"\n",
      "INFO [update_slots] input truncated | n_ctx=2048 n_erase=167949 n_keep=4 n_left=2044 n_shift=1022 tid=\"138523311972352\" timestamp=1729770801\n",
      "[GIN] 2024/10/24 - 11:53:23 | 200 |  4.625470863s |       127.0.0.1 | POST     \"/api/generate\"\n"
     ]
    },
    {
     "name": "stderr",
     "output_type": "stream",
     "text": [
      "Generating responses:  62%|██████▏   | 644/1039 [50:08<45:38,  6.93s/it]"
     ]
    },
    {
     "name": "stdout",
     "output_type": "stream",
     "text": [
      "[GIN] 2024/10/24 - 11:53:26 | 200 |  1.832801693s |       127.0.0.1 | POST     \"/api/generate\"\n",
      "INFO [update_slots] input truncated | n_ctx=2048 n_erase=168243 n_keep=4 n_left=2044 n_shift=1022 tid=\"138523311972352\" timestamp=1729770808\n",
      "[GIN] 2024/10/24 - 11:53:31 | 200 |  5.000209204s |       127.0.0.1 | POST     \"/api/generate\"\n"
     ]
    },
    {
     "name": "stderr",
     "output_type": "stream",
     "text": [
      "Generating responses:  62%|██████▏   | 645/1039 [50:16<47:44,  7.27s/it]"
     ]
    },
    {
     "name": "stdout",
     "output_type": "stream",
     "text": [
      "[GIN] 2024/10/24 - 11:53:34 | 200 |  2.309756892s |       127.0.0.1 | POST     \"/api/generate\"\n",
      "INFO [update_slots] input truncated | n_ctx=2048 n_erase=168562 n_keep=4 n_left=2044 n_shift=1022 tid=\"138523311972352\" timestamp=1729770816\n",
      "[GIN] 2024/10/24 - 11:53:38 | 200 |  4.483399987s |       127.0.0.1 | POST     \"/api/generate\"\n"
     ]
    },
    {
     "name": "stderr",
     "output_type": "stream",
     "text": [
      "Generating responses:  62%|██████▏   | 646/1039 [50:22<45:38,  6.97s/it]"
     ]
    },
    {
     "name": "stdout",
     "output_type": "stream",
     "text": [
      "[GIN] 2024/10/24 - 11:53:40 | 200 |  1.031606846s |       127.0.0.1 | POST     \"/api/generate\"\n",
      "INFO [update_slots] input truncated | n_ctx=2048 n_erase=168814 n_keep=4 n_left=2044 n_shift=1022 tid=\"138523311972352\" timestamp=1729770822\n",
      "[GIN] 2024/10/24 - 11:53:45 | 200 |  4.727658848s |       127.0.0.1 | POST     \"/api/generate\"\n"
     ]
    },
    {
     "name": "stderr",
     "output_type": "stream",
     "text": [
      "Generating responses:  62%|██████▏   | 647/1039 [50:29<44:05,  6.75s/it]"
     ]
    },
    {
     "name": "stdout",
     "output_type": "stream",
     "text": [
      "[GIN] 2024/10/24 - 11:53:46 | 200 |  757.185489ms |       127.0.0.1 | POST     \"/api/generate\"\n",
      "INFO [update_slots] input truncated | n_ctx=2048 n_erase=169050 n_keep=4 n_left=2044 n_shift=1022 tid=\"138523311972352\" timestamp=1729770828\n",
      "[GIN] 2024/10/24 - 11:53:51 | 200 |  4.772075783s |       127.0.0.1 | POST     \"/api/generate\"\n",
      "[GIN] 2024/10/24 - 11:53:53 | 200 |  1.207746915s |       127.0.0.1 | POST     \"/api/generate\"\n"
     ]
    },
    {
     "name": "stderr",
     "output_type": "stream",
     "text": [
      "Generating responses:  62%|██████▏   | 648/1039 [50:37<46:50,  7.19s/it]"
     ]
    },
    {
     "name": "stdout",
     "output_type": "stream",
     "text": [
      "[GIN] 2024/10/24 - 11:53:55 | 200 |  1.466616004s |       127.0.0.1 | POST     \"/api/generate\"\n",
      "INFO [update_slots] input truncated | n_ctx=2048 n_erase=169307 n_keep=4 n_left=2044 n_shift=1022 tid=\"138523311972352\" timestamp=1729770836\n",
      "[GIN] 2024/10/24 - 11:53:59 | 200 |  4.614181732s |       127.0.0.1 | POST     \"/api/generate\"\n"
     ]
    },
    {
     "name": "stderr",
     "output_type": "stream",
     "text": [
      "Generating responses:  62%|██████▏   | 649/1039 [50:43<45:25,  6.99s/it]"
     ]
    },
    {
     "name": "stdout",
     "output_type": "stream",
     "text": [
      "[GIN] 2024/10/24 - 11:54:01 | 200 |   1.17652041s |       127.0.0.1 | POST     \"/api/generate\"\n",
      "INFO [update_slots] input truncated | n_ctx=2048 n_erase=169563 n_keep=4 n_left=2044 n_shift=1022 tid=\"138523311972352\" timestamp=1729770843\n",
      "[GIN] 2024/10/24 - 11:54:06 | 200 |  4.747818689s |       127.0.0.1 | POST     \"/api/generate\"\n",
      "[GIN] 2024/10/24 - 11:54:07 | 200 |  763.250181ms |       127.0.0.1 | POST     \"/api/generate\"\n"
     ]
    },
    {
     "name": "stderr",
     "output_type": "stream",
     "text": [
      "Generating responses:  63%|██████▎   | 650/1039 [50:50<45:23,  7.00s/it]"
     ]
    },
    {
     "name": "stdout",
     "output_type": "stream",
     "text": [
      "[GIN] 2024/10/24 - 11:54:08 | 200 |  767.195994ms |       127.0.0.1 | POST     \"/api/generate\"\n",
      "INFO [update_slots] input truncated | n_ctx=2048 n_erase=169794 n_keep=4 n_left=2044 n_shift=1022 tid=\"138523311972352\" timestamp=1729770850\n",
      "[GIN] 2024/10/24 - 11:54:13 | 200 |  4.841725401s |       127.0.0.1 | POST     \"/api/generate\"\n"
     ]
    },
    {
     "name": "stderr",
     "output_type": "stream",
     "text": [
      "Generating responses:  63%|██████▎   | 651/1039 [50:57<45:17,  7.00s/it]"
     ]
    },
    {
     "name": "stdout",
     "output_type": "stream",
     "text": [
      "[GIN] 2024/10/24 - 11:54:15 | 200 |  1.408256758s |       127.0.0.1 | POST     \"/api/generate\"\n",
      "INFO [update_slots] input truncated | n_ctx=2048 n_erase=170064 n_keep=4 n_left=2044 n_shift=1022 tid=\"138523311972352\" timestamp=1729770857\n",
      "[GIN] 2024/10/24 - 11:54:20 | 200 |  4.796580718s |       127.0.0.1 | POST     \"/api/generate\"\n"
     ]
    },
    {
     "name": "stderr",
     "output_type": "stream",
     "text": [
      "Generating responses:  63%|██████▎   | 652/1039 [51:04<44:01,  6.83s/it]"
     ]
    },
    {
     "name": "stdout",
     "output_type": "stream",
     "text": [
      "[GIN] 2024/10/24 - 11:54:22 | 200 |  864.893336ms |       127.0.0.1 | POST     \"/api/generate\"\n",
      "INFO [update_slots] input truncated | n_ctx=2048 n_erase=170306 n_keep=4 n_left=2044 n_shift=1022 tid=\"138523311972352\" timestamp=1729770864\n",
      "[GIN] 2024/10/24 - 11:54:27 | 200 |   5.06330108s |       127.0.0.1 | POST     \"/api/generate\"\n"
     ]
    },
    {
     "name": "stderr",
     "output_type": "stream",
     "text": [
      "Generating responses:  63%|██████▎   | 653/1039 [51:11<45:32,  7.08s/it]"
     ]
    },
    {
     "name": "stdout",
     "output_type": "stream",
     "text": [
      "[GIN] 2024/10/24 - 11:54:29 | 200 |  1.840831757s |       127.0.0.1 | POST     \"/api/generate\"\n",
      "INFO [update_slots] input truncated | n_ctx=2048 n_erase=170610 n_keep=4 n_left=2044 n_shift=1022 tid=\"138523311972352\" timestamp=1729770871\n",
      "[GIN] 2024/10/24 - 11:54:34 | 200 |  4.546852731s |       127.0.0.1 | POST     \"/api/generate\"\n",
      "[GIN] 2024/10/24 - 11:54:36 | 200 |  1.410175132s |       127.0.0.1 | POST     \"/api/generate\"\n"
     ]
    },
    {
     "name": "stderr",
     "output_type": "stream",
     "text": [
      "Generating responses:  63%|██████▎   | 654/1039 [51:19<46:59,  7.32s/it]"
     ]
    },
    {
     "name": "stdout",
     "output_type": "stream",
     "text": [
      "[GIN] 2024/10/24 - 11:54:37 | 200 |   1.17167534s |       127.0.0.1 | POST     \"/api/generate\"\n",
      "INFO [update_slots] input truncated | n_ctx=2048 n_erase=170881 n_keep=4 n_left=2044 n_shift=1022 tid=\"138523311972352\" timestamp=1729770879\n",
      "[GIN] 2024/10/24 - 11:54:42 | 200 |  4.580714968s |       127.0.0.1 | POST     \"/api/generate\"\n",
      "[GIN] 2024/10/24 - 11:54:44 | 200 |  1.229071282s |       127.0.0.1 | POST     \"/api/generate\"\n"
     ]
    },
    {
     "name": "stderr",
     "output_type": "stream",
     "text": [
      "Generating responses:  63%|██████▎   | 655/1039 [51:27<46:49,  7.32s/it]"
     ]
    },
    {
     "name": "stdout",
     "output_type": "stream",
     "text": [
      "[GIN] 2024/10/24 - 11:54:45 | 200 |  716.347908ms |       127.0.0.1 | POST     \"/api/generate\"\n",
      "INFO [update_slots] input truncated | n_ctx=2048 n_erase=171143 n_keep=4 n_left=2044 n_shift=1022 tid=\"138523311972352\" timestamp=1729770886\n",
      "[GIN] 2024/10/24 - 11:54:49 | 200 |  4.648538944s |       127.0.0.1 | POST     \"/api/generate\"\n"
     ]
    },
    {
     "name": "stderr",
     "output_type": "stream",
     "text": [
      "Generating responses:  63%|██████▎   | 656/1039 [51:33<45:15,  7.09s/it]"
     ]
    },
    {
     "name": "stdout",
     "output_type": "stream",
     "text": [
      "[GIN] 2024/10/24 - 11:54:51 | 200 |  1.148555703s |       127.0.0.1 | POST     \"/api/generate\"\n",
      "INFO [update_slots] input truncated | n_ctx=2048 n_erase=171396 n_keep=4 n_left=2044 n_shift=1022 tid=\"138523311972352\" timestamp=1729770893\n",
      "[GIN] 2024/10/24 - 11:54:56 | 200 |   4.82594154s |       127.0.0.1 | POST     \"/api/generate\"\n"
     ]
    },
    {
     "name": "stderr",
     "output_type": "stream",
     "text": [
      "Generating responses:  63%|██████▎   | 657/1039 [51:40<43:56,  6.90s/it]"
     ]
    },
    {
     "name": "stdout",
     "output_type": "stream",
     "text": [
      "[GIN] 2024/10/24 - 11:54:58 | 200 |  870.447407ms |       127.0.0.1 | POST     \"/api/generate\"\n",
      "INFO [update_slots] input truncated | n_ctx=2048 n_erase=171639 n_keep=4 n_left=2044 n_shift=1022 tid=\"138523311972352\" timestamp=1729770899\n",
      "[GIN] 2024/10/24 - 11:55:02 | 200 |  4.880264292s |       127.0.0.1 | POST     \"/api/generate\"\n"
     ]
    },
    {
     "name": "stderr",
     "output_type": "stream",
     "text": [
      "Generating responses:  63%|██████▎   | 658/1039 [51:46<43:25,  6.84s/it]"
     ]
    },
    {
     "name": "stdout",
     "output_type": "stream",
     "text": [
      "[GIN] 2024/10/24 - 11:55:04 | 200 |  1.033010539s |       127.0.0.1 | POST     \"/api/generate\"\n",
      "INFO [update_slots] input truncated | n_ctx=2048 n_erase=171884 n_keep=4 n_left=2044 n_shift=1022 tid=\"138523311972352\" timestamp=1729770906\n",
      "[GIN] 2024/10/24 - 11:55:09 | 200 |  4.746263346s |       127.0.0.1 | POST     \"/api/generate\"\n",
      "[GIN] 2024/10/24 - 11:55:11 | 200 |  1.300306772s |       127.0.0.1 | POST     \"/api/generate\"\n"
     ]
    },
    {
     "name": "stderr",
     "output_type": "stream",
     "text": [
      "Generating responses:  63%|██████▎   | 659/1039 [51:54<44:56,  7.10s/it]"
     ]
    },
    {
     "name": "stdout",
     "output_type": "stream",
     "text": [
      "[GIN] 2024/10/24 - 11:55:12 | 200 |  860.527701ms |       127.0.0.1 | POST     \"/api/generate\"\n",
      "INFO [update_slots] input truncated | n_ctx=2048 n_erase=172149 n_keep=4 n_left=2044 n_shift=1022 tid=\"138523311972352\" timestamp=1729770914\n",
      "[GIN] 2024/10/24 - 11:55:17 | 200 |  4.746327738s |       127.0.0.1 | POST     \"/api/generate\"\n",
      "[GIN] 2024/10/24 - 11:55:18 | 200 |  831.564374ms |       127.0.0.1 | POST     \"/api/generate\"\n"
     ]
    },
    {
     "name": "stderr",
     "output_type": "stream",
     "text": [
      "Generating responses:  64%|██████▎   | 660/1039 [52:02<45:47,  7.25s/it]"
     ]
    },
    {
     "name": "stdout",
     "output_type": "stream",
     "text": [
      "[GIN] 2024/10/24 - 11:55:20 | 200 |   1.25190039s |       127.0.0.1 | POST     \"/api/generate\"\n",
      "INFO [update_slots] input truncated | n_ctx=2048 n_erase=172408 n_keep=4 n_left=2044 n_shift=1022 tid=\"138523311972352\" timestamp=1729770921\n",
      "[GIN] 2024/10/24 - 11:55:24 | 200 |  4.741433966s |       127.0.0.1 | POST     \"/api/generate\"\n"
     ]
    },
    {
     "name": "stderr",
     "output_type": "stream",
     "text": [
      "Generating responses:  64%|██████▎   | 661/1039 [52:09<45:43,  7.26s/it]"
     ]
    },
    {
     "name": "stdout",
     "output_type": "stream",
     "text": [
      "[GIN] 2024/10/24 - 11:55:27 | 200 |  1.772008441s |       127.0.0.1 | POST     \"/api/generate\"\n",
      "INFO [update_slots] input truncated | n_ctx=2048 n_erase=172695 n_keep=4 n_left=2044 n_shift=1022 tid=\"138523311972352\" timestamp=1729770929\n",
      "[GIN] 2024/10/24 - 11:55:31 | 200 |  4.596820283s |       127.0.0.1 | POST     \"/api/generate\"\n",
      "[GIN] 2024/10/24 - 11:55:33 | 200 |  1.014091191s |       127.0.0.1 | POST     \"/api/generate\"\n"
     ]
    },
    {
     "name": "stderr",
     "output_type": "stream",
     "text": [
      "Generating responses:  64%|██████▎   | 662/1039 [52:16<45:20,  7.22s/it]"
     ]
    },
    {
     "name": "stdout",
     "output_type": "stream",
     "text": [
      "[GIN] 2024/10/24 - 11:55:34 | 200 |  731.696234ms |       127.0.0.1 | POST     \"/api/generate\"\n",
      "INFO [update_slots] input truncated | n_ctx=2048 n_erase=172946 n_keep=4 n_left=2044 n_shift=1022 tid=\"138523311972352\" timestamp=1729770936\n",
      "[GIN] 2024/10/24 - 11:55:39 | 200 |  4.957012838s |       127.0.0.1 | POST     \"/api/generate\"\n"
     ]
    },
    {
     "name": "stderr",
     "output_type": "stream",
     "text": [
      "Generating responses:  64%|██████▍   | 663/1039 [52:23<45:19,  7.23s/it]"
     ]
    },
    {
     "name": "stdout",
     "output_type": "stream",
     "text": [
      "[GIN] 2024/10/24 - 11:55:41 | 200 |  1.511061304s |       127.0.0.1 | POST     \"/api/generate\"\n",
      "INFO [update_slots] input truncated | n_ctx=2048 n_erase=173222 n_keep=4 n_left=2044 n_shift=1022 tid=\"138523311972352\" timestamp=1729770943\n",
      "[GIN] 2024/10/24 - 11:55:46 | 200 |   4.79988937s |       127.0.0.1 | POST     \"/api/generate\"\n"
     ]
    },
    {
     "name": "stderr",
     "output_type": "stream",
     "text": [
      "Generating responses:  64%|██████▍   | 664/1039 [52:30<44:04,  7.05s/it]"
     ]
    },
    {
     "name": "stdout",
     "output_type": "stream",
     "text": [
      "[GIN] 2024/10/24 - 11:55:48 | 200 |  1.048045278s |       127.0.0.1 | POST     \"/api/generate\"\n",
      "INFO [update_slots] input truncated | n_ctx=2048 n_erase=173482 n_keep=4 n_left=2044 n_shift=1022 tid=\"138523311972352\" timestamp=1729770950\n",
      "[GIN] 2024/10/24 - 11:55:53 | 200 |  4.817215907s |       127.0.0.1 | POST     \"/api/generate\"\n"
     ]
    },
    {
     "name": "stderr",
     "output_type": "stream",
     "text": [
      "Generating responses:  64%|██████▍   | 665/1039 [52:37<43:04,  6.91s/it]"
     ]
    },
    {
     "name": "stdout",
     "output_type": "stream",
     "text": [
      "[GIN] 2024/10/24 - 11:55:54 | 200 |  973.942568ms |       127.0.0.1 | POST     \"/api/generate\"\n",
      "INFO [update_slots] input truncated | n_ctx=2048 n_erase=173726 n_keep=4 n_left=2044 n_shift=1022 tid=\"138523311972352\" timestamp=1729770956\n",
      "[GIN] 2024/10/24 - 11:55:59 | 200 |  5.057070058s |       127.0.0.1 | POST     \"/api/generate\"\n"
     ]
    },
    {
     "name": "stderr",
     "output_type": "stream",
     "text": [
      "Generating responses:  64%|██████▍   | 666/1039 [52:45<45:02,  7.24s/it]"
     ]
    },
    {
     "name": "stdout",
     "output_type": "stream",
     "text": [
      "[GIN] 2024/10/24 - 11:56:02 | 200 |  2.186157293s |       127.0.0.1 | POST     \"/api/generate\"\n",
      "INFO [update_slots] input truncated | n_ctx=2048 n_erase=174041 n_keep=4 n_left=2044 n_shift=1022 tid=\"138523311972352\" timestamp=1729770964\n",
      "[GIN] 2024/10/24 - 11:56:07 | 200 |  4.628947617s |       127.0.0.1 | POST     \"/api/generate\"\n"
     ]
    },
    {
     "name": "stderr",
     "output_type": "stream",
     "text": [
      "Generating responses:  64%|██████▍   | 667/1039 [52:51<42:46,  6.90s/it]"
     ]
    },
    {
     "name": "stdout",
     "output_type": "stream",
     "text": [
      "[GIN] 2024/10/24 - 11:56:09 | 200 |  679.218514ms |       127.0.0.1 | POST     \"/api/generate\"\n",
      "INFO [update_slots] input truncated | n_ctx=2048 n_erase=174267 n_keep=4 n_left=2044 n_shift=1022 tid=\"138523311972352\" timestamp=1729770970\n",
      "[GIN] 2024/10/24 - 11:56:13 | 200 |  4.897701014s |       127.0.0.1 | POST     \"/api/generate\"\n"
     ]
    },
    {
     "name": "stderr",
     "output_type": "stream",
     "text": [
      "Generating responses:  64%|██████▍   | 668/1039 [52:57<42:22,  6.85s/it]"
     ]
    },
    {
     "name": "stdout",
     "output_type": "stream",
     "text": [
      "[GIN] 2024/10/24 - 11:56:15 | 200 |  1.058605267s |       127.0.0.1 | POST     \"/api/generate\"\n",
      "INFO [update_slots] input truncated | n_ctx=2048 n_erase=174514 n_keep=4 n_left=2044 n_shift=1022 tid=\"138523311972352\" timestamp=1729770977\n",
      "[GIN] 2024/10/24 - 11:56:20 | 200 |  4.836925648s |       127.0.0.1 | POST     \"/api/generate\"\n"
     ]
    },
    {
     "name": "stderr",
     "output_type": "stream",
     "text": [
      "Generating responses:  64%|██████▍   | 669/1039 [53:05<42:50,  6.95s/it]"
     ]
    },
    {
     "name": "stdout",
     "output_type": "stream",
     "text": [
      "[GIN] 2024/10/24 - 11:56:22 | 200 |   1.54364344s |       127.0.0.1 | POST     \"/api/generate\"\n",
      "INFO [update_slots] input truncated | n_ctx=2048 n_erase=174792 n_keep=4 n_left=2044 n_shift=1022 tid=\"138523311972352\" timestamp=1729770984\n",
      "[GIN] 2024/10/24 - 11:56:27 | 200 |  4.941030735s |       127.0.0.1 | POST     \"/api/generate\"\n"
     ]
    },
    {
     "name": "stderr",
     "output_type": "stream",
     "text": [
      "Generating responses:  64%|██████▍   | 670/1039 [53:12<43:14,  7.03s/it]"
     ]
    },
    {
     "name": "stdout",
     "output_type": "stream",
     "text": [
      "[GIN] 2024/10/24 - 11:56:30 | 200 |  1.490581419s |       127.0.0.1 | POST     \"/api/generate\"\n",
      "INFO [update_slots] input truncated | n_ctx=2048 n_erase=175071 n_keep=4 n_left=2044 n_shift=1022 tid=\"138523311972352\" timestamp=1729770992\n",
      "[GIN] 2024/10/24 - 11:56:34 | 200 |  4.785146089s |       127.0.0.1 | POST     \"/api/generate\"\n"
     ]
    },
    {
     "name": "stderr",
     "output_type": "stream",
     "text": [
      "Generating responses:  65%|██████▍   | 671/1039 [53:19<43:01,  7.01s/it]"
     ]
    },
    {
     "name": "stdout",
     "output_type": "stream",
     "text": [
      "[GIN] 2024/10/24 - 11:56:37 | 200 |  1.389441688s |       127.0.0.1 | POST     \"/api/generate\"\n",
      "INFO [update_slots] input truncated | n_ctx=2048 n_erase=175336 n_keep=4 n_left=2044 n_shift=1022 tid=\"138523311972352\" timestamp=1729770999\n",
      "[GIN] 2024/10/24 - 11:56:42 | 200 |   4.87535359s |       127.0.0.1 | POST     \"/api/generate\"\n"
     ]
    },
    {
     "name": "stderr",
     "output_type": "stream",
     "text": [
      "Generating responses:  65%|██████▍   | 672/1039 [53:25<42:15,  6.91s/it]"
     ]
    },
    {
     "name": "stdout",
     "output_type": "stream",
     "text": [
      "[GIN] 2024/10/24 - 11:56:43 | 200 |  980.926303ms |       127.0.0.1 | POST     \"/api/generate\"\n",
      "INFO [update_slots] input truncated | n_ctx=2048 n_erase=175583 n_keep=4 n_left=2044 n_shift=1022 tid=\"138523311972352\" timestamp=1729771005\n",
      "[GIN] 2024/10/24 - 11:56:48 | 200 |  4.865002789s |       127.0.0.1 | POST     \"/api/generate\"\n"
     ]
    },
    {
     "name": "stderr",
     "output_type": "stream",
     "text": [
      "Generating responses:  65%|██████▍   | 673/1039 [53:33<43:08,  7.07s/it]"
     ]
    },
    {
     "name": "stdout",
     "output_type": "stream",
     "text": [
      "[GIN] 2024/10/24 - 11:56:51 | 200 |  1.798936956s |       127.0.0.1 | POST     \"/api/generate\"\n",
      "INFO [update_slots] input truncated | n_ctx=2048 n_erase=175876 n_keep=4 n_left=2044 n_shift=1022 tid=\"138523311972352\" timestamp=1729771013\n",
      "[GIN] 2024/10/24 - 11:56:56 | 200 |  4.812380835s |       127.0.0.1 | POST     \"/api/generate\"\n"
     ]
    },
    {
     "name": "stderr",
     "output_type": "stream",
     "text": [
      "Generating responses:  65%|██████▍   | 674/1039 [53:40<42:47,  7.03s/it]"
     ]
    },
    {
     "name": "stdout",
     "output_type": "stream",
     "text": [
      "[GIN] 2024/10/24 - 11:56:58 | 200 |  1.341841779s |       127.0.0.1 | POST     \"/api/generate\"\n",
      "INFO [update_slots] input truncated | n_ctx=2048 n_erase=176142 n_keep=4 n_left=2044 n_shift=1022 tid=\"138523311972352\" timestamp=1729771020\n",
      "[GIN] 2024/10/24 - 11:57:03 | 200 |   4.94281447s |       127.0.0.1 | POST     \"/api/generate\"\n"
     ]
    },
    {
     "name": "stderr",
     "output_type": "stream",
     "text": [
      "Generating responses:  65%|██████▍   | 675/1039 [53:47<42:08,  6.95s/it]"
     ]
    },
    {
     "name": "stdout",
     "output_type": "stream",
     "text": [
      "[GIN] 2024/10/24 - 11:57:04 | 200 |  981.757548ms |       127.0.0.1 | POST     \"/api/generate\"\n",
      "INFO [update_slots] input truncated | n_ctx=2048 n_erase=176390 n_keep=4 n_left=2044 n_shift=1022 tid=\"138523311972352\" timestamp=1729771026\n",
      "[GIN] 2024/10/24 - 11:57:09 | 200 |  4.975591237s |       127.0.0.1 | POST     \"/api/generate\"\n"
     ]
    },
    {
     "name": "stderr",
     "output_type": "stream",
     "text": [
      "Generating responses:  65%|██████▌   | 676/1039 [53:54<43:25,  7.18s/it]"
     ]
    },
    {
     "name": "stdout",
     "output_type": "stream",
     "text": [
      "[GIN] 2024/10/24 - 11:57:12 | 200 |  1.917682979s |       127.0.0.1 | POST     \"/api/generate\"\n",
      "INFO [update_slots] input truncated | n_ctx=2048 n_erase=176689 n_keep=4 n_left=2044 n_shift=1022 tid=\"138523311972352\" timestamp=1729771034\n",
      "[GIN] 2024/10/24 - 11:57:17 | 200 |  4.937702723s |       127.0.0.1 | POST     \"/api/generate\"\n"
     ]
    },
    {
     "name": "stderr",
     "output_type": "stream",
     "text": [
      "Generating responses:  65%|██████▌   | 677/1039 [54:01<42:14,  7.00s/it]"
     ]
    },
    {
     "name": "stdout",
     "output_type": "stream",
     "text": [
      "[GIN] 2024/10/24 - 11:57:19 | 200 |  844.571116ms |       127.0.0.1 | POST     \"/api/generate\"\n",
      "INFO [update_slots] input truncated | n_ctx=2048 n_erase=176926 n_keep=4 n_left=2044 n_shift=1022 tid=\"138523311972352\" timestamp=1729771041\n",
      "[GIN] 2024/10/24 - 11:57:24 | 200 |  4.851851278s |       127.0.0.1 | POST     \"/api/generate\"\n"
     ]
    },
    {
     "name": "stderr",
     "output_type": "stream",
     "text": [
      "Generating responses:  65%|██████▌   | 678/1039 [54:08<41:45,  6.94s/it]"
     ]
    },
    {
     "name": "stdout",
     "output_type": "stream",
     "text": [
      "[GIN] 2024/10/24 - 11:57:26 | 200 |   1.13532686s |       127.0.0.1 | POST     \"/api/generate\"\n",
      "INFO [update_slots] input truncated | n_ctx=2048 n_erase=177182 n_keep=4 n_left=2044 n_shift=1022 tid=\"138523311972352\" timestamp=1729771047\n",
      "[GIN] 2024/10/24 - 11:57:30 | 200 |  4.942433886s |       127.0.0.1 | POST     \"/api/generate\"\n"
     ]
    },
    {
     "name": "stderr",
     "output_type": "stream",
     "text": [
      "Generating responses:  65%|██████▌   | 679/1039 [54:15<42:17,  7.05s/it]"
     ]
    },
    {
     "name": "stdout",
     "output_type": "stream",
     "text": [
      "[GIN] 2024/10/24 - 11:57:33 | 200 |  1.538029767s |       127.0.0.1 | POST     \"/api/generate\"\n",
      "INFO [update_slots] input truncated | n_ctx=2048 n_erase=177457 n_keep=4 n_left=2044 n_shift=1022 tid=\"138523311972352\" timestamp=1729771055\n",
      "[GIN] 2024/10/24 - 11:57:38 | 200 |  4.846545797s |       127.0.0.1 | POST     \"/api/generate\"\n"
     ]
    },
    {
     "name": "stderr",
     "output_type": "stream",
     "text": [
      "Generating responses:  65%|██████▌   | 680/1039 [54:21<41:09,  6.88s/it]"
     ]
    },
    {
     "name": "stdout",
     "output_type": "stream",
     "text": [
      "[GIN] 2024/10/24 - 11:57:39 | 200 |  807.432497ms |       127.0.0.1 | POST     \"/api/generate\"\n",
      "INFO [update_slots] input truncated | n_ctx=2048 n_erase=177710 n_keep=4 n_left=2044 n_shift=1022 tid=\"138523311972352\" timestamp=1729771061\n",
      "[GIN] 2024/10/24 - 11:57:44 | 200 |  5.027654954s |       127.0.0.1 | POST     \"/api/generate\"\n"
     ]
    },
    {
     "name": "stderr",
     "output_type": "stream",
     "text": [
      "Generating responses:  66%|██████▌   | 681/1039 [54:29<41:18,  6.92s/it]"
     ]
    },
    {
     "name": "stdout",
     "output_type": "stream",
     "text": [
      "[GIN] 2024/10/24 - 11:57:46 | 200 |  1.187355002s |       127.0.0.1 | POST     \"/api/generate\"\n",
      "INFO [update_slots] input truncated | n_ctx=2048 n_erase=177971 n_keep=4 n_left=2044 n_shift=1022 tid=\"138523311972352\" timestamp=1729771068\n",
      "[GIN] 2024/10/24 - 11:57:52 | 200 |   5.21843295s |       127.0.0.1 | POST     \"/api/generate\"\n"
     ]
    },
    {
     "name": "stderr",
     "output_type": "stream",
     "text": [
      "Generating responses:  66%|██████▌   | 682/1039 [54:36<41:45,  7.02s/it]"
     ]
    },
    {
     "name": "stdout",
     "output_type": "stream",
     "text": [
      "[GIN] 2024/10/24 - 11:57:54 | 200 |  1.198446636s |       127.0.0.1 | POST     \"/api/generate\"\n",
      "INFO [update_slots] input truncated | n_ctx=2048 n_erase=178228 n_keep=4 n_left=2044 n_shift=1022 tid=\"138523311972352\" timestamp=1729771076\n",
      "[GIN] 2024/10/24 - 11:57:59 | 200 |  5.145803912s |       127.0.0.1 | POST     \"/api/generate\"\n"
     ]
    },
    {
     "name": "stderr",
     "output_type": "stream",
     "text": [
      "Generating responses:  66%|██████▌   | 683/1039 [54:43<42:48,  7.22s/it]"
     ]
    },
    {
     "name": "stdout",
     "output_type": "stream",
     "text": [
      "[GIN] 2024/10/24 - 11:58:01 | 200 |  1.680086177s |       127.0.0.1 | POST     \"/api/generate\"\n",
      "INFO [update_slots] input truncated | n_ctx=2048 n_erase=178516 n_keep=4 n_left=2044 n_shift=1022 tid=\"138523311972352\" timestamp=1729771083\n",
      "[GIN] 2024/10/24 - 11:58:06 | 200 |  5.103150991s |       127.0.0.1 | POST     \"/api/generate\"\n"
     ]
    },
    {
     "name": "stderr",
     "output_type": "stream",
     "text": [
      "Generating responses:  66%|██████▌   | 684/1039 [54:51<42:55,  7.26s/it]"
     ]
    },
    {
     "name": "stdout",
     "output_type": "stream",
     "text": [
      "[GIN] 2024/10/24 - 11:58:09 | 200 |  1.411824856s |       127.0.0.1 | POST     \"/api/generate\"\n",
      "INFO [update_slots] input truncated | n_ctx=2048 n_erase=178791 n_keep=4 n_left=2044 n_shift=1022 tid=\"138523311972352\" timestamp=1729771091\n",
      "[GIN] 2024/10/24 - 11:58:14 | 200 |  5.069003594s |       127.0.0.1 | POST     \"/api/generate\"\n"
     ]
    },
    {
     "name": "stderr",
     "output_type": "stream",
     "text": [
      "Generating responses:  66%|██████▌   | 685/1039 [54:58<43:03,  7.30s/it]"
     ]
    },
    {
     "name": "stdout",
     "output_type": "stream",
     "text": [
      "[GIN] 2024/10/24 - 11:58:16 | 200 |  1.501251896s |       127.0.0.1 | POST     \"/api/generate\"\n",
      "INFO [update_slots] input truncated | n_ctx=2048 n_erase=179078 n_keep=4 n_left=2044 n_shift=1022 tid=\"138523311972352\" timestamp=1729771098\n",
      "[GIN] 2024/10/24 - 11:58:21 | 200 |  4.849013363s |       127.0.0.1 | POST     \"/api/generate\"\n"
     ]
    },
    {
     "name": "stderr",
     "output_type": "stream",
     "text": [
      "Generating responses:  66%|██████▌   | 686/1039 [55:05<42:44,  7.26s/it]"
     ]
    },
    {
     "name": "stdout",
     "output_type": "stream",
     "text": [
      "[GIN] 2024/10/24 - 11:58:23 | 200 |  1.510627751s |       127.0.0.1 | POST     \"/api/generate\"\n",
      "INFO [update_slots] input truncated | n_ctx=2048 n_erase=179356 n_keep=4 n_left=2044 n_shift=1022 tid=\"138523311972352\" timestamp=1729771105\n",
      "[GIN] 2024/10/24 - 11:58:28 | 200 |  4.913269548s |       127.0.0.1 | POST     \"/api/generate\"\n"
     ]
    },
    {
     "name": "stderr",
     "output_type": "stream",
     "text": [
      "Generating responses:  66%|██████▌   | 687/1039 [55:12<41:54,  7.14s/it]"
     ]
    },
    {
     "name": "stdout",
     "output_type": "stream",
     "text": [
      "[GIN] 2024/10/24 - 11:58:30 | 200 |  1.121238592s |       127.0.0.1 | POST     \"/api/generate\"\n",
      "INFO [update_slots] input truncated | n_ctx=2048 n_erase=179611 n_keep=4 n_left=2044 n_shift=1022 tid=\"138523311972352\" timestamp=1729771112\n",
      "[GIN] 2024/10/24 - 11:58:35 | 200 |   4.84886544s |       127.0.0.1 | POST     \"/api/generate\"\n"
     ]
    },
    {
     "name": "stderr",
     "output_type": "stream",
     "text": [
      "Generating responses:  66%|██████▌   | 688/1039 [55:19<41:22,  7.07s/it]"
     ]
    },
    {
     "name": "stdout",
     "output_type": "stream",
     "text": [
      "[GIN] 2024/10/24 - 11:58:37 | 200 |  1.180031072s |       127.0.0.1 | POST     \"/api/generate\"\n",
      "INFO [update_slots] input truncated | n_ctx=2048 n_erase=179865 n_keep=4 n_left=2044 n_shift=1022 tid=\"138523311972352\" timestamp=1729771119\n",
      "[GIN] 2024/10/24 - 11:58:42 | 200 |  4.935127813s |       127.0.0.1 | POST     \"/api/generate\"\n"
     ]
    },
    {
     "name": "stderr",
     "output_type": "stream",
     "text": [
      "Generating responses:  66%|██████▋   | 689/1039 [55:26<41:22,  7.09s/it]"
     ]
    },
    {
     "name": "stdout",
     "output_type": "stream",
     "text": [
      "[GIN] 2024/10/24 - 11:58:44 | 200 |  1.358131472s |       127.0.0.1 | POST     \"/api/generate\"\n",
      "INFO [update_slots] input truncated | n_ctx=2048 n_erase=180127 n_keep=4 n_left=2044 n_shift=1022 tid=\"138523311972352\" timestamp=1729771126\n",
      "[GIN] 2024/10/24 - 11:58:49 | 200 |   5.15112278s |       127.0.0.1 | POST     \"/api/generate\"\n"
     ]
    },
    {
     "name": "stderr",
     "output_type": "stream",
     "text": [
      "Generating responses:  66%|██████▋   | 690/1039 [55:34<41:39,  7.16s/it]"
     ]
    },
    {
     "name": "stdout",
     "output_type": "stream",
     "text": [
      "[GIN] 2024/10/24 - 11:58:51 | 200 |  1.319336704s |       127.0.0.1 | POST     \"/api/generate\"\n",
      "INFO [update_slots] input truncated | n_ctx=2048 n_erase=180395 n_keep=4 n_left=2044 n_shift=1022 tid=\"138523311972352\" timestamp=1729771133\n",
      "[GIN] 2024/10/24 - 11:58:56 | 200 |  5.014312407s |       127.0.0.1 | POST     \"/api/generate\"\n"
     ]
    },
    {
     "name": "stderr",
     "output_type": "stream",
     "text": [
      "Generating responses:  67%|██████▋   | 691/1039 [55:42<43:49,  7.56s/it]"
     ]
    },
    {
     "name": "stdout",
     "output_type": "stream",
     "text": [
      "[GIN] 2024/10/24 - 11:59:00 | 200 |  2.623983318s |       127.0.0.1 | POST     \"/api/generate\"\n",
      "INFO [update_slots] input truncated | n_ctx=2048 n_erase=180742 n_keep=4 n_left=2044 n_shift=1022 tid=\"138523311972352\" timestamp=1729771142\n",
      "[GIN] 2024/10/24 - 11:59:05 | 200 |  5.035502437s |       127.0.0.1 | POST     \"/api/generate\"\n"
     ]
    },
    {
     "name": "stderr",
     "output_type": "stream",
     "text": [
      "Generating responses:  67%|██████▋   | 692/1039 [55:50<44:03,  7.62s/it]"
     ]
    },
    {
     "name": "stdout",
     "output_type": "stream",
     "text": [
      "[GIN] 2024/10/24 - 11:59:08 | 200 |  1.859062242s |       127.0.0.1 | POST     \"/api/generate\"\n",
      "INFO [update_slots] input truncated | n_ctx=2048 n_erase=181035 n_keep=4 n_left=2044 n_shift=1022 tid=\"138523311972352\" timestamp=1729771150\n",
      "[GIN] 2024/10/24 - 11:59:13 | 200 |   4.88348294s |       127.0.0.1 | POST     \"/api/generate\"\n"
     ]
    },
    {
     "name": "stderr",
     "output_type": "stream",
     "text": [
      "Generating responses:  67%|██████▋   | 693/1039 [55:56<41:40,  7.23s/it]"
     ]
    },
    {
     "name": "stdout",
     "output_type": "stream",
     "text": [
      "[GIN] 2024/10/24 - 11:59:14 | 200 |  594.701513ms |       127.0.0.1 | POST     \"/api/generate\"\n",
      "INFO [update_slots] input truncated | n_ctx=2048 n_erase=181257 n_keep=4 n_left=2044 n_shift=1022 tid=\"138523311972352\" timestamp=1729771156\n",
      "[GIN] 2024/10/24 - 11:59:19 | 200 |  4.907423545s |       127.0.0.1 | POST     \"/api/generate\"\n"
     ]
    },
    {
     "name": "stderr",
     "output_type": "stream",
     "text": [
      "Generating responses:  67%|██████▋   | 694/1039 [56:03<40:55,  7.12s/it]"
     ]
    },
    {
     "name": "stdout",
     "output_type": "stream",
     "text": [
      "[GIN] 2024/10/24 - 11:59:21 | 200 |  1.081399993s |       127.0.0.1 | POST     \"/api/generate\"\n",
      "INFO [update_slots] input truncated | n_ctx=2048 n_erase=181513 n_keep=4 n_left=2044 n_shift=1022 tid=\"138523311972352\" timestamp=1729771163\n",
      "[GIN] 2024/10/24 - 11:59:26 | 200 |   5.13297296s |       127.0.0.1 | POST     \"/api/generate\"\n"
     ]
    },
    {
     "name": "stderr",
     "output_type": "stream",
     "text": [
      "Generating responses:  67%|██████▋   | 695/1039 [56:10<40:23,  7.04s/it]"
     ]
    },
    {
     "name": "stdout",
     "output_type": "stream",
     "text": [
      "[GIN] 2024/10/24 - 11:59:28 | 200 |  885.119003ms |       127.0.0.1 | POST     \"/api/generate\"\n",
      "INFO [update_slots] input truncated | n_ctx=2048 n_erase=181761 n_keep=4 n_left=2044 n_shift=1022 tid=\"138523311972352\" timestamp=1729771170\n",
      "[GIN] 2024/10/24 - 11:59:33 | 200 |  5.121972329s |       127.0.0.1 | POST     \"/api/generate\"\n"
     ]
    },
    {
     "name": "stderr",
     "output_type": "stream",
     "text": [
      "Generating responses:  67%|██████▋   | 696/1039 [56:17<40:05,  7.01s/it]"
     ]
    },
    {
     "name": "stdout",
     "output_type": "stream",
     "text": [
      "[GIN] 2024/10/24 - 11:59:35 | 200 |  962.386321ms |       127.0.0.1 | POST     \"/api/generate\"\n",
      "INFO [update_slots] input truncated | n_ctx=2048 n_erase=182007 n_keep=4 n_left=2044 n_shift=1022 tid=\"138523311972352\" timestamp=1729771177\n",
      "[GIN] 2024/10/24 - 11:59:40 | 200 |   5.27237512s |       127.0.0.1 | POST     \"/api/generate\"\n"
     ]
    },
    {
     "name": "stderr",
     "output_type": "stream",
     "text": [
      "Generating responses:  67%|██████▋   | 697/1039 [56:24<41:06,  7.21s/it]"
     ]
    },
    {
     "name": "stdout",
     "output_type": "stream",
     "text": [
      "[GIN] 2024/10/24 - 11:59:42 | 200 |   1.53060113s |       127.0.0.1 | POST     \"/api/generate\"\n",
      "INFO [update_slots] input truncated | n_ctx=2048 n_erase=182285 n_keep=4 n_left=2044 n_shift=1022 tid=\"138523311972352\" timestamp=1729771184\n",
      "[GIN] 2024/10/24 - 11:59:47 | 200 |   4.98468925s |       127.0.0.1 | POST     \"/api/generate\"\n"
     ]
    },
    {
     "name": "stderr",
     "output_type": "stream",
     "text": [
      "Generating responses:  67%|██████▋   | 698/1039 [56:33<43:18,  7.62s/it]"
     ]
    },
    {
     "name": "stdout",
     "output_type": "stream",
     "text": [
      "[GIN] 2024/10/24 - 11:59:51 | 200 |  2.737348677s |       127.0.0.1 | POST     \"/api/generate\"\n",
      "INFO [update_slots] input truncated | n_ctx=2048 n_erase=182639 n_keep=4 n_left=2044 n_shift=1022 tid=\"138523311972352\" timestamp=1729771193\n",
      "[GIN] 2024/10/24 - 11:59:56 | 200 |  5.236402729s |       127.0.0.1 | POST     \"/api/generate\"\n",
      "[GIN] 2024/10/24 - 11:59:58 | 200 |  800.820435ms |       127.0.0.1 | POST     \"/api/generate\"\n"
     ]
    },
    {
     "name": "stderr",
     "output_type": "stream",
     "text": [
      "Generating responses:  67%|██████▋   | 699/1039 [56:41<43:40,  7.71s/it]"
     ]
    },
    {
     "name": "stdout",
     "output_type": "stream",
     "text": [
      "[GIN] 2024/10/24 - 11:59:59 | 200 |  989.477743ms |       127.0.0.1 | POST     \"/api/generate\"\n",
      "INFO [update_slots] input truncated | n_ctx=2048 n_erase=182879 n_keep=4 n_left=2044 n_shift=1022 tid=\"138523311972352\" timestamp=1729771201\n",
      "[GIN] 2024/10/24 - 12:00:04 | 200 |  5.139529008s |       127.0.0.1 | POST     \"/api/generate\"\n"
     ]
    },
    {
     "name": "stderr",
     "output_type": "stream",
     "text": [
      "Generating responses:  67%|██████▋   | 700/1039 [56:48<42:35,  7.54s/it]"
     ]
    },
    {
     "name": "stdout",
     "output_type": "stream",
     "text": [
      "[GIN] 2024/10/24 - 12:00:06 | 200 |  1.153659037s |       127.0.0.1 | POST     \"/api/generate\"\n",
      "INFO [update_slots] input truncated | n_ctx=2048 n_erase=183133 n_keep=4 n_left=2044 n_shift=1022 tid=\"138523311972352\" timestamp=1729771208\n",
      "[GIN] 2024/10/24 - 12:00:11 | 200 |   5.08499646s |       127.0.0.1 | POST     \"/api/generate\"\n",
      "[GIN] 2024/10/24 - 12:00:13 | 200 |  1.207614527s |       127.0.0.1 | POST     \"/api/generate\"\n"
     ]
    },
    {
     "name": "stderr",
     "output_type": "stream",
     "text": [
      "Generating responses:  67%|██████▋   | 701/1039 [56:57<44:04,  7.82s/it]"
     ]
    },
    {
     "name": "stdout",
     "output_type": "stream",
     "text": [
      "[GIN] 2024/10/24 - 12:00:14 | 200 |  1.303436146s |       127.0.0.1 | POST     \"/api/generate\"\n",
      "INFO [update_slots] input truncated | n_ctx=2048 n_erase=183392 n_keep=4 n_left=2044 n_shift=1022 tid=\"138523311972352\" timestamp=1729771216\n",
      "[GIN] 2024/10/24 - 12:00:20 | 200 |  5.221954842s |       127.0.0.1 | POST     \"/api/generate\"\n"
     ]
    },
    {
     "name": "stderr",
     "output_type": "stream",
     "text": [
      "Generating responses:  68%|██████▊   | 702/1039 [57:04<43:13,  7.69s/it]"
     ]
    },
    {
     "name": "stdout",
     "output_type": "stream",
     "text": [
      "[GIN] 2024/10/24 - 12:00:22 | 200 |  1.291656858s |       127.0.0.1 | POST     \"/api/generate\"\n",
      "INFO [update_slots] input truncated | n_ctx=2048 n_erase=183664 n_keep=4 n_left=2044 n_shift=1022 tid=\"138523311972352\" timestamp=1729771224\n",
      "[GIN] 2024/10/24 - 12:00:27 | 200 |  5.315611234s |       127.0.0.1 | POST     \"/api/generate\"\n"
     ]
    },
    {
     "name": "stderr",
     "output_type": "stream",
     "text": [
      "Generating responses:  68%|██████▊   | 703/1039 [57:11<42:26,  7.58s/it]"
     ]
    },
    {
     "name": "stdout",
     "output_type": "stream",
     "text": [
      "[GIN] 2024/10/24 - 12:00:29 | 200 |  1.105512259s |       127.0.0.1 | POST     \"/api/generate\"\n",
      "INFO [update_slots] input truncated | n_ctx=2048 n_erase=183923 n_keep=4 n_left=2044 n_shift=1022 tid=\"138523311972352\" timestamp=1729771231\n",
      "[GIN] 2024/10/24 - 12:00:35 | 200 |   5.45547778s |       127.0.0.1 | POST     \"/api/generate\"\n"
     ]
    },
    {
     "name": "stderr",
     "output_type": "stream",
     "text": [
      "Generating responses:  68%|██████▊   | 704/1039 [57:19<42:01,  7.53s/it]"
     ]
    },
    {
     "name": "stdout",
     "output_type": "stream",
     "text": [
      "[GIN] 2024/10/24 - 12:00:37 | 200 |  1.077177189s |       127.0.0.1 | POST     \"/api/generate\"\n",
      "INFO [update_slots] input truncated | n_ctx=2048 n_erase=184176 n_keep=4 n_left=2044 n_shift=1022 tid=\"138523311972352\" timestamp=1729771239\n",
      "[GIN] 2024/10/24 - 12:00:42 | 200 |  5.134891692s |       127.0.0.1 | POST     \"/api/generate\"\n"
     ]
    },
    {
     "name": "stderr",
     "output_type": "stream",
     "text": [
      "Generating responses:  68%|██████▊   | 705/1039 [57:26<41:03,  7.38s/it]"
     ]
    },
    {
     "name": "stdout",
     "output_type": "stream",
     "text": [
      "[GIN] 2024/10/24 - 12:00:44 | 200 |  910.383239ms |       127.0.0.1 | POST     \"/api/generate\"\n",
      "INFO [update_slots] input truncated | n_ctx=2048 n_erase=184413 n_keep=4 n_left=2044 n_shift=1022 tid=\"138523311972352\" timestamp=1729771246\n",
      "[GIN] 2024/10/24 - 12:00:49 | 200 |  5.143621586s |       127.0.0.1 | POST     \"/api/generate\"\n"
     ]
    },
    {
     "name": "stderr",
     "output_type": "stream",
     "text": [
      "Generating responses:  68%|██████▊   | 706/1039 [57:34<41:39,  7.50s/it]"
     ]
    },
    {
     "name": "stdout",
     "output_type": "stream",
     "text": [
      "[GIN] 2024/10/24 - 12:00:51 | 200 |  1.745794166s |       127.0.0.1 | POST     \"/api/generate\"\n",
      "INFO [update_slots] input truncated | n_ctx=2048 n_erase=184704 n_keep=4 n_left=2044 n_shift=1022 tid=\"138523311972352\" timestamp=1729771253\n",
      "[GIN] 2024/10/24 - 12:00:56 | 200 |  4.792033153s |       127.0.0.1 | POST     \"/api/generate\"\n"
     ]
    },
    {
     "name": "stderr",
     "output_type": "stream",
     "text": [
      "Generating responses:  68%|██████▊   | 707/1039 [57:40<39:51,  7.20s/it]"
     ]
    },
    {
     "name": "stdout",
     "output_type": "stream",
     "text": [
      "[GIN] 2024/10/24 - 12:00:58 | 200 |  855.733892ms |       127.0.0.1 | POST     \"/api/generate\"\n",
      "INFO [update_slots] input truncated | n_ctx=2048 n_erase=184948 n_keep=4 n_left=2044 n_shift=1022 tid=\"138523311972352\" timestamp=1729771260\n",
      "[GIN] 2024/10/24 - 12:01:03 | 200 |  4.981532715s |       127.0.0.1 | POST     \"/api/generate\"\n"
     ]
    },
    {
     "name": "stderr",
     "output_type": "stream",
     "text": [
      "Generating responses:  68%|██████▊   | 708/1039 [57:47<38:56,  7.06s/it]"
     ]
    },
    {
     "name": "stdout",
     "output_type": "stream",
     "text": [
      "[GIN] 2024/10/24 - 12:01:05 | 200 |  864.026209ms |       127.0.0.1 | POST     \"/api/generate\"\n",
      "INFO [update_slots] input truncated | n_ctx=2048 n_erase=185187 n_keep=4 n_left=2044 n_shift=1022 tid=\"138523311972352\" timestamp=1729771267\n",
      "[GIN] 2024/10/24 - 12:01:10 | 200 |   5.00526632s |       127.0.0.1 | POST     \"/api/generate\"\n"
     ]
    },
    {
     "name": "stderr",
     "output_type": "stream",
     "text": [
      "Generating responses:  68%|██████▊   | 709/1039 [57:55<40:21,  7.34s/it]"
     ]
    },
    {
     "name": "stdout",
     "output_type": "stream",
     "text": [
      "[GIN] 2024/10/24 - 12:01:13 | 200 |  2.088111554s |       127.0.0.1 | POST     \"/api/generate\"\n",
      "INFO [update_slots] input truncated | n_ctx=2048 n_erase=185500 n_keep=4 n_left=2044 n_shift=1022 tid=\"138523311972352\" timestamp=1729771275\n",
      "[GIN] 2024/10/24 - 12:01:18 | 200 |  5.246141742s |       127.0.0.1 | POST     \"/api/generate\"\n"
     ]
    },
    {
     "name": "stderr",
     "output_type": "stream",
     "text": [
      "Generating responses:  68%|██████▊   | 710/1039 [58:02<39:43,  7.24s/it]"
     ]
    },
    {
     "name": "stdout",
     "output_type": "stream",
     "text": [
      "[GIN] 2024/10/24 - 12:01:20 | 200 |  894.625833ms |       127.0.0.1 | POST     \"/api/generate\"\n",
      "INFO [update_slots] input truncated | n_ctx=2048 n_erase=185736 n_keep=4 n_left=2044 n_shift=1022 tid=\"138523311972352\" timestamp=1729771282\n",
      "[GIN] 2024/10/24 - 12:01:25 | 200 |  4.887242077s |       127.0.0.1 | POST     \"/api/generate\"\n"
     ]
    },
    {
     "name": "stderr",
     "output_type": "stream",
     "text": [
      "Generating responses:  68%|██████▊   | 711/1039 [58:08<38:13,  6.99s/it]"
     ]
    },
    {
     "name": "stdout",
     "output_type": "stream",
     "text": [
      "[GIN] 2024/10/24 - 12:01:26 | 200 |  658.374097ms |       127.0.0.1 | POST     \"/api/generate\"\n",
      "INFO [update_slots] input truncated | n_ctx=2048 n_erase=185961 n_keep=4 n_left=2044 n_shift=1022 tid=\"138523311972352\" timestamp=1729771288\n",
      "[GIN] 2024/10/24 - 12:01:31 | 200 |  4.903684187s |       127.0.0.1 | POST     \"/api/generate\"\n"
     ]
    },
    {
     "name": "stderr",
     "output_type": "stream",
     "text": [
      "Generating responses:  69%|██████▊   | 712/1039 [58:15<38:17,  7.03s/it]"
     ]
    },
    {
     "name": "stdout",
     "output_type": "stream",
     "text": [
      "[GIN] 2024/10/24 - 12:01:33 | 200 |  1.349237642s |       127.0.0.1 | POST     \"/api/generate\"\n",
      "INFO [update_slots] input truncated | n_ctx=2048 n_erase=186227 n_keep=4 n_left=2044 n_shift=1022 tid=\"138523311972352\" timestamp=1729771295\n",
      "[GIN] 2024/10/24 - 12:01:38 | 200 |   4.82595587s |       127.0.0.1 | POST     \"/api/generate\"\n"
     ]
    },
    {
     "name": "stderr",
     "output_type": "stream",
     "text": [
      "Generating responses:  69%|██████▊   | 713/1039 [58:22<37:52,  6.97s/it]"
     ]
    },
    {
     "name": "stdout",
     "output_type": "stream",
     "text": [
      "[GIN] 2024/10/24 - 12:01:40 | 200 |   1.15805162s |       127.0.0.1 | POST     \"/api/generate\"\n",
      "INFO [update_slots] input truncated | n_ctx=2048 n_erase=186484 n_keep=4 n_left=2044 n_shift=1022 tid=\"138523311972352\" timestamp=1729771302\n",
      "[GIN] 2024/10/24 - 12:01:45 | 200 |  4.979319219s |       127.0.0.1 | POST     \"/api/generate\"\n"
     ]
    },
    {
     "name": "stderr",
     "output_type": "stream",
     "text": [
      "Generating responses:  69%|██████▊   | 714/1039 [58:29<37:29,  6.92s/it]"
     ]
    },
    {
     "name": "stdout",
     "output_type": "stream",
     "text": [
      "[GIN] 2024/10/24 - 12:01:47 | 200 |  902.732235ms |       127.0.0.1 | POST     \"/api/generate\"\n",
      "INFO [update_slots] input truncated | n_ctx=2048 n_erase=186721 n_keep=4 n_left=2044 n_shift=1022 tid=\"138523311972352\" timestamp=1729771309\n",
      "[GIN] 2024/10/24 - 12:01:52 | 200 |  4.854426899s |       127.0.0.1 | POST     \"/api/generate\"\n",
      "[GIN] 2024/10/24 - 12:01:53 | 200 |  868.552649ms |       127.0.0.1 | POST     \"/api/generate\"\n"
     ]
    },
    {
     "name": "stderr",
     "output_type": "stream",
     "text": [
      "Generating responses:  69%|██████▉   | 715/1039 [58:37<39:13,  7.27s/it]"
     ]
    },
    {
     "name": "stdout",
     "output_type": "stream",
     "text": [
      "[GIN] 2024/10/24 - 12:01:55 | 200 |  1.473817972s |       127.0.0.1 | POST     \"/api/generate\"\n",
      "INFO [update_slots] input truncated | n_ctx=2048 n_erase=186960 n_keep=4 n_left=2044 n_shift=1022 tid=\"138523311972352\" timestamp=1729771317\n",
      "[GIN] 2024/10/24 - 12:02:00 | 200 |  4.987902879s |       127.0.0.1 | POST     \"/api/generate\"\n"
     ]
    },
    {
     "name": "stderr",
     "output_type": "stream",
     "text": [
      "Generating responses:  69%|██████▉   | 716/1039 [58:44<38:06,  7.08s/it]"
     ]
    },
    {
     "name": "stdout",
     "output_type": "stream",
     "text": [
      "[GIN] 2024/10/24 - 12:02:01 | 200 |     782.046ms |       127.0.0.1 | POST     \"/api/generate\"\n",
      "INFO [update_slots] input truncated | n_ctx=2048 n_erase=187194 n_keep=4 n_left=2044 n_shift=1022 tid=\"138523311972352\" timestamp=1729771323\n",
      "[GIN] 2024/10/24 - 12:02:07 | 200 |  5.215231927s |       127.0.0.1 | POST     \"/api/generate\"\n"
     ]
    },
    {
     "name": "stderr",
     "output_type": "stream",
     "text": [
      "Generating responses:  69%|██████▉   | 717/1039 [58:51<38:52,  7.24s/it]"
     ]
    },
    {
     "name": "stdout",
     "output_type": "stream",
     "text": [
      "[GIN] 2024/10/24 - 12:02:09 | 200 |  1.539442441s |       127.0.0.1 | POST     \"/api/generate\"\n",
      "INFO [update_slots] input truncated | n_ctx=2048 n_erase=187477 n_keep=4 n_left=2044 n_shift=1022 tid=\"138523311972352\" timestamp=1729771331\n",
      "[GIN] 2024/10/24 - 12:02:14 | 200 |  5.093540398s |       127.0.0.1 | POST     \"/api/generate\"\n"
     ]
    },
    {
     "name": "stderr",
     "output_type": "stream",
     "text": [
      "Generating responses:  69%|██████▉   | 718/1039 [58:58<38:32,  7.20s/it]"
     ]
    },
    {
     "name": "stdout",
     "output_type": "stream",
     "text": [
      "[GIN] 2024/10/24 - 12:02:16 | 200 |  1.127123215s |       127.0.0.1 | POST     \"/api/generate\"\n",
      "INFO [update_slots] input truncated | n_ctx=2048 n_erase=187731 n_keep=4 n_left=2044 n_shift=1022 tid=\"138523311972352\" timestamp=1729771338\n",
      "[GIN] 2024/10/24 - 12:02:21 | 200 |  5.195549052s |       127.0.0.1 | POST     \"/api/generate\"\n"
     ]
    },
    {
     "name": "stderr",
     "output_type": "stream",
     "text": [
      "Generating responses:  69%|██████▉   | 719/1039 [59:06<38:17,  7.18s/it]"
     ]
    },
    {
     "name": "stdout",
     "output_type": "stream",
     "text": [
      "[GIN] 2024/10/24 - 12:02:23 | 200 |  1.046836622s |       127.0.0.1 | POST     \"/api/generate\"\n",
      "INFO [update_slots] input truncated | n_ctx=2048 n_erase=187982 n_keep=4 n_left=2044 n_shift=1022 tid=\"138523311972352\" timestamp=1729771345\n",
      "[GIN] 2024/10/24 - 12:02:28 | 200 |  5.093774169s |       127.0.0.1 | POST     \"/api/generate\"\n"
     ]
    },
    {
     "name": "stderr",
     "output_type": "stream",
     "text": [
      "Generating responses:  69%|██████▉   | 720/1039 [59:12<37:46,  7.11s/it]"
     ]
    },
    {
     "name": "stdout",
     "output_type": "stream",
     "text": [
      "[GIN] 2024/10/24 - 12:02:30 | 200 |  939.617346ms |       127.0.0.1 | POST     \"/api/generate\"\n",
      "INFO [update_slots] input truncated | n_ctx=2048 n_erase=188222 n_keep=4 n_left=2044 n_shift=1022 tid=\"138523311972352\" timestamp=1729771352\n",
      "[GIN] 2024/10/24 - 12:02:35 | 200 |  5.028260108s |       127.0.0.1 | POST     \"/api/generate\"\n"
     ]
    },
    {
     "name": "stderr",
     "output_type": "stream",
     "text": [
      "Generating responses:  69%|██████▉   | 721/1039 [59:20<37:44,  7.12s/it]"
     ]
    },
    {
     "name": "stdout",
     "output_type": "stream",
     "text": [
      "[GIN] 2024/10/24 - 12:02:37 | 200 |  1.245012282s |       127.0.0.1 | POST     \"/api/generate\"\n",
      "INFO [update_slots] input truncated | n_ctx=2048 n_erase=188493 n_keep=4 n_left=2044 n_shift=1022 tid=\"138523311972352\" timestamp=1729771359\n",
      "[GIN] 2024/10/24 - 12:02:43 | 200 |  5.317655525s |       127.0.0.1 | POST     \"/api/generate\"\n"
     ]
    },
    {
     "name": "stderr",
     "output_type": "stream",
     "text": [
      "Generating responses:  69%|██████▉   | 722/1039 [59:28<39:17,  7.44s/it]"
     ]
    },
    {
     "name": "stdout",
     "output_type": "stream",
     "text": [
      "[GIN] 2024/10/24 - 12:02:46 | 200 |   1.95454287s |       127.0.0.1 | POST     \"/api/generate\"\n",
      "INFO [update_slots] input truncated | n_ctx=2048 n_erase=188791 n_keep=4 n_left=2044 n_shift=1022 tid=\"138523311972352\" timestamp=1729771368\n",
      "[GIN] 2024/10/24 - 12:02:51 | 200 |  5.030662987s |       127.0.0.1 | POST     \"/api/generate\"\n"
     ]
    },
    {
     "name": "stderr",
     "output_type": "stream",
     "text": [
      "Generating responses:  70%|██████▉   | 723/1039 [59:35<39:17,  7.46s/it]"
     ]
    },
    {
     "name": "stdout",
     "output_type": "stream",
     "text": [
      "[GIN] 2024/10/24 - 12:02:53 | 200 |  1.603666848s |       127.0.0.1 | POST     \"/api/generate\"\n",
      "INFO [update_slots] input truncated | n_ctx=2048 n_erase=189081 n_keep=4 n_left=2044 n_shift=1022 tid=\"138523311972352\" timestamp=1729771375\n",
      "[GIN] 2024/10/24 - 12:02:58 | 200 |    5.3233889s |       127.0.0.1 | POST     \"/api/generate\"\n"
     ]
    },
    {
     "name": "stderr",
     "output_type": "stream",
     "text": [
      "Generating responses:  70%|██████▉   | 724/1039 [59:43<38:56,  7.42s/it]"
     ]
    },
    {
     "name": "stdout",
     "output_type": "stream",
     "text": [
      "[GIN] 2024/10/24 - 12:03:00 | 200 |  1.088269372s |       127.0.0.1 | POST     \"/api/generate\"\n",
      "INFO [update_slots] input truncated | n_ctx=2048 n_erase=189340 n_keep=4 n_left=2044 n_shift=1022 tid=\"138523311972352\" timestamp=1729771382\n",
      "[GIN] 2024/10/24 - 12:03:05 | 200 |  4.888564634s |       127.0.0.1 | POST     \"/api/generate\"\n"
     ]
    },
    {
     "name": "stderr",
     "output_type": "stream",
     "text": [
      "Generating responses:  70%|██████▉   | 725/1039 [59:50<38:26,  7.35s/it]"
     ]
    },
    {
     "name": "stdout",
     "output_type": "stream",
     "text": [
      "[GIN] 2024/10/24 - 12:03:08 | 200 |   1.38537729s |       127.0.0.1 | POST     \"/api/generate\"\n",
      "INFO [update_slots] input truncated | n_ctx=2048 n_erase=189621 n_keep=4 n_left=2044 n_shift=1022 tid=\"138523311972352\" timestamp=1729771390\n",
      "[GIN] 2024/10/24 - 12:03:13 | 200 |  5.369701599s |       127.0.0.1 | POST     \"/api/generate\"\n"
     ]
    },
    {
     "name": "stderr",
     "output_type": "stream",
     "text": [
      "Generating responses:  70%|██████▉   | 726/1039 [59:59<40:45,  7.81s/it]"
     ]
    },
    {
     "name": "stdout",
     "output_type": "stream",
     "text": [
      "[GIN] 2024/10/24 - 12:03:17 | 200 |  2.621485922s |       127.0.0.1 | POST     \"/api/generate\"\n",
      "INFO [update_slots] input truncated | n_ctx=2048 n_erase=189966 n_keep=4 n_left=2044 n_shift=1022 tid=\"138523311972352\" timestamp=1729771399\n",
      "[GIN] 2024/10/24 - 12:03:22 | 200 |   5.40114771s |       127.0.0.1 | POST     \"/api/generate\"\n",
      "[GIN] 2024/10/24 - 12:03:24 | 200 |  1.427930325s |       127.0.0.1 | POST     \"/api/generate\"\n"
     ]
    },
    {
     "name": "stderr",
     "output_type": "stream",
     "text": [
      "Generating responses:  70%|██████▉   | 727/1039 [1:00:08<42:21,  8.15s/it]"
     ]
    },
    {
     "name": "stdout",
     "output_type": "stream",
     "text": [
      "[GIN] 2024/10/24 - 12:03:25 | 200 |   1.17872701s |       127.0.0.1 | POST     \"/api/generate\"\n",
      "INFO [update_slots] input truncated | n_ctx=2048 n_erase=190234 n_keep=4 n_left=2044 n_shift=1022 tid=\"138523311972352\" timestamp=1729771407\n",
      "[GIN] 2024/10/24 - 12:03:31 | 200 |  5.447959204s |       127.0.0.1 | POST     \"/api/generate\"\n",
      "[GIN] 2024/10/24 - 12:03:33 | 200 |  838.327934ms |       127.0.0.1 | POST     \"/api/generate\"\n"
     ]
    },
    {
     "name": "stderr",
     "output_type": "stream",
     "text": [
      "Generating responses:  70%|███████   | 728/1039 [1:00:16<41:58,  8.10s/it]"
     ]
    },
    {
     "name": "stdout",
     "output_type": "stream",
     "text": [
      "[GIN] 2024/10/24 - 12:03:33 | 200 |  781.764301ms |       127.0.0.1 | POST     \"/api/generate\"\n",
      "INFO [update_slots] input truncated | n_ctx=2048 n_erase=190467 n_keep=4 n_left=2044 n_shift=1022 tid=\"138523311972352\" timestamp=1729771415\n",
      "[GIN] 2024/10/24 - 12:03:38 | 200 |  4.782895512s |       127.0.0.1 | POST     \"/api/generate\"\n",
      "[GIN] 2024/10/24 - 12:03:40 | 200 |   454.80762ms |       127.0.0.1 | POST     \"/api/generate\"\n"
     ]
    },
    {
     "name": "stderr",
     "output_type": "stream",
     "text": [
      "Generating responses:  70%|███████   | 729/1039 [1:00:22<39:52,  7.72s/it]"
     ]
    },
    {
     "name": "stdout",
     "output_type": "stream",
     "text": [
      "[GIN] 2024/10/24 - 12:03:40 | 200 |  679.921157ms |       127.0.0.1 | POST     \"/api/generate\"\n",
      "INFO [update_slots] input truncated | n_ctx=2048 n_erase=190697 n_keep=4 n_left=2044 n_shift=1022 tid=\"138523311972352\" timestamp=1729771422\n",
      "[GIN] 2024/10/24 - 12:03:46 | 200 |  5.368540926s |       127.0.0.1 | POST     \"/api/generate\"\n"
     ]
    },
    {
     "name": "stderr",
     "output_type": "stream",
     "text": [
      "Generating responses:  70%|███████   | 730/1039 [1:00:30<39:59,  7.76s/it]"
     ]
    },
    {
     "name": "stdout",
     "output_type": "stream",
     "text": [
      "[GIN] 2024/10/24 - 12:03:48 | 200 |   1.57804767s |       127.0.0.1 | POST     \"/api/generate\"\n",
      "INFO [update_slots] input truncated | n_ctx=2048 n_erase=190983 n_keep=4 n_left=2044 n_shift=1022 tid=\"138523311972352\" timestamp=1729771430\n",
      "[GIN] 2024/10/24 - 12:03:53 | 200 |  5.291236151s |       127.0.0.1 | POST     \"/api/generate\"\n"
     ]
    },
    {
     "name": "stderr",
     "output_type": "stream",
     "text": [
      "Generating responses:  70%|███████   | 731/1039 [1:00:38<39:43,  7.74s/it]"
     ]
    },
    {
     "name": "stdout",
     "output_type": "stream",
     "text": [
      "[GIN] 2024/10/24 - 12:03:56 | 200 |  1.458975588s |       127.0.0.1 | POST     \"/api/generate\"\n",
      "INFO [update_slots] input truncated | n_ctx=2048 n_erase=191256 n_keep=4 n_left=2044 n_shift=1022 tid=\"138523311972352\" timestamp=1729771438\n",
      "[GIN] 2024/10/24 - 12:04:01 | 200 |  5.599317018s |       127.0.0.1 | POST     \"/api/generate\"\n",
      "[GIN] 2024/10/24 - 12:04:04 | 200 |  1.332217696s |       127.0.0.1 | POST     \"/api/generate\"\n"
     ]
    },
    {
     "name": "stderr",
     "output_type": "stream",
     "text": [
      "Generating responses:  70%|███████   | 732/1039 [1:00:47<41:41,  8.15s/it]"
     ]
    },
    {
     "name": "stdout",
     "output_type": "stream",
     "text": [
      "[GIN] 2024/10/24 - 12:04:05 | 200 |  1.241686358s |       127.0.0.1 | POST     \"/api/generate\"\n",
      "INFO [update_slots] input truncated | n_ctx=2048 n_erase=191536 n_keep=4 n_left=2044 n_shift=1022 tid=\"138523311972352\" timestamp=1729771447\n",
      "[GIN] 2024/10/24 - 12:04:10 | 200 |  5.216668014s |       127.0.0.1 | POST     \"/api/generate\"\n",
      "[GIN] 2024/10/24 - 12:04:12 | 200 |  879.330729ms |       127.0.0.1 | POST     \"/api/generate\"\n"
     ]
    },
    {
     "name": "stderr",
     "output_type": "stream",
     "text": [
      "Generating responses:  71%|███████   | 733/1039 [1:00:55<41:53,  8.22s/it]"
     ]
    },
    {
     "name": "stdout",
     "output_type": "stream",
     "text": [
      "[GIN] 2024/10/24 - 12:04:13 | 200 |  1.342718005s |       127.0.0.1 | POST     \"/api/generate\"\n",
      "INFO [update_slots] input truncated | n_ctx=2048 n_erase=191778 n_keep=4 n_left=2044 n_shift=1022 tid=\"138523311972352\" timestamp=1729771455\n",
      "[GIN] 2024/10/24 - 12:04:18 | 200 |  5.087543811s |       127.0.0.1 | POST     \"/api/generate\"\n"
     ]
    },
    {
     "name": "stderr",
     "output_type": "stream",
     "text": [
      "Generating responses:  71%|███████   | 734/1039 [1:01:04<41:34,  8.18s/it]"
     ]
    },
    {
     "name": "stdout",
     "output_type": "stream",
     "text": [
      "[GIN] 2024/10/24 - 12:04:21 | 200 |  2.042736871s |       127.0.0.1 | POST     \"/api/generate\"\n",
      "INFO [update_slots] input truncated | n_ctx=2048 n_erase=192095 n_keep=4 n_left=2044 n_shift=1022 tid=\"138523311972352\" timestamp=1729771463\n",
      "[GIN] 2024/10/24 - 12:04:27 | 200 |  5.320053213s |       127.0.0.1 | POST     \"/api/generate\"\n"
     ]
    },
    {
     "name": "stderr",
     "output_type": "stream",
     "text": [
      "Generating responses:  71%|███████   | 735/1039 [1:01:11<41:01,  8.10s/it]"
     ]
    },
    {
     "name": "stdout",
     "output_type": "stream",
     "text": [
      "[GIN] 2024/10/24 - 12:04:29 | 200 |  1.641184041s |       127.0.0.1 | POST     \"/api/generate\"\n",
      "INFO [update_slots] input truncated | n_ctx=2048 n_erase=192380 n_keep=4 n_left=2044 n_shift=1022 tid=\"138523311972352\" timestamp=1729771471\n",
      "[GIN] 2024/10/24 - 12:04:34 | 200 |  5.030498743s |       127.0.0.1 | POST     \"/api/generate\"\n"
     ]
    },
    {
     "name": "stderr",
     "output_type": "stream",
     "text": [
      "Generating responses:  71%|███████   | 736/1039 [1:01:19<40:36,  8.04s/it]"
     ]
    },
    {
     "name": "stdout",
     "output_type": "stream",
     "text": [
      "[GIN] 2024/10/24 - 12:04:37 | 200 |   1.94036759s |       127.0.0.1 | POST     \"/api/generate\"\n",
      "INFO [update_slots] input truncated | n_ctx=2048 n_erase=192682 n_keep=4 n_left=2044 n_shift=1022 tid=\"138523311972352\" timestamp=1729771479\n",
      "[GIN] 2024/10/24 - 12:04:42 | 200 |  5.123764514s |       127.0.0.1 | POST     \"/api/generate\"\n"
     ]
    },
    {
     "name": "stderr",
     "output_type": "stream",
     "text": [
      "Generating responses:  71%|███████   | 737/1039 [1:01:27<39:11,  7.79s/it]"
     ]
    },
    {
     "name": "stdout",
     "output_type": "stream",
     "text": [
      "[GIN] 2024/10/24 - 12:04:44 | 200 |  1.137172576s |       127.0.0.1 | POST     \"/api/generate\"\n",
      "INFO [update_slots] input truncated | n_ctx=2048 n_erase=192948 n_keep=4 n_left=2044 n_shift=1022 tid=\"138523311972352\" timestamp=1729771486\n",
      "[GIN] 2024/10/24 - 12:04:50 | 200 |  5.199089955s |       127.0.0.1 | POST     \"/api/generate\"\n"
     ]
    },
    {
     "name": "stderr",
     "output_type": "stream",
     "text": [
      "Generating responses:  71%|███████   | 738/1039 [1:01:34<38:01,  7.58s/it]"
     ]
    },
    {
     "name": "stdout",
     "output_type": "stream",
     "text": [
      "[GIN] 2024/10/24 - 12:04:52 | 200 |  941.151068ms |       127.0.0.1 | POST     \"/api/generate\"\n",
      "INFO [update_slots] input truncated | n_ctx=2048 n_erase=193194 n_keep=4 n_left=2044 n_shift=1022 tid=\"138523311972352\" timestamp=1729771494\n",
      "[GIN] 2024/10/24 - 12:04:57 | 200 |  5.263074669s |       127.0.0.1 | POST     \"/api/generate\"\n"
     ]
    },
    {
     "name": "stderr",
     "output_type": "stream",
     "text": [
      "Generating responses:  71%|███████   | 739/1039 [1:01:42<39:18,  7.86s/it]"
     ]
    },
    {
     "name": "stdout",
     "output_type": "stream",
     "text": [
      "[GIN] 2024/10/24 - 12:05:00 | 200 |  2.320093463s |       127.0.0.1 | POST     \"/api/generate\"\n",
      "INFO [update_slots] input truncated | n_ctx=2048 n_erase=193521 n_keep=4 n_left=2044 n_shift=1022 tid=\"138523311972352\" timestamp=1729771502\n",
      "[GIN] 2024/10/24 - 12:05:05 | 200 |  5.124039797s |       127.0.0.1 | POST     \"/api/generate\"\n"
     ]
    },
    {
     "name": "stderr",
     "output_type": "stream",
     "text": [
      "Generating responses:  71%|███████   | 740/1039 [1:01:49<37:35,  7.54s/it]"
     ]
    },
    {
     "name": "stdout",
     "output_type": "stream",
     "text": [
      "[GIN] 2024/10/24 - 12:05:07 | 200 |  731.759759ms |       127.0.0.1 | POST     \"/api/generate\"\n",
      "INFO [update_slots] input truncated | n_ctx=2048 n_erase=193757 n_keep=4 n_left=2044 n_shift=1022 tid=\"138523311972352\" timestamp=1729771509\n",
      "[GIN] 2024/10/24 - 12:05:12 | 200 |  5.169406334s |       127.0.0.1 | POST     \"/api/generate\"\n"
     ]
    },
    {
     "name": "stderr",
     "output_type": "stream",
     "text": [
      "Generating responses:  71%|███████▏  | 741/1039 [1:01:56<36:44,  7.40s/it]"
     ]
    },
    {
     "name": "stdout",
     "output_type": "stream",
     "text": [
      "[GIN] 2024/10/24 - 12:05:14 | 200 |  920.094788ms |       127.0.0.1 | POST     \"/api/generate\"\n",
      "INFO [update_slots] input truncated | n_ctx=2048 n_erase=194003 n_keep=4 n_left=2044 n_shift=1022 tid=\"138523311972352\" timestamp=1729771516\n",
      "[GIN] 2024/10/24 - 12:05:19 | 200 |  5.184340465s |       127.0.0.1 | POST     \"/api/generate\"\n"
     ]
    },
    {
     "name": "stderr",
     "output_type": "stream",
     "text": [
      "Generating responses:  71%|███████▏  | 742/1039 [1:02:03<36:18,  7.33s/it]"
     ]
    },
    {
     "name": "stdout",
     "output_type": "stream",
     "text": [
      "[GIN] 2024/10/24 - 12:05:21 | 200 |  1.015533339s |       127.0.0.1 | POST     \"/api/generate\"\n",
      "INFO [update_slots] input truncated | n_ctx=2048 n_erase=194253 n_keep=4 n_left=2044 n_shift=1022 tid=\"138523311972352\" timestamp=1729771523\n",
      "[GIN] 2024/10/24 - 12:05:26 | 200 |  5.288460111s |       127.0.0.1 | POST     \"/api/generate\"\n"
     ]
    },
    {
     "name": "stderr",
     "output_type": "stream",
     "text": [
      "Generating responses:  72%|███████▏  | 743/1039 [1:02:11<37:18,  7.56s/it]"
     ]
    },
    {
     "name": "stdout",
     "output_type": "stream",
     "text": [
      "[GIN] 2024/10/24 - 12:05:29 | 200 |  1.788552269s |       127.0.0.1 | POST     \"/api/generate\"\n",
      "INFO [update_slots] input truncated | n_ctx=2048 n_erase=194554 n_keep=4 n_left=2044 n_shift=1022 tid=\"138523311972352\" timestamp=1729771531\n",
      "[GIN] 2024/10/24 - 12:05:35 | 200 |  5.342559102s |       127.0.0.1 | POST     \"/api/generate\"\n",
      "[GIN] 2024/10/24 - 12:05:36 | 200 |  953.155436ms |       127.0.0.1 | POST     \"/api/generate\"\n"
     ]
    },
    {
     "name": "stderr",
     "output_type": "stream",
     "text": [
      "Generating responses:  72%|███████▏  | 744/1039 [1:02:20<38:43,  7.87s/it]"
     ]
    },
    {
     "name": "stdout",
     "output_type": "stream",
     "text": [
      "[GIN] 2024/10/24 - 12:05:38 | 200 |   1.36169082s |       127.0.0.1 | POST     \"/api/generate\"\n",
      "INFO [update_slots] input truncated | n_ctx=2048 n_erase=194801 n_keep=4 n_left=2044 n_shift=1022 tid=\"138523311972352\" timestamp=1729771540\n",
      "[GIN] 2024/10/24 - 12:05:43 | 200 |  5.240891796s |       127.0.0.1 | POST     \"/api/generate\"\n"
     ]
    },
    {
     "name": "stderr",
     "output_type": "stream",
     "text": [
      "Generating responses:  72%|███████▏  | 745/1039 [1:02:28<38:31,  7.86s/it]"
     ]
    },
    {
     "name": "stdout",
     "output_type": "stream",
     "text": [
      "[GIN] 2024/10/24 - 12:05:46 | 200 |  1.659542953s |       127.0.0.1 | POST     \"/api/generate\"\n",
      "INFO [update_slots] input truncated | n_ctx=2048 n_erase=195087 n_keep=4 n_left=2044 n_shift=1022 tid=\"138523311972352\" timestamp=1729771548\n",
      "[GIN] 2024/10/24 - 12:05:51 | 200 |  4.988693764s |       127.0.0.1 | POST     \"/api/generate\"\n"
     ]
    },
    {
     "name": "stderr",
     "output_type": "stream",
     "text": [
      "Generating responses:  72%|███████▏  | 746/1039 [1:02:35<37:17,  7.64s/it]"
     ]
    },
    {
     "name": "stdout",
     "output_type": "stream",
     "text": [
      "[GIN] 2024/10/24 - 12:05:53 | 200 |  1.188728152s |       127.0.0.1 | POST     \"/api/generate\"\n",
      "INFO [update_slots] input truncated | n_ctx=2048 n_erase=195343 n_keep=4 n_left=2044 n_shift=1022 tid=\"138523311972352\" timestamp=1729771555\n",
      "[GIN] 2024/10/24 - 12:05:58 | 200 |  5.109733978s |       127.0.0.1 | POST     \"/api/generate\"\n"
     ]
    },
    {
     "name": "stderr",
     "output_type": "stream",
     "text": [
      "Generating responses:  72%|███████▏  | 747/1039 [1:02:42<36:41,  7.54s/it]"
     ]
    },
    {
     "name": "stdout",
     "output_type": "stream",
     "text": [
      "[GIN] 2024/10/24 - 12:06:00 | 200 |  1.218839649s |       127.0.0.1 | POST     \"/api/generate\"\n",
      "INFO [update_slots] input truncated | n_ctx=2048 n_erase=195603 n_keep=4 n_left=2044 n_shift=1022 tid=\"138523311972352\" timestamp=1729771562\n",
      "[GIN] 2024/10/24 - 12:06:05 | 200 |  4.975846578s |       127.0.0.1 | POST     \"/api/generate\"\n"
     ]
    },
    {
     "name": "stderr",
     "output_type": "stream",
     "text": [
      "Generating responses:  72%|███████▏  | 748/1039 [1:02:49<35:31,  7.32s/it]"
     ]
    },
    {
     "name": "stdout",
     "output_type": "stream",
     "text": [
      "[GIN] 2024/10/24 - 12:06:07 | 200 |  899.957933ms |       127.0.0.1 | POST     \"/api/generate\"\n",
      "INFO [update_slots] input truncated | n_ctx=2048 n_erase=195848 n_keep=4 n_left=2044 n_shift=1022 tid=\"138523311972352\" timestamp=1729771569\n",
      "[GIN] 2024/10/24 - 12:06:12 | 200 |  5.317741169s |       127.0.0.1 | POST     \"/api/generate\"\n"
     ]
    },
    {
     "name": "stderr",
     "output_type": "stream",
     "text": [
      "Generating responses:  72%|███████▏  | 749/1039 [1:02:58<37:58,  7.86s/it]"
     ]
    },
    {
     "name": "stdout",
     "output_type": "stream",
     "text": [
      "[GIN] 2024/10/24 - 12:06:16 | 200 |  2.823768645s |       127.0.0.1 | POST     \"/api/generate\"\n",
      "INFO [update_slots] input truncated | n_ctx=2048 n_erase=196205 n_keep=4 n_left=2044 n_shift=1022 tid=\"138523311972352\" timestamp=1729771578\n",
      "[GIN] 2024/10/24 - 12:06:21 | 200 |    5.3287403s |       127.0.0.1 | POST     \"/api/generate\"\n"
     ]
    },
    {
     "name": "stderr",
     "output_type": "stream",
     "text": [
      "Generating responses:  72%|███████▏  | 750/1039 [1:03:06<37:22,  7.76s/it]"
     ]
    },
    {
     "name": "stdout",
     "output_type": "stream",
     "text": [
      "[GIN] 2024/10/24 - 12:06:23 | 200 |  1.238757999s |       127.0.0.1 | POST     \"/api/generate\"\n",
      "INFO [update_slots] input truncated | n_ctx=2048 n_erase=196467 n_keep=4 n_left=2044 n_shift=1022 tid=\"138523311972352\" timestamp=1729771586\n",
      "[GIN] 2024/10/24 - 12:06:29 | 200 |  5.223141869s |       127.0.0.1 | POST     \"/api/generate\"\n",
      "[GIN] 2024/10/24 - 12:06:31 | 200 |  1.308735536s |       127.0.0.1 | POST     \"/api/generate\"\n"
     ]
    },
    {
     "name": "stderr",
     "output_type": "stream",
     "text": [
      "Generating responses:  72%|███████▏  | 751/1039 [1:03:14<38:06,  7.94s/it]"
     ]
    },
    {
     "name": "stdout",
     "output_type": "stream",
     "text": [
      "[GIN] 2024/10/24 - 12:06:32 | 200 |  823.736893ms |       127.0.0.1 | POST     \"/api/generate\"\n",
      "INFO [update_slots] input truncated | n_ctx=2048 n_erase=196738 n_keep=4 n_left=2044 n_shift=1022 tid=\"138523311972352\" timestamp=1729771594\n",
      "[GIN] 2024/10/24 - 12:06:37 | 200 |  5.152874248s |       127.0.0.1 | POST     \"/api/generate\"\n"
     ]
    },
    {
     "name": "stderr",
     "output_type": "stream",
     "text": [
      "Generating responses:  72%|███████▏  | 752/1039 [1:03:22<38:24,  8.03s/it]"
     ]
    },
    {
     "name": "stdout",
     "output_type": "stream",
     "text": [
      "[GIN] 2024/10/24 - 12:06:40 | 200 |  2.123671819s |       127.0.0.1 | POST     \"/api/generate\"\n",
      "INFO [update_slots] input truncated | n_ctx=2048 n_erase=197049 n_keep=4 n_left=2044 n_shift=1022 tid=\"138523311972352\" timestamp=1729771602\n",
      "[GIN] 2024/10/24 - 12:06:45 | 200 |  5.150634361s |       127.0.0.1 | POST     \"/api/generate\"\n",
      "[GIN] 2024/10/24 - 12:06:47 | 200 |  1.269308698s |       127.0.0.1 | POST     \"/api/generate\"\n"
     ]
    },
    {
     "name": "stderr",
     "output_type": "stream",
     "text": [
      "Generating responses:  72%|███████▏  | 753/1039 [1:03:31<39:42,  8.33s/it]"
     ]
    },
    {
     "name": "stdout",
     "output_type": "stream",
     "text": [
      "[GIN] 2024/10/24 - 12:06:49 | 200 |  1.651733135s |       127.0.0.1 | POST     \"/api/generate\"\n",
      "INFO [update_slots] input truncated | n_ctx=2048 n_erase=197312 n_keep=4 n_left=2044 n_shift=1022 tid=\"138523311972352\" timestamp=1729771611\n",
      "[GIN] 2024/10/24 - 12:06:54 | 200 |  5.334181148s |       127.0.0.1 | POST     \"/api/generate\"\n"
     ]
    },
    {
     "name": "stderr",
     "output_type": "stream",
     "text": [
      "Generating responses:  73%|███████▎  | 754/1039 [1:03:39<38:09,  8.03s/it]"
     ]
    },
    {
     "name": "stdout",
     "output_type": "stream",
     "text": [
      "[GIN] 2024/10/24 - 12:06:56 | 200 |  1.005259078s |       127.0.0.1 | POST     \"/api/generate\"\n",
      "INFO [update_slots] input truncated | n_ctx=2048 n_erase=197562 n_keep=4 n_left=2044 n_shift=1022 tid=\"138523311972352\" timestamp=1729771619\n",
      "[GIN] 2024/10/24 - 12:07:02 | 200 |   5.36852456s |       127.0.0.1 | POST     \"/api/generate\"\n"
     ]
    },
    {
     "name": "stderr",
     "output_type": "stream",
     "text": [
      "Generating responses:  73%|███████▎  | 755/1039 [1:03:47<37:50,  8.00s/it]"
     ]
    },
    {
     "name": "stdout",
     "output_type": "stream",
     "text": [
      "[GIN] 2024/10/24 - 12:07:04 | 200 |  1.447714974s |       127.0.0.1 | POST     \"/api/generate\"\n",
      "INFO [update_slots] input truncated | n_ctx=2048 n_erase=197832 n_keep=4 n_left=2044 n_shift=1022 tid=\"138523311972352\" timestamp=1729771627\n",
      "[GIN] 2024/10/24 - 12:07:10 | 200 |   5.32917244s |       127.0.0.1 | POST     \"/api/generate\"\n"
     ]
    },
    {
     "name": "stderr",
     "output_type": "stream",
     "text": [
      "Generating responses:  73%|███████▎  | 756/1039 [1:03:54<36:27,  7.73s/it]"
     ]
    },
    {
     "name": "stdout",
     "output_type": "stream",
     "text": [
      "[GIN] 2024/10/24 - 12:07:11 | 200 |  758.091223ms |       127.0.0.1 | POST     \"/api/generate\"\n",
      "INFO [update_slots] input truncated | n_ctx=2048 n_erase=198063 n_keep=4 n_left=2044 n_shift=1022 tid=\"138523311972352\" timestamp=1729771634\n",
      "[GIN] 2024/10/24 - 12:07:17 | 200 |  5.184871364s |       127.0.0.1 | POST     \"/api/generate\"\n"
     ]
    },
    {
     "name": "stderr",
     "output_type": "stream",
     "text": [
      "Generating responses:  73%|███████▎  | 757/1039 [1:04:01<35:42,  7.60s/it]"
     ]
    },
    {
     "name": "stdout",
     "output_type": "stream",
     "text": [
      "[GIN] 2024/10/24 - 12:07:19 | 200 |  1.142138597s |       127.0.0.1 | POST     \"/api/generate\"\n",
      "INFO [update_slots] input truncated | n_ctx=2048 n_erase=198322 n_keep=4 n_left=2044 n_shift=1022 tid=\"138523311972352\" timestamp=1729771641\n",
      "[GIN] 2024/10/24 - 12:07:24 | 200 |  5.262612538s |       127.0.0.1 | POST     \"/api/generate\"\n"
     ]
    },
    {
     "name": "stderr",
     "output_type": "stream",
     "text": [
      "Generating responses:  73%|███████▎  | 758/1039 [1:04:08<35:26,  7.57s/it]"
     ]
    },
    {
     "name": "stdout",
     "output_type": "stream",
     "text": [
      "[GIN] 2024/10/24 - 12:07:26 | 200 |  1.237401949s |       127.0.0.1 | POST     \"/api/generate\"\n",
      "INFO [update_slots] input truncated | n_ctx=2048 n_erase=198579 n_keep=4 n_left=2044 n_shift=1022 tid=\"138523311972352\" timestamp=1729771648\n",
      "[GIN] 2024/10/24 - 12:07:31 | 200 |  5.096794502s |       127.0.0.1 | POST     \"/api/generate\"\n"
     ]
    },
    {
     "name": "stderr",
     "output_type": "stream",
     "text": [
      "Generating responses:  73%|███████▎  | 759/1039 [1:04:15<34:08,  7.31s/it]"
     ]
    },
    {
     "name": "stdout",
     "output_type": "stream",
     "text": [
      "[GIN] 2024/10/24 - 12:07:33 | 200 |  638.587168ms |       127.0.0.1 | POST     \"/api/generate\"\n",
      "INFO [update_slots] input truncated | n_ctx=2048 n_erase=198806 n_keep=4 n_left=2044 n_shift=1022 tid=\"138523311972352\" timestamp=1729771655\n",
      "[GIN] 2024/10/24 - 12:07:38 | 200 |  5.500116789s |       127.0.0.1 | POST     \"/api/generate\"\n"
     ]
    },
    {
     "name": "stderr",
     "output_type": "stream",
     "text": [
      "Generating responses:  73%|███████▎  | 760/1039 [1:04:22<33:58,  7.31s/it]"
     ]
    },
    {
     "name": "stdout",
     "output_type": "stream",
     "text": [
      "[GIN] 2024/10/24 - 12:07:40 | 200 |  779.580128ms |       127.0.0.1 | POST     \"/api/generate\"\n",
      "INFO [update_slots] input truncated | n_ctx=2048 n_erase=199041 n_keep=4 n_left=2044 n_shift=1022 tid=\"138523311972352\" timestamp=1729771662\n",
      "[GIN] 2024/10/24 - 12:07:46 | 200 |  5.297635872s |       127.0.0.1 | POST     \"/api/generate\"\n"
     ]
    },
    {
     "name": "stderr",
     "output_type": "stream",
     "text": [
      "Generating responses:  73%|███████▎  | 761/1039 [1:04:30<34:06,  7.36s/it]"
     ]
    },
    {
     "name": "stdout",
     "output_type": "stream",
     "text": [
      "[GIN] 2024/10/24 - 12:07:48 | 200 |  1.211885471s |       127.0.0.1 | POST     \"/api/generate\"\n",
      "INFO [update_slots] input truncated | n_ctx=2048 n_erase=199301 n_keep=4 n_left=2044 n_shift=1022 tid=\"138523311972352\" timestamp=1729771670\n",
      "[GIN] 2024/10/24 - 12:07:53 | 200 |  5.125116226s |       127.0.0.1 | POST     \"/api/generate\"\n"
     ]
    },
    {
     "name": "stderr",
     "output_type": "stream",
     "text": [
      "Generating responses:  73%|███████▎  | 762/1039 [1:04:37<33:18,  7.21s/it]"
     ]
    },
    {
     "name": "stdout",
     "output_type": "stream",
     "text": [
      "[GIN] 2024/10/24 - 12:07:55 | 200 |  738.556241ms |       127.0.0.1 | POST     \"/api/generate\"\n",
      "INFO [update_slots] input truncated | n_ctx=2048 n_erase=199531 n_keep=4 n_left=2044 n_shift=1022 tid=\"138523311972352\" timestamp=1729771677\n",
      "[GIN] 2024/10/24 - 12:08:00 | 200 |  5.307553697s |       127.0.0.1 | POST     \"/api/generate\"\n"
     ]
    },
    {
     "name": "stderr",
     "output_type": "stream",
     "text": [
      "Generating responses:  73%|███████▎  | 763/1039 [1:04:44<33:35,  7.30s/it]"
     ]
    },
    {
     "name": "stdout",
     "output_type": "stream",
     "text": [
      "[GIN] 2024/10/24 - 12:08:02 | 200 |  1.180703544s |       127.0.0.1 | POST     \"/api/generate\"\n",
      "INFO [update_slots] input truncated | n_ctx=2048 n_erase=199792 n_keep=4 n_left=2044 n_shift=1022 tid=\"138523311972352\" timestamp=1729771684\n",
      "[GIN] 2024/10/24 - 12:08:08 | 200 |  5.453288592s |       127.0.0.1 | POST     \"/api/generate\"\n"
     ]
    },
    {
     "name": "stderr",
     "output_type": "stream",
     "text": [
      "Generating responses:  74%|███████▎  | 764/1039 [1:04:52<33:49,  7.38s/it]"
     ]
    },
    {
     "name": "stdout",
     "output_type": "stream",
     "text": [
      "[GIN] 2024/10/24 - 12:08:10 | 200 |  1.081549314s |       127.0.0.1 | POST     \"/api/generate\"\n",
      "INFO [update_slots] input truncated | n_ctx=2048 n_erase=200057 n_keep=4 n_left=2044 n_shift=1022 tid=\"138523311972352\" timestamp=1729771692\n",
      "[GIN] 2024/10/24 - 12:08:15 | 200 |   5.53808105s |       127.0.0.1 | POST     \"/api/generate\"\n"
     ]
    },
    {
     "name": "stderr",
     "output_type": "stream",
     "text": [
      "Generating responses:  74%|███████▎  | 765/1039 [1:05:00<34:35,  7.57s/it]"
     ]
    },
    {
     "name": "stdout",
     "output_type": "stream",
     "text": [
      "[GIN] 2024/10/24 - 12:08:18 | 200 |  1.433534473s |       127.0.0.1 | POST     \"/api/generate\"\n",
      "INFO [update_slots] input truncated | n_ctx=2048 n_erase=200332 n_keep=4 n_left=2044 n_shift=1022 tid=\"138523311972352\" timestamp=1729771700\n",
      "[GIN] 2024/10/24 - 12:08:24 | 200 |  5.780336665s |       127.0.0.1 | POST     \"/api/generate\"\n"
     ]
    },
    {
     "name": "stderr",
     "output_type": "stream",
     "text": [
      "Generating responses:  74%|███████▎  | 766/1039 [1:05:09<35:54,  7.89s/it]"
     ]
    },
    {
     "name": "stdout",
     "output_type": "stream",
     "text": [
      "[GIN] 2024/10/24 - 12:08:26 | 200 |  1.798215163s |       127.0.0.1 | POST     \"/api/generate\"\n",
      "INFO [update_slots] input truncated | n_ctx=2048 n_erase=200626 n_keep=4 n_left=2044 n_shift=1022 tid=\"138523311972352\" timestamp=1729771708\n",
      "[GIN] 2024/10/24 - 12:08:32 | 200 |  5.273583463s |       127.0.0.1 | POST     \"/api/generate\"\n"
     ]
    },
    {
     "name": "stderr",
     "output_type": "stream",
     "text": [
      "Generating responses:  74%|███████▍  | 767/1039 [1:05:16<34:39,  7.65s/it]"
     ]
    },
    {
     "name": "stdout",
     "output_type": "stream",
     "text": [
      "[GIN] 2024/10/24 - 12:08:33 | 200 |  789.930665ms |       127.0.0.1 | POST     \"/api/generate\"\n",
      "INFO [update_slots] input truncated | n_ctx=2048 n_erase=200869 n_keep=4 n_left=2044 n_shift=1022 tid=\"138523311972352\" timestamp=1729771715\n",
      "[GIN] 2024/10/24 - 12:08:39 | 200 |  5.247853509s |       127.0.0.1 | POST     \"/api/generate\"\n"
     ]
    },
    {
     "name": "stderr",
     "output_type": "stream",
     "text": [
      "Generating responses:  74%|███████▍  | 768/1039 [1:05:25<37:04,  8.21s/it]"
     ]
    },
    {
     "name": "stdout",
     "output_type": "stream",
     "text": [
      "[GIN] 2024/10/24 - 12:08:43 | 200 |  3.203124189s |       127.0.0.1 | POST     \"/api/generate\"\n",
      "INFO [update_slots] input truncated | n_ctx=2048 n_erase=201247 n_keep=4 n_left=2044 n_shift=1022 tid=\"138523311972352\" timestamp=1729771725\n",
      "[GIN] 2024/10/24 - 12:08:48 | 200 |  5.132618193s |       127.0.0.1 | POST     \"/api/generate\"\n"
     ]
    },
    {
     "name": "stderr",
     "output_type": "stream",
     "text": [
      "Generating responses:  74%|███████▍  | 769/1039 [1:05:32<35:03,  7.79s/it]"
     ]
    },
    {
     "name": "stdout",
     "output_type": "stream",
     "text": [
      "[GIN] 2024/10/24 - 12:08:50 | 200 |  658.371875ms |       127.0.0.1 | POST     \"/api/generate\"\n",
      "INFO [update_slots] input truncated | n_ctx=2048 n_erase=201486 n_keep=4 n_left=2044 n_shift=1022 tid=\"138523311972352\" timestamp=1729771732\n",
      "[GIN] 2024/10/24 - 12:08:55 | 200 |  5.315994664s |       127.0.0.1 | POST     \"/api/generate\"\n"
     ]
    },
    {
     "name": "stderr",
     "output_type": "stream",
     "text": [
      "Generating responses:  74%|███████▍  | 770/1039 [1:05:40<35:10,  7.84s/it]"
     ]
    },
    {
     "name": "stdout",
     "output_type": "stream",
     "text": [
      "[GIN] 2024/10/24 - 12:08:58 | 200 |  1.611970515s |       127.0.0.1 | POST     \"/api/generate\"\n",
      "INFO [update_slots] input truncated | n_ctx=2048 n_erase=201773 n_keep=4 n_left=2044 n_shift=1022 tid=\"138523311972352\" timestamp=1729771740\n",
      "[GIN] 2024/10/24 - 12:09:03 | 200 |  5.344291011s |       127.0.0.1 | POST     \"/api/generate\"\n",
      "[GIN] 2024/10/24 - 12:09:05 | 200 |  844.675593ms |       127.0.0.1 | POST     \"/api/generate\"\n"
     ]
    },
    {
     "name": "stderr",
     "output_type": "stream",
     "text": [
      "Generating responses:  74%|███████▍  | 771/1039 [1:05:48<35:33,  7.96s/it]"
     ]
    },
    {
     "name": "stdout",
     "output_type": "stream",
     "text": [
      "[GIN] 2024/10/24 - 12:09:06 | 200 |  1.024294727s |       127.0.0.1 | POST     \"/api/generate\"\n",
      "INFO [update_slots] input truncated | n_ctx=2048 n_erase=202013 n_keep=4 n_left=2044 n_shift=1022 tid=\"138523311972352\" timestamp=1729771748\n",
      "[GIN] 2024/10/24 - 12:09:11 | 200 |  5.510951943s |       127.0.0.1 | POST     \"/api/generate\"\n",
      "[GIN] 2024/10/24 - 12:09:14 | 200 |  1.038833562s |       127.0.0.1 | POST     \"/api/generate\"\n"
     ]
    },
    {
     "name": "stderr",
     "output_type": "stream",
     "text": [
      "Generating responses:  74%|███████▍  | 772/1039 [1:05:57<36:33,  8.22s/it]"
     ]
    },
    {
     "name": "stdout",
     "output_type": "stream",
     "text": [
      "[GIN] 2024/10/24 - 12:09:15 | 200 |  1.217087718s |       127.0.0.1 | POST     \"/api/generate\"\n",
      "INFO [update_slots] input truncated | n_ctx=2048 n_erase=202264 n_keep=4 n_left=2044 n_shift=1022 tid=\"138523311972352\" timestamp=1729771757\n",
      "[GIN] 2024/10/24 - 12:09:20 | 200 |  5.357607904s |       127.0.0.1 | POST     \"/api/generate\"\n"
     ]
    },
    {
     "name": "stderr",
     "output_type": "stream",
     "text": [
      "Generating responses:  74%|███████▍  | 773/1039 [1:06:05<35:35,  8.03s/it]"
     ]
    },
    {
     "name": "stdout",
     "output_type": "stream",
     "text": [
      "[GIN] 2024/10/24 - 12:09:22 | 200 |  1.221671419s |       127.0.0.1 | POST     \"/api/generate\"\n",
      "INFO [update_slots] input truncated | n_ctx=2048 n_erase=202526 n_keep=4 n_left=2044 n_shift=1022 tid=\"138523311972352\" timestamp=1729771764\n",
      "[GIN] 2024/10/24 - 12:09:28 | 200 |   5.24451003s |       127.0.0.1 | POST     \"/api/generate\"\n",
      "[GIN] 2024/10/24 - 12:09:30 | 200 |  1.158724913s |       127.0.0.1 | POST     \"/api/generate\"\n"
     ]
    },
    {
     "name": "stderr",
     "output_type": "stream",
     "text": [
      "Generating responses:  74%|███████▍  | 774/1039 [1:06:13<35:52,  8.12s/it]"
     ]
    },
    {
     "name": "stdout",
     "output_type": "stream",
     "text": [
      "[GIN] 2024/10/24 - 12:09:31 | 200 |  918.962585ms |       127.0.0.1 | POST     \"/api/generate\"\n",
      "INFO [update_slots] input truncated | n_ctx=2048 n_erase=202791 n_keep=4 n_left=2044 n_shift=1022 tid=\"138523311972352\" timestamp=1729771773\n",
      "[GIN] 2024/10/24 - 12:09:36 | 200 |  5.474227787s |       127.0.0.1 | POST     \"/api/generate\"\n"
     ]
    },
    {
     "name": "stderr",
     "output_type": "stream",
     "text": [
      "Generating responses:  75%|███████▍  | 775/1039 [1:06:21<35:41,  8.11s/it]"
     ]
    },
    {
     "name": "stdout",
     "output_type": "stream",
     "text": [
      "[GIN] 2024/10/24 - 12:09:39 | 200 |  1.576482173s |       127.0.0.1 | POST     \"/api/generate\"\n",
      "INFO [update_slots] input truncated | n_ctx=2048 n_erase=203075 n_keep=4 n_left=2044 n_shift=1022 tid=\"138523311972352\" timestamp=1729771781\n",
      "[GIN] 2024/10/24 - 12:09:44 | 200 |  5.576841039s |       127.0.0.1 | POST     \"/api/generate\"\n"
     ]
    },
    {
     "name": "stderr",
     "output_type": "stream",
     "text": [
      "Generating responses:  75%|███████▍  | 776/1039 [1:06:29<35:20,  8.06s/it]"
     ]
    },
    {
     "name": "stdout",
     "output_type": "stream",
     "text": [
      "[GIN] 2024/10/24 - 12:09:47 | 200 |  1.330537983s |       127.0.0.1 | POST     \"/api/generate\"\n",
      "INFO [update_slots] input truncated | n_ctx=2048 n_erase=203336 n_keep=4 n_left=2044 n_shift=1022 tid=\"138523311972352\" timestamp=1729771789\n",
      "[GIN] 2024/10/24 - 12:09:52 | 200 |  5.329326182s |       127.0.0.1 | POST     \"/api/generate\"\n",
      "[GIN] 2024/10/24 - 12:09:54 | 200 |  898.540441ms |       127.0.0.1 | POST     \"/api/generate\"\n"
     ]
    },
    {
     "name": "stderr",
     "output_type": "stream",
     "text": [
      "Generating responses:  75%|███████▍  | 777/1039 [1:06:37<35:13,  8.07s/it]"
     ]
    },
    {
     "name": "stdout",
     "output_type": "stream",
     "text": [
      "[GIN] 2024/10/24 - 12:09:55 | 200 |  839.860418ms |       127.0.0.1 | POST     \"/api/generate\"\n",
      "INFO [update_slots] input truncated | n_ctx=2048 n_erase=203578 n_keep=4 n_left=2044 n_shift=1022 tid=\"138523311972352\" timestamp=1729771797\n",
      "[GIN] 2024/10/24 - 12:10:00 | 200 |  5.201405908s |       127.0.0.1 | POST     \"/api/generate\"\n"
     ]
    },
    {
     "name": "stderr",
     "output_type": "stream",
     "text": [
      "Generating responses:  75%|███████▍  | 778/1039 [1:06:44<34:14,  7.87s/it]"
     ]
    },
    {
     "name": "stdout",
     "output_type": "stream",
     "text": [
      "[GIN] 2024/10/24 - 12:10:02 | 200 |  1.174037268s |       127.0.0.1 | POST     \"/api/generate\"\n",
      "INFO [update_slots] input truncated | n_ctx=2048 n_erase=203836 n_keep=4 n_left=2044 n_shift=1022 tid=\"138523311972352\" timestamp=1729771804\n",
      "[GIN] 2024/10/24 - 12:10:07 | 200 |  5.196691349s |       127.0.0.1 | POST     \"/api/generate\"\n",
      "[GIN] 2024/10/24 - 12:10:09 | 200 |  854.214512ms |       127.0.0.1 | POST     \"/api/generate\"\n"
     ]
    },
    {
     "name": "stderr",
     "output_type": "stream",
     "text": [
      "Generating responses:  75%|███████▍  | 779/1039 [1:06:52<34:15,  7.91s/it]"
     ]
    },
    {
     "name": "stdout",
     "output_type": "stream",
     "text": [
      "[GIN] 2024/10/24 - 12:10:10 | 200 |  906.877283ms |       127.0.0.1 | POST     \"/api/generate\"\n",
      "INFO [update_slots] input truncated | n_ctx=2048 n_erase=204073 n_keep=4 n_left=2044 n_shift=1022 tid=\"138523311972352\" timestamp=1729771812\n",
      "[GIN] 2024/10/24 - 12:10:16 | 200 |  5.357264877s |       127.0.0.1 | POST     \"/api/generate\"\n"
     ]
    },
    {
     "name": "stderr",
     "output_type": "stream",
     "text": [
      "Generating responses:  75%|███████▌  | 780/1039 [1:07:00<34:05,  7.90s/it]"
     ]
    },
    {
     "name": "stdout",
     "output_type": "stream",
     "text": [
      "[GIN] 2024/10/24 - 12:10:18 | 200 |  1.491159607s |       127.0.0.1 | POST     \"/api/generate\"\n",
      "INFO [update_slots] input truncated | n_ctx=2048 n_erase=204365 n_keep=4 n_left=2044 n_shift=1022 tid=\"138523311972352\" timestamp=1729771820\n",
      "[GIN] 2024/10/24 - 12:10:23 | 200 |  5.319371879s |       127.0.0.1 | POST     \"/api/generate\"\n"
     ]
    },
    {
     "name": "stderr",
     "output_type": "stream",
     "text": [
      "Generating responses:  75%|███████▌  | 781/1039 [1:07:08<33:08,  7.71s/it]"
     ]
    },
    {
     "name": "stdout",
     "output_type": "stream",
     "text": [
      "[GIN] 2024/10/24 - 12:10:25 | 200 |  911.076204ms |       127.0.0.1 | POST     \"/api/generate\"\n",
      "INFO [update_slots] input truncated | n_ctx=2048 n_erase=204609 n_keep=4 n_left=2044 n_shift=1022 tid=\"138523311972352\" timestamp=1729771827\n",
      "[GIN] 2024/10/24 - 12:10:31 | 200 |  5.649849304s |       127.0.0.1 | POST     \"/api/generate\"\n"
     ]
    },
    {
     "name": "stderr",
     "output_type": "stream",
     "text": [
      "Generating responses:  75%|███████▌  | 782/1039 [1:07:16<33:23,  7.80s/it]"
     ]
    },
    {
     "name": "stdout",
     "output_type": "stream",
     "text": [
      "[GIN] 2024/10/24 - 12:10:33 | 200 |  1.306844693s |       127.0.0.1 | POST     \"/api/generate\"\n",
      "INFO [update_slots] input truncated | n_ctx=2048 n_erase=204874 n_keep=4 n_left=2044 n_shift=1022 tid=\"138523311972352\" timestamp=1729771836\n",
      "[GIN] 2024/10/24 - 12:10:39 | 200 |  5.264584055s |       127.0.0.1 | POST     \"/api/generate\"\n"
     ]
    },
    {
     "name": "stderr",
     "output_type": "stream",
     "text": [
      "Generating responses:  75%|███████▌  | 783/1039 [1:07:23<32:43,  7.67s/it]"
     ]
    },
    {
     "name": "stdout",
     "output_type": "stream",
     "text": [
      "[GIN] 2024/10/24 - 12:10:41 | 200 |  1.003869445s |       127.0.0.1 | POST     \"/api/generate\"\n",
      "INFO [update_slots] input truncated | n_ctx=2048 n_erase=205121 n_keep=4 n_left=2044 n_shift=1022 tid=\"138523311972352\" timestamp=1729771843\n",
      "[GIN] 2024/10/24 - 12:10:46 | 200 |  5.622355494s |       127.0.0.1 | POST     \"/api/generate\"\n"
     ]
    },
    {
     "name": "stderr",
     "output_type": "stream",
     "text": [
      "Generating responses:  75%|███████▌  | 784/1039 [1:07:31<32:46,  7.71s/it]"
     ]
    },
    {
     "name": "stdout",
     "output_type": "stream",
     "text": [
      "[GIN] 2024/10/24 - 12:10:49 | 200 |  1.121265323s |       127.0.0.1 | POST     \"/api/generate\"\n",
      "INFO [update_slots] input truncated | n_ctx=2048 n_erase=205373 n_keep=4 n_left=2044 n_shift=1022 tid=\"138523311972352\" timestamp=1729771851\n",
      "[GIN] 2024/10/24 - 12:10:54 | 200 |  5.310528965s |       127.0.0.1 | POST     \"/api/generate\"\n",
      "[GIN] 2024/10/24 - 12:10:56 | 200 |  1.333011434s |       127.0.0.1 | POST     \"/api/generate\"\n"
     ]
    },
    {
     "name": "stderr",
     "output_type": "stream",
     "text": [
      "Generating responses:  76%|███████▌  | 785/1039 [1:07:39<33:58,  8.03s/it]"
     ]
    },
    {
     "name": "stdout",
     "output_type": "stream",
     "text": [
      "[GIN] 2024/10/24 - 12:10:57 | 200 |  1.077698724s |       127.0.0.1 | POST     \"/api/generate\"\n",
      "INFO [update_slots] input truncated | n_ctx=2048 n_erase=205643 n_keep=4 n_left=2044 n_shift=1022 tid=\"138523311972352\" timestamp=1729771859\n",
      "[GIN] 2024/10/24 - 12:11:03 | 200 |   5.73459153s |       127.0.0.1 | POST     \"/api/generate\"\n"
     ]
    },
    {
     "name": "stderr",
     "output_type": "stream",
     "text": [
      "Generating responses:  76%|███████▌  | 786/1039 [1:07:49<35:08,  8.33s/it]"
     ]
    },
    {
     "name": "stdout",
     "output_type": "stream",
     "text": [
      "[GIN] 2024/10/24 - 12:11:06 | 200 |  2.240315441s |       127.0.0.1 | POST     \"/api/generate\"\n",
      "INFO [update_slots] input truncated | n_ctx=2048 n_erase=205963 n_keep=4 n_left=2044 n_shift=1022 tid=\"138523311972352\" timestamp=1729771869\n",
      "[GIN] 2024/10/24 - 12:11:12 | 200 |  5.236786602s |       127.0.0.1 | POST     \"/api/generate\"\n"
     ]
    },
    {
     "name": "stderr",
     "output_type": "stream",
     "text": [
      "Generating responses:  76%|███████▌  | 787/1039 [1:07:56<34:12,  8.15s/it]"
     ]
    },
    {
     "name": "stdout",
     "output_type": "stream",
     "text": [
      "[GIN] 2024/10/24 - 12:11:14 | 200 |  1.373642609s |       127.0.0.1 | POST     \"/api/generate\"\n",
      "INFO [update_slots] input truncated | n_ctx=2048 n_erase=206236 n_keep=4 n_left=2044 n_shift=1022 tid=\"138523311972352\" timestamp=1729771876\n",
      "[GIN] 2024/10/24 - 12:11:20 | 200 |  5.701945079s |       127.0.0.1 | POST     \"/api/generate\"\n"
     ]
    },
    {
     "name": "stderr",
     "output_type": "stream",
     "text": [
      "Generating responses:  76%|███████▌  | 788/1039 [1:08:04<34:14,  8.19s/it]"
     ]
    },
    {
     "name": "stdout",
     "output_type": "stream",
     "text": [
      "[GIN] 2024/10/24 - 12:11:22 | 200 |  1.532536622s |       127.0.0.1 | POST     \"/api/generate\"\n",
      "INFO [update_slots] input truncated | n_ctx=2048 n_erase=206514 n_keep=4 n_left=2044 n_shift=1022 tid=\"138523311972352\" timestamp=1729771885\n",
      "[GIN] 2024/10/24 - 12:11:28 | 200 |  5.265292776s |       127.0.0.1 | POST     \"/api/generate\"\n",
      "[GIN] 2024/10/24 - 12:11:29 | 200 |  761.886993ms |       127.0.0.1 | POST     \"/api/generate\"\n"
     ]
    },
    {
     "name": "stderr",
     "output_type": "stream",
     "text": [
      "Generating responses:  76%|███████▌  | 789/1039 [1:08:13<34:27,  8.27s/it]"
     ]
    },
    {
     "name": "stdout",
     "output_type": "stream",
     "text": [
      "[GIN] 2024/10/24 - 12:11:31 | 200 |   1.39911928s |       127.0.0.1 | POST     \"/api/generate\"\n",
      "INFO [update_slots] input truncated | n_ctx=2048 n_erase=206752 n_keep=4 n_left=2044 n_shift=1022 tid=\"138523311972352\" timestamp=1729771893\n",
      "[GIN] 2024/10/24 - 12:11:36 | 200 |  5.361574654s |       127.0.0.1 | POST     \"/api/generate\"\n",
      "[GIN] 2024/10/24 - 12:11:38 | 200 |   717.30246ms |       127.0.0.1 | POST     \"/api/generate\"\n"
     ]
    },
    {
     "name": "stderr",
     "output_type": "stream",
     "text": [
      "Generating responses:  76%|███████▌  | 790/1039 [1:08:21<34:33,  8.33s/it]"
     ]
    },
    {
     "name": "stdout",
     "output_type": "stream",
     "text": [
      "[GIN] 2024/10/24 - 12:11:39 | 200 |  1.293853584s |       127.0.0.1 | POST     \"/api/generate\"\n",
      "INFO [update_slots] input truncated | n_ctx=2048 n_erase=206989 n_keep=4 n_left=2044 n_shift=1022 tid=\"138523311972352\" timestamp=1729771901\n",
      "[GIN] 2024/10/24 - 12:11:45 | 200 |  5.622957455s |       127.0.0.1 | POST     \"/api/generate\"\n"
     ]
    },
    {
     "name": "stderr",
     "output_type": "stream",
     "text": [
      "Generating responses:  76%|███████▌  | 791/1039 [1:08:30<35:13,  8.52s/it]"
     ]
    },
    {
     "name": "stdout",
     "output_type": "stream",
     "text": [
      "[GIN] 2024/10/24 - 12:11:48 | 200 |  2.273613483s |       127.0.0.1 | POST     \"/api/generate\"\n",
      "INFO [update_slots] input truncated | n_ctx=2048 n_erase=207313 n_keep=4 n_left=2044 n_shift=1022 tid=\"138523311972352\" timestamp=1729771910\n",
      "[GIN] 2024/10/24 - 12:11:54 | 200 |  5.737020953s |       127.0.0.1 | POST     \"/api/generate\"\n"
     ]
    },
    {
     "name": "stderr",
     "output_type": "stream",
     "text": [
      "Generating responses:  76%|███████▌  | 792/1039 [1:08:38<34:16,  8.33s/it]"
     ]
    },
    {
     "name": "stdout",
     "output_type": "stream",
     "text": [
      "[GIN] 2024/10/24 - 12:11:56 | 200 |  1.071829613s |       127.0.0.1 | POST     \"/api/generate\"\n",
      "INFO [update_slots] input truncated | n_ctx=2048 n_erase=207564 n_keep=4 n_left=2044 n_shift=1022 tid=\"138523311972352\" timestamp=1729771918\n",
      "[GIN] 2024/10/24 - 12:12:02 | 200 |  5.499053406s |       127.0.0.1 | POST     \"/api/generate\"\n",
      "[GIN] 2024/10/24 - 12:12:04 | 200 |  1.176138988s |       127.0.0.1 | POST     \"/api/generate\"\n"
     ]
    },
    {
     "name": "stderr",
     "output_type": "stream",
     "text": [
      "Generating responses:  76%|███████▋  | 793/1039 [1:08:47<34:20,  8.38s/it]"
     ]
    },
    {
     "name": "stdout",
     "output_type": "stream",
     "text": [
      "[GIN] 2024/10/24 - 12:12:05 | 200 |  748.968038ms |       127.0.0.1 | POST     \"/api/generate\"\n",
      "INFO [update_slots] input truncated | n_ctx=2048 n_erase=207821 n_keep=4 n_left=2044 n_shift=1022 tid=\"138523311972352\" timestamp=1729771927\n",
      "[GIN] 2024/10/24 - 12:12:10 | 200 |   5.60273181s |       127.0.0.1 | POST     \"/api/generate\"\n"
     ]
    },
    {
     "name": "stderr",
     "output_type": "stream",
     "text": [
      "Generating responses:  76%|███████▋  | 794/1039 [1:08:54<33:12,  8.13s/it]"
     ]
    },
    {
     "name": "stdout",
     "output_type": "stream",
     "text": [
      "[GIN] 2024/10/24 - 12:12:12 | 200 |  884.448502ms |       127.0.0.1 | POST     \"/api/generate\"\n",
      "INFO [update_slots] input truncated | n_ctx=2048 n_erase=208057 n_keep=4 n_left=2044 n_shift=1022 tid=\"138523311972352\" timestamp=1729771934\n",
      "[GIN] 2024/10/24 - 12:12:18 | 200 |  5.378767732s |       127.0.0.1 | POST     \"/api/generate\"\n",
      "[GIN] 2024/10/24 - 12:12:20 | 200 |  1.105826211s |       127.0.0.1 | POST     \"/api/generate\"\n"
     ]
    },
    {
     "name": "stderr",
     "output_type": "stream",
     "text": [
      "Generating responses:  77%|███████▋  | 795/1039 [1:09:03<33:27,  8.23s/it]"
     ]
    },
    {
     "name": "stdout",
     "output_type": "stream",
     "text": [
      "[GIN] 2024/10/24 - 12:12:21 | 200 |  840.045854ms |       127.0.0.1 | POST     \"/api/generate\"\n",
      "INFO [update_slots] input truncated | n_ctx=2048 n_erase=208315 n_keep=4 n_left=2044 n_shift=1022 tid=\"138523311972352\" timestamp=1729771943\n",
      "[GIN] 2024/10/24 - 12:12:26 | 200 |   5.51785263s |       127.0.0.1 | POST     \"/api/generate\"\n"
     ]
    },
    {
     "name": "stderr",
     "output_type": "stream",
     "text": [
      "Generating responses:  77%|███████▋  | 796/1039 [1:09:11<32:49,  8.11s/it]"
     ]
    },
    {
     "name": "stdout",
     "output_type": "stream",
     "text": [
      "[GIN] 2024/10/24 - 12:12:28 | 200 |  1.238140737s |       127.0.0.1 | POST     \"/api/generate\"\n",
      "INFO [update_slots] input truncated | n_ctx=2048 n_erase=208574 n_keep=4 n_left=2044 n_shift=1022 tid=\"138523311972352\" timestamp=1729771951\n",
      "[GIN] 2024/10/24 - 12:12:34 | 200 |  5.459128563s |       127.0.0.1 | POST     \"/api/generate\"\n"
     ]
    },
    {
     "name": "stderr",
     "output_type": "stream",
     "text": [
      "Generating responses:  77%|███████▋  | 797/1039 [1:09:18<31:56,  7.92s/it]"
     ]
    },
    {
     "name": "stdout",
     "output_type": "stream",
     "text": [
      "[GIN] 2024/10/24 - 12:12:36 | 200 |  943.715533ms |       127.0.0.1 | POST     \"/api/generate\"\n",
      "INFO [update_slots] input truncated | n_ctx=2048 n_erase=208827 n_keep=4 n_left=2044 n_shift=1022 tid=\"138523311972352\" timestamp=1729771958\n",
      "[GIN] 2024/10/24 - 12:12:41 | 200 |  5.484848653s |       127.0.0.1 | POST     \"/api/generate\"\n"
     ]
    },
    {
     "name": "stderr",
     "output_type": "stream",
     "text": [
      "Generating responses:  77%|███████▋  | 798/1039 [1:09:26<31:21,  7.81s/it]"
     ]
    },
    {
     "name": "stdout",
     "output_type": "stream",
     "text": [
      "[GIN] 2024/10/24 - 12:12:43 | 200 |   937.97687ms |       127.0.0.1 | POST     \"/api/generate\"\n",
      "INFO [update_slots] input truncated | n_ctx=2048 n_erase=209072 n_keep=4 n_left=2044 n_shift=1022 tid=\"138523311972352\" timestamp=1729771966\n",
      "[GIN] 2024/10/24 - 12:12:49 | 200 |  5.828264413s |       127.0.0.1 | POST     \"/api/generate\"\n"
     ]
    },
    {
     "name": "stderr",
     "output_type": "stream",
     "text": [
      "Generating responses:  77%|███████▋  | 799/1039 [1:09:34<31:54,  7.98s/it]"
     ]
    },
    {
     "name": "stdout",
     "output_type": "stream",
     "text": [
      "[GIN] 2024/10/24 - 12:12:52 | 200 |  1.405916228s |       127.0.0.1 | POST     \"/api/generate\"\n",
      "INFO [update_slots] input truncated | n_ctx=2048 n_erase=209344 n_keep=4 n_left=2044 n_shift=1022 tid=\"138523311972352\" timestamp=1729771974\n",
      "[GIN] 2024/10/24 - 12:12:57 | 200 |   5.26250914s |       127.0.0.1 | POST     \"/api/generate\"\n"
     ]
    },
    {
     "name": "stderr",
     "output_type": "stream",
     "text": [
      "Generating responses:  77%|███████▋  | 800/1039 [1:09:41<30:53,  7.75s/it]"
     ]
    },
    {
     "name": "stdout",
     "output_type": "stream",
     "text": [
      "[GIN] 2024/10/24 - 12:12:59 | 200 |  898.493948ms |       127.0.0.1 | POST     \"/api/generate\"\n",
      "INFO [update_slots] input truncated | n_ctx=2048 n_erase=209584 n_keep=4 n_left=2044 n_shift=1022 tid=\"138523311972352\" timestamp=1729771981\n",
      "[GIN] 2024/10/24 - 12:13:04 | 200 |  5.214546199s |       127.0.0.1 | POST     \"/api/generate\"\n",
      "[GIN] 2024/10/24 - 12:13:07 | 200 |  1.154668104s |       127.0.0.1 | POST     \"/api/generate\"\n"
     ]
    },
    {
     "name": "stderr",
     "output_type": "stream",
     "text": [
      "Generating responses:  77%|███████▋  | 801/1039 [1:09:50<32:00,  8.07s/it]"
     ]
    },
    {
     "name": "stdout",
     "output_type": "stream",
     "text": [
      "[GIN] 2024/10/24 - 12:13:08 | 200 |  1.349922553s |       127.0.0.1 | POST     \"/api/generate\"\n",
      "INFO [update_slots] input truncated | n_ctx=2048 n_erase=209843 n_keep=4 n_left=2044 n_shift=1022 tid=\"138523311972352\" timestamp=1729771990\n",
      "[GIN] 2024/10/24 - 12:13:13 | 200 |  5.367813502s |       127.0.0.1 | POST     \"/api/generate\"\n"
     ]
    },
    {
     "name": "stderr",
     "output_type": "stream",
     "text": [
      "Generating responses:  77%|███████▋  | 802/1039 [1:09:58<31:28,  7.97s/it]"
     ]
    },
    {
     "name": "stdout",
     "output_type": "stream",
     "text": [
      "[GIN] 2024/10/24 - 12:13:16 | 200 |  1.277623714s |       127.0.0.1 | POST     \"/api/generate\"\n",
      "INFO [update_slots] input truncated | n_ctx=2048 n_erase=210107 n_keep=4 n_left=2044 n_shift=1022 tid=\"138523311972352\" timestamp=1729771998\n",
      "[GIN] 2024/10/24 - 12:13:21 | 200 |  5.407597124s |       127.0.0.1 | POST     \"/api/generate\"\n"
     ]
    },
    {
     "name": "stderr",
     "output_type": "stream",
     "text": [
      "Generating responses:  77%|███████▋  | 803/1039 [1:10:06<31:08,  7.92s/it]"
     ]
    },
    {
     "name": "stdout",
     "output_type": "stream",
     "text": [
      "[GIN] 2024/10/24 - 12:13:23 | 200 |  1.256502766s |       127.0.0.1 | POST     \"/api/generate\"\n",
      "INFO [update_slots] input truncated | n_ctx=2048 n_erase=210378 n_keep=4 n_left=2044 n_shift=1022 tid=\"138523311972352\" timestamp=1729772006\n",
      "[GIN] 2024/10/24 - 12:13:29 | 200 |  5.179130327s |       127.0.0.1 | POST     \"/api/generate\"\n",
      "[GIN] 2024/10/24 - 12:13:31 | 200 |  1.367664728s |       127.0.0.1 | POST     \"/api/generate\"\n"
     ]
    },
    {
     "name": "stderr",
     "output_type": "stream",
     "text": [
      "Generating responses:  77%|███████▋  | 804/1039 [1:10:14<31:31,  8.05s/it]"
     ]
    },
    {
     "name": "stdout",
     "output_type": "stream",
     "text": [
      "[GIN] 2024/10/24 - 12:13:32 | 200 |  709.948006ms |       127.0.0.1 | POST     \"/api/generate\"\n",
      "INFO [update_slots] input truncated | n_ctx=2048 n_erase=210652 n_keep=4 n_left=2044 n_shift=1022 tid=\"138523311972352\" timestamp=1729772014\n",
      "[GIN] 2024/10/24 - 12:13:37 | 200 |  5.457418666s |       127.0.0.1 | POST     \"/api/generate\"\n"
     ]
    },
    {
     "name": "stderr",
     "output_type": "stream",
     "text": [
      "Generating responses:  77%|███████▋  | 805/1039 [1:10:21<30:38,  7.86s/it]"
     ]
    },
    {
     "name": "stdout",
     "output_type": "stream",
     "text": [
      "[GIN] 2024/10/24 - 12:13:39 | 200 |  869.693664ms |       127.0.0.1 | POST     \"/api/generate\"\n",
      "INFO [update_slots] input truncated | n_ctx=2048 n_erase=210887 n_keep=4 n_left=2044 n_shift=1022 tid=\"138523311972352\" timestamp=1729772021\n",
      "[GIN] 2024/10/24 - 12:13:45 | 200 |  5.441471601s |       127.0.0.1 | POST     \"/api/generate\"\n"
     ]
    },
    {
     "name": "stderr",
     "output_type": "stream",
     "text": [
      "Generating responses:  78%|███████▊  | 806/1039 [1:10:29<30:23,  7.83s/it]"
     ]
    },
    {
     "name": "stdout",
     "output_type": "stream",
     "text": [
      "[GIN] 2024/10/24 - 12:13:47 | 200 |   1.23136886s |       127.0.0.1 | POST     \"/api/generate\"\n",
      "INFO [update_slots] input truncated | n_ctx=2048 n_erase=211145 n_keep=4 n_left=2044 n_shift=1022 tid=\"138523311972352\" timestamp=1729772029\n",
      "[GIN] 2024/10/24 - 12:13:52 | 200 |  5.147177264s |       127.0.0.1 | POST     \"/api/generate\"\n"
     ]
    },
    {
     "name": "stderr",
     "output_type": "stream",
     "text": [
      "Generating responses:  78%|███████▊  | 807/1039 [1:10:37<30:02,  7.77s/it]"
     ]
    },
    {
     "name": "stdout",
     "output_type": "stream",
     "text": [
      "[GIN] 2024/10/24 - 12:13:55 | 200 |   1.39940942s |       127.0.0.1 | POST     \"/api/generate\"\n",
      "INFO [update_slots] input truncated | n_ctx=2048 n_erase=211435 n_keep=4 n_left=2044 n_shift=1022 tid=\"138523311972352\" timestamp=1729772037\n",
      "[GIN] 2024/10/24 - 12:14:00 | 200 |  5.374188459s |       127.0.0.1 | POST     \"/api/generate\"\n"
     ]
    },
    {
     "name": "stderr",
     "output_type": "stream",
     "text": [
      "Generating responses:  78%|███████▊  | 808/1039 [1:10:44<29:18,  7.61s/it]"
     ]
    },
    {
     "name": "stdout",
     "output_type": "stream",
     "text": [
      "[GIN] 2024/10/24 - 12:14:02 | 200 |  777.179243ms |       127.0.0.1 | POST     \"/api/generate\"\n",
      "INFO [update_slots] input truncated | n_ctx=2048 n_erase=211667 n_keep=4 n_left=2044 n_shift=1022 tid=\"138523311972352\" timestamp=1729772044\n",
      "[GIN] 2024/10/24 - 12:14:07 | 200 |  5.389974566s |       127.0.0.1 | POST     \"/api/generate\"\n"
     ]
    },
    {
     "name": "stderr",
     "output_type": "stream",
     "text": [
      "Generating responses:  78%|███████▊  | 809/1039 [1:10:52<29:46,  7.77s/it]"
     ]
    },
    {
     "name": "stdout",
     "output_type": "stream",
     "text": [
      "[GIN] 2024/10/24 - 12:14:10 | 200 |  1.639849322s |       127.0.0.1 | POST     \"/api/generate\"\n",
      "INFO [update_slots] input truncated | n_ctx=2048 n_erase=211951 n_keep=4 n_left=2044 n_shift=1022 tid=\"138523311972352\" timestamp=1729772052\n",
      "[GIN] 2024/10/24 - 12:14:15 | 200 |   5.33621733s |       127.0.0.1 | POST     \"/api/generate\"\n"
     ]
    },
    {
     "name": "stderr",
     "output_type": "stream",
     "text": [
      "Generating responses:  78%|███████▊  | 810/1039 [1:10:59<28:58,  7.59s/it]"
     ]
    },
    {
     "name": "stdout",
     "output_type": "stream",
     "text": [
      "[GIN] 2024/10/24 - 12:14:17 | 200 |  745.130406ms |       127.0.0.1 | POST     \"/api/generate\"\n",
      "INFO [update_slots] input truncated | n_ctx=2048 n_erase=212186 n_keep=4 n_left=2044 n_shift=1022 tid=\"138523311972352\" timestamp=1729772059\n",
      "[GIN] 2024/10/24 - 12:14:23 | 200 |   5.39898028s |       127.0.0.1 | POST     \"/api/generate\"\n"
     ]
    },
    {
     "name": "stderr",
     "output_type": "stream",
     "text": [
      "Generating responses:  78%|███████▊  | 811/1039 [1:11:08<30:06,  7.92s/it]"
     ]
    },
    {
     "name": "stdout",
     "output_type": "stream",
     "text": [
      "[GIN] 2024/10/24 - 12:14:26 | 200 |  2.187286587s |       127.0.0.1 | POST     \"/api/generate\"\n",
      "INFO [update_slots] input truncated | n_ctx=2048 n_erase=212500 n_keep=4 n_left=2044 n_shift=1022 tid=\"138523311972352\" timestamp=1729772068\n",
      "[GIN] 2024/10/24 - 12:14:31 | 200 |  5.366915257s |       127.0.0.1 | POST     \"/api/generate\"\n"
     ]
    },
    {
     "name": "stderr",
     "output_type": "stream",
     "text": [
      "Generating responses:  78%|███████▊  | 812/1039 [1:11:15<29:24,  7.77s/it]"
     ]
    },
    {
     "name": "stdout",
     "output_type": "stream",
     "text": [
      "[GIN] 2024/10/24 - 12:14:33 | 200 |  941.195951ms |       127.0.0.1 | POST     \"/api/generate\"\n",
      "INFO [update_slots] input truncated | n_ctx=2048 n_erase=212752 n_keep=4 n_left=2044 n_shift=1022 tid=\"138523311972352\" timestamp=1729772075\n",
      "[GIN] 2024/10/24 - 12:14:44 | 200 | 10.308155212s |       127.0.0.1 | POST     \"/api/generate\"\n",
      "[GIN] 2024/10/24 - 12:14:46 | 200 |   1.34139912s |       127.0.0.1 | POST     \"/api/generate\"\n"
     ]
    },
    {
     "name": "stderr",
     "output_type": "stream",
     "text": [
      "Generating responses:  78%|███████▊  | 813/1039 [1:11:30<36:33,  9.71s/it]"
     ]
    },
    {
     "name": "stdout",
     "output_type": "stream",
     "text": [
      "[GIN] 2024/10/24 - 12:14:47 | 200 |  1.406773544s |       127.0.0.1 | POST     \"/api/generate\"\n",
      "INFO [update_slots] input truncated | n_ctx=2048 n_erase=213013 n_keep=4 n_left=2044 n_shift=1022 tid=\"138523311972352\" timestamp=1729772090\n",
      "[GIN] 2024/10/24 - 12:14:53 | 200 |  5.590051801s |       127.0.0.1 | POST     \"/api/generate\"\n",
      "[GIN] 2024/10/24 - 12:14:56 | 200 |  1.474369483s |       127.0.0.1 | POST     \"/api/generate\"\n"
     ]
    },
    {
     "name": "stderr",
     "output_type": "stream",
     "text": [
      "Generating responses:  78%|███████▊  | 814/1039 [1:11:39<35:48,  9.55s/it]"
     ]
    },
    {
     "name": "stdout",
     "output_type": "stream",
     "text": [
      "[GIN] 2024/10/24 - 12:14:57 | 200 |  1.008018747s |       127.0.0.1 | POST     \"/api/generate\"\n",
      "INFO [update_slots] input truncated | n_ctx=2048 n_erase=213287 n_keep=4 n_left=2044 n_shift=1022 tid=\"138523311972352\" timestamp=1729772099\n",
      "[GIN] 2024/10/24 - 12:15:02 | 200 |  5.418040799s |       127.0.0.1 | POST     \"/api/generate\"\n",
      "[GIN] 2024/10/24 - 12:15:04 | 200 |  921.069356ms |       127.0.0.1 | POST     \"/api/generate\"\n"
     ]
    },
    {
     "name": "stderr",
     "output_type": "stream",
     "text": [
      "Generating responses:  78%|███████▊  | 815/1039 [1:11:47<34:01,  9.11s/it]"
     ]
    },
    {
     "name": "stdout",
     "output_type": "stream",
     "text": [
      "[GIN] 2024/10/24 - 12:15:05 | 200 |  635.929232ms |       127.0.0.1 | POST     \"/api/generate\"\n",
      "INFO [update_slots] input truncated | n_ctx=2048 n_erase=213530 n_keep=4 n_left=2044 n_shift=1022 tid=\"138523311972352\" timestamp=1729772107\n",
      "[GIN] 2024/10/24 - 12:15:10 | 200 |  5.531864794s |       127.0.0.1 | POST     \"/api/generate\"\n"
     ]
    },
    {
     "name": "stderr",
     "output_type": "stream",
     "text": [
      "Generating responses:  79%|███████▊  | 816/1039 [1:11:55<32:26,  8.73s/it]"
     ]
    },
    {
     "name": "stdout",
     "output_type": "stream",
     "text": [
      "[GIN] 2024/10/24 - 12:15:13 | 200 |  1.193195411s |       127.0.0.1 | POST     \"/api/generate\"\n",
      "INFO [update_slots] input truncated | n_ctx=2048 n_erase=213797 n_keep=4 n_left=2044 n_shift=1022 tid=\"138523311972352\" timestamp=1729772115\n",
      "[GIN] 2024/10/24 - 12:15:18 | 200 |  5.783380579s |       127.0.0.1 | POST     \"/api/generate\"\n"
     ]
    },
    {
     "name": "stderr",
     "output_type": "stream",
     "text": [
      "Generating responses:  79%|███████▊  | 817/1039 [1:12:03<31:43,  8.57s/it]"
     ]
    },
    {
     "name": "stdout",
     "output_type": "stream",
     "text": [
      "[GIN] 2024/10/24 - 12:15:21 | 200 |  1.289164205s |       127.0.0.1 | POST     \"/api/generate\"\n",
      "INFO [update_slots] input truncated | n_ctx=2048 n_erase=214057 n_keep=4 n_left=2044 n_shift=1022 tid=\"138523311972352\" timestamp=1729772123\n",
      "[GIN] 2024/10/24 - 12:15:26 | 200 |  5.473811227s |       127.0.0.1 | POST     \"/api/generate\"\n"
     ]
    },
    {
     "name": "stderr",
     "output_type": "stream",
     "text": [
      "Generating responses:  79%|███████▊  | 818/1039 [1:12:11<30:44,  8.35s/it]"
     ]
    },
    {
     "name": "stdout",
     "output_type": "stream",
     "text": [
      "[GIN] 2024/10/24 - 12:15:29 | 200 |  1.215428043s |       127.0.0.1 | POST     \"/api/generate\"\n",
      "INFO [update_slots] input truncated | n_ctx=2048 n_erase=214317 n_keep=4 n_left=2044 n_shift=1022 tid=\"138523311972352\" timestamp=1729772131\n",
      "[GIN] 2024/10/24 - 12:15:34 | 200 |  5.432202753s |       127.0.0.1 | POST     \"/api/generate\"\n"
     ]
    },
    {
     "name": "stderr",
     "output_type": "stream",
     "text": [
      "Generating responses:  79%|███████▉  | 819/1039 [1:12:19<30:14,  8.25s/it]"
     ]
    },
    {
     "name": "stdout",
     "output_type": "stream",
     "text": [
      "[GIN] 2024/10/24 - 12:15:37 | 200 |  1.473049159s |       127.0.0.1 | POST     \"/api/generate\"\n",
      "INFO [update_slots] input truncated | n_ctx=2048 n_erase=214588 n_keep=4 n_left=2044 n_shift=1022 tid=\"138523311972352\" timestamp=1729772139\n",
      "[GIN] 2024/10/24 - 12:15:42 | 200 |  5.443416951s |       127.0.0.1 | POST     \"/api/generate\"\n"
     ]
    },
    {
     "name": "stderr",
     "output_type": "stream",
     "text": [
      "Generating responses:  79%|███████▉  | 820/1039 [1:12:27<30:00,  8.22s/it]"
     ]
    },
    {
     "name": "stdout",
     "output_type": "stream",
     "text": [
      "[GIN] 2024/10/24 - 12:15:45 | 200 |  1.604810445s |       127.0.0.1 | POST     \"/api/generate\"\n",
      "INFO [update_slots] input truncated | n_ctx=2048 n_erase=214876 n_keep=4 n_left=2044 n_shift=1022 tid=\"138523311972352\" timestamp=1729772147\n",
      "[GIN] 2024/10/24 - 12:15:50 | 200 |  5.688640592s |       127.0.0.1 | POST     \"/api/generate\"\n"
     ]
    },
    {
     "name": "stderr",
     "output_type": "stream",
     "text": [
      "Generating responses:  79%|███████▉  | 821/1039 [1:12:35<29:22,  8.09s/it]"
     ]
    },
    {
     "name": "stdout",
     "output_type": "stream",
     "text": [
      "[GIN] 2024/10/24 - 12:15:53 | 200 |  959.117033ms |       127.0.0.1 | POST     \"/api/generate\"\n",
      "INFO [update_slots] input truncated | n_ctx=2048 n_erase=215138 n_keep=4 n_left=2044 n_shift=1022 tid=\"138523311972352\" timestamp=1729772155\n",
      "[GIN] 2024/10/24 - 12:15:58 | 200 |  5.740779447s |       127.0.0.1 | POST     \"/api/generate\"\n"
     ]
    },
    {
     "name": "stderr",
     "output_type": "stream",
     "text": [
      "Generating responses:  79%|███████▉  | 822/1039 [1:12:43<29:30,  8.16s/it]"
     ]
    },
    {
     "name": "stdout",
     "output_type": "stream",
     "text": [
      "[GIN] 2024/10/24 - 12:16:01 | 200 |  1.422984491s |       127.0.0.1 | POST     \"/api/generate\"\n",
      "INFO [update_slots] input truncated | n_ctx=2048 n_erase=215416 n_keep=4 n_left=2044 n_shift=1022 tid=\"138523311972352\" timestamp=1729772163\n",
      "[GIN] 2024/10/24 - 12:16:06 | 200 |  5.437291264s |       127.0.0.1 | POST     \"/api/generate\"\n"
     ]
    },
    {
     "name": "stderr",
     "output_type": "stream",
     "text": [
      "Generating responses:  79%|███████▉  | 823/1039 [1:12:51<28:56,  8.04s/it]"
     ]
    },
    {
     "name": "stdout",
     "output_type": "stream",
     "text": [
      "[GIN] 2024/10/24 - 12:16:09 | 200 |  1.188829992s |       127.0.0.1 | POST     \"/api/generate\"\n",
      "INFO [update_slots] input truncated | n_ctx=2048 n_erase=215680 n_keep=4 n_left=2044 n_shift=1022 tid=\"138523311972352\" timestamp=1729772171\n",
      "[GIN] 2024/10/24 - 12:16:14 | 200 |  5.757311774s |       127.0.0.1 | POST     \"/api/generate\"\n"
     ]
    },
    {
     "name": "stderr",
     "output_type": "stream",
     "text": [
      "Generating responses:  79%|███████▉  | 824/1039 [1:12:59<28:40,  8.00s/it]"
     ]
    },
    {
     "name": "stdout",
     "output_type": "stream",
     "text": [
      "[GIN] 2024/10/24 - 12:16:17 | 200 |  1.043526918s |       127.0.0.1 | POST     \"/api/generate\"\n",
      "INFO [update_slots] input truncated | n_ctx=2048 n_erase=215937 n_keep=4 n_left=2044 n_shift=1022 tid=\"138523311972352\" timestamp=1729772179\n",
      "[GIN] 2024/10/24 - 12:16:22 | 200 |  5.771942603s |       127.0.0.1 | POST     \"/api/generate\"\n"
     ]
    },
    {
     "name": "stderr",
     "output_type": "stream",
     "text": [
      "Generating responses:  79%|███████▉  | 825/1039 [1:13:07<28:41,  8.04s/it]"
     ]
    },
    {
     "name": "stdout",
     "output_type": "stream",
     "text": [
      "[GIN] 2024/10/24 - 12:16:25 | 200 |  1.191124044s |       127.0.0.1 | POST     \"/api/generate\"\n",
      "INFO [update_slots] input truncated | n_ctx=2048 n_erase=216189 n_keep=4 n_left=2044 n_shift=1022 tid=\"138523311972352\" timestamp=1729772187\n",
      "[GIN] 2024/10/24 - 12:16:30 | 200 |  5.593417694s |       127.0.0.1 | POST     \"/api/generate\"\n"
     ]
    },
    {
     "name": "stderr",
     "output_type": "stream",
     "text": [
      "Generating responses:  79%|███████▉  | 826/1039 [1:13:15<28:16,  7.97s/it]"
     ]
    },
    {
     "name": "stdout",
     "output_type": "stream",
     "text": [
      "[GIN] 2024/10/24 - 12:16:32 | 200 |  1.047696884s |       127.0.0.1 | POST     \"/api/generate\"\n",
      "INFO [update_slots] input truncated | n_ctx=2048 n_erase=216440 n_keep=4 n_left=2044 n_shift=1022 tid=\"138523311972352\" timestamp=1729772195\n",
      "[GIN] 2024/10/24 - 12:16:38 | 200 |  5.707507251s |       127.0.0.1 | POST     \"/api/generate\"\n"
     ]
    },
    {
     "name": "stderr",
     "output_type": "stream",
     "text": [
      "Generating responses:  80%|███████▉  | 827/1039 [1:13:23<28:46,  8.15s/it]"
     ]
    },
    {
     "name": "stdout",
     "output_type": "stream",
     "text": [
      "[GIN] 2024/10/24 - 12:16:41 | 200 |  1.695383972s |       127.0.0.1 | POST     \"/api/generate\"\n",
      "INFO [update_slots] input truncated | n_ctx=2048 n_erase=216748 n_keep=4 n_left=2044 n_shift=1022 tid=\"138523311972352\" timestamp=1729772203\n",
      "[GIN] 2024/10/24 - 12:16:47 | 200 |  5.581523487s |       127.0.0.1 | POST     \"/api/generate\"\n"
     ]
    },
    {
     "name": "stderr",
     "output_type": "stream",
     "text": [
      "Generating responses:  80%|███████▉  | 828/1039 [1:13:31<28:31,  8.11s/it]"
     ]
    },
    {
     "name": "stdout",
     "output_type": "stream",
     "text": [
      "[GIN] 2024/10/24 - 12:16:49 | 200 |  1.299952708s |       127.0.0.1 | POST     \"/api/generate\"\n",
      "INFO [update_slots] input truncated | n_ctx=2048 n_erase=217007 n_keep=4 n_left=2044 n_shift=1022 tid=\"138523311972352\" timestamp=1729772211\n",
      "[GIN] 2024/10/24 - 12:16:55 | 200 |  5.592031515s |       127.0.0.1 | POST     \"/api/generate\"\n"
     ]
    },
    {
     "name": "stderr",
     "output_type": "stream",
     "text": [
      "Generating responses:  80%|███████▉  | 829/1039 [1:13:40<28:46,  8.22s/it]"
     ]
    },
    {
     "name": "stdout",
     "output_type": "stream",
     "text": [
      "[GIN] 2024/10/24 - 12:16:58 | 200 |  1.738464229s |       127.0.0.1 | POST     \"/api/generate\"\n",
      "INFO [update_slots] input truncated | n_ctx=2048 n_erase=217297 n_keep=4 n_left=2044 n_shift=1022 tid=\"138523311972352\" timestamp=1729772220\n",
      "[GIN] 2024/10/24 - 12:17:03 | 200 |  5.554586259s |       127.0.0.1 | POST     \"/api/generate\"\n"
     ]
    },
    {
     "name": "stderr",
     "output_type": "stream",
     "text": [
      "Generating responses:  80%|███████▉  | 830/1039 [1:13:47<28:03,  8.05s/it]"
     ]
    },
    {
     "name": "stdout",
     "output_type": "stream",
     "text": [
      "[GIN] 2024/10/24 - 12:17:05 | 200 |  886.638559ms |       127.0.0.1 | POST     \"/api/generate\"\n",
      "INFO [update_slots] input truncated | n_ctx=2048 n_erase=217549 n_keep=4 n_left=2044 n_shift=1022 tid=\"138523311972352\" timestamp=1729772227\n",
      "[GIN] 2024/10/24 - 12:17:11 | 200 |  5.711015549s |       127.0.0.1 | POST     \"/api/generate\"\n"
     ]
    },
    {
     "name": "stderr",
     "output_type": "stream",
     "text": [
      "Generating responses:  80%|███████▉  | 831/1039 [1:13:56<28:09,  8.12s/it]"
     ]
    },
    {
     "name": "stdout",
     "output_type": "stream",
     "text": [
      "[GIN] 2024/10/24 - 12:17:13 | 200 |  1.415337263s |       127.0.0.1 | POST     \"/api/generate\"\n",
      "INFO [update_slots] input truncated | n_ctx=2048 n_erase=217825 n_keep=4 n_left=2044 n_shift=1022 tid=\"138523311972352\" timestamp=1729772236\n",
      "[GIN] 2024/10/24 - 12:17:19 | 200 |  5.650538568s |       127.0.0.1 | POST     \"/api/generate\"\n"
     ]
    },
    {
     "name": "stderr",
     "output_type": "stream",
     "text": [
      "Generating responses:  80%|████████  | 832/1039 [1:14:04<28:02,  8.13s/it]"
     ]
    },
    {
     "name": "stdout",
     "output_type": "stream",
     "text": [
      "[GIN] 2024/10/24 - 12:17:22 | 200 |  1.308450387s |       127.0.0.1 | POST     \"/api/generate\"\n",
      "INFO [update_slots] input truncated | n_ctx=2048 n_erase=218091 n_keep=4 n_left=2044 n_shift=1022 tid=\"138523311972352\" timestamp=1729772244\n",
      "[GIN] 2024/10/24 - 12:17:27 | 200 |  5.379722434s |       127.0.0.1 | POST     \"/api/generate\"\n",
      "[GIN] 2024/10/24 - 12:17:29 | 200 |   826.50041ms |       127.0.0.1 | POST     \"/api/generate\"\n"
     ]
    },
    {
     "name": "stderr",
     "output_type": "stream",
     "text": [
      "Generating responses:  80%|████████  | 833/1039 [1:14:12<28:09,  8.20s/it]"
     ]
    },
    {
     "name": "stdout",
     "output_type": "stream",
     "text": [
      "[GIN] 2024/10/24 - 12:17:30 | 200 |  1.010133464s |       127.0.0.1 | POST     \"/api/generate\"\n",
      "INFO [update_slots] input truncated | n_ctx=2048 n_erase=218332 n_keep=4 n_left=2044 n_shift=1022 tid=\"138523311972352\" timestamp=1729772252\n",
      "[GIN] 2024/10/24 - 12:17:36 | 200 |  5.768357936s |       127.0.0.1 | POST     \"/api/generate\"\n"
     ]
    },
    {
     "name": "stderr",
     "output_type": "stream",
     "text": [
      "Generating responses:  80%|████████  | 834/1039 [1:14:20<27:53,  8.16s/it]"
     ]
    },
    {
     "name": "stdout",
     "output_type": "stream",
     "text": [
      "[GIN] 2024/10/24 - 12:17:38 | 200 |  1.152130431s |       127.0.0.1 | POST     \"/api/generate\"\n",
      "INFO [update_slots] input truncated | n_ctx=2048 n_erase=218603 n_keep=4 n_left=2044 n_shift=1022 tid=\"138523311972352\" timestamp=1729772260\n",
      "[GIN] 2024/10/24 - 12:17:44 | 200 |  5.791298833s |       127.0.0.1 | POST     \"/api/generate\"\n"
     ]
    },
    {
     "name": "stderr",
     "output_type": "stream",
     "text": [
      "Generating responses:  80%|████████  | 835/1039 [1:14:28<27:33,  8.11s/it]"
     ]
    },
    {
     "name": "stdout",
     "output_type": "stream",
     "text": [
      "[GIN] 2024/10/24 - 12:17:46 | 200 |  1.009103597s |       127.0.0.1 | POST     \"/api/generate\"\n",
      "INFO [update_slots] input truncated | n_ctx=2048 n_erase=218851 n_keep=4 n_left=2044 n_shift=1022 tid=\"138523311972352\" timestamp=1729772268\n",
      "[GIN] 2024/10/24 - 12:17:52 | 200 |  5.471871742s |       127.0.0.1 | POST     \"/api/generate\"\n"
     ]
    },
    {
     "name": "stderr",
     "output_type": "stream",
     "text": [
      "Generating responses:  80%|████████  | 836/1039 [1:14:35<26:32,  7.85s/it]"
     ]
    },
    {
     "name": "stdout",
     "output_type": "stream",
     "text": [
      "[GIN] 2024/10/24 - 12:17:53 | 200 |  605.636152ms |       127.0.0.1 | POST     \"/api/generate\"\n",
      "INFO [update_slots] input truncated | n_ctx=2048 n_erase=219080 n_keep=4 n_left=2044 n_shift=1022 tid=\"138523311972352\" timestamp=1729772275\n",
      "[GIN] 2024/10/24 - 12:17:59 | 200 |  5.598437062s |       127.0.0.1 | POST     \"/api/generate\"\n"
     ]
    },
    {
     "name": "stderr",
     "output_type": "stream",
     "text": [
      "Generating responses:  81%|████████  | 837/1039 [1:14:44<27:10,  8.07s/it]"
     ]
    },
    {
     "name": "stdout",
     "output_type": "stream",
     "text": [
      "[GIN] 2024/10/24 - 12:18:02 | 200 |  1.805402925s |       127.0.0.1 | POST     \"/api/generate\"\n",
      "INFO [update_slots] input truncated | n_ctx=2048 n_erase=219380 n_keep=4 n_left=2044 n_shift=1022 tid=\"138523311972352\" timestamp=1729772284\n",
      "[GIN] 2024/10/24 - 12:18:08 | 200 |  6.195735783s |       127.0.0.1 | POST     \"/api/generate\"\n"
     ]
    },
    {
     "name": "stderr",
     "output_type": "stream",
     "text": [
      "Generating responses:  81%|████████  | 838/1039 [1:14:53<27:44,  8.28s/it]"
     ]
    },
    {
     "name": "stdout",
     "output_type": "stream",
     "text": [
      "[GIN] 2024/10/24 - 12:18:11 | 200 |  1.380956651s |       127.0.0.1 | POST     \"/api/generate\"\n",
      "INFO [update_slots] input truncated | n_ctx=2048 n_erase=219646 n_keep=4 n_left=2044 n_shift=1022 tid=\"138523311972352\" timestamp=1729772293\n",
      "[GIN] 2024/10/24 - 12:18:16 | 200 |      5.60018s |       127.0.0.1 | POST     \"/api/generate\"\n"
     ]
    },
    {
     "name": "stderr",
     "output_type": "stream",
     "text": [
      "Generating responses:  81%|████████  | 839/1039 [1:15:01<27:29,  8.25s/it]"
     ]
    },
    {
     "name": "stdout",
     "output_type": "stream",
     "text": [
      "[GIN] 2024/10/24 - 12:18:19 | 200 |    1.4006634s |       127.0.0.1 | POST     \"/api/generate\"\n",
      "INFO [update_slots] input truncated | n_ctx=2048 n_erase=219920 n_keep=4 n_left=2044 n_shift=1022 tid=\"138523311972352\" timestamp=1729772301\n",
      "[GIN] 2024/10/24 - 12:18:24 | 200 |  5.472643175s |       127.0.0.1 | POST     \"/api/generate\"\n"
     ]
    },
    {
     "name": "stderr",
     "output_type": "stream",
     "text": [
      "Generating responses:  81%|████████  | 840/1039 [1:15:09<27:03,  8.16s/it]"
     ]
    },
    {
     "name": "stdout",
     "output_type": "stream",
     "text": [
      "[GIN] 2024/10/24 - 12:18:27 | 200 |  1.319270965s |       127.0.0.1 | POST     \"/api/generate\"\n",
      "INFO [update_slots] input truncated | n_ctx=2048 n_erase=220188 n_keep=4 n_left=2044 n_shift=1022 tid=\"138523311972352\" timestamp=1729772309\n",
      "[GIN] 2024/10/24 - 12:18:32 | 200 |  5.656768268s |       127.0.0.1 | POST     \"/api/generate\"\n"
     ]
    },
    {
     "name": "stderr",
     "output_type": "stream",
     "text": [
      "Generating responses:  81%|████████  | 841/1039 [1:15:17<26:53,  8.15s/it]"
     ]
    },
    {
     "name": "stdout",
     "output_type": "stream",
     "text": [
      "[GIN] 2024/10/24 - 12:18:35 | 200 |  1.306368564s |       127.0.0.1 | POST     \"/api/generate\"\n",
      "INFO [update_slots] input truncated | n_ctx=2048 n_erase=220450 n_keep=4 n_left=2044 n_shift=1022 tid=\"138523311972352\" timestamp=1729772317\n",
      "[GIN] 2024/10/24 - 12:18:41 | 200 |  5.690322746s |       127.0.0.1 | POST     \"/api/generate\"\n"
     ]
    },
    {
     "name": "stderr",
     "output_type": "stream",
     "text": [
      "Generating responses:  81%|████████  | 842/1039 [1:15:25<26:23,  8.04s/it]"
     ]
    },
    {
     "name": "stdout",
     "output_type": "stream",
     "text": [
      "[GIN] 2024/10/24 - 12:18:43 | 200 |  923.699986ms |       127.0.0.1 | POST     \"/api/generate\"\n",
      "INFO [update_slots] input truncated | n_ctx=2048 n_erase=220694 n_keep=4 n_left=2044 n_shift=1022 tid=\"138523311972352\" timestamp=1729772325\n",
      "[GIN] 2024/10/24 - 12:18:48 | 200 |  5.499836319s |       127.0.0.1 | POST     \"/api/generate\"\n"
     ]
    },
    {
     "name": "stderr",
     "output_type": "stream",
     "text": [
      "Generating responses:  81%|████████  | 843/1039 [1:15:33<26:02,  7.97s/it]"
     ]
    },
    {
     "name": "stdout",
     "output_type": "stream",
     "text": [
      "[GIN] 2024/10/24 - 12:18:51 | 200 |  1.109467648s |       127.0.0.1 | POST     \"/api/generate\"\n",
      "INFO [update_slots] input truncated | n_ctx=2048 n_erase=220951 n_keep=4 n_left=2044 n_shift=1022 tid=\"138523311972352\" timestamp=1729772333\n",
      "[GIN] 2024/10/24 - 12:18:56 | 200 |  5.701985646s |       127.0.0.1 | POST     \"/api/generate\"\n"
     ]
    },
    {
     "name": "stderr",
     "output_type": "stream",
     "text": [
      "Generating responses:  81%|████████  | 844/1039 [1:15:41<26:04,  8.02s/it]"
     ]
    },
    {
     "name": "stdout",
     "output_type": "stream",
     "text": [
      "[GIN] 2024/10/24 - 12:18:59 | 200 |   1.25296122s |       127.0.0.1 | POST     \"/api/generate\"\n",
      "INFO [update_slots] input truncated | n_ctx=2048 n_erase=221206 n_keep=4 n_left=2044 n_shift=1022 tid=\"138523311972352\" timestamp=1729772341\n",
      "[GIN] 2024/10/24 - 12:19:04 | 200 |  5.598202009s |       127.0.0.1 | POST     \"/api/generate\"\n"
     ]
    },
    {
     "name": "stderr",
     "output_type": "stream",
     "text": [
      "Generating responses:  81%|████████▏ | 845/1039 [1:15:50<26:50,  8.30s/it]"
     ]
    },
    {
     "name": "stdout",
     "output_type": "stream",
     "text": [
      "[GIN] 2024/10/24 - 12:19:08 | 200 |   2.16795302s |       127.0.0.1 | POST     \"/api/generate\"\n",
      "INFO [update_slots] input truncated | n_ctx=2048 n_erase=221522 n_keep=4 n_left=2044 n_shift=1022 tid=\"138523311972352\" timestamp=1729772350\n",
      "[GIN] 2024/10/24 - 12:19:13 | 200 |  5.594094622s |       127.0.0.1 | POST     \"/api/generate\"\n"
     ]
    },
    {
     "name": "stderr",
     "output_type": "stream",
     "text": [
      "Generating responses:  81%|████████▏ | 846/1039 [1:15:58<26:27,  8.23s/it]"
     ]
    },
    {
     "name": "stdout",
     "output_type": "stream",
     "text": [
      "[GIN] 2024/10/24 - 12:19:16 | 200 |  1.276864613s |       127.0.0.1 | POST     \"/api/generate\"\n",
      "INFO [update_slots] input truncated | n_ctx=2048 n_erase=221788 n_keep=4 n_left=2044 n_shift=1022 tid=\"138523311972352\" timestamp=1729772358\n",
      "[GIN] 2024/10/24 - 12:19:21 | 200 |  5.548772802s |       127.0.0.1 | POST     \"/api/generate\"\n"
     ]
    },
    {
     "name": "stderr",
     "output_type": "stream",
     "text": [
      "Generating responses:  82%|████████▏ | 847/1039 [1:16:06<26:17,  8.22s/it]"
     ]
    },
    {
     "name": "stdout",
     "output_type": "stream",
     "text": [
      "[GIN] 2024/10/24 - 12:19:24 | 200 |  1.457950715s |       127.0.0.1 | POST     \"/api/generate\"\n",
      "INFO [update_slots] input truncated | n_ctx=2048 n_erase=222055 n_keep=4 n_left=2044 n_shift=1022 tid=\"138523311972352\" timestamp=1729772366\n",
      "[GIN] 2024/10/24 - 12:19:29 | 200 |  5.538499879s |       127.0.0.1 | POST     \"/api/generate\"\n"
     ]
    },
    {
     "name": "stderr",
     "output_type": "stream",
     "text": [
      "Generating responses:  82%|████████▏ | 848/1039 [1:16:14<25:29,  8.01s/it]"
     ]
    },
    {
     "name": "stdout",
     "output_type": "stream",
     "text": [
      "[GIN] 2024/10/24 - 12:19:31 | 200 |    788.9271ms |       127.0.0.1 | POST     \"/api/generate\"\n",
      "INFO [update_slots] input truncated | n_ctx=2048 n_erase=222294 n_keep=4 n_left=2044 n_shift=1022 tid=\"138523311972352\" timestamp=1729772374\n",
      "[GIN] 2024/10/24 - 12:19:37 | 200 |  5.649700774s |       127.0.0.1 | POST     \"/api/generate\"\n"
     ]
    },
    {
     "name": "stderr",
     "output_type": "stream",
     "text": [
      "Generating responses:  82%|████████▏ | 849/1039 [1:16:22<25:32,  8.06s/it]"
     ]
    },
    {
     "name": "stdout",
     "output_type": "stream",
     "text": [
      "[GIN] 2024/10/24 - 12:19:40 | 200 |  1.357929489s |       127.0.0.1 | POST     \"/api/generate\"\n",
      "INFO [update_slots] input truncated | n_ctx=2048 n_erase=222564 n_keep=4 n_left=2044 n_shift=1022 tid=\"138523311972352\" timestamp=1729772382\n",
      "[GIN] 2024/10/24 - 12:19:45 | 200 |    5.7036173s |       127.0.0.1 | POST     \"/api/generate\"\n"
     ]
    },
    {
     "name": "stderr",
     "output_type": "stream",
     "text": [
      "Generating responses:  82%|████████▏ | 850/1039 [1:16:30<25:38,  8.14s/it]"
     ]
    },
    {
     "name": "stdout",
     "output_type": "stream",
     "text": [
      "[GIN] 2024/10/24 - 12:19:48 | 200 |  1.423800017s |       127.0.0.1 | POST     \"/api/generate\"\n",
      "INFO [update_slots] input truncated | n_ctx=2048 n_erase=222851 n_keep=4 n_left=2044 n_shift=1022 tid=\"138523311972352\" timestamp=1729772390\n",
      "[GIN] 2024/10/24 - 12:19:54 | 200 |  5.903191683s |       127.0.0.1 | POST     \"/api/generate\"\n"
     ]
    },
    {
     "name": "stderr",
     "output_type": "stream",
     "text": [
      "Generating responses:  82%|████████▏ | 851/1039 [1:16:38<25:35,  8.17s/it]"
     ]
    },
    {
     "name": "stdout",
     "output_type": "stream",
     "text": [
      "[GIN] 2024/10/24 - 12:19:56 | 200 |  1.127271263s |       127.0.0.1 | POST     \"/api/generate\"\n",
      "INFO [update_slots] input truncated | n_ctx=2048 n_erase=223120 n_keep=4 n_left=2044 n_shift=1022 tid=\"138523311972352\" timestamp=1729772398\n",
      "[GIN] 2024/10/24 - 12:20:02 | 200 |  5.842108102s |       127.0.0.1 | POST     \"/api/generate\"\n"
     ]
    },
    {
     "name": "stderr",
     "output_type": "stream",
     "text": [
      "Generating responses:  82%|████████▏ | 852/1039 [1:16:47<25:59,  8.34s/it]"
     ]
    },
    {
     "name": "stdout",
     "output_type": "stream",
     "text": [
      "[GIN] 2024/10/24 - 12:20:05 | 200 |  1.683633413s |       127.0.0.1 | POST     \"/api/generate\"\n",
      "INFO [update_slots] input truncated | n_ctx=2048 n_erase=223401 n_keep=4 n_left=2044 n_shift=1022 tid=\"138523311972352\" timestamp=1729772407\n",
      "[GIN] 2024/10/24 - 12:20:11 | 200 |  5.628884054s |       127.0.0.1 | POST     \"/api/generate\"\n"
     ]
    },
    {
     "name": "stderr",
     "output_type": "stream",
     "text": [
      "Generating responses:  82%|████████▏ | 853/1039 [1:16:55<25:52,  8.35s/it]"
     ]
    },
    {
     "name": "stdout",
     "output_type": "stream",
     "text": [
      "[GIN] 2024/10/24 - 12:20:13 | 200 |   1.53868153s |       127.0.0.1 | POST     \"/api/generate\"\n",
      "INFO [update_slots] input truncated | n_ctx=2048 n_erase=223685 n_keep=4 n_left=2044 n_shift=1022 tid=\"138523311972352\" timestamp=1729772416\n",
      "[GIN] 2024/10/24 - 12:20:19 | 200 |  5.624661242s |       127.0.0.1 | POST     \"/api/generate\"\n"
     ]
    },
    {
     "name": "stderr",
     "output_type": "stream",
     "text": [
      "Generating responses:  82%|████████▏ | 854/1039 [1:17:04<25:40,  8.32s/it]"
     ]
    },
    {
     "name": "stdout",
     "output_type": "stream",
     "text": [
      "[GIN] 2024/10/24 - 12:20:21 | 200 |  1.419836314s |       127.0.0.1 | POST     \"/api/generate\"\n",
      "INFO [update_slots] input truncated | n_ctx=2048 n_erase=223954 n_keep=4 n_left=2044 n_shift=1022 tid=\"138523311972352\" timestamp=1729772424\n",
      "[GIN] 2024/10/24 - 12:20:27 | 200 |  5.469783417s |       127.0.0.1 | POST     \"/api/generate\"\n",
      "[GIN] 2024/10/24 - 12:20:29 | 200 |   628.93669ms |       127.0.0.1 | POST     \"/api/generate\"\n"
     ]
    },
    {
     "name": "stderr",
     "output_type": "stream",
     "text": [
      "Generating responses:  82%|████████▏ | 855/1039 [1:17:12<25:24,  8.29s/it]"
     ]
    },
    {
     "name": "stdout",
     "output_type": "stream",
     "text": [
      "[GIN] 2024/10/24 - 12:20:30 | 200 |  886.883063ms |       127.0.0.1 | POST     \"/api/generate\"\n",
      "INFO [update_slots] input truncated | n_ctx=2048 n_erase=224180 n_keep=4 n_left=2044 n_shift=1022 tid=\"138523311972352\" timestamp=1729772432\n",
      "[GIN] 2024/10/24 - 12:20:35 | 200 |  5.560855497s |       127.0.0.1 | POST     \"/api/generate\"\n"
     ]
    },
    {
     "name": "stderr",
     "output_type": "stream",
     "text": [
      "Generating responses:  82%|████████▏ | 856/1039 [1:17:19<24:30,  8.04s/it]"
     ]
    },
    {
     "name": "stdout",
     "output_type": "stream",
     "text": [
      "[GIN] 2024/10/24 - 12:20:37 | 200 |  685.663934ms |       127.0.0.1 | POST     \"/api/generate\"\n",
      "INFO [update_slots] input truncated | n_ctx=2048 n_erase=224410 n_keep=4 n_left=2044 n_shift=1022 tid=\"138523311972352\" timestamp=1729772439\n",
      "[GIN] 2024/10/24 - 12:20:43 | 200 |  5.594255175s |       127.0.0.1 | POST     \"/api/generate\"\n"
     ]
    },
    {
     "name": "stderr",
     "output_type": "stream",
     "text": [
      "Generating responses:  82%|████████▏ | 857/1039 [1:17:27<24:04,  7.94s/it]"
     ]
    },
    {
     "name": "stdout",
     "output_type": "stream",
     "text": [
      "[GIN] 2024/10/24 - 12:20:45 | 200 |  890.751091ms |       127.0.0.1 | POST     \"/api/generate\"\n",
      "INFO [update_slots] input truncated | n_ctx=2048 n_erase=224655 n_keep=4 n_left=2044 n_shift=1022 tid=\"138523311972352\" timestamp=1729772447\n",
      "[GIN] 2024/10/24 - 12:20:51 | 200 |  6.278174554s |       127.0.0.1 | POST     \"/api/generate\"\n",
      "[GIN] 2024/10/24 - 12:20:54 | 200 |  1.141768771s |       127.0.0.1 | POST     \"/api/generate\"\n"
     ]
    },
    {
     "name": "stderr",
     "output_type": "stream",
     "text": [
      "Generating responses:  83%|████████▎ | 858/1039 [1:17:37<26:09,  8.67s/it]"
     ]
    },
    {
     "name": "stdout",
     "output_type": "stream",
     "text": [
      "[GIN] 2024/10/24 - 12:20:55 | 200 |   1.73576908s |       127.0.0.1 | POST     \"/api/generate\"\n",
      "INFO [update_slots] input truncated | n_ctx=2048 n_erase=224906 n_keep=4 n_left=2044 n_shift=1022 tid=\"138523311972352\" timestamp=1729772458\n",
      "[GIN] 2024/10/24 - 12:21:01 | 200 |   5.64597445s |       127.0.0.1 | POST     \"/api/generate\"\n"
     ]
    },
    {
     "name": "stderr",
     "output_type": "stream",
     "text": [
      "Generating responses:  83%|████████▎ | 859/1039 [1:17:46<25:31,  8.51s/it]"
     ]
    },
    {
     "name": "stdout",
     "output_type": "stream",
     "text": [
      "[GIN] 2024/10/24 - 12:21:03 | 200 |  1.262479968s |       127.0.0.1 | POST     \"/api/generate\"\n",
      "INFO [update_slots] input truncated | n_ctx=2048 n_erase=225174 n_keep=4 n_left=2044 n_shift=1022 tid=\"138523311972352\" timestamp=1729772466\n",
      "[GIN] 2024/10/24 - 12:21:09 | 200 |  5.735812986s |       127.0.0.1 | POST     \"/api/generate\"\n"
     ]
    },
    {
     "name": "stderr",
     "output_type": "stream",
     "text": [
      "Generating responses:  83%|████████▎ | 860/1039 [1:17:53<24:44,  8.29s/it]"
     ]
    },
    {
     "name": "stdout",
     "output_type": "stream",
     "text": [
      "[GIN] 2024/10/24 - 12:21:11 | 200 |  786.546651ms |       127.0.0.1 | POST     \"/api/generate\"\n",
      "INFO [update_slots] input truncated | n_ctx=2048 n_erase=225416 n_keep=4 n_left=2044 n_shift=1022 tid=\"138523311972352\" timestamp=1729772473\n",
      "[GIN] 2024/10/24 - 12:21:17 | 200 |  5.768257158s |       127.0.0.1 | POST     \"/api/generate\"\n"
     ]
    },
    {
     "name": "stderr",
     "output_type": "stream",
     "text": [
      "Generating responses:  83%|████████▎ | 861/1039 [1:18:02<24:47,  8.36s/it]"
     ]
    },
    {
     "name": "stdout",
     "output_type": "stream",
     "text": [
      "[GIN] 2024/10/24 - 12:21:20 | 200 |  1.496312808s |       127.0.0.1 | POST     \"/api/generate\"\n",
      "INFO [update_slots] input truncated | n_ctx=2048 n_erase=225694 n_keep=4 n_left=2044 n_shift=1022 tid=\"138523311972352\" timestamp=1729772482\n",
      "[GIN] 2024/10/24 - 12:21:25 | 200 |  5.622286176s |       127.0.0.1 | POST     \"/api/generate\"\n"
     ]
    },
    {
     "name": "stderr",
     "output_type": "stream",
     "text": [
      "Generating responses:  83%|████████▎ | 862/1039 [1:18:11<25:34,  8.67s/it]"
     ]
    },
    {
     "name": "stdout",
     "output_type": "stream",
     "text": [
      "[GIN] 2024/10/24 - 12:21:29 | 200 |  2.548951465s |       127.0.0.1 | POST     \"/api/generate\"\n",
      "INFO [update_slots] input truncated | n_ctx=2048 n_erase=226032 n_keep=4 n_left=2044 n_shift=1022 tid=\"138523311972352\" timestamp=1729772491\n",
      "[GIN] 2024/10/24 - 12:21:35 | 200 |  5.709434646s |       127.0.0.1 | POST     \"/api/generate\"\n",
      "[GIN] 2024/10/24 - 12:21:37 | 200 |  985.626067ms |       127.0.0.1 | POST     \"/api/generate\"\n"
     ]
    },
    {
     "name": "stderr",
     "output_type": "stream",
     "text": [
      "Generating responses:  83%|████████▎ | 863/1039 [1:18:20<25:55,  8.84s/it]"
     ]
    },
    {
     "name": "stdout",
     "output_type": "stream",
     "text": [
      "[GIN] 2024/10/24 - 12:21:38 | 200 |  1.325968085s |       127.0.0.1 | POST     \"/api/generate\"\n",
      "INFO [update_slots] input truncated | n_ctx=2048 n_erase=226281 n_keep=4 n_left=2044 n_shift=1022 tid=\"138523311972352\" timestamp=1729772501\n",
      "[GIN] 2024/10/24 - 12:21:44 | 200 |  5.628044174s |       127.0.0.1 | POST     \"/api/generate\"\n",
      "[GIN] 2024/10/24 - 12:21:46 | 200 |  1.135167728s |       127.0.0.1 | POST     \"/api/generate\"\n"
     ]
    },
    {
     "name": "stderr",
     "output_type": "stream",
     "text": [
      "Generating responses:  83%|████████▎ | 864/1039 [1:18:30<25:58,  8.90s/it]"
     ]
    },
    {
     "name": "stdout",
     "output_type": "stream",
     "text": [
      "[GIN] 2024/10/24 - 12:21:47 | 200 |  1.056720862s |       127.0.0.1 | POST     \"/api/generate\"\n",
      "INFO [update_slots] input truncated | n_ctx=2048 n_erase=226535 n_keep=4 n_left=2044 n_shift=1022 tid=\"138523311972352\" timestamp=1729772510\n",
      "[GIN] 2024/10/24 - 12:21:53 | 200 |  5.795475966s |       127.0.0.1 | POST     \"/api/generate\"\n"
     ]
    },
    {
     "name": "stderr",
     "output_type": "stream",
     "text": [
      "Generating responses:  83%|████████▎ | 865/1039 [1:18:38<25:18,  8.72s/it]"
     ]
    },
    {
     "name": "stdout",
     "output_type": "stream",
     "text": [
      "[GIN] 2024/10/24 - 12:21:56 | 200 |  1.283095784s |       127.0.0.1 | POST     \"/api/generate\"\n",
      "INFO [update_slots] input truncated | n_ctx=2048 n_erase=226801 n_keep=4 n_left=2044 n_shift=1022 tid=\"138523311972352\" timestamp=1729772518\n",
      "[GIN] 2024/10/24 - 12:22:01 | 200 |  5.820276453s |       127.0.0.1 | POST     \"/api/generate\"\n"
     ]
    },
    {
     "name": "stderr",
     "output_type": "stream",
     "text": [
      "Generating responses:  83%|████████▎ | 866/1039 [1:18:46<24:29,  8.50s/it]"
     ]
    },
    {
     "name": "stdout",
     "output_type": "stream",
     "text": [
      "[GIN] 2024/10/24 - 12:22:04 | 200 |  878.599036ms |       127.0.0.1 | POST     \"/api/generate\"\n",
      "INFO [update_slots] input truncated | n_ctx=2048 n_erase=227040 n_keep=4 n_left=2044 n_shift=1022 tid=\"138523311972352\" timestamp=1729772526\n",
      "[GIN] 2024/10/24 - 12:22:09 | 200 |  5.561569298s |       127.0.0.1 | POST     \"/api/generate\"\n",
      "[GIN] 2024/10/24 - 12:22:11 | 200 |  859.383318ms |       127.0.0.1 | POST     \"/api/generate\"\n"
     ]
    },
    {
     "name": "stderr",
     "output_type": "stream",
     "text": [
      "Generating responses:  83%|████████▎ | 867/1039 [1:18:54<24:25,  8.52s/it]"
     ]
    },
    {
     "name": "stdout",
     "output_type": "stream",
     "text": [
      "[GIN] 2024/10/24 - 12:22:12 | 200 |  918.813381ms |       127.0.0.1 | POST     \"/api/generate\"\n",
      "INFO [update_slots] input truncated | n_ctx=2048 n_erase=227284 n_keep=4 n_left=2044 n_shift=1022 tid=\"138523311972352\" timestamp=1729772535\n",
      "[GIN] 2024/10/24 - 12:22:18 | 200 |  5.789353711s |       127.0.0.1 | POST     \"/api/generate\"\n",
      "[GIN] 2024/10/24 - 12:22:20 | 200 |  720.518838ms |       127.0.0.1 | POST     \"/api/generate\"\n"
     ]
    },
    {
     "name": "stderr",
     "output_type": "stream",
     "text": [
      "Generating responses:  84%|████████▎ | 868/1039 [1:19:03<24:24,  8.57s/it]"
     ]
    },
    {
     "name": "stdout",
     "output_type": "stream",
     "text": [
      "[GIN] 2024/10/24 - 12:22:21 | 200 |  893.946119ms |       127.0.0.1 | POST     \"/api/generate\"\n",
      "INFO [update_slots] input truncated | n_ctx=2048 n_erase=227513 n_keep=4 n_left=2044 n_shift=1022 tid=\"138523311972352\" timestamp=1729772543\n",
      "[GIN] 2024/10/24 - 12:22:27 | 200 |  5.680754105s |       127.0.0.1 | POST     \"/api/generate\"\n"
     ]
    },
    {
     "name": "stderr",
     "output_type": "stream",
     "text": [
      "Generating responses:  84%|████████▎ | 869/1039 [1:19:11<23:42,  8.37s/it]"
     ]
    },
    {
     "name": "stdout",
     "output_type": "stream",
     "text": [
      "[GIN] 2024/10/24 - 12:22:29 | 200 |  987.356586ms |       127.0.0.1 | POST     \"/api/generate\"\n",
      "INFO [update_slots] input truncated | n_ctx=2048 n_erase=227756 n_keep=4 n_left=2044 n_shift=1022 tid=\"138523311972352\" timestamp=1729772551\n",
      "[GIN] 2024/10/24 - 12:22:35 | 200 |   5.75843676s |       127.0.0.1 | POST     \"/api/generate\"\n"
     ]
    },
    {
     "name": "stderr",
     "output_type": "stream",
     "text": [
      "Generating responses:  84%|████████▎ | 870/1039 [1:19:19<23:06,  8.20s/it]"
     ]
    },
    {
     "name": "stdout",
     "output_type": "stream",
     "text": [
      "[GIN] 2024/10/24 - 12:22:37 | 200 |  813.606179ms |       127.0.0.1 | POST     \"/api/generate\"\n",
      "INFO [update_slots] input truncated | n_ctx=2048 n_erase=228000 n_keep=4 n_left=2044 n_shift=1022 tid=\"138523311972352\" timestamp=1729772559\n",
      "[GIN] 2024/10/24 - 12:22:42 | 200 |   5.87349908s |       127.0.0.1 | POST     \"/api/generate\"\n"
     ]
    },
    {
     "name": "stderr",
     "output_type": "stream",
     "text": [
      "Generating responses:  84%|████████▍ | 871/1039 [1:19:27<22:52,  8.17s/it]"
     ]
    },
    {
     "name": "stdout",
     "output_type": "stream",
     "text": [
      "[GIN] 2024/10/24 - 12:22:45 | 200 |  975.813368ms |       127.0.0.1 | POST     \"/api/generate\"\n",
      "INFO [update_slots] input truncated | n_ctx=2048 n_erase=228247 n_keep=4 n_left=2044 n_shift=1022 tid=\"138523311972352\" timestamp=1729772567\n",
      "[GIN] 2024/10/24 - 12:22:50 | 200 |  5.764400409s |       127.0.0.1 | POST     \"/api/generate\"\n"
     ]
    },
    {
     "name": "stderr",
     "output_type": "stream",
     "text": [
      "Generating responses:  84%|████████▍ | 872/1039 [1:19:35<22:27,  8.07s/it]"
     ]
    },
    {
     "name": "stdout",
     "output_type": "stream",
     "text": [
      "[GIN] 2024/10/24 - 12:22:53 | 200 |  771.431491ms |       127.0.0.1 | POST     \"/api/generate\"\n",
      "INFO [update_slots] input truncated | n_ctx=2048 n_erase=228483 n_keep=4 n_left=2044 n_shift=1022 tid=\"138523311972352\" timestamp=1729772575\n",
      "[GIN] 2024/10/24 - 12:22:58 | 200 |  5.734435909s |       127.0.0.1 | POST     \"/api/generate\"\n"
     ]
    },
    {
     "name": "stderr",
     "output_type": "stream",
     "text": [
      "Generating responses:  84%|████████▍ | 873/1039 [1:19:43<22:08,  8.00s/it]"
     ]
    },
    {
     "name": "stdout",
     "output_type": "stream",
     "text": [
      "[GIN] 2024/10/24 - 12:23:00 | 200 |  843.205486ms |       127.0.0.1 | POST     \"/api/generate\"\n",
      "INFO [update_slots] input truncated | n_ctx=2048 n_erase=228726 n_keep=4 n_left=2044 n_shift=1022 tid=\"138523311972352\" timestamp=1729772583\n",
      "[GIN] 2024/10/24 - 12:23:06 | 200 |  5.755781392s |       127.0.0.1 | POST     \"/api/generate\"\n"
     ]
    },
    {
     "name": "stderr",
     "output_type": "stream",
     "text": [
      "Generating responses:  84%|████████▍ | 874/1039 [1:19:51<22:21,  8.13s/it]"
     ]
    },
    {
     "name": "stdout",
     "output_type": "stream",
     "text": [
      "[GIN] 2024/10/24 - 12:23:09 | 200 |  1.399011267s |       127.0.0.1 | POST     \"/api/generate\"\n",
      "INFO [update_slots] input truncated | n_ctx=2048 n_erase=229003 n_keep=4 n_left=2044 n_shift=1022 tid=\"138523311972352\" timestamp=1729772591\n",
      "[GIN] 2024/10/24 - 12:23:15 | 200 |  5.955556443s |       127.0.0.1 | POST     \"/api/generate\"\n"
     ]
    },
    {
     "name": "stderr",
     "output_type": "stream",
     "text": [
      "Generating responses:  84%|████████▍ | 875/1039 [1:19:59<22:14,  8.14s/it]"
     ]
    },
    {
     "name": "stdout",
     "output_type": "stream",
     "text": [
      "[GIN] 2024/10/24 - 12:23:17 | 200 |  946.192641ms |       127.0.0.1 | POST     \"/api/generate\"\n",
      "INFO [update_slots] input truncated | n_ctx=2048 n_erase=229262 n_keep=4 n_left=2044 n_shift=1022 tid=\"138523311972352\" timestamp=1729772599\n",
      "[GIN] 2024/10/24 - 12:23:23 | 200 |  5.967207938s |       127.0.0.1 | POST     \"/api/generate\"\n"
     ]
    },
    {
     "name": "stderr",
     "output_type": "stream",
     "text": [
      "Generating responses:  84%|████████▍ | 876/1039 [1:20:08<22:33,  8.31s/it]"
     ]
    },
    {
     "name": "stdout",
     "output_type": "stream",
     "text": [
      "[GIN] 2024/10/24 - 12:23:26 | 200 |  1.435401237s |       127.0.0.1 | POST     \"/api/generate\"\n",
      "INFO [update_slots] input truncated | n_ctx=2048 n_erase=229539 n_keep=4 n_left=2044 n_shift=1022 tid=\"138523311972352\" timestamp=1729772608\n",
      "[GIN] 2024/10/24 - 12:23:31 | 200 |  5.772929596s |       127.0.0.1 | POST     \"/api/generate\"\n"
     ]
    },
    {
     "name": "stderr",
     "output_type": "stream",
     "text": [
      "Generating responses:  84%|████████▍ | 877/1039 [1:20:17<22:50,  8.46s/it]"
     ]
    },
    {
     "name": "stdout",
     "output_type": "stream",
     "text": [
      "[GIN] 2024/10/24 - 12:23:34 | 200 |  1.779768972s |       127.0.0.1 | POST     \"/api/generate\"\n",
      "INFO [update_slots] input truncated | n_ctx=2048 n_erase=229825 n_keep=4 n_left=2044 n_shift=1022 tid=\"138523311972352\" timestamp=1729772617\n",
      "[GIN] 2024/10/24 - 12:23:40 | 200 |  5.808456124s |       127.0.0.1 | POST     \"/api/generate\"\n"
     ]
    },
    {
     "name": "stderr",
     "output_type": "stream",
     "text": [
      "Generating responses:  85%|████████▍ | 878/1039 [1:20:25<22:40,  8.45s/it]"
     ]
    },
    {
     "name": "stdout",
     "output_type": "stream",
     "text": [
      "[GIN] 2024/10/24 - 12:23:43 | 200 |  1.351414239s |       127.0.0.1 | POST     \"/api/generate\"\n",
      "INFO [update_slots] input truncated | n_ctx=2048 n_erase=230101 n_keep=4 n_left=2044 n_shift=1022 tid=\"138523311972352\" timestamp=1729772625\n",
      "[GIN] 2024/10/24 - 12:23:49 | 200 |  5.769058802s |       127.0.0.1 | POST     \"/api/generate\"\n",
      "[GIN] 2024/10/24 - 12:23:51 | 200 |  661.313167ms |       127.0.0.1 | POST     \"/api/generate\"\n"
     ]
    },
    {
     "name": "stderr",
     "output_type": "stream",
     "text": [
      "Generating responses:  85%|████████▍ | 879/1039 [1:20:34<22:43,  8.52s/it]"
     ]
    },
    {
     "name": "stdout",
     "output_type": "stream",
     "text": [
      "[GIN] 2024/10/24 - 12:23:52 | 200 |  971.622682ms |       127.0.0.1 | POST     \"/api/generate\"\n",
      "INFO [update_slots] input truncated | n_ctx=2048 n_erase=230329 n_keep=4 n_left=2044 n_shift=1022 tid=\"138523311972352\" timestamp=1729772634\n",
      "[GIN] 2024/10/24 - 12:23:57 | 200 |  5.533449593s |       127.0.0.1 | POST     \"/api/generate\"\n"
     ]
    },
    {
     "name": "stderr",
     "output_type": "stream",
     "text": [
      "Generating responses:  85%|████████▍ | 880/1039 [1:20:42<22:09,  8.36s/it]"
     ]
    },
    {
     "name": "stdout",
     "output_type": "stream",
     "text": [
      "[GIN] 2024/10/24 - 12:24:00 | 200 |  1.151092362s |       127.0.0.1 | POST     \"/api/generate\"\n",
      "INFO [update_slots] input truncated | n_ctx=2048 n_erase=230592 n_keep=4 n_left=2044 n_shift=1022 tid=\"138523311972352\" timestamp=1729772642\n",
      "[GIN] 2024/10/24 - 12:24:05 | 200 |  5.812668426s |       127.0.0.1 | POST     \"/api/generate\"\n"
     ]
    },
    {
     "name": "stderr",
     "output_type": "stream",
     "text": [
      "Generating responses:  85%|████████▍ | 881/1039 [1:20:51<22:42,  8.63s/it]"
     ]
    },
    {
     "name": "stdout",
     "output_type": "stream",
     "text": [
      "[GIN] 2024/10/24 - 12:24:09 | 200 |   2.16599712s |       127.0.0.1 | POST     \"/api/generate\"\n",
      "INFO [update_slots] input truncated | n_ctx=2048 n_erase=230908 n_keep=4 n_left=2044 n_shift=1022 tid=\"138523311972352\" timestamp=1729772651\n",
      "[GIN] 2024/10/24 - 12:24:15 | 200 |  5.887298959s |       127.0.0.1 | POST     \"/api/generate\"\n",
      "[GIN] 2024/10/24 - 12:24:17 | 200 |  1.351963908s |       127.0.0.1 | POST     \"/api/generate\"\n"
     ]
    },
    {
     "name": "stderr",
     "output_type": "stream",
     "text": [
      "Generating responses:  85%|████████▍ | 882/1039 [1:21:01<23:28,  8.97s/it]"
     ]
    },
    {
     "name": "stdout",
     "output_type": "stream",
     "text": [
      "[GIN] 2024/10/24 - 12:24:19 | 200 |  1.241663823s |       127.0.0.1 | POST     \"/api/generate\"\n",
      "INFO [update_slots] input truncated | n_ctx=2048 n_erase=231184 n_keep=4 n_left=2044 n_shift=1022 tid=\"138523311972352\" timestamp=1729772661\n",
      "[GIN] 2024/10/24 - 12:24:25 | 200 |  6.129306665s |       127.0.0.1 | POST     \"/api/generate\"\n"
     ]
    },
    {
     "name": "stderr",
     "output_type": "stream",
     "text": [
      "Generating responses:  85%|████████▍ | 883/1039 [1:21:09<23:02,  8.86s/it]"
     ]
    },
    {
     "name": "stdout",
     "output_type": "stream",
     "text": [
      "[GIN] 2024/10/24 - 12:24:27 | 200 |  1.170167599s |       127.0.0.1 | POST     \"/api/generate\"\n",
      "INFO [update_slots] input truncated | n_ctx=2048 n_erase=231456 n_keep=4 n_left=2044 n_shift=1022 tid=\"138523311972352\" timestamp=1729772670\n",
      "[GIN] 2024/10/24 - 12:24:33 | 200 |  5.865488783s |       127.0.0.1 | POST     \"/api/generate\"\n"
     ]
    },
    {
     "name": "stderr",
     "output_type": "stream",
     "text": [
      "Generating responses:  85%|████████▌ | 884/1039 [1:21:17<22:16,  8.62s/it]"
     ]
    },
    {
     "name": "stdout",
     "output_type": "stream",
     "text": [
      "[GIN] 2024/10/24 - 12:24:35 | 200 |  925.602145ms |       127.0.0.1 | POST     \"/api/generate\"\n",
      "INFO [update_slots] input truncated | n_ctx=2048 n_erase=231698 n_keep=4 n_left=2044 n_shift=1022 tid=\"138523311972352\" timestamp=1729772678\n",
      "[GIN] 2024/10/24 - 12:24:41 | 200 |    5.6852371s |       127.0.0.1 | POST     \"/api/generate\"\n"
     ]
    },
    {
     "name": "stderr",
     "output_type": "stream",
     "text": [
      "Generating responses:  85%|████████▌ | 885/1039 [1:21:25<21:27,  8.36s/it]"
     ]
    },
    {
     "name": "stdout",
     "output_type": "stream",
     "text": [
      "[GIN] 2024/10/24 - 12:24:43 | 200 |  773.016014ms |       127.0.0.1 | POST     \"/api/generate\"\n",
      "INFO [update_slots] input truncated | n_ctx=2048 n_erase=231941 n_keep=4 n_left=2044 n_shift=1022 tid=\"138523311972352\" timestamp=1729772685\n",
      "[GIN] 2024/10/24 - 12:24:49 | 200 |  5.763897153s |       127.0.0.1 | POST     \"/api/generate\"\n",
      "[GIN] 2024/10/24 - 12:24:51 | 200 |  1.019200597s |       127.0.0.1 | POST     \"/api/generate\"\n"
     ]
    },
    {
     "name": "stderr",
     "output_type": "stream",
     "text": [
      "Generating responses:  85%|████████▌ | 886/1039 [1:21:35<22:25,  8.80s/it]"
     ]
    },
    {
     "name": "stdout",
     "output_type": "stream",
     "text": [
      "[GIN] 2024/10/24 - 12:24:53 | 200 |    1.6998387s |       127.0.0.1 | POST     \"/api/generate\"\n",
      "INFO [update_slots] input truncated | n_ctx=2048 n_erase=232189 n_keep=4 n_left=2044 n_shift=1022 tid=\"138523311972352\" timestamp=1729772695\n",
      "[GIN] 2024/10/24 - 12:24:59 | 200 |  5.774269297s |       127.0.0.1 | POST     \"/api/generate\"\n"
     ]
    },
    {
     "name": "stderr",
     "output_type": "stream",
     "text": [
      "Generating responses:  85%|████████▌ | 887/1039 [1:21:43<21:41,  8.56s/it]"
     ]
    },
    {
     "name": "stdout",
     "output_type": "stream",
     "text": [
      "[GIN] 2024/10/24 - 12:25:01 | 200 |  927.304231ms |       127.0.0.1 | POST     \"/api/generate\"\n",
      "INFO [update_slots] input truncated | n_ctx=2048 n_erase=232439 n_keep=4 n_left=2044 n_shift=1022 tid=\"138523311972352\" timestamp=1729772703\n",
      "[GIN] 2024/10/24 - 12:25:07 | 200 |  5.876367437s |       127.0.0.1 | POST     \"/api/generate\"\n"
     ]
    },
    {
     "name": "stderr",
     "output_type": "stream",
     "text": [
      "Generating responses:  85%|████████▌ | 888/1039 [1:21:52<21:37,  8.60s/it]"
     ]
    },
    {
     "name": "stdout",
     "output_type": "stream",
     "text": [
      "[GIN] 2024/10/24 - 12:25:09 | 200 |  1.505541369s |       127.0.0.1 | POST     \"/api/generate\"\n",
      "INFO [update_slots] input truncated | n_ctx=2048 n_erase=232719 n_keep=4 n_left=2044 n_shift=1022 tid=\"138523311972352\" timestamp=1729772712\n",
      "[GIN] 2024/10/24 - 12:25:21 | 200 | 11.242676726s |       127.0.0.1 | POST     \"/api/generate\"\n",
      "[GIN] 2024/10/24 - 12:25:23 | 200 |  1.114486466s |       127.0.0.1 | POST     \"/api/generate\"\n"
     ]
    },
    {
     "name": "stderr",
     "output_type": "stream",
     "text": [
      "Generating responses:  86%|████████▌ | 889/1039 [1:22:07<26:24, 10.56s/it]"
     ]
    },
    {
     "name": "stdout",
     "output_type": "stream",
     "text": [
      "[GIN] 2024/10/24 - 12:25:25 | 200 |  1.432838519s |       127.0.0.1 | POST     \"/api/generate\"\n",
      "INFO [update_slots] input truncated | n_ctx=2048 n_erase=232964 n_keep=4 n_left=2044 n_shift=1022 tid=\"138523311972352\" timestamp=1729772727\n",
      "[GIN] 2024/10/24 - 12:25:31 | 200 |    5.8914397s |       127.0.0.1 | POST     \"/api/generate\"\n",
      "[GIN] 2024/10/24 - 12:25:33 | 200 |  1.146707643s |       127.0.0.1 | POST     \"/api/generate\"\n"
     ]
    },
    {
     "name": "stderr",
     "output_type": "stream",
     "text": [
      "Generating responses:  86%|████████▌ | 890/1039 [1:22:17<25:51, 10.41s/it]"
     ]
    },
    {
     "name": "stdout",
     "output_type": "stream",
     "text": [
      "[GIN] 2024/10/24 - 12:25:35 | 200 |  1.729875851s |       127.0.0.1 | POST     \"/api/generate\"\n",
      "INFO [update_slots] input truncated | n_ctx=2048 n_erase=233224 n_keep=4 n_left=2044 n_shift=1022 tid=\"138523311972352\" timestamp=1729772737\n",
      "[GIN] 2024/10/24 - 12:25:41 | 200 |  5.883568384s |       127.0.0.1 | POST     \"/api/generate\"\n"
     ]
    },
    {
     "name": "stderr",
     "output_type": "stream",
     "text": [
      "Generating responses:  86%|████████▌ | 891/1039 [1:22:26<24:46, 10.05s/it]"
     ]
    },
    {
     "name": "stdout",
     "output_type": "stream",
     "text": [
      "[GIN] 2024/10/24 - 12:25:44 | 200 |   2.01800773s |       127.0.0.1 | POST     \"/api/generate\"\n",
      "INFO [update_slots] input truncated | n_ctx=2048 n_erase=233534 n_keep=4 n_left=2044 n_shift=1022 tid=\"138523311972352\" timestamp=1729772746\n",
      "[GIN] 2024/10/24 - 12:25:50 | 200 |  5.839722179s |       127.0.0.1 | POST     \"/api/generate\"\n"
     ]
    },
    {
     "name": "stderr",
     "output_type": "stream",
     "text": [
      "Generating responses:  86%|████████▌ | 892/1039 [1:22:35<23:44,  9.69s/it]"
     ]
    },
    {
     "name": "stdout",
     "output_type": "stream",
     "text": [
      "[GIN] 2024/10/24 - 12:25:53 | 200 |  1.689174661s |       127.0.0.1 | POST     \"/api/generate\"\n",
      "INFO [update_slots] input truncated | n_ctx=2048 n_erase=233829 n_keep=4 n_left=2044 n_shift=1022 tid=\"138523311972352\" timestamp=1729772755\n",
      "[GIN] 2024/10/24 - 12:25:59 | 200 |  5.792410708s |       127.0.0.1 | POST     \"/api/generate\"\n"
     ]
    },
    {
     "name": "stderr",
     "output_type": "stream",
     "text": [
      "Generating responses:  86%|████████▌ | 893/1039 [1:22:44<22:46,  9.36s/it]"
     ]
    },
    {
     "name": "stdout",
     "output_type": "stream",
     "text": [
      "[GIN] 2024/10/24 - 12:26:01 | 200 |  1.465246503s |       127.0.0.1 | POST     \"/api/generate\"\n",
      "INFO [update_slots] input truncated | n_ctx=2048 n_erase=234107 n_keep=4 n_left=2044 n_shift=1022 tid=\"138523311972352\" timestamp=1729772764\n",
      "[GIN] 2024/10/24 - 12:26:07 | 200 |  5.897328598s |       127.0.0.1 | POST     \"/api/generate\"\n"
     ]
    },
    {
     "name": "stderr",
     "output_type": "stream",
     "text": [
      "Generating responses:  86%|████████▌ | 894/1039 [1:22:52<21:43,  8.99s/it]"
     ]
    },
    {
     "name": "stdout",
     "output_type": "stream",
     "text": [
      "[GIN] 2024/10/24 - 12:26:09 | 200 |  908.240688ms |       127.0.0.1 | POST     \"/api/generate\"\n",
      "INFO [update_slots] input truncated | n_ctx=2048 n_erase=234349 n_keep=4 n_left=2044 n_shift=1022 tid=\"138523311972352\" timestamp=1729772772\n",
      "[GIN] 2024/10/24 - 12:26:15 | 200 |  5.917672004s |       127.0.0.1 | POST     \"/api/generate\"\n"
     ]
    },
    {
     "name": "stderr",
     "output_type": "stream",
     "text": [
      "Generating responses:  86%|████████▌ | 895/1039 [1:23:00<20:57,  8.73s/it]"
     ]
    },
    {
     "name": "stdout",
     "output_type": "stream",
     "text": [
      "[GIN] 2024/10/24 - 12:26:18 | 200 |   911.39533ms |       127.0.0.1 | POST     \"/api/generate\"\n",
      "INFO [update_slots] input truncated | n_ctx=2048 n_erase=234593 n_keep=4 n_left=2044 n_shift=1022 tid=\"138523311972352\" timestamp=1729772780\n",
      "[GIN] 2024/10/24 - 12:26:23 | 200 |  5.757557802s |       127.0.0.1 | POST     \"/api/generate\"\n",
      "[GIN] 2024/10/24 - 12:26:25 | 200 |  775.051513ms |       127.0.0.1 | POST     \"/api/generate\"\n"
     ]
    },
    {
     "name": "stderr",
     "output_type": "stream",
     "text": [
      "Generating responses:  86%|████████▌ | 896/1039 [1:23:09<21:15,  8.92s/it]"
     ]
    },
    {
     "name": "stdout",
     "output_type": "stream",
     "text": [
      "[GIN] 2024/10/24 - 12:26:27 | 200 |  1.515145579s |       127.0.0.1 | POST     \"/api/generate\"\n",
      "INFO [update_slots] input truncated | n_ctx=2048 n_erase=234831 n_keep=4 n_left=2044 n_shift=1022 tid=\"138523311972352\" timestamp=1729772789\n",
      "[GIN] 2024/10/24 - 12:26:33 | 200 |  5.996260312s |       127.0.0.1 | POST     \"/api/generate\"\n"
     ]
    },
    {
     "name": "stderr",
     "output_type": "stream",
     "text": [
      "Generating responses:  86%|████████▋ | 897/1039 [1:23:18<20:44,  8.77s/it]"
     ]
    },
    {
     "name": "stdout",
     "output_type": "stream",
     "text": [
      "[GIN] 2024/10/24 - 12:26:35 | 200 |  1.089878226s |       127.0.0.1 | POST     \"/api/generate\"\n",
      "INFO [update_slots] input truncated | n_ctx=2048 n_erase=235082 n_keep=4 n_left=2044 n_shift=1022 tid=\"138523311972352\" timestamp=1729772798\n",
      "[GIN] 2024/10/24 - 12:26:42 | 200 |  6.149300621s |       127.0.0.1 | POST     \"/api/generate\"\n"
     ]
    },
    {
     "name": "stderr",
     "output_type": "stream",
     "text": [
      "Generating responses:  86%|████████▋ | 898/1039 [1:23:26<20:28,  8.71s/it]"
     ]
    },
    {
     "name": "stdout",
     "output_type": "stream",
     "text": [
      "[GIN] 2024/10/24 - 12:26:44 | 200 |  1.123227006s |       127.0.0.1 | POST     \"/api/generate\"\n",
      "INFO [update_slots] input truncated | n_ctx=2048 n_erase=235339 n_keep=4 n_left=2044 n_shift=1022 tid=\"138523311972352\" timestamp=1729772806\n",
      "[GIN] 2024/10/24 - 12:26:50 | 200 |  6.345360971s |       127.0.0.1 | POST     \"/api/generate\"\n",
      "[GIN] 2024/10/24 - 12:26:53 | 200 |  991.784437ms |       127.0.0.1 | POST     \"/api/generate\"\n"
     ]
    },
    {
     "name": "stderr",
     "output_type": "stream",
     "text": [
      "Generating responses:  87%|████████▋ | 899/1039 [1:23:36<21:29,  9.21s/it]"
     ]
    },
    {
     "name": "stdout",
     "output_type": "stream",
     "text": [
      "[GIN] 2024/10/24 - 12:26:54 | 200 |  1.704835524s |       127.0.0.1 | POST     \"/api/generate\"\n",
      "INFO [update_slots] input truncated | n_ctx=2048 n_erase=235595 n_keep=4 n_left=2044 n_shift=1022 tid=\"138523311972352\" timestamp=1729772817\n",
      "[GIN] 2024/10/24 - 12:27:01 | 200 |  6.777200438s |       127.0.0.1 | POST     \"/api/generate\"\n"
     ]
    },
    {
     "name": "stderr",
     "output_type": "stream",
     "text": [
      "Generating responses:  87%|████████▋ | 900/1039 [1:23:46<21:38,  9.34s/it]"
     ]
    },
    {
     "name": "stdout",
     "output_type": "stream",
     "text": [
      "[GIN] 2024/10/24 - 12:27:04 | 200 |  1.518719645s |       127.0.0.1 | POST     \"/api/generate\"\n",
      "INFO [update_slots] input truncated | n_ctx=2048 n_erase=235871 n_keep=4 n_left=2044 n_shift=1022 tid=\"138523311972352\" timestamp=1729772826\n",
      "[GIN] 2024/10/24 - 12:27:10 | 200 |  5.925018027s |       127.0.0.1 | POST     \"/api/generate\"\n"
     ]
    },
    {
     "name": "stderr",
     "output_type": "stream",
     "text": [
      "Generating responses:  87%|████████▋ | 901/1039 [1:23:55<20:58,  9.12s/it]"
     ]
    },
    {
     "name": "stdout",
     "output_type": "stream",
     "text": [
      "[GIN] 2024/10/24 - 12:27:13 | 200 |   1.35998146s |       127.0.0.1 | POST     \"/api/generate\"\n",
      "INFO [update_slots] input truncated | n_ctx=2048 n_erase=236148 n_keep=4 n_left=2044 n_shift=1022 tid=\"138523311972352\" timestamp=1729772835\n",
      "[GIN] 2024/10/24 - 12:27:18 | 200 |  5.816151658s |       127.0.0.1 | POST     \"/api/generate\"\n",
      "[GIN] 2024/10/24 - 12:27:21 | 200 |  1.044453509s |       127.0.0.1 | POST     \"/api/generate\"\n"
     ]
    },
    {
     "name": "stderr",
     "output_type": "stream",
     "text": [
      "Generating responses:  87%|████████▋ | 902/1039 [1:24:04<21:07,  9.25s/it]"
     ]
    },
    {
     "name": "stdout",
     "output_type": "stream",
     "text": [
      "[GIN] 2024/10/24 - 12:27:22 | 200 |  1.326349331s |       127.0.0.1 | POST     \"/api/generate\"\n",
      "INFO [update_slots] input truncated | n_ctx=2048 n_erase=236398 n_keep=4 n_left=2044 n_shift=1022 tid=\"138523311972352\" timestamp=1729772845\n",
      "[GIN] 2024/10/24 - 12:27:28 | 200 |  5.780321275s |       127.0.0.1 | POST     \"/api/generate\"\n"
     ]
    },
    {
     "name": "stderr",
     "output_type": "stream",
     "text": [
      "Generating responses:  87%|████████▋ | 903/1039 [1:24:12<20:11,  8.91s/it]"
     ]
    },
    {
     "name": "stdout",
     "output_type": "stream",
     "text": [
      "[GIN] 2024/10/24 - 12:27:30 | 200 |  982.944144ms |       127.0.0.1 | POST     \"/api/generate\"\n",
      "INFO [update_slots] input truncated | n_ctx=2048 n_erase=236645 n_keep=4 n_left=2044 n_shift=1022 tid=\"138523311972352\" timestamp=1729772853\n",
      "[GIN] 2024/10/24 - 12:27:36 | 200 |  5.857680734s |       127.0.0.1 | POST     \"/api/generate\"\n",
      "[GIN] 2024/10/24 - 12:27:38 | 200 |  769.977298ms |       127.0.0.1 | POST     \"/api/generate\"\n"
     ]
    },
    {
     "name": "stderr",
     "output_type": "stream",
     "text": [
      "Generating responses:  87%|████████▋ | 904/1039 [1:24:21<20:00,  8.89s/it]"
     ]
    },
    {
     "name": "stdout",
     "output_type": "stream",
     "text": [
      "[GIN] 2024/10/24 - 12:27:39 | 200 |  877.989993ms |       127.0.0.1 | POST     \"/api/generate\"\n",
      "INFO [update_slots] input truncated | n_ctx=2048 n_erase=236880 n_keep=4 n_left=2044 n_shift=1022 tid=\"138523311972352\" timestamp=1729772862\n",
      "[GIN] 2024/10/24 - 12:27:45 | 200 |  5.634061034s |       127.0.0.1 | POST     \"/api/generate\"\n"
     ]
    },
    {
     "name": "stderr",
     "output_type": "stream",
     "text": [
      "Generating responses:  87%|████████▋ | 905/1039 [1:24:29<18:57,  8.49s/it]"
     ]
    },
    {
     "name": "stdout",
     "output_type": "stream",
     "text": [
      "[GIN] 2024/10/24 - 12:27:47 | 200 |  575.007479ms |       127.0.0.1 | POST     \"/api/generate\"\n",
      "INFO [update_slots] input truncated | n_ctx=2048 n_erase=237100 n_keep=4 n_left=2044 n_shift=1022 tid=\"138523311972352\" timestamp=1729772869\n",
      "[GIN] 2024/10/24 - 12:27:52 | 200 |  5.783652534s |       127.0.0.1 | POST     \"/api/generate\"\n"
     ]
    },
    {
     "name": "stderr",
     "output_type": "stream",
     "text": [
      "Generating responses:  87%|████████▋ | 906/1039 [1:24:37<18:30,  8.35s/it]"
     ]
    },
    {
     "name": "stdout",
     "output_type": "stream",
     "text": [
      "[GIN] 2024/10/24 - 12:27:55 | 200 |  882.425815ms |       127.0.0.1 | POST     \"/api/generate\"\n",
      "INFO [update_slots] input truncated | n_ctx=2048 n_erase=237340 n_keep=4 n_left=2044 n_shift=1022 tid=\"138523311972352\" timestamp=1729772877\n",
      "[GIN] 2024/10/24 - 12:28:00 | 200 |  5.774993498s |       127.0.0.1 | POST     \"/api/generate\"\n"
     ]
    },
    {
     "name": "stderr",
     "output_type": "stream",
     "text": [
      "Generating responses:  87%|████████▋ | 907/1039 [1:24:45<18:04,  8.22s/it]"
     ]
    },
    {
     "name": "stdout",
     "output_type": "stream",
     "text": [
      "[GIN] 2024/10/24 - 12:28:03 | 200 |  786.682481ms |       127.0.0.1 | POST     \"/api/generate\"\n",
      "INFO [update_slots] input truncated | n_ctx=2048 n_erase=237578 n_keep=4 n_left=2044 n_shift=1022 tid=\"138523311972352\" timestamp=1729772885\n",
      "[GIN] 2024/10/24 - 12:28:09 | 200 |  6.069614974s |       127.0.0.1 | POST     \"/api/generate\"\n"
     ]
    },
    {
     "name": "stderr",
     "output_type": "stream",
     "text": [
      "Generating responses:  87%|████████▋ | 908/1039 [1:24:54<18:30,  8.48s/it]"
     ]
    },
    {
     "name": "stdout",
     "output_type": "stream",
     "text": [
      "[GIN] 2024/10/24 - 12:28:12 | 200 |  1.640036038s |       127.0.0.1 | POST     \"/api/generate\"\n",
      "INFO [update_slots] input truncated | n_ctx=2048 n_erase=237868 n_keep=4 n_left=2044 n_shift=1022 tid=\"138523311972352\" timestamp=1729772894\n",
      "[GIN] 2024/10/24 - 12:28:18 | 200 |  5.938557151s |       127.0.0.1 | POST     \"/api/generate\"\n"
     ]
    },
    {
     "name": "stderr",
     "output_type": "stream",
     "text": [
      "Generating responses:  87%|████████▋ | 909/1039 [1:25:02<18:22,  8.48s/it]"
     ]
    },
    {
     "name": "stdout",
     "output_type": "stream",
     "text": [
      "[GIN] 2024/10/24 - 12:28:20 | 200 |  1.180921446s |       127.0.0.1 | POST     \"/api/generate\"\n",
      "INFO [update_slots] input truncated | n_ctx=2048 n_erase=238135 n_keep=4 n_left=2044 n_shift=1022 tid=\"138523311972352\" timestamp=1729772903\n",
      "[GIN] 2024/10/24 - 12:28:26 | 200 |  6.045994583s |       127.0.0.1 | POST     \"/api/generate\"\n"
     ]
    },
    {
     "name": "stderr",
     "output_type": "stream",
     "text": [
      "Generating responses:  88%|████████▊ | 910/1039 [1:25:12<18:42,  8.70s/it]"
     ]
    },
    {
     "name": "stdout",
     "output_type": "stream",
     "text": [
      "[GIN] 2024/10/24 - 12:28:29 | 200 |   1.82192126s |       127.0.0.1 | POST     \"/api/generate\"\n",
      "INFO [update_slots] input truncated | n_ctx=2048 n_erase=238430 n_keep=4 n_left=2044 n_shift=1022 tid=\"138523311972352\" timestamp=1729772912\n",
      "[GIN] 2024/10/24 - 12:28:35 | 200 |  5.892360994s |       127.0.0.1 | POST     \"/api/generate\"\n"
     ]
    },
    {
     "name": "stderr",
     "output_type": "stream",
     "text": [
      "Generating responses:  88%|████████▊ | 911/1039 [1:25:20<18:09,  8.51s/it]"
     ]
    },
    {
     "name": "stdout",
     "output_type": "stream",
     "text": [
      "[GIN] 2024/10/24 - 12:28:37 | 200 |  805.683756ms |       127.0.0.1 | POST     \"/api/generate\"\n",
      "INFO [update_slots] input truncated | n_ctx=2048 n_erase=238664 n_keep=4 n_left=2044 n_shift=1022 tid=\"138523311972352\" timestamp=1729772920\n",
      "[GIN] 2024/10/24 - 12:28:43 | 200 |   5.97989721s |       127.0.0.1 | POST     \"/api/generate\"\n"
     ]
    },
    {
     "name": "stderr",
     "output_type": "stream",
     "text": [
      "Generating responses:  88%|████████▊ | 912/1039 [1:25:28<17:44,  8.38s/it]"
     ]
    },
    {
     "name": "stdout",
     "output_type": "stream",
     "text": [
      "[GIN] 2024/10/24 - 12:28:46 | 200 |  756.663179ms |       127.0.0.1 | POST     \"/api/generate\"\n",
      "INFO [update_slots] input truncated | n_ctx=2048 n_erase=238899 n_keep=4 n_left=2044 n_shift=1022 tid=\"138523311972352\" timestamp=1729772928\n",
      "[GIN] 2024/10/24 - 12:28:51 | 200 |  5.800639958s |       127.0.0.1 | POST     \"/api/generate\"\n"
     ]
    },
    {
     "name": "stderr",
     "output_type": "stream",
     "text": [
      "Generating responses:  88%|████████▊ | 913/1039 [1:25:36<17:45,  8.46s/it]"
     ]
    },
    {
     "name": "stdout",
     "output_type": "stream",
     "text": [
      "[GIN] 2024/10/24 - 12:28:54 | 200 |   1.47549245s |       127.0.0.1 | POST     \"/api/generate\"\n",
      "INFO [update_slots] input truncated | n_ctx=2048 n_erase=239178 n_keep=4 n_left=2044 n_shift=1022 tid=\"138523311972352\" timestamp=1729772937\n",
      "[GIN] 2024/10/24 - 12:29:00 | 200 |  6.135168871s |       127.0.0.1 | POST     \"/api/generate\"\n",
      "[GIN] 2024/10/24 - 12:29:03 | 200 |  1.003323897s |       127.0.0.1 | POST     \"/api/generate\"\n"
     ]
    },
    {
     "name": "stderr",
     "output_type": "stream",
     "text": [
      "Generating responses:  88%|████████▊ | 914/1039 [1:25:46<18:31,  8.89s/it]"
     ]
    },
    {
     "name": "stdout",
     "output_type": "stream",
     "text": [
      "[GIN] 2024/10/24 - 12:29:04 | 200 |    1.3668245s |       127.0.0.1 | POST     \"/api/generate\"\n",
      "INFO [update_slots] input truncated | n_ctx=2048 n_erase=239426 n_keep=4 n_left=2044 n_shift=1022 tid=\"138523311972352\" timestamp=1729772946\n",
      "[GIN] 2024/10/24 - 12:29:10 | 200 |  6.156875657s |       127.0.0.1 | POST     \"/api/generate\"\n"
     ]
    },
    {
     "name": "stderr",
     "output_type": "stream",
     "text": [
      "Generating responses:  88%|████████▊ | 915/1039 [1:25:56<18:50,  9.12s/it]"
     ]
    },
    {
     "name": "stdout",
     "output_type": "stream",
     "text": [
      "[GIN] 2024/10/24 - 12:29:14 | 200 |  1.899299578s |       127.0.0.1 | POST     \"/api/generate\"\n",
      "INFO [update_slots] input truncated | n_ctx=2048 n_erase=239732 n_keep=4 n_left=2044 n_shift=1022 tid=\"138523311972352\" timestamp=1729772956\n",
      "[GIN] 2024/10/24 - 12:29:20 | 200 |  5.987370891s |       127.0.0.1 | POST     \"/api/generate\"\n"
     ]
    },
    {
     "name": "stderr",
     "output_type": "stream",
     "text": [
      "Generating responses:  88%|████████▊ | 916/1039 [1:26:05<18:51,  9.20s/it]"
     ]
    },
    {
     "name": "stdout",
     "output_type": "stream",
     "text": [
      "[GIN] 2024/10/24 - 12:29:23 | 200 |  2.020933039s |       127.0.0.1 | POST     \"/api/generate\"\n",
      "INFO [update_slots] input truncated | n_ctx=2048 n_erase=240039 n_keep=4 n_left=2044 n_shift=1022 tid=\"138523311972352\" timestamp=1729772966\n",
      "[GIN] 2024/10/24 - 12:29:29 | 200 |  6.054856874s |       127.0.0.1 | POST     \"/api/generate\"\n",
      "[GIN] 2024/10/24 - 12:29:32 | 200 |  1.218007466s |       127.0.0.1 | POST     \"/api/generate\"\n"
     ]
    },
    {
     "name": "stderr",
     "output_type": "stream",
     "text": [
      "Generating responses:  88%|████████▊ | 917/1039 [1:26:16<19:26,  9.56s/it]"
     ]
    },
    {
     "name": "stdout",
     "output_type": "stream",
     "text": [
      "[GIN] 2024/10/24 - 12:29:34 | 200 |  1.737891055s |       127.0.0.1 | POST     \"/api/generate\"\n",
      "INFO [update_slots] input truncated | n_ctx=2048 n_erase=240302 n_keep=4 n_left=2044 n_shift=1022 tid=\"138523311972352\" timestamp=1729772976\n",
      "[GIN] 2024/10/24 - 12:29:40 | 200 |  6.271292687s |       127.0.0.1 | POST     \"/api/generate\"\n"
     ]
    },
    {
     "name": "stderr",
     "output_type": "stream",
     "text": [
      "Generating responses:  88%|████████▊ | 918/1039 [1:26:24<18:39,  9.25s/it]"
     ]
    },
    {
     "name": "stdout",
     "output_type": "stream",
     "text": [
      "[GIN] 2024/10/24 - 12:29:42 | 200 |  864.297452ms |       127.0.0.1 | POST     \"/api/generate\"\n",
      "INFO [update_slots] input truncated | n_ctx=2048 n_erase=240541 n_keep=4 n_left=2044 n_shift=1022 tid=\"138523311972352\" timestamp=1729772985\n",
      "[GIN] 2024/10/24 - 12:29:48 | 200 |  6.277377272s |       127.0.0.1 | POST     \"/api/generate\"\n"
     ]
    },
    {
     "name": "stderr",
     "output_type": "stream",
     "text": [
      "Generating responses:  88%|████████▊ | 919/1039 [1:26:33<18:05,  9.05s/it]"
     ]
    },
    {
     "name": "stdout",
     "output_type": "stream",
     "text": [
      "[GIN] 2024/10/24 - 12:29:51 | 200 |   861.41642ms |       127.0.0.1 | POST     \"/api/generate\"\n",
      "INFO [update_slots] input truncated | n_ctx=2048 n_erase=240781 n_keep=4 n_left=2044 n_shift=1022 tid=\"138523311972352\" timestamp=1729772993\n",
      "[GIN] 2024/10/24 - 12:29:57 | 200 |  6.111416417s |       127.0.0.1 | POST     \"/api/generate\"\n"
     ]
    },
    {
     "name": "stderr",
     "output_type": "stream",
     "text": [
      "Generating responses:  89%|████████▊ | 920/1039 [1:26:42<18:09,  9.15s/it]"
     ]
    },
    {
     "name": "stdout",
     "output_type": "stream",
     "text": [
      "[GIN] 2024/10/24 - 12:30:00 | 200 |  1.887977324s |       127.0.0.1 | POST     \"/api/generate\"\n",
      "INFO [update_slots] input truncated | n_ctx=2048 n_erase=241082 n_keep=4 n_left=2044 n_shift=1022 tid=\"138523311972352\" timestamp=1729773002\n",
      "[GIN] 2024/10/24 - 12:30:06 | 200 |  6.006434743s |       127.0.0.1 | POST     \"/api/generate\"\n"
     ]
    },
    {
     "name": "stderr",
     "output_type": "stream",
     "text": [
      "Generating responses:  89%|████████▊ | 921/1039 [1:26:51<17:41,  9.00s/it]"
     ]
    },
    {
     "name": "stdout",
     "output_type": "stream",
     "text": [
      "[GIN] 2024/10/24 - 12:30:09 | 200 |  1.242657612s |       127.0.0.1 | POST     \"/api/generate\"\n",
      "INFO [update_slots] input truncated | n_ctx=2048 n_erase=241353 n_keep=4 n_left=2044 n_shift=1022 tid=\"138523311972352\" timestamp=1729773011\n",
      "[GIN] 2024/10/24 - 12:30:15 | 200 |  6.326599869s |       127.0.0.1 | POST     \"/api/generate\"\n",
      "[GIN] 2024/10/24 - 12:30:18 | 200 |    1.2729705s |       127.0.0.1 | POST     \"/api/generate\"\n"
     ]
    },
    {
     "name": "stderr",
     "output_type": "stream",
     "text": [
      "Generating responses:  89%|████████▊ | 922/1039 [1:27:02<18:37,  9.55s/it]"
     ]
    },
    {
     "name": "stdout",
     "output_type": "stream",
     "text": [
      "[GIN] 2024/10/24 - 12:30:19 | 200 |  1.833894264s |       127.0.0.1 | POST     \"/api/generate\"\n",
      "INFO [update_slots] input truncated | n_ctx=2048 n_erase=241619 n_keep=4 n_left=2044 n_shift=1022 tid=\"138523311972352\" timestamp=1729773022\n",
      "[GIN] 2024/10/24 - 12:30:26 | 200 |  6.004804324s |       127.0.0.1 | POST     \"/api/generate\"\n"
     ]
    },
    {
     "name": "stderr",
     "output_type": "stream",
     "text": [
      "Generating responses:  89%|████████▉ | 923/1039 [1:27:10<17:53,  9.26s/it]"
     ]
    },
    {
     "name": "stdout",
     "output_type": "stream",
     "text": [
      "[GIN] 2024/10/24 - 12:30:28 | 200 |  1.162878671s |       127.0.0.1 | POST     \"/api/generate\"\n",
      "INFO [update_slots] input truncated | n_ctx=2048 n_erase=241876 n_keep=4 n_left=2044 n_shift=1022 tid=\"138523311972352\" timestamp=1729773031\n",
      "[GIN] 2024/10/24 - 12:30:35 | 200 |    6.6844275s |       127.0.0.1 | POST     \"/api/generate\"\n"
     ]
    },
    {
     "name": "stderr",
     "output_type": "stream",
     "text": [
      "Generating responses:  89%|████████▉ | 924/1039 [1:27:20<17:50,  9.31s/it]"
     ]
    },
    {
     "name": "stdout",
     "output_type": "stream",
     "text": [
      "[GIN] 2024/10/24 - 12:30:38 | 200 |   1.35785795s |       127.0.0.1 | POST     \"/api/generate\"\n",
      "INFO [update_slots] input truncated | n_ctx=2048 n_erase=242143 n_keep=4 n_left=2044 n_shift=1022 tid=\"138523311972352\" timestamp=1729773040\n",
      "[GIN] 2024/10/24 - 12:30:44 | 200 |  6.109676807s |       127.0.0.1 | POST     \"/api/generate\"\n"
     ]
    },
    {
     "name": "stderr",
     "output_type": "stream",
     "text": [
      "Generating responses:  89%|████████▉ | 925/1039 [1:27:29<17:26,  9.18s/it]"
     ]
    },
    {
     "name": "stdout",
     "output_type": "stream",
     "text": [
      "[GIN] 2024/10/24 - 12:30:46 | 200 |  1.377242488s |       127.0.0.1 | POST     \"/api/generate\"\n",
      "INFO [update_slots] input truncated | n_ctx=2048 n_erase=242422 n_keep=4 n_left=2044 n_shift=1022 tid=\"138523311972352\" timestamp=1729773049\n",
      "[GIN] 2024/10/24 - 12:30:53 | 200 |  6.212487621s |       127.0.0.1 | POST     \"/api/generate\"\n"
     ]
    },
    {
     "name": "stderr",
     "output_type": "stream",
     "text": [
      "Generating responses:  89%|████████▉ | 926/1039 [1:27:38<17:10,  9.12s/it]"
     ]
    },
    {
     "name": "stdout",
     "output_type": "stream",
     "text": [
      "[GIN] 2024/10/24 - 12:30:55 | 200 |  1.355841932s |       127.0.0.1 | POST     \"/api/generate\"\n",
      "INFO [update_slots] input truncated | n_ctx=2048 n_erase=242689 n_keep=4 n_left=2044 n_shift=1022 tid=\"138523311972352\" timestamp=1729773058\n",
      "[GIN] 2024/10/24 - 12:31:01 | 200 |  5.826461642s |       127.0.0.1 | POST     \"/api/generate\"\n"
     ]
    },
    {
     "name": "stderr",
     "output_type": "stream",
     "text": [
      "Generating responses:  89%|████████▉ | 927/1039 [1:27:46<16:35,  8.89s/it]"
     ]
    },
    {
     "name": "stdout",
     "output_type": "stream",
     "text": [
      "[GIN] 2024/10/24 - 12:31:04 | 200 |   1.10014761s |       127.0.0.1 | POST     \"/api/generate\"\n",
      "INFO [update_slots] input truncated | n_ctx=2048 n_erase=242954 n_keep=4 n_left=2044 n_shift=1022 tid=\"138523311972352\" timestamp=1729773066\n",
      "[GIN] 2024/10/24 - 12:31:10 | 200 |  6.191626921s |       127.0.0.1 | POST     \"/api/generate\"\n"
     ]
    },
    {
     "name": "stderr",
     "output_type": "stream",
     "text": [
      "Generating responses:  89%|████████▉ | 928/1039 [1:27:54<16:17,  8.81s/it]"
     ]
    },
    {
     "name": "stdout",
     "output_type": "stream",
     "text": [
      "[GIN] 2024/10/24 - 12:31:12 | 200 |  1.011324335s |       127.0.0.1 | POST     \"/api/generate\"\n",
      "INFO [update_slots] input truncated | n_ctx=2048 n_erase=243201 n_keep=4 n_left=2044 n_shift=1022 tid=\"138523311972352\" timestamp=1729773075\n",
      "[GIN] 2024/10/24 - 12:31:19 | 200 |  6.222435014s |       127.0.0.1 | POST     \"/api/generate\"\n"
     ]
    },
    {
     "name": "stderr",
     "output_type": "stream",
     "text": [
      "Generating responses:  89%|████████▉ | 929/1039 [1:28:03<15:56,  8.70s/it]"
     ]
    },
    {
     "name": "stdout",
     "output_type": "stream",
     "text": [
      "[GIN] 2024/10/24 - 12:31:21 | 200 |  759.626462ms |       127.0.0.1 | POST     \"/api/generate\"\n",
      "INFO [update_slots] input truncated | n_ctx=2048 n_erase=243432 n_keep=4 n_left=2044 n_shift=1022 tid=\"138523311972352\" timestamp=1729773083\n",
      "[GIN] 2024/10/24 - 12:31:27 | 200 |  6.134615678s |       127.0.0.1 | POST     \"/api/generate\"\n"
     ]
    },
    {
     "name": "stderr",
     "output_type": "stream",
     "text": [
      "Generating responses:  90%|████████▉ | 930/1039 [1:28:12<16:13,  8.93s/it]"
     ]
    },
    {
     "name": "stdout",
     "output_type": "stream",
     "text": [
      "[GIN] 2024/10/24 - 12:31:30 | 200 |  1.932581168s |       127.0.0.1 | POST     \"/api/generate\"\n",
      "INFO [update_slots] input truncated | n_ctx=2048 n_erase=243735 n_keep=4 n_left=2044 n_shift=1022 tid=\"138523311972352\" timestamp=1729773093\n",
      "[GIN] 2024/10/24 - 12:31:36 | 200 |  6.143981335s |       127.0.0.1 | POST     \"/api/generate\"\n"
     ]
    },
    {
     "name": "stderr",
     "output_type": "stream",
     "text": [
      "Generating responses:  90%|████████▉ | 931/1039 [1:28:22<16:17,  9.05s/it]"
     ]
    },
    {
     "name": "stdout",
     "output_type": "stream",
     "text": [
      "[GIN] 2024/10/24 - 12:31:40 | 200 |  1.768370739s |       127.0.0.1 | POST     \"/api/generate\"\n",
      "INFO [update_slots] input truncated | n_ctx=2048 n_erase=244029 n_keep=4 n_left=2044 n_shift=1022 tid=\"138523311972352\" timestamp=1729773102\n",
      "[GIN] 2024/10/24 - 12:31:46 | 200 |  6.184978816s |       127.0.0.1 | POST     \"/api/generate\"\n"
     ]
    },
    {
     "name": "stderr",
     "output_type": "stream",
     "text": [
      "Generating responses:  90%|████████▉ | 932/1039 [1:28:31<16:10,  9.07s/it]"
     ]
    },
    {
     "name": "stdout",
     "output_type": "stream",
     "text": [
      "[GIN] 2024/10/24 - 12:31:49 | 200 |  1.494323743s |       127.0.0.1 | POST     \"/api/generate\"\n",
      "INFO [update_slots] input truncated | n_ctx=2048 n_erase=244306 n_keep=4 n_left=2044 n_shift=1022 tid=\"138523311972352\" timestamp=1729773111\n",
      "[GIN] 2024/10/24 - 12:31:55 | 200 |  6.330980779s |       127.0.0.1 | POST     \"/api/generate\"\n",
      "[GIN] 2024/10/24 - 12:31:57 | 200 |  945.717503ms |       127.0.0.1 | POST     \"/api/generate\"\n"
     ]
    },
    {
     "name": "stderr",
     "output_type": "stream",
     "text": [
      "Generating responses:  90%|████████▉ | 933/1039 [1:28:41<16:32,  9.36s/it]"
     ]
    },
    {
     "name": "stdout",
     "output_type": "stream",
     "text": [
      "[GIN] 2024/10/24 - 12:31:59 | 200 |  1.339929842s |       127.0.0.1 | POST     \"/api/generate\"\n",
      "INFO [update_slots] input truncated | n_ctx=2048 n_erase=244554 n_keep=4 n_left=2044 n_shift=1022 tid=\"138523311972352\" timestamp=1729773121\n",
      "[GIN] 2024/10/24 - 12:32:05 | 200 |  5.947435196s |       127.0.0.1 | POST     \"/api/generate\"\n"
     ]
    },
    {
     "name": "stderr",
     "output_type": "stream",
     "text": [
      "Generating responses:  90%|████████▉ | 934/1039 [1:28:49<15:44,  8.99s/it]"
     ]
    },
    {
     "name": "stdout",
     "output_type": "stream",
     "text": [
      "[GIN] 2024/10/24 - 12:32:07 | 200 |  766.088995ms |       127.0.0.1 | POST     \"/api/generate\"\n",
      "INFO [update_slots] input truncated | n_ctx=2048 n_erase=244786 n_keep=4 n_left=2044 n_shift=1022 tid=\"138523311972352\" timestamp=1729773129\n",
      "[GIN] 2024/10/24 - 12:32:13 | 200 |  5.791153207s |       127.0.0.1 | POST     \"/api/generate\"\n",
      "[GIN] 2024/10/24 - 12:32:15 | 200 |   601.64069ms |       127.0.0.1 | POST     \"/api/generate\"\n"
     ]
    },
    {
     "name": "stderr",
     "output_type": "stream",
     "text": [
      "Generating responses:  90%|████████▉ | 935/1039 [1:28:58<15:43,  9.07s/it]"
     ]
    },
    {
     "name": "stdout",
     "output_type": "stream",
     "text": [
      "[GIN] 2024/10/24 - 12:32:16 | 200 |  1.426043967s |       127.0.0.1 | POST     \"/api/generate\"\n",
      "INFO [update_slots] input truncated | n_ctx=2048 n_erase=245013 n_keep=4 n_left=2044 n_shift=1022 tid=\"138523311972352\" timestamp=1729773139\n",
      "[GIN] 2024/10/24 - 12:32:23 | 200 |  6.406535709s |       127.0.0.1 | POST     \"/api/generate\"\n",
      "[GIN] 2024/10/24 - 12:32:25 | 200 |  967.981376ms |       127.0.0.1 | POST     \"/api/generate\"\n"
     ]
    },
    {
     "name": "stderr",
     "output_type": "stream",
     "text": [
      "Generating responses:  90%|█████████ | 936/1039 [1:29:08<16:08,  9.40s/it]"
     ]
    },
    {
     "name": "stdout",
     "output_type": "stream",
     "text": [
      "[GIN] 2024/10/24 - 12:32:26 | 200 |  1.346663786s |       127.0.0.1 | POST     \"/api/generate\"\n",
      "INFO [update_slots] input truncated | n_ctx=2048 n_erase=245266 n_keep=4 n_left=2044 n_shift=1022 tid=\"138523311972352\" timestamp=1729773149\n",
      "[GIN] 2024/10/24 - 12:32:33 | 200 |  6.317075872s |       127.0.0.1 | POST     \"/api/generate\"\n"
     ]
    },
    {
     "name": "stderr",
     "output_type": "stream",
     "text": [
      "Generating responses:  90%|█████████ | 937/1039 [1:29:17<15:44,  9.26s/it]"
     ]
    },
    {
     "name": "stdout",
     "output_type": "stream",
     "text": [
      "[GIN] 2024/10/24 - 12:32:35 | 200 |  1.171247359s |       127.0.0.1 | POST     \"/api/generate\"\n",
      "INFO [update_slots] input truncated | n_ctx=2048 n_erase=245521 n_keep=4 n_left=2044 n_shift=1022 tid=\"138523311972352\" timestamp=1729773158\n",
      "[GIN] 2024/10/24 - 12:32:41 | 200 |  6.230449582s |       127.0.0.1 | POST     \"/api/generate\"\n"
     ]
    },
    {
     "name": "stderr",
     "output_type": "stream",
     "text": [
      "Generating responses:  90%|█████████ | 938/1039 [1:29:26<15:26,  9.17s/it]"
     ]
    },
    {
     "name": "stdout",
     "output_type": "stream",
     "text": [
      "[GIN] 2024/10/24 - 12:32:44 | 200 |  1.284663488s |       127.0.0.1 | POST     \"/api/generate\"\n",
      "INFO [update_slots] input truncated | n_ctx=2048 n_erase=245785 n_keep=4 n_left=2044 n_shift=1022 tid=\"138523311972352\" timestamp=1729773167\n",
      "[GIN] 2024/10/24 - 12:32:50 | 200 |  6.040604418s |       127.0.0.1 | POST     \"/api/generate\"\n",
      "[GIN] 2024/10/24 - 12:32:53 | 200 |  1.348471025s |       127.0.0.1 | POST     \"/api/generate\"\n"
     ]
    },
    {
     "name": "stderr",
     "output_type": "stream",
     "text": [
      "Generating responses:  90%|█████████ | 939/1039 [1:29:36<15:26,  9.27s/it]"
     ]
    },
    {
     "name": "stdout",
     "output_type": "stream",
     "text": [
      "[GIN] 2024/10/24 - 12:32:54 | 200 |   655.81394ms |       127.0.0.1 | POST     \"/api/generate\"\n",
      "INFO [update_slots] input truncated | n_ctx=2048 n_erase=246061 n_keep=4 n_left=2044 n_shift=1022 tid=\"138523311972352\" timestamp=1729773176\n",
      "[GIN] 2024/10/24 - 12:33:00 | 200 |  6.178225828s |       127.0.0.1 | POST     \"/api/generate\"\n"
     ]
    },
    {
     "name": "stderr",
     "output_type": "stream",
     "text": [
      "Generating responses:  90%|█████████ | 940/1039 [1:29:44<14:53,  9.03s/it]"
     ]
    },
    {
     "name": "stdout",
     "output_type": "stream",
     "text": [
      "[GIN] 2024/10/24 - 12:33:02 | 200 |  853.642897ms |       127.0.0.1 | POST     \"/api/generate\"\n",
      "INFO [update_slots] input truncated | n_ctx=2048 n_erase=246302 n_keep=4 n_left=2044 n_shift=1022 tid=\"138523311972352\" timestamp=1729773185\n",
      "[GIN] 2024/10/24 - 12:33:08 | 200 |  6.336134978s |       127.0.0.1 | POST     \"/api/generate\"\n"
     ]
    },
    {
     "name": "stderr",
     "output_type": "stream",
     "text": [
      "Generating responses:  91%|█████████ | 941/1039 [1:29:55<15:20,  9.39s/it]"
     ]
    },
    {
     "name": "stdout",
     "output_type": "stream",
     "text": [
      "[GIN] 2024/10/24 - 12:33:12 | 200 |   2.43367605s |       127.0.0.1 | POST     \"/api/generate\"\n",
      "INFO [update_slots] input truncated | n_ctx=2048 n_erase=246635 n_keep=4 n_left=2044 n_shift=1022 tid=\"138523311972352\" timestamp=1729773195\n",
      "[GIN] 2024/10/24 - 12:33:18 | 200 |  6.022874704s |       127.0.0.1 | POST     \"/api/generate\"\n"
     ]
    },
    {
     "name": "stderr",
     "output_type": "stream",
     "text": [
      "Generating responses:  91%|█████████ | 942/1039 [1:30:03<14:48,  9.16s/it]"
     ]
    },
    {
     "name": "stdout",
     "output_type": "stream",
     "text": [
      "[GIN] 2024/10/24 - 12:33:21 | 200 |  1.129338915s |       127.0.0.1 | POST     \"/api/generate\"\n",
      "INFO [update_slots] input truncated | n_ctx=2048 n_erase=246894 n_keep=4 n_left=2044 n_shift=1022 tid=\"138523311972352\" timestamp=1729773204\n",
      "[GIN] 2024/10/24 - 12:33:27 | 200 |  5.910214768s |       127.0.0.1 | POST     \"/api/generate\"\n",
      "[GIN] 2024/10/24 - 12:33:29 | 200 |  632.687355ms |       127.0.0.1 | POST     \"/api/generate\"\n"
     ]
    },
    {
     "name": "stderr",
     "output_type": "stream",
     "text": [
      "Generating responses:  91%|█████████ | 943/1039 [1:30:12<14:37,  9.14s/it]"
     ]
    },
    {
     "name": "stdout",
     "output_type": "stream",
     "text": [
      "[GIN] 2024/10/24 - 12:33:30 | 200 |   1.09596036s |       127.0.0.1 | POST     \"/api/generate\"\n",
      "INFO [update_slots] input truncated | n_ctx=2048 n_erase=247125 n_keep=4 n_left=2044 n_shift=1022 tid=\"138523311972352\" timestamp=1729773213\n",
      "[GIN] 2024/10/24 - 12:33:36 | 200 |  6.020383097s |       127.0.0.1 | POST     \"/api/generate\"\n"
     ]
    },
    {
     "name": "stderr",
     "output_type": "stream",
     "text": [
      "Generating responses:  91%|█████████ | 944/1039 [1:30:21<14:25,  9.11s/it]"
     ]
    },
    {
     "name": "stdout",
     "output_type": "stream",
     "text": [
      "[GIN] 2024/10/24 - 12:33:39 | 200 |   1.57533057s |       127.0.0.1 | POST     \"/api/generate\"\n",
      "INFO [update_slots] input truncated | n_ctx=2048 n_erase=247415 n_keep=4 n_left=2044 n_shift=1022 tid=\"138523311972352\" timestamp=1729773222\n",
      "[GIN] 2024/10/24 - 12:33:45 | 200 |  6.074086602s |       127.0.0.1 | POST     \"/api/generate\"\n",
      "[GIN] 2024/10/24 - 12:33:47 | 200 |  747.236339ms |       127.0.0.1 | POST     \"/api/generate\"\n"
     ]
    },
    {
     "name": "stderr",
     "output_type": "stream",
     "text": [
      "Generating responses:  91%|█████████ | 945/1039 [1:30:31<14:36,  9.32s/it]"
     ]
    },
    {
     "name": "stdout",
     "output_type": "stream",
     "text": [
      "[GIN] 2024/10/24 - 12:33:49 | 200 |  1.514847304s |       127.0.0.1 | POST     \"/api/generate\"\n",
      "INFO [update_slots] input truncated | n_ctx=2048 n_erase=247650 n_keep=4 n_left=2044 n_shift=1022 tid=\"138523311972352\" timestamp=1729773231\n",
      "[GIN] 2024/10/24 - 12:33:55 | 200 |  6.011848109s |       127.0.0.1 | POST     \"/api/generate\"\n"
     ]
    },
    {
     "name": "stderr",
     "output_type": "stream",
     "text": [
      "Generating responses:  91%|█████████ | 946/1039 [1:30:40<14:08,  9.12s/it]"
     ]
    },
    {
     "name": "stdout",
     "output_type": "stream",
     "text": [
      "[GIN] 2024/10/24 - 12:33:58 | 200 |  1.026286679s |       127.0.0.1 | POST     \"/api/generate\"\n",
      "INFO [update_slots] input truncated | n_ctx=2048 n_erase=247902 n_keep=4 n_left=2044 n_shift=1022 tid=\"138523311972352\" timestamp=1729773240\n",
      "[GIN] 2024/10/24 - 12:34:04 | 200 |  6.208691195s |       127.0.0.1 | POST     \"/api/generate\"\n"
     ]
    },
    {
     "name": "stderr",
     "output_type": "stream",
     "text": [
      "Generating responses:  91%|█████████ | 947/1039 [1:30:49<13:59,  9.13s/it]"
     ]
    },
    {
     "name": "stdout",
     "output_type": "stream",
     "text": [
      "[GIN] 2024/10/24 - 12:34:07 | 200 |   1.45479088s |       127.0.0.1 | POST     \"/api/generate\"\n",
      "INFO [update_slots] input truncated | n_ctx=2048 n_erase=248177 n_keep=4 n_left=2044 n_shift=1022 tid=\"138523311972352\" timestamp=1729773249\n",
      "[GIN] 2024/10/24 - 12:34:13 | 200 |  6.348107148s |       127.0.0.1 | POST     \"/api/generate\"\n"
     ]
    },
    {
     "name": "stderr",
     "output_type": "stream",
     "text": [
      "Generating responses:  91%|█████████ | 948/1039 [1:30:59<14:13,  9.38s/it]"
     ]
    },
    {
     "name": "stdout",
     "output_type": "stream",
     "text": [
      "[GIN] 2024/10/24 - 12:34:17 | 200 |   2.14532482s |       127.0.0.1 | POST     \"/api/generate\"\n",
      "INFO [update_slots] input truncated | n_ctx=2048 n_erase=248486 n_keep=4 n_left=2044 n_shift=1022 tid=\"138523311972352\" timestamp=1729773259\n",
      "[GIN] 2024/10/24 - 12:34:23 | 200 |  6.097833963s |       127.0.0.1 | POST     \"/api/generate\"\n",
      "[GIN] 2024/10/24 - 12:34:25 | 200 |  1.185067975s |       127.0.0.1 | POST     \"/api/generate\"\n"
     ]
    },
    {
     "name": "stderr",
     "output_type": "stream",
     "text": [
      "Generating responses:  91%|█████████▏| 949/1039 [1:31:09<14:17,  9.53s/it]"
     ]
    },
    {
     "name": "stdout",
     "output_type": "stream",
     "text": [
      "[GIN] 2024/10/24 - 12:34:27 | 200 |  1.113017271s |       127.0.0.1 | POST     \"/api/generate\"\n",
      "INFO [update_slots] input truncated | n_ctx=2048 n_erase=248747 n_keep=4 n_left=2044 n_shift=1022 tid=\"138523311972352\" timestamp=1729773269\n",
      "[GIN] 2024/10/24 - 12:34:33 | 200 |  6.121283733s |       127.0.0.1 | POST     \"/api/generate\"\n"
     ]
    },
    {
     "name": "stderr",
     "output_type": "stream",
     "text": [
      "Generating responses:  91%|█████████▏| 950/1039 [1:31:18<13:49,  9.33s/it]"
     ]
    },
    {
     "name": "stdout",
     "output_type": "stream",
     "text": [
      "[GIN] 2024/10/24 - 12:34:35 | 200 |   1.26908464s |       127.0.0.1 | POST     \"/api/generate\"\n",
      "INFO [update_slots] input truncated | n_ctx=2048 n_erase=249009 n_keep=4 n_left=2044 n_shift=1022 tid=\"138523311972352\" timestamp=1729773278\n",
      "[GIN] 2024/10/24 - 12:34:42 | 200 |  6.288793027s |       127.0.0.1 | POST     \"/api/generate\"\n"
     ]
    },
    {
     "name": "stderr",
     "output_type": "stream",
     "text": [
      "Generating responses:  92%|█████████▏| 951/1039 [1:31:27<13:48,  9.41s/it]"
     ]
    },
    {
     "name": "stdout",
     "output_type": "stream",
     "text": [
      "[GIN] 2024/10/24 - 12:34:45 | 200 |  1.842087993s |       127.0.0.1 | POST     \"/api/generate\"\n",
      "INFO [update_slots] input truncated | n_ctx=2048 n_erase=249304 n_keep=4 n_left=2044 n_shift=1022 tid=\"138523311972352\" timestamp=1729773288\n",
      "[GIN] 2024/10/24 - 12:34:52 | 200 |  6.593600733s |       127.0.0.1 | POST     \"/api/generate\"\n"
     ]
    },
    {
     "name": "stderr",
     "output_type": "stream",
     "text": [
      "Generating responses:  92%|█████████▏| 952/1039 [1:31:36<13:32,  9.34s/it]"
     ]
    },
    {
     "name": "stdout",
     "output_type": "stream",
     "text": [
      "[GIN] 2024/10/24 - 12:34:54 | 200 |  1.116540786s |       127.0.0.1 | POST     \"/api/generate\"\n",
      "INFO [update_slots] input truncated | n_ctx=2048 n_erase=249557 n_keep=4 n_left=2044 n_shift=1022 tid=\"138523311972352\" timestamp=1729773297\n",
      "[GIN] 2024/10/24 - 12:35:01 | 200 |   6.42942853s |       127.0.0.1 | POST     \"/api/generate\"\n"
     ]
    },
    {
     "name": "stderr",
     "output_type": "stream",
     "text": [
      "Generating responses:  92%|█████████▏| 953/1039 [1:31:45<13:16,  9.26s/it]"
     ]
    },
    {
     "name": "stdout",
     "output_type": "stream",
     "text": [
      "[GIN] 2024/10/24 - 12:35:03 | 200 |   1.14425112s |       127.0.0.1 | POST     \"/api/generate\"\n",
      "INFO [update_slots] input truncated | n_ctx=2048 n_erase=249829 n_keep=4 n_left=2044 n_shift=1022 tid=\"138523311972352\" timestamp=1729773306\n",
      "[GIN] 2024/10/24 - 12:35:10 | 200 |  6.460962598s |       127.0.0.1 | POST     \"/api/generate\"\n",
      "[GIN] 2024/10/24 - 12:35:12 | 200 |  992.065547ms |       127.0.0.1 | POST     \"/api/generate\"\n"
     ]
    },
    {
     "name": "stderr",
     "output_type": "stream",
     "text": [
      "Generating responses:  92%|█████████▏| 954/1039 [1:31:56<13:29,  9.52s/it]"
     ]
    },
    {
     "name": "stdout",
     "output_type": "stream",
     "text": [
      "[GIN] 2024/10/24 - 12:35:13 | 200 |  1.182098059s |       127.0.0.1 | POST     \"/api/generate\"\n",
      "INFO [update_slots] input truncated | n_ctx=2048 n_erase=250072 n_keep=4 n_left=2044 n_shift=1022 tid=\"138523311972352\" timestamp=1729773316\n",
      "[GIN] 2024/10/24 - 12:35:20 | 200 |  6.205980872s |       127.0.0.1 | POST     \"/api/generate\"\n"
     ]
    },
    {
     "name": "stderr",
     "output_type": "stream",
     "text": [
      "Generating responses:  92%|█████████▏| 955/1039 [1:32:05<13:19,  9.52s/it]"
     ]
    },
    {
     "name": "stdout",
     "output_type": "stream",
     "text": [
      "[GIN] 2024/10/24 - 12:35:23 | 200 |  1.843653636s |       127.0.0.1 | POST     \"/api/generate\"\n",
      "INFO [update_slots] input truncated | n_ctx=2048 n_erase=250367 n_keep=4 n_left=2044 n_shift=1022 tid=\"138523311972352\" timestamp=1729773325\n",
      "[GIN] 2024/10/24 - 12:35:29 | 200 |   6.12966665s |       127.0.0.1 | POST     \"/api/generate\"\n"
     ]
    },
    {
     "name": "stderr",
     "output_type": "stream",
     "text": [
      "Generating responses:  92%|█████████▏| 956/1039 [1:32:14<12:50,  9.29s/it]"
     ]
    },
    {
     "name": "stdout",
     "output_type": "stream",
     "text": [
      "[GIN] 2024/10/24 - 12:35:32 | 200 |  1.059065691s |       127.0.0.1 | POST     \"/api/generate\"\n",
      "INFO [update_slots] input truncated | n_ctx=2048 n_erase=250620 n_keep=4 n_left=2044 n_shift=1022 tid=\"138523311972352\" timestamp=1729773334\n",
      "[GIN] 2024/10/24 - 12:35:38 | 200 |  5.948465145s |       127.0.0.1 | POST     \"/api/generate\"\n"
     ]
    },
    {
     "name": "stderr",
     "output_type": "stream",
     "text": [
      "Generating responses:  92%|█████████▏| 957/1039 [1:32:22<12:20,  9.03s/it]"
     ]
    },
    {
     "name": "stdout",
     "output_type": "stream",
     "text": [
      "[GIN] 2024/10/24 - 12:35:40 | 200 |  994.110051ms |       127.0.0.1 | POST     \"/api/generate\"\n",
      "INFO [update_slots] input truncated | n_ctx=2048 n_erase=250866 n_keep=4 n_left=2044 n_shift=1022 tid=\"138523311972352\" timestamp=1729773343\n",
      "[GIN] 2024/10/24 - 12:35:46 | 200 |  6.036682918s |       127.0.0.1 | POST     \"/api/generate\"\n",
      "[GIN] 2024/10/24 - 12:35:49 | 200 |    1.0675584s |       127.0.0.1 | POST     \"/api/generate\"\n"
     ]
    },
    {
     "name": "stderr",
     "output_type": "stream",
     "text": [
      "Generating responses:  92%|█████████▏| 958/1039 [1:32:32<12:26,  9.22s/it]"
     ]
    },
    {
     "name": "stdout",
     "output_type": "stream",
     "text": [
      "[GIN] 2024/10/24 - 12:35:50 | 200 |   1.04404501s |       127.0.0.1 | POST     \"/api/generate\"\n",
      "INFO [update_slots] input truncated | n_ctx=2048 n_erase=251124 n_keep=4 n_left=2044 n_shift=1022 tid=\"138523311972352\" timestamp=1729773352\n",
      "[GIN] 2024/10/24 - 12:35:56 | 200 |  6.215608929s |       127.0.0.1 | POST     \"/api/generate\"\n"
     ]
    },
    {
     "name": "stderr",
     "output_type": "stream",
     "text": [
      "Generating responses:  92%|█████████▏| 959/1039 [1:32:41<12:03,  9.04s/it]"
     ]
    },
    {
     "name": "stdout",
     "output_type": "stream",
     "text": [
      "[GIN] 2024/10/24 - 12:35:58 | 200 |  918.055728ms |       127.0.0.1 | POST     \"/api/generate\"\n",
      "INFO [update_slots] input truncated | n_ctx=2048 n_erase=251368 n_keep=4 n_left=2044 n_shift=1022 tid=\"138523311972352\" timestamp=1729773361\n",
      "[GIN] 2024/10/24 - 12:36:05 | 200 |  6.258311487s |       127.0.0.1 | POST     \"/api/generate\"\n"
     ]
    },
    {
     "name": "stderr",
     "output_type": "stream",
     "text": [
      "Generating responses:  92%|█████████▏| 960/1039 [1:32:49<11:43,  8.90s/it]"
     ]
    },
    {
     "name": "stdout",
     "output_type": "stream",
     "text": [
      "[GIN] 2024/10/24 - 12:36:07 | 200 |  840.626683ms |       127.0.0.1 | POST     \"/api/generate\"\n",
      "INFO [update_slots] input truncated | n_ctx=2048 n_erase=251604 n_keep=4 n_left=2044 n_shift=1022 tid=\"138523311972352\" timestamp=1729773370\n",
      "[GIN] 2024/10/24 - 12:36:13 | 200 |   6.31177434s |       127.0.0.1 | POST     \"/api/generate\"\n"
     ]
    },
    {
     "name": "stderr",
     "output_type": "stream",
     "text": [
      "Generating responses:  92%|█████████▏| 961/1039 [1:32:58<11:27,  8.81s/it]"
     ]
    },
    {
     "name": "stdout",
     "output_type": "stream",
     "text": [
      "[GIN] 2024/10/24 - 12:36:16 | 200 |  778.550896ms |       127.0.0.1 | POST     \"/api/generate\"\n",
      "INFO [update_slots] input truncated | n_ctx=2048 n_erase=251840 n_keep=4 n_left=2044 n_shift=1022 tid=\"138523311972352\" timestamp=1729773378\n",
      "[GIN] 2024/10/24 - 12:36:22 | 200 |  6.209960999s |       127.0.0.1 | POST     \"/api/generate\"\n"
     ]
    },
    {
     "name": "stderr",
     "output_type": "stream",
     "text": [
      "Generating responses:  93%|█████████▎| 962/1039 [1:33:08<11:50,  9.23s/it]"
     ]
    },
    {
     "name": "stdout",
     "output_type": "stream",
     "text": [
      "[GIN] 2024/10/24 - 12:36:26 | 200 |   2.48761594s |       127.0.0.1 | POST     \"/api/generate\"\n",
      "INFO [update_slots] input truncated | n_ctx=2048 n_erase=252175 n_keep=4 n_left=2044 n_shift=1022 tid=\"138523311972352\" timestamp=1729773388\n",
      "[GIN] 2024/10/24 - 12:36:32 | 200 |  6.312652323s |       127.0.0.1 | POST     \"/api/generate\"\n"
     ]
    },
    {
     "name": "stderr",
     "output_type": "stream",
     "text": [
      "Generating responses:  93%|█████████▎| 963/1039 [1:33:17<11:33,  9.13s/it]"
     ]
    },
    {
     "name": "stdout",
     "output_type": "stream",
     "text": [
      "[GIN] 2024/10/24 - 12:36:35 | 200 |  1.027957934s |       127.0.0.1 | POST     \"/api/generate\"\n",
      "INFO [update_slots] input truncated | n_ctx=2048 n_erase=252421 n_keep=4 n_left=2044 n_shift=1022 tid=\"138523311972352\" timestamp=1729773397\n",
      "[GIN] 2024/10/24 - 12:36:41 | 200 |  6.356308054s |       127.0.0.1 | POST     \"/api/generate\"\n"
     ]
    },
    {
     "name": "stderr",
     "output_type": "stream",
     "text": [
      "Generating responses:  93%|█████████▎| 964/1039 [1:33:26<11:14,  8.99s/it]"
     ]
    },
    {
     "name": "stdout",
     "output_type": "stream",
     "text": [
      "[GIN] 2024/10/24 - 12:36:43 | 200 |  824.262042ms |       127.0.0.1 | POST     \"/api/generate\"\n",
      "INFO [update_slots] input truncated | n_ctx=2048 n_erase=252654 n_keep=4 n_left=2044 n_shift=1022 tid=\"138523311972352\" timestamp=1729773406\n",
      "[GIN] 2024/10/24 - 12:36:49 | 200 |  6.082713667s |       127.0.0.1 | POST     \"/api/generate\"\n"
     ]
    },
    {
     "name": "stderr",
     "output_type": "stream",
     "text": [
      "Generating responses:  93%|█████████▎| 965/1039 [1:33:34<10:56,  8.87s/it]"
     ]
    },
    {
     "name": "stdout",
     "output_type": "stream",
     "text": [
      "[GIN] 2024/10/24 - 12:36:52 | 200 |   977.26289ms |       127.0.0.1 | POST     \"/api/generate\"\n",
      "INFO [update_slots] input truncated | n_ctx=2048 n_erase=252902 n_keep=4 n_left=2044 n_shift=1022 tid=\"138523311972352\" timestamp=1729773414\n",
      "[GIN] 2024/10/24 - 12:36:58 | 200 |   6.26330992s |       127.0.0.1 | POST     \"/api/generate\"\n"
     ]
    },
    {
     "name": "stderr",
     "output_type": "stream",
     "text": [
      "Generating responses:  93%|█████████▎| 966/1039 [1:33:43<10:53,  8.95s/it]"
     ]
    },
    {
     "name": "stdout",
     "output_type": "stream",
     "text": [
      "[GIN] 2024/10/24 - 12:37:01 | 200 |  1.332644415s |       127.0.0.1 | POST     \"/api/generate\"\n",
      "INFO [update_slots] input truncated | n_ctx=2048 n_erase=253176 n_keep=4 n_left=2044 n_shift=1022 tid=\"138523311972352\" timestamp=1729773424\n",
      "[GIN] 2024/10/24 - 12:37:07 | 200 |  6.207489755s |       127.0.0.1 | POST     \"/api/generate\"\n"
     ]
    },
    {
     "name": "stderr",
     "output_type": "stream",
     "text": [
      "Generating responses:  93%|█████████▎| 967/1039 [1:33:52<10:35,  8.82s/it]"
     ]
    },
    {
     "name": "stdout",
     "output_type": "stream",
     "text": [
      "[GIN] 2024/10/24 - 12:37:10 | 200 |  802.694335ms |       127.0.0.1 | POST     \"/api/generate\"\n",
      "INFO [update_slots] input truncated | n_ctx=2048 n_erase=253419 n_keep=4 n_left=2044 n_shift=1022 tid=\"138523311972352\" timestamp=1729773432\n",
      "[GIN] 2024/10/24 - 12:37:16 | 200 |  6.274991849s |       127.0.0.1 | POST     \"/api/generate\"\n"
     ]
    },
    {
     "name": "stderr",
     "output_type": "stream",
     "text": [
      "Generating responses:  93%|█████████▎| 968/1039 [1:34:00<10:24,  8.80s/it]"
     ]
    },
    {
     "name": "stdout",
     "output_type": "stream",
     "text": [
      "[GIN] 2024/10/24 - 12:37:18 | 200 |  943.383284ms |       127.0.0.1 | POST     \"/api/generate\"\n",
      "INFO [update_slots] input truncated | n_ctx=2048 n_erase=253665 n_keep=4 n_left=2044 n_shift=1022 tid=\"138523311972352\" timestamp=1729773441\n",
      "[GIN] 2024/10/24 - 12:37:25 | 200 |    6.3649007s |       127.0.0.1 | POST     \"/api/generate\"\n"
     ]
    },
    {
     "name": "stderr",
     "output_type": "stream",
     "text": [
      "Generating responses:  93%|█████████▎| 969/1039 [1:34:09<10:17,  8.82s/it]"
     ]
    },
    {
     "name": "stdout",
     "output_type": "stream",
     "text": [
      "[GIN] 2024/10/24 - 12:37:27 | 200 |  980.515062ms |       127.0.0.1 | POST     \"/api/generate\"\n",
      "INFO [update_slots] input truncated | n_ctx=2048 n_erase=253910 n_keep=4 n_left=2044 n_shift=1022 tid=\"138523311972352\" timestamp=1729773450\n",
      "[GIN] 2024/10/24 - 12:37:33 | 200 |  6.085198244s |       127.0.0.1 | POST     \"/api/generate\"\n",
      "[GIN] 2024/10/24 - 12:37:36 | 200 |  1.179961528s |       127.0.0.1 | POST     \"/api/generate\"\n"
     ]
    },
    {
     "name": "stderr",
     "output_type": "stream",
     "text": [
      "Generating responses:  93%|█████████▎| 970/1039 [1:34:19<10:25,  9.06s/it]"
     ]
    },
    {
     "name": "stdout",
     "output_type": "stream",
     "text": [
      "[GIN] 2024/10/24 - 12:37:37 | 200 |  846.076622ms |       127.0.0.1 | POST     \"/api/generate\"\n",
      "INFO [update_slots] input truncated | n_ctx=2048 n_erase=254171 n_keep=4 n_left=2044 n_shift=1022 tid=\"138523311972352\" timestamp=1729773459\n",
      "[GIN] 2024/10/24 - 12:37:43 | 200 |  6.632718022s |       127.0.0.1 | POST     \"/api/generate\"\n"
     ]
    },
    {
     "name": "stderr",
     "output_type": "stream",
     "text": [
      "Generating responses:  93%|█████████▎| 971/1039 [1:34:29<10:28,  9.24s/it]"
     ]
    },
    {
     "name": "stdout",
     "output_type": "stream",
     "text": [
      "[GIN] 2024/10/24 - 12:37:46 | 200 |  1.476008698s |       127.0.0.1 | POST     \"/api/generate\"\n",
      "INFO [update_slots] input truncated | n_ctx=2048 n_erase=254441 n_keep=4 n_left=2044 n_shift=1022 tid=\"138523311972352\" timestamp=1729773469\n",
      "[GIN] 2024/10/24 - 12:37:53 | 200 |  6.257131581s |       127.0.0.1 | POST     \"/api/generate\"\n"
     ]
    },
    {
     "name": "stderr",
     "output_type": "stream",
     "text": [
      "Generating responses:  94%|█████████▎| 972/1039 [1:34:38<10:17,  9.22s/it]"
     ]
    },
    {
     "name": "stdout",
     "output_type": "stream",
     "text": [
      "[GIN] 2024/10/24 - 12:37:56 | 200 |  1.370647281s |       127.0.0.1 | POST     \"/api/generate\"\n",
      "INFO [update_slots] input truncated | n_ctx=2048 n_erase=254716 n_keep=4 n_left=2044 n_shift=1022 tid=\"138523311972352\" timestamp=1729773478\n",
      "[GIN] 2024/10/24 - 12:38:02 | 200 |  6.233578543s |       127.0.0.1 | POST     \"/api/generate\"\n",
      "[GIN] 2024/10/24 - 12:38:04 | 200 |  681.431055ms |       127.0.0.1 | POST     \"/api/generate\"\n"
     ]
    },
    {
     "name": "stderr",
     "output_type": "stream",
     "text": [
      "Generating responses:  94%|█████████▎| 973/1039 [1:34:48<10:23,  9.44s/it]"
     ]
    },
    {
     "name": "stdout",
     "output_type": "stream",
     "text": [
      "[GIN] 2024/10/24 - 12:38:06 | 200 |  1.487868026s |       127.0.0.1 | POST     \"/api/generate\"\n",
      "INFO [update_slots] input truncated | n_ctx=2048 n_erase=254944 n_keep=4 n_left=2044 n_shift=1022 tid=\"138523311972352\" timestamp=1729773488\n",
      "[GIN] 2024/10/24 - 12:38:12 | 200 |  6.150292628s |       127.0.0.1 | POST     \"/api/generate\"\n"
     ]
    },
    {
     "name": "stderr",
     "output_type": "stream",
     "text": [
      "Generating responses:  94%|█████████▎| 974/1039 [1:34:57<10:17,  9.50s/it]"
     ]
    },
    {
     "name": "stdout",
     "output_type": "stream",
     "text": [
      "[GIN] 2024/10/24 - 12:38:15 | 200 |  1.951869432s |       127.0.0.1 | POST     \"/api/generate\"\n",
      "INFO [update_slots] input truncated | n_ctx=2048 n_erase=255254 n_keep=4 n_left=2044 n_shift=1022 tid=\"138523311972352\" timestamp=1729773498\n",
      "[GIN] 2024/10/24 - 12:38:22 | 200 |  6.440505141s |       127.0.0.1 | POST     \"/api/generate\"\n"
     ]
    },
    {
     "name": "stderr",
     "output_type": "stream",
     "text": [
      "Generating responses:  94%|█████████▍| 975/1039 [1:35:07<10:09,  9.52s/it]"
     ]
    },
    {
     "name": "stdout",
     "output_type": "stream",
     "text": [
      "[GIN] 2024/10/24 - 12:38:25 | 200 |   1.58773558s |       127.0.0.1 | POST     \"/api/generate\"\n",
      "INFO [update_slots] input truncated | n_ctx=2048 n_erase=255543 n_keep=4 n_left=2044 n_shift=1022 tid=\"138523311972352\" timestamp=1729773507\n",
      "[GIN] 2024/10/24 - 12:38:31 | 200 |  6.147566492s |       127.0.0.1 | POST     \"/api/generate\"\n"
     ]
    },
    {
     "name": "stderr",
     "output_type": "stream",
     "text": [
      "Generating responses:  94%|█████████▍| 976/1039 [1:35:15<09:40,  9.22s/it]"
     ]
    },
    {
     "name": "stdout",
     "output_type": "stream",
     "text": [
      "[GIN] 2024/10/24 - 12:38:33 | 200 |  780.184433ms |       127.0.0.1 | POST     \"/api/generate\"\n",
      "INFO [update_slots] input truncated | n_ctx=2048 n_erase=255778 n_keep=4 n_left=2044 n_shift=1022 tid=\"138523311972352\" timestamp=1729773516\n",
      "[GIN] 2024/10/24 - 12:38:39 | 200 |  6.153203531s |       127.0.0.1 | POST     \"/api/generate\"\n"
     ]
    },
    {
     "name": "stderr",
     "output_type": "stream",
     "text": [
      "Generating responses:  94%|█████████▍| 977/1039 [1:35:24<09:23,  9.09s/it]"
     ]
    },
    {
     "name": "stdout",
     "output_type": "stream",
     "text": [
      "[GIN] 2024/10/24 - 12:38:42 | 200 |  970.424401ms |       127.0.0.1 | POST     \"/api/generate\"\n",
      "INFO [update_slots] input truncated | n_ctx=2048 n_erase=256031 n_keep=4 n_left=2044 n_shift=1022 tid=\"138523311972352\" timestamp=1729773525\n",
      "[GIN] 2024/10/24 - 12:38:49 | 200 |  6.442241307s |       127.0.0.1 | POST     \"/api/generate\"\n"
     ]
    },
    {
     "name": "stderr",
     "output_type": "stream",
     "text": [
      "Generating responses:  94%|█████████▍| 978/1039 [1:35:35<09:35,  9.44s/it]"
     ]
    },
    {
     "name": "stdout",
     "output_type": "stream",
     "text": [
      "[GIN] 2024/10/24 - 12:38:52 | 200 |  2.223011864s |       127.0.0.1 | POST     \"/api/generate\"\n",
      "INFO [update_slots] input truncated | n_ctx=2048 n_erase=256351 n_keep=4 n_left=2044 n_shift=1022 tid=\"138523311972352\" timestamp=1729773535\n",
      "[GIN] 2024/10/24 - 12:38:59 | 200 |  6.271830779s |       127.0.0.1 | POST     \"/api/generate\"\n"
     ]
    },
    {
     "name": "stderr",
     "output_type": "stream",
     "text": [
      "Generating responses:  94%|█████████▍| 979/1039 [1:35:43<09:11,  9.20s/it]"
     ]
    },
    {
     "name": "stdout",
     "output_type": "stream",
     "text": [
      "[GIN] 2024/10/24 - 12:39:01 | 200 |   763.85679ms |       127.0.0.1 | POST     \"/api/generate\"\n",
      "INFO [update_slots] input truncated | n_ctx=2048 n_erase=256583 n_keep=4 n_left=2044 n_shift=1022 tid=\"138523311972352\" timestamp=1729773544\n",
      "[GIN] 2024/10/24 - 12:39:07 | 200 |  6.226133382s |       127.0.0.1 | POST     \"/api/generate\"\n"
     ]
    },
    {
     "name": "stderr",
     "output_type": "stream",
     "text": [
      "Generating responses:  94%|█████████▍| 980/1039 [1:35:53<09:06,  9.27s/it]"
     ]
    },
    {
     "name": "stdout",
     "output_type": "stream",
     "text": [
      "[GIN] 2024/10/24 - 12:39:10 | 200 |  1.635092515s |       127.0.0.1 | POST     \"/api/generate\"\n",
      "INFO [update_slots] input truncated | n_ctx=2048 n_erase=256872 n_keep=4 n_left=2044 n_shift=1022 tid=\"138523311972352\" timestamp=1729773553\n",
      "[GIN] 2024/10/24 - 12:39:17 | 200 |  6.519916387s |       127.0.0.1 | POST     \"/api/generate\"\n"
     ]
    },
    {
     "name": "stderr",
     "output_type": "stream",
     "text": [
      "Generating responses:  94%|█████████▍| 981/1039 [1:36:02<08:53,  9.20s/it]"
     ]
    },
    {
     "name": "stdout",
     "output_type": "stream",
     "text": [
      "[GIN] 2024/10/24 - 12:39:19 | 200 |  945.275315ms |       127.0.0.1 | POST     \"/api/generate\"\n",
      "INFO [update_slots] input truncated | n_ctx=2048 n_erase=257111 n_keep=4 n_left=2044 n_shift=1022 tid=\"138523311972352\" timestamp=1729773562\n",
      "[GIN] 2024/10/24 - 12:39:26 | 200 |  6.312739341s |       127.0.0.1 | POST     \"/api/generate\"\n"
     ]
    },
    {
     "name": "stderr",
     "output_type": "stream",
     "text": [
      "Generating responses:  95%|█████████▍| 982/1039 [1:36:11<08:52,  9.34s/it]"
     ]
    },
    {
     "name": "stdout",
     "output_type": "stream",
     "text": [
      "[GIN] 2024/10/24 - 12:39:29 | 200 |  1.782856838s |       127.0.0.1 | POST     \"/api/generate\"\n",
      "INFO [update_slots] input truncated | n_ctx=2048 n_erase=257401 n_keep=4 n_left=2044 n_shift=1022 tid=\"138523311972352\" timestamp=1729773572\n",
      "[GIN] 2024/10/24 - 12:39:35 | 200 |  6.303756549s |       127.0.0.1 | POST     \"/api/generate\"\n"
     ]
    },
    {
     "name": "stderr",
     "output_type": "stream",
     "text": [
      "Generating responses:  95%|█████████▍| 983/1039 [1:36:20<08:33,  9.17s/it]"
     ]
    },
    {
     "name": "stdout",
     "output_type": "stream",
     "text": [
      "[GIN] 2024/10/24 - 12:39:38 | 200 |  893.386753ms |       127.0.0.1 | POST     \"/api/generate\"\n",
      "INFO [update_slots] input truncated | n_ctx=2048 n_erase=257641 n_keep=4 n_left=2044 n_shift=1022 tid=\"138523311972352\" timestamp=1729773581\n",
      "[GIN] 2024/10/24 - 12:39:44 | 200 |  6.500476919s |       127.0.0.1 | POST     \"/api/generate\"\n"
     ]
    },
    {
     "name": "stderr",
     "output_type": "stream",
     "text": [
      "Generating responses:  95%|█████████▍| 984/1039 [1:36:29<08:19,  9.08s/it]"
     ]
    },
    {
     "name": "stdout",
     "output_type": "stream",
     "text": [
      "[GIN] 2024/10/24 - 12:39:47 | 200 |  774.214823ms |       127.0.0.1 | POST     \"/api/generate\"\n",
      "INFO [update_slots] input truncated | n_ctx=2048 n_erase=257876 n_keep=4 n_left=2044 n_shift=1022 tid=\"138523311972352\" timestamp=1729773589\n",
      "[GIN] 2024/10/24 - 12:39:53 | 200 |  6.329127759s |       127.0.0.1 | POST     \"/api/generate\"\n"
     ]
    },
    {
     "name": "stderr",
     "output_type": "stream",
     "text": [
      "Generating responses:  95%|█████████▍| 985/1039 [1:36:39<08:20,  9.27s/it]"
     ]
    },
    {
     "name": "stdout",
     "output_type": "stream",
     "text": [
      "[GIN] 2024/10/24 - 12:39:57 | 200 |  1.836247873s |       127.0.0.1 | POST     \"/api/generate\"\n",
      "INFO [update_slots] input truncated | n_ctx=2048 n_erase=258179 n_keep=4 n_left=2044 n_shift=1022 tid=\"138523311972352\" timestamp=1729773599\n",
      "[GIN] 2024/10/24 - 12:40:03 | 200 |  6.442635147s |       127.0.0.1 | POST     \"/api/generate\"\n"
     ]
    },
    {
     "name": "stderr",
     "output_type": "stream",
     "text": [
      "Generating responses:  95%|█████████▍| 986/1039 [1:36:48<08:09,  9.23s/it]"
     ]
    },
    {
     "name": "stdout",
     "output_type": "stream",
     "text": [
      "[GIN] 2024/10/24 - 12:40:06 | 200 |  1.118655878s |       127.0.0.1 | POST     \"/api/generate\"\n",
      "INFO [update_slots] input truncated | n_ctx=2048 n_erase=258432 n_keep=4 n_left=2044 n_shift=1022 tid=\"138523311972352\" timestamp=1729773608\n",
      "[GIN] 2024/10/24 - 12:40:12 | 200 |  6.173311315s |       127.0.0.1 | POST     \"/api/generate\"\n",
      "[GIN] 2024/10/24 - 12:40:14 | 200 |  873.451805ms |       127.0.0.1 | POST     \"/api/generate\"\n"
     ]
    },
    {
     "name": "stderr",
     "output_type": "stream",
     "text": [
      "Generating responses:  95%|█████████▍| 987/1039 [1:36:57<08:03,  9.30s/it]"
     ]
    },
    {
     "name": "stdout",
     "output_type": "stream",
     "text": [
      "[GIN] 2024/10/24 - 12:40:15 | 200 |  830.267805ms |       127.0.0.1 | POST     \"/api/generate\"\n",
      "INFO [update_slots] input truncated | n_ctx=2048 n_erase=258674 n_keep=4 n_left=2044 n_shift=1022 tid=\"138523311972352\" timestamp=1729773618\n",
      "[GIN] 2024/10/24 - 12:40:22 | 200 |  6.694501029s |       127.0.0.1 | POST     \"/api/generate\"\n"
     ]
    },
    {
     "name": "stderr",
     "output_type": "stream",
     "text": [
      "Generating responses:  95%|█████████▌| 988/1039 [1:37:10<08:40, 10.21s/it]"
     ]
    },
    {
     "name": "stdout",
     "output_type": "stream",
     "text": [
      "[GIN] 2024/10/24 - 12:40:27 | 200 |  4.035603334s |       127.0.0.1 | POST     \"/api/generate\"\n",
      "INFO [update_slots] input truncated | n_ctx=2048 n_erase=259094 n_keep=4 n_left=2044 n_shift=1022 tid=\"138523311972352\" timestamp=1729773630\n",
      "[GIN] 2024/10/24 - 12:40:34 | 200 |  6.389924443s |       127.0.0.1 | POST     \"/api/generate\"\n",
      "[GIN] 2024/10/24 - 12:40:37 | 200 |  1.089087126s |       127.0.0.1 | POST     \"/api/generate\"\n"
     ]
    },
    {
     "name": "stderr",
     "output_type": "stream",
     "text": [
      "Generating responses:  95%|█████████▌| 989/1039 [1:37:20<08:26, 10.13s/it]"
     ]
    },
    {
     "name": "stdout",
     "output_type": "stream",
     "text": [
      "[GIN] 2024/10/24 - 12:40:37 | 200 |  856.829314ms |       127.0.0.1 | POST     \"/api/generate\"\n",
      "INFO [update_slots] input truncated | n_ctx=2048 n_erase=259352 n_keep=4 n_left=2044 n_shift=1022 tid=\"138523311972352\" timestamp=1729773640\n",
      "[GIN] 2024/10/24 - 12:40:44 | 200 |   6.51809807s |       127.0.0.1 | POST     \"/api/generate\"\n"
     ]
    },
    {
     "name": "stderr",
     "output_type": "stream",
     "text": [
      "Generating responses:  95%|█████████▌| 990/1039 [1:37:29<08:13, 10.07s/it]"
     ]
    },
    {
     "name": "stdout",
     "output_type": "stream",
     "text": [
      "[GIN] 2024/10/24 - 12:40:47 | 200 |  1.828167244s |       127.0.0.1 | POST     \"/api/generate\"\n",
      "INFO [update_slots] input truncated | n_ctx=2048 n_erase=259649 n_keep=4 n_left=2044 n_shift=1022 tid=\"138523311972352\" timestamp=1729773650\n",
      "[GIN] 2024/10/24 - 12:40:54 | 200 |  7.064847344s |       127.0.0.1 | POST     \"/api/generate\"\n"
     ]
    },
    {
     "name": "stderr",
     "output_type": "stream",
     "text": [
      "Generating responses:  95%|█████████▌| 991/1039 [1:37:40<08:07, 10.16s/it]"
     ]
    },
    {
     "name": "stdout",
     "output_type": "stream",
     "text": [
      "[GIN] 2024/10/24 - 12:40:58 | 200 |  1.675194685s |       127.0.0.1 | POST     \"/api/generate\"\n",
      "INFO [update_slots] input truncated | n_ctx=2048 n_erase=259928 n_keep=4 n_left=2044 n_shift=1022 tid=\"138523311972352\" timestamp=1729773660\n",
      "[GIN] 2024/10/24 - 12:41:04 | 200 |  6.440031705s |       127.0.0.1 | POST     \"/api/generate\"\n"
     ]
    },
    {
     "name": "stderr",
     "output_type": "stream",
     "text": [
      "Generating responses:  95%|█████████▌| 992/1039 [1:37:49<07:40,  9.80s/it]"
     ]
    },
    {
     "name": "stdout",
     "output_type": "stream",
     "text": [
      "[GIN] 2024/10/24 - 12:41:07 | 200 |  907.116517ms |       127.0.0.1 | POST     \"/api/generate\"\n",
      "INFO [update_slots] input truncated | n_ctx=2048 n_erase=260170 n_keep=4 n_left=2044 n_shift=1022 tid=\"138523311972352\" timestamp=1729773669\n",
      "[GIN] 2024/10/24 - 12:41:13 | 200 |  6.357436542s |       127.0.0.1 | POST     \"/api/generate\"\n"
     ]
    },
    {
     "name": "stderr",
     "output_type": "stream",
     "text": [
      "Generating responses:  96%|█████████▌| 993/1039 [1:37:58<07:21,  9.60s/it]"
     ]
    },
    {
     "name": "stdout",
     "output_type": "stream",
     "text": [
      "[GIN] 2024/10/24 - 12:41:16 | 200 |  1.171850599s |       127.0.0.1 | POST     \"/api/generate\"\n",
      "INFO [update_slots] input truncated | n_ctx=2048 n_erase=260426 n_keep=4 n_left=2044 n_shift=1022 tid=\"138523311972352\" timestamp=1729773678\n",
      "[GIN] 2024/10/24 - 12:41:22 | 200 |  6.535156415s |       127.0.0.1 | POST     \"/api/generate\"\n"
     ]
    },
    {
     "name": "stderr",
     "output_type": "stream",
     "text": [
      "Generating responses:  96%|█████████▌| 994/1039 [1:38:08<07:19,  9.76s/it]"
     ]
    },
    {
     "name": "stdout",
     "output_type": "stream",
     "text": [
      "[GIN] 2024/10/24 - 12:41:26 | 200 |   2.00600961s |       127.0.0.1 | POST     \"/api/generate\"\n",
      "INFO [update_slots] input truncated | n_ctx=2048 n_erase=260739 n_keep=4 n_left=2044 n_shift=1022 tid=\"138523311972352\" timestamp=1729773689\n",
      "[GIN] 2024/10/24 - 12:41:32 | 200 |  6.293631656s |       127.0.0.1 | POST     \"/api/generate\"\n"
     ]
    },
    {
     "name": "stderr",
     "output_type": "stream",
     "text": [
      "Generating responses:  96%|█████████▌| 995/1039 [1:38:17<06:55,  9.44s/it]"
     ]
    },
    {
     "name": "stdout",
     "output_type": "stream",
     "text": [
      "[GIN] 2024/10/24 - 12:41:35 | 200 |   766.68151ms |       127.0.0.1 | POST     \"/api/generate\"\n",
      "INFO [update_slots] input truncated | n_ctx=2048 n_erase=260983 n_keep=4 n_left=2044 n_shift=1022 tid=\"138523311972352\" timestamp=1729773697\n",
      "[GIN] 2024/10/24 - 12:41:41 | 200 |  6.398347285s |       127.0.0.1 | POST     \"/api/generate\"\n"
     ]
    },
    {
     "name": "stderr",
     "output_type": "stream",
     "text": [
      "Generating responses:  96%|█████████▌| 996/1039 [1:38:26<06:47,  9.47s/it]"
     ]
    },
    {
     "name": "stdout",
     "output_type": "stream",
     "text": [
      "[GIN] 2024/10/24 - 12:41:44 | 200 |  1.538310871s |       127.0.0.1 | POST     \"/api/generate\"\n",
      "INFO [update_slots] input truncated | n_ctx=2048 n_erase=261264 n_keep=4 n_left=2044 n_shift=1022 tid=\"138523311972352\" timestamp=1729773707\n",
      "[GIN] 2024/10/24 - 12:41:51 | 200 |  6.487920018s |       127.0.0.1 | POST     \"/api/generate\"\n",
      "[GIN] 2024/10/24 - 12:41:53 | 200 |  898.324775ms |       127.0.0.1 | POST     \"/api/generate\"\n"
     ]
    },
    {
     "name": "stderr",
     "output_type": "stream",
     "text": [
      "Generating responses:  96%|█████████▌| 997/1039 [1:38:37<06:50,  9.77s/it]"
     ]
    },
    {
     "name": "stdout",
     "output_type": "stream",
     "text": [
      "[GIN] 2024/10/24 - 12:41:55 | 200 |  1.205084526s |       127.0.0.1 | POST     \"/api/generate\"\n",
      "INFO [update_slots] input truncated | n_ctx=2048 n_erase=261512 n_keep=4 n_left=2044 n_shift=1022 tid=\"138523311972352\" timestamp=1729773717\n",
      "[GIN] 2024/10/24 - 12:42:01 | 200 |  6.489866913s |       127.0.0.1 | POST     \"/api/generate\"\n",
      "[GIN] 2024/10/24 - 12:42:04 | 200 |  877.933511ms |       127.0.0.1 | POST     \"/api/generate\"\n"
     ]
    },
    {
     "name": "stderr",
     "output_type": "stream",
     "text": [
      "Generating responses:  96%|█████████▌| 998/1039 [1:38:47<06:45,  9.89s/it]"
     ]
    },
    {
     "name": "stdout",
     "output_type": "stream",
     "text": [
      "[GIN] 2024/10/24 - 12:42:05 | 200 |  1.181021251s |       127.0.0.1 | POST     \"/api/generate\"\n",
      "INFO [update_slots] input truncated | n_ctx=2048 n_erase=261756 n_keep=4 n_left=2044 n_shift=1022 tid=\"138523311972352\" timestamp=1729773727\n",
      "[GIN] 2024/10/24 - 12:42:11 | 200 |  6.491601537s |       127.0.0.1 | POST     \"/api/generate\"\n"
     ]
    },
    {
     "name": "stderr",
     "output_type": "stream",
     "text": [
      "Generating responses:  96%|█████████▌| 999/1039 [1:38:56<06:23,  9.58s/it]"
     ]
    },
    {
     "name": "stdout",
     "output_type": "stream",
     "text": [
      "[GIN] 2024/10/24 - 12:42:14 | 200 |  745.176991ms |       127.0.0.1 | POST     \"/api/generate\"\n",
      "INFO [update_slots] input truncated | n_ctx=2048 n_erase=261986 n_keep=4 n_left=2044 n_shift=1022 tid=\"138523311972352\" timestamp=1729773736\n",
      "[GIN] 2024/10/24 - 12:42:20 | 200 |  6.443250477s |       127.0.0.1 | POST     \"/api/generate\"\n"
     ]
    },
    {
     "name": "stderr",
     "output_type": "stream",
     "text": [
      "Generating responses:  96%|█████████▌| 1000/1039 [1:39:05<06:07,  9.42s/it]"
     ]
    },
    {
     "name": "stdout",
     "output_type": "stream",
     "text": [
      "[GIN] 2024/10/24 - 12:42:23 | 200 |  980.574369ms |       127.0.0.1 | POST     \"/api/generate\"\n",
      "INFO [update_slots] input truncated | n_ctx=2048 n_erase=262244 n_keep=4 n_left=2044 n_shift=1022 tid=\"138523311972352\" timestamp=1729773745\n",
      "[GIN] 2024/10/24 - 12:42:30 | 200 |  7.328528436s |       127.0.0.1 | POST     \"/api/generate\"\n"
     ]
    },
    {
     "name": "stderr",
     "output_type": "stream",
     "text": [
      "Generating responses:  96%|█████████▋| 1001/1039 [1:39:15<06:10,  9.74s/it]"
     ]
    },
    {
     "name": "stdout",
     "output_type": "stream",
     "text": [
      "[GIN] 2024/10/24 - 12:42:33 | 200 |  1.514622274s |       127.0.0.1 | POST     \"/api/generate\"\n",
      "INFO [update_slots] input truncated | n_ctx=2048 n_erase=262519 n_keep=4 n_left=2044 n_shift=1022 tid=\"138523311972352\" timestamp=1729773756\n",
      "[GIN] 2024/10/24 - 12:42:40 | 200 |   6.37667386s |       127.0.0.1 | POST     \"/api/generate\"\n"
     ]
    },
    {
     "name": "stderr",
     "output_type": "stream",
     "text": [
      "Generating responses:  96%|█████████▋| 1002/1039 [1:39:25<05:56,  9.63s/it]"
     ]
    },
    {
     "name": "stdout",
     "output_type": "stream",
     "text": [
      "[GIN] 2024/10/24 - 12:42:43 | 200 |  1.365731018s |       127.0.0.1 | POST     \"/api/generate\"\n",
      "INFO [update_slots] input truncated | n_ctx=2048 n_erase=262788 n_keep=4 n_left=2044 n_shift=1022 tid=\"138523311972352\" timestamp=1729773765\n",
      "[GIN] 2024/10/24 - 12:42:49 | 200 |  6.520127537s |       127.0.0.1 | POST     \"/api/generate\"\n"
     ]
    },
    {
     "name": "stderr",
     "output_type": "stream",
     "text": [
      "Generating responses:  97%|█████████▋| 1003/1039 [1:39:34<05:40,  9.45s/it]"
     ]
    },
    {
     "name": "stdout",
     "output_type": "stream",
     "text": [
      "[GIN] 2024/10/24 - 12:42:52 | 200 |  836.182718ms |       127.0.0.1 | POST     \"/api/generate\"\n",
      "INFO [update_slots] input truncated | n_ctx=2048 n_erase=263029 n_keep=4 n_left=2044 n_shift=1022 tid=\"138523311972352\" timestamp=1729773774\n",
      "[GIN] 2024/10/24 - 12:42:58 | 200 |  6.848105381s |       127.0.0.1 | POST     \"/api/generate\"\n"
     ]
    },
    {
     "name": "stderr",
     "output_type": "stream",
     "text": [
      "Generating responses:  97%|█████████▋| 1004/1039 [1:39:44<05:37,  9.64s/it]"
     ]
    },
    {
     "name": "stdout",
     "output_type": "stream",
     "text": [
      "[GIN] 2024/10/24 - 12:43:02 | 200 |  1.553130389s |       127.0.0.1 | POST     \"/api/generate\"\n",
      "INFO [update_slots] input truncated | n_ctx=2048 n_erase=263307 n_keep=4 n_left=2044 n_shift=1022 tid=\"138523311972352\" timestamp=1729773784\n",
      "[GIN] 2024/10/24 - 12:43:08 | 200 |  6.683845585s |       127.0.0.1 | POST     \"/api/generate\"\n",
      "[GIN] 2024/10/24 - 12:43:11 | 200 |   924.42392ms |       127.0.0.1 | POST     \"/api/generate\"\n"
     ]
    },
    {
     "name": "stderr",
     "output_type": "stream",
     "text": [
      "Generating responses:  97%|█████████▋| 1005/1039 [1:39:54<05:34,  9.84s/it]"
     ]
    },
    {
     "name": "stdout",
     "output_type": "stream",
     "text": [
      "[GIN] 2024/10/24 - 12:43:12 | 200 |  1.006071641s |       127.0.0.1 | POST     \"/api/generate\"\n",
      "INFO [update_slots] input truncated | n_ctx=2048 n_erase=263554 n_keep=4 n_left=2044 n_shift=1022 tid=\"138523311972352\" timestamp=1729773795\n",
      "[GIN] 2024/10/24 - 12:43:19 | 200 |  6.549863632s |       127.0.0.1 | POST     \"/api/generate\"\n"
     ]
    },
    {
     "name": "stderr",
     "output_type": "stream",
     "text": [
      "Generating responses:  97%|█████████▋| 1006/1039 [1:40:06<05:45, 10.47s/it]"
     ]
    },
    {
     "name": "stdout",
     "output_type": "stream",
     "text": [
      "[GIN] 2024/10/24 - 12:43:24 | 200 |  3.731996496s |       127.0.0.1 | POST     \"/api/generate\"\n",
      "INFO [update_slots] input truncated | n_ctx=2048 n_erase=263971 n_keep=4 n_left=2044 n_shift=1022 tid=\"138523311972352\" timestamp=1729773807\n",
      "[GIN] 2024/10/24 - 12:43:30 | 200 |  6.548806974s |       127.0.0.1 | POST     \"/api/generate\"\n"
     ]
    },
    {
     "name": "stderr",
     "output_type": "stream",
     "text": [
      "Generating responses:  97%|█████████▋| 1007/1039 [1:40:15<05:23, 10.10s/it]"
     ]
    },
    {
     "name": "stdout",
     "output_type": "stream",
     "text": [
      "[GIN] 2024/10/24 - 12:43:33 | 200 |   996.05286ms |       127.0.0.1 | POST     \"/api/generate\"\n",
      "INFO [update_slots] input truncated | n_ctx=2048 n_erase=264218 n_keep=4 n_left=2044 n_shift=1022 tid=\"138523311972352\" timestamp=1729773816\n",
      "[GIN] 2024/10/24 - 12:43:40 | 200 |  6.378740334s |       127.0.0.1 | POST     \"/api/generate\"\n"
     ]
    },
    {
     "name": "stderr",
     "output_type": "stream",
     "text": [
      "Generating responses:  97%|█████████▋| 1008/1039 [1:40:25<05:04,  9.83s/it]"
     ]
    },
    {
     "name": "stdout",
     "output_type": "stream",
     "text": [
      "[GIN] 2024/10/24 - 12:43:42 | 200 |  1.180627562s |       127.0.0.1 | POST     \"/api/generate\"\n",
      "INFO [update_slots] input truncated | n_ctx=2048 n_erase=264477 n_keep=4 n_left=2044 n_shift=1022 tid=\"138523311972352\" timestamp=1729773825\n",
      "[GIN] 2024/10/24 - 12:43:49 | 200 |  6.224346365s |       127.0.0.1 | POST     \"/api/generate\"\n"
     ]
    },
    {
     "name": "stderr",
     "output_type": "stream",
     "text": [
      "Generating responses:  97%|█████████▋| 1009/1039 [1:40:33<04:44,  9.49s/it]"
     ]
    },
    {
     "name": "stdout",
     "output_type": "stream",
     "text": [
      "[GIN] 2024/10/24 - 12:43:51 | 200 |   784.14446ms |       127.0.0.1 | POST     \"/api/generate\"\n",
      "INFO [update_slots] input truncated | n_ctx=2048 n_erase=264708 n_keep=4 n_left=2044 n_shift=1022 tid=\"138523311972352\" timestamp=1729773834\n",
      "[GIN] 2024/10/24 - 12:43:58 | 200 |  6.471635682s |       127.0.0.1 | POST     \"/api/generate\"\n"
     ]
    },
    {
     "name": "stderr",
     "output_type": "stream",
     "text": [
      "Generating responses:  97%|█████████▋| 1010/1039 [1:40:44<04:42,  9.74s/it]"
     ]
    },
    {
     "name": "stdout",
     "output_type": "stream",
     "text": [
      "[GIN] 2024/10/24 - 12:44:01 | 200 |  2.124985991s |       127.0.0.1 | POST     \"/api/generate\"\n",
      "INFO [update_slots] input truncated | n_ctx=2048 n_erase=265030 n_keep=4 n_left=2044 n_shift=1022 tid=\"138523311972352\" timestamp=1729773844\n",
      "[GIN] 2024/10/24 - 12:44:08 | 200 |  6.467458751s |       127.0.0.1 | POST     \"/api/generate\"\n"
     ]
    },
    {
     "name": "stderr",
     "output_type": "stream",
     "text": [
      "Generating responses:  97%|█████████▋| 1011/1039 [1:40:53<04:31,  9.68s/it]"
     ]
    },
    {
     "name": "stdout",
     "output_type": "stream",
     "text": [
      "[GIN] 2024/10/24 - 12:44:11 | 200 |  1.379853783s |       127.0.0.1 | POST     \"/api/generate\"\n",
      "INFO [update_slots] input truncated | n_ctx=2048 n_erase=265301 n_keep=4 n_left=2044 n_shift=1022 tid=\"138523311972352\" timestamp=1729773854\n",
      "[GIN] 2024/10/24 - 12:44:17 | 200 |  6.510209067s |       127.0.0.1 | POST     \"/api/generate\"\n"
     ]
    },
    {
     "name": "stderr",
     "output_type": "stream",
     "text": [
      "Generating responses:  97%|█████████▋| 1012/1039 [1:41:02<04:14,  9.43s/it]"
     ]
    },
    {
     "name": "stdout",
     "output_type": "stream",
     "text": [
      "[GIN] 2024/10/24 - 12:44:20 | 200 |  656.635404ms |       127.0.0.1 | POST     \"/api/generate\"\n",
      "INFO [update_slots] input truncated | n_ctx=2048 n_erase=265527 n_keep=4 n_left=2044 n_shift=1022 tid=\"138523311972352\" timestamp=1729773862\n",
      "[GIN] 2024/10/24 - 12:44:26 | 200 |   6.27473074s |       127.0.0.1 | POST     \"/api/generate\"\n"
     ]
    },
    {
     "name": "stderr",
     "output_type": "stream",
     "text": [
      "Generating responses:  97%|█████████▋| 1013/1039 [1:41:11<04:01,  9.30s/it]"
     ]
    },
    {
     "name": "stdout",
     "output_type": "stream",
     "text": [
      "[GIN] 2024/10/24 - 12:44:29 | 200 |   1.04990452s |       127.0.0.1 | POST     \"/api/generate\"\n",
      "INFO [update_slots] input truncated | n_ctx=2048 n_erase=265776 n_keep=4 n_left=2044 n_shift=1022 tid=\"138523311972352\" timestamp=1729773872\n",
      "[GIN] 2024/10/24 - 12:44:35 | 200 |   6.56021872s |       127.0.0.1 | POST     \"/api/generate\"\n",
      "[GIN] 2024/10/24 - 12:44:38 | 200 |  827.737933ms |       127.0.0.1 | POST     \"/api/generate\"\n"
     ]
    },
    {
     "name": "stderr",
     "output_type": "stream",
     "text": [
      "Generating responses:  98%|█████████▊| 1014/1039 [1:41:21<03:57,  9.52s/it]"
     ]
    },
    {
     "name": "stdout",
     "output_type": "stream",
     "text": [
      "[GIN] 2024/10/24 - 12:44:39 | 200 |  969.843245ms |       127.0.0.1 | POST     \"/api/generate\"\n",
      "INFO [update_slots] input truncated | n_ctx=2048 n_erase=266019 n_keep=4 n_left=2044 n_shift=1022 tid=\"138523311972352\" timestamp=1729773882\n",
      "[GIN] 2024/10/24 - 12:44:46 | 200 |  6.775821463s |       127.0.0.1 | POST     \"/api/generate\"\n"
     ]
    },
    {
     "name": "stderr",
     "output_type": "stream",
     "text": [
      "Generating responses:  98%|█████████▊| 1015/1039 [1:41:30<03:47,  9.49s/it]"
     ]
    },
    {
     "name": "stdout",
     "output_type": "stream",
     "text": [
      "[GIN] 2024/10/24 - 12:44:48 | 200 |  999.785315ms |       127.0.0.1 | POST     \"/api/generate\"\n",
      "INFO [update_slots] input truncated | n_ctx=2048 n_erase=266270 n_keep=4 n_left=2044 n_shift=1022 tid=\"138523311972352\" timestamp=1729773891\n",
      "[GIN] 2024/10/24 - 12:44:55 | 200 |  6.719977807s |       127.0.0.1 | POST     \"/api/generate\"\n"
     ]
    },
    {
     "name": "stderr",
     "output_type": "stream",
     "text": [
      "Generating responses:  98%|█████████▊| 1016/1039 [1:41:40<03:37,  9.47s/it]"
     ]
    },
    {
     "name": "stdout",
     "output_type": "stream",
     "text": [
      "[GIN] 2024/10/24 - 12:44:58 | 200 |  1.030485643s |       127.0.0.1 | POST     \"/api/generate\"\n",
      "INFO [update_slots] input truncated | n_ctx=2048 n_erase=266530 n_keep=4 n_left=2044 n_shift=1022 tid=\"138523311972352\" timestamp=1729773900\n",
      "[GIN] 2024/10/24 - 12:45:04 | 200 |  6.584309126s |       127.0.0.1 | POST     \"/api/generate\"\n",
      "[GIN] 2024/10/24 - 12:45:07 | 200 |  1.085041108s |       127.0.0.1 | POST     \"/api/generate\"\n"
     ]
    },
    {
     "name": "stderr",
     "output_type": "stream",
     "text": [
      "Generating responses:  98%|█████████▊| 1017/1039 [1:41:51<03:38,  9.93s/it]"
     ]
    },
    {
     "name": "stdout",
     "output_type": "stream",
     "text": [
      "[GIN] 2024/10/24 - 12:45:09 | 200 |   1.63304189s |       127.0.0.1 | POST     \"/api/generate\"\n",
      "INFO [update_slots] input truncated | n_ctx=2048 n_erase=266788 n_keep=4 n_left=2044 n_shift=1022 tid=\"138523311972352\" timestamp=1729773911\n",
      "[GIN] 2024/10/24 - 12:45:15 | 200 |  6.520520168s |       127.0.0.1 | POST     \"/api/generate\"\n"
     ]
    },
    {
     "name": "stderr",
     "output_type": "stream",
     "text": [
      "Generating responses:  98%|█████████▊| 1018/1039 [1:42:00<03:24,  9.73s/it]"
     ]
    },
    {
     "name": "stdout",
     "output_type": "stream",
     "text": [
      "[GIN] 2024/10/24 - 12:45:18 | 200 |  1.061060904s |       127.0.0.1 | POST     \"/api/generate\"\n",
      "INFO [update_slots] input truncated | n_ctx=2048 n_erase=267043 n_keep=4 n_left=2044 n_shift=1022 tid=\"138523311972352\" timestamp=1729773921\n",
      "[GIN] 2024/10/24 - 12:45:24 | 200 |  6.446893626s |       127.0.0.1 | POST     \"/api/generate\"\n"
     ]
    },
    {
     "name": "stderr",
     "output_type": "stream",
     "text": [
      "Generating responses:  98%|█████████▊| 1019/1039 [1:42:09<03:12,  9.62s/it]"
     ]
    },
    {
     "name": "stdout",
     "output_type": "stream",
     "text": [
      "[GIN] 2024/10/24 - 12:45:27 | 200 |  1.245058194s |       127.0.0.1 | POST     \"/api/generate\"\n",
      "INFO [update_slots] input truncated | n_ctx=2048 n_erase=267309 n_keep=4 n_left=2044 n_shift=1022 tid=\"138523311972352\" timestamp=1729773930\n",
      "[GIN] 2024/10/24 - 12:45:34 | 200 |  6.638365398s |       127.0.0.1 | POST     \"/api/generate\"\n"
     ]
    },
    {
     "name": "stderr",
     "output_type": "stream",
     "text": [
      "Generating responses:  98%|█████████▊| 1020/1039 [1:42:19<03:01,  9.54s/it]"
     ]
    },
    {
     "name": "stdout",
     "output_type": "stream",
     "text": [
      "[GIN] 2024/10/24 - 12:45:37 | 200 |  1.012067596s |       127.0.0.1 | POST     \"/api/generate\"\n",
      "INFO [update_slots] input truncated | n_ctx=2048 n_erase=267558 n_keep=4 n_left=2044 n_shift=1022 tid=\"138523311972352\" timestamp=1729773939\n",
      "[GIN] 2024/10/24 - 12:45:43 | 200 |  6.381904297s |       127.0.0.1 | POST     \"/api/generate\"\n"
     ]
    },
    {
     "name": "stderr",
     "output_type": "stream",
     "text": [
      "Generating responses:  98%|█████████▊| 1021/1039 [1:42:28<02:47,  9.31s/it]"
     ]
    },
    {
     "name": "stdout",
     "output_type": "stream",
     "text": [
      "[GIN] 2024/10/24 - 12:45:45 | 200 |  684.290092ms |       127.0.0.1 | POST     \"/api/generate\"\n",
      "INFO [update_slots] input truncated | n_ctx=2048 n_erase=267787 n_keep=4 n_left=2044 n_shift=1022 tid=\"138523311972352\" timestamp=1729773948\n",
      "[GIN] 2024/10/24 - 12:45:52 | 200 |  6.426332115s |       127.0.0.1 | POST     \"/api/generate\"\n",
      "[GIN] 2024/10/24 - 12:45:55 | 200 |  1.155840939s |       127.0.0.1 | POST     \"/api/generate\"\n"
     ]
    },
    {
     "name": "stderr",
     "output_type": "stream",
     "text": [
      "Generating responses:  98%|█████████▊| 1022/1039 [1:42:39<02:47,  9.86s/it]"
     ]
    },
    {
     "name": "stdout",
     "output_type": "stream",
     "text": [
      "[GIN] 2024/10/24 - 12:45:57 | 200 |  1.897091335s |       127.0.0.1 | POST     \"/api/generate\"\n",
      "INFO [update_slots] input truncated | n_ctx=2048 n_erase=268055 n_keep=4 n_left=2044 n_shift=1022 tid=\"138523311972352\" timestamp=1729773959\n",
      "[GIN] 2024/10/24 - 12:46:03 | 200 |  6.630088738s |       127.0.0.1 | POST     \"/api/generate\"\n"
     ]
    },
    {
     "name": "stderr",
     "output_type": "stream",
     "text": [
      "Generating responses:  98%|█████████▊| 1023/1039 [1:42:48<02:37,  9.82s/it]"
     ]
    },
    {
     "name": "stdout",
     "output_type": "stream",
     "text": [
      "[GIN] 2024/10/24 - 12:46:06 | 200 |  1.328468641s |       127.0.0.1 | POST     \"/api/generate\"\n",
      "INFO [update_slots] input truncated | n_ctx=2048 n_erase=268322 n_keep=4 n_left=2044 n_shift=1022 tid=\"138523311972352\" timestamp=1729773969\n",
      "[GIN] 2024/10/24 - 12:46:13 | 200 |  6.401735769s |       127.0.0.1 | POST     \"/api/generate\"\n"
     ]
    },
    {
     "name": "stderr",
     "output_type": "stream",
     "text": [
      "Generating responses:  99%|█████████▊| 1024/1039 [1:42:58<02:27,  9.83s/it]"
     ]
    },
    {
     "name": "stdout",
     "output_type": "stream",
     "text": [
      "[GIN] 2024/10/24 - 12:46:16 | 200 |  1.723413873s |       127.0.0.1 | POST     \"/api/generate\"\n",
      "INFO [update_slots] input truncated | n_ctx=2048 n_erase=268612 n_keep=4 n_left=2044 n_shift=1022 tid=\"138523311972352\" timestamp=1729773979\n",
      "[GIN] 2024/10/24 - 12:46:23 | 200 |  6.712535896s |       127.0.0.1 | POST     \"/api/generate\"\n",
      "[GIN] 2024/10/24 - 12:46:26 | 200 |  1.098406496s |       127.0.0.1 | POST     \"/api/generate\"\n"
     ]
    },
    {
     "name": "stderr",
     "output_type": "stream",
     "text": [
      "Generating responses:  99%|█████████▊| 1025/1039 [1:43:09<02:20, 10.04s/it]"
     ]
    },
    {
     "name": "stdout",
     "output_type": "stream",
     "text": [
      "[GIN] 2024/10/24 - 12:46:27 | 200 |  989.030793ms |       127.0.0.1 | POST     \"/api/generate\"\n",
      "INFO [update_slots] input truncated | n_ctx=2048 n_erase=268862 n_keep=4 n_left=2044 n_shift=1022 tid=\"138523311972352\" timestamp=1729773989\n",
      "[GIN] 2024/10/24 - 12:46:33 | 200 |  6.800602931s |       127.0.0.1 | POST     \"/api/generate\"\n",
      "[GIN] 2024/10/24 - 12:46:36 | 200 |  894.366501ms |       127.0.0.1 | POST     \"/api/generate\"\n"
     ]
    },
    {
     "name": "stderr",
     "output_type": "stream",
     "text": [
      "Generating responses:  99%|█████████▊| 1026/1039 [1:43:19<02:10, 10.07s/it]"
     ]
    },
    {
     "name": "stdout",
     "output_type": "stream",
     "text": [
      "[GIN] 2024/10/24 - 12:46:37 | 200 |  733.011762ms |       127.0.0.1 | POST     \"/api/generate\"\n",
      "INFO [update_slots] input truncated | n_ctx=2048 n_erase=269103 n_keep=4 n_left=2044 n_shift=1022 tid=\"138523311972352\" timestamp=1729774000\n",
      "[GIN] 2024/10/24 - 12:46:43 | 200 |  6.353485983s |       127.0.0.1 | POST     \"/api/generate\"\n"
     ]
    },
    {
     "name": "stderr",
     "output_type": "stream",
     "text": [
      "Generating responses:  99%|█████████▉| 1027/1039 [1:43:28<01:55,  9.65s/it]"
     ]
    },
    {
     "name": "stdout",
     "output_type": "stream",
     "text": [
      "[GIN] 2024/10/24 - 12:46:45 | 200 |  612.409786ms |       127.0.0.1 | POST     \"/api/generate\"\n",
      "INFO [update_slots] input truncated | n_ctx=2048 n_erase=269346 n_keep=4 n_left=2044 n_shift=1022 tid=\"138523311972352\" timestamp=1729774008\n",
      "[GIN] 2024/10/24 - 12:46:52 | 200 |   6.51284023s |       127.0.0.1 | POST     \"/api/generate\"\n"
     ]
    },
    {
     "name": "stderr",
     "output_type": "stream",
     "text": [
      "Generating responses:  99%|█████████▉| 1028/1039 [1:43:37<01:44,  9.48s/it]"
     ]
    },
    {
     "name": "stdout",
     "output_type": "stream",
     "text": [
      "[GIN] 2024/10/24 - 12:46:55 | 200 |  841.314027ms |       127.0.0.1 | POST     \"/api/generate\"\n",
      "INFO [update_slots] input truncated | n_ctx=2048 n_erase=269585 n_keep=4 n_left=2044 n_shift=1022 tid=\"138523311972352\" timestamp=1729774017\n",
      "[GIN] 2024/10/24 - 12:47:01 | 200 |  6.441326224s |       127.0.0.1 | POST     \"/api/generate\"\n"
     ]
    },
    {
     "name": "stderr",
     "output_type": "stream",
     "text": [
      "Generating responses:  99%|█████████▉| 1029/1039 [1:43:47<01:35,  9.59s/it]"
     ]
    },
    {
     "name": "stdout",
     "output_type": "stream",
     "text": [
      "[GIN] 2024/10/24 - 12:47:04 | 200 |  1.705189825s |       127.0.0.1 | POST     \"/api/generate\"\n",
      "INFO [update_slots] input truncated | n_ctx=2048 n_erase=269879 n_keep=4 n_left=2044 n_shift=1022 tid=\"138523311972352\" timestamp=1729774027\n",
      "[GIN] 2024/10/24 - 12:47:11 | 200 |  6.612077942s |       127.0.0.1 | POST     \"/api/generate\"\n"
     ]
    },
    {
     "name": "stderr",
     "output_type": "stream",
     "text": [
      "Generating responses:  99%|█████████▉| 1030/1039 [1:43:56<01:26,  9.66s/it]"
     ]
    },
    {
     "name": "stdout",
     "output_type": "stream",
     "text": [
      "[GIN] 2024/10/24 - 12:47:14 | 200 |  1.509124075s |       127.0.0.1 | POST     \"/api/generate\"\n",
      "INFO [update_slots] input truncated | n_ctx=2048 n_erase=270164 n_keep=4 n_left=2044 n_shift=1022 tid=\"138523311972352\" timestamp=1729774037\n",
      "[GIN] 2024/10/24 - 12:47:21 | 200 |  6.574971731s |       127.0.0.1 | POST     \"/api/generate\"\n",
      "[GIN] 2024/10/24 - 12:47:24 | 200 |  1.185135569s |       127.0.0.1 | POST     \"/api/generate\"\n"
     ]
    },
    {
     "name": "stderr",
     "output_type": "stream",
     "text": [
      "Generating responses:  99%|█████████▉| 1031/1039 [1:44:07<01:19,  9.89s/it]"
     ]
    },
    {
     "name": "stdout",
     "output_type": "stream",
     "text": [
      "[GIN] 2024/10/24 - 12:47:25 | 200 |  939.670121ms |       127.0.0.1 | POST     \"/api/generate\"\n",
      "INFO [update_slots] input truncated | n_ctx=2048 n_erase=270423 n_keep=4 n_left=2044 n_shift=1022 tid=\"138523311972352\" timestamp=1729774047\n",
      "[GIN] 2024/10/24 - 12:47:31 | 200 |  6.568596722s |       127.0.0.1 | POST     \"/api/generate\"\n"
     ]
    },
    {
     "name": "stderr",
     "output_type": "stream",
     "text": [
      "Generating responses:  99%|█████████▉| 1032/1039 [1:44:17<01:09,  9.93s/it]"
     ]
    },
    {
     "name": "stdout",
     "output_type": "stream",
     "text": [
      "[GIN] 2024/10/24 - 12:47:35 | 200 |   1.74117829s |       127.0.0.1 | POST     \"/api/generate\"\n",
      "INFO [update_slots] input truncated | n_ctx=2048 n_erase=270709 n_keep=4 n_left=2044 n_shift=1022 tid=\"138523311972352\" timestamp=1729774057\n",
      "[GIN] 2024/10/24 - 12:47:41 | 200 |  6.530178549s |       127.0.0.1 | POST     \"/api/generate\"\n"
     ]
    },
    {
     "name": "stderr",
     "output_type": "stream",
     "text": [
      "Generating responses:  99%|█████████▉| 1033/1039 [1:44:27<00:59, 10.00s/it]"
     ]
    },
    {
     "name": "stdout",
     "output_type": "stream",
     "text": [
      "[GIN] 2024/10/24 - 12:47:45 | 200 |  1.920234683s |       127.0.0.1 | POST     \"/api/generate\"\n",
      "INFO [update_slots] input truncated | n_ctx=2048 n_erase=271013 n_keep=4 n_left=2044 n_shift=1022 tid=\"138523311972352\" timestamp=1729774068\n",
      "[GIN] 2024/10/24 - 12:47:51 | 200 |  6.448642669s |       127.0.0.1 | POST     \"/api/generate\"\n"
     ]
    },
    {
     "name": "stderr",
     "output_type": "stream",
     "text": [
      "Generating responses: 100%|█████████▉| 1034/1039 [1:44:36<00:48,  9.77s/it]"
     ]
    },
    {
     "name": "stdout",
     "output_type": "stream",
     "text": [
      "[GIN] 2024/10/24 - 12:47:54 | 200 |   1.07910352s |       127.0.0.1 | POST     \"/api/generate\"\n",
      "INFO [update_slots] input truncated | n_ctx=2048 n_erase=271268 n_keep=4 n_left=2044 n_shift=1022 tid=\"138523311972352\" timestamp=1729774077\n",
      "[GIN] 2024/10/24 - 12:48:01 | 200 |  6.483690212s |       127.0.0.1 | POST     \"/api/generate\"\n"
     ]
    },
    {
     "name": "stderr",
     "output_type": "stream",
     "text": [
      "Generating responses: 100%|█████████▉| 1035/1039 [1:44:45<00:38,  9.56s/it]"
     ]
    },
    {
     "name": "stdout",
     "output_type": "stream",
     "text": [
      "[GIN] 2024/10/24 - 12:48:03 | 200 |  782.647478ms |       127.0.0.1 | POST     \"/api/generate\"\n",
      "INFO [update_slots] input truncated | n_ctx=2048 n_erase=271511 n_keep=4 n_left=2044 n_shift=1022 tid=\"138523311972352\" timestamp=1729774086\n",
      "[GIN] 2024/10/24 - 12:48:10 | 200 |  6.738597907s |       127.0.0.1 | POST     \"/api/generate\"\n"
     ]
    },
    {
     "name": "stderr",
     "output_type": "stream",
     "text": [
      "Generating responses: 100%|█████████▉| 1036/1039 [1:44:55<00:28,  9.55s/it]"
     ]
    },
    {
     "name": "stdout",
     "output_type": "stream",
     "text": [
      "[GIN] 2024/10/24 - 12:48:13 | 200 |  961.300803ms |       127.0.0.1 | POST     \"/api/generate\"\n",
      "INFO [update_slots] input truncated | n_ctx=2048 n_erase=271759 n_keep=4 n_left=2044 n_shift=1022 tid=\"138523311972352\" timestamp=1729774095\n",
      "[GIN] 2024/10/24 - 12:48:19 | 200 |  6.377212329s |       127.0.0.1 | POST     \"/api/generate\"\n",
      "[GIN] 2024/10/24 - 12:48:22 | 200 |  1.350304065s |       127.0.0.1 | POST     \"/api/generate\"\n"
     ]
    },
    {
     "name": "stderr",
     "output_type": "stream",
     "text": [
      "Generating responses: 100%|█████████▉| 1037/1039 [1:45:05<00:19,  9.73s/it]"
     ]
    },
    {
     "name": "stdout",
     "output_type": "stream",
     "text": [
      "[GIN] 2024/10/24 - 12:48:23 | 200 |  668.836605ms |       127.0.0.1 | POST     \"/api/generate\"\n",
      "INFO [update_slots] input truncated | n_ctx=2048 n_erase=272034 n_keep=4 n_left=2044 n_shift=1022 tid=\"138523311972352\" timestamp=1729774106\n",
      "[GIN] 2024/10/24 - 12:48:29 | 200 |  6.601977224s |       127.0.0.1 | POST     \"/api/generate\"\n"
     ]
    },
    {
     "name": "stderr",
     "output_type": "stream",
     "text": [
      "Generating responses: 100%|█████████▉| 1038/1039 [1:45:15<00:09,  9.81s/it]"
     ]
    },
    {
     "name": "stdout",
     "output_type": "stream",
     "text": [
      "[GIN] 2024/10/24 - 12:48:33 | 200 |  1.673218949s |       127.0.0.1 | POST     \"/api/generate\"\n",
      "INFO [update_slots] input truncated | n_ctx=2048 n_erase=272323 n_keep=4 n_left=2044 n_shift=1022 tid=\"138523311972352\" timestamp=1729774116\n",
      "[GIN] 2024/10/24 - 12:48:39 | 200 |  6.429342141s |       127.0.0.1 | POST     \"/api/generate\"\n"
     ]
    },
    {
     "name": "stderr",
     "output_type": "stream",
     "text": [
      "Generating responses: 100%|██████████| 1039/1039 [1:45:24<00:00,  6.09s/it]"
     ]
    },
    {
     "name": "stdout",
     "output_type": "stream",
     "text": [
      "[GIN] 2024/10/24 - 12:48:42 | 200 |  1.055392457s |       127.0.0.1 | POST     \"/api/generate\"\n",
      "Submission CSV created successfully.\n"
     ]
    },
    {
     "name": "stderr",
     "output_type": "stream",
     "text": [
      "\n"
     ]
    }
   ],
   "source": [
    "import pandas as pd\n",
    "import numpy as np\n",
    "from sentence_transformers import SentenceTransformer\n",
    "from langchain.embeddings import HuggingFaceEmbeddings\n",
    "from langchain.vectorstores import FAISS\n",
    "from langchain.llms import Ollama\n",
    "from langchain.chains import ConversationalRetrievalChain\n",
    "from langchain.memory import ConversationBufferMemory\n",
    "from langchain.retrievers import ContextualCompressionRetriever\n",
    "from langchain.retrievers.document_compressors import EmbeddingsFilter\n",
    "from langchain.prompts import PromptTemplate\n",
    "from langchain.schema import BaseRetriever\n",
    "from langchain.schema.document import Document\n",
    "from typing import List\n",
    "from pydantic import Field\n",
    "from tqdm import tqdm\n",
    "\n",
    "CONTEXT = \"\"\"\n",
    "Matter is a communication standard for smart home devices by the Connectivity Standards Alliance (CSA). \n",
    "\"\"\"\n",
    "\n",
    "ANSWER_GUIDELINES = \"\"\"\n",
    "When answering, follow these rules:\n",
    "\n",
    "1. Keep the response concise and within **1-3 sentences**. \n",
    "2. Avoid redundant details; answer the question with the most relevant information only.\n",
    "3. Use vocabulary similar to the retrieved examples; aim for simple and direct language.\n",
    "4. Only provide **specific details** if they are explicitly mentioned in the question.\n",
    "5. Maintain the tone and style of the retrieved answers, mirroring brevity and clarity.\n",
    "6. If the question requires a detailed process, outline it **in a few short steps**.\n",
    "7. Refrain from adding new or unrelated information; focus only on answering the core question.\n",
    "\"\"\"\n",
    "\n",
    "def load_and_process_csv(file_path, is_test_data=False):\n",
    "    df = pd.read_csv(file_path)\n",
    "    if is_test_data:\n",
    "        df = df.dropna(subset=['Query'])\n",
    "    else:\n",
    "        df = df.dropna(subset=['Query', 'Response'])\n",
    "    df = df.reset_index(drop=True)\n",
    "    return df\n",
    "\n",
    "def initialize_vector_store(df):\n",
    "    model_kwargs = {'trust_remote_code': True}\n",
    "    encode_kwargs = {'normalize_embeddings': True}\n",
    "    embeddings = HuggingFaceEmbeddings(\n",
    "        model_name=\"nomic-ai/nomic-embed-text-v1.5\",\n",
    "        model_kwargs=model_kwargs,\n",
    "        encode_kwargs=encode_kwargs\n",
    "    )\n",
    "    \n",
    "    texts = [f\"search_document: {text}\" for text in df['Query'].tolist()]\n",
    "    metadatas = df.to_dict('records')\n",
    "    \n",
    "    vector_store = FAISS.from_texts(\n",
    "        texts,\n",
    "        embeddings,\n",
    "        metadatas=metadatas\n",
    "    )\n",
    "    return vector_store, embeddings\n",
    "\n",
    "def initialize_llm():\n",
    "    return Ollama(model=\"qwen2.5:3b\")\n",
    "\n",
    "class PrefixedRetriever(BaseRetriever):\n",
    "    \"\"\"Custom retriever that adds a prefix to queries before passing them to the base retriever.\"\"\"\n",
    "    \n",
    "    base_retriever: BaseRetriever = Field(description=\"Base retriever to wrap\")\n",
    "    \n",
    "    def _get_relevant_documents(self, query: str) -> List[Document]:\n",
    "        \"\"\"Get documents relevant to the query.\"\"\"\n",
    "        prefixed_query = f\"search_query: {query}\"\n",
    "        return self.base_retriever.get_relevant_documents(prefixed_query)\n",
    "        \n",
    "    async def _aget_relevant_documents(self, query: str) -> List[Document]:\n",
    "        \"\"\"Asynchronously get documents relevant to the query.\"\"\"\n",
    "        prefixed_query = f\"search_query: {query}\"\n",
    "        return await self.base_retriever.aget_relevant_documents(prefixed_query)\n",
    "\n",
    "def setup_chain(vector_store, llm, embeddings):\n",
    "    memory = ConversationBufferMemory(\n",
    "        memory_key=\"chat_history\",\n",
    "        return_messages=True,\n",
    "        output_key='answer'\n",
    "    )\n",
    "    \n",
    "    base_retriever = vector_store.as_retriever(search_kwargs={\"k\": 3})\n",
    "    prefixed_retriever = PrefixedRetriever(base_retriever=base_retriever)\n",
    "    \n",
    "    embeddings_filter = EmbeddingsFilter(\n",
    "        embeddings=embeddings,\n",
    "        similarity_threshold=0.7\n",
    "    )\n",
    "    \n",
    "    retriever = ContextualCompressionRetriever(\n",
    "        base_compressor=embeddings_filter,\n",
    "        base_retriever=prefixed_retriever\n",
    "    )\n",
    "    \n",
    "    prompt_template = PromptTemplate(\n",
    "        input_variables=[\"context\", \"question\"],\n",
    "        template=f\"\"\"Context: {{context}}\n",
    "\n",
    "Question: {{question}}\n",
    "\n",
    "{ANSWER_GUIDELINES}\n",
    "\n",
    "Please answer the question based on the given context and your knowledge of the Matter protocol. If the context doesn't provide sufficient information, use your own knowledge to provide the best possible answer.\"\"\"\n",
    "    )\n",
    "    \n",
    "    chain = ConversationalRetrievalChain.from_llm(\n",
    "        llm=llm,\n",
    "        retriever=retriever,\n",
    "        memory=memory,\n",
    "        return_source_documents=True,\n",
    "        return_generated_question=True,\n",
    "        combine_docs_chain_kwargs={\"prompt\": prompt_template}\n",
    "    )\n",
    "    return chain\n",
    "\n",
    "def are_documents_relevant(docs):\n",
    "    return len(docs) > 0\n",
    "\n",
    "def generate_response(chain, llm, query):\n",
    "    full_query = f\"\"\"Context: {CONTEXT}\n",
    "\n",
    "Question: {query}\n",
    "\n",
    "{ANSWER_GUIDELINES}\n",
    "\n",
    "Please answer the question based on the given context and your knowledge of the Matter protocol. If the context doesn't provide sufficient information, use your own knowledge to provide the best possible answer.\"\"\"\n",
    "    \n",
    "    result = chain({\"question\": full_query})\n",
    "    \n",
    "    if are_documents_relevant(result['source_documents']):\n",
    "        return result['answer']\n",
    "    else:\n",
    "        return llm(full_query)\n",
    "\n",
    "def main():\n",
    "    print(\"Loading and processing training data...\")\n",
    "    train_df = load_and_process_csv('/kaggle/input/trustii/data/train.csv', is_test_data=False)\n",
    "    print(f\"Training data loaded. Shape: {train_df.shape}\")\n",
    "\n",
    "    print(\"Initializing vector store with nomic embeddings...\")\n",
    "    vector_store, embeddings = initialize_vector_store(train_df)\n",
    "    llm = initialize_llm()\n",
    "    chain = setup_chain(vector_store, llm, embeddings)\n",
    "    print(\"Initialization complete.\")\n",
    "\n",
    "    print(\"Loading test data...\")\n",
    "    test_df = load_and_process_csv('/kaggle/input/trustii/data/test.csv', is_test_data=True)\n",
    "    print(f\"Test data loaded. Shape: {test_df.shape}\")\n",
    "\n",
    "    print(\"Generating predictions...\")\n",
    "    results = []\n",
    "    for _, row in tqdm(test_df.iterrows(), total=len(test_df), desc=\"Generating responses\"):\n",
    "        response = generate_response(chain, llm, row['Query'])\n",
    "        results.append({\n",
    "            'trustii_id': row['trustii_id'],\n",
    "            'Query': row['Query'],\n",
    "            'Response': response\n",
    "        })\n",
    "\n",
    "    submission_df = pd.DataFrame(results)\n",
    "    submission_df.to_csv('submission.csv', index=False)\n",
    "    print(\"Submission CSV created successfully.\")\n",
    "\n",
    "if __name__ == \"__main__\":\n",
    "    main()"
   ]
  }
 ],
 "metadata": {
  "kaggle": {
   "accelerator": "nvidiaTeslaT4",
   "dataSources": [
    {
     "datasetId": 5903123,
     "sourceId": 9661881,
     "sourceType": "datasetVersion"
    }
   ],
   "dockerImageVersionId": 30787,
   "isGpuEnabled": true,
   "isInternetEnabled": true,
   "language": "python",
   "sourceType": "notebook"
  },
  "kernelspec": {
   "display_name": "Python 3",
   "language": "python",
   "name": "python3"
  },
  "language_info": {
   "codemirror_mode": {
    "name": "ipython",
    "version": 3
   },
   "file_extension": ".py",
   "mimetype": "text/x-python",
   "name": "python",
   "nbconvert_exporter": "python",
   "pygments_lexer": "ipython3",
   "version": "3.10.14"
  },
  "papermill": {
   "default_parameters": {},
   "duration": 6529.452128,
   "end_time": "2024-10-24T12:48:46.325745",
   "environment_variables": {},
   "exception": null,
   "input_path": "__notebook__.ipynb",
   "output_path": "__notebook__.ipynb",
   "parameters": {},
   "start_time": "2024-10-24T10:59:56.873617",
   "version": "2.6.0"
  },
  "widgets": {
   "application/vnd.jupyter.widget-state+json": {
    "state": {
     "03a5f6daee0d49af8777cd5b0b988b2c": {
      "model_module": "@jupyter-widgets/base",
      "model_module_version": "1.2.0",
      "model_name": "LayoutModel",
      "state": {
       "_model_module": "@jupyter-widgets/base",
       "_model_module_version": "1.2.0",
       "_model_name": "LayoutModel",
       "_view_count": null,
       "_view_module": "@jupyter-widgets/base",
       "_view_module_version": "1.2.0",
       "_view_name": "LayoutView",
       "align_content": null,
       "align_items": null,
       "align_self": null,
       "border": null,
       "bottom": null,
       "display": null,
       "flex": null,
       "flex_flow": null,
       "grid_area": null,
       "grid_auto_columns": null,
       "grid_auto_flow": null,
       "grid_auto_rows": null,
       "grid_column": null,
       "grid_gap": null,
       "grid_row": null,
       "grid_template_areas": null,
       "grid_template_columns": null,
       "grid_template_rows": null,
       "height": null,
       "justify_content": null,
       "justify_items": null,
       "left": null,
       "margin": null,
       "max_height": null,
       "max_width": null,
       "min_height": null,
       "min_width": null,
       "object_fit": null,
       "object_position": null,
       "order": null,
       "overflow": null,
       "overflow_x": null,
       "overflow_y": null,
       "padding": null,
       "right": null,
       "top": null,
       "visibility": null,
       "width": null
      }
     },
     "08ed6b17ecd04cbd8611125aedfa96eb": {
      "model_module": "@jupyter-widgets/controls",
      "model_module_version": "1.5.0",
      "model_name": "HTMLModel",
      "state": {
       "_dom_classes": [],
       "_model_module": "@jupyter-widgets/controls",
       "_model_module_version": "1.5.0",
       "_model_name": "HTMLModel",
       "_view_count": null,
       "_view_module": "@jupyter-widgets/controls",
       "_view_module_version": "1.5.0",
       "_view_name": "HTMLView",
       "description": "",
       "description_tooltip": null,
       "layout": "IPY_MODEL_9480c723d3ff4e99b9cc3537db8b2395",
       "placeholder": "​",
       "style": "IPY_MODEL_e65a4641e2aa43bc99bd56bda05a6445",
       "value": "modules.json: 100%"
      }
     },
     "0a105401b9164a489e1c06d531766fa1": {
      "model_module": "@jupyter-widgets/controls",
      "model_module_version": "1.5.0",
      "model_name": "HBoxModel",
      "state": {
       "_dom_classes": [],
       "_model_module": "@jupyter-widgets/controls",
       "_model_module_version": "1.5.0",
       "_model_name": "HBoxModel",
       "_view_count": null,
       "_view_module": "@jupyter-widgets/controls",
       "_view_module_version": "1.5.0",
       "_view_name": "HBoxView",
       "box_style": "",
       "children": [
        "IPY_MODEL_d4e5b14ef4334e179b72a90a295f5976",
        "IPY_MODEL_b0b8b2670cdf47608967e241116ed9bf",
        "IPY_MODEL_6bce7a86d657449395a9025c3e331eee"
       ],
       "layout": "IPY_MODEL_5d43cbe2f7be478db9a9c1f005cceb57"
      }
     },
     "0aaf166a0105407abcb9d17d412b2be5": {
      "model_module": "@jupyter-widgets/controls",
      "model_module_version": "1.5.0",
      "model_name": "DescriptionStyleModel",
      "state": {
       "_model_module": "@jupyter-widgets/controls",
       "_model_module_version": "1.5.0",
       "_model_name": "DescriptionStyleModel",
       "_view_count": null,
       "_view_module": "@jupyter-widgets/base",
       "_view_module_version": "1.2.0",
       "_view_name": "StyleView",
       "description_width": ""
      }
     },
     "0c68d7da5051485abc0a3569c5590359": {
      "model_module": "@jupyter-widgets/base",
      "model_module_version": "1.2.0",
      "model_name": "LayoutModel",
      "state": {
       "_model_module": "@jupyter-widgets/base",
       "_model_module_version": "1.2.0",
       "_model_name": "LayoutModel",
       "_view_count": null,
       "_view_module": "@jupyter-widgets/base",
       "_view_module_version": "1.2.0",
       "_view_name": "LayoutView",
       "align_content": null,
       "align_items": null,
       "align_self": null,
       "border": null,
       "bottom": null,
       "display": null,
       "flex": null,
       "flex_flow": null,
       "grid_area": null,
       "grid_auto_columns": null,
       "grid_auto_flow": null,
       "grid_auto_rows": null,
       "grid_column": null,
       "grid_gap": null,
       "grid_row": null,
       "grid_template_areas": null,
       "grid_template_columns": null,
       "grid_template_rows": null,
       "height": null,
       "justify_content": null,
       "justify_items": null,
       "left": null,
       "margin": null,
       "max_height": null,
       "max_width": null,
       "min_height": null,
       "min_width": null,
       "object_fit": null,
       "object_position": null,
       "order": null,
       "overflow": null,
       "overflow_x": null,
       "overflow_y": null,
       "padding": null,
       "right": null,
       "top": null,
       "visibility": null,
       "width": null
      }
     },
     "0cbdb0285e7b402497d4bd19f823bde5": {
      "model_module": "@jupyter-widgets/controls",
      "model_module_version": "1.5.0",
      "model_name": "DescriptionStyleModel",
      "state": {
       "_model_module": "@jupyter-widgets/controls",
       "_model_module_version": "1.5.0",
       "_model_name": "DescriptionStyleModel",
       "_view_count": null,
       "_view_module": "@jupyter-widgets/base",
       "_view_module_version": "1.2.0",
       "_view_name": "StyleView",
       "description_width": ""
      }
     },
     "0dc7ddd7cf4b4a4c835259d666988516": {
      "model_module": "@jupyter-widgets/base",
      "model_module_version": "1.2.0",
      "model_name": "LayoutModel",
      "state": {
       "_model_module": "@jupyter-widgets/base",
       "_model_module_version": "1.2.0",
       "_model_name": "LayoutModel",
       "_view_count": null,
       "_view_module": "@jupyter-widgets/base",
       "_view_module_version": "1.2.0",
       "_view_name": "LayoutView",
       "align_content": null,
       "align_items": null,
       "align_self": null,
       "border": null,
       "bottom": null,
       "display": null,
       "flex": null,
       "flex_flow": null,
       "grid_area": null,
       "grid_auto_columns": null,
       "grid_auto_flow": null,
       "grid_auto_rows": null,
       "grid_column": null,
       "grid_gap": null,
       "grid_row": null,
       "grid_template_areas": null,
       "grid_template_columns": null,
       "grid_template_rows": null,
       "height": null,
       "justify_content": null,
       "justify_items": null,
       "left": null,
       "margin": null,
       "max_height": null,
       "max_width": null,
       "min_height": null,
       "min_width": null,
       "object_fit": null,
       "object_position": null,
       "order": null,
       "overflow": null,
       "overflow_x": null,
       "overflow_y": null,
       "padding": null,
       "right": null,
       "top": null,
       "visibility": null,
       "width": null
      }
     },
     "14e0f18128bc4548a449bc87bff32aa8": {
      "model_module": "@jupyter-widgets/base",
      "model_module_version": "1.2.0",
      "model_name": "LayoutModel",
      "state": {
       "_model_module": "@jupyter-widgets/base",
       "_model_module_version": "1.2.0",
       "_model_name": "LayoutModel",
       "_view_count": null,
       "_view_module": "@jupyter-widgets/base",
       "_view_module_version": "1.2.0",
       "_view_name": "LayoutView",
       "align_content": null,
       "align_items": null,
       "align_self": null,
       "border": null,
       "bottom": null,
       "display": null,
       "flex": null,
       "flex_flow": null,
       "grid_area": null,
       "grid_auto_columns": null,
       "grid_auto_flow": null,
       "grid_auto_rows": null,
       "grid_column": null,
       "grid_gap": null,
       "grid_row": null,
       "grid_template_areas": null,
       "grid_template_columns": null,
       "grid_template_rows": null,
       "height": null,
       "justify_content": null,
       "justify_items": null,
       "left": null,
       "margin": null,
       "max_height": null,
       "max_width": null,
       "min_height": null,
       "min_width": null,
       "object_fit": null,
       "object_position": null,
       "order": null,
       "overflow": null,
       "overflow_x": null,
       "overflow_y": null,
       "padding": null,
       "right": null,
       "top": null,
       "visibility": null,
       "width": null
      }
     },
     "14ffdc10989e467290e3e367970f8030": {
      "model_module": "@jupyter-widgets/controls",
      "model_module_version": "1.5.0",
      "model_name": "HTMLModel",
      "state": {
       "_dom_classes": [],
       "_model_module": "@jupyter-widgets/controls",
       "_model_module_version": "1.5.0",
       "_model_name": "HTMLModel",
       "_view_count": null,
       "_view_module": "@jupyter-widgets/controls",
       "_view_module_version": "1.5.0",
       "_view_name": "HTMLView",
       "description": "",
       "description_tooltip": null,
       "layout": "IPY_MODEL_b097510b0aa14b4e92a5ebc6e86cdaf3",
       "placeholder": "​",
       "style": "IPY_MODEL_63e9b6de79c546cb92358b01307fe804",
       "value": "special_tokens_map.json: 100%"
      }
     },
     "168c6d61e494455da0981a557ce9a731": {
      "model_module": "@jupyter-widgets/controls",
      "model_module_version": "1.5.0",
      "model_name": "DescriptionStyleModel",
      "state": {
       "_model_module": "@jupyter-widgets/controls",
       "_model_module_version": "1.5.0",
       "_model_name": "DescriptionStyleModel",
       "_view_count": null,
       "_view_module": "@jupyter-widgets/base",
       "_view_module_version": "1.2.0",
       "_view_name": "StyleView",
       "description_width": ""
      }
     },
     "169d726e709644269a614946ac7ff740": {
      "model_module": "@jupyter-widgets/controls",
      "model_module_version": "1.5.0",
      "model_name": "HTMLModel",
      "state": {
       "_dom_classes": [],
       "_model_module": "@jupyter-widgets/controls",
       "_model_module_version": "1.5.0",
       "_model_name": "HTMLModel",
       "_view_count": null,
       "_view_module": "@jupyter-widgets/controls",
       "_view_module_version": "1.5.0",
       "_view_name": "HTMLView",
       "description": "",
       "description_tooltip": null,
       "layout": "IPY_MODEL_a823398fe33640b8aacf258c1864a6cc",
       "placeholder": "​",
       "style": "IPY_MODEL_29653ff942864c1aab2cd606b054ce7a",
       "value": "1_Pooling/config.json: 100%"
      }
     },
     "19578ee96763418291a9d837594384a9": {
      "model_module": "@jupyter-widgets/controls",
      "model_module_version": "1.5.0",
      "model_name": "ProgressStyleModel",
      "state": {
       "_model_module": "@jupyter-widgets/controls",
       "_model_module_version": "1.5.0",
       "_model_name": "ProgressStyleModel",
       "_view_count": null,
       "_view_module": "@jupyter-widgets/base",
       "_view_module_version": "1.2.0",
       "_view_name": "StyleView",
       "bar_color": null,
       "description_width": ""
      }
     },
     "19d2dc9fb413428b9063720d970f791c": {
      "model_module": "@jupyter-widgets/base",
      "model_module_version": "1.2.0",
      "model_name": "LayoutModel",
      "state": {
       "_model_module": "@jupyter-widgets/base",
       "_model_module_version": "1.2.0",
       "_model_name": "LayoutModel",
       "_view_count": null,
       "_view_module": "@jupyter-widgets/base",
       "_view_module_version": "1.2.0",
       "_view_name": "LayoutView",
       "align_content": null,
       "align_items": null,
       "align_self": null,
       "border": null,
       "bottom": null,
       "display": null,
       "flex": null,
       "flex_flow": null,
       "grid_area": null,
       "grid_auto_columns": null,
       "grid_auto_flow": null,
       "grid_auto_rows": null,
       "grid_column": null,
       "grid_gap": null,
       "grid_row": null,
       "grid_template_areas": null,
       "grid_template_columns": null,
       "grid_template_rows": null,
       "height": null,
       "justify_content": null,
       "justify_items": null,
       "left": null,
       "margin": null,
       "max_height": null,
       "max_width": null,
       "min_height": null,
       "min_width": null,
       "object_fit": null,
       "object_position": null,
       "order": null,
       "overflow": null,
       "overflow_x": null,
       "overflow_y": null,
       "padding": null,
       "right": null,
       "top": null,
       "visibility": null,
       "width": null
      }
     },
     "1b80acdfc9a745e1bb51d62f1f9f23aa": {
      "model_module": "@jupyter-widgets/controls",
      "model_module_version": "1.5.0",
      "model_name": "FloatProgressModel",
      "state": {
       "_dom_classes": [],
       "_model_module": "@jupyter-widgets/controls",
       "_model_module_version": "1.5.0",
       "_model_name": "FloatProgressModel",
       "_view_count": null,
       "_view_module": "@jupyter-widgets/controls",
       "_view_module_version": "1.5.0",
       "_view_name": "ProgressView",
       "bar_style": "success",
       "description": "",
       "description_tooltip": null,
       "layout": "IPY_MODEL_969992a191e54c2c8f71c8214dbcaf14",
       "max": 120.0,
       "min": 0.0,
       "orientation": "horizontal",
       "style": "IPY_MODEL_7341b6d0c6294c72a2d06772a3a54c33",
       "value": 120.0
      }
     },
     "1ba1a01d096a49d6958003f9c02ba5fe": {
      "model_module": "@jupyter-widgets/controls",
      "model_module_version": "1.5.0",
      "model_name": "DescriptionStyleModel",
      "state": {
       "_model_module": "@jupyter-widgets/controls",
       "_model_module_version": "1.5.0",
       "_model_name": "DescriptionStyleModel",
       "_view_count": null,
       "_view_module": "@jupyter-widgets/base",
       "_view_module_version": "1.2.0",
       "_view_name": "StyleView",
       "description_width": ""
      }
     },
     "1beb5f7c19274cf883b3d0e5e37fb83c": {
      "model_module": "@jupyter-widgets/controls",
      "model_module_version": "1.5.0",
      "model_name": "HBoxModel",
      "state": {
       "_dom_classes": [],
       "_model_module": "@jupyter-widgets/controls",
       "_model_module_version": "1.5.0",
       "_model_name": "HBoxModel",
       "_view_count": null,
       "_view_module": "@jupyter-widgets/controls",
       "_view_module_version": "1.5.0",
       "_view_name": "HBoxView",
       "box_style": "",
       "children": [
        "IPY_MODEL_886662c23c1840648ef2c909ec8ea0cf",
        "IPY_MODEL_6dcbcb624eec451ca37e277e3f08a50d",
        "IPY_MODEL_d922fb11192f4cafbc460850d08dad0f"
       ],
       "layout": "IPY_MODEL_6025d37f7c3843a8bf46f9c4353679af"
      }
     },
     "1c336c46aad142768560fc10e44415be": {
      "model_module": "@jupyter-widgets/base",
      "model_module_version": "1.2.0",
      "model_name": "LayoutModel",
      "state": {
       "_model_module": "@jupyter-widgets/base",
       "_model_module_version": "1.2.0",
       "_model_name": "LayoutModel",
       "_view_count": null,
       "_view_module": "@jupyter-widgets/base",
       "_view_module_version": "1.2.0",
       "_view_name": "LayoutView",
       "align_content": null,
       "align_items": null,
       "align_self": null,
       "border": null,
       "bottom": null,
       "display": null,
       "flex": null,
       "flex_flow": null,
       "grid_area": null,
       "grid_auto_columns": null,
       "grid_auto_flow": null,
       "grid_auto_rows": null,
       "grid_column": null,
       "grid_gap": null,
       "grid_row": null,
       "grid_template_areas": null,
       "grid_template_columns": null,
       "grid_template_rows": null,
       "height": null,
       "justify_content": null,
       "justify_items": null,
       "left": null,
       "margin": null,
       "max_height": null,
       "max_width": null,
       "min_height": null,
       "min_width": null,
       "object_fit": null,
       "object_position": null,
       "order": null,
       "overflow": null,
       "overflow_x": null,
       "overflow_y": null,
       "padding": null,
       "right": null,
       "top": null,
       "visibility": null,
       "width": null
      }
     },
     "1d0f602487594a36bc02b18ae771b1c9": {
      "model_module": "@jupyter-widgets/base",
      "model_module_version": "1.2.0",
      "model_name": "LayoutModel",
      "state": {
       "_model_module": "@jupyter-widgets/base",
       "_model_module_version": "1.2.0",
       "_model_name": "LayoutModel",
       "_view_count": null,
       "_view_module": "@jupyter-widgets/base",
       "_view_module_version": "1.2.0",
       "_view_name": "LayoutView",
       "align_content": null,
       "align_items": null,
       "align_self": null,
       "border": null,
       "bottom": null,
       "display": null,
       "flex": null,
       "flex_flow": null,
       "grid_area": null,
       "grid_auto_columns": null,
       "grid_auto_flow": null,
       "grid_auto_rows": null,
       "grid_column": null,
       "grid_gap": null,
       "grid_row": null,
       "grid_template_areas": null,
       "grid_template_columns": null,
       "grid_template_rows": null,
       "height": null,
       "justify_content": null,
       "justify_items": null,
       "left": null,
       "margin": null,
       "max_height": null,
       "max_width": null,
       "min_height": null,
       "min_width": null,
       "object_fit": null,
       "object_position": null,
       "order": null,
       "overflow": null,
       "overflow_x": null,
       "overflow_y": null,
       "padding": null,
       "right": null,
       "top": null,
       "visibility": null,
       "width": null
      }
     },
     "1d104aa9507c4a128e9ccb86118defaf": {
      "model_module": "@jupyter-widgets/controls",
      "model_module_version": "1.5.0",
      "model_name": "DescriptionStyleModel",
      "state": {
       "_model_module": "@jupyter-widgets/controls",
       "_model_module_version": "1.5.0",
       "_model_name": "DescriptionStyleModel",
       "_view_count": null,
       "_view_module": "@jupyter-widgets/base",
       "_view_module_version": "1.2.0",
       "_view_name": "StyleView",
       "description_width": ""
      }
     },
     "1eaac94938394a38ad07dd8634a37520": {
      "model_module": "@jupyter-widgets/controls",
      "model_module_version": "1.5.0",
      "model_name": "HTMLModel",
      "state": {
       "_dom_classes": [],
       "_model_module": "@jupyter-widgets/controls",
       "_model_module_version": "1.5.0",
       "_model_name": "HTMLModel",
       "_view_count": null,
       "_view_module": "@jupyter-widgets/controls",
       "_view_module_version": "1.5.0",
       "_view_name": "HTMLView",
       "description": "",
       "description_tooltip": null,
       "layout": "IPY_MODEL_1d0f602487594a36bc02b18ae771b1c9",
       "placeholder": "​",
       "style": "IPY_MODEL_8135c0db8d1e4f33b37c506e908367a4",
       "value": "README.md: 100%"
      }
     },
     "1edd8f5a35b7407b858db70bb7b93a80": {
      "model_module": "@jupyter-widgets/controls",
      "model_module_version": "1.5.0",
      "model_name": "DescriptionStyleModel",
      "state": {
       "_model_module": "@jupyter-widgets/controls",
       "_model_module_version": "1.5.0",
       "_model_name": "DescriptionStyleModel",
       "_view_count": null,
       "_view_module": "@jupyter-widgets/base",
       "_view_module_version": "1.2.0",
       "_view_name": "StyleView",
       "description_width": ""
      }
     },
     "207d57df09eb4ab28e816e20502aa8be": {
      "model_module": "@jupyter-widgets/controls",
      "model_module_version": "1.5.0",
      "model_name": "HBoxModel",
      "state": {
       "_dom_classes": [],
       "_model_module": "@jupyter-widgets/controls",
       "_model_module_version": "1.5.0",
       "_model_name": "HBoxModel",
       "_view_count": null,
       "_view_module": "@jupyter-widgets/controls",
       "_view_module_version": "1.5.0",
       "_view_name": "HBoxView",
       "box_style": "",
       "children": [
        "IPY_MODEL_1eaac94938394a38ad07dd8634a37520",
        "IPY_MODEL_fffa995d7faa49e49d2e1d5686b24398",
        "IPY_MODEL_7c03f296970c40c5ae951026101bf2ed"
       ],
       "layout": "IPY_MODEL_4cebfd1b21cb4fef93067c90c63f6d35"
      }
     },
     "2377a289c754409caee8094b897b5ff5": {
      "model_module": "@jupyter-widgets/controls",
      "model_module_version": "1.5.0",
      "model_name": "HTMLModel",
      "state": {
       "_dom_classes": [],
       "_model_module": "@jupyter-widgets/controls",
       "_model_module_version": "1.5.0",
       "_model_name": "HTMLModel",
       "_view_count": null,
       "_view_module": "@jupyter-widgets/controls",
       "_view_module_version": "1.5.0",
       "_view_name": "HTMLView",
       "description": "",
       "description_tooltip": null,
       "layout": "IPY_MODEL_f4eef941104b40b5aeefc5fe4b76ba8f",
       "placeholder": "​",
       "style": "IPY_MODEL_168c6d61e494455da0981a557ce9a731",
       "value": " 1.19k/1.19k [00:00&lt;00:00, 93.2kB/s]"
      }
     },
     "23a926fbf3f24599956ff5eafcc727d3": {
      "model_module": "@jupyter-widgets/base",
      "model_module_version": "1.2.0",
      "model_name": "LayoutModel",
      "state": {
       "_model_module": "@jupyter-widgets/base",
       "_model_module_version": "1.2.0",
       "_model_name": "LayoutModel",
       "_view_count": null,
       "_view_module": "@jupyter-widgets/base",
       "_view_module_version": "1.2.0",
       "_view_name": "LayoutView",
       "align_content": null,
       "align_items": null,
       "align_self": null,
       "border": null,
       "bottom": null,
       "display": null,
       "flex": null,
       "flex_flow": null,
       "grid_area": null,
       "grid_auto_columns": null,
       "grid_auto_flow": null,
       "grid_auto_rows": null,
       "grid_column": null,
       "grid_gap": null,
       "grid_row": null,
       "grid_template_areas": null,
       "grid_template_columns": null,
       "grid_template_rows": null,
       "height": null,
       "justify_content": null,
       "justify_items": null,
       "left": null,
       "margin": null,
       "max_height": null,
       "max_width": null,
       "min_height": null,
       "min_width": null,
       "object_fit": null,
       "object_position": null,
       "order": null,
       "overflow": null,
       "overflow_x": null,
       "overflow_y": null,
       "padding": null,
       "right": null,
       "top": null,
       "visibility": null,
       "width": null
      }
     },
     "2446b05cdcea444896b49d8c26ecfb17": {
      "model_module": "@jupyter-widgets/controls",
      "model_module_version": "1.5.0",
      "model_name": "FloatProgressModel",
      "state": {
       "_dom_classes": [],
       "_model_module": "@jupyter-widgets/controls",
       "_model_module_version": "1.5.0",
       "_model_name": "FloatProgressModel",
       "_view_count": null,
       "_view_module": "@jupyter-widgets/controls",
       "_view_module_version": "1.5.0",
       "_view_name": "ProgressView",
       "bar_style": "success",
       "description": "",
       "description_tooltip": null,
       "layout": "IPY_MODEL_8b385a8de5fa415a886ff183e369798e",
       "max": 1958.0,
       "min": 0.0,
       "orientation": "horizontal",
       "style": "IPY_MODEL_536dd798e44d48a4a77d7dcb25b79d68",
       "value": 1958.0
      }
     },
     "27930ef42d9043cea02d11c57adcaf25": {
      "model_module": "@jupyter-widgets/controls",
      "model_module_version": "1.5.0",
      "model_name": "HTMLModel",
      "state": {
       "_dom_classes": [],
       "_model_module": "@jupyter-widgets/controls",
       "_model_module_version": "1.5.0",
       "_model_name": "HTMLModel",
       "_view_count": null,
       "_view_module": "@jupyter-widgets/controls",
       "_view_module_version": "1.5.0",
       "_view_name": "HTMLView",
       "description": "",
       "description_tooltip": null,
       "layout": "IPY_MODEL_03a5f6daee0d49af8777cd5b0b988b2c",
       "placeholder": "​",
       "style": "IPY_MODEL_d5e7a712c75c4d378148ab50529b9e9c",
       "value": " 232k/232k [00:00&lt;00:00, 5.28MB/s]"
      }
     },
     "2918624a7b1640e29ad382582e0e7fd6": {
      "model_module": "@jupyter-widgets/controls",
      "model_module_version": "1.5.0",
      "model_name": "HBoxModel",
      "state": {
       "_dom_classes": [],
       "_model_module": "@jupyter-widgets/controls",
       "_model_module_version": "1.5.0",
       "_model_name": "HBoxModel",
       "_view_count": null,
       "_view_module": "@jupyter-widgets/controls",
       "_view_module_version": "1.5.0",
       "_view_name": "HBoxView",
       "box_style": "",
       "children": [
        "IPY_MODEL_14ffdc10989e467290e3e367970f8030",
        "IPY_MODEL_41e7d749aeff4f4a9f0b5cd0b22e7dfd",
        "IPY_MODEL_af15ed0dcfdf4a45874896942f95bb54"
       ],
       "layout": "IPY_MODEL_83a82ebed99d418e88ccc781cde45285"
      }
     },
     "29653ff942864c1aab2cd606b054ce7a": {
      "model_module": "@jupyter-widgets/controls",
      "model_module_version": "1.5.0",
      "model_name": "DescriptionStyleModel",
      "state": {
       "_model_module": "@jupyter-widgets/controls",
       "_model_module_version": "1.5.0",
       "_model_name": "DescriptionStyleModel",
       "_view_count": null,
       "_view_module": "@jupyter-widgets/base",
       "_view_module_version": "1.2.0",
       "_view_name": "StyleView",
       "description_width": ""
      }
     },
     "2aedfa56df6945c5857ea77418e03e84": {
      "model_module": "@jupyter-widgets/base",
      "model_module_version": "1.2.0",
      "model_name": "LayoutModel",
      "state": {
       "_model_module": "@jupyter-widgets/base",
       "_model_module_version": "1.2.0",
       "_model_name": "LayoutModel",
       "_view_count": null,
       "_view_module": "@jupyter-widgets/base",
       "_view_module_version": "1.2.0",
       "_view_name": "LayoutView",
       "align_content": null,
       "align_items": null,
       "align_self": null,
       "border": null,
       "bottom": null,
       "display": null,
       "flex": null,
       "flex_flow": null,
       "grid_area": null,
       "grid_auto_columns": null,
       "grid_auto_flow": null,
       "grid_auto_rows": null,
       "grid_column": null,
       "grid_gap": null,
       "grid_row": null,
       "grid_template_areas": null,
       "grid_template_columns": null,
       "grid_template_rows": null,
       "height": null,
       "justify_content": null,
       "justify_items": null,
       "left": null,
       "margin": null,
       "max_height": null,
       "max_width": null,
       "min_height": null,
       "min_width": null,
       "object_fit": null,
       "object_position": null,
       "order": null,
       "overflow": null,
       "overflow_x": null,
       "overflow_y": null,
       "padding": null,
       "right": null,
       "top": null,
       "visibility": null,
       "width": null
      }
     },
     "2c75b2d32ca440b89e368fc6bd48052d": {
      "model_module": "@jupyter-widgets/controls",
      "model_module_version": "1.5.0",
      "model_name": "HTMLModel",
      "state": {
       "_dom_classes": [],
       "_model_module": "@jupyter-widgets/controls",
       "_model_module_version": "1.5.0",
       "_model_name": "HTMLModel",
       "_view_count": null,
       "_view_module": "@jupyter-widgets/controls",
       "_view_module_version": "1.5.0",
       "_view_name": "HTMLView",
       "description": "",
       "description_tooltip": null,
       "layout": "IPY_MODEL_3ca654f5221043ccad7ae3c662a38b39",
       "placeholder": "​",
       "style": "IPY_MODEL_0cbdb0285e7b402497d4bd19f823bde5",
       "value": "model.safetensors: 100%"
      }
     },
     "3135dde2d3074ddbb1aac30f8885459d": {
      "model_module": "@jupyter-widgets/controls",
      "model_module_version": "1.5.0",
      "model_name": "ProgressStyleModel",
      "state": {
       "_model_module": "@jupyter-widgets/controls",
       "_model_module_version": "1.5.0",
       "_model_name": "ProgressStyleModel",
       "_view_count": null,
       "_view_module": "@jupyter-widgets/base",
       "_view_module_version": "1.2.0",
       "_view_name": "StyleView",
       "bar_color": null,
       "description_width": ""
      }
     },
     "31e888edbda7408ca0a9c733edc2c2e2": {
      "model_module": "@jupyter-widgets/controls",
      "model_module_version": "1.5.0",
      "model_name": "HTMLModel",
      "state": {
       "_dom_classes": [],
       "_model_module": "@jupyter-widgets/controls",
       "_model_module_version": "1.5.0",
       "_model_name": "HTMLModel",
       "_view_count": null,
       "_view_module": "@jupyter-widgets/controls",
       "_view_module_version": "1.5.0",
       "_view_name": "HTMLView",
       "description": "",
       "description_tooltip": null,
       "layout": "IPY_MODEL_c19237d69b5545fd97ec9d1d845981de",
       "placeholder": "​",
       "style": "IPY_MODEL_1edd8f5a35b7407b858db70bb7b93a80",
       "value": " 711k/711k [00:00&lt;00:00, 7.76MB/s]"
      }
     },
     "3681cb435cff459db120d828033d4357": {
      "model_module": "@jupyter-widgets/controls",
      "model_module_version": "1.5.0",
      "model_name": "ProgressStyleModel",
      "state": {
       "_model_module": "@jupyter-widgets/controls",
       "_model_module_version": "1.5.0",
       "_model_name": "ProgressStyleModel",
       "_view_count": null,
       "_view_module": "@jupyter-widgets/base",
       "_view_module_version": "1.2.0",
       "_view_name": "StyleView",
       "bar_color": null,
       "description_width": ""
      }
     },
     "38437164180f420190df991b7bad1154": {
      "model_module": "@jupyter-widgets/base",
      "model_module_version": "1.2.0",
      "model_name": "LayoutModel",
      "state": {
       "_model_module": "@jupyter-widgets/base",
       "_model_module_version": "1.2.0",
       "_model_name": "LayoutModel",
       "_view_count": null,
       "_view_module": "@jupyter-widgets/base",
       "_view_module_version": "1.2.0",
       "_view_name": "LayoutView",
       "align_content": null,
       "align_items": null,
       "align_self": null,
       "border": null,
       "bottom": null,
       "display": null,
       "flex": null,
       "flex_flow": null,
       "grid_area": null,
       "grid_auto_columns": null,
       "grid_auto_flow": null,
       "grid_auto_rows": null,
       "grid_column": null,
       "grid_gap": null,
       "grid_row": null,
       "grid_template_areas": null,
       "grid_template_columns": null,
       "grid_template_rows": null,
       "height": null,
       "justify_content": null,
       "justify_items": null,
       "left": null,
       "margin": null,
       "max_height": null,
       "max_width": null,
       "min_height": null,
       "min_width": null,
       "object_fit": null,
       "object_position": null,
       "order": null,
       "overflow": null,
       "overflow_x": null,
       "overflow_y": null,
       "padding": null,
       "right": null,
       "top": null,
       "visibility": null,
       "width": null
      }
     },
     "39a5ca11d0934535ac2ae83fceb9e1a1": {
      "model_module": "@jupyter-widgets/controls",
      "model_module_version": "1.5.0",
      "model_name": "HBoxModel",
      "state": {
       "_dom_classes": [],
       "_model_module": "@jupyter-widgets/controls",
       "_model_module_version": "1.5.0",
       "_model_name": "HBoxModel",
       "_view_count": null,
       "_view_module": "@jupyter-widgets/controls",
       "_view_module_version": "1.5.0",
       "_view_name": "HBoxView",
       "box_style": "",
       "children": [
        "IPY_MODEL_08ed6b17ecd04cbd8611125aedfa96eb",
        "IPY_MODEL_7d9f92caa88e454d8599cd4a93f9b070",
        "IPY_MODEL_f2a31817557645c6874e41688e34b5b9"
       ],
       "layout": "IPY_MODEL_c919c85b40ad44238c6880d43b3f01f2"
      }
     },
     "3ca654f5221043ccad7ae3c662a38b39": {
      "model_module": "@jupyter-widgets/base",
      "model_module_version": "1.2.0",
      "model_name": "LayoutModel",
      "state": {
       "_model_module": "@jupyter-widgets/base",
       "_model_module_version": "1.2.0",
       "_model_name": "LayoutModel",
       "_view_count": null,
       "_view_module": "@jupyter-widgets/base",
       "_view_module_version": "1.2.0",
       "_view_name": "LayoutView",
       "align_content": null,
       "align_items": null,
       "align_self": null,
       "border": null,
       "bottom": null,
       "display": null,
       "flex": null,
       "flex_flow": null,
       "grid_area": null,
       "grid_auto_columns": null,
       "grid_auto_flow": null,
       "grid_auto_rows": null,
       "grid_column": null,
       "grid_gap": null,
       "grid_row": null,
       "grid_template_areas": null,
       "grid_template_columns": null,
       "grid_template_rows": null,
       "height": null,
       "justify_content": null,
       "justify_items": null,
       "left": null,
       "margin": null,
       "max_height": null,
       "max_width": null,
       "min_height": null,
       "min_width": null,
       "object_fit": null,
       "object_position": null,
       "order": null,
       "overflow": null,
       "overflow_x": null,
       "overflow_y": null,
       "padding": null,
       "right": null,
       "top": null,
       "visibility": null,
       "width": null
      }
     },
     "41e0838b71a547729260baa93f0f3e83": {
      "model_module": "@jupyter-widgets/controls",
      "model_module_version": "1.5.0",
      "model_name": "HTMLModel",
      "state": {
       "_dom_classes": [],
       "_model_module": "@jupyter-widgets/controls",
       "_model_module_version": "1.5.0",
       "_model_name": "HTMLModel",
       "_view_count": null,
       "_view_module": "@jupyter-widgets/controls",
       "_view_module_version": "1.5.0",
       "_view_name": "HTMLView",
       "description": "",
       "description_tooltip": null,
       "layout": "IPY_MODEL_14e0f18128bc4548a449bc87bff32aa8",
       "placeholder": "​",
       "style": "IPY_MODEL_a2aea3fa4e324a0f8417c7a92acc472a",
       "value": "configuration_hf_nomic_bert.py: 100%"
      }
     },
     "41e7d749aeff4f4a9f0b5cd0b22e7dfd": {
      "model_module": "@jupyter-widgets/controls",
      "model_module_version": "1.5.0",
      "model_name": "FloatProgressModel",
      "state": {
       "_dom_classes": [],
       "_model_module": "@jupyter-widgets/controls",
       "_model_module_version": "1.5.0",
       "_model_name": "FloatProgressModel",
       "_view_count": null,
       "_view_module": "@jupyter-widgets/controls",
       "_view_module_version": "1.5.0",
       "_view_name": "ProgressView",
       "bar_style": "success",
       "description": "",
       "description_tooltip": null,
       "layout": "IPY_MODEL_e51a2207185b4148b3c7358a41295ba2",
       "max": 695.0,
       "min": 0.0,
       "orientation": "horizontal",
       "style": "IPY_MODEL_c0620d2fb23b46bf9a29b911d1f3fc42",
       "value": 695.0
      }
     },
     "42886715c3014a8286d71daeb20e6a8a": {
      "model_module": "@jupyter-widgets/base",
      "model_module_version": "1.2.0",
      "model_name": "LayoutModel",
      "state": {
       "_model_module": "@jupyter-widgets/base",
       "_model_module_version": "1.2.0",
       "_model_name": "LayoutModel",
       "_view_count": null,
       "_view_module": "@jupyter-widgets/base",
       "_view_module_version": "1.2.0",
       "_view_name": "LayoutView",
       "align_content": null,
       "align_items": null,
       "align_self": null,
       "border": null,
       "bottom": null,
       "display": null,
       "flex": null,
       "flex_flow": null,
       "grid_area": null,
       "grid_auto_columns": null,
       "grid_auto_flow": null,
       "grid_auto_rows": null,
       "grid_column": null,
       "grid_gap": null,
       "grid_row": null,
       "grid_template_areas": null,
       "grid_template_columns": null,
       "grid_template_rows": null,
       "height": null,
       "justify_content": null,
       "justify_items": null,
       "left": null,
       "margin": null,
       "max_height": null,
       "max_width": null,
       "min_height": null,
       "min_width": null,
       "object_fit": null,
       "object_position": null,
       "order": null,
       "overflow": null,
       "overflow_x": null,
       "overflow_y": null,
       "padding": null,
       "right": null,
       "top": null,
       "visibility": null,
       "width": null
      }
     },
     "42bba38232f14613a93978d9705e2c11": {
      "model_module": "@jupyter-widgets/base",
      "model_module_version": "1.2.0",
      "model_name": "LayoutModel",
      "state": {
       "_model_module": "@jupyter-widgets/base",
       "_model_module_version": "1.2.0",
       "_model_name": "LayoutModel",
       "_view_count": null,
       "_view_module": "@jupyter-widgets/base",
       "_view_module_version": "1.2.0",
       "_view_name": "LayoutView",
       "align_content": null,
       "align_items": null,
       "align_self": null,
       "border": null,
       "bottom": null,
       "display": null,
       "flex": null,
       "flex_flow": null,
       "grid_area": null,
       "grid_auto_columns": null,
       "grid_auto_flow": null,
       "grid_auto_rows": null,
       "grid_column": null,
       "grid_gap": null,
       "grid_row": null,
       "grid_template_areas": null,
       "grid_template_columns": null,
       "grid_template_rows": null,
       "height": null,
       "justify_content": null,
       "justify_items": null,
       "left": null,
       "margin": null,
       "max_height": null,
       "max_width": null,
       "min_height": null,
       "min_width": null,
       "object_fit": null,
       "object_position": null,
       "order": null,
       "overflow": null,
       "overflow_x": null,
       "overflow_y": null,
       "padding": null,
       "right": null,
       "top": null,
       "visibility": null,
       "width": null
      }
     },
     "43d3b6098629479e84c4c6b8973943b8": {
      "model_module": "@jupyter-widgets/base",
      "model_module_version": "1.2.0",
      "model_name": "LayoutModel",
      "state": {
       "_model_module": "@jupyter-widgets/base",
       "_model_module_version": "1.2.0",
       "_model_name": "LayoutModel",
       "_view_count": null,
       "_view_module": "@jupyter-widgets/base",
       "_view_module_version": "1.2.0",
       "_view_name": "LayoutView",
       "align_content": null,
       "align_items": null,
       "align_self": null,
       "border": null,
       "bottom": null,
       "display": null,
       "flex": null,
       "flex_flow": null,
       "grid_area": null,
       "grid_auto_columns": null,
       "grid_auto_flow": null,
       "grid_auto_rows": null,
       "grid_column": null,
       "grid_gap": null,
       "grid_row": null,
       "grid_template_areas": null,
       "grid_template_columns": null,
       "grid_template_rows": null,
       "height": null,
       "justify_content": null,
       "justify_items": null,
       "left": null,
       "margin": null,
       "max_height": null,
       "max_width": null,
       "min_height": null,
       "min_width": null,
       "object_fit": null,
       "object_position": null,
       "order": null,
       "overflow": null,
       "overflow_x": null,
       "overflow_y": null,
       "padding": null,
       "right": null,
       "top": null,
       "visibility": null,
       "width": null
      }
     },
     "466b471c08d84ee5bc73afcf0a6ef50c": {
      "model_module": "@jupyter-widgets/controls",
      "model_module_version": "1.5.0",
      "model_name": "DescriptionStyleModel",
      "state": {
       "_model_module": "@jupyter-widgets/controls",
       "_model_module_version": "1.5.0",
       "_model_name": "DescriptionStyleModel",
       "_view_count": null,
       "_view_module": "@jupyter-widgets/base",
       "_view_module_version": "1.2.0",
       "_view_name": "StyleView",
       "description_width": ""
      }
     },
     "4c615f0a46c9408d8714cefa01beb118": {
      "model_module": "@jupyter-widgets/controls",
      "model_module_version": "1.5.0",
      "model_name": "HBoxModel",
      "state": {
       "_dom_classes": [],
       "_model_module": "@jupyter-widgets/controls",
       "_model_module_version": "1.5.0",
       "_model_name": "HBoxModel",
       "_view_count": null,
       "_view_module": "@jupyter-widgets/controls",
       "_view_module_version": "1.5.0",
       "_view_name": "HBoxView",
       "box_style": "",
       "children": [
        "IPY_MODEL_bca22d5e6f70483daca4f42d77993b7b",
        "IPY_MODEL_c4e3258aecae4cf3ac4f4910597f4311",
        "IPY_MODEL_31e888edbda7408ca0a9c733edc2c2e2"
       ],
       "layout": "IPY_MODEL_b982d45c0b554238b9b389a27f2dc951"
      }
     },
     "4cebfd1b21cb4fef93067c90c63f6d35": {
      "model_module": "@jupyter-widgets/base",
      "model_module_version": "1.2.0",
      "model_name": "LayoutModel",
      "state": {
       "_model_module": "@jupyter-widgets/base",
       "_model_module_version": "1.2.0",
       "_model_name": "LayoutModel",
       "_view_count": null,
       "_view_module": "@jupyter-widgets/base",
       "_view_module_version": "1.2.0",
       "_view_name": "LayoutView",
       "align_content": null,
       "align_items": null,
       "align_self": null,
       "border": null,
       "bottom": null,
       "display": null,
       "flex": null,
       "flex_flow": null,
       "grid_area": null,
       "grid_auto_columns": null,
       "grid_auto_flow": null,
       "grid_auto_rows": null,
       "grid_column": null,
       "grid_gap": null,
       "grid_row": null,
       "grid_template_areas": null,
       "grid_template_columns": null,
       "grid_template_rows": null,
       "height": null,
       "justify_content": null,
       "justify_items": null,
       "left": null,
       "margin": null,
       "max_height": null,
       "max_width": null,
       "min_height": null,
       "min_width": null,
       "object_fit": null,
       "object_position": null,
       "order": null,
       "overflow": null,
       "overflow_x": null,
       "overflow_y": null,
       "padding": null,
       "right": null,
       "top": null,
       "visibility": null,
       "width": null
      }
     },
     "536dd798e44d48a4a77d7dcb25b79d68": {
      "model_module": "@jupyter-widgets/controls",
      "model_module_version": "1.5.0",
      "model_name": "ProgressStyleModel",
      "state": {
       "_model_module": "@jupyter-widgets/controls",
       "_model_module_version": "1.5.0",
       "_model_name": "ProgressStyleModel",
       "_view_count": null,
       "_view_module": "@jupyter-widgets/base",
       "_view_module_version": "1.2.0",
       "_view_name": "StyleView",
       "bar_color": null,
       "description_width": ""
      }
     },
     "54dedcb4c94c43798042c0f05522729f": {
      "model_module": "@jupyter-widgets/base",
      "model_module_version": "1.2.0",
      "model_name": "LayoutModel",
      "state": {
       "_model_module": "@jupyter-widgets/base",
       "_model_module_version": "1.2.0",
       "_model_name": "LayoutModel",
       "_view_count": null,
       "_view_module": "@jupyter-widgets/base",
       "_view_module_version": "1.2.0",
       "_view_name": "LayoutView",
       "align_content": null,
       "align_items": null,
       "align_self": null,
       "border": null,
       "bottom": null,
       "display": null,
       "flex": null,
       "flex_flow": null,
       "grid_area": null,
       "grid_auto_columns": null,
       "grid_auto_flow": null,
       "grid_auto_rows": null,
       "grid_column": null,
       "grid_gap": null,
       "grid_row": null,
       "grid_template_areas": null,
       "grid_template_columns": null,
       "grid_template_rows": null,
       "height": null,
       "justify_content": null,
       "justify_items": null,
       "left": null,
       "margin": null,
       "max_height": null,
       "max_width": null,
       "min_height": null,
       "min_width": null,
       "object_fit": null,
       "object_position": null,
       "order": null,
       "overflow": null,
       "overflow_x": null,
       "overflow_y": null,
       "padding": null,
       "right": null,
       "top": null,
       "visibility": null,
       "width": null
      }
     },
     "551ca56008b24b8786788557a3a6961c": {
      "model_module": "@jupyter-widgets/base",
      "model_module_version": "1.2.0",
      "model_name": "LayoutModel",
      "state": {
       "_model_module": "@jupyter-widgets/base",
       "_model_module_version": "1.2.0",
       "_model_name": "LayoutModel",
       "_view_count": null,
       "_view_module": "@jupyter-widgets/base",
       "_view_module_version": "1.2.0",
       "_view_name": "LayoutView",
       "align_content": null,
       "align_items": null,
       "align_self": null,
       "border": null,
       "bottom": null,
       "display": null,
       "flex": null,
       "flex_flow": null,
       "grid_area": null,
       "grid_auto_columns": null,
       "grid_auto_flow": null,
       "grid_auto_rows": null,
       "grid_column": null,
       "grid_gap": null,
       "grid_row": null,
       "grid_template_areas": null,
       "grid_template_columns": null,
       "grid_template_rows": null,
       "height": null,
       "justify_content": null,
       "justify_items": null,
       "left": null,
       "margin": null,
       "max_height": null,
       "max_width": null,
       "min_height": null,
       "min_width": null,
       "object_fit": null,
       "object_position": null,
       "order": null,
       "overflow": null,
       "overflow_x": null,
       "overflow_y": null,
       "padding": null,
       "right": null,
       "top": null,
       "visibility": null,
       "width": null
      }
     },
     "5744ec05b1214e42bb9ce1803306c967": {
      "model_module": "@jupyter-widgets/controls",
      "model_module_version": "1.5.0",
      "model_name": "FloatProgressModel",
      "state": {
       "_dom_classes": [],
       "_model_module": "@jupyter-widgets/controls",
       "_model_module_version": "1.5.0",
       "_model_name": "FloatProgressModel",
       "_view_count": null,
       "_view_module": "@jupyter-widgets/controls",
       "_view_module_version": "1.5.0",
       "_view_name": "ProgressView",
       "bar_style": "success",
       "description": "",
       "description_tooltip": null,
       "layout": "IPY_MODEL_ba32a296d51748e5a0d94d709a38584e",
       "max": 140.0,
       "min": 0.0,
       "orientation": "horizontal",
       "style": "IPY_MODEL_d972cbad977549a894f57b372b67c5a6",
       "value": 140.0
      }
     },
     "5a332c81db1b4c4490528a5f9374b4d3": {
      "model_module": "@jupyter-widgets/base",
      "model_module_version": "1.2.0",
      "model_name": "LayoutModel",
      "state": {
       "_model_module": "@jupyter-widgets/base",
       "_model_module_version": "1.2.0",
       "_model_name": "LayoutModel",
       "_view_count": null,
       "_view_module": "@jupyter-widgets/base",
       "_view_module_version": "1.2.0",
       "_view_name": "LayoutView",
       "align_content": null,
       "align_items": null,
       "align_self": null,
       "border": null,
       "bottom": null,
       "display": null,
       "flex": null,
       "flex_flow": null,
       "grid_area": null,
       "grid_auto_columns": null,
       "grid_auto_flow": null,
       "grid_auto_rows": null,
       "grid_column": null,
       "grid_gap": null,
       "grid_row": null,
       "grid_template_areas": null,
       "grid_template_columns": null,
       "grid_template_rows": null,
       "height": null,
       "justify_content": null,
       "justify_items": null,
       "left": null,
       "margin": null,
       "max_height": null,
       "max_width": null,
       "min_height": null,
       "min_width": null,
       "object_fit": null,
       "object_position": null,
       "order": null,
       "overflow": null,
       "overflow_x": null,
       "overflow_y": null,
       "padding": null,
       "right": null,
       "top": null,
       "visibility": null,
       "width": null
      }
     },
     "5a7fedd3cc8b4b61b485f0c492b99ecf": {
      "model_module": "@jupyter-widgets/base",
      "model_module_version": "1.2.0",
      "model_name": "LayoutModel",
      "state": {
       "_model_module": "@jupyter-widgets/base",
       "_model_module_version": "1.2.0",
       "_model_name": "LayoutModel",
       "_view_count": null,
       "_view_module": "@jupyter-widgets/base",
       "_view_module_version": "1.2.0",
       "_view_name": "LayoutView",
       "align_content": null,
       "align_items": null,
       "align_self": null,
       "border": null,
       "bottom": null,
       "display": null,
       "flex": null,
       "flex_flow": null,
       "grid_area": null,
       "grid_auto_columns": null,
       "grid_auto_flow": null,
       "grid_auto_rows": null,
       "grid_column": null,
       "grid_gap": null,
       "grid_row": null,
       "grid_template_areas": null,
       "grid_template_columns": null,
       "grid_template_rows": null,
       "height": null,
       "justify_content": null,
       "justify_items": null,
       "left": null,
       "margin": null,
       "max_height": null,
       "max_width": null,
       "min_height": null,
       "min_width": null,
       "object_fit": null,
       "object_position": null,
       "order": null,
       "overflow": null,
       "overflow_x": null,
       "overflow_y": null,
       "padding": null,
       "right": null,
       "top": null,
       "visibility": null,
       "width": null
      }
     },
     "5aa0bd4f0d5b40da9ab1c8892898228b": {
      "model_module": "@jupyter-widgets/base",
      "model_module_version": "1.2.0",
      "model_name": "LayoutModel",
      "state": {
       "_model_module": "@jupyter-widgets/base",
       "_model_module_version": "1.2.0",
       "_model_name": "LayoutModel",
       "_view_count": null,
       "_view_module": "@jupyter-widgets/base",
       "_view_module_version": "1.2.0",
       "_view_name": "LayoutView",
       "align_content": null,
       "align_items": null,
       "align_self": null,
       "border": null,
       "bottom": null,
       "display": null,
       "flex": null,
       "flex_flow": null,
       "grid_area": null,
       "grid_auto_columns": null,
       "grid_auto_flow": null,
       "grid_auto_rows": null,
       "grid_column": null,
       "grid_gap": null,
       "grid_row": null,
       "grid_template_areas": null,
       "grid_template_columns": null,
       "grid_template_rows": null,
       "height": null,
       "justify_content": null,
       "justify_items": null,
       "left": null,
       "margin": null,
       "max_height": null,
       "max_width": null,
       "min_height": null,
       "min_width": null,
       "object_fit": null,
       "object_position": null,
       "order": null,
       "overflow": null,
       "overflow_x": null,
       "overflow_y": null,
       "padding": null,
       "right": null,
       "top": null,
       "visibility": null,
       "width": null
      }
     },
     "5b418797079c4c63b9fc87fd5a000c7a": {
      "model_module": "@jupyter-widgets/controls",
      "model_module_version": "1.5.0",
      "model_name": "FloatProgressModel",
      "state": {
       "_dom_classes": [],
       "_model_module": "@jupyter-widgets/controls",
       "_model_module_version": "1.5.0",
       "_model_name": "FloatProgressModel",
       "_view_count": null,
       "_view_module": "@jupyter-widgets/controls",
       "_view_module_version": "1.5.0",
       "_view_name": "ProgressView",
       "bar_style": "success",
       "description": "",
       "description_tooltip": null,
       "layout": "IPY_MODEL_23a926fbf3f24599956ff5eafcc727d3",
       "max": 1191.0,
       "min": 0.0,
       "orientation": "horizontal",
       "style": "IPY_MODEL_e6ae77ed3d314b59bdb2fa31b10a24c0",
       "value": 1191.0
      }
     },
     "5b7edd02abcd4e33a6384d85b566512f": {
      "model_module": "@jupyter-widgets/controls",
      "model_module_version": "1.5.0",
      "model_name": "DescriptionStyleModel",
      "state": {
       "_model_module": "@jupyter-widgets/controls",
       "_model_module_version": "1.5.0",
       "_model_name": "DescriptionStyleModel",
       "_view_count": null,
       "_view_module": "@jupyter-widgets/base",
       "_view_module_version": "1.2.0",
       "_view_name": "StyleView",
       "description_width": ""
      }
     },
     "5b90ebaa53fa4c999debdef0092e86cf": {
      "model_module": "@jupyter-widgets/controls",
      "model_module_version": "1.5.0",
      "model_name": "DescriptionStyleModel",
      "state": {
       "_model_module": "@jupyter-widgets/controls",
       "_model_module_version": "1.5.0",
       "_model_name": "DescriptionStyleModel",
       "_view_count": null,
       "_view_module": "@jupyter-widgets/base",
       "_view_module_version": "1.2.0",
       "_view_name": "StyleView",
       "description_width": ""
      }
     },
     "5cb612ec00a540fe94310a3db63e18b5": {
      "model_module": "@jupyter-widgets/controls",
      "model_module_version": "1.5.0",
      "model_name": "DescriptionStyleModel",
      "state": {
       "_model_module": "@jupyter-widgets/controls",
       "_model_module_version": "1.5.0",
       "_model_name": "DescriptionStyleModel",
       "_view_count": null,
       "_view_module": "@jupyter-widgets/base",
       "_view_module_version": "1.2.0",
       "_view_name": "StyleView",
       "description_width": ""
      }
     },
     "5d43cbe2f7be478db9a9c1f005cceb57": {
      "model_module": "@jupyter-widgets/base",
      "model_module_version": "1.2.0",
      "model_name": "LayoutModel",
      "state": {
       "_model_module": "@jupyter-widgets/base",
       "_model_module_version": "1.2.0",
       "_model_name": "LayoutModel",
       "_view_count": null,
       "_view_module": "@jupyter-widgets/base",
       "_view_module_version": "1.2.0",
       "_view_name": "LayoutView",
       "align_content": null,
       "align_items": null,
       "align_self": null,
       "border": null,
       "bottom": null,
       "display": null,
       "flex": null,
       "flex_flow": null,
       "grid_area": null,
       "grid_auto_columns": null,
       "grid_auto_flow": null,
       "grid_auto_rows": null,
       "grid_column": null,
       "grid_gap": null,
       "grid_row": null,
       "grid_template_areas": null,
       "grid_template_columns": null,
       "grid_template_rows": null,
       "height": null,
       "justify_content": null,
       "justify_items": null,
       "left": null,
       "margin": null,
       "max_height": null,
       "max_width": null,
       "min_height": null,
       "min_width": null,
       "object_fit": null,
       "object_position": null,
       "order": null,
       "overflow": null,
       "overflow_x": null,
       "overflow_y": null,
       "padding": null,
       "right": null,
       "top": null,
       "visibility": null,
       "width": null
      }
     },
     "5f9bd258751c40dabb08ff4d5ec6f88e": {
      "model_module": "@jupyter-widgets/controls",
      "model_module_version": "1.5.0",
      "model_name": "FloatProgressModel",
      "state": {
       "_dom_classes": [],
       "_model_module": "@jupyter-widgets/controls",
       "_model_module_version": "1.5.0",
       "_model_name": "FloatProgressModel",
       "_view_count": null,
       "_view_module": "@jupyter-widgets/controls",
       "_view_module_version": "1.5.0",
       "_view_name": "ProgressView",
       "bar_style": "success",
       "description": "",
       "description_tooltip": null,
       "layout": "IPY_MODEL_5a332c81db1b4c4490528a5f9374b4d3",
       "max": 546938168.0,
       "min": 0.0,
       "orientation": "horizontal",
       "style": "IPY_MODEL_3135dde2d3074ddbb1aac30f8885459d",
       "value": 546938168.0
      }
     },
     "6025d37f7c3843a8bf46f9c4353679af": {
      "model_module": "@jupyter-widgets/base",
      "model_module_version": "1.2.0",
      "model_name": "LayoutModel",
      "state": {
       "_model_module": "@jupyter-widgets/base",
       "_model_module_version": "1.2.0",
       "_model_name": "LayoutModel",
       "_view_count": null,
       "_view_module": "@jupyter-widgets/base",
       "_view_module_version": "1.2.0",
       "_view_name": "LayoutView",
       "align_content": null,
       "align_items": null,
       "align_self": null,
       "border": null,
       "bottom": null,
       "display": null,
       "flex": null,
       "flex_flow": null,
       "grid_area": null,
       "grid_auto_columns": null,
       "grid_auto_flow": null,
       "grid_auto_rows": null,
       "grid_column": null,
       "grid_gap": null,
       "grid_row": null,
       "grid_template_areas": null,
       "grid_template_columns": null,
       "grid_template_rows": null,
       "height": null,
       "justify_content": null,
       "justify_items": null,
       "left": null,
       "margin": null,
       "max_height": null,
       "max_width": null,
       "min_height": null,
       "min_width": null,
       "object_fit": null,
       "object_position": null,
       "order": null,
       "overflow": null,
       "overflow_x": null,
       "overflow_y": null,
       "padding": null,
       "right": null,
       "top": null,
       "visibility": null,
       "width": null
      }
     },
     "63e9b6de79c546cb92358b01307fe804": {
      "model_module": "@jupyter-widgets/controls",
      "model_module_version": "1.5.0",
      "model_name": "DescriptionStyleModel",
      "state": {
       "_model_module": "@jupyter-widgets/controls",
       "_model_module_version": "1.5.0",
       "_model_name": "DescriptionStyleModel",
       "_view_count": null,
       "_view_module": "@jupyter-widgets/base",
       "_view_module_version": "1.2.0",
       "_view_name": "StyleView",
       "description_width": ""
      }
     },
     "65326dcaba684312ad382721a9941b0c": {
      "model_module": "@jupyter-widgets/controls",
      "model_module_version": "1.5.0",
      "model_name": "HBoxModel",
      "state": {
       "_dom_classes": [],
       "_model_module": "@jupyter-widgets/controls",
       "_model_module_version": "1.5.0",
       "_model_name": "HBoxModel",
       "_view_count": null,
       "_view_module": "@jupyter-widgets/controls",
       "_view_module_version": "1.5.0",
       "_view_name": "HBoxView",
       "box_style": "",
       "children": [
        "IPY_MODEL_169d726e709644269a614946ac7ff740",
        "IPY_MODEL_ff5fc47511164b7b8a172a458e68634a",
        "IPY_MODEL_e6b1d3c3c30547d78469c6228e6239db"
       ],
       "layout": "IPY_MODEL_5aa0bd4f0d5b40da9ab1c8892898228b"
      }
     },
     "6715e732dfdb47708f8860c608a4e537": {
      "model_module": "@jupyter-widgets/controls",
      "model_module_version": "1.5.0",
      "model_name": "ProgressStyleModel",
      "state": {
       "_model_module": "@jupyter-widgets/controls",
       "_model_module_version": "1.5.0",
       "_model_name": "ProgressStyleModel",
       "_view_count": null,
       "_view_module": "@jupyter-widgets/base",
       "_view_module_version": "1.2.0",
       "_view_name": "StyleView",
       "bar_color": null,
       "description_width": ""
      }
     },
     "681ad7b52b19474cbfe369d547e6210f": {
      "model_module": "@jupyter-widgets/controls",
      "model_module_version": "1.5.0",
      "model_name": "HTMLModel",
      "state": {
       "_dom_classes": [],
       "_model_module": "@jupyter-widgets/controls",
       "_model_module_version": "1.5.0",
       "_model_name": "HTMLModel",
       "_view_count": null,
       "_view_module": "@jupyter-widgets/controls",
       "_view_module_version": "1.5.0",
       "_view_name": "HTMLView",
       "description": "",
       "description_tooltip": null,
       "layout": "IPY_MODEL_0dc7ddd7cf4b4a4c835259d666988516",
       "placeholder": "​",
       "style": "IPY_MODEL_466b471c08d84ee5bc73afcf0a6ef50c",
       "value": " 120/120 [00:00&lt;00:00, 10.7kB/s]"
      }
     },
     "6bce7a86d657449395a9025c3e331eee": {
      "model_module": "@jupyter-widgets/controls",
      "model_module_version": "1.5.0",
      "model_name": "HTMLModel",
      "state": {
       "_dom_classes": [],
       "_model_module": "@jupyter-widgets/controls",
       "_model_module_version": "1.5.0",
       "_model_name": "HTMLModel",
       "_view_count": null,
       "_view_module": "@jupyter-widgets/controls",
       "_view_module_version": "1.5.0",
       "_view_name": "HTMLView",
       "description": "",
       "description_tooltip": null,
       "layout": "IPY_MODEL_6db787c5fefb4be6a20e32ed7189a781",
       "placeholder": "​",
       "style": "IPY_MODEL_0aaf166a0105407abcb9d17d412b2be5",
       "value": " 85.7k/85.7k [00:00&lt;00:00, 6.41MB/s]"
      }
     },
     "6d3bf9fa163b424eae67f567d79b4a71": {
      "model_module": "@jupyter-widgets/controls",
      "model_module_version": "1.5.0",
      "model_name": "DescriptionStyleModel",
      "state": {
       "_model_module": "@jupyter-widgets/controls",
       "_model_module_version": "1.5.0",
       "_model_name": "DescriptionStyleModel",
       "_view_count": null,
       "_view_module": "@jupyter-widgets/base",
       "_view_module_version": "1.2.0",
       "_view_name": "StyleView",
       "description_width": ""
      }
     },
     "6db787c5fefb4be6a20e32ed7189a781": {
      "model_module": "@jupyter-widgets/base",
      "model_module_version": "1.2.0",
      "model_name": "LayoutModel",
      "state": {
       "_model_module": "@jupyter-widgets/base",
       "_model_module_version": "1.2.0",
       "_model_name": "LayoutModel",
       "_view_count": null,
       "_view_module": "@jupyter-widgets/base",
       "_view_module_version": "1.2.0",
       "_view_name": "LayoutView",
       "align_content": null,
       "align_items": null,
       "align_self": null,
       "border": null,
       "bottom": null,
       "display": null,
       "flex": null,
       "flex_flow": null,
       "grid_area": null,
       "grid_auto_columns": null,
       "grid_auto_flow": null,
       "grid_auto_rows": null,
       "grid_column": null,
       "grid_gap": null,
       "grid_row": null,
       "grid_template_areas": null,
       "grid_template_columns": null,
       "grid_template_rows": null,
       "height": null,
       "justify_content": null,
       "justify_items": null,
       "left": null,
       "margin": null,
       "max_height": null,
       "max_width": null,
       "min_height": null,
       "min_width": null,
       "object_fit": null,
       "object_position": null,
       "order": null,
       "overflow": null,
       "overflow_x": null,
       "overflow_y": null,
       "padding": null,
       "right": null,
       "top": null,
       "visibility": null,
       "width": null
      }
     },
     "6dcbcb624eec451ca37e277e3f08a50d": {
      "model_module": "@jupyter-widgets/controls",
      "model_module_version": "1.5.0",
      "model_name": "FloatProgressModel",
      "state": {
       "_dom_classes": [],
       "_model_module": "@jupyter-widgets/controls",
       "_model_module_version": "1.5.0",
       "_model_name": "FloatProgressModel",
       "_view_count": null,
       "_view_module": "@jupyter-widgets/controls",
       "_view_module_version": "1.5.0",
       "_view_name": "ProgressView",
       "bar_style": "success",
       "description": "",
       "description_tooltip": null,
       "layout": "IPY_MODEL_0c68d7da5051485abc0a3569c5590359",
       "max": 2064.0,
       "min": 0.0,
       "orientation": "horizontal",
       "style": "IPY_MODEL_f061423e6e44471291232517e946f764",
       "value": 2064.0
      }
     },
     "6fdb3446d34a49d79dffefa6e2f8d527": {
      "model_module": "@jupyter-widgets/base",
      "model_module_version": "1.2.0",
      "model_name": "LayoutModel",
      "state": {
       "_model_module": "@jupyter-widgets/base",
       "_model_module_version": "1.2.0",
       "_model_name": "LayoutModel",
       "_view_count": null,
       "_view_module": "@jupyter-widgets/base",
       "_view_module_version": "1.2.0",
       "_view_name": "LayoutView",
       "align_content": null,
       "align_items": null,
       "align_self": null,
       "border": null,
       "bottom": null,
       "display": null,
       "flex": null,
       "flex_flow": null,
       "grid_area": null,
       "grid_auto_columns": null,
       "grid_auto_flow": null,
       "grid_auto_rows": null,
       "grid_column": null,
       "grid_gap": null,
       "grid_row": null,
       "grid_template_areas": null,
       "grid_template_columns": null,
       "grid_template_rows": null,
       "height": null,
       "justify_content": null,
       "justify_items": null,
       "left": null,
       "margin": null,
       "max_height": null,
       "max_width": null,
       "min_height": null,
       "min_width": null,
       "object_fit": null,
       "object_position": null,
       "order": null,
       "overflow": null,
       "overflow_x": null,
       "overflow_y": null,
       "padding": null,
       "right": null,
       "top": null,
       "visibility": null,
       "width": null
      }
     },
     "7341b6d0c6294c72a2d06772a3a54c33": {
      "model_module": "@jupyter-widgets/controls",
      "model_module_version": "1.5.0",
      "model_name": "ProgressStyleModel",
      "state": {
       "_model_module": "@jupyter-widgets/controls",
       "_model_module_version": "1.5.0",
       "_model_name": "ProgressStyleModel",
       "_view_count": null,
       "_view_module": "@jupyter-widgets/base",
       "_view_module_version": "1.2.0",
       "_view_name": "StyleView",
       "bar_color": null,
       "description_width": ""
      }
     },
     "76cc1a0417224ba38ad31f3fc36a992c": {
      "model_module": "@jupyter-widgets/controls",
      "model_module_version": "1.5.0",
      "model_name": "HBoxModel",
      "state": {
       "_dom_classes": [],
       "_model_module": "@jupyter-widgets/controls",
       "_model_module_version": "1.5.0",
       "_model_name": "HBoxModel",
       "_view_count": null,
       "_view_module": "@jupyter-widgets/controls",
       "_view_module_version": "1.5.0",
       "_view_name": "HBoxView",
       "box_style": "",
       "children": [
        "IPY_MODEL_9fd653567eea4cce912eecedb1f79239",
        "IPY_MODEL_c4673c4965b948bb9380d63e3582d196",
        "IPY_MODEL_27930ef42d9043cea02d11c57adcaf25"
       ],
       "layout": "IPY_MODEL_38437164180f420190df991b7bad1154"
      }
     },
     "7a7dc2d6ca3247078ed8c2f828e3aed4": {
      "model_module": "@jupyter-widgets/base",
      "model_module_version": "1.2.0",
      "model_name": "LayoutModel",
      "state": {
       "_model_module": "@jupyter-widgets/base",
       "_model_module_version": "1.2.0",
       "_model_name": "LayoutModel",
       "_view_count": null,
       "_view_module": "@jupyter-widgets/base",
       "_view_module_version": "1.2.0",
       "_view_name": "LayoutView",
       "align_content": null,
       "align_items": null,
       "align_self": null,
       "border": null,
       "bottom": null,
       "display": null,
       "flex": null,
       "flex_flow": null,
       "grid_area": null,
       "grid_auto_columns": null,
       "grid_auto_flow": null,
       "grid_auto_rows": null,
       "grid_column": null,
       "grid_gap": null,
       "grid_row": null,
       "grid_template_areas": null,
       "grid_template_columns": null,
       "grid_template_rows": null,
       "height": null,
       "justify_content": null,
       "justify_items": null,
       "left": null,
       "margin": null,
       "max_height": null,
       "max_width": null,
       "min_height": null,
       "min_width": null,
       "object_fit": null,
       "object_position": null,
       "order": null,
       "overflow": null,
       "overflow_x": null,
       "overflow_y": null,
       "padding": null,
       "right": null,
       "top": null,
       "visibility": null,
       "width": null
      }
     },
     "7be35d4253f84fd484294089d6d43f35": {
      "model_module": "@jupyter-widgets/base",
      "model_module_version": "1.2.0",
      "model_name": "LayoutModel",
      "state": {
       "_model_module": "@jupyter-widgets/base",
       "_model_module_version": "1.2.0",
       "_model_name": "LayoutModel",
       "_view_count": null,
       "_view_module": "@jupyter-widgets/base",
       "_view_module_version": "1.2.0",
       "_view_name": "LayoutView",
       "align_content": null,
       "align_items": null,
       "align_self": null,
       "border": null,
       "bottom": null,
       "display": null,
       "flex": null,
       "flex_flow": null,
       "grid_area": null,
       "grid_auto_columns": null,
       "grid_auto_flow": null,
       "grid_auto_rows": null,
       "grid_column": null,
       "grid_gap": null,
       "grid_row": null,
       "grid_template_areas": null,
       "grid_template_columns": null,
       "grid_template_rows": null,
       "height": null,
       "justify_content": null,
       "justify_items": null,
       "left": null,
       "margin": null,
       "max_height": null,
       "max_width": null,
       "min_height": null,
       "min_width": null,
       "object_fit": null,
       "object_position": null,
       "order": null,
       "overflow": null,
       "overflow_x": null,
       "overflow_y": null,
       "padding": null,
       "right": null,
       "top": null,
       "visibility": null,
       "width": null
      }
     },
     "7c03f296970c40c5ae951026101bf2ed": {
      "model_module": "@jupyter-widgets/controls",
      "model_module_version": "1.5.0",
      "model_name": "HTMLModel",
      "state": {
       "_dom_classes": [],
       "_model_module": "@jupyter-widgets/controls",
       "_model_module_version": "1.5.0",
       "_model_name": "HTMLModel",
       "_view_count": null,
       "_view_module": "@jupyter-widgets/controls",
       "_view_module_version": "1.5.0",
       "_view_name": "HTMLView",
       "description": "",
       "description_tooltip": null,
       "layout": "IPY_MODEL_98c204812eb542bfaaf6d57438ff0d15",
       "placeholder": "​",
       "style": "IPY_MODEL_6d3bf9fa163b424eae67f567d79b4a71",
       "value": " 71.2k/71.2k [00:00&lt;00:00, 3.34MB/s]"
      }
     },
     "7c59493851b3479e98f3739c89678b34": {
      "model_module": "@jupyter-widgets/controls",
      "model_module_version": "1.5.0",
      "model_name": "DescriptionStyleModel",
      "state": {
       "_model_module": "@jupyter-widgets/controls",
       "_model_module_version": "1.5.0",
       "_model_name": "DescriptionStyleModel",
       "_view_count": null,
       "_view_module": "@jupyter-widgets/base",
       "_view_module_version": "1.2.0",
       "_view_name": "StyleView",
       "description_width": ""
      }
     },
     "7c7c482e03b049278e7afe920e8332a5": {
      "model_module": "@jupyter-widgets/base",
      "model_module_version": "1.2.0",
      "model_name": "LayoutModel",
      "state": {
       "_model_module": "@jupyter-widgets/base",
       "_model_module_version": "1.2.0",
       "_model_name": "LayoutModel",
       "_view_count": null,
       "_view_module": "@jupyter-widgets/base",
       "_view_module_version": "1.2.0",
       "_view_name": "LayoutView",
       "align_content": null,
       "align_items": null,
       "align_self": null,
       "border": null,
       "bottom": null,
       "display": null,
       "flex": null,
       "flex_flow": null,
       "grid_area": null,
       "grid_auto_columns": null,
       "grid_auto_flow": null,
       "grid_auto_rows": null,
       "grid_column": null,
       "grid_gap": null,
       "grid_row": null,
       "grid_template_areas": null,
       "grid_template_columns": null,
       "grid_template_rows": null,
       "height": null,
       "justify_content": null,
       "justify_items": null,
       "left": null,
       "margin": null,
       "max_height": null,
       "max_width": null,
       "min_height": null,
       "min_width": null,
       "object_fit": null,
       "object_position": null,
       "order": null,
       "overflow": null,
       "overflow_x": null,
       "overflow_y": null,
       "padding": null,
       "right": null,
       "top": null,
       "visibility": null,
       "width": null
      }
     },
     "7cbdfe9249e24a6e97caab9a9936de58": {
      "model_module": "@jupyter-widgets/controls",
      "model_module_version": "1.5.0",
      "model_name": "HBoxModel",
      "state": {
       "_dom_classes": [],
       "_model_module": "@jupyter-widgets/controls",
       "_model_module_version": "1.5.0",
       "_model_name": "HBoxModel",
       "_view_count": null,
       "_view_module": "@jupyter-widgets/controls",
       "_view_module_version": "1.5.0",
       "_view_name": "HBoxView",
       "box_style": "",
       "children": [
        "IPY_MODEL_c309b2f0637746f6a7c665ae45155ab6",
        "IPY_MODEL_5b418797079c4c63b9fc87fd5a000c7a",
        "IPY_MODEL_2377a289c754409caee8094b897b5ff5"
       ],
       "layout": "IPY_MODEL_7c7c482e03b049278e7afe920e8332a5"
      }
     },
     "7d54683868aa4089818b016c75adfb6e": {
      "model_module": "@jupyter-widgets/controls",
      "model_module_version": "1.5.0",
      "model_name": "HBoxModel",
      "state": {
       "_dom_classes": [],
       "_model_module": "@jupyter-widgets/controls",
       "_model_module_version": "1.5.0",
       "_model_name": "HBoxModel",
       "_view_count": null,
       "_view_module": "@jupyter-widgets/controls",
       "_view_module_version": "1.5.0",
       "_view_name": "HBoxView",
       "box_style": "",
       "children": [
        "IPY_MODEL_aaa6d3a0ac464a32901c5780e8747fd7",
        "IPY_MODEL_1b80acdfc9a745e1bb51d62f1f9f23aa",
        "IPY_MODEL_681ad7b52b19474cbfe369d547e6210f"
       ],
       "layout": "IPY_MODEL_c0cdb8b7f1334087960799dab46188cb"
      }
     },
     "7d9f92caa88e454d8599cd4a93f9b070": {
      "model_module": "@jupyter-widgets/controls",
      "model_module_version": "1.5.0",
      "model_name": "FloatProgressModel",
      "state": {
       "_dom_classes": [],
       "_model_module": "@jupyter-widgets/controls",
       "_model_module_version": "1.5.0",
       "_model_name": "FloatProgressModel",
       "_view_count": null,
       "_view_module": "@jupyter-widgets/controls",
       "_view_module_version": "1.5.0",
       "_view_name": "ProgressView",
       "bar_style": "success",
       "description": "",
       "description_tooltip": null,
       "layout": "IPY_MODEL_be2bd63a90434561ae6605dfb1b5fef3",
       "max": 255.0,
       "min": 0.0,
       "orientation": "horizontal",
       "style": "IPY_MODEL_ecae265532054af39e0c7167536213f8",
       "value": 255.0
      }
     },
     "7ddab901041146eab25de164e9c254a9": {
      "model_module": "@jupyter-widgets/controls",
      "model_module_version": "1.5.0",
      "model_name": "HBoxModel",
      "state": {
       "_dom_classes": [],
       "_model_module": "@jupyter-widgets/controls",
       "_model_module_version": "1.5.0",
       "_model_name": "HBoxModel",
       "_view_count": null,
       "_view_module": "@jupyter-widgets/controls",
       "_view_module_version": "1.5.0",
       "_view_name": "HBoxView",
       "box_style": "",
       "children": [
        "IPY_MODEL_2c75b2d32ca440b89e368fc6bd48052d",
        "IPY_MODEL_5f9bd258751c40dabb08ff4d5ec6f88e",
        "IPY_MODEL_9fb637d9b40c4d038293663e5b853c34"
       ],
       "layout": "IPY_MODEL_43d3b6098629479e84c4c6b8973943b8"
      }
     },
     "8135c0db8d1e4f33b37c506e908367a4": {
      "model_module": "@jupyter-widgets/controls",
      "model_module_version": "1.5.0",
      "model_name": "DescriptionStyleModel",
      "state": {
       "_model_module": "@jupyter-widgets/controls",
       "_model_module_version": "1.5.0",
       "_model_name": "DescriptionStyleModel",
       "_view_count": null,
       "_view_module": "@jupyter-widgets/base",
       "_view_module_version": "1.2.0",
       "_view_name": "StyleView",
       "description_width": ""
      }
     },
     "8267a7a291f345d9a2212b2784b73809": {
      "model_module": "@jupyter-widgets/base",
      "model_module_version": "1.2.0",
      "model_name": "LayoutModel",
      "state": {
       "_model_module": "@jupyter-widgets/base",
       "_model_module_version": "1.2.0",
       "_model_name": "LayoutModel",
       "_view_count": null,
       "_view_module": "@jupyter-widgets/base",
       "_view_module_version": "1.2.0",
       "_view_name": "LayoutView",
       "align_content": null,
       "align_items": null,
       "align_self": null,
       "border": null,
       "bottom": null,
       "display": null,
       "flex": null,
       "flex_flow": null,
       "grid_area": null,
       "grid_auto_columns": null,
       "grid_auto_flow": null,
       "grid_auto_rows": null,
       "grid_column": null,
       "grid_gap": null,
       "grid_row": null,
       "grid_template_areas": null,
       "grid_template_columns": null,
       "grid_template_rows": null,
       "height": null,
       "justify_content": null,
       "justify_items": null,
       "left": null,
       "margin": null,
       "max_height": null,
       "max_width": null,
       "min_height": null,
       "min_width": null,
       "object_fit": null,
       "object_position": null,
       "order": null,
       "overflow": null,
       "overflow_x": null,
       "overflow_y": null,
       "padding": null,
       "right": null,
       "top": null,
       "visibility": null,
       "width": null
      }
     },
     "83a82ebed99d418e88ccc781cde45285": {
      "model_module": "@jupyter-widgets/base",
      "model_module_version": "1.2.0",
      "model_name": "LayoutModel",
      "state": {
       "_model_module": "@jupyter-widgets/base",
       "_model_module_version": "1.2.0",
       "_model_name": "LayoutModel",
       "_view_count": null,
       "_view_module": "@jupyter-widgets/base",
       "_view_module_version": "1.2.0",
       "_view_name": "LayoutView",
       "align_content": null,
       "align_items": null,
       "align_self": null,
       "border": null,
       "bottom": null,
       "display": null,
       "flex": null,
       "flex_flow": null,
       "grid_area": null,
       "grid_auto_columns": null,
       "grid_auto_flow": null,
       "grid_auto_rows": null,
       "grid_column": null,
       "grid_gap": null,
       "grid_row": null,
       "grid_template_areas": null,
       "grid_template_columns": null,
       "grid_template_rows": null,
       "height": null,
       "justify_content": null,
       "justify_items": null,
       "left": null,
       "margin": null,
       "max_height": null,
       "max_width": null,
       "min_height": null,
       "min_width": null,
       "object_fit": null,
       "object_position": null,
       "order": null,
       "overflow": null,
       "overflow_x": null,
       "overflow_y": null,
       "padding": null,
       "right": null,
       "top": null,
       "visibility": null,
       "width": null
      }
     },
     "886662c23c1840648ef2c909ec8ea0cf": {
      "model_module": "@jupyter-widgets/controls",
      "model_module_version": "1.5.0",
      "model_name": "HTMLModel",
      "state": {
       "_dom_classes": [],
       "_model_module": "@jupyter-widgets/controls",
       "_model_module_version": "1.5.0",
       "_model_name": "HTMLModel",
       "_view_count": null,
       "_view_module": "@jupyter-widgets/controls",
       "_view_module_version": "1.5.0",
       "_view_name": "HTMLView",
       "description": "",
       "description_tooltip": null,
       "layout": "IPY_MODEL_f78c7ece16704ece82d604087e73753b",
       "placeholder": "​",
       "style": "IPY_MODEL_d107651819f54fe4ba2d1bb0ecae487b",
       "value": "config.json: 100%"
      }
     },
     "8b385a8de5fa415a886ff183e369798e": {
      "model_module": "@jupyter-widgets/base",
      "model_module_version": "1.2.0",
      "model_name": "LayoutModel",
      "state": {
       "_model_module": "@jupyter-widgets/base",
       "_model_module_version": "1.2.0",
       "_model_name": "LayoutModel",
       "_view_count": null,
       "_view_module": "@jupyter-widgets/base",
       "_view_module_version": "1.2.0",
       "_view_name": "LayoutView",
       "align_content": null,
       "align_items": null,
       "align_self": null,
       "border": null,
       "bottom": null,
       "display": null,
       "flex": null,
       "flex_flow": null,
       "grid_area": null,
       "grid_auto_columns": null,
       "grid_auto_flow": null,
       "grid_auto_rows": null,
       "grid_column": null,
       "grid_gap": null,
       "grid_row": null,
       "grid_template_areas": null,
       "grid_template_columns": null,
       "grid_template_rows": null,
       "height": null,
       "justify_content": null,
       "justify_items": null,
       "left": null,
       "margin": null,
       "max_height": null,
       "max_width": null,
       "min_height": null,
       "min_width": null,
       "object_fit": null,
       "object_position": null,
       "order": null,
       "overflow": null,
       "overflow_x": null,
       "overflow_y": null,
       "padding": null,
       "right": null,
       "top": null,
       "visibility": null,
       "width": null
      }
     },
     "8d991d33c0dc4966944aa93b6decf0ba": {
      "model_module": "@jupyter-widgets/base",
      "model_module_version": "1.2.0",
      "model_name": "LayoutModel",
      "state": {
       "_model_module": "@jupyter-widgets/base",
       "_model_module_version": "1.2.0",
       "_model_name": "LayoutModel",
       "_view_count": null,
       "_view_module": "@jupyter-widgets/base",
       "_view_module_version": "1.2.0",
       "_view_name": "LayoutView",
       "align_content": null,
       "align_items": null,
       "align_self": null,
       "border": null,
       "bottom": null,
       "display": null,
       "flex": null,
       "flex_flow": null,
       "grid_area": null,
       "grid_auto_columns": null,
       "grid_auto_flow": null,
       "grid_auto_rows": null,
       "grid_column": null,
       "grid_gap": null,
       "grid_row": null,
       "grid_template_areas": null,
       "grid_template_columns": null,
       "grid_template_rows": null,
       "height": null,
       "justify_content": null,
       "justify_items": null,
       "left": null,
       "margin": null,
       "max_height": null,
       "max_width": null,
       "min_height": null,
       "min_width": null,
       "object_fit": null,
       "object_position": null,
       "order": null,
       "overflow": null,
       "overflow_x": null,
       "overflow_y": null,
       "padding": null,
       "right": null,
       "top": null,
       "visibility": null,
       "width": null
      }
     },
     "916790b086e34a7fb34ba67f980539e3": {
      "model_module": "@jupyter-widgets/base",
      "model_module_version": "1.2.0",
      "model_name": "LayoutModel",
      "state": {
       "_model_module": "@jupyter-widgets/base",
       "_model_module_version": "1.2.0",
       "_model_name": "LayoutModel",
       "_view_count": null,
       "_view_module": "@jupyter-widgets/base",
       "_view_module_version": "1.2.0",
       "_view_name": "LayoutView",
       "align_content": null,
       "align_items": null,
       "align_self": null,
       "border": null,
       "bottom": null,
       "display": null,
       "flex": null,
       "flex_flow": null,
       "grid_area": null,
       "grid_auto_columns": null,
       "grid_auto_flow": null,
       "grid_auto_rows": null,
       "grid_column": null,
       "grid_gap": null,
       "grid_row": null,
       "grid_template_areas": null,
       "grid_template_columns": null,
       "grid_template_rows": null,
       "height": null,
       "justify_content": null,
       "justify_items": null,
       "left": null,
       "margin": null,
       "max_height": null,
       "max_width": null,
       "min_height": null,
       "min_width": null,
       "object_fit": null,
       "object_position": null,
       "order": null,
       "overflow": null,
       "overflow_x": null,
       "overflow_y": null,
       "padding": null,
       "right": null,
       "top": null,
       "visibility": null,
       "width": null
      }
     },
     "9480c723d3ff4e99b9cc3537db8b2395": {
      "model_module": "@jupyter-widgets/base",
      "model_module_version": "1.2.0",
      "model_name": "LayoutModel",
      "state": {
       "_model_module": "@jupyter-widgets/base",
       "_model_module_version": "1.2.0",
       "_model_name": "LayoutModel",
       "_view_count": null,
       "_view_module": "@jupyter-widgets/base",
       "_view_module_version": "1.2.0",
       "_view_name": "LayoutView",
       "align_content": null,
       "align_items": null,
       "align_self": null,
       "border": null,
       "bottom": null,
       "display": null,
       "flex": null,
       "flex_flow": null,
       "grid_area": null,
       "grid_auto_columns": null,
       "grid_auto_flow": null,
       "grid_auto_rows": null,
       "grid_column": null,
       "grid_gap": null,
       "grid_row": null,
       "grid_template_areas": null,
       "grid_template_columns": null,
       "grid_template_rows": null,
       "height": null,
       "justify_content": null,
       "justify_items": null,
       "left": null,
       "margin": null,
       "max_height": null,
       "max_width": null,
       "min_height": null,
       "min_width": null,
       "object_fit": null,
       "object_position": null,
       "order": null,
       "overflow": null,
       "overflow_x": null,
       "overflow_y": null,
       "padding": null,
       "right": null,
       "top": null,
       "visibility": null,
       "width": null
      }
     },
     "969992a191e54c2c8f71c8214dbcaf14": {
      "model_module": "@jupyter-widgets/base",
      "model_module_version": "1.2.0",
      "model_name": "LayoutModel",
      "state": {
       "_model_module": "@jupyter-widgets/base",
       "_model_module_version": "1.2.0",
       "_model_name": "LayoutModel",
       "_view_count": null,
       "_view_module": "@jupyter-widgets/base",
       "_view_module_version": "1.2.0",
       "_view_name": "LayoutView",
       "align_content": null,
       "align_items": null,
       "align_self": null,
       "border": null,
       "bottom": null,
       "display": null,
       "flex": null,
       "flex_flow": null,
       "grid_area": null,
       "grid_auto_columns": null,
       "grid_auto_flow": null,
       "grid_auto_rows": null,
       "grid_column": null,
       "grid_gap": null,
       "grid_row": null,
       "grid_template_areas": null,
       "grid_template_columns": null,
       "grid_template_rows": null,
       "height": null,
       "justify_content": null,
       "justify_items": null,
       "left": null,
       "margin": null,
       "max_height": null,
       "max_width": null,
       "min_height": null,
       "min_width": null,
       "object_fit": null,
       "object_position": null,
       "order": null,
       "overflow": null,
       "overflow_x": null,
       "overflow_y": null,
       "padding": null,
       "right": null,
       "top": null,
       "visibility": null,
       "width": null
      }
     },
     "9869bc5ce0ab49ae9179fa5b633ffa99": {
      "model_module": "@jupyter-widgets/controls",
      "model_module_version": "1.5.0",
      "model_name": "DescriptionStyleModel",
      "state": {
       "_model_module": "@jupyter-widgets/controls",
       "_model_module_version": "1.5.0",
       "_model_name": "DescriptionStyleModel",
       "_view_count": null,
       "_view_module": "@jupyter-widgets/base",
       "_view_module_version": "1.2.0",
       "_view_name": "StyleView",
       "description_width": ""
      }
     },
     "98b444a79c93470799909dc4ad09722d": {
      "model_module": "@jupyter-widgets/base",
      "model_module_version": "1.2.0",
      "model_name": "LayoutModel",
      "state": {
       "_model_module": "@jupyter-widgets/base",
       "_model_module_version": "1.2.0",
       "_model_name": "LayoutModel",
       "_view_count": null,
       "_view_module": "@jupyter-widgets/base",
       "_view_module_version": "1.2.0",
       "_view_name": "LayoutView",
       "align_content": null,
       "align_items": null,
       "align_self": null,
       "border": null,
       "bottom": null,
       "display": null,
       "flex": null,
       "flex_flow": null,
       "grid_area": null,
       "grid_auto_columns": null,
       "grid_auto_flow": null,
       "grid_auto_rows": null,
       "grid_column": null,
       "grid_gap": null,
       "grid_row": null,
       "grid_template_areas": null,
       "grid_template_columns": null,
       "grid_template_rows": null,
       "height": null,
       "justify_content": null,
       "justify_items": null,
       "left": null,
       "margin": null,
       "max_height": null,
       "max_width": null,
       "min_height": null,
       "min_width": null,
       "object_fit": null,
       "object_position": null,
       "order": null,
       "overflow": null,
       "overflow_x": null,
       "overflow_y": null,
       "padding": null,
       "right": null,
       "top": null,
       "visibility": null,
       "width": null
      }
     },
     "98c204812eb542bfaaf6d57438ff0d15": {
      "model_module": "@jupyter-widgets/base",
      "model_module_version": "1.2.0",
      "model_name": "LayoutModel",
      "state": {
       "_model_module": "@jupyter-widgets/base",
       "_model_module_version": "1.2.0",
       "_model_name": "LayoutModel",
       "_view_count": null,
       "_view_module": "@jupyter-widgets/base",
       "_view_module_version": "1.2.0",
       "_view_name": "LayoutView",
       "align_content": null,
       "align_items": null,
       "align_self": null,
       "border": null,
       "bottom": null,
       "display": null,
       "flex": null,
       "flex_flow": null,
       "grid_area": null,
       "grid_auto_columns": null,
       "grid_auto_flow": null,
       "grid_auto_rows": null,
       "grid_column": null,
       "grid_gap": null,
       "grid_row": null,
       "grid_template_areas": null,
       "grid_template_columns": null,
       "grid_template_rows": null,
       "height": null,
       "justify_content": null,
       "justify_items": null,
       "left": null,
       "margin": null,
       "max_height": null,
       "max_width": null,
       "min_height": null,
       "min_width": null,
       "object_fit": null,
       "object_position": null,
       "order": null,
       "overflow": null,
       "overflow_x": null,
       "overflow_y": null,
       "padding": null,
       "right": null,
       "top": null,
       "visibility": null,
       "width": null
      }
     },
     "9fb637d9b40c4d038293663e5b853c34": {
      "model_module": "@jupyter-widgets/controls",
      "model_module_version": "1.5.0",
      "model_name": "HTMLModel",
      "state": {
       "_dom_classes": [],
       "_model_module": "@jupyter-widgets/controls",
       "_model_module_version": "1.5.0",
       "_model_name": "HTMLModel",
       "_view_count": null,
       "_view_module": "@jupyter-widgets/controls",
       "_view_module_version": "1.5.0",
       "_view_name": "HTMLView",
       "description": "",
       "description_tooltip": null,
       "layout": "IPY_MODEL_7a7dc2d6ca3247078ed8c2f828e3aed4",
       "placeholder": "​",
       "style": "IPY_MODEL_f3d07fed64b748239208f9a2aa01aaf4",
       "value": " 547M/547M [00:12&lt;00:00, 42.4MB/s]"
      }
     },
     "9fd653567eea4cce912eecedb1f79239": {
      "model_module": "@jupyter-widgets/controls",
      "model_module_version": "1.5.0",
      "model_name": "HTMLModel",
      "state": {
       "_dom_classes": [],
       "_model_module": "@jupyter-widgets/controls",
       "_model_module_version": "1.5.0",
       "_model_name": "HTMLModel",
       "_view_count": null,
       "_view_module": "@jupyter-widgets/controls",
       "_view_module_version": "1.5.0",
       "_view_name": "HTMLView",
       "description": "",
       "description_tooltip": null,
       "layout": "IPY_MODEL_2aedfa56df6945c5857ea77418e03e84",
       "placeholder": "​",
       "style": "IPY_MODEL_9869bc5ce0ab49ae9179fa5b633ffa99",
       "value": "vocab.txt: 100%"
      }
     },
     "a2aea3fa4e324a0f8417c7a92acc472a": {
      "model_module": "@jupyter-widgets/controls",
      "model_module_version": "1.5.0",
      "model_name": "DescriptionStyleModel",
      "state": {
       "_model_module": "@jupyter-widgets/controls",
       "_model_module_version": "1.5.0",
       "_model_name": "DescriptionStyleModel",
       "_view_count": null,
       "_view_module": "@jupyter-widgets/base",
       "_view_module_version": "1.2.0",
       "_view_name": "StyleView",
       "description_width": ""
      }
     },
     "a823398fe33640b8aacf258c1864a6cc": {
      "model_module": "@jupyter-widgets/base",
      "model_module_version": "1.2.0",
      "model_name": "LayoutModel",
      "state": {
       "_model_module": "@jupyter-widgets/base",
       "_model_module_version": "1.2.0",
       "_model_name": "LayoutModel",
       "_view_count": null,
       "_view_module": "@jupyter-widgets/base",
       "_view_module_version": "1.2.0",
       "_view_name": "LayoutView",
       "align_content": null,
       "align_items": null,
       "align_self": null,
       "border": null,
       "bottom": null,
       "display": null,
       "flex": null,
       "flex_flow": null,
       "grid_area": null,
       "grid_auto_columns": null,
       "grid_auto_flow": null,
       "grid_auto_rows": null,
       "grid_column": null,
       "grid_gap": null,
       "grid_row": null,
       "grid_template_areas": null,
       "grid_template_columns": null,
       "grid_template_rows": null,
       "height": null,
       "justify_content": null,
       "justify_items": null,
       "left": null,
       "margin": null,
       "max_height": null,
       "max_width": null,
       "min_height": null,
       "min_width": null,
       "object_fit": null,
       "object_position": null,
       "order": null,
       "overflow": null,
       "overflow_x": null,
       "overflow_y": null,
       "padding": null,
       "right": null,
       "top": null,
       "visibility": null,
       "width": null
      }
     },
     "a983e50472464650a3ff2cf1ee2ca4b0": {
      "model_module": "@jupyter-widgets/base",
      "model_module_version": "1.2.0",
      "model_name": "LayoutModel",
      "state": {
       "_model_module": "@jupyter-widgets/base",
       "_model_module_version": "1.2.0",
       "_model_name": "LayoutModel",
       "_view_count": null,
       "_view_module": "@jupyter-widgets/base",
       "_view_module_version": "1.2.0",
       "_view_name": "LayoutView",
       "align_content": null,
       "align_items": null,
       "align_self": null,
       "border": null,
       "bottom": null,
       "display": null,
       "flex": null,
       "flex_flow": null,
       "grid_area": null,
       "grid_auto_columns": null,
       "grid_auto_flow": null,
       "grid_auto_rows": null,
       "grid_column": null,
       "grid_gap": null,
       "grid_row": null,
       "grid_template_areas": null,
       "grid_template_columns": null,
       "grid_template_rows": null,
       "height": null,
       "justify_content": null,
       "justify_items": null,
       "left": null,
       "margin": null,
       "max_height": null,
       "max_width": null,
       "min_height": null,
       "min_width": null,
       "object_fit": null,
       "object_position": null,
       "order": null,
       "overflow": null,
       "overflow_x": null,
       "overflow_y": null,
       "padding": null,
       "right": null,
       "top": null,
       "visibility": null,
       "width": null
      }
     },
     "aaa6d3a0ac464a32901c5780e8747fd7": {
      "model_module": "@jupyter-widgets/controls",
      "model_module_version": "1.5.0",
      "model_name": "HTMLModel",
      "state": {
       "_dom_classes": [],
       "_model_module": "@jupyter-widgets/controls",
       "_model_module_version": "1.5.0",
       "_model_name": "HTMLModel",
       "_view_count": null,
       "_view_module": "@jupyter-widgets/controls",
       "_view_module_version": "1.5.0",
       "_view_name": "HTMLView",
       "description": "",
       "description_tooltip": null,
       "layout": "IPY_MODEL_8d991d33c0dc4966944aa93b6decf0ba",
       "placeholder": "​",
       "style": "IPY_MODEL_5b7edd02abcd4e33a6384d85b566512f",
       "value": "sentence_bert_config.json: 100%"
      }
     },
     "acb4296358d44dc18f602ca610316390": {
      "model_module": "@jupyter-widgets/controls",
      "model_module_version": "1.5.0",
      "model_name": "HBoxModel",
      "state": {
       "_dom_classes": [],
       "_model_module": "@jupyter-widgets/controls",
       "_model_module_version": "1.5.0",
       "_model_name": "HBoxModel",
       "_view_count": null,
       "_view_module": "@jupyter-widgets/controls",
       "_view_module_version": "1.5.0",
       "_view_name": "HBoxView",
       "box_style": "",
       "children": [
        "IPY_MODEL_41e0838b71a547729260baa93f0f3e83",
        "IPY_MODEL_2446b05cdcea444896b49d8c26ecfb17",
        "IPY_MODEL_c02e57e08f8c43ca962ea7c998c6693b"
       ],
       "layout": "IPY_MODEL_54dedcb4c94c43798042c0f05522729f"
      }
     },
     "af15ed0dcfdf4a45874896942f95bb54": {
      "model_module": "@jupyter-widgets/controls",
      "model_module_version": "1.5.0",
      "model_name": "HTMLModel",
      "state": {
       "_dom_classes": [],
       "_model_module": "@jupyter-widgets/controls",
       "_model_module_version": "1.5.0",
       "_model_name": "HTMLModel",
       "_view_count": null,
       "_view_module": "@jupyter-widgets/controls",
       "_view_module_version": "1.5.0",
       "_view_name": "HTMLView",
       "description": "",
       "description_tooltip": null,
       "layout": "IPY_MODEL_1c336c46aad142768560fc10e44415be",
       "placeholder": "​",
       "style": "IPY_MODEL_1ba1a01d096a49d6958003f9c02ba5fe",
       "value": " 695/695 [00:00&lt;00:00, 56.7kB/s]"
      }
     },
     "b097510b0aa14b4e92a5ebc6e86cdaf3": {
      "model_module": "@jupyter-widgets/base",
      "model_module_version": "1.2.0",
      "model_name": "LayoutModel",
      "state": {
       "_model_module": "@jupyter-widgets/base",
       "_model_module_version": "1.2.0",
       "_model_name": "LayoutModel",
       "_view_count": null,
       "_view_module": "@jupyter-widgets/base",
       "_view_module_version": "1.2.0",
       "_view_name": "LayoutView",
       "align_content": null,
       "align_items": null,
       "align_self": null,
       "border": null,
       "bottom": null,
       "display": null,
       "flex": null,
       "flex_flow": null,
       "grid_area": null,
       "grid_auto_columns": null,
       "grid_auto_flow": null,
       "grid_auto_rows": null,
       "grid_column": null,
       "grid_gap": null,
       "grid_row": null,
       "grid_template_areas": null,
       "grid_template_columns": null,
       "grid_template_rows": null,
       "height": null,
       "justify_content": null,
       "justify_items": null,
       "left": null,
       "margin": null,
       "max_height": null,
       "max_width": null,
       "min_height": null,
       "min_width": null,
       "object_fit": null,
       "object_position": null,
       "order": null,
       "overflow": null,
       "overflow_x": null,
       "overflow_y": null,
       "padding": null,
       "right": null,
       "top": null,
       "visibility": null,
       "width": null
      }
     },
     "b0b8b2670cdf47608967e241116ed9bf": {
      "model_module": "@jupyter-widgets/controls",
      "model_module_version": "1.5.0",
      "model_name": "FloatProgressModel",
      "state": {
       "_dom_classes": [],
       "_model_module": "@jupyter-widgets/controls",
       "_model_module_version": "1.5.0",
       "_model_name": "FloatProgressModel",
       "_view_count": null,
       "_view_module": "@jupyter-widgets/controls",
       "_view_module_version": "1.5.0",
       "_view_name": "ProgressView",
       "bar_style": "success",
       "description": "",
       "description_tooltip": null,
       "layout": "IPY_MODEL_551ca56008b24b8786788557a3a6961c",
       "max": 85660.0,
       "min": 0.0,
       "orientation": "horizontal",
       "style": "IPY_MODEL_19578ee96763418291a9d837594384a9",
       "value": 85660.0
      }
     },
     "b5eae105ca7b4126b225b381559fbbe9": {
      "model_module": "@jupyter-widgets/controls",
      "model_module_version": "1.5.0",
      "model_name": "ProgressStyleModel",
      "state": {
       "_model_module": "@jupyter-widgets/controls",
       "_model_module_version": "1.5.0",
       "_model_name": "ProgressStyleModel",
       "_view_count": null,
       "_view_module": "@jupyter-widgets/base",
       "_view_module_version": "1.2.0",
       "_view_name": "StyleView",
       "bar_color": null,
       "description_width": ""
      }
     },
     "b6382eb6b08e46e4a695af4c634e6ecd": {
      "model_module": "@jupyter-widgets/controls",
      "model_module_version": "1.5.0",
      "model_name": "DescriptionStyleModel",
      "state": {
       "_model_module": "@jupyter-widgets/controls",
       "_model_module_version": "1.5.0",
       "_model_name": "DescriptionStyleModel",
       "_view_count": null,
       "_view_module": "@jupyter-widgets/base",
       "_view_module_version": "1.2.0",
       "_view_name": "StyleView",
       "description_width": ""
      }
     },
     "b973400ee91e4fd4b1a53ae20e32c2d2": {
      "model_module": "@jupyter-widgets/base",
      "model_module_version": "1.2.0",
      "model_name": "LayoutModel",
      "state": {
       "_model_module": "@jupyter-widgets/base",
       "_model_module_version": "1.2.0",
       "_model_name": "LayoutModel",
       "_view_count": null,
       "_view_module": "@jupyter-widgets/base",
       "_view_module_version": "1.2.0",
       "_view_name": "LayoutView",
       "align_content": null,
       "align_items": null,
       "align_self": null,
       "border": null,
       "bottom": null,
       "display": null,
       "flex": null,
       "flex_flow": null,
       "grid_area": null,
       "grid_auto_columns": null,
       "grid_auto_flow": null,
       "grid_auto_rows": null,
       "grid_column": null,
       "grid_gap": null,
       "grid_row": null,
       "grid_template_areas": null,
       "grid_template_columns": null,
       "grid_template_rows": null,
       "height": null,
       "justify_content": null,
       "justify_items": null,
       "left": null,
       "margin": null,
       "max_height": null,
       "max_width": null,
       "min_height": null,
       "min_width": null,
       "object_fit": null,
       "object_position": null,
       "order": null,
       "overflow": null,
       "overflow_x": null,
       "overflow_y": null,
       "padding": null,
       "right": null,
       "top": null,
       "visibility": null,
       "width": null
      }
     },
     "b982d45c0b554238b9b389a27f2dc951": {
      "model_module": "@jupyter-widgets/base",
      "model_module_version": "1.2.0",
      "model_name": "LayoutModel",
      "state": {
       "_model_module": "@jupyter-widgets/base",
       "_model_module_version": "1.2.0",
       "_model_name": "LayoutModel",
       "_view_count": null,
       "_view_module": "@jupyter-widgets/base",
       "_view_module_version": "1.2.0",
       "_view_name": "LayoutView",
       "align_content": null,
       "align_items": null,
       "align_self": null,
       "border": null,
       "bottom": null,
       "display": null,
       "flex": null,
       "flex_flow": null,
       "grid_area": null,
       "grid_auto_columns": null,
       "grid_auto_flow": null,
       "grid_auto_rows": null,
       "grid_column": null,
       "grid_gap": null,
       "grid_row": null,
       "grid_template_areas": null,
       "grid_template_columns": null,
       "grid_template_rows": null,
       "height": null,
       "justify_content": null,
       "justify_items": null,
       "left": null,
       "margin": null,
       "max_height": null,
       "max_width": null,
       "min_height": null,
       "min_width": null,
       "object_fit": null,
       "object_position": null,
       "order": null,
       "overflow": null,
       "overflow_x": null,
       "overflow_y": null,
       "padding": null,
       "right": null,
       "top": null,
       "visibility": null,
       "width": null
      }
     },
     "ba32a296d51748e5a0d94d709a38584e": {
      "model_module": "@jupyter-widgets/base",
      "model_module_version": "1.2.0",
      "model_name": "LayoutModel",
      "state": {
       "_model_module": "@jupyter-widgets/base",
       "_model_module_version": "1.2.0",
       "_model_name": "LayoutModel",
       "_view_count": null,
       "_view_module": "@jupyter-widgets/base",
       "_view_module_version": "1.2.0",
       "_view_name": "LayoutView",
       "align_content": null,
       "align_items": null,
       "align_self": null,
       "border": null,
       "bottom": null,
       "display": null,
       "flex": null,
       "flex_flow": null,
       "grid_area": null,
       "grid_auto_columns": null,
       "grid_auto_flow": null,
       "grid_auto_rows": null,
       "grid_column": null,
       "grid_gap": null,
       "grid_row": null,
       "grid_template_areas": null,
       "grid_template_columns": null,
       "grid_template_rows": null,
       "height": null,
       "justify_content": null,
       "justify_items": null,
       "left": null,
       "margin": null,
       "max_height": null,
       "max_width": null,
       "min_height": null,
       "min_width": null,
       "object_fit": null,
       "object_position": null,
       "order": null,
       "overflow": null,
       "overflow_x": null,
       "overflow_y": null,
       "padding": null,
       "right": null,
       "top": null,
       "visibility": null,
       "width": null
      }
     },
     "bca22d5e6f70483daca4f42d77993b7b": {
      "model_module": "@jupyter-widgets/controls",
      "model_module_version": "1.5.0",
      "model_name": "HTMLModel",
      "state": {
       "_dom_classes": [],
       "_model_module": "@jupyter-widgets/controls",
       "_model_module_version": "1.5.0",
       "_model_name": "HTMLModel",
       "_view_count": null,
       "_view_module": "@jupyter-widgets/controls",
       "_view_module_version": "1.5.0",
       "_view_name": "HTMLView",
       "description": "",
       "description_tooltip": null,
       "layout": "IPY_MODEL_a983e50472464650a3ff2cf1ee2ca4b0",
       "placeholder": "​",
       "style": "IPY_MODEL_b6382eb6b08e46e4a695af4c634e6ecd",
       "value": "tokenizer.json: 100%"
      }
     },
     "be2bd63a90434561ae6605dfb1b5fef3": {
      "model_module": "@jupyter-widgets/base",
      "model_module_version": "1.2.0",
      "model_name": "LayoutModel",
      "state": {
       "_model_module": "@jupyter-widgets/base",
       "_model_module_version": "1.2.0",
       "_model_name": "LayoutModel",
       "_view_count": null,
       "_view_module": "@jupyter-widgets/base",
       "_view_module_version": "1.2.0",
       "_view_name": "LayoutView",
       "align_content": null,
       "align_items": null,
       "align_self": null,
       "border": null,
       "bottom": null,
       "display": null,
       "flex": null,
       "flex_flow": null,
       "grid_area": null,
       "grid_auto_columns": null,
       "grid_auto_flow": null,
       "grid_auto_rows": null,
       "grid_column": null,
       "grid_gap": null,
       "grid_row": null,
       "grid_template_areas": null,
       "grid_template_columns": null,
       "grid_template_rows": null,
       "height": null,
       "justify_content": null,
       "justify_items": null,
       "left": null,
       "margin": null,
       "max_height": null,
       "max_width": null,
       "min_height": null,
       "min_width": null,
       "object_fit": null,
       "object_position": null,
       "order": null,
       "overflow": null,
       "overflow_x": null,
       "overflow_y": null,
       "padding": null,
       "right": null,
       "top": null,
       "visibility": null,
       "width": null
      }
     },
     "c02e57e08f8c43ca962ea7c998c6693b": {
      "model_module": "@jupyter-widgets/controls",
      "model_module_version": "1.5.0",
      "model_name": "HTMLModel",
      "state": {
       "_dom_classes": [],
       "_model_module": "@jupyter-widgets/controls",
       "_model_module_version": "1.5.0",
       "_model_name": "HTMLModel",
       "_view_count": null,
       "_view_module": "@jupyter-widgets/controls",
       "_view_module_version": "1.5.0",
       "_view_name": "HTMLView",
       "description": "",
       "description_tooltip": null,
       "layout": "IPY_MODEL_916790b086e34a7fb34ba67f980539e3",
       "placeholder": "​",
       "style": "IPY_MODEL_5cb612ec00a540fe94310a3db63e18b5",
       "value": " 1.96k/1.96k [00:00&lt;00:00, 162kB/s]"
      }
     },
     "c0620d2fb23b46bf9a29b911d1f3fc42": {
      "model_module": "@jupyter-widgets/controls",
      "model_module_version": "1.5.0",
      "model_name": "ProgressStyleModel",
      "state": {
       "_model_module": "@jupyter-widgets/controls",
       "_model_module_version": "1.5.0",
       "_model_name": "ProgressStyleModel",
       "_view_count": null,
       "_view_module": "@jupyter-widgets/base",
       "_view_module_version": "1.2.0",
       "_view_name": "StyleView",
       "bar_color": null,
       "description_width": ""
      }
     },
     "c0cdb8b7f1334087960799dab46188cb": {
      "model_module": "@jupyter-widgets/base",
      "model_module_version": "1.2.0",
      "model_name": "LayoutModel",
      "state": {
       "_model_module": "@jupyter-widgets/base",
       "_model_module_version": "1.2.0",
       "_model_name": "LayoutModel",
       "_view_count": null,
       "_view_module": "@jupyter-widgets/base",
       "_view_module_version": "1.2.0",
       "_view_name": "LayoutView",
       "align_content": null,
       "align_items": null,
       "align_self": null,
       "border": null,
       "bottom": null,
       "display": null,
       "flex": null,
       "flex_flow": null,
       "grid_area": null,
       "grid_auto_columns": null,
       "grid_auto_flow": null,
       "grid_auto_rows": null,
       "grid_column": null,
       "grid_gap": null,
       "grid_row": null,
       "grid_template_areas": null,
       "grid_template_columns": null,
       "grid_template_rows": null,
       "height": null,
       "justify_content": null,
       "justify_items": null,
       "left": null,
       "margin": null,
       "max_height": null,
       "max_width": null,
       "min_height": null,
       "min_width": null,
       "object_fit": null,
       "object_position": null,
       "order": null,
       "overflow": null,
       "overflow_x": null,
       "overflow_y": null,
       "padding": null,
       "right": null,
       "top": null,
       "visibility": null,
       "width": null
      }
     },
     "c19237d69b5545fd97ec9d1d845981de": {
      "model_module": "@jupyter-widgets/base",
      "model_module_version": "1.2.0",
      "model_name": "LayoutModel",
      "state": {
       "_model_module": "@jupyter-widgets/base",
       "_model_module_version": "1.2.0",
       "_model_name": "LayoutModel",
       "_view_count": null,
       "_view_module": "@jupyter-widgets/base",
       "_view_module_version": "1.2.0",
       "_view_name": "LayoutView",
       "align_content": null,
       "align_items": null,
       "align_self": null,
       "border": null,
       "bottom": null,
       "display": null,
       "flex": null,
       "flex_flow": null,
       "grid_area": null,
       "grid_auto_columns": null,
       "grid_auto_flow": null,
       "grid_auto_rows": null,
       "grid_column": null,
       "grid_gap": null,
       "grid_row": null,
       "grid_template_areas": null,
       "grid_template_columns": null,
       "grid_template_rows": null,
       "height": null,
       "justify_content": null,
       "justify_items": null,
       "left": null,
       "margin": null,
       "max_height": null,
       "max_width": null,
       "min_height": null,
       "min_width": null,
       "object_fit": null,
       "object_position": null,
       "order": null,
       "overflow": null,
       "overflow_x": null,
       "overflow_y": null,
       "padding": null,
       "right": null,
       "top": null,
       "visibility": null,
       "width": null
      }
     },
     "c309b2f0637746f6a7c665ae45155ab6": {
      "model_module": "@jupyter-widgets/controls",
      "model_module_version": "1.5.0",
      "model_name": "HTMLModel",
      "state": {
       "_dom_classes": [],
       "_model_module": "@jupyter-widgets/controls",
       "_model_module_version": "1.5.0",
       "_model_name": "HTMLModel",
       "_view_count": null,
       "_view_module": "@jupyter-widgets/controls",
       "_view_module_version": "1.5.0",
       "_view_name": "HTMLView",
       "description": "",
       "description_tooltip": null,
       "layout": "IPY_MODEL_b973400ee91e4fd4b1a53ae20e32c2d2",
       "placeholder": "​",
       "style": "IPY_MODEL_d90ae944175b482e836601fd7b0f9393",
       "value": "tokenizer_config.json: 100%"
      }
     },
     "c4673c4965b948bb9380d63e3582d196": {
      "model_module": "@jupyter-widgets/controls",
      "model_module_version": "1.5.0",
      "model_name": "FloatProgressModel",
      "state": {
       "_dom_classes": [],
       "_model_module": "@jupyter-widgets/controls",
       "_model_module_version": "1.5.0",
       "_model_name": "FloatProgressModel",
       "_view_count": null,
       "_view_module": "@jupyter-widgets/controls",
       "_view_module_version": "1.5.0",
       "_view_name": "ProgressView",
       "bar_style": "success",
       "description": "",
       "description_tooltip": null,
       "layout": "IPY_MODEL_5a7fedd3cc8b4b61b485f0c492b99ecf",
       "max": 231508.0,
       "min": 0.0,
       "orientation": "horizontal",
       "style": "IPY_MODEL_b5eae105ca7b4126b225b381559fbbe9",
       "value": 231508.0
      }
     },
     "c4e3258aecae4cf3ac4f4910597f4311": {
      "model_module": "@jupyter-widgets/controls",
      "model_module_version": "1.5.0",
      "model_name": "FloatProgressModel",
      "state": {
       "_dom_classes": [],
       "_model_module": "@jupyter-widgets/controls",
       "_model_module_version": "1.5.0",
       "_model_name": "FloatProgressModel",
       "_view_count": null,
       "_view_module": "@jupyter-widgets/controls",
       "_view_module_version": "1.5.0",
       "_view_name": "ProgressView",
       "bar_style": "success",
       "description": "",
       "description_tooltip": null,
       "layout": "IPY_MODEL_8267a7a291f345d9a2212b2784b73809",
       "max": 711396.0,
       "min": 0.0,
       "orientation": "horizontal",
       "style": "IPY_MODEL_fdfe979cdef34cc4b8f100064a5d8a38",
       "value": 711396.0
      }
     },
     "c919c85b40ad44238c6880d43b3f01f2": {
      "model_module": "@jupyter-widgets/base",
      "model_module_version": "1.2.0",
      "model_name": "LayoutModel",
      "state": {
       "_model_module": "@jupyter-widgets/base",
       "_model_module_version": "1.2.0",
       "_model_name": "LayoutModel",
       "_view_count": null,
       "_view_module": "@jupyter-widgets/base",
       "_view_module_version": "1.2.0",
       "_view_name": "LayoutView",
       "align_content": null,
       "align_items": null,
       "align_self": null,
       "border": null,
       "bottom": null,
       "display": null,
       "flex": null,
       "flex_flow": null,
       "grid_area": null,
       "grid_auto_columns": null,
       "grid_auto_flow": null,
       "grid_auto_rows": null,
       "grid_column": null,
       "grid_gap": null,
       "grid_row": null,
       "grid_template_areas": null,
       "grid_template_columns": null,
       "grid_template_rows": null,
       "height": null,
       "justify_content": null,
       "justify_items": null,
       "left": null,
       "margin": null,
       "max_height": null,
       "max_width": null,
       "min_height": null,
       "min_width": null,
       "object_fit": null,
       "object_position": null,
       "order": null,
       "overflow": null,
       "overflow_x": null,
       "overflow_y": null,
       "padding": null,
       "right": null,
       "top": null,
       "visibility": null,
       "width": null
      }
     },
     "c9aabe447fe24491b05f4e25481dff29": {
      "model_module": "@jupyter-widgets/controls",
      "model_module_version": "1.5.0",
      "model_name": "HTMLModel",
      "state": {
       "_dom_classes": [],
       "_model_module": "@jupyter-widgets/controls",
       "_model_module_version": "1.5.0",
       "_model_name": "HTMLModel",
       "_view_count": null,
       "_view_module": "@jupyter-widgets/controls",
       "_view_module_version": "1.5.0",
       "_view_name": "HTMLView",
       "description": "",
       "description_tooltip": null,
       "layout": "IPY_MODEL_6fdb3446d34a49d79dffefa6e2f8d527",
       "placeholder": "​",
       "style": "IPY_MODEL_1d104aa9507c4a128e9ccb86118defaf",
       "value": " 140/140 [00:00&lt;00:00, 11.8kB/s]"
      }
     },
     "d09a97ba7d2244b8a5e29f3d4e186114": {
      "model_module": "@jupyter-widgets/controls",
      "model_module_version": "1.5.0",
      "model_name": "DescriptionStyleModel",
      "state": {
       "_model_module": "@jupyter-widgets/controls",
       "_model_module_version": "1.5.0",
       "_model_name": "DescriptionStyleModel",
       "_view_count": null,
       "_view_module": "@jupyter-widgets/base",
       "_view_module_version": "1.2.0",
       "_view_name": "StyleView",
       "description_width": ""
      }
     },
     "d107651819f54fe4ba2d1bb0ecae487b": {
      "model_module": "@jupyter-widgets/controls",
      "model_module_version": "1.5.0",
      "model_name": "DescriptionStyleModel",
      "state": {
       "_model_module": "@jupyter-widgets/controls",
       "_model_module_version": "1.5.0",
       "_model_name": "DescriptionStyleModel",
       "_view_count": null,
       "_view_module": "@jupyter-widgets/base",
       "_view_module_version": "1.2.0",
       "_view_name": "StyleView",
       "description_width": ""
      }
     },
     "d4e5b14ef4334e179b72a90a295f5976": {
      "model_module": "@jupyter-widgets/controls",
      "model_module_version": "1.5.0",
      "model_name": "HTMLModel",
      "state": {
       "_dom_classes": [],
       "_model_module": "@jupyter-widgets/controls",
       "_model_module_version": "1.5.0",
       "_model_name": "HTMLModel",
       "_view_count": null,
       "_view_module": "@jupyter-widgets/controls",
       "_view_module_version": "1.5.0",
       "_view_name": "HTMLView",
       "description": "",
       "description_tooltip": null,
       "layout": "IPY_MODEL_dff942b72b544325b94f119070649c01",
       "placeholder": "​",
       "style": "IPY_MODEL_d09a97ba7d2244b8a5e29f3d4e186114",
       "value": "modeling_hf_nomic_bert.py: 100%"
      }
     },
     "d5e7a712c75c4d378148ab50529b9e9c": {
      "model_module": "@jupyter-widgets/controls",
      "model_module_version": "1.5.0",
      "model_name": "DescriptionStyleModel",
      "state": {
       "_model_module": "@jupyter-widgets/controls",
       "_model_module_version": "1.5.0",
       "_model_name": "DescriptionStyleModel",
       "_view_count": null,
       "_view_module": "@jupyter-widgets/base",
       "_view_module_version": "1.2.0",
       "_view_name": "StyleView",
       "description_width": ""
      }
     },
     "d90ae944175b482e836601fd7b0f9393": {
      "model_module": "@jupyter-widgets/controls",
      "model_module_version": "1.5.0",
      "model_name": "DescriptionStyleModel",
      "state": {
       "_model_module": "@jupyter-widgets/controls",
       "_model_module_version": "1.5.0",
       "_model_name": "DescriptionStyleModel",
       "_view_count": null,
       "_view_module": "@jupyter-widgets/base",
       "_view_module_version": "1.2.0",
       "_view_name": "StyleView",
       "description_width": ""
      }
     },
     "d922fb11192f4cafbc460850d08dad0f": {
      "model_module": "@jupyter-widgets/controls",
      "model_module_version": "1.5.0",
      "model_name": "HTMLModel",
      "state": {
       "_dom_classes": [],
       "_model_module": "@jupyter-widgets/controls",
       "_model_module_version": "1.5.0",
       "_model_name": "HTMLModel",
       "_view_count": null,
       "_view_module": "@jupyter-widgets/controls",
       "_view_module_version": "1.5.0",
       "_view_name": "HTMLView",
       "description": "",
       "description_tooltip": null,
       "layout": "IPY_MODEL_98b444a79c93470799909dc4ad09722d",
       "placeholder": "​",
       "style": "IPY_MODEL_dc7bb5149be547cbb73ea09095c77fb7",
       "value": " 2.06k/2.06k [00:00&lt;00:00, 171kB/s]"
      }
     },
     "d972cbad977549a894f57b372b67c5a6": {
      "model_module": "@jupyter-widgets/controls",
      "model_module_version": "1.5.0",
      "model_name": "ProgressStyleModel",
      "state": {
       "_model_module": "@jupyter-widgets/controls",
       "_model_module_version": "1.5.0",
       "_model_name": "ProgressStyleModel",
       "_view_count": null,
       "_view_module": "@jupyter-widgets/base",
       "_view_module_version": "1.2.0",
       "_view_name": "StyleView",
       "bar_color": null,
       "description_width": ""
      }
     },
     "da67729f9eab4c55a1d43744bd624e09": {
      "model_module": "@jupyter-widgets/base",
      "model_module_version": "1.2.0",
      "model_name": "LayoutModel",
      "state": {
       "_model_module": "@jupyter-widgets/base",
       "_model_module_version": "1.2.0",
       "_model_name": "LayoutModel",
       "_view_count": null,
       "_view_module": "@jupyter-widgets/base",
       "_view_module_version": "1.2.0",
       "_view_name": "LayoutView",
       "align_content": null,
       "align_items": null,
       "align_self": null,
       "border": null,
       "bottom": null,
       "display": null,
       "flex": null,
       "flex_flow": null,
       "grid_area": null,
       "grid_auto_columns": null,
       "grid_auto_flow": null,
       "grid_auto_rows": null,
       "grid_column": null,
       "grid_gap": null,
       "grid_row": null,
       "grid_template_areas": null,
       "grid_template_columns": null,
       "grid_template_rows": null,
       "height": null,
       "justify_content": null,
       "justify_items": null,
       "left": null,
       "margin": null,
       "max_height": null,
       "max_width": null,
       "min_height": null,
       "min_width": null,
       "object_fit": null,
       "object_position": null,
       "order": null,
       "overflow": null,
       "overflow_x": null,
       "overflow_y": null,
       "padding": null,
       "right": null,
       "top": null,
       "visibility": null,
       "width": null
      }
     },
     "dc7bb5149be547cbb73ea09095c77fb7": {
      "model_module": "@jupyter-widgets/controls",
      "model_module_version": "1.5.0",
      "model_name": "DescriptionStyleModel",
      "state": {
       "_model_module": "@jupyter-widgets/controls",
       "_model_module_version": "1.5.0",
       "_model_name": "DescriptionStyleModel",
       "_view_count": null,
       "_view_module": "@jupyter-widgets/base",
       "_view_module_version": "1.2.0",
       "_view_name": "StyleView",
       "description_width": ""
      }
     },
     "dd732259a5fb4eb58d5ed4487d3ede6d": {
      "model_module": "@jupyter-widgets/controls",
      "model_module_version": "1.5.0",
      "model_name": "DescriptionStyleModel",
      "state": {
       "_model_module": "@jupyter-widgets/controls",
       "_model_module_version": "1.5.0",
       "_model_name": "DescriptionStyleModel",
       "_view_count": null,
       "_view_module": "@jupyter-widgets/base",
       "_view_module_version": "1.2.0",
       "_view_name": "StyleView",
       "description_width": ""
      }
     },
     "dff942b72b544325b94f119070649c01": {
      "model_module": "@jupyter-widgets/base",
      "model_module_version": "1.2.0",
      "model_name": "LayoutModel",
      "state": {
       "_model_module": "@jupyter-widgets/base",
       "_model_module_version": "1.2.0",
       "_model_name": "LayoutModel",
       "_view_count": null,
       "_view_module": "@jupyter-widgets/base",
       "_view_module_version": "1.2.0",
       "_view_name": "LayoutView",
       "align_content": null,
       "align_items": null,
       "align_self": null,
       "border": null,
       "bottom": null,
       "display": null,
       "flex": null,
       "flex_flow": null,
       "grid_area": null,
       "grid_auto_columns": null,
       "grid_auto_flow": null,
       "grid_auto_rows": null,
       "grid_column": null,
       "grid_gap": null,
       "grid_row": null,
       "grid_template_areas": null,
       "grid_template_columns": null,
       "grid_template_rows": null,
       "height": null,
       "justify_content": null,
       "justify_items": null,
       "left": null,
       "margin": null,
       "max_height": null,
       "max_width": null,
       "min_height": null,
       "min_width": null,
       "object_fit": null,
       "object_position": null,
       "order": null,
       "overflow": null,
       "overflow_x": null,
       "overflow_y": null,
       "padding": null,
       "right": null,
       "top": null,
       "visibility": null,
       "width": null
      }
     },
     "e51a2207185b4148b3c7358a41295ba2": {
      "model_module": "@jupyter-widgets/base",
      "model_module_version": "1.2.0",
      "model_name": "LayoutModel",
      "state": {
       "_model_module": "@jupyter-widgets/base",
       "_model_module_version": "1.2.0",
       "_model_name": "LayoutModel",
       "_view_count": null,
       "_view_module": "@jupyter-widgets/base",
       "_view_module_version": "1.2.0",
       "_view_name": "LayoutView",
       "align_content": null,
       "align_items": null,
       "align_self": null,
       "border": null,
       "bottom": null,
       "display": null,
       "flex": null,
       "flex_flow": null,
       "grid_area": null,
       "grid_auto_columns": null,
       "grid_auto_flow": null,
       "grid_auto_rows": null,
       "grid_column": null,
       "grid_gap": null,
       "grid_row": null,
       "grid_template_areas": null,
       "grid_template_columns": null,
       "grid_template_rows": null,
       "height": null,
       "justify_content": null,
       "justify_items": null,
       "left": null,
       "margin": null,
       "max_height": null,
       "max_width": null,
       "min_height": null,
       "min_width": null,
       "object_fit": null,
       "object_position": null,
       "order": null,
       "overflow": null,
       "overflow_x": null,
       "overflow_y": null,
       "padding": null,
       "right": null,
       "top": null,
       "visibility": null,
       "width": null
      }
     },
     "e65a4641e2aa43bc99bd56bda05a6445": {
      "model_module": "@jupyter-widgets/controls",
      "model_module_version": "1.5.0",
      "model_name": "DescriptionStyleModel",
      "state": {
       "_model_module": "@jupyter-widgets/controls",
       "_model_module_version": "1.5.0",
       "_model_name": "DescriptionStyleModel",
       "_view_count": null,
       "_view_module": "@jupyter-widgets/base",
       "_view_module_version": "1.2.0",
       "_view_name": "StyleView",
       "description_width": ""
      }
     },
     "e6ae77ed3d314b59bdb2fa31b10a24c0": {
      "model_module": "@jupyter-widgets/controls",
      "model_module_version": "1.5.0",
      "model_name": "ProgressStyleModel",
      "state": {
       "_model_module": "@jupyter-widgets/controls",
       "_model_module_version": "1.5.0",
       "_model_name": "ProgressStyleModel",
       "_view_count": null,
       "_view_module": "@jupyter-widgets/base",
       "_view_module_version": "1.2.0",
       "_view_name": "StyleView",
       "bar_color": null,
       "description_width": ""
      }
     },
     "e6b1d3c3c30547d78469c6228e6239db": {
      "model_module": "@jupyter-widgets/controls",
      "model_module_version": "1.5.0",
      "model_name": "HTMLModel",
      "state": {
       "_dom_classes": [],
       "_model_module": "@jupyter-widgets/controls",
       "_model_module_version": "1.5.0",
       "_model_name": "HTMLModel",
       "_view_count": null,
       "_view_module": "@jupyter-widgets/controls",
       "_view_module_version": "1.5.0",
       "_view_name": "HTMLView",
       "description": "",
       "description_tooltip": null,
       "layout": "IPY_MODEL_da67729f9eab4c55a1d43744bd624e09",
       "placeholder": "​",
       "style": "IPY_MODEL_5b90ebaa53fa4c999debdef0092e86cf",
       "value": " 286/286 [00:00&lt;00:00, 22.1kB/s]"
      }
     },
     "ecae265532054af39e0c7167536213f8": {
      "model_module": "@jupyter-widgets/controls",
      "model_module_version": "1.5.0",
      "model_name": "ProgressStyleModel",
      "state": {
       "_model_module": "@jupyter-widgets/controls",
       "_model_module_version": "1.5.0",
       "_model_name": "ProgressStyleModel",
       "_view_count": null,
       "_view_module": "@jupyter-widgets/base",
       "_view_module_version": "1.2.0",
       "_view_name": "StyleView",
       "bar_color": null,
       "description_width": ""
      }
     },
     "ee2fdbc6d0ce4becbfe1fbd19733bd4e": {
      "model_module": "@jupyter-widgets/controls",
      "model_module_version": "1.5.0",
      "model_name": "HTMLModel",
      "state": {
       "_dom_classes": [],
       "_model_module": "@jupyter-widgets/controls",
       "_model_module_version": "1.5.0",
       "_model_name": "HTMLModel",
       "_view_count": null,
       "_view_module": "@jupyter-widgets/controls",
       "_view_module_version": "1.5.0",
       "_view_name": "HTMLView",
       "description": "",
       "description_tooltip": null,
       "layout": "IPY_MODEL_19d2dc9fb413428b9063720d970f791c",
       "placeholder": "​",
       "style": "IPY_MODEL_7c59493851b3479e98f3739c89678b34",
       "value": "config_sentence_transformers.json: 100%"
      }
     },
     "ee9e9f160a4c41e7bf5b2a3fcb881109": {
      "model_module": "@jupyter-widgets/controls",
      "model_module_version": "1.5.0",
      "model_name": "HBoxModel",
      "state": {
       "_dom_classes": [],
       "_model_module": "@jupyter-widgets/controls",
       "_model_module_version": "1.5.0",
       "_model_name": "HBoxModel",
       "_view_count": null,
       "_view_module": "@jupyter-widgets/controls",
       "_view_module_version": "1.5.0",
       "_view_name": "HBoxView",
       "box_style": "",
       "children": [
        "IPY_MODEL_ee2fdbc6d0ce4becbfe1fbd19733bd4e",
        "IPY_MODEL_5744ec05b1214e42bb9ce1803306c967",
        "IPY_MODEL_c9aabe447fe24491b05f4e25481dff29"
       ],
       "layout": "IPY_MODEL_42886715c3014a8286d71daeb20e6a8a"
      }
     },
     "ef0fe0c985e14bd0bf4ed6b37922415b": {
      "model_module": "@jupyter-widgets/base",
      "model_module_version": "1.2.0",
      "model_name": "LayoutModel",
      "state": {
       "_model_module": "@jupyter-widgets/base",
       "_model_module_version": "1.2.0",
       "_model_name": "LayoutModel",
       "_view_count": null,
       "_view_module": "@jupyter-widgets/base",
       "_view_module_version": "1.2.0",
       "_view_name": "LayoutView",
       "align_content": null,
       "align_items": null,
       "align_self": null,
       "border": null,
       "bottom": null,
       "display": null,
       "flex": null,
       "flex_flow": null,
       "grid_area": null,
       "grid_auto_columns": null,
       "grid_auto_flow": null,
       "grid_auto_rows": null,
       "grid_column": null,
       "grid_gap": null,
       "grid_row": null,
       "grid_template_areas": null,
       "grid_template_columns": null,
       "grid_template_rows": null,
       "height": null,
       "justify_content": null,
       "justify_items": null,
       "left": null,
       "margin": null,
       "max_height": null,
       "max_width": null,
       "min_height": null,
       "min_width": null,
       "object_fit": null,
       "object_position": null,
       "order": null,
       "overflow": null,
       "overflow_x": null,
       "overflow_y": null,
       "padding": null,
       "right": null,
       "top": null,
       "visibility": null,
       "width": null
      }
     },
     "f061423e6e44471291232517e946f764": {
      "model_module": "@jupyter-widgets/controls",
      "model_module_version": "1.5.0",
      "model_name": "ProgressStyleModel",
      "state": {
       "_model_module": "@jupyter-widgets/controls",
       "_model_module_version": "1.5.0",
       "_model_name": "ProgressStyleModel",
       "_view_count": null,
       "_view_module": "@jupyter-widgets/base",
       "_view_module_version": "1.2.0",
       "_view_name": "StyleView",
       "bar_color": null,
       "description_width": ""
      }
     },
     "f2a31817557645c6874e41688e34b5b9": {
      "model_module": "@jupyter-widgets/controls",
      "model_module_version": "1.5.0",
      "model_name": "HTMLModel",
      "state": {
       "_dom_classes": [],
       "_model_module": "@jupyter-widgets/controls",
       "_model_module_version": "1.5.0",
       "_model_name": "HTMLModel",
       "_view_count": null,
       "_view_module": "@jupyter-widgets/controls",
       "_view_module_version": "1.5.0",
       "_view_name": "HTMLView",
       "description": "",
       "description_tooltip": null,
       "layout": "IPY_MODEL_42bba38232f14613a93978d9705e2c11",
       "placeholder": "​",
       "style": "IPY_MODEL_dd732259a5fb4eb58d5ed4487d3ede6d",
       "value": " 255/255 [00:00&lt;00:00, 19.5kB/s]"
      }
     },
     "f3d07fed64b748239208f9a2aa01aaf4": {
      "model_module": "@jupyter-widgets/controls",
      "model_module_version": "1.5.0",
      "model_name": "DescriptionStyleModel",
      "state": {
       "_model_module": "@jupyter-widgets/controls",
       "_model_module_version": "1.5.0",
       "_model_name": "DescriptionStyleModel",
       "_view_count": null,
       "_view_module": "@jupyter-widgets/base",
       "_view_module_version": "1.2.0",
       "_view_name": "StyleView",
       "description_width": ""
      }
     },
     "f4eef941104b40b5aeefc5fe4b76ba8f": {
      "model_module": "@jupyter-widgets/base",
      "model_module_version": "1.2.0",
      "model_name": "LayoutModel",
      "state": {
       "_model_module": "@jupyter-widgets/base",
       "_model_module_version": "1.2.0",
       "_model_name": "LayoutModel",
       "_view_count": null,
       "_view_module": "@jupyter-widgets/base",
       "_view_module_version": "1.2.0",
       "_view_name": "LayoutView",
       "align_content": null,
       "align_items": null,
       "align_self": null,
       "border": null,
       "bottom": null,
       "display": null,
       "flex": null,
       "flex_flow": null,
       "grid_area": null,
       "grid_auto_columns": null,
       "grid_auto_flow": null,
       "grid_auto_rows": null,
       "grid_column": null,
       "grid_gap": null,
       "grid_row": null,
       "grid_template_areas": null,
       "grid_template_columns": null,
       "grid_template_rows": null,
       "height": null,
       "justify_content": null,
       "justify_items": null,
       "left": null,
       "margin": null,
       "max_height": null,
       "max_width": null,
       "min_height": null,
       "min_width": null,
       "object_fit": null,
       "object_position": null,
       "order": null,
       "overflow": null,
       "overflow_x": null,
       "overflow_y": null,
       "padding": null,
       "right": null,
       "top": null,
       "visibility": null,
       "width": null
      }
     },
     "f78c7ece16704ece82d604087e73753b": {
      "model_module": "@jupyter-widgets/base",
      "model_module_version": "1.2.0",
      "model_name": "LayoutModel",
      "state": {
       "_model_module": "@jupyter-widgets/base",
       "_model_module_version": "1.2.0",
       "_model_name": "LayoutModel",
       "_view_count": null,
       "_view_module": "@jupyter-widgets/base",
       "_view_module_version": "1.2.0",
       "_view_name": "LayoutView",
       "align_content": null,
       "align_items": null,
       "align_self": null,
       "border": null,
       "bottom": null,
       "display": null,
       "flex": null,
       "flex_flow": null,
       "grid_area": null,
       "grid_auto_columns": null,
       "grid_auto_flow": null,
       "grid_auto_rows": null,
       "grid_column": null,
       "grid_gap": null,
       "grid_row": null,
       "grid_template_areas": null,
       "grid_template_columns": null,
       "grid_template_rows": null,
       "height": null,
       "justify_content": null,
       "justify_items": null,
       "left": null,
       "margin": null,
       "max_height": null,
       "max_width": null,
       "min_height": null,
       "min_width": null,
       "object_fit": null,
       "object_position": null,
       "order": null,
       "overflow": null,
       "overflow_x": null,
       "overflow_y": null,
       "padding": null,
       "right": null,
       "top": null,
       "visibility": null,
       "width": null
      }
     },
     "fdfe979cdef34cc4b8f100064a5d8a38": {
      "model_module": "@jupyter-widgets/controls",
      "model_module_version": "1.5.0",
      "model_name": "ProgressStyleModel",
      "state": {
       "_model_module": "@jupyter-widgets/controls",
       "_model_module_version": "1.5.0",
       "_model_name": "ProgressStyleModel",
       "_view_count": null,
       "_view_module": "@jupyter-widgets/base",
       "_view_module_version": "1.2.0",
       "_view_name": "StyleView",
       "bar_color": null,
       "description_width": ""
      }
     },
     "ff5fc47511164b7b8a172a458e68634a": {
      "model_module": "@jupyter-widgets/controls",
      "model_module_version": "1.5.0",
      "model_name": "FloatProgressModel",
      "state": {
       "_dom_classes": [],
       "_model_module": "@jupyter-widgets/controls",
       "_model_module_version": "1.5.0",
       "_model_name": "FloatProgressModel",
       "_view_count": null,
       "_view_module": "@jupyter-widgets/controls",
       "_view_module_version": "1.5.0",
       "_view_name": "ProgressView",
       "bar_style": "success",
       "description": "",
       "description_tooltip": null,
       "layout": "IPY_MODEL_7be35d4253f84fd484294089d6d43f35",
       "max": 286.0,
       "min": 0.0,
       "orientation": "horizontal",
       "style": "IPY_MODEL_6715e732dfdb47708f8860c608a4e537",
       "value": 286.0
      }
     },
     "fffa995d7faa49e49d2e1d5686b24398": {
      "model_module": "@jupyter-widgets/controls",
      "model_module_version": "1.5.0",
      "model_name": "FloatProgressModel",
      "state": {
       "_dom_classes": [],
       "_model_module": "@jupyter-widgets/controls",
       "_model_module_version": "1.5.0",
       "_model_name": "FloatProgressModel",
       "_view_count": null,
       "_view_module": "@jupyter-widgets/controls",
       "_view_module_version": "1.5.0",
       "_view_name": "ProgressView",
       "bar_style": "success",
       "description": "",
       "description_tooltip": null,
       "layout": "IPY_MODEL_ef0fe0c985e14bd0bf4ed6b37922415b",
       "max": 71239.0,
       "min": 0.0,
       "orientation": "horizontal",
       "style": "IPY_MODEL_3681cb435cff459db120d828033d4357",
       "value": 71239.0
      }
     }
    },
    "version_major": 2,
    "version_minor": 0
   }
  }
 },
 "nbformat": 4,
 "nbformat_minor": 5
}
